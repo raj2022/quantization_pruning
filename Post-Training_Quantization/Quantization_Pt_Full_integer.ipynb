{
 "cells": [
  {
   "cell_type": "code",
   "execution_count": 1,
   "id": "67ba1864-8b07-4ac2-911d-cc2af2eb510c",
   "metadata": {},
   "outputs": [],
   "source": [
    "%matplotlib inline\n",
    "from matplotlib import pyplot as plt\n",
    "import numpy as np"
   ]
  },
  {
   "cell_type": "code",
   "execution_count": 2,
   "id": "29a2bf46-04ff-4dc7-aa58-856632f76f9e",
   "metadata": {},
   "outputs": [
    {
     "name": "stderr",
     "output_type": "stream",
     "text": [
      "WARNING:root:horovod not found, ignoring\n",
      "2024-02-02 12:00:26.054362: I external/local_tsl/tsl/cuda/cudart_stub.cc:31] Could not find cuda drivers on your machine, GPU will not be used.\n",
      "2024-02-02 12:00:26.278695: E external/local_xla/xla/stream_executor/cuda/cuda_dnn.cc:9261] Unable to register cuDNN factory: Attempting to register factory for plugin cuDNN when one has already been registered\n",
      "2024-02-02 12:00:26.278901: E external/local_xla/xla/stream_executor/cuda/cuda_fft.cc:607] Unable to register cuFFT factory: Attempting to register factory for plugin cuFFT when one has already been registered\n",
      "2024-02-02 12:00:26.321346: E external/local_xla/xla/stream_executor/cuda/cuda_blas.cc:1515] Unable to register cuBLAS factory: Attempting to register factory for plugin cuBLAS when one has already been registered\n",
      "2024-02-02 12:00:26.406090: I external/local_tsl/tsl/cuda/cudart_stub.cc:31] Could not find cuda drivers on your machine, GPU will not be used.\n",
      "2024-02-02 12:00:26.406932: I tensorflow/core/platform/cpu_feature_guard.cc:182] This TensorFlow binary is optimized to use available CPU instructions in performance-critical operations.\n",
      "To enable the following instructions: AVX2 FMA, in other operations, rebuild TensorFlow with the appropriate compiler flags.\n",
      "2024-02-02 12:00:27.338864: W tensorflow/compiler/tf2tensorrt/utils/py_utils.cc:38] TF-TRT Warning: Could not find TensorRT\n",
      "WARNING:root:horovod not found, ignoring\n"
     ]
    }
   ],
   "source": [
    "import sys\n",
    "sys.path += [\"../../../particleflow/mlpf/\"]\n",
    "from tfmodel.model_setup import make_model\n",
    "from tfmodel.utils import parse_config\n",
    "\n",
    "import tensorflow as tf\n",
    "import tensorflow_datasets as tfds\n",
    "\n",
    "import pathlib\n",
    "\n",
    "\n",
    "\n"
   ]
  },
  {
   "cell_type": "code",
   "execution_count": 3,
   "id": "524dac93-72df-4fa2-813c-70d753a5ab41",
   "metadata": {},
   "outputs": [],
   "source": [
    "ds_builder = tfds.builder(\"clic_edm_qq_pf\", data_dir = '../../tensorflow_datasets/') # Tensorflow datsets positions in the lxplus\n",
    "dss = ds_builder.as_data_source(\"test\")"
   ]
  },
  {
   "cell_type": "code",
   "execution_count": 4,
   "id": "683e4ab3-d8c8-4fca-b519-06a5dfd3f7e3",
   "metadata": {},
   "outputs": [],
   "source": [
    "def yield_from_ds():\n",
    "    for elem in dss:\n",
    "        yield {\"X\": elem[\"X\"], \"ygen\": elem[\"ygen\"], \"ycand\": elem[\"ycand\"]}"
   ]
  },
  {
   "cell_type": "code",
   "execution_count": 5,
   "id": "49169cca-9a57-4f14-a7b5-d01fc240436b",
   "metadata": {},
   "outputs": [],
   "source": [
    "output_signature = {k: tf.TensorSpec(shape=(None, v.shape[1])) for (k, v) in dss.dataset_info.features.items()}\n",
    "tf_dataset = tf.data.Dataset.from_generator(yield_from_ds, output_signature=output_signature).take(100).padded_batch(batch_size=10)"
   ]
  },
  {
   "cell_type": "code",
   "execution_count": 6,
   "id": "330b7e61",
   "metadata": {},
   "outputs": [
    {
     "data": {
      "text/plain": [
       "{'X': TensorSpec(shape=(None, 17), dtype=tf.float32, name=None),\n",
       " 'ycand': TensorSpec(shape=(None, 8), dtype=tf.float32, name=None),\n",
       " 'ygen': TensorSpec(shape=(None, 8), dtype=tf.float32, name=None)}"
      ]
     },
     "execution_count": 6,
     "metadata": {},
     "output_type": "execute_result"
    }
   ],
   "source": [
    "output_signature"
   ]
  },
  {
   "cell_type": "code",
   "execution_count": 7,
   "id": "6c4b4ae4-8648-4208-831a-28920fe8e227",
   "metadata": {},
   "outputs": [],
   "source": [
    "data = list(tfds.as_numpy(tf_dataset))"
   ]
  },
  {
   "cell_type": "code",
   "execution_count": 8,
   "id": "0e8df81a-984a-4d1f-89fb-94710773e349",
   "metadata": {},
   "outputs": [],
   "source": [
    "Xs = [d[\"X\"] for d in data]\n",
    "ys = [d[\"ygen\"] for d in data]"
   ]
  },
  {
   "cell_type": "code",
   "execution_count": 9,
   "id": "3502c07b",
   "metadata": {},
   "outputs": [
    {
     "data": {
      "text/plain": [
       "array([[ 1.        , -1.        ,  3.5555263 ,  0.22640967],\n",
       "       [ 1.        , -1.        ,  2.4462407 ,  0.195159  ],\n",
       "       [ 1.        ,  1.        ,  0.8356094 , -0.5446882 ],\n",
       "       [ 1.        ,  1.        ,  0.85157084, -1.37132   ],\n",
       "       [ 1.        ,  1.        ,  0.6311886 , -0.9460032 ],\n",
       "       [ 1.        ,  1.        ,  0.560444  , -0.38950145],\n",
       "       [ 1.        , -1.        ,  0.50040615, -0.29128084],\n",
       "       [ 1.        , -1.        ,  0.40326795,  0.19255948],\n",
       "       [ 1.        ,  1.        ,  0.37885737,  0.12188682],\n",
       "       [ 1.        , -1.        ,  0.36663368, -2.1641972 ],\n",
       "       [ 1.        ,  1.        ,  0.3846691 ,  0.68863004],\n",
       "       [ 1.        ,  1.        ,  0.3615032 , -0.81029856],\n",
       "       [ 1.        , -1.        ,  0.18166022,  0.15179   ],\n",
       "       [ 1.        , -1.        ,  0.21182844,  1.8761586 ],\n",
       "       [ 0.        ,  0.        ,  0.        ,  0.        ],\n",
       "       [ 1.        , -1.        ,  0.16170818, -0.88895464],\n",
       "       [ 1.        ,  1.        ,  0.16837215, -2.5320294 ],\n",
       "       [ 0.        ,  0.        ,  0.        ,  0.        ],\n",
       "       [ 0.        ,  0.        ,  0.        ,  0.        ],\n",
       "       [ 0.        ,  0.        ,  0.        ,  0.        ],\n",
       "       [ 0.        ,  0.        ,  0.        ,  0.        ],\n",
       "       [ 0.        ,  0.        ,  0.        ,  0.        ],\n",
       "       [ 0.        ,  0.        ,  0.        ,  0.        ],\n",
       "       [ 0.        ,  0.        ,  0.        ,  0.        ],\n",
       "       [ 0.        ,  0.        ,  0.        ,  0.        ],\n",
       "       [ 0.        ,  0.        ,  0.        ,  0.        ],\n",
       "       [ 0.        ,  0.        ,  0.        ,  0.        ],\n",
       "       [ 0.        ,  0.        ,  0.        ,  0.        ],\n",
       "       [ 0.        ,  0.        ,  0.        ,  0.        ],\n",
       "       [ 0.        ,  0.        ,  0.        ,  0.        ],\n",
       "       [ 3.        ,  0.        ,  0.10117695, -1.9689156 ],\n",
       "       [ 0.        ,  0.        ,  0.        ,  0.        ],\n",
       "       [ 0.        ,  0.        ,  0.        ,  0.        ],\n",
       "       [ 3.        ,  0.        ,  0.8967321 ,  0.5121469 ],\n",
       "       [ 0.        ,  0.        ,  0.        ,  0.        ],\n",
       "       [ 0.        ,  0.        ,  0.        ,  0.        ],\n",
       "       [ 3.        ,  0.        ,  0.18169323, -0.7437678 ],\n",
       "       [ 3.        ,  0.        ,  0.2710412 , -0.509132  ],\n",
       "       [ 2.        ,  0.        ,  2.4830642 ,  0.16444711],\n",
       "       [ 3.        ,  0.        ,  0.20552857,  0.60833263],\n",
       "       [ 2.        ,  0.        ,  0.50001186, -0.45001644],\n",
       "       [ 3.        ,  0.        ,  0.08824672,  0.12611386],\n",
       "       [ 0.        ,  0.        ,  0.        ,  0.        ],\n",
       "       [ 0.        ,  0.        ,  0.        ,  0.        ],\n",
       "       [ 0.        ,  0.        ,  0.        ,  0.        ],\n",
       "       [ 0.        ,  0.        ,  0.        ,  0.        ],\n",
       "       [ 0.        ,  0.        ,  0.        ,  0.        ],\n",
       "       [ 2.        ,  0.        ,  1.6043317 , -3.3909476 ],\n",
       "       [ 0.        ,  0.        ,  0.        ,  0.        ],\n",
       "       [ 0.        ,  0.        ,  0.        ,  0.        ],\n",
       "       [ 0.        ,  0.        ,  0.        ,  0.        ],\n",
       "       [ 0.        ,  0.        ,  0.        ,  0.        ],\n",
       "       [ 0.        ,  0.        ,  0.        ,  0.        ],\n",
       "       [ 0.        ,  0.        ,  0.        ,  0.        ],\n",
       "       [ 0.        ,  0.        ,  0.        ,  0.        ],\n",
       "       [ 0.        ,  0.        ,  0.        ,  0.        ],\n",
       "       [ 0.        ,  0.        ,  0.        ,  0.        ],\n",
       "       [ 0.        ,  0.        ,  0.        ,  0.        ],\n",
       "       [ 0.        ,  0.        ,  0.        ,  0.        ],\n",
       "       [ 0.        ,  0.        ,  0.        ,  0.        ],\n",
       "       [ 0.        ,  0.        ,  0.        ,  0.        ],\n",
       "       [ 0.        ,  0.        ,  0.        ,  0.        ],\n",
       "       [ 0.        ,  0.        ,  0.        ,  0.        ],\n",
       "       [ 0.        ,  0.        ,  0.        ,  0.        ],\n",
       "       [ 0.        ,  0.        ,  0.        ,  0.        ],\n",
       "       [ 0.        ,  0.        ,  0.        ,  0.        ],\n",
       "       [ 0.        ,  0.        ,  0.        ,  0.        ],\n",
       "       [ 0.        ,  0.        ,  0.        ,  0.        ],\n",
       "       [ 0.        ,  0.        ,  0.        ,  0.        ],\n",
       "       [ 0.        ,  0.        ,  0.        ,  0.        ],\n",
       "       [ 0.        ,  0.        ,  0.        ,  0.        ],\n",
       "       [ 0.        ,  0.        ,  0.        ,  0.        ],\n",
       "       [ 0.        ,  0.        ,  0.        ,  0.        ],\n",
       "       [ 0.        ,  0.        ,  0.        ,  0.        ],\n",
       "       [ 0.        ,  0.        ,  0.        ,  0.        ],\n",
       "       [ 0.        ,  0.        ,  0.        ,  0.        ],\n",
       "       [ 0.        ,  0.        ,  0.        ,  0.        ],\n",
       "       [ 0.        ,  0.        ,  0.        ,  0.        ],\n",
       "       [ 0.        ,  0.        ,  0.        ,  0.        ],\n",
       "       [ 0.        ,  0.        ,  0.        ,  0.        ],\n",
       "       [ 0.        ,  0.        ,  0.        ,  0.        ],\n",
       "       [ 0.        ,  0.        ,  0.        ,  0.        ],\n",
       "       [ 0.        ,  0.        ,  0.        ,  0.        ],\n",
       "       [ 0.        ,  0.        ,  0.        ,  0.        ],\n",
       "       [ 0.        ,  0.        ,  0.        ,  0.        ],\n",
       "       [ 0.        ,  0.        ,  0.        ,  0.        ],\n",
       "       [ 0.        ,  0.        ,  0.        ,  0.        ],\n",
       "       [ 0.        ,  0.        ,  0.        ,  0.        ],\n",
       "       [ 0.        ,  0.        ,  0.        ,  0.        ],\n",
       "       [ 0.        ,  0.        ,  0.        ,  0.        ],\n",
       "       [ 0.        ,  0.        ,  0.        ,  0.        ],\n",
       "       [ 0.        ,  0.        ,  0.        ,  0.        ],\n",
       "       [ 0.        ,  0.        ,  0.        ,  0.        ],\n",
       "       [ 0.        ,  0.        ,  0.        ,  0.        ],\n",
       "       [ 0.        ,  0.        ,  0.        ,  0.        ],\n",
       "       [ 0.        ,  0.        ,  0.        ,  0.        ],\n",
       "       [ 0.        ,  0.        ,  0.        ,  0.        ],\n",
       "       [ 0.        ,  0.        ,  0.        ,  0.        ],\n",
       "       [ 0.        ,  0.        ,  0.        ,  0.        ],\n",
       "       [ 0.        ,  0.        ,  0.        ,  0.        ],\n",
       "       [ 0.        ,  0.        ,  0.        ,  0.        ],\n",
       "       [ 0.        ,  0.        ,  0.        ,  0.        ],\n",
       "       [ 0.        ,  0.        ,  0.        ,  0.        ],\n",
       "       [ 0.        ,  0.        ,  0.        ,  0.        ],\n",
       "       [ 0.        ,  0.        ,  0.        ,  0.        ],\n",
       "       [ 0.        ,  0.        ,  0.        ,  0.        ],\n",
       "       [ 0.        ,  0.        ,  0.        ,  0.        ],\n",
       "       [ 0.        ,  0.        ,  0.        ,  0.        ],\n",
       "       [ 0.        ,  0.        ,  0.        ,  0.        ],\n",
       "       [ 0.        ,  0.        ,  0.        ,  0.        ],\n",
       "       [ 0.        ,  0.        ,  0.        ,  0.        ]],\n",
       "      dtype=float32)"
      ]
     },
     "execution_count": 9,
     "metadata": {},
     "output_type": "execute_result"
    }
   ],
   "source": [
    "ys[0][9][:,:4]"
   ]
  },
  {
   "cell_type": "code",
   "execution_count": 10,
   "id": "a4004e28-c5ad-4b7f-b05d-4a8d4e4555b0",
   "metadata": {},
   "outputs": [
    {
     "data": {
      "text/plain": [
       "(10, 111, 17)"
      ]
     },
     "execution_count": 10,
     "metadata": {},
     "output_type": "execute_result"
    }
   ],
   "source": [
    "#batch 0, max 111 particles per event\n",
    "Xs[0].shape"
   ]
  },
  {
   "cell_type": "code",
   "execution_count": 11,
   "id": "8a5641a6-9b84-48ea-b7cc-4410e171c870",
   "metadata": {},
   "outputs": [
    {
     "data": {
      "text/plain": [
       "(10, 90, 17)"
      ]
     },
     "execution_count": 11,
     "metadata": {},
     "output_type": "execute_result"
    }
   ],
   "source": [
    "#batch 3 has 10 events, max 90 particles per event\n",
    "Xs[3].shape"
   ]
  },
  {
   "cell_type": "code",
   "execution_count": 12,
   "id": "df137e8e",
   "metadata": {},
   "outputs": [
    {
     "name": "stdout",
     "output_type": "stream",
     "text": [
      "Lengths of sublists in Xs: [10, 10, 10, 10, 10, 10, 10, 10, 10, 10]\n"
     ]
    }
   ],
   "source": [
    "# Check the lengths of sublists in Xs\n",
    "sublist_lengths = [len(sublist) for sublist in Xs]\n",
    "print(\"Lengths of sublists in Xs:\", sublist_lengths)\n"
   ]
  },
  {
   "cell_type": "code",
   "execution_count": 13,
   "id": "07e22c24",
   "metadata": {},
   "outputs": [
    {
     "name": "stdout",
     "output_type": "stream",
     "text": [
      "Shape of X_q: (10, 111, 17)\n",
      "Shape of X_q: (10, 186, 17)\n",
      "Shape of X_q: (10, 142, 17)\n",
      "Shape of X_q: (10, 90, 17)\n",
      "Shape of X_q: (10, 111, 17)\n",
      "Shape of X_q: (10, 195, 17)\n",
      "Shape of X_q: (10, 100, 17)\n",
      "Shape of X_q: (10, 81, 17)\n",
      "Shape of X_q: (10, 130, 17)\n",
      "Shape of X_q: (10, 147, 17)\n"
     ]
    }
   ],
   "source": [
    "for X_q in Xs:\n",
    "    print(\"Shape of X_q:\", X_q.shape) "
   ]
  },
  {
   "cell_type": "code",
   "execution_count": 14,
   "id": "b3ea086f",
   "metadata": {},
   "outputs": [
    {
     "name": "stdout",
     "output_type": "stream",
     "text": [
      "Shape of yq: (10, 111, 8)\n",
      "Shape of yq: (10, 186, 8)\n",
      "Shape of yq: (10, 142, 8)\n",
      "Shape of yq: (10, 90, 8)\n",
      "Shape of yq: (10, 111, 8)\n",
      "Shape of yq: (10, 195, 8)\n",
      "Shape of yq: (10, 100, 8)\n",
      "Shape of yq: (10, 81, 8)\n",
      "Shape of yq: (10, 130, 8)\n",
      "Shape of yq: (10, 147, 8)\n"
     ]
    }
   ],
   "source": [
    "for y_q in ys:\n",
    "    print(\"Shape of yq:\", y_q.shape)"
   ]
  },
  {
   "cell_type": "markdown",
   "id": "de2bbb16",
   "metadata": {},
   "source": [
    "## Quantizing the model\n",
    "### post-training dynamic range quantization"
   ]
  },
  {
   "cell_type": "markdown",
   "id": "710b543b",
   "metadata": {},
   "source": [
    "Quantizing with post-training dynamic range quantization.\n",
    "Using the TensorFlow Lite Converter, you can now convert the trained model into a TensorFlow Lite model.\n",
    "\n"
   ]
  },
  {
   "cell_type": "code",
   "execution_count": 15,
   "id": "fa15d4b7-529e-431d-a62c-93811b0caeb7",
   "metadata": {},
   "outputs": [],
   "source": [
    "config, _ = parse_config(\"../../../particleflow/parameters/clic.yaml\") #positions on the lxplus\n",
    "config[\"setup\"][\"multi_output\"] = False\n",
    "model = make_model(config, tf.float32)\n",
    "Xdummy = np.zeros((10,256,17), dtype=np.float32)\n",
    "model(Xdummy)\n",
    "model.load_weights(\"weights-96-5.346523.hdf5\", skip_mismatch=False, by_name=True)"
   ]
  },
  {
   "cell_type": "code",
   "execution_count": 16,
   "id": "60690ac3",
   "metadata": {
    "scrolled": true
   },
   "outputs": [
    {
     "name": "stdout",
     "output_type": "stream",
     "text": [
      "Model: \"pf_net_dense\"\n",
      "_________________________________________________________________\n",
      " Layer (type)                Output Shape              Param #   \n",
      "=================================================================\n",
      " normalization (Normalizati  multiple                  33        \n",
      " on)                                                             \n",
      "                                                                 \n",
      " node_encoding (Sequential)  (10, 256, 256)            70912     \n",
      "                                                                 \n",
      " input_encoding_clic (Input  multiple                  0         \n",
      " EncodingCLIC)                                                   \n",
      "                                                                 \n",
      " cg_id_0 (CombinedGraphLaye  multiple                  440128    \n",
      " r)                                                              \n",
      "                                                                 \n",
      " cg_id_1 (CombinedGraphLaye  multiple                  440128    \n",
      " r)                                                              \n",
      "                                                                 \n",
      " cg_id_2 (CombinedGraphLaye  multiple                  440128    \n",
      " r)                                                              \n",
      "                                                                 \n",
      " cg_id_3 (CombinedGraphLaye  multiple                  440128    \n",
      " r)                                                              \n",
      "                                                                 \n",
      " cg_id_4 (CombinedGraphLaye  multiple                  440128    \n",
      " r)                                                              \n",
      "                                                                 \n",
      " cg_id_5 (CombinedGraphLaye  multiple                  440128    \n",
      " r)                                                              \n",
      "                                                                 \n",
      " cg_reg_0 (CombinedGraphLay  multiple                  440128    \n",
      " er)                                                             \n",
      "                                                                 \n",
      " cg_reg_1 (CombinedGraphLay  multiple                  440128    \n",
      " er)                                                             \n",
      "                                                                 \n",
      " cg_reg_2 (CombinedGraphLay  multiple                  440128    \n",
      " er)                                                             \n",
      "                                                                 \n",
      " cg_reg_3 (CombinedGraphLay  multiple                  440128    \n",
      " er)                                                             \n",
      "                                                                 \n",
      " cg_reg_4 (CombinedGraphLay  multiple                  440128    \n",
      " er)                                                             \n",
      "                                                                 \n",
      " cg_reg_5 (CombinedGraphLay  multiple                  440128    \n",
      " er)                                                             \n",
      "                                                                 \n",
      " output_decoding (OutputDec  multiple                  269967    \n",
      " oding)                                                          \n",
      "                                                                 \n",
      "=================================================================\n",
      "Total params: 5622448 (21.45 MB)\n",
      "Trainable params: 5468815 (20.86 MB)\n",
      "Non-trainable params: 153633 (600.13 KB)\n",
      "_________________________________________________________________\n"
     ]
    }
   ],
   "source": [
    "model.summary()"
   ]
  },
  {
   "cell_type": "code",
   "execution_count": 17,
   "id": "d125ecc7",
   "metadata": {},
   "outputs": [
    {
     "name": "stdout",
     "output_type": "stream",
     "text": [
      "(10, 111, 17)\n",
      "(10, 186, 17)\n",
      "(10, 142, 17)\n",
      "(10, 90, 17)\n",
      "(10, 111, 17)\n",
      "(10, 195, 17)\n",
      "(10, 100, 17)\n",
      "(10, 81, 17)\n",
      "(10, 130, 17)\n",
      "(10, 147, 17)\n"
     ]
    }
   ],
   "source": [
    "true_pts = []\n",
    "pred_pts = []\n",
    "#loop over batches\n",
    "for i in range(len(Xs)):\n",
    "    this_X = Xs[i]\n",
    "    print(this_X.shape)\n",
    "    pad_size = [[0,0],[0,Xdummy.shape[1]-this_X.shape[1]], [0,0]]\n",
    "    this_X = tf.pad(this_X, pad_size)\n",
    "    this_ys = tf.pad(ys[i], pad_size)\n",
    "\n",
    "    ret = model(this_X)\n",
    "    msk_true_part = this_ys[..., 0]!=0\n",
    "    true_pts.append(this_ys[msk_true_part][..., 2])\n",
    "    pred_pts.append(ret[msk_true_part][..., 9])\n",
    "true_pts = np.hstack(true_pts)\n",
    "pred_pts = np.hstack(pred_pts)"
   ]
  },
  {
   "cell_type": "code",
   "execution_count": 18,
   "id": "f98bc839-e121-4a88-a146-c4119b06d5c8",
   "metadata": {},
   "outputs": [
    {
     "data": {
      "text/plain": [
       "Text(0, 0.5, 'predicted pt')"
      ]
     },
     "execution_count": 18,
     "metadata": {},
     "output_type": "execute_result"
    },
    {
     "data": {
      "image/png": "[encoded data removed]",
      "text/plain": [
       "<Figure size 640x480 with 1 Axes>"
      ]
     },
     "metadata": {},
     "output_type": "display_data"
    }
   ],
   "source": [
    "plt.title(\"Direct model output from keras\")\n",
    "plt.scatter(true_pts, pred_pts)\n",
    "plt.xlabel(\"true pt\")\n",
    "plt.ylabel(\"predicted pt\")"
   ]
  },
  {
   "cell_type": "code",
   "execution_count": 19,
   "id": "03020282-29d5-4929-83cb-fcc86a18a6ea",
   "metadata": {},
   "outputs": [],
   "source": [
    "def representative_dataset():\n",
    "    for i in range(len(Xs)):\n",
    "        this_X = Xs[i]\n",
    "        pad_size = [[0,0],[0,Xdummy.shape[1]-this_X.shape[1]], [0,0]]\n",
    "        this_X = tf.pad(this_X, pad_size)\n",
    "        #yield [tf.clip_by_value(this_X, -1000, 1000)]\n",
    "        yield [this_X]\n",
    "        #yield [Xs[i]]\n"
   ]
  },
  {
   "cell_type": "code",
   "execution_count": 20,
   "id": "52629094-4087-45d0-a689-a87b220d6c37",
   "metadata": {},
   "outputs": [
    {
     "name": "stdout",
     "output_type": "stream",
     "text": [
      "tf.Tensor(3919.2617, shape=(), dtype=float32) tf.Tensor(-3914.5479, shape=(), dtype=float32)\n",
      "tf.Tensor(4024.4985, shape=(), dtype=float32) tf.Tensor(-3708.8445, shape=(), dtype=float32)\n",
      "tf.Tensor(3458.0308, shape=(), dtype=float32) tf.Tensor(-4052.0835, shape=(), dtype=float32)\n",
      "tf.Tensor(107094.65, shape=(), dtype=float32) tf.Tensor(-3970.2178, shape=(), dtype=float32)\n",
      "tf.Tensor(4110.499, shape=(), dtype=float32) tf.Tensor(-3964.783, shape=(), dtype=float32)\n",
      "tf.Tensor(3637.2292, shape=(), dtype=float32) tf.Tensor(-3177.4062, shape=(), dtype=float32)\n",
      "tf.Tensor(4067.0532, shape=(), dtype=float32) tf.Tensor(-3857.043, shape=(), dtype=float32)\n",
      "tf.Tensor(3032.948, shape=(), dtype=float32) tf.Tensor(-3638.6091, shape=(), dtype=float32)\n",
      "tf.Tensor(3653.201, shape=(), dtype=float32) tf.Tensor(-3358.871, shape=(), dtype=float32)\n",
      "tf.Tensor(3678.1904, shape=(), dtype=float32) tf.Tensor(-3952.1936, shape=(), dtype=float32)\n"
     ]
    }
   ],
   "source": [
    "for elem in representative_dataset():\n",
    "    print(tf.reduce_max(elem[0]), tf.reduce_min(elem[0]))"
   ]
  },
  {
   "cell_type": "code",
   "execution_count": null,
   "id": "3a07a9f2",
   "metadata": {},
   "outputs": [],
   "source": [
    "converter = tf.lite.TFLiteConverter.from_keras_model(model)\n",
    "converter.optimizations = [tf.lite.Optimize.DEFAULT]\n",
    "converter.target_spec.supported_ops = [tf.lite.OpsSet.TFLITE_BUILTINS_INT8]\n",
    "converter.representative_dataset = representative_dataset\n",
    "#converter.experimental_enable_quantizer = True\n",
    "tflite_model = converter.convert()"
   ]
  },
  {
   "cell_type": "markdown",
   "id": "13887b14-9f96-441b-b854-5f62080bf80b",
   "metadata": {},
   "source": [
    "Convert with debug options, check which tensors have a large discrepancy."
   ]
  },
  {
   "cell_type": "code",
   "execution_count": null,
   "id": "932bbab7-5e4f-4017-9b22-84aae4f0c72f",
   "metadata": {},
   "outputs": [],
   "source": [
    "debug_options = tf.lite.experimental.QuantizationDebugOptions()\n",
    "\n",
    "debugger = tf.lite.experimental.QuantizationDebugger(\n",
    "    converter=converter, debug_dataset=representative_dataset, debug_options=debug_options)\n",
    "\n",
    "debugger.run()\n",
    "\n",
    "RESULTS_FILE = 'debugger_results.csv'\n",
    "with open(RESULTS_FILE, 'w') as f:\n",
    "  debugger.layer_statistics_dump(f)"
   ]
  },
  {
   "cell_type": "code",
   "execution_count": null,
   "id": "ea61651f-283b-454d-b430-0af6375e95cb",
   "metadata": {},
   "outputs": [],
   "source": [
    "import pandas"
   ]
  },
  {
   "cell_type": "code",
   "execution_count": null,
   "id": "b6be1ab8-b935-4d69-b52b-fc63b88f600c",
   "metadata": {},
   "outputs": [],
   "source": [
    "debug_data = pandas.read_csv(\"debugger_results.csv\")"
   ]
  },
  {
   "cell_type": "code",
   "execution_count": null,
   "id": "a3a8af7b-f961-47ba-a76d-4c1d1679e430",
   "metadata": {},
   "outputs": [],
   "source": [
    "bad_tensors = list(debug_data[debug_data[\"mean_squared_error\"]>1e5].tensor_name.values)"
   ]
  },
  {
   "cell_type": "code",
   "execution_count": null,
   "id": "a8752a87-f0cd-4759-ae2b-7210c97e28bd",
   "metadata": {},
   "outputs": [],
   "source": [
    "bad_tensors"
   ]
  },
  {
   "cell_type": "markdown",
   "id": "47e78c08-875f-47e9-b2a4-beb6e3afa17a",
   "metadata": {},
   "source": [
    "Now convert again, excluding tensors that have a large discrepancy."
   ]
  },
  {
   "cell_type": "code",
   "execution_count": null,
   "id": "c8c75383-606f-4703-83f6-8dae7ca19bdf",
   "metadata": {},
   "outputs": [],
   "source": [
    "debug_options = tf.lite.experimental.QuantizationDebugOptions(\n",
    "    denylisted_nodes=bad_tensors\n",
    "    #denylisted_ops=[\"ONE_HOT\", \"SQUARED_DIFFERENCE\", \"RSQRT\", \"MUL\"]\n",
    ")\n",
    "\n",
    "debugger = tf.lite.experimental.QuantizationDebugger(\n",
    "    converter=converter, debug_dataset=representative_dataset, debug_options=debug_options)\n",
    "\n",
    "debugger.run()\n",
    "\n",
    "RESULTS_FILE = 'debugger_results2.csv'\n",
    "with open(RESULTS_FILE, 'w') as f:\n",
    "  debugger.layer_statistics_dump(f)"
   ]
  },
  {
   "cell_type": "markdown",
   "id": "d90feab7",
   "metadata": {},
   "source": [
    "Write it out to a tflite file:\n",
    "\n"
   ]
  },
  {
   "cell_type": "code",
   "execution_count": null,
   "id": "8508be81-b9ce-4c4a-849f-45190b4c529f",
   "metadata": {},
   "outputs": [],
   "source": [
    "debug_data = pandas.read_csv(\"debugger_results2.csv\")"
   ]
  },
  {
   "cell_type": "code",
   "execution_count": null,
   "id": "61e42a4d-540e-4710-a13d-16e33dbd1483",
   "metadata": {},
   "outputs": [],
   "source": [
    "debug_data[debug_data[\"mean_squared_error\"]>1e5].tensor_name.values"
   ]
  },
  {
   "cell_type": "code",
   "execution_count": null,
   "id": "c1fd6b3e-0786-4e7d-b019-70699a543c1c",
   "metadata": {},
   "outputs": [],
   "source": [
    "tflite_models_dir = pathlib.Path(\"tflite_models\")\n",
    "tflite_models_dir.mkdir(exist_ok=True, parents=True)\n",
    "tflite_model_quant_file = tflite_models_dir/\"model_quantized_int8.tflite\"\n",
    "tflite_model_quant_file.write_bytes(debugger.get_nondebug_quantized_model())"
   ]
  },
  {
   "cell_type": "markdown",
   "id": "4311e027",
   "metadata": {},
   "source": [
    "To quantize the model on export, set the optimizations flag to optimize for size:\n",
    "\n"
   ]
  },
  {
   "cell_type": "code",
   "execution_count": null,
   "id": "87605524",
   "metadata": {},
   "outputs": [],
   "source": [
    "converter = tf.lite.TFLiteConverter.from_keras_model(model)\n",
    "tflite_model = converter.convert()\n",
    "tflite_model_file = tflite_models_dir/\"model_unquantized.tflite\"\n",
    "tflite_model_file.write_bytes(tflite_model)\n"
   ]
  },
  {
   "cell_type": "markdown",
   "id": "bc73ac22",
   "metadata": {},
   "source": [
    "Run the TFLite models\n",
    "\n"
   ]
  },
  {
   "cell_type": "markdown",
   "id": "a446cca9",
   "metadata": {},
   "source": [
    "Test the model on the quantized data: https://www.tensorflow.org/lite/performance/post_training_quant\n",
    "\n"
   ]
  },
  {
   "cell_type": "code",
   "execution_count": null,
   "id": "a6a843be",
   "metadata": {},
   "outputs": [],
   "source": [
    "true_pts = []\n",
    "pred_pts = []\n",
    "pred_pts_quantized = []\n",
    "\n",
    "interpreter = tf.lite.Interpreter(model_path=str(tflite_model_file))\n",
    "interpreter.allocate_tensors()\n",
    "input_index1 = interpreter.get_input_details()[0][\"index\"]\n",
    "output_index1 = interpreter.get_output_details()[0][\"index\"]\n",
    "\n",
    "interpreter_quant = tf.lite.Interpreter(model_path=str(tflite_model_quant_file))\n",
    "interpreter_quant.allocate_tensors()\n",
    "input_index2 = interpreter_quant.get_input_details()[0][\"index\"]\n",
    "output_index2 = interpreter_quant.get_output_details()[0][\"index\"]\n",
    "\n",
    "#for ibatch in range(len(Xs)):\n",
    "for ibatch in range(1):\n",
    "    for iev in range(len(Xs[ibatch])):\n",
    "        this_X = tf.expand_dims(Xs[ibatch][iev], 0)\n",
    "        print(this_X.shape)\n",
    "        pad_size = [[0,0],[0,Xdummy.shape[1]-this_X.shape[1]], [0,0]]\n",
    "        this_X = tf.pad(this_X, pad_size)\n",
    "        this_ys = tf.pad(ys[ibatch][iev], pad_size[1:])\n",
    "        \n",
    "        interpreter.set_tensor(input_index1, this_X)\n",
    "        interpreter.invoke()\n",
    "        \n",
    "        interpreter_quant.set_tensor(input_index2, this_X)\n",
    "        interpreter_quant.invoke()\n",
    "        \n",
    "        mask_true_particles = this_ys[..., 0] != 0\n",
    "        true_pt = this_ys[mask_true_particles][..., 2]\n",
    "        output1 = interpreter.tensor(output_index1)()[0][mask_true_particles][..., 9]\n",
    "        output2 = interpreter_quant.tensor(output_index2)()[0][mask_true_particles][..., 9]\n",
    "        \n",
    "        true_pts.append(true_pt)\n",
    "        pred_pts.append(output1)\n",
    "        pred_pts_quantized.append(output2)"
   ]
  },
  {
   "cell_type": "code",
   "execution_count": null,
   "id": "3ae6db48-c23c-4f48-968e-23f1d41a7027",
   "metadata": {},
   "outputs": [],
   "source": [
    "flat_true_pts = np.hstack(true_pts)\n",
    "flat_pred_pts = np.hstack(pred_pts)\n",
    "flat_pred_pts_quantized = np.hstack(pred_pts_quantized)"
   ]
  },
  {
   "cell_type": "code",
   "execution_count": null,
   "id": "797921ce-5d74-4cda-acc3-5c0f20ecb16a",
   "metadata": {},
   "outputs": [],
   "source": [
    "flat_true_pts.shape, flat_pred_pts.shape, flat_pred_pts_quantized.shape"
   ]
  },
  {
   "cell_type": "code",
   "execution_count": null,
   "id": "1130d2e1-0ad9-4854-b0b0-8e70fedc8015",
   "metadata": {},
   "outputs": [],
   "source": [
    "plt.title(\"model outputs from TFLite interpreter\")\n",
    "plt.scatter(flat_true_pts, flat_pred_pts, label=\"unquantized\", marker=\".\", alpha=0.5)\n",
    "plt.scatter(flat_true_pts, flat_pred_pts_quantized, label=\"quantized\", marker=\".\", alpha=0.5)\n",
    "plt.legend(loc=\"best\")"
   ]
  },
  {
   "cell_type": "code",
   "execution_count": null,
   "id": "669e0584-0ca2-4ead-a645-ce8ec9cc2cf4",
   "metadata": {},
   "outputs": [],
   "source": [
    "plt.hist(flat_true_pts, bins=np.linspace(0,20,100), histtype=\"step\", label=\"true\", lw=2);\n",
    "plt.hist(flat_pred_pts, bins=np.linspace(0,20,100), histtype=\"step\", label=\"TFLite pred unquantized\", lw=2);\n",
    "plt.hist(flat_pred_pts_quantized, bins=np.linspace(0,20,100), histtype=\"step\", label=\"TFLite pred quantized\", lw=2);\n",
    "plt.legend(loc=\"best\")"
   ]
  },
  {
   "cell_type": "code",
   "execution_count": null,
   "id": "39dae36f-5643-4bf3-a533-81cf9f97df9c",
   "metadata": {},
   "outputs": [],
   "source": [
    "plt.hist(flat_pred_pts/flat_true_pts, bins=np.linspace(-1,100,101), histtype=\"step\", lw=2, label=\"TFLite unquantized\")\n",
    "plt.hist(flat_pred_pts_quantized/flat_true_pts, bins=np.linspace(-1,100,101), histtype=\"step\", lw=2, label=\"TFLite quantized\")\n",
    "#plt.axvline(1.0, color=\"black\")\n",
    "plt.yscale(\"log\")\n",
    "plt.xlabel(\"pred / true pt ratio\")\n",
    "plt.legend()"
   ]
  }
 ],
 "metadata": {
  "kernelspec": {
   "display_name": "Python 3 (ipykernel)",
   "language": "python",
   "name": "python3"
  },
  "language_info": {
   "codemirror_mode": {
    "name": "ipython",
    "version": 3
   },
   "file_extension": ".py",
   "mimetype": "text/x-python",
   "name": "python",
   "nbconvert_exporter": "python",
   "pygments_lexer": "ipython3",
   "version": "3.10.10"
  }
 },
 "nbformat": 4,
 "nbformat_minor": 5
}
