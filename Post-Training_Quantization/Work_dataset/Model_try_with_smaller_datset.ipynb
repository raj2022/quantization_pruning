{
 "cells": [
  {
   "cell_type": "code",
   "execution_count": 1,
   "id": "ff90c330",
   "metadata": {},
   "outputs": [
    {
     "name": "stderr",
     "output_type": "stream",
     "text": [
      "2024-01-04 22:42:17.897961: I tensorflow/core/util/port.cc:110] oneDNN custom operations are on. You may see slightly different numerical results due to floating-point round-off errors from different computation orders. To turn them off, set the environment variable `TF_ENABLE_ONEDNN_OPTS=0`.\n",
      "2024-01-04 22:42:17.974836: I tensorflow/core/platform/cpu_feature_guard.cc:182] This TensorFlow binary is optimized to use available CPU instructions in performance-critical operations.\n",
      "To enable the following instructions: AVX2 AVX512F AVX512_VNNI FMA, in other operations, rebuild TensorFlow with the appropriate compiler flags.\n"
     ]
    }
   ],
   "source": [
    "import tensorflow as tf\n",
    "import tensorflow_datasets as tfds\n",
    "import time\n",
    "import matplotlib.pyplot as plt\n"
   ]
  },
  {
   "cell_type": "code",
   "execution_count": 8,
   "id": "72eb3087",
   "metadata": {},
   "outputs": [],
   "source": [
    "def load_dataset(num_samples=100):\n",
    "    ds_builder = tfds.builder(\"clic_edm_qq_pf\", data_dir='../../../../MLPF/mlpf/tensorflow_datasets/')\n",
    "    dss = ds_builder.as_data_source(\"test\")\n",
    "    limited_dss = []\n",
    "\n",
    "    for elem in dss:\n",
    "        limited_dss.append(elem)\n",
    "        if len(limited_dss) >= num_samples:\n",
    "            break\n",
    "\n",
    "    return limited_dss\n"
   ]
  },
  {
   "cell_type": "code",
   "execution_count": 9,
   "id": "06884a79",
   "metadata": {},
   "outputs": [],
   "source": [
    "def warm_up_gpu(dss):\n",
    "    for elem in dss:\n",
    "        _ = tf.dtypes.cast(elem[\"X\"], tf.float16)\n",
    "        break\n"
   ]
  },
  {
   "cell_type": "code",
   "execution_count": 10,
   "id": "5b63def4",
   "metadata": {},
   "outputs": [],
   "source": [
    "def quantize_data(dss):\n",
    "    original_outputs = []\n",
    "    quantized_outputs = []\n",
    "\n",
    "    for elem in dss:\n",
    "        original_output = elem[\"X\"]\n",
    "        quantized_output = tf.dtypes.cast(original_output, tf.float16)\n",
    "\n",
    "        original_outputs.extend(tf.reshape(original_output, [-1]))\n",
    "        quantized_outputs.extend(tf.reshape(quantized_output, [-1]))\n",
    "\n",
    "    return original_outputs, quantized_outputs\n"
   ]
  },
  {
   "cell_type": "code",
   "execution_count": 11,
   "id": "f376b693",
   "metadata": {},
   "outputs": [],
   "source": [
    "def measure_inference_time(dss):\n",
    "    total_time = 0\n",
    "    num_samples = 0\n",
    "\n",
    "    for elem in dss:\n",
    "        start_time = time.time()\n",
    "        quantized_weights = tf.dtypes.cast(elem[\"X\"], tf.float16)\n",
    "        end_time = time.time()\n",
    "        total_time += end_time - start_time\n",
    "        num_samples += 1\n",
    "\n",
    "        if num_samples >= 10:  # Process 10 samples\n",
    "            break\n",
    "\n",
    "    average_inference_time = total_time / num_samples\n",
    "    print(f'Average Inference Time: {average_inference_time} seconds')\n",
    "\n",
    "    "
   ]
  },
  {
   "cell_type": "code",
   "execution_count": 12,
   "id": "70e29b95",
   "metadata": {},
   "outputs": [],
   "source": [
    "def plot_histograms(original_outputs, quantized_outputs, quantization_type):\n",
    "    plt.figure(figsize=(12, 5))\n",
    "\n",
    "    plt.subplot(1, 2, 1)\n",
    "    plt.hist(original_outputs, bins=100, range=(0, 255), color='blue', alpha=0.7, label='Original')\n",
    "    plt.title('Histogram Before Quantization')\n",
    "    plt.xlim(-5,120)\n",
    "#     plt.xlabel('Pixel Value')\n",
    "    plt.ylabel('Frequency')\n",
    "    plt.yscale(\"log\")\n",
    "    plt.legend()\n",
    "\n",
    "    plt.subplot(1, 2, 2)\n",
    "    plt.hist(quantized_outputs, bins=100, range=(0, 255), color='orange', alpha=0.7, label='Quantized')\n",
    "    plt.title(f'Histogram After {quantization_type} Quantization')  # Include quantization type in title\n",
    "    plt.xlim(-5,120)\n",
    "    #     plt.xlabel('Pixel Value')\n",
    "    plt.ylabel('Frequency')\n",
    "    plt.yscale(\"log\")\n",
    "    plt.legend()\n",
    "\n",
    "    plt.tight_layout()\n",
    "    plt.show()\n"
   ]
  },
  {
   "cell_type": "code",
   "execution_count": 13,
   "id": "fc3cb3c3",
   "metadata": {},
   "outputs": [
    {
     "name": "stderr",
     "output_type": "stream",
     "text": [
      "2024-01-04 22:43:40.257535: I tensorflow/compiler/xla/stream_executor/cuda/cuda_gpu_executor.cc:995] successful NUMA node read from SysFS had negative value (-1), but there must be at least one NUMA node, so returning NUMA node zero. See more at https://github.com/torvalds/linux/blob/v6.0/Documentation/ABI/testing/sysfs-bus-pci#L344-L355\n",
      "2024-01-04 22:43:40.784095: I tensorflow/compiler/xla/stream_executor/cuda/cuda_gpu_executor.cc:995] successful NUMA node read from SysFS had negative value (-1), but there must be at least one NUMA node, so returning NUMA node zero. See more at https://github.com/torvalds/linux/blob/v6.0/Documentation/ABI/testing/sysfs-bus-pci#L344-L355\n",
      "2024-01-04 22:43:40.786610: I tensorflow/compiler/xla/stream_executor/cuda/cuda_gpu_executor.cc:995] successful NUMA node read from SysFS had negative value (-1), but there must be at least one NUMA node, so returning NUMA node zero. See more at https://github.com/torvalds/linux/blob/v6.0/Documentation/ABI/testing/sysfs-bus-pci#L344-L355\n",
      "2024-01-04 22:43:40.847930: I tensorflow/compiler/xla/stream_executor/cuda/cuda_gpu_executor.cc:995] successful NUMA node read from SysFS had negative value (-1), but there must be at least one NUMA node, so returning NUMA node zero. See more at https://github.com/torvalds/linux/blob/v6.0/Documentation/ABI/testing/sysfs-bus-pci#L344-L355\n",
      "2024-01-04 22:43:40.849977: I tensorflow/compiler/xla/stream_executor/cuda/cuda_gpu_executor.cc:995] successful NUMA node read from SysFS had negative value (-1), but there must be at least one NUMA node, so returning NUMA node zero. See more at https://github.com/torvalds/linux/blob/v6.0/Documentation/ABI/testing/sysfs-bus-pci#L344-L355\n",
      "2024-01-04 22:43:40.851839: I tensorflow/compiler/xla/stream_executor/cuda/cuda_gpu_executor.cc:995] successful NUMA node read from SysFS had negative value (-1), but there must be at least one NUMA node, so returning NUMA node zero. See more at https://github.com/torvalds/linux/blob/v6.0/Documentation/ABI/testing/sysfs-bus-pci#L344-L355\n",
      "2024-01-04 22:43:41.078220: I tensorflow/compiler/xla/stream_executor/cuda/cuda_gpu_executor.cc:995] successful NUMA node read from SysFS had negative value (-1), but there must be at least one NUMA node, so returning NUMA node zero. See more at https://github.com/torvalds/linux/blob/v6.0/Documentation/ABI/testing/sysfs-bus-pci#L344-L355\n",
      "2024-01-04 22:43:41.080199: I tensorflow/compiler/xla/stream_executor/cuda/cuda_gpu_executor.cc:995] successful NUMA node read from SysFS had negative value (-1), but there must be at least one NUMA node, so returning NUMA node zero. See more at https://github.com/torvalds/linux/blob/v6.0/Documentation/ABI/testing/sysfs-bus-pci#L344-L355\n",
      "2024-01-04 22:43:41.082043: I tensorflow/compiler/xla/stream_executor/cuda/cuda_gpu_executor.cc:995] successful NUMA node read from SysFS had negative value (-1), but there must be at least one NUMA node, so returning NUMA node zero. See more at https://github.com/torvalds/linux/blob/v6.0/Documentation/ABI/testing/sysfs-bus-pci#L344-L355\n",
      "2024-01-04 22:43:41.083836: I tensorflow/core/common_runtime/gpu/gpu_device.cc:1639] Created device /job:localhost/replica:0/task:0/device:GPU:0 with 13775 MB memory:  -> device: 0, name: Tesla T4, pci bus id: 0000:07:00.0, compute capability: 7.5\n"
     ]
    },
    {
     "name": "stdout",
     "output_type": "stream",
     "text": [
      "Average Inference Time: 0.0016054630279541016 seconds\n"
     ]
    },
    {
     "data": {
      "image/png": "[encoded data removed]",
      "text/plain": [
       "<Figure size 864x360 with 2 Axes>"
      ]
     },
     "metadata": {
      "needs_background": "light"
     },
     "output_type": "display_data"
    }
   ],
   "source": [
    "if __name__ == \"__main__\":\n",
    "    dss = load_dataset(num_samples=100)\n",
    "    warm_up_gpu(dss)\n",
    "    original_outputs, quantized_outputs = quantize_data(dss)\n",
    "    quantized_outputs = tf.stack(quantized_outputs).numpy()  # Convert to NumPy array\n",
    "    measure_inference_time(dss)\n",
    "    plot_histograms(original_outputs, quantized_outputs, 'FP16')\n"
   ]
  },
  {
   "cell_type": "markdown",
   "id": "5cac9220",
   "metadata": {},
   "source": [
    "# Int8 Quantization"
   ]
  },
  {
   "cell_type": "code",
   "execution_count": 10,
   "id": "e308fc0f",
   "metadata": {},
   "outputs": [],
   "source": [
    "def quantize_data_int8(dss):\n",
    "    original_outputs = []\n",
    "    quantized_outputs = []\n",
    "\n",
    "    for elem in dss:\n",
    "        original_output = elem[\"X\"]\n",
    "        \n",
    "        # Scale the data to the range [0, 255]\n",
    "        scaled_output = (original_output - tf.reduce_min(original_output)) / (tf.reduce_max(original_output) - tf.reduce_min(original_output)) * 255\n",
    "        \n",
    "        # Quantize to int8\n",
    "        quantized_output = tf.quantization.quantize(scaled_output, 0, 255, tf.qint8)\n",
    "\n",
    "        original_outputs.extend(tf.reshape(original_output, [-1]))\n",
    "        quantized_outputs.extend(tf.reshape(quantized_output[0], [-1]))  # Access the values from the quantized tensor\n",
    "\n",
    "    return original_outputs, quantized_outputs\n"
   ]
  },
  {
   "cell_type": "code",
   "execution_count": 11,
   "id": "ffd74a57",
   "metadata": {},
   "outputs": [
    {
     "name": "stdout",
     "output_type": "stream",
     "text": [
      "WARNING:tensorflow:From /home/shivam-raj/miniconda3/lib/python3.10/site-packages/tensorflow/python/util/dispatch.py:1260: quantize_v2 (from tensorflow.python.ops.array_ops) is deprecated and will be removed after 2017-10-25.\n",
      "Instructions for updating:\n",
      "`tf.quantize_v2` is deprecated, please use `tf.quantization.quantize` instead.\n"
     ]
    },
    {
     "name": "stderr",
     "output_type": "stream",
     "text": [
      "WARNING:tensorflow:From /home/shivam-raj/miniconda3/lib/python3.10/site-packages/tensorflow/python/util/dispatch.py:1260: quantize_v2 (from tensorflow.python.ops.array_ops) is deprecated and will be removed after 2017-10-25.\n",
      "Instructions for updating:\n",
      "`tf.quantize_v2` is deprecated, please use `tf.quantization.quantize` instead.\n"
     ]
    },
    {
     "name": "stdout",
     "output_type": "stream",
     "text": [
      "Average Inference Time: 0.0024777650833129883 seconds\n"
     ]
    },
    {
     "data": {
      "image/png": "[encoded data removed]",
      "text/plain": [
       "<Figure size 1200x500 with 2 Axes>"
      ]
     },
     "metadata": {},
     "output_type": "display_data"
    }
   ],
   "source": [
    "if __name__ == \"__main__\":\n",
    "    dss = load_dataset(num_samples=100)\n",
    "    warm_up_gpu(dss)\n",
    "    original_outputs, quantized_outputs = quantize_data_int8(dss)  # Use int8 quantization\n",
    "    quantized_outputs = tf.stack(quantized_outputs).numpy()  # Convert to NumPy array\n",
    "    measure_inference_time(dss)\n",
    "    plot_histograms(original_outputs, quantized_outputs, 'int8')\n"
   ]
  },
  {
   "cell_type": "code",
   "execution_count": null,
   "id": "42cefefd",
   "metadata": {},
   "outputs": [],
   "source": []
  }
 ],
 "metadata": {
  "kernelspec": {
   "display_name": "Python 3 (ipykernel)",
   "language": "python",
   "name": "python3"
  },
  "language_info": {
   "codemirror_mode": {
    "name": "ipython",
    "version": 3
   },
   "file_extension": ".py",
   "mimetype": "text/x-python",
   "name": "python",
   "nbconvert_exporter": "python",
   "pygments_lexer": "ipython3",
   "version": "3.9.12"
  }
 },
 "nbformat": 4,
 "nbformat_minor": 5
}
