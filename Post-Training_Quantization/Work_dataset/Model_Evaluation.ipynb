{
 "cells": [
  {
   "cell_type": "markdown",
   "id": "259b8401",
   "metadata": {},
   "source": [
    "\n",
    "Given the notebook, https://github.com/jpata/particleflow/blob/nb_clic_evaluate/notebooks/mlpf-clic-evaluate.ipynb as it loads the model, sets the weights, run the inference on a  set of events and compare the true vs. Predicted value for pT on a smaller subset.\n",
    "\n",
    "*Task:*\n",
    "Do the quantization of the model, and the conversion of the data, all in one notebook along with the model inference. \n",
    "\n"
   ]
  },
  {
   "cell_type": "markdown",
   "id": "43a1bf01",
   "metadata": {},
   "source": [
    "Load the quantized model, load the quantized weights, and convert all of the data using quantization and then mesaure the inference"
   ]
  },
  {
   "cell_type": "markdown",
   "id": "81940f5a",
   "metadata": {},
   "source": [
    "some point you need to use something like tf.lite.TFLiteConverter?\n",
    "https://www.tensorflow.org/lite/performance/post_training_integer_quant\n",
    "or is there another way?"
   ]
  },
  {
   "cell_type": "code",
   "execution_count": 41,
   "id": "59fe0600",
   "metadata": {},
   "outputs": [],
   "source": [
    "import tensorflow as tf\n",
    "import tensorflow_datasets as tfds\n",
    "\n",
    "%matplotlib inline\n",
    "import matplotlib.pyplot as plt\n",
    "import numpy as np"
   ]
  },
  {
   "cell_type": "code",
   "execution_count": 2,
   "id": "47659ab2",
   "metadata": {},
   "outputs": [
    {
     "name": "stderr",
     "output_type": "stream",
     "text": [
      "WARNING:root:horovod not found, ignoring\n",
      "WARNING:root:horovod not found, ignoring\n"
     ]
    }
   ],
   "source": [
    "import sys\n",
    "sys.path += [\"../../../../particleflow/mlpf/\"]\n",
    "from tfmodel.model_setup import make_model\n",
    "from tfmodel.utils import parse_config"
   ]
  },
  {
   "cell_type": "code",
   "execution_count": 3,
   "id": "0e4b05d6",
   "metadata": {},
   "outputs": [],
   "source": [
    "config, _ = parse_config(\"../../../../particleflow/parameters/clic.yaml\")"
   ]
  },
  {
   "cell_type": "code",
   "execution_count": 4,
   "id": "8b19e9ba",
   "metadata": {},
   "outputs": [],
   "source": [
    "model = make_model(config, tf.float32)\n",
    "model.build((1, None, config[\"dataset\"][\"num_input_features\"]))\n"
   ]
  },
  {
   "cell_type": "code",
   "execution_count": 5,
   "id": "a179b4f0",
   "metadata": {
    "scrolled": true
   },
   "outputs": [
    {
     "name": "stdout",
     "output_type": "stream",
     "text": [
      "Model: \"pf_net_dense\"\n",
      "_________________________________________________________________\n",
      " Layer (type)                Output Shape              Param #   \n",
      "=================================================================\n",
      " normalization (Normalizati  multiple                  33        \n",
      " on)                                                             \n",
      "                                                                 \n",
      " node_encoding (Sequential)  (1, None, 256)            70912     \n",
      "                                                                 \n",
      " input_encoding_clic (Input  multiple                  0         \n",
      " EncodingCLIC)                                                   \n",
      "                                                                 \n",
      " cg_id_0 (CombinedGraphLaye  multiple                  440128    \n",
      " r)                                                              \n",
      "                                                                 \n",
      " cg_id_1 (CombinedGraphLaye  multiple                  440128    \n",
      " r)                                                              \n",
      "                                                                 \n",
      " cg_id_2 (CombinedGraphLaye  multiple                  440128    \n",
      " r)                                                              \n",
      "                                                                 \n",
      " cg_id_3 (CombinedGraphLaye  multiple                  440128    \n",
      " r)                                                              \n",
      "                                                                 \n",
      " cg_id_4 (CombinedGraphLaye  multiple                  440128    \n",
      " r)                                                              \n",
      "                                                                 \n",
      " cg_id_5 (CombinedGraphLaye  multiple                  440128    \n",
      " r)                                                              \n",
      "                                                                 \n",
      " cg_reg_0 (CombinedGraphLay  multiple                  440128    \n",
      " er)                                                             \n",
      "                                                                 \n",
      " cg_reg_1 (CombinedGraphLay  multiple                  440128    \n",
      " er)                                                             \n",
      "                                                                 \n",
      " cg_reg_2 (CombinedGraphLay  multiple                  440128    \n",
      " er)                                                             \n",
      "                                                                 \n",
      " cg_reg_3 (CombinedGraphLay  multiple                  440128    \n",
      " er)                                                             \n",
      "                                                                 \n",
      " cg_reg_4 (CombinedGraphLay  multiple                  440128    \n",
      " er)                                                             \n",
      "                                                                 \n",
      " cg_reg_5 (CombinedGraphLay  multiple                  440128    \n",
      " er)                                                             \n",
      "                                                                 \n",
      " output_decoding (OutputDec  multiple                  269967    \n",
      " oding)                                                          \n",
      "                                                                 \n",
      "=================================================================\n",
      "Total params: 5622448 (21.45 MB)\n",
      "Trainable params: 5468815 (20.86 MB)\n",
      "Non-trainable params: 153633 (600.13 KB)\n",
      "_________________________________________________________________\n"
     ]
    }
   ],
   "source": [
    "model.summary()"
   ]
  },
  {
   "cell_type": "code",
   "execution_count": 6,
   "id": "331f3cee",
   "metadata": {},
   "outputs": [],
   "source": [
    "model.load_weights(\"../weights-96-5.346523.hdf5\", skip_mismatch=False, by_name=True)\n"
   ]
  },
  {
   "cell_type": "code",
   "execution_count": 58,
   "id": "c896d51b",
   "metadata": {},
   "outputs": [],
   "source": [
    "## Reading the dataset\n",
    "ds_builder = tfds.builder(\"clic_edm_qq_pf\", data_dir = '../../../tensorflow_datasets/')\n",
    "dss = ds_builder.as_data_source(\"test\")\n",
    "\n"
   ]
  },
  {
   "cell_type": "code",
   "execution_count": 59,
   "id": "9d5e4dc3",
   "metadata": {},
   "outputs": [],
   "source": [
    "def yield_from_ds():\n",
    "    for elem in dss:\n",
    "        yield {\"X\": elem[\"X\"], \"ygen\": elem[\"ygen\"], \"ycand\": elem[\"ycand\"]}"
   ]
  },
  {
   "cell_type": "code",
   "execution_count": 60,
   "id": "1479b843",
   "metadata": {},
   "outputs": [],
   "source": [
    "output_signature = {k: tf.TensorSpec(shape=(None, v.shape[1])) for (k, v) in dss.dataset_info.features.items()}\n",
    "tf_dataset = tf.data.Dataset.from_generator(yield_from_ds, output_signature=output_signature).take(100).padded_batch(batch_size=10)\n"
   ]
  },
  {
   "cell_type": "code",
   "execution_count": 61,
   "id": "5fd80d72",
   "metadata": {},
   "outputs": [],
   "source": [
    "data = list(tfds.as_numpy(tf_dataset))\n"
   ]
  },
  {
   "cell_type": "code",
   "execution_count": 62,
   "id": "3b4acdb3",
   "metadata": {},
   "outputs": [],
   "source": [
    "Xs = [d[\"X\"] for d in data]\n",
    "ys = [d[\"ygen\"] for d in data]"
   ]
  },
  {
   "cell_type": "code",
   "execution_count": 63,
   "id": "689eef34",
   "metadata": {},
   "outputs": [],
   "source": [
    "true_pts = []\n",
    "pred_pts = []\n",
    "\n",
    "for ibatch in range(len(Xs)):\n",
    "    ret = model(Xs[ibatch])\n",
    "\n",
    "    mask_true_particles = ys[ibatch][..., 0]!=0\n",
    "    \n",
    "    true_pt = ys[ibatch][mask_true_particles, 2]\n",
    "    pred_pt = ret[\"pt\"][mask_true_particles][..., 0].numpy()\n",
    "\n",
    "    true_pts.append(true_pt)\n",
    "    pred_pts.append(pred_pt)"
   ]
  },
  {
   "cell_type": "code",
   "execution_count": 64,
   "id": "1bcd5ba6",
   "metadata": {},
   "outputs": [],
   "source": [
    "true_pt = np.concatenate(true_pts)\n",
    "pred_pt = np.concatenate(pred_pts)"
   ]
  },
  {
   "cell_type": "code",
   "execution_count": 65,
   "id": "716b68b3",
   "metadata": {},
   "outputs": [
    {
     "data": {
      "image/png": "[encoded data removed]",
      "text/plain": [
       "<Figure size 640x480 with 1 Axes>"
      ]
     },
     "metadata": {},
     "output_type": "display_data"
    }
   ],
   "source": [
    "plt.hist(pred_pt/true_pt, bins=np.linspace(0,3,100));\n",
    "plt.yscale(\"log\")"
   ]
  },
  {
   "cell_type": "markdown",
   "id": "7c32a2ee",
   "metadata": {},
   "source": [
    "## Quantized data into the unquantized model"
   ]
  },
  {
   "cell_type": "markdown",
   "id": "a4817027",
   "metadata": {},
   "source": [
    "Before feeding the input data to the model, we need to quantize it. "
   ]
  },
  {
   "cell_type": "code",
   "execution_count": 66,
   "id": "63219f9a",
   "metadata": {},
   "outputs": [],
   "source": [
    "# Quantize input data\n",
    "Xs_quantized = [np.round(X * 127).astype(np.int8) for X in Xs]\n"
   ]
  },
  {
   "cell_type": "code",
   "execution_count": 16,
   "id": "a63aed50",
   "metadata": {},
   "outputs": [],
   "source": [
    "Xs_quantized = [np.round(X * 127).astype(np.int8) for X in Xs]\n",
    "Xs_tf = [tf.convert_to_tensor(X_q, dtype=tf.float32) for X_q in Xs_quantized]\n"
   ]
  },
  {
   "cell_type": "code",
   "execution_count": 17,
   "id": "0ab11cf1",
   "metadata": {},
   "outputs": [],
   "source": [
    "ys_quantized = [np.round(y * 127).astype(np.int8) for y in ys]\n"
   ]
  },
  {
   "cell_type": "code",
   "execution_count": 18,
   "id": "744809e7",
   "metadata": {},
   "outputs": [],
   "source": [
    "true_pts = []\n",
    "pred_pts = []\n",
    "\n",
    "for ibatch in range(len(Xs)):\n",
    "    ret = model(Xs_tf[ibatch])\n",
    "\n",
    "    mask_true_particles = ys_quantized[ibatch][..., 0]!=0\n",
    "    \n",
    "    true_pt = ys[ibatch][mask_true_particles, 2]\n",
    "    pred_pt = ret[\"pt\"][mask_true_particles][..., 0].numpy()\n",
    "\n",
    "    true_pts.append(true_pt)\n",
    "    pred_pts.append(pred_pt)"
   ]
  },
  {
   "cell_type": "code",
   "execution_count": 19,
   "id": "8840038c",
   "metadata": {},
   "outputs": [],
   "source": [
    "true_pt = np.concatenate(true_pts)\n",
    "pred_pt = np.concatenate(pred_pts)"
   ]
  },
  {
   "cell_type": "code",
   "execution_count": 20,
   "id": "a1730822",
   "metadata": {},
   "outputs": [
    {
     "data": {
      "image/png": "[encoded data removed]",
      "text/plain": [
       "<Figure size 640x480 with 1 Axes>"
      ]
     },
     "metadata": {},
     "output_type": "display_data"
    }
   ],
   "source": [
    "plt.hist(pred_pt/true_pt, bins=np.linspace(0,3,100));\n",
    "plt.title(\"After INT8 Quantization\")\n",
    "plt.yscale(\"log\")\n",
    "plt.savefig('Output_after_INT8_quantization.png')"
   ]
  },
  {
   "cell_type": "markdown",
   "id": "63be5752",
   "metadata": {},
   "source": [
    "Above one is the output with the quantized dataset but not quantized model. We were wokring with the Dynamic Range Quantization. \n",
    "Dynamic range quantization is a recommended starting point because it provides reduced memory usage and faster computation without you having to provide a representative dataset for calibration. This type of quantization, statically quantizes only the weights from floating point to integer at conversion time, which provides 8-bits of precision.\n"
   ]
  },
  {
   "cell_type": "markdown",
   "id": "5391ebdd",
   "metadata": {},
   "source": [
    "## Quantized Model with the Quantized Dataset"
   ]
  },
  {
   "cell_type": "markdown",
   "id": "77582ebf",
   "metadata": {},
   "source": [
    "Let's try with **[quantized model](https://www.tensorflow.org/lite/performance/post_training_quantization#full_integer_quantization_of_weights_and_activations)**, Post-training qunatization method, Dynamic range quantization. "
   ]
  },
  {
   "cell_type": "markdown",
   "id": "49f439ec",
   "metadata": {},
   "source": [
    "## Dynamic Range Quantization"
   ]
  },
  {
   "cell_type": "markdown",
   "id": "b108b047",
   "metadata": {},
   "source": [
    "Converting the model using dynamic range quantization(https://www.tensorflow.org/lite/performance/post_training_integer_quant):\n",
    "Let's enable the default optimizations flag to quantize all fixed parameters (such as weights):\n",
    "The model is now a bit smaller with quantized weights, but other variable data is still in float format.\n"
   ]
  },
  {
   "cell_type": "code",
   "execution_count": 21,
   "id": "3790f748",
   "metadata": {},
   "outputs": [],
   "source": [
    "\n",
    "converter = tf.lite.TFLiteConverter.from_keras_model(model)\n",
    "converter.optimizations = [tf.lite.Optimize.DEFAULT]\n",
    "quantized_tflite_model = converter.convert()\n"
   ]
  },
  {
   "cell_type": "code",
   "execution_count": 22,
   "id": "fc83ead0",
   "metadata": {},
   "outputs": [
    {
     "name": "stdout",
     "output_type": "stream",
     "text": [
      "Size of the quantized model: 5960536 bytes\n"
     ]
    }
   ],
   "source": [
    "# Measuring the size of the quantized tflite model\n",
    "# Saving the model\n",
    "import os\n",
    "\n",
    "with open('quantized_tflite_model.tflite', 'wb') as f:\n",
    "    f.write(quantized_tflite_model)\n",
    "    \n",
    "model_size = os.path.getsize('quantized_tflite_model.tflite')\n",
    "\n",
    "print(f\"Size of the quantized model: {model_size} bytes\")"
   ]
  },
  {
   "cell_type": "code",
   "execution_count": 23,
   "id": "de3a2f8f",
   "metadata": {},
   "outputs": [],
   "source": [
    "# Load the quantized TFlite model\n",
    "interpreter = tf.lite.Interpreter(model_content=quantized_tflite_model)\n",
    "interpreter.allocate_tensors()\n"
   ]
  },
  {
   "cell_type": "code",
   "execution_count": 24,
   "id": "04e936d3",
   "metadata": {},
   "outputs": [],
   "source": [
    "# Get input and output details\n",
    "input_details = interpreter.get_input_details()\n",
    "output_details = interpreter.get_output_details()"
   ]
  },
  {
   "cell_type": "code",
   "execution_count": 25,
   "id": "aa32d90c",
   "metadata": {},
   "outputs": [
    {
     "data": {
      "text/plain": [
       "[{'name': 'serving_default_input_1:0',\n",
       "  'index': 0,\n",
       "  'shape': array([  1, 111,  17], dtype=int32),\n",
       "  'shape_signature': array([ -1, 111,  17], dtype=int32),\n",
       "  'dtype': numpy.float32,\n",
       "  'quantization': (0.0, 0),\n",
       "  'quantization_parameters': {'scales': array([], dtype=float32),\n",
       "   'zero_points': array([], dtype=int32),\n",
       "   'quantized_dimension': 0},\n",
       "  'sparsity_parameters': {}}]"
      ]
     },
     "execution_count": 25,
     "metadata": {},
     "output_type": "execute_result"
    }
   ],
   "source": [
    "input_details"
   ]
  },
  {
   "cell_type": "code",
   "execution_count": 26,
   "id": "6d3e1ad7",
   "metadata": {},
   "outputs": [
    {
     "name": "stdout",
     "output_type": "stream",
     "text": [
      "Input Data Shape: (10, 147, 17)\n",
      "Expected Input Shape: [111  17]\n"
     ]
    }
   ],
   "source": [
    "# Assuming Xs_quantized is a list of quantized input data\n",
    "input_data = Xs_quantized[ibatch]\n",
    "\n",
    "# Print shapes for debugging\n",
    "print(\"Input Data Shape:\", input_data.shape)\n",
    "print(\"Expected Input Shape:\", input_details[0]['shape'][1:])\n"
   ]
  },
  {
   "cell_type": "code",
   "execution_count": 39,
   "id": "a241a73b",
   "metadata": {},
   "outputs": [
    {
     "name": "stdout",
     "output_type": "stream",
     "text": [
      "Reshaped Input Data Shape: (10, 147, 17)\n"
     ]
    }
   ],
   "source": [
    "# Assuming you want to use the first 111 samples as a single batch\n",
    "input_data_reshaped = input_data[:111, :, :]\n",
    "\n",
    "# Remove the singleton batch dimension\n",
    "input_data_reshaped = np.squeeze(input_data_reshaped)\n",
    "\n",
    "\n",
    "# Check the shape after reshaping\n",
    "print(\"Reshaped Input Data Shape:\", input_data_reshaped.shape)\n",
    "\n"
   ]
  },
  {
   "cell_type": "markdown",
   "id": "71712e16",
   "metadata": {},
   "source": [
    "Run the inference on the quantized TFLite model:"
   ]
  },
  {
   "cell_type": "code",
   "execution_count": 40,
   "id": "c7783559",
   "metadata": {},
   "outputs": [
    {
     "ename": "ValueError",
     "evalue": "Cannot set tensor: Dimension mismatch. Got 10 but expected 1 for dimension 0 of input 0.",
     "output_type": "error",
     "traceback": [
      "\u001b[0;31m---------------------------------------------------------------------------\u001b[0m",
      "\u001b[0;31mValueError\u001b[0m                                Traceback (most recent call last)",
      "Cell \u001b[0;32mIn[40], line 2\u001b[0m\n\u001b[1;32m      1\u001b[0m \u001b[38;5;66;03m# Set input tensor\u001b[39;00m\n\u001b[0;32m----> 2\u001b[0m \u001b[43minterpreter\u001b[49m\u001b[38;5;241;43m.\u001b[39;49m\u001b[43mset_tensor\u001b[49m\u001b[43m(\u001b[49m\u001b[43minput_details\u001b[49m\u001b[43m[\u001b[49m\u001b[38;5;241;43m0\u001b[39;49m\u001b[43m]\u001b[49m\u001b[43m[\u001b[49m\u001b[38;5;124;43m'\u001b[39;49m\u001b[38;5;124;43mindex\u001b[39;49m\u001b[38;5;124;43m'\u001b[39;49m\u001b[43m]\u001b[49m\u001b[43m,\u001b[49m\u001b[43m \u001b[49m\u001b[43minput_data_reshaped\u001b[49m\u001b[38;5;241;43m.\u001b[39;49m\u001b[43mastype\u001b[49m\u001b[43m(\u001b[49m\u001b[43mnp\u001b[49m\u001b[38;5;241;43m.\u001b[39;49m\u001b[43mfloat32\u001b[49m\u001b[43m)\u001b[49m\u001b[43m)\u001b[49m\n\u001b[1;32m      4\u001b[0m \u001b[38;5;66;03m# Run inference\u001b[39;00m\n\u001b[1;32m      5\u001b[0m interpreter\u001b[38;5;241m.\u001b[39minvoke()\n",
      "File \u001b[0;32m~/miniconda3/lib/python3.10/site-packages/tensorflow/lite/python/interpreter.py:720\u001b[0m, in \u001b[0;36mInterpreter.set_tensor\u001b[0;34m(self, tensor_index, value)\u001b[0m\n\u001b[1;32m    704\u001b[0m \u001b[38;5;28;01mdef\u001b[39;00m \u001b[38;5;21mset_tensor\u001b[39m(\u001b[38;5;28mself\u001b[39m, tensor_index, value):\n\u001b[1;32m    705\u001b[0m \u001b[38;5;250m  \u001b[39m\u001b[38;5;124;03m\"\"\"Sets the value of the input tensor.\u001b[39;00m\n\u001b[1;32m    706\u001b[0m \n\u001b[1;32m    707\u001b[0m \u001b[38;5;124;03m  Note this copies data in `value`.\u001b[39;00m\n\u001b[0;32m   (...)\u001b[0m\n\u001b[1;32m    718\u001b[0m \u001b[38;5;124;03m    ValueError: If the interpreter could not set the tensor.\u001b[39;00m\n\u001b[1;32m    719\u001b[0m \u001b[38;5;124;03m  \"\"\"\u001b[39;00m\n\u001b[0;32m--> 720\u001b[0m   \u001b[38;5;28;43mself\u001b[39;49m\u001b[38;5;241;43m.\u001b[39;49m\u001b[43m_interpreter\u001b[49m\u001b[38;5;241;43m.\u001b[39;49m\u001b[43mSetTensor\u001b[49m\u001b[43m(\u001b[49m\u001b[43mtensor_index\u001b[49m\u001b[43m,\u001b[49m\u001b[43m \u001b[49m\u001b[43mvalue\u001b[49m\u001b[43m)\u001b[49m\n",
      "\u001b[0;31mValueError\u001b[0m: Cannot set tensor: Dimension mismatch. Got 10 but expected 1 for dimension 0 of input 0."
     ]
    }
   ],
   "source": [
    "# Set input tensor\n",
    "interpreter.set_tensor(input_details[0]['index'], input_data_reshaped.astype(np.float32))\n",
    "\n",
    "# Run inference\n",
    "interpreter.invoke()"
   ]
  },
  {
   "cell_type": "code",
   "execution_count": null,
   "id": "305e0d6f",
   "metadata": {},
   "outputs": [],
   "source": []
  },
  {
   "cell_type": "markdown",
   "id": "4f7dd95a",
   "metadata": {},
   "source": [
    "Let's try with the Full integer quantization \n",
    "## Full integer Quantization\n",
    "Reductions in peak memory usage, and compatibility with integer only hardware devices or accelerators by making sure all model math is integer quantized.\n",
    "\n",
    "For full integer quantization, you need to calibrate or estimate the range, i.e, (min, max) of all floating-point tensors in the model. Unlike constant tensors such as weights and biases, variable tensors such as model input, activations (outputs of intermediate layers) and model output cannot be calibrated unless we run a few inference cycles. As a result, the converter requires a representative dataset to calibrate them. This dataset can be a small subset (around ~100-500 samples) of the training or validation data. Refer to the `representative_dataset()`function below.\n"
   ]
  },
  {
   "cell_type": "code",
   "execution_count": 28,
   "id": "dc71158b",
   "metadata": {},
   "outputs": [],
   "source": [
    "# Define a function to apply Full Integer quantization\n",
    "def full_integer_quantization(model):\n",
    "    converter = tf.lite.TFLiteConverter.from_keras_model(model)\n",
    "    converter.optimizations = [tf.lite.Optimize.DEFAULT]\n",
    "    tflite_model = converter.convert()\n",
    "    return tflite_model"
   ]
  },
  {
   "cell_type": "code",
   "execution_count": 30,
   "id": "d69c34e4",
   "metadata": {},
   "outputs": [],
   "source": [
    "## Reading the dataset\n",
    "ds_builder = tfds.builder(\"clic_edm_qq_pf\", data_dir = '../../../tensorflow_datasets/')\n",
    "dss = ds_builder.as_data_source(\"test\")\n",
    "\n",
    "\n",
    "# Define a function to preprocess the data\n",
    "def preprocess_data(data):\n",
    "    # Implement your preprocessing steps here\n",
    "    return preprocessed_data\n"
   ]
  },
  {
   "cell_type": "code",
   "execution_count": null,
   "id": "10b2ab32",
   "metadata": {},
   "outputs": [],
   "source": [
    "# Process the dataset and run inference with quantized model\n",
    "true_pts = []\n",
    "pred_pts = []\n",
    "\n",
    "for data_batch in tfds.as_numpy(dss):\n",
    "    X = preprocess_data(data_batch[\"X\"])\n",
    "    ys = data_batch[\"ygen\"]\n",
    "    \n",
    "    # Run inference with the quantized model\n",
    "    try:\n",
    "        interpreter = tf.lite.Interpreter(model_content=quantized_model)\n",
    "        interpreter.allocate_tensors()\n",
    "        \n",
    "        input_details = interpreter.get_input_details()\n",
    "        output_details = interpreter.get_output_details()\n",
    "        \n",
    "        interpreter.set_tensor(input_details[0]['index'], [X])\n",
    "        interpreter.invoke()\n",
    "        quantized_output = interpreter.get_tensor(output_details[0]['index'])\n",
    "        \n",
    "        mask_true_particles = ys[..., 0] != 0\n",
    "        true_pt = ys[mask_true_particles, 2]\n",
    "        pred_pt = quantized_output[0][mask_true_particles][..., 0]\n",
    "        \n",
    "        true_pts.extend(true_pt)\n",
    "        pred_pts.extend(pred_pt)\n",
    "    except Exception as e:\n",
    "        print(f\"Error processing batch: {e}\")\n"
   ]
  },
  {
   "cell_type": "markdown",
   "id": "373d1b7b",
   "metadata": {},
   "source": [
    "## Float 16 Quantization"
   ]
  },
  {
   "cell_type": "code",
   "execution_count": null,
   "id": "4f90aab6",
   "metadata": {},
   "outputs": [],
   "source": [
    "import tensorflow as tf\n",
    "import tensorflow_datasets as tfds\n",
    "\n",
    "%matplotlib inline\n",
    "import matplotlib.pyplot as plt\n",
    "import numpy as np"
   ]
  },
  {
   "cell_type": "code",
   "execution_count": null,
   "id": "d9e0b167",
   "metadata": {},
   "outputs": [],
   "source": [
    "import sys\n",
    "sys.path += [\"../../../../particleflow/mlpf/\"]\n",
    "from tfmodel.model_setup import make_model\n",
    "from tfmodel.utils import parse_config"
   ]
  },
  {
   "cell_type": "code",
   "execution_count": null,
   "id": "7ef86417",
   "metadata": {},
   "outputs": [],
   "source": [
    "config, _ = parse_config(\"../../../../particleflow/parameters/clic.yaml\")"
   ]
  },
  {
   "cell_type": "code",
   "execution_count": null,
   "id": "0fdecd20",
   "metadata": {},
   "outputs": [],
   "source": [
    "model = make_model(config, tf.float32)\n",
    "model.build((1, None, config[\"dataset\"][\"num_input_features\"]))\n",
    "model.load_weights(\"../weights-96-5.346523.hdf5\", skip_mismatch=False, by_name=True)\n"
   ]
  },
  {
   "cell_type": "code",
   "execution_count": null,
   "id": "29fc95eb",
   "metadata": {},
   "outputs": [],
   "source": [
    "## Reading the dataset\n",
    "ds_builder = tfds.builder(\"clic_edm_qq_pf\", data_dir = '../../../tensorflow_datasets/')\n",
    "dss = ds_builder.as_data_source(\"test\")\n",
    "def yield_from_ds():\n",
    "    for elem in dss:\n",
    "        yield {\"X\": elem[\"X\"], \"ygen\": elem[\"ygen\"], \"ycand\": elem[\"ycand\"]}\n",
    "output_signature = {k: tf.TensorSpec(shape=(None, v.shape[1])) for (k, v) in dss.dataset_info.features.items()}\n",
    "tf_dataset = tf.data.Dataset.from_generator(yield_from_ds, output_signature=output_signature).take(100).padded_batch(batch_size=10)\n",
    "data = list(tfds.as_numpy(tf_dataset))\n",
    "Xs = [d[\"X\"] for d in data]\n",
    "ys = [d[\"ygen\"] for d in data]\n",
    "\n",
    "true_pts = []\n",
    "pred_pts = []\n",
    "\n",
    "for ibatch in range(len(Xs)):\n",
    "    ret = model(Xs[ibatch])\n",
    "\n",
    "    mask_true_particles = ys[ibatch][..., 0]!=0\n",
    "    \n",
    "    true_pt = ys[ibatch][mask_true_particles, 2]\n",
    "    pred_pt = ret[\"pt\"][mask_true_particles][..., 0].numpy()\n",
    "\n",
    "    true_pts.append(true_pt)\n",
    "    pred_pts.append(pred_pt)\n",
    "    \n",
    "    \n",
    "true_pt = np.concatenate(true_pts)\n",
    "pred_pt = np.concatenate(pred_pts)\n",
    "\n",
    "\n",
    "plt.hist(pred_pt/true_pt, bins=np.linspace(0,3,100));\n",
    "plt.yscale(\"log\")"
   ]
  },
  {
   "cell_type": "code",
   "execution_count": 68,
   "id": "4fa9ee56",
   "metadata": {},
   "outputs": [],
   "source": [
    "# Convert to float16 quantized model\n",
    "converter = tf.lite.TFLiteConverter.from_keras_model(model)\n",
    "converter.optimizations = [tf.lite.Optimize.DEFAULT]\n",
    "converter.target_spec.supported_types = [tf.float16]\n",
    "quantized_float16_tflite_model = converter.convert()\n"
   ]
  },
  {
   "cell_type": "code",
   "execution_count": 70,
   "id": "a7f8861a",
   "metadata": {},
   "outputs": [],
   "source": [
    "# Quantize the dataset after Assuming Xs is a list of input data\n",
    "quantized_Xs = [tf.constant(x, dtype=tf.float16) for x in Xs]\n"
   ]
  },
  {
   "cell_type": "code",
   "execution_count": 77,
   "id": "ff9fda3a",
   "metadata": {},
   "outputs": [
    {
     "ename": "ValueError",
     "evalue": "Tensor conversion requested dtype float32 for Tensor with dtype float16: <tf.Tensor: shape=(10, 111, 17), dtype=float16, numpy=\narray([[[ 1.0000e+00,  6.7891e+00,  4.1528e-01, ..., -6.5002e-02,\n         -1.0000e+00,  0.0000e+00],\n        [ 1.0000e+00,  3.7051e+00,  2.9053e-01, ...,  1.7102e-01,\n         -1.0000e+00,  0.0000e+00],\n        [ 1.0000e+00,  3.9102e+00,  8.5205e-01, ..., -3.8509e-03,\n         -1.0000e+00,  0.0000e+00],\n        ...,\n        [ 0.0000e+00,  0.0000e+00,  0.0000e+00, ...,  0.0000e+00,\n          0.0000e+00,  0.0000e+00],\n        [ 0.0000e+00,  0.0000e+00,  0.0000e+00, ...,  0.0000e+00,\n          0.0000e+00,  0.0000e+00],\n        [ 0.0000e+00,  0.0000e+00,  0.0000e+00, ...,  0.0000e+00,\n          0.0000e+00,  0.0000e+00]],\n\n       [[ 1.0000e+00,  8.8281e+00, -1.6934e+00, ...,  2.6764e-02,\n         -1.0000e+00,  0.0000e+00],\n        [ 1.0000e+00,  4.6523e+00,  2.0605e+00, ..., -2.5482e-02,\n         -1.0000e+00,  0.0000e+00],\n        [ 1.0000e+00,  3.5859e+00, -2.2539e+00, ...,  5.1361e-02,\n         -1.0000e+00,  0.0000e+00],\n        ...,\n        [ 0.0000e+00,  0.0000e+00,  0.0000e+00, ...,  0.0000e+00,\n          0.0000e+00,  0.0000e+00],\n        [ 0.0000e+00,  0.0000e+00,  0.0000e+00, ...,  0.0000e+00,\n          0.0000e+00,  0.0000e+00],\n        [ 0.0000e+00,  0.0000e+00,  0.0000e+00, ...,  0.0000e+00,\n          0.0000e+00,  0.0000e+00]],\n\n       [[ 1.0000e+00,  8.0156e+00,  2.3984e+00, ...,  7.4219e-01,\n         -1.0000e+00,  0.0000e+00],\n        [ 1.0000e+00,  2.6660e+00, -1.4648e+00, ..., -8.3923e-02,\n         -1.0000e+00,  0.0000e+00],\n        [ 1.0000e+00,  1.2979e+00,  2.2988e+00, ...,  1.9600e+00,\n         -1.0000e+00,  0.0000e+00],\n        ...,\n        [ 0.0000e+00,  0.0000e+00,  0.0000e+00, ...,  0.0000e+00,\n          0.0000e+00,  0.0000e+00],\n        [ 0.0000e+00,  0.0000e+00,  0.0000e+00, ...,  0.0000e+00,\n          0.0000e+00,  0.0000e+00],\n        [ 0.0000e+00,  0.0000e+00,  0.0000e+00, ...,  0.0000e+00,\n          0.0000e+00,  0.0000e+00]],\n\n       ...,\n\n       [[ 1.0000e+00,  1.3891e+01,  1.0059e+00, ...,  1.4854e-02,\n         -1.0000e+00,  0.0000e+00],\n        [ 1.0000e+00,  7.9219e+00,  1.1804e-01, ..., -8.1863e-03,\n         -1.0000e+00,  0.0000e+00],\n        [ 1.0000e+00,  7.0078e+00,  1.2988e-01, ...,  7.4692e-03,\n         -1.0000e+00,  0.0000e+00],\n        ...,\n        [ 0.0000e+00,  0.0000e+00,  0.0000e+00, ...,  0.0000e+00,\n          0.0000e+00,  0.0000e+00],\n        [ 0.0000e+00,  0.0000e+00,  0.0000e+00, ...,  0.0000e+00,\n          0.0000e+00,  0.0000e+00],\n        [ 0.0000e+00,  0.0000e+00,  0.0000e+00, ...,  0.0000e+00,\n          0.0000e+00,  0.0000e+00]],\n\n       [[ 1.0000e+00,  2.8234e+01,  1.1123e+00, ...,  8.6594e-03,\n         -1.0000e+00,  0.0000e+00],\n        [ 1.0000e+00,  6.3125e+00,  1.0801e+00, ..., -2.9697e-03,\n         -1.0000e+00,  0.0000e+00],\n        [ 1.0000e+00,  5.2969e+00,  1.8896e+00, ...,  6.8542e-02,\n         -1.0000e+00,  0.0000e+00],\n        ...,\n        [ 0.0000e+00,  0.0000e+00,  0.0000e+00, ...,  0.0000e+00,\n          0.0000e+00,  0.0000e+00],\n        [ 0.0000e+00,  0.0000e+00,  0.0000e+00, ...,  0.0000e+00,\n          0.0000e+00,  0.0000e+00],\n        [ 0.0000e+00,  0.0000e+00,  0.0000e+00, ...,  0.0000e+00,\n          0.0000e+00,  0.0000e+00]],\n\n       [[ 1.0000e+00,  3.5586e+00,  2.2632e-01, ...,  5.6190e-03,\n         -1.0000e+00,  0.0000e+00],\n        [ 1.0000e+00,  2.4609e+00,  1.9495e-01, ...,  8.6288e-03,\n         -1.0000e+00,  0.0000e+00],\n        [ 1.0000e+00,  8.3545e-01, -5.4443e-01, ..., -1.4915e-02,\n         -1.0000e+00,  0.0000e+00],\n        ...,\n        [ 0.0000e+00,  0.0000e+00,  0.0000e+00, ...,  0.0000e+00,\n          0.0000e+00,  0.0000e+00],\n        [ 0.0000e+00,  0.0000e+00,  0.0000e+00, ...,  0.0000e+00,\n          0.0000e+00,  0.0000e+00],\n        [ 0.0000e+00,  0.0000e+00,  0.0000e+00, ...,  0.0000e+00,\n          0.0000e+00,  0.0000e+00]]], dtype=float16)>",
     "output_type": "error",
     "traceback": [
      "\u001b[0;31m---------------------------------------------------------------------------\u001b[0m",
      "\u001b[0;31mValueError\u001b[0m                                Traceback (most recent call last)",
      "Cell \u001b[0;32mIn[77], line 2\u001b[0m\n\u001b[1;32m      1\u001b[0m \u001b[38;5;66;03m# Quantize the model prediction\u001b[39;00m\n\u001b[0;32m----> 2\u001b[0m Xs_tf \u001b[38;5;241m=\u001b[39m [tf\u001b[38;5;241m.\u001b[39mconvert_to_tensor(X_q, dtype\u001b[38;5;241m=\u001b[39mtf\u001b[38;5;241m.\u001b[39mfloat32) \u001b[38;5;28;01mfor\u001b[39;00m X_q \u001b[38;5;129;01min\u001b[39;00m quantized_Xs]\n",
      "Cell \u001b[0;32mIn[77], line 2\u001b[0m, in \u001b[0;36m<listcomp>\u001b[0;34m(.0)\u001b[0m\n\u001b[1;32m      1\u001b[0m \u001b[38;5;66;03m# Quantize the model prediction\u001b[39;00m\n\u001b[0;32m----> 2\u001b[0m Xs_tf \u001b[38;5;241m=\u001b[39m [\u001b[43mtf\u001b[49m\u001b[38;5;241;43m.\u001b[39;49m\u001b[43mconvert_to_tensor\u001b[49m\u001b[43m(\u001b[49m\u001b[43mX_q\u001b[49m\u001b[43m,\u001b[49m\u001b[43m \u001b[49m\u001b[43mdtype\u001b[49m\u001b[38;5;241;43m=\u001b[39;49m\u001b[43mtf\u001b[49m\u001b[38;5;241;43m.\u001b[39;49m\u001b[43mfloat32\u001b[49m\u001b[43m)\u001b[49m \u001b[38;5;28;01mfor\u001b[39;00m X_q \u001b[38;5;129;01min\u001b[39;00m quantized_Xs]\n",
      "File \u001b[0;32m~/miniconda3/lib/python3.10/site-packages/tensorflow/python/util/traceback_utils.py:153\u001b[0m, in \u001b[0;36mfilter_traceback.<locals>.error_handler\u001b[0;34m(*args, **kwargs)\u001b[0m\n\u001b[1;32m    151\u001b[0m \u001b[38;5;28;01mexcept\u001b[39;00m \u001b[38;5;167;01mException\u001b[39;00m \u001b[38;5;28;01mas\u001b[39;00m e:\n\u001b[1;32m    152\u001b[0m   filtered_tb \u001b[38;5;241m=\u001b[39m _process_traceback_frames(e\u001b[38;5;241m.\u001b[39m__traceback__)\n\u001b[0;32m--> 153\u001b[0m   \u001b[38;5;28;01mraise\u001b[39;00m e\u001b[38;5;241m.\u001b[39mwith_traceback(filtered_tb) \u001b[38;5;28;01mfrom\u001b[39;00m \u001b[38;5;28;01mNone\u001b[39;00m\n\u001b[1;32m    154\u001b[0m \u001b[38;5;28;01mfinally\u001b[39;00m:\n\u001b[1;32m    155\u001b[0m   \u001b[38;5;28;01mdel\u001b[39;00m filtered_tb\n",
      "File \u001b[0;32m~/miniconda3/lib/python3.10/site-packages/tensorflow/python/framework/tensor.py:762\u001b[0m, in \u001b[0;36mTensor.__tf_tensor__\u001b[0;34m(self, dtype, name)\u001b[0m\n\u001b[1;32m    758\u001b[0m \u001b[38;5;28;01mdef\u001b[39;00m \u001b[38;5;21m__tf_tensor__\u001b[39m(\n\u001b[1;32m    759\u001b[0m     \u001b[38;5;28mself\u001b[39m, dtype: Optional[dtypes\u001b[38;5;241m.\u001b[39mDType] \u001b[38;5;241m=\u001b[39m \u001b[38;5;28;01mNone\u001b[39;00m, name: Optional[\u001b[38;5;28mstr\u001b[39m] \u001b[38;5;241m=\u001b[39m \u001b[38;5;28;01mNone\u001b[39;00m\n\u001b[1;32m    760\u001b[0m     ) \u001b[38;5;241m-\u001b[39m\u001b[38;5;241m>\u001b[39m \u001b[38;5;124m\"\u001b[39m\u001b[38;5;124mTensor\u001b[39m\u001b[38;5;124m\"\u001b[39m:\n\u001b[1;32m    761\u001b[0m   \u001b[38;5;28;01mif\u001b[39;00m dtype \u001b[38;5;129;01mis\u001b[39;00m \u001b[38;5;129;01mnot\u001b[39;00m \u001b[38;5;28;01mNone\u001b[39;00m \u001b[38;5;129;01mand\u001b[39;00m \u001b[38;5;129;01mnot\u001b[39;00m dtype\u001b[38;5;241m.\u001b[39mis_compatible_with(\u001b[38;5;28mself\u001b[39m\u001b[38;5;241m.\u001b[39mdtype):\n\u001b[0;32m--> 762\u001b[0m     \u001b[38;5;28;01mraise\u001b[39;00m \u001b[38;5;167;01mValueError\u001b[39;00m(\n\u001b[1;32m    763\u001b[0m         _add_error_prefix(\n\u001b[1;32m    764\u001b[0m             \u001b[38;5;124mf\u001b[39m\u001b[38;5;124m\"\u001b[39m\u001b[38;5;124mTensor conversion requested dtype \u001b[39m\u001b[38;5;132;01m{\u001b[39;00mdtype\u001b[38;5;241m.\u001b[39mname\u001b[38;5;132;01m}\u001b[39;00m\u001b[38;5;124m \u001b[39m\u001b[38;5;124m\"\u001b[39m\n\u001b[1;32m    765\u001b[0m             \u001b[38;5;124mf\u001b[39m\u001b[38;5;124m\"\u001b[39m\u001b[38;5;124mfor Tensor with dtype \u001b[39m\u001b[38;5;132;01m{\u001b[39;00m\u001b[38;5;28mself\u001b[39m\u001b[38;5;241m.\u001b[39mdtype\u001b[38;5;241m.\u001b[39mname\u001b[38;5;132;01m}\u001b[39;00m\u001b[38;5;124m: \u001b[39m\u001b[38;5;132;01m{\u001b[39;00m\u001b[38;5;28mself\u001b[39m\u001b[38;5;132;01m!r}\u001b[39;00m\u001b[38;5;124m\"\u001b[39m,\n\u001b[1;32m    766\u001b[0m             name\u001b[38;5;241m=\u001b[39mname))\n\u001b[1;32m    767\u001b[0m   \u001b[38;5;28;01mreturn\u001b[39;00m \u001b[38;5;28mself\u001b[39m\n",
      "\u001b[0;31mValueError\u001b[0m: Tensor conversion requested dtype float32 for Tensor with dtype float16: <tf.Tensor: shape=(10, 111, 17), dtype=float16, numpy=\narray([[[ 1.0000e+00,  6.7891e+00,  4.1528e-01, ..., -6.5002e-02,\n         -1.0000e+00,  0.0000e+00],\n        [ 1.0000e+00,  3.7051e+00,  2.9053e-01, ...,  1.7102e-01,\n         -1.0000e+00,  0.0000e+00],\n        [ 1.0000e+00,  3.9102e+00,  8.5205e-01, ..., -3.8509e-03,\n         -1.0000e+00,  0.0000e+00],\n        ...,\n        [ 0.0000e+00,  0.0000e+00,  0.0000e+00, ...,  0.0000e+00,\n          0.0000e+00,  0.0000e+00],\n        [ 0.0000e+00,  0.0000e+00,  0.0000e+00, ...,  0.0000e+00,\n          0.0000e+00,  0.0000e+00],\n        [ 0.0000e+00,  0.0000e+00,  0.0000e+00, ...,  0.0000e+00,\n          0.0000e+00,  0.0000e+00]],\n\n       [[ 1.0000e+00,  8.8281e+00, -1.6934e+00, ...,  2.6764e-02,\n         -1.0000e+00,  0.0000e+00],\n        [ 1.0000e+00,  4.6523e+00,  2.0605e+00, ..., -2.5482e-02,\n         -1.0000e+00,  0.0000e+00],\n        [ 1.0000e+00,  3.5859e+00, -2.2539e+00, ...,  5.1361e-02,\n         -1.0000e+00,  0.0000e+00],\n        ...,\n        [ 0.0000e+00,  0.0000e+00,  0.0000e+00, ...,  0.0000e+00,\n          0.0000e+00,  0.0000e+00],\n        [ 0.0000e+00,  0.0000e+00,  0.0000e+00, ...,  0.0000e+00,\n          0.0000e+00,  0.0000e+00],\n        [ 0.0000e+00,  0.0000e+00,  0.0000e+00, ...,  0.0000e+00,\n          0.0000e+00,  0.0000e+00]],\n\n       [[ 1.0000e+00,  8.0156e+00,  2.3984e+00, ...,  7.4219e-01,\n         -1.0000e+00,  0.0000e+00],\n        [ 1.0000e+00,  2.6660e+00, -1.4648e+00, ..., -8.3923e-02,\n         -1.0000e+00,  0.0000e+00],\n        [ 1.0000e+00,  1.2979e+00,  2.2988e+00, ...,  1.9600e+00,\n         -1.0000e+00,  0.0000e+00],\n        ...,\n        [ 0.0000e+00,  0.0000e+00,  0.0000e+00, ...,  0.0000e+00,\n          0.0000e+00,  0.0000e+00],\n        [ 0.0000e+00,  0.0000e+00,  0.0000e+00, ...,  0.0000e+00,\n          0.0000e+00,  0.0000e+00],\n        [ 0.0000e+00,  0.0000e+00,  0.0000e+00, ...,  0.0000e+00,\n          0.0000e+00,  0.0000e+00]],\n\n       ...,\n\n       [[ 1.0000e+00,  1.3891e+01,  1.0059e+00, ...,  1.4854e-02,\n         -1.0000e+00,  0.0000e+00],\n        [ 1.0000e+00,  7.9219e+00,  1.1804e-01, ..., -8.1863e-03,\n         -1.0000e+00,  0.0000e+00],\n        [ 1.0000e+00,  7.0078e+00,  1.2988e-01, ...,  7.4692e-03,\n         -1.0000e+00,  0.0000e+00],\n        ...,\n        [ 0.0000e+00,  0.0000e+00,  0.0000e+00, ...,  0.0000e+00,\n          0.0000e+00,  0.0000e+00],\n        [ 0.0000e+00,  0.0000e+00,  0.0000e+00, ...,  0.0000e+00,\n          0.0000e+00,  0.0000e+00],\n        [ 0.0000e+00,  0.0000e+00,  0.0000e+00, ...,  0.0000e+00,\n          0.0000e+00,  0.0000e+00]],\n\n       [[ 1.0000e+00,  2.8234e+01,  1.1123e+00, ...,  8.6594e-03,\n         -1.0000e+00,  0.0000e+00],\n        [ 1.0000e+00,  6.3125e+00,  1.0801e+00, ..., -2.9697e-03,\n         -1.0000e+00,  0.0000e+00],\n        [ 1.0000e+00,  5.2969e+00,  1.8896e+00, ...,  6.8542e-02,\n         -1.0000e+00,  0.0000e+00],\n        ...,\n        [ 0.0000e+00,  0.0000e+00,  0.0000e+00, ...,  0.0000e+00,\n          0.0000e+00,  0.0000e+00],\n        [ 0.0000e+00,  0.0000e+00,  0.0000e+00, ...,  0.0000e+00,\n          0.0000e+00,  0.0000e+00],\n        [ 0.0000e+00,  0.0000e+00,  0.0000e+00, ...,  0.0000e+00,\n          0.0000e+00,  0.0000e+00]],\n\n       [[ 1.0000e+00,  3.5586e+00,  2.2632e-01, ...,  5.6190e-03,\n         -1.0000e+00,  0.0000e+00],\n        [ 1.0000e+00,  2.4609e+00,  1.9495e-01, ...,  8.6288e-03,\n         -1.0000e+00,  0.0000e+00],\n        [ 1.0000e+00,  8.3545e-01, -5.4443e-01, ..., -1.4915e-02,\n         -1.0000e+00,  0.0000e+00],\n        ...,\n        [ 0.0000e+00,  0.0000e+00,  0.0000e+00, ...,  0.0000e+00,\n          0.0000e+00,  0.0000e+00],\n        [ 0.0000e+00,  0.0000e+00,  0.0000e+00, ...,  0.0000e+00,\n          0.0000e+00,  0.0000e+00],\n        [ 0.0000e+00,  0.0000e+00,  0.0000e+00, ...,  0.0000e+00,\n          0.0000e+00,  0.0000e+00]]], dtype=float16)>"
     ]
    }
   ],
   "source": [
    "# Quantize the model prediction\n",
    "Xs_tf = [tf.convert_to_tensor(X_q, dtype=tf.float32) for X_q in quantized_Xs]\n"
   ]
  },
  {
   "cell_type": "code",
   "execution_count": 73,
   "id": "74e62ff0",
   "metadata": {},
   "outputs": [],
   "source": [
    "quantized_Xs = [tf.constant(x, dtype=tf.float16) for x in Xs]\n",
    "\n",
    "ys_quantized = [np.round(y * 127).astype(np.int8) for y in ys]\n"
   ]
  },
  {
   "cell_type": "code",
   "execution_count": 74,
   "id": "1e4f7556",
   "metadata": {},
   "outputs": [],
   "source": [
    "true_pts = []\n",
    "pred_pts = []\n",
    "\n",
    "for ibatch in range(len(Xs)):\n",
    "    ret = model(Xs_tf[ibatch])\n",
    "\n",
    "    mask_true_particles = ys_quantized[ibatch][..., 0]!=0\n",
    "    \n",
    "    true_pt = ys[ibatch][mask_true_particles, 2]\n",
    "    pred_pt = ret[\"pt\"][mask_true_particles][..., 0].numpy()\n",
    "\n",
    "    true_pts.append(true_pt)\n",
    "    pred_pts.append(pred_pt)"
   ]
  },
  {
   "cell_type": "code",
   "execution_count": 75,
   "id": "e1f61779",
   "metadata": {},
   "outputs": [],
   "source": [
    "true_pt = np.concatenate(true_pts)\n",
    "pred_pt = np.concatenate(pred_pts)"
   ]
  },
  {
   "cell_type": "code",
   "execution_count": 76,
   "id": "f6c6ed26",
   "metadata": {},
   "outputs": [
    {
     "data": {
      "image/png": "[encoded data removed]",
      "text/plain": [
       "<Figure size 640x480 with 1 Axes>"
      ]
     },
     "metadata": {},
     "output_type": "display_data"
    }
   ],
   "source": [
    "plt.hist(pred_pt/true_pt, bins=np.linspace(0,3,100));\n",
    "plt.title(\"After FP16 Quantization\")\n",
    "plt.yscale(\"log\")\n",
    "# plt.savefig('Output_after_INT8_quantization.png')"
   ]
  },
  {
   "cell_type": "code",
   "execution_count": null,
   "id": "fd7973ad",
   "metadata": {},
   "outputs": [],
   "source": []
  },
  {
   "cell_type": "code",
   "execution_count": null,
   "id": "c5161d1f",
   "metadata": {},
   "outputs": [],
   "source": []
  },
  {
   "cell_type": "markdown",
   "id": "9b2742ce",
   "metadata": {},
   "source": [
    "**Goal**: \\\n",
    "Target and goal is to convert the model  into the tensorflow quantized model and further after quantizing the dataset measure the inference time. "
   ]
  },
  {
   "cell_type": "code",
   "execution_count": null,
   "id": "5ae44e11",
   "metadata": {},
   "outputs": [],
   "source": []
  },
  {
   "cell_type": "code",
   "execution_count": null,
   "id": "97ce4e0c",
   "metadata": {},
   "outputs": [],
   "source": []
  }
 ],
 "metadata": {
  "kernelspec": {
   "display_name": "Python 3 (ipykernel)",
   "language": "python",
   "name": "python3"
  },
  "language_info": {
   "codemirror_mode": {
    "name": "ipython",
    "version": 3
   },
   "file_extension": ".py",
   "mimetype": "text/x-python",
   "name": "python",
   "nbconvert_exporter": "python",
   "pygments_lexer": "ipython3",
   "version": "3.10.10"
  }
 },
 "nbformat": 4,
 "nbformat_minor": 5
}
