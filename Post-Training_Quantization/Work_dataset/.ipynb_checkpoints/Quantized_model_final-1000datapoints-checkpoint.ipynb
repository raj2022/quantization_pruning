{
 "cells": [
  {
   "cell_type": "code",
   "execution_count": 1,
   "id": "dd29169a",
   "metadata": {},
   "outputs": [
    {
     "name": "stderr",
     "output_type": "stream",
     "text": [
      "2023-11-27 08:11:47.680280: I tensorflow/tsl/cuda/cudart_stub.cc:28] Could not find cuda drivers on your machine, GPU will not be used.\n",
      "2023-11-27 08:11:47.723268: E tensorflow/compiler/xla/stream_executor/cuda/cuda_dnn.cc:9342] Unable to register cuDNN factory: Attempting to register factory for plugin cuDNN when one has already been registered\n",
      "2023-11-27 08:11:47.723296: E tensorflow/compiler/xla/stream_executor/cuda/cuda_fft.cc:609] Unable to register cuFFT factory: Attempting to register factory for plugin cuFFT when one has already been registered\n",
      "2023-11-27 08:11:47.723316: E tensorflow/compiler/xla/stream_executor/cuda/cuda_blas.cc:1518] Unable to register cuBLAS factory: Attempting to register factory for plugin cuBLAS when one has already been registered\n",
      "2023-11-27 08:11:47.728447: I tensorflow/tsl/cuda/cudart_stub.cc:28] Could not find cuda drivers on your machine, GPU will not be used.\n",
      "2023-11-27 08:11:47.728788: I tensorflow/core/platform/cpu_feature_guard.cc:182] This TensorFlow binary is optimized to use available CPU instructions in performance-critical operations.\n",
      "To enable the following instructions: AVX2 FMA, in other operations, rebuild TensorFlow with the appropriate compiler flags.\n",
      "2023-11-27 08:11:48.545396: W tensorflow/compiler/tf2tensorrt/utils/py_utils.cc:38] TF-TRT Warning: Could not find TensorRT\n"
     ]
    }
   ],
   "source": [
    "import tensorflow as tf\n",
    "import tensorflow_datasets as tfds\n",
    "\n",
    "%matplotlib inline\n",
    "import matplotlib.pyplot as plt\n",
    "import numpy as np"
   ]
  },
  {
   "cell_type": "code",
   "execution_count": 2,
   "id": "76db36c1",
   "metadata": {},
   "outputs": [
    {
     "name": "stderr",
     "output_type": "stream",
     "text": [
      "WARNING:root:horovod not found, ignoring\n",
      "WARNING:root:horovod not found, ignoring\n"
     ]
    }
   ],
   "source": [
    "import sys\n",
    "sys.path += [\"../../../../particleflow/mlpf/\"]\n",
    "from tfmodel.model_setup import make_model\n",
    "from tfmodel.utils import parse_config"
   ]
  },
  {
   "cell_type": "code",
   "execution_count": 3,
   "id": "068163e1",
   "metadata": {},
   "outputs": [],
   "source": [
    "config, _ = parse_config(\"../../../../particleflow/parameters/clic.yaml\")"
   ]
  },
  {
   "cell_type": "code",
   "execution_count": 4,
   "id": "573e563e",
   "metadata": {},
   "outputs": [],
   "source": [
    "model = make_model(config, tf.float32)\n",
    "model.build((1, None, config[\"dataset\"][\"num_input_features\"]))\n"
   ]
  },
  {
   "cell_type": "code",
   "execution_count": 5,
   "id": "a6aa3018",
   "metadata": {},
   "outputs": [
    {
     "name": "stdout",
     "output_type": "stream",
     "text": [
      "Model: \"pf_net_dense\"\n",
      "_________________________________________________________________\n",
      " Layer (type)                Output Shape              Param #   \n",
      "=================================================================\n",
      " normalization (Normalizati  multiple                  33        \n",
      " on)                                                             \n",
      "                                                                 \n",
      " node_encoding (Sequential)  (1, None, 256)            70912     \n",
      "                                                                 \n",
      " input_encoding_clic (Input  multiple                  0         \n",
      " EncodingCLIC)                                                   \n",
      "                                                                 \n",
      " cg_id_0 (CombinedGraphLaye  multiple                  440128    \n",
      " r)                                                              \n",
      "                                                                 \n",
      " cg_id_1 (CombinedGraphLaye  multiple                  440128    \n",
      " r)                                                              \n",
      "                                                                 \n",
      " cg_id_2 (CombinedGraphLaye  multiple                  440128    \n",
      " r)                                                              \n",
      "                                                                 \n",
      " cg_id_3 (CombinedGraphLaye  multiple                  440128    \n",
      " r)                                                              \n",
      "                                                                 \n",
      " cg_id_4 (CombinedGraphLaye  multiple                  440128    \n",
      " r)                                                              \n",
      "                                                                 \n",
      " cg_id_5 (CombinedGraphLaye  multiple                  440128    \n",
      " r)                                                              \n",
      "                                                                 \n",
      " cg_reg_0 (CombinedGraphLay  multiple                  440128    \n",
      " er)                                                             \n",
      "                                                                 \n",
      " cg_reg_1 (CombinedGraphLay  multiple                  440128    \n",
      " er)                                                             \n",
      "                                                                 \n",
      " cg_reg_2 (CombinedGraphLay  multiple                  440128    \n",
      " er)                                                             \n",
      "                                                                 \n",
      " cg_reg_3 (CombinedGraphLay  multiple                  440128    \n",
      " er)                                                             \n",
      "                                                                 \n",
      " cg_reg_4 (CombinedGraphLay  multiple                  440128    \n",
      " er)                                                             \n",
      "                                                                 \n",
      " cg_reg_5 (CombinedGraphLay  multiple                  440128    \n",
      " er)                                                             \n",
      "                                                                 \n",
      " output_decoding (OutputDec  multiple                  269967    \n",
      " oding)                                                          \n",
      "                                                                 \n",
      "=================================================================\n",
      "Total params: 5622448 (21.45 MB)\n",
      "Trainable params: 5468815 (20.86 MB)\n",
      "Non-trainable params: 153633 (600.13 KB)\n",
      "_________________________________________________________________\n"
     ]
    }
   ],
   "source": [
    "model.summary()"
   ]
  },
  {
   "cell_type": "code",
   "execution_count": 6,
   "id": "f432bd51",
   "metadata": {},
   "outputs": [],
   "source": [
    "model.load_weights(\"weights-96-5.346523.hdf5\", skip_mismatch=False, by_name=True)\n",
    "## These files hosted at https://huggingface.co/jpata/particleflow/tree/clic_clusters_v1.6"
   ]
  },
  {
   "cell_type": "code",
   "execution_count": 7,
   "id": "3e0b4882",
   "metadata": {},
   "outputs": [],
   "source": [
    "## Reading the dataset\n",
    "ds_builder = tfds.builder(\"clic_edm_qq_pf\", data_dir = '../../../tensorflow_datasets/')\n",
    "dss = ds_builder.as_data_source(\"test\")\n",
    "\n"
   ]
  },
  {
   "cell_type": "code",
   "execution_count": 8,
   "id": "d2a6f103",
   "metadata": {},
   "outputs": [],
   "source": [
    "def yield_from_ds():\n",
    "    for elem in dss:\n",
    "        yield {\"X\": elem[\"X\"], \"ygen\": elem[\"ygen\"], \"ycand\": elem[\"ycand\"]}\n",
    "        "
   ]
  },
  {
   "cell_type": "code",
   "execution_count": 9,
   "id": "1d36e85d",
   "metadata": {},
   "outputs": [],
   "source": [
    "output_signature = {k: tf.TensorSpec(shape=(None, v.shape[1])) for (k, v) in dss.dataset_info.features.items()}\n",
    "tf_dataset = tf.data.Dataset.from_generator(yield_from_ds, output_signature=output_signature).take(1000).padded_batch(batch_size=100)\n",
    "# Taking 1000 data points from the TensorFlow datasets in the batch size of 100"
   ]
  },
  {
   "cell_type": "code",
   "execution_count": 10,
   "id": "f0371c23",
   "metadata": {},
   "outputs": [],
   "source": [
    "data = list(tfds.as_numpy(tf_dataset))\n"
   ]
  },
  {
   "cell_type": "code",
   "execution_count": 11,
   "id": "67de4693",
   "metadata": {},
   "outputs": [],
   "source": [
    "Xs = [d[\"X\"] for d in data]      # \n",
    "ys = [d[\"ygen\"] for d in data]"
   ]
  },
  {
   "cell_type": "code",
   "execution_count": 12,
   "id": "86638326",
   "metadata": {},
   "outputs": [
    {
     "name": "stderr",
     "output_type": "stream",
     "text": [
      "2023-11-27 08:12:18.652401: W tensorflow/tsl/framework/cpu_allocator_impl.cc:83] Allocation of 26214400 exceeds 10% of free system memory.\n",
      "2023-11-27 08:12:18.670153: W tensorflow/tsl/framework/cpu_allocator_impl.cc:83] Allocation of 26214400 exceeds 10% of free system memory.\n",
      "2023-11-27 08:12:18.675351: W tensorflow/tsl/framework/cpu_allocator_impl.cc:83] Allocation of 26214400 exceeds 10% of free system memory.\n",
      "2023-11-27 08:12:18.679279: W tensorflow/tsl/framework/cpu_allocator_impl.cc:83] Allocation of 26214400 exceeds 10% of free system memory.\n",
      "2023-11-27 08:12:18.686870: W tensorflow/tsl/framework/cpu_allocator_impl.cc:83] Allocation of 26214400 exceeds 10% of free system memory.\n"
     ]
    }
   ],
   "source": [
    "true_pts = []\n",
    "pred_pts = []\n",
    "\n",
    "for ibatch in range(len(Xs)):\n",
    "    ret = model(Xs[ibatch])\n",
    "\n",
    "    mask_true_particles = ys[ibatch][..., 0]!=0\n",
    "    \n",
    "    true_pt = ys[ibatch][mask_true_particles, 2]\n",
    "    pred_pt = ret[\"pt\"][mask_true_particles][..., 0].numpy()\n",
    "\n",
    "    true_pts.append(true_pt)\n",
    "    pred_pts.append(pred_pt)"
   ]
  },
  {
   "cell_type": "code",
   "execution_count": 13,
   "id": "97e1fba0",
   "metadata": {},
   "outputs": [],
   "source": [
    "true_pt = np.concatenate(true_pts)\n",
    "pred_pt = np.concatenate(pred_pts)"
   ]
  },
  {
   "cell_type": "code",
   "execution_count": 14,
   "id": "615d0df4",
   "metadata": {},
   "outputs": [
    {
     "data": {
      "image/png": "[encoded data removed]",
      "text/plain": [
       "<Figure size 640x480 with 1 Axes>"
      ]
     },
     "metadata": {},
     "output_type": "display_data"
    }
   ],
   "source": [
    "plt.hist(pred_pt/true_pt, bins=np.linspace(0,3,100));\n",
    "plt.yscale(\"log\")"
   ]
  },
  {
   "cell_type": "markdown",
   "id": "d3292af2",
   "metadata": {},
   "source": [
    "## Post-Training Quantization"
   ]
  },
  {
   "cell_type": "markdown",
   "id": "cc6a1493",
   "metadata": {},
   "source": [
    "### Quantize the model"
   ]
  },
  {
   "cell_type": "code",
   "execution_count": 15,
   "id": "9f26b8c3",
   "metadata": {},
   "outputs": [],
   "source": [
    "import tensorflow_model_optimization as tfmot"
   ]
  },
  {
   "cell_type": "code",
   "execution_count": 17,
   "id": "d566c09e",
   "metadata": {},
   "outputs": [
    {
     "name": "stderr",
     "output_type": "stream",
     "text": [
      "2023-11-27 08:14:24.199638: W tensorflow/compiler/mlir/lite/python/tf_tfl_flatbuffer_helpers.cc:378] Ignored output_format.\n",
      "2023-11-27 08:14:24.199668: W tensorflow/compiler/mlir/lite/python/tf_tfl_flatbuffer_helpers.cc:381] Ignored drop_control_dependency.\n",
      "2023-11-27 08:14:24.200202: I tensorflow/cc/saved_model/reader.cc:83] Reading SavedModel from: /tmp/tmp_jnykahv\n",
      "2023-11-27 08:14:24.250209: I tensorflow/cc/saved_model/reader.cc:51] Reading meta graph with tags { serve }\n",
      "2023-11-27 08:14:24.250238: I tensorflow/cc/saved_model/reader.cc:146] Reading SavedModel debug info (if present) from: /tmp/tmp_jnykahv\n",
      "2023-11-27 08:14:24.362548: I tensorflow/compiler/mlir/mlir_graph_optimization_pass.cc:382] MLIR V1 optimization pass is not enabled\n",
      "2023-11-27 08:14:24.414906: I tensorflow/cc/saved_model/loader.cc:233] Restoring SavedModel bundle.\n",
      "2023-11-27 08:14:25.076501: I tensorflow/cc/saved_model/loader.cc:217] Running initialization op on SavedModel bundle at path: /tmp/tmp_jnykahv\n",
      "2023-11-27 08:14:25.490740: I tensorflow/cc/saved_model/loader.cc:316] SavedModel load for tags { serve }; Status: success: OK. Took 1290539 microseconds.\n",
      "2023-11-27 08:14:26.149487: I tensorflow/compiler/mlir/tensorflow/utils/dump_mlir_util.cc:269] disabling MLIR crash reproducer, set env var `MLIR_CRASH_REPRODUCER_DIRECTORY` to enable.\n"
     ]
    }
   ],
   "source": [
    "# Convert the new model to a TensorFlow Lite model\n",
    "\n",
    "converter = tf.lite.TFLiteConverter.from_keras_model(model)\n",
    "converter.optimizations = [tf.lite.Optimize.DEFAULT]\n",
    "quantized_tflite_model = converter.convert()\n",
    "\n"
   ]
  },
  {
   "cell_type": "code",
   "execution_count": 18,
   "id": "47e98f90",
   "metadata": {},
   "outputs": [],
   "source": [
    "# Save the TensorFlow Lite model to a file\n",
    "with open(\"quantized_model.tflite\", \"wb\") as f:\n",
    "    f.write(quantized_tflite_model)"
   ]
  },
  {
   "cell_type": "markdown",
   "id": "257b1314",
   "metadata": {},
   "source": [
    "### Quantize the dataset"
   ]
  },
  {
   "cell_type": "markdown",
   "id": "70a6132a",
   "metadata": {},
   "source": [
    "To quantize the dataset, you can apply quantization to the features and labels before feeding them to the model. You can achieve this by normalizing the values to a quantized range."
   ]
  },
  {
   "cell_type": "code",
   "execution_count": 19,
   "id": "f0009be3",
   "metadata": {},
   "outputs": [],
   "source": [
    "# Xs"
   ]
  },
  {
   "cell_type": "code",
   "execution_count": 20,
   "id": "e7aebd48",
   "metadata": {},
   "outputs": [],
   "source": [
    "Xs_quantized = [np.round(X * 127).astype(np.int8) for X in Xs]\n",
    "Xs_tf = [tf.convert_to_tensor(X_q, dtype=tf.float32) for X_q in Xs_quantized]\n",
    "\n",
    "ys_quantized = [np.round(y * 127).astype(np.int8) for y in ys]\n"
   ]
  },
  {
   "cell_type": "code",
   "execution_count": 21,
   "id": "bab64926",
   "metadata": {},
   "outputs": [],
   "source": [
    "# Convert quantized features to TensorFlow tensors\n",
    "Xs_tf = [tf.convert_to_tensor(X_q, dtype=tf.float32) for X_q in Xs_quantized]\n",
    "\n",
    "# Convert quantized labels to TensorFlow tensors\n",
    "ys_tf = [tf.convert_to_tensor(y_q, dtype=tf.float32) for y_q in ys_quantized]\n"
   ]
  },
  {
   "cell_type": "markdown",
   "id": "eeea08d8",
   "metadata": {},
   "source": [
    "After converting the data to TensorFlow tensors, you can perform inference using your quantized model:\n"
   ]
  },
  {
   "cell_type": "code",
   "execution_count": 22,
   "id": "9f69cd00",
   "metadata": {},
   "outputs": [
    {
     "name": "stderr",
     "output_type": "stream",
     "text": [
      "INFO: Created TensorFlow Lite XNNPACK delegate for CPU.\n"
     ]
    }
   ],
   "source": [
    "# Assuming you have a TensorFlow Lite quantized model (quantized_tflite_model)\n",
    "interpreter = tf.lite.Interpreter(model_content=quantized_tflite_model)\n",
    "interpreter.allocate_tensors()\n"
   ]
  },
  {
   "cell_type": "code",
   "execution_count": 23,
   "id": "fb420cab",
   "metadata": {},
   "outputs": [],
   "source": [
    "# Get input and output details\n",
    "input_details = interpreter.get_input_details()\n",
    "output_details = interpreter.get_output_details()\n"
   ]
  },
  {
   "cell_type": "code",
   "execution_count": 24,
   "id": "cabbaf1a",
   "metadata": {},
   "outputs": [
    {
     "name": "stdout",
     "output_type": "stream",
     "text": [
      "Expected input shape: [  1 195  17]\n"
     ]
    }
   ],
   "source": [
    "# Checking the expected shape of the input tensor\n",
    "expected_input_shape = input_details[0]['shape']\n",
    "print(\"Expected input shape:\", expected_input_shape)\n",
    "\n"
   ]
  },
  {
   "cell_type": "code",
   "execution_count": 25,
   "id": "cb9d37c2",
   "metadata": {},
   "outputs": [],
   "source": [
    "import time\n",
    "import numpy as np\n",
    "import matplotlib.pyplot as plt"
   ]
  },
  {
   "cell_type": "code",
   "execution_count": 26,
   "id": "20334ff9",
   "metadata": {},
   "outputs": [],
   "source": [
    "import time\n",
    "\n",
    "start_time = time.time()\n",
    "\n",
    "# Create an interpreter for the quantized model\n",
    "interpreter_quantized = tf.lite.Interpreter(model_content=quantized_tflite_model)\n",
    "interpreter_quantized.allocate_tensors()\n",
    "\n"
   ]
  },
  {
   "cell_type": "code",
   "execution_count": 27,
   "id": "5ee60273",
   "metadata": {},
   "outputs": [],
   "source": [
    "# Get input and output details\n",
    "input_details = interpreter.get_input_details()\n",
    "output_details = interpreter.get_output_details()\n"
   ]
  },
  {
   "cell_type": "code",
   "execution_count": 28,
   "id": "78a0fd2b",
   "metadata": {},
   "outputs": [
    {
     "name": "stdout",
     "output_type": "stream",
     "text": [
      "Expected input shape: [  1 195  17]\n"
     ]
    }
   ],
   "source": [
    "# Checking the expected shape of the input tensor\n",
    "expected_input_shape = input_details[0]['shape']\n",
    "print(\"Expected input shape:\", expected_input_shape)"
   ]
  },
  {
   "cell_type": "code",
   "execution_count": 29,
   "id": "836e9b40",
   "metadata": {},
   "outputs": [],
   "source": [
    "# Run inference\n",
    "interpreter.invoke()"
   ]
  },
  {
   "cell_type": "code",
   "execution_count": 30,
   "id": "e4fc118b",
   "metadata": {},
   "outputs": [],
   "source": [
    "# Get the output tensor\n",
    "output_tensor = interpreter.get_tensor(output_details[0]['index'])\n"
   ]
  },
  {
   "cell_type": "code",
   "execution_count": 31,
   "id": "7187e224",
   "metadata": {},
   "outputs": [],
   "source": [
    "import time\n",
    "\n",
    "start_time = time.time()\n",
    "\n",
    "# Create an interpreter for the quantized model\n",
    "interpreter_quantized = tf.lite.Interpreter(model_content=quantized_tflite_model)\n",
    "interpreter_quantized.allocate_tensors()\n"
   ]
  },
  {
   "cell_type": "code",
   "execution_count": 32,
   "id": "b14440e2",
   "metadata": {},
   "outputs": [],
   "source": [
    "# Measure inference time and process output for the quantized dataset\n",
    "inference_times_quantized = []\n"
   ]
  },
  {
   "cell_type": "code",
   "execution_count": 33,
   "id": "94411d90",
   "metadata": {},
   "outputs": [
    {
     "name": "stdout",
     "output_type": "stream",
     "text": [
      "Shape of X_q before reshaping: (100, 195, 17)\n",
      "Shape of X_q before reshaping: (100, 159, 17)\n",
      "Shape of X_q before reshaping: (100, 173, 17)\n",
      "Shape of X_q before reshaping: (100, 144, 17)\n",
      "Shape of X_q before reshaping: (100, 192, 17)\n",
      "Shape of X_q before reshaping: (100, 189, 17)\n",
      "Shape of X_q before reshaping: (100, 193, 17)\n",
      "Shape of X_q before reshaping: (100, 183, 17)\n",
      "Shape of X_q before reshaping: (100, 186, 17)\n",
      "Shape of X_q before reshaping: (100, 162, 17)\n"
     ]
    }
   ],
   "source": [
    "for X_q in Xs_tf:\n",
    "    # Print the shape of X_q before reshaping\n",
    "    print(\"Shape of X_q before reshaping:\", X_q.shape)\n",
    "    \n",
    "    "
   ]
  },
  {
   "cell_type": "code",
   "execution_count": 37,
   "id": "ef12468a",
   "metadata": {},
   "outputs": [
    {
     "name": "stdout",
     "output_type": "stream",
     "text": [
      "Shape of X_q_padded: (100, 195, 17)\n",
      "Shape of X_q_reshaped_batched: (1, 100, 195, 17)\n"
     ]
    },
    {
     "ename": "ValueError",
     "evalue": "Cannot set tensor: Dimension mismatch. Got 4 but expected 3 for input 0.",
     "output_type": "error",
     "traceback": [
      "\u001b[0;31m---------------------------------------------------------------------------\u001b[0m",
      "\u001b[0;31mValueError\u001b[0m                                Traceback (most recent call last)",
      "Cell \u001b[0;32mIn[37], line 37\u001b[0m\n\u001b[1;32m     34\u001b[0m \u001b[38;5;28mprint\u001b[39m(\u001b[38;5;124mf\u001b[39m\u001b[38;5;124m\"\u001b[39m\u001b[38;5;124mShape of X_q_reshaped_batched: \u001b[39m\u001b[38;5;132;01m{\u001b[39;00mX_q_reshaped_batched\u001b[38;5;241m.\u001b[39mshape\u001b[38;5;132;01m}\u001b[39;00m\u001b[38;5;124m\"\u001b[39m)\n\u001b[1;32m     36\u001b[0m \u001b[38;5;66;03m# Set input tensor\u001b[39;00m\n\u001b[0;32m---> 37\u001b[0m \u001b[43minterpreter_quantized\u001b[49m\u001b[38;5;241;43m.\u001b[39;49m\u001b[43mset_tensor\u001b[49m\u001b[43m(\u001b[49m\u001b[43minput_details\u001b[49m\u001b[43m[\u001b[49m\u001b[38;5;241;43m0\u001b[39;49m\u001b[43m]\u001b[49m\u001b[43m[\u001b[49m\u001b[38;5;124;43m'\u001b[39;49m\u001b[38;5;124;43mindex\u001b[39;49m\u001b[38;5;124;43m'\u001b[39;49m\u001b[43m]\u001b[49m\u001b[43m,\u001b[49m\u001b[43m \u001b[49m\u001b[43mX_q_reshaped_batched\u001b[49m\u001b[43m)\u001b[49m\n\u001b[1;32m     39\u001b[0m \u001b[38;5;66;03m# Run inference\u001b[39;00m\n\u001b[1;32m     40\u001b[0m start_time \u001b[38;5;241m=\u001b[39m time\u001b[38;5;241m.\u001b[39mtime()\n",
      "File \u001b[0;32m~/miniconda3/lib/python3.10/site-packages/tensorflow/lite/python/interpreter.py:720\u001b[0m, in \u001b[0;36mInterpreter.set_tensor\u001b[0;34m(self, tensor_index, value)\u001b[0m\n\u001b[1;32m    704\u001b[0m \u001b[38;5;28;01mdef\u001b[39;00m \u001b[38;5;21mset_tensor\u001b[39m(\u001b[38;5;28mself\u001b[39m, tensor_index, value):\n\u001b[1;32m    705\u001b[0m \u001b[38;5;250m  \u001b[39m\u001b[38;5;124;03m\"\"\"Sets the value of the input tensor.\u001b[39;00m\n\u001b[1;32m    706\u001b[0m \n\u001b[1;32m    707\u001b[0m \u001b[38;5;124;03m  Note this copies data in `value`.\u001b[39;00m\n\u001b[0;32m   (...)\u001b[0m\n\u001b[1;32m    718\u001b[0m \u001b[38;5;124;03m    ValueError: If the interpreter could not set the tensor.\u001b[39;00m\n\u001b[1;32m    719\u001b[0m \u001b[38;5;124;03m  \"\"\"\u001b[39;00m\n\u001b[0;32m--> 720\u001b[0m   \u001b[38;5;28;43mself\u001b[39;49m\u001b[38;5;241;43m.\u001b[39;49m\u001b[43m_interpreter\u001b[49m\u001b[38;5;241;43m.\u001b[39;49m\u001b[43mSetTensor\u001b[49m\u001b[43m(\u001b[49m\u001b[43mtensor_index\u001b[49m\u001b[43m,\u001b[49m\u001b[43m \u001b[49m\u001b[43mvalue\u001b[49m\u001b[43m)\u001b[49m\n",
      "\u001b[0;31mValueError\u001b[0m: Cannot set tensor: Dimension mismatch. Got 4 but expected 3 for input 0."
     ]
    }
   ],
   "source": [
    "# Initialize lists to store true and predicted values\n",
    "true_pts_quantized = []\n",
    "pred_pts_quantized = []\n",
    "\n",
    "# Perform inference on the quantized dataset\n",
    "for X_q in Xs_tf:\n",
    "    # Assuming X_q is a NumPy array\n",
    "    target_shape = (100, 195, 17)\n",
    "\n",
    "    # Determine the length of the second dimension in X_q\n",
    "    current_length = X_q.shape[1]\n",
    "\n",
    "    # Pad or truncate X_q to match the target length\n",
    "    if current_length < target_shape[1]:\n",
    "        # Pad with zeros\n",
    "        X_q_padded = np.pad(X_q, ((0, 0), (0, target_shape[1] - current_length), (0, 0)), mode='constant')\n",
    "    elif current_length > target_shape[1]:\n",
    "        # Truncate\n",
    "        X_q_padded = X_q[:, :target_shape[1], :]\n",
    "    else:\n",
    "        # No need to change the shape\n",
    "        X_q_padded = X_q\n",
    "\n",
    "    # Print the shapes for debugging\n",
    "    print(f\"Shape of X_q_padded: {X_q_padded.shape}\")\n",
    "\n",
    "    # Reshape to match the expected shape\n",
    "    X_q_reshaped = np.resize(X_q_padded, target_shape)\n",
    "\n",
    "    # Add an extra dimension to represent the batch size\n",
    "    X_q_reshaped_batched = np.expand_dims(X_q_reshaped, axis=0)\n",
    "\n",
    "    # Print the shape for debugging\n",
    "    print(f\"Shape of X_q_reshaped_batched: {X_q_reshaped_batched.shape}\")\n",
    "\n",
    "    # Set input tensor\n",
    "    interpreter_quantized.set_tensor(input_details[0]['index'], X_q_reshaped_batched)\n",
    "\n",
    "    # Run inference\n",
    "    start_time = time.time()\n",
    "    interpreter_quantized.invoke()\n",
    "    end_time = time.time()\n",
    "    inference_times_quantized.append(end_time - start_time)\n",
    "\n",
    "    # Get output tensor\n",
    "    output_tensor_quantized = interpreter_quantized.get_tensor(output_details[0]['index'])\n",
    "\n",
    "    # Process the output as needed\n",
    "    # Assuming a classification task with softmax output\n",
    "    predicted_probabilities_quantized = output_tensor_quantized[0]\n",
    "\n",
    "    # Get the confidence score for the true class\n",
    "    confidence_score_quantized = predicted_probabilities_quantized[mask_true_particles[0, :111]]\n",
    "\n",
    "    # Get the predicted class (index with the highest probability)\n",
    "    predicted_class_quantized = np.argmax(predicted_probabilities_quantized, axis=1)\n",
    "    \n",
    "    # Extract the first row for boolean indexing\n",
    "    mask_true_particles_row = mask_true_particles[0, :10]\n",
    "    \n",
    "    # Append true and predicted pt values\n",
    "    true_pt_quantized = ys[ibatch][mask_true_particles_row, 2]\n",
    "    pred_pt_quantized = confidence_score_quantized  # Adjust based on your output structure\n",
    "    true_pts_quantized.append(true_pt_quantized)\n",
    "    pred_pts_quantized.append(pred_pt_quantized)\n",
    "\n",
    "# After the loop, concatenate true and predicted pt values\n",
    "true_pt_quantized = np.concatenate(true_pts_quantized)\n",
    "pred_pt_quantized = np.concatenate(pred_pts_quantized)\n",
    "\n",
    "# Print the final shapes for debugging\n",
    "print(f\"Final shape of true_pt_quantized: {true_pt_quantized.shape}\")\n",
    "print(f\"Final shape of pred_pt_quantized: {pred_pt_quantized.shape}\")\n",
    "\n",
    "# Plot the histogram\n",
    "plt.hist(pred_pt_quantized[:80] / true_pt_quantized[:, 0], bins=np.linspace(0, 3, 100))\n",
    "plt.title(\"After INT8 Quantization\")\n",
    "plt.yscale(\"log\")\n",
    "plt.show()\n"
   ]
  },
  {
   "cell_type": "markdown",
   "id": "49ef4865",
   "metadata": {},
   "source": [
    "with another method"
   ]
  },
  {
   "cell_type": "code",
   "execution_count": 37,
   "id": "b4dd02bf",
   "metadata": {},
   "outputs": [
    {
     "name": "stderr",
     "output_type": "stream",
     "text": [
      "/tmp/ipykernel_42840/225353060.py:6: RuntimeWarning: divide by zero encountered in divide\n",
      "  plt.hist(pred_pt_quantized / true_pt_quantized_repeated, bins=np.linspace(0, 3, 100))\n",
      "/tmp/ipykernel_42840/225353060.py:6: RuntimeWarning: invalid value encountered in divide\n",
      "  plt.hist(pred_pt_quantized / true_pt_quantized_repeated, bins=np.linspace(0, 3, 100))\n"
     ]
    },
    {
     "data": {
      "text/plain": [
       "(array([[ 19.,   0.,   0.,   0.,   0.,   0.,   0.,   0.,   0.,   0.,   0.,\n",
       "           0.,   0.,   0.,   0.,   0.,   0.,   0.,   0.,   0.,   0.,   0.,\n",
       "           0.,   0.,   0.,   0.,   0.,   0.,   0.,   0.,   0.,   0.,   0.,\n",
       "         113.,   0.,   0.,   0.,   0.,   0.,   0.,   0.,   0.,   0.,   0.,\n",
       "           0.,   0.,   0.,   0.,   0.,   0.,   0.,   0.,   0.,   0.,   0.,\n",
       "           0.,   0.,   0.,   0.,   0.,   0.,   0.,   0.,   0.,   0.,   0.,\n",
       "           0.,   0.,   0.,   0.,   0.,   0.,   0.,   0.,   0.,   0.,   0.,\n",
       "           0.,   0.,   0.,   0.,   0.,   0.,   0.,   0.,   0.,   0.,   0.,\n",
       "           0.,   0.,   0.,   0.,   0.,   0.,   0.,   0.,   0.,   0.,   0.],\n",
       "        [ 19.,   0.,   0.,   0.,   0.,   0.,   0.,   0.,   0.,   0.,   0.,\n",
       "           0.,   0.,   0.,   0.,   0.,   0.,   0.,   0.,   0.,   0.,   0.,\n",
       "           0.,   0.,   0.,   0.,   0.,   0.,   0.,   0.,   0.,   0.,   0.,\n",
       "         106.,   0.,   0.,   0.,   0.,   0.,   0.,   0.,   0.,   0.,   0.,\n",
       "           0.,   0.,   0.,   0.,   0.,   0.,   0.,   0.,   0.,   0.,   0.,\n",
       "           0.,   0.,   0.,   0.,   0.,   0.,   0.,   0.,   0.,   0.,   0.,\n",
       "           0.,   0.,   0.,   0.,   0.,   0.,   0.,   0.,   0.,   0.,   0.,\n",
       "           0.,   0.,   0.,   0.,   0.,   0.,   0.,   0.,   0.,   0.,   0.,\n",
       "           0.,   0.,   0.,   0.,   0.,   0.,   0.,   0.,   0.,   0.,   0.],\n",
       "        [ 19.,   0.,  20.,  29.,  20.,  17.,   0.,   0.,   0.,   0.,   0.,\n",
       "           0.,   0.,   0.,  10.,   0.,   0.,   0.,   0.,   0.,   0.,   0.,\n",
       "           0.,   0.,   0.,   0.,   0.,   0.,   0.,   0.,   0.,   0.,   0.,\n",
       "           0.,   0.,   0.,   0.,   0.,   0.,   0.,   0.,  17.,   0.,   0.,\n",
       "           0.,   0.,   0.,   0.,   0.,   0.,   0.,   0.,   0.,   0.,   0.,\n",
       "           0.,   0.,   0.,   0.,   0.,   0.,   0.,   0.,   0.,   0.,   0.,\n",
       "           0.,   0.,   0.,   0.,   0.,   0.,   0.,   0.,   0.,   0.,   0.,\n",
       "           0.,   0.,   0.,   0.,   0.,   0.,   0.,   0.,   0.,   0.,   0.,\n",
       "           0.,   0.,   0.,   0.,   0.,   0.,   0.,   0.,   0.,   0.,   0.],\n",
       "        [ 19.,   0.,   0.,   0.,   0.,   0.,   0.,   0.,   0.,   0.,   0.,\n",
       "           0.,  15.,   0.,   0.,   0.,   0.,  10.,   0.,   0.,   0.,   0.,\n",
       "          15.,   0.,   0.,   0.,   0.,   0.,  20.,   0.,   0.,   0.,   0.,\n",
       "           0.,   0.,   0.,   0.,   0.,   0.,   0.,   0.,   0.,   0.,   0.,\n",
       "           0.,   0.,   0.,  20.,   0.,   0.,   0.,   0.,   0.,   0.,   0.,\n",
       "           0.,   0.,   0.,   0.,   0.,   0.,   0.,   0.,   0.,   0.,   0.,\n",
       "           0.,   0.,   0.,  18.,   0.,   0.,   0.,   0.,  15.,   0.,   0.,\n",
       "           0.,   0.,   0.,   0.,   0.,   0.,   0.,   0.,   0.,   0.,   0.,\n",
       "           0.,   0.,   0.,   0.,   0.,   0.,   0.,   0.,   0.,   0.,   0.],\n",
       "        [ 19.,   0.,   0.,   0.,   0.,   0.,   0.,   0.,   0.,   0.,   0.,\n",
       "           0.,   0.,   0.,   0.,   0.,   0.,   0.,   0.,   0.,   0.,   0.,\n",
       "           0.,   0.,   0.,   0.,   0.,   0.,   0.,   0.,   0.,   0.,   0.,\n",
       "          35.,   0.,   0.,   0.,   0.,   0.,   0.,  15.,   0.,   0.,  17.,\n",
       "           0.,   0.,   0.,   0.,   0.,   0.,   0.,   0.,   0.,   0.,   0.,\n",
       "           0.,   0.,   0.,   0.,   0.,   0.,   0.,   0.,  18.,   0.,   0.,\n",
       "           0.,   0.,   0.,  20.,   0.,   0.,   0.,   0.,   0.,   0.,   0.,\n",
       "           0.,   0.,   0.,   0.,   0.,   0.,   0.,   0.,   0.,   0.,   0.,\n",
       "           0.,   0.,   0.,   0.,   0.,   0.,   0.,   0.,   0.,   0.,   0.],\n",
       "        [ 19.,   0.,   0.,   0.,   0.,   0.,   0.,   0.,   0.,   0.,   0.,\n",
       "           0.,   0.,   0.,   0.,   0.,   0.,   0.,   0.,   0.,   0.,   0.,\n",
       "           0.,   0.,   0.,   0.,   0.,   0.,   0.,   0.,   0.,   0.,   0.,\n",
       "           0.,  10.,   0.,   0.,  20.,  14.,   0.,   0.,   0.,   0.,   0.,\n",
       "           0.,   0.,   0.,   0.,   0.,   0.,  15.,   0.,   0.,   0.,   0.,\n",
       "           0.,  15.,   0.,   0.,   0.,   0.,   0.,   0.,   0.,   0.,   0.,\n",
       "           0.,   0.,   0.,   0.,   0.,   0.,   0.,   0.,   0.,   0.,   0.,\n",
       "           0.,   0.,   0.,   0.,   0.,   0.,   0.,   0.,   0.,   0.,   0.,\n",
       "           0.,   0.,   0.,   0.,   0.,   0.,   0.,   0.,   0.,   0.,   0.],\n",
       "        [ 19.,  35.,   0.,  34.,  27.,   0.,  17.,   0.,   0.,   0.,   0.,\n",
       "           0.,   0.,   0.,   0.,   0.,   0.,   0.,   0.,   0.,   0.,   0.,\n",
       "           0.,   0.,   0.,   0.,   0.,   0.,   0.,   0.,   0.,   0.,   0.,\n",
       "           0.,   0.,   0.,   0.,   0.,   0.,   0.,   0.,   0.,   0.,   0.,\n",
       "           0.,   0.,   0.,   0.,   0.,   0.,   0.,   0.,   0.,   0.,   0.,\n",
       "           0.,   0.,   0.,   0.,   0.,   0.,   0.,   0.,   0.,   0.,   0.,\n",
       "           0.,   0.,   0.,   0.,   0.,   0.,   0.,   0.,   0.,   0.,   0.,\n",
       "           0.,   0.,   0.,   0.,   0.,   0.,   0.,   0.,   0.,   0.,   0.,\n",
       "           0.,   0.,   0.,   0.,   0.,   0.,   0.,   0.,   0.,   0.,   0.],\n",
       "        [ 19.,   0.,   0.,   0.,   0.,   0.,   0.,   0.,   0.,   0.,   0.,\n",
       "          20.,   0.,   0.,   0.,   0.,  42.,   0.,   0.,   0.,   0.,   0.,\n",
       "           0.,   0.,   0.,   0.,   0.,   0.,   0.,   0.,   0.,   0.,   0.,\n",
       "          51.,   0.,   0.,   0.,   0.,   0.,   0.,   0.,   0.,   0.,   0.,\n",
       "           0.,   0.,   0.,   0.,   0.,   0.,   0.,   0.,   0.,   0.,   0.,\n",
       "           0.,   0.,   0.,   0.,   0.,   0.,   0.,   0.,   0.,   0.,   0.,\n",
       "           0.,   0.,   0.,   0.,   0.,   0.,   0.,   0.,   0.,   0.,   0.,\n",
       "           0.,   0.,   0.,   0.,   0.,   0.,   0.,   0.,   0.,   0.,   0.,\n",
       "           0.,   0.,   0.,   0.,   0.,   0.,   0.,   0.,   0.,   0.,   0.]]),\n",
       " array([0.        , 0.03030303, 0.06060606, 0.09090909, 0.12121212,\n",
       "        0.15151515, 0.18181818, 0.21212121, 0.24242424, 0.27272727,\n",
       "        0.3030303 , 0.33333333, 0.36363636, 0.39393939, 0.42424242,\n",
       "        0.45454545, 0.48484848, 0.51515152, 0.54545455, 0.57575758,\n",
       "        0.60606061, 0.63636364, 0.66666667, 0.6969697 , 0.72727273,\n",
       "        0.75757576, 0.78787879, 0.81818182, 0.84848485, 0.87878788,\n",
       "        0.90909091, 0.93939394, 0.96969697, 1.        , 1.03030303,\n",
       "        1.06060606, 1.09090909, 1.12121212, 1.15151515, 1.18181818,\n",
       "        1.21212121, 1.24242424, 1.27272727, 1.3030303 , 1.33333333,\n",
       "        1.36363636, 1.39393939, 1.42424242, 1.45454545, 1.48484848,\n",
       "        1.51515152, 1.54545455, 1.57575758, 1.60606061, 1.63636364,\n",
       "        1.66666667, 1.6969697 , 1.72727273, 1.75757576, 1.78787879,\n",
       "        1.81818182, 1.84848485, 1.87878788, 1.90909091, 1.93939394,\n",
       "        1.96969697, 2.        , 2.03030303, 2.06060606, 2.09090909,\n",
       "        2.12121212, 2.15151515, 2.18181818, 2.21212121, 2.24242424,\n",
       "        2.27272727, 2.3030303 , 2.33333333, 2.36363636, 2.39393939,\n",
       "        2.42424242, 2.45454545, 2.48484848, 2.51515152, 2.54545455,\n",
       "        2.57575758, 2.60606061, 2.63636364, 2.66666667, 2.6969697 ,\n",
       "        2.72727273, 2.75757576, 2.78787879, 2.81818182, 2.84848485,\n",
       "        2.87878788, 2.90909091, 2.93939394, 2.96969697, 3.        ]),\n",
       " <a list of 8 BarContainer objects>)"
      ]
     },
     "execution_count": 37,
     "metadata": {},
     "output_type": "execute_result"
    },
    {
     "data": {
      "image/png": "[encoded data removed]",
      "text/plain": [
       "<Figure size 640x480 with 1 Axes>"
      ]
     },
     "metadata": {},
     "output_type": "display_data"
    }
   ],
   "source": [
    "# Repeat the true_pt_quantized to match or exceed the length of pred_pt_quantized\n",
    "repetition_factor = (pred_pt_quantized.shape[0] + true_pt_quantized.shape[0] - 1) // true_pt_quantized.shape[0]\n",
    "true_pt_quantized_repeated = np.repeat(true_pt_quantized, repetition_factor, axis=0)[:pred_pt_quantized.shape[0]]\n",
    "\n",
    "# Perform element-wise division\n",
    "plt.hist(pred_pt_quantized / true_pt_quantized_repeated, bins=np.linspace(0, 3, 100))\n"
   ]
  },
  {
   "cell_type": "code",
   "execution_count": 42,
   "id": "49dbcba3",
   "metadata": {},
   "outputs": [
    {
     "name": "stdout",
     "output_type": "stream",
     "text": [
      "Total Inference Time (Quantized): 1.5244393348693848 seconds\n"
     ]
    }
   ],
   "source": [
    "total_inference_time_quantized = sum(inference_times_quantized)\n",
    "print(f\"Total Inference Time (Quantized): {total_inference_time_quantized} seconds\")\n"
   ]
  },
  {
   "cell_type": "markdown",
   "id": "7a9969ba",
   "metadata": {},
   "source": [
    "Above one is the fixed point quantization. Dynamic Range Quantization aims to quantize weights and activations based on their dynamic ranges during inference. TensorFlow Lite supports dynamic range quantization, and you can apply it to your model."
   ]
  },
  {
   "cell_type": "markdown",
   "id": "34bdb358",
   "metadata": {},
   "source": [
    "## Dynamic Range Quantization for the model"
   ]
  },
  {
   "cell_type": "code",
   "execution_count": 46,
   "id": "b19e7710",
   "metadata": {},
   "outputs": [],
   "source": [
    "import tensorflow as tf\n",
    "import numpy as np\n",
    "from tensorflow.keras.models import load_model\n",
    "from tensorflow.lite.python import lite_constants"
   ]
  },
  {
   "cell_type": "code",
   "execution_count": 47,
   "id": "5232ffe6",
   "metadata": {},
   "outputs": [
    {
     "name": "stderr",
     "output_type": "stream",
     "text": [
      "2023-11-23 15:51:32.931476: W tensorflow/compiler/mlir/lite/python/tf_tfl_flatbuffer_helpers.cc:378] Ignored output_format.\n",
      "2023-11-23 15:51:32.931499: W tensorflow/compiler/mlir/lite/python/tf_tfl_flatbuffer_helpers.cc:381] Ignored drop_control_dependency.\n",
      "2023-11-23 15:51:32.932148: I tensorflow/cc/saved_model/reader.cc:83] Reading SavedModel from: /tmp/tmpo7dg31qn\n",
      "2023-11-23 15:51:32.978463: I tensorflow/cc/saved_model/reader.cc:51] Reading meta graph with tags { serve }\n",
      "2023-11-23 15:51:32.978495: I tensorflow/cc/saved_model/reader.cc:146] Reading SavedModel debug info (if present) from: /tmp/tmpo7dg31qn\n",
      "2023-11-23 15:51:33.128516: I tensorflow/cc/saved_model/loader.cc:233] Restoring SavedModel bundle.\n",
      "2023-11-23 15:51:33.743916: I tensorflow/cc/saved_model/loader.cc:217] Running initialization op on SavedModel bundle at path: /tmp/tmpo7dg31qn\n",
      "2023-11-23 15:51:34.095803: I tensorflow/cc/saved_model/loader.cc:316] SavedModel load for tags { serve }; Status: success: OK. Took 1163655 microseconds.\n"
     ]
    }
   ],
   "source": [
    "# Convert the model to a TensorFlow Lite model with dynamic range quantization\n",
    "converter = tf.lite.TFLiteConverter.from_keras_model(model)\n",
    "converter.optimizations = [tf.lite.Optimize.DEFAULT]\n",
    "converter.target_spec.supported_types = [tf.float16]\n",
    "dynamic_range_tflite_model = converter.convert()"
   ]
  },
  {
   "cell_type": "code",
   "execution_count": 48,
   "id": "c3442fb4",
   "metadata": {},
   "outputs": [],
   "source": [
    "# Save the dynamically quantized model\n",
    "with open('dynamic_range_quantized_model.tflite', 'wb') as f:\n",
    "    f.write(dynamic_range_tflite_model)"
   ]
  },
  {
   "cell_type": "code",
   "execution_count": 49,
   "id": "20d4a6f3",
   "metadata": {},
   "outputs": [],
   "source": [
    "# Assuming you have a TensorFlow Lite dynamic range quantized model (dynamic_range_tflite_model)\n",
    "interpreter = tf.lite.Interpreter(model_content=dynamic_range_tflite_model)\n",
    "interpreter.allocate_tensors()\n"
   ]
  },
  {
   "cell_type": "code",
   "execution_count": 50,
   "id": "a22114be",
   "metadata": {},
   "outputs": [],
   "source": [
    "# Get input and output details\n",
    "input_details = interpreter.get_input_details()\n",
    "output_details = interpreter.get_output_details()\n"
   ]
  },
  {
   "cell_type": "code",
   "execution_count": 52,
   "id": "ddd5d6fc",
   "metadata": {},
   "outputs": [],
   "source": [
    "# Lists to store true and predicted pt values\n",
    "true_pts_quantized = []\n",
    "pred_pts_quantized = []\n",
    "\n",
    "# Measure inference time and process output for the quantized dataset\n",
    "inference_times_quantized = []\n",
    "\n",
    "# Run inference\n",
    "interpreter.invoke()\n"
   ]
  },
  {
   "cell_type": "code",
   "execution_count": 53,
   "id": "dc8d1c14",
   "metadata": {},
   "outputs": [],
   "source": [
    "# Get the output tensor\n",
    "output_tensor = interpreter.get_tensor(output_details[0]['index'])\n",
    "\n",
    "import time\n",
    "\n",
    "start_time = time.time()\n"
   ]
  },
  {
   "cell_type": "code",
   "execution_count": 54,
   "id": "13104c1e",
   "metadata": {},
   "outputs": [],
   "source": [
    "\n",
    "# Create an interpreter for the dynamic range quantized model\n",
    "interpreter_dynamic_range = tf.lite.Interpreter(model_content=dynamic_range_tflite_model)\n",
    "interpreter_dynamic_range.allocate_tensors()\n"
   ]
  },
  {
   "cell_type": "code",
   "execution_count": 55,
   "id": "1807b01d",
   "metadata": {},
   "outputs": [
    {
     "name": "stdout",
     "output_type": "stream",
     "text": [
      "Shape of X_q_padded: (10, 111, 17)\n",
      "Shape of X_q_reshaped: (1, 111, 17)\n",
      "Shape of X_q_padded: (10, 111, 17)\n",
      "Shape of X_q_reshaped: (1, 111, 17)\n",
      "Shape of X_q_padded: (10, 111, 17)\n",
      "Shape of X_q_reshaped: (1, 111, 17)\n",
      "Shape of X_q_padded: (10, 111, 17)\n",
      "Shape of X_q_reshaped: (1, 111, 17)\n",
      "Shape of X_q_padded: (10, 111, 17)\n",
      "Shape of X_q_reshaped: (1, 111, 17)\n",
      "Shape of X_q_padded: (10, 111, 17)\n",
      "Shape of X_q_reshaped: (1, 111, 17)\n",
      "Shape of X_q_padded: (10, 111, 17)\n",
      "Shape of X_q_reshaped: (1, 111, 17)\n",
      "Shape of X_q_padded: (10, 111, 17)\n",
      "Shape of X_q_reshaped: (1, 111, 17)\n",
      "Shape of X_q_padded: (10, 111, 17)\n",
      "Shape of X_q_reshaped: (1, 111, 17)\n",
      "Shape of X_q_padded: (10, 111, 17)\n",
      "Shape of X_q_reshaped: (1, 111, 17)\n"
     ]
    }
   ],
   "source": [
    "# Perform inference on the quantized dataset\n",
    "for X_q in Xs_tf:\n",
    "    # Assuming X_q is a NumPy array\n",
    "    target_shape = (1, 111, 17)\n",
    "\n",
    "    # Determine the length of the second dimension in X_q\n",
    "    current_length = X_q.shape[1]\n",
    "\n",
    "    # Pad or truncate X_q to match the target length\n",
    "    if current_length < target_shape[1]:\n",
    "        # Pad with zeros\n",
    "        X_q_padded = np.pad(X_q, ((0, 0), (0, target_shape[1] - current_length), (0, 0)), mode='constant')\n",
    "    elif current_length > target_shape[1]:\n",
    "        # Truncate\n",
    "        X_q_padded = X_q[:, :target_shape[1], :]\n",
    "    else:\n",
    "        # No need to change the shape\n",
    "        X_q_padded = X_q\n",
    "\n",
    "    # Print the shapes for debugging\n",
    "    print(f\"Shape of X_q_padded: {X_q_padded.shape}\")\n",
    "    \n",
    "    \n",
    "    # Reshape to match the expected shape\n",
    "    X_q_reshaped = np.resize(X_q_padded, target_shape)\n",
    "\n",
    "    # Print the shape for debugging\n",
    "    print(f\"Shape of X_q_reshaped: {X_q_reshaped.shape}\")\n",
    "\n",
    "    # Set input tensor\n",
    "    interpreter_dynamic_range.set_tensor(input_details[0]['index'], X_q_reshaped)\n",
    "\n",
    "    # Run inference\n",
    "    start_time = time.time()\n",
    "    interpreter_dynamic_range.invoke()\n",
    "    end_time = time.time()\n",
    "    inference_times_quantized.append(end_time - start_time)\n",
    "\n",
    "    \n",
    "    # Get output tensor\n",
    "    output_tensor_dynamic_range = interpreter_dynamic_range.get_tensor(output_details[0]['index'])\n",
    "\n",
    "    # Process the output as needed\n",
    "    # Assuming a classification task with softmax output\n",
    "    predicted_probabilities_dynamic_range = output_tensor_dynamic_range[0]\n",
    "\n",
    "    # Get the confidence score for the true class\n",
    "    confidence_score_dynamic_range = predicted_probabilities_dynamic_range[mask_true_particles[0, :111]]\n",
    "\n",
    "    # Get the predicted class (index with the highest probability)\n",
    "    predicted_class_dynamic_range = np.argmax(predicted_probabilities_dynamic_range, axis=1)\n",
    "\n",
    "    # Extract the first row for boolean indexing\n",
    "    mask_true_particles_row = mask_true_particles[0, :10]\n",
    "    \n",
    "    # Append true and predicted pt values\n",
    "    true_pt_dynamic_range = ys[ibatch][mask_true_particles_row, 2]\n",
    "    pred_pt_dynamic_range = confidence_score_dynamic_range  # Adjust based on your output structure\n",
    "    true_pts_quantized.append(true_pt_dynamic_range)\n",
    "    pred_pts_quantized.append(pred_pt_dynamic_range)\n",
    "\n",
    "\n"
   ]
  },
  {
   "cell_type": "code",
   "execution_count": 56,
   "id": "24318d69",
   "metadata": {},
   "outputs": [
    {
     "name": "stdout",
     "output_type": "stream",
     "text": [
      "Final shape of true_pt_dynamic_range: (80, 8)\n",
      "Final shape of pred_pt_dynamic_range: (270, 1)\n"
     ]
    },
    {
     "name": "stderr",
     "output_type": "stream",
     "text": [
      "/tmp/ipykernel_42840/334781023.py:10: RuntimeWarning: divide by zero encountered in divide\n",
      "  plt.hist(pred_pt_dynamic_range[:80] / true_pt_dynamic_range[:, 0], bins=np.linspace(0, 3, 100))\n",
      "/tmp/ipykernel_42840/334781023.py:10: RuntimeWarning: invalid value encountered in divide\n",
      "  plt.hist(pred_pt_dynamic_range[:80] / true_pt_dynamic_range[:, 0], bins=np.linspace(0, 3, 100))\n"
     ]
    },
    {
     "data": {
      "image/png": "[encoded data removed]",
      "text/plain": [
       "<Figure size 640x480 with 1 Axes>"
      ]
     },
     "metadata": {},
     "output_type": "display_data"
    }
   ],
   "source": [
    "# After the loop, concatenate true and predicted pt values\n",
    "true_pt_dynamic_range = np.concatenate(true_pts_quantized)\n",
    "pred_pt_dynamic_range = np.concatenate(pred_pts_quantized)\n",
    "\n",
    "# Print the final shapes for debugging\n",
    "print(f\"Final shape of true_pt_dynamic_range: {true_pt_dynamic_range.shape}\")\n",
    "print(f\"Final shape of pred_pt_dynamic_range: {pred_pt_dynamic_range.shape}\")\n",
    "\n",
    "# Plot the histogram\n",
    "plt.hist(pred_pt_dynamic_range[:80] / true_pt_dynamic_range[:, 0], bins=np.linspace(0, 3, 100))\n",
    "plt.title(\"After Dynamic Range Quantization\")\n",
    "plt.yscale(\"log\")\n",
    "plt.show()"
   ]
  },
  {
   "cell_type": "code",
   "execution_count": 57,
   "id": "06646bea",
   "metadata": {},
   "outputs": [
    {
     "name": "stderr",
     "output_type": "stream",
     "text": [
      "/tmp/ipykernel_42840/269767976.py:6: RuntimeWarning: divide by zero encountered in divide\n",
      "  plt.hist(pred_pt_dynamic_range / true_pt_quantized_repeated, bins=np.linspace(0, 3, 100))\n",
      "/tmp/ipykernel_42840/269767976.py:6: RuntimeWarning: invalid value encountered in divide\n",
      "  plt.hist(pred_pt_dynamic_range / true_pt_quantized_repeated, bins=np.linspace(0, 3, 100))\n"
     ]
    },
    {
     "data": {
      "text/plain": [
       "(array([[ 19.,   0.,   0.,   0.,   0.,   0.,   0.,   0.,   0.,   0.,   0.,\n",
       "           0.,   0.,   0.,   0.,   0.,   0.,   0.,   0.,   0.,   0.,   0.,\n",
       "           0.,   0.,   0.,   0.,   0.,   0.,   0.,   0.,   0.,   0.,   0.,\n",
       "         113.,   0.,   0.,   0.,   0.,   0.,   0.,   0.,   0.,   0.,   0.,\n",
       "           0.,   0.,   0.,   0.,   0.,   0.,   0.,   0.,   0.,   0.,   0.,\n",
       "           0.,   0.,   0.,   0.,   0.,   0.,   0.,   0.,   0.,   0.,   0.,\n",
       "           0.,   0.,   0.,   0.,   0.,   0.,   0.,   0.,   0.,   0.,   0.,\n",
       "           0.,   0.,   0.,   0.,   0.,   0.,   0.,   0.,   0.,   0.,   0.,\n",
       "           0.,   0.,   0.,   0.,   0.,   0.,   0.,   0.,   0.,   0.,   0.],\n",
       "        [ 19.,   0.,   0.,   0.,   0.,   0.,   0.,   0.,   0.,   0.,   0.,\n",
       "           0.,   0.,   0.,   0.,   0.,   0.,   0.,   0.,   0.,   0.,   0.,\n",
       "           0.,   0.,   0.,   0.,   0.,   0.,   0.,   0.,   0.,   0.,   0.,\n",
       "         106.,   0.,   0.,   0.,   0.,   0.,   0.,   0.,   0.,   0.,   0.,\n",
       "           0.,   0.,   0.,   0.,   0.,   0.,   0.,   0.,   0.,   0.,   0.,\n",
       "           0.,   0.,   0.,   0.,   0.,   0.,   0.,   0.,   0.,   0.,   0.,\n",
       "           0.,   0.,   0.,   0.,   0.,   0.,   0.,   0.,   0.,   0.,   0.,\n",
       "           0.,   0.,   0.,   0.,   0.,   0.,   0.,   0.,   0.,   0.,   0.,\n",
       "           0.,   0.,   0.,   0.,   0.,   0.,   0.,   0.,   0.,   0.,   0.],\n",
       "        [ 19.,   0.,  20.,  29.,  20.,  17.,   0.,   0.,   0.,   0.,   0.,\n",
       "           0.,   0.,   0.,  10.,   0.,   0.,   0.,   0.,   0.,   0.,   0.,\n",
       "           0.,   0.,   0.,   0.,   0.,   0.,   0.,   0.,   0.,   0.,   0.,\n",
       "           0.,   0.,   0.,   0.,   0.,   0.,   0.,   0.,  17.,   0.,   0.,\n",
       "           0.,   0.,   0.,   0.,   0.,   0.,   0.,   0.,   0.,   0.,   0.,\n",
       "           0.,   0.,   0.,   0.,   0.,   0.,   0.,   0.,   0.,   0.,   0.,\n",
       "           0.,   0.,   0.,   0.,   0.,   0.,   0.,   0.,   0.,   0.,   0.,\n",
       "           0.,   0.,   0.,   0.,   0.,   0.,   0.,   0.,   0.,   0.,   0.,\n",
       "           0.,   0.,   0.,   0.,   0.,   0.,   0.,   0.,   0.,   0.,   0.],\n",
       "        [ 19.,   0.,   0.,   0.,   0.,   0.,   0.,   0.,   0.,   0.,   0.,\n",
       "           0.,  15.,   0.,   0.,   0.,   0.,  10.,   0.,   0.,   0.,   0.,\n",
       "          15.,   0.,   0.,   0.,   0.,   0.,  20.,   0.,   0.,   0.,   0.,\n",
       "           0.,   0.,   0.,   0.,   0.,   0.,   0.,   0.,   0.,   0.,   0.,\n",
       "           0.,   0.,   0.,  20.,   0.,   0.,   0.,   0.,   0.,   0.,   0.,\n",
       "           0.,   0.,   0.,   0.,   0.,   0.,   0.,   0.,   0.,   0.,   0.,\n",
       "           0.,   0.,   0.,  18.,   0.,   0.,   0.,   0.,  15.,   0.,   0.,\n",
       "           0.,   0.,   0.,   0.,   0.,   0.,   0.,   0.,   0.,   0.,   0.,\n",
       "           0.,   0.,   0.,   0.,   0.,   0.,   0.,   0.,   0.,   0.,   0.],\n",
       "        [ 19.,   0.,   0.,   0.,   0.,   0.,   0.,   0.,   0.,   0.,   0.,\n",
       "           0.,   0.,   0.,   0.,   0.,   0.,   0.,   0.,   0.,   0.,   0.,\n",
       "           0.,   0.,   0.,   0.,   0.,   0.,   0.,   0.,   0.,   0.,   0.,\n",
       "          35.,   0.,   0.,   0.,   0.,   0.,   0.,  15.,   0.,   0.,  17.,\n",
       "           0.,   0.,   0.,   0.,   0.,   0.,   0.,   0.,   0.,   0.,   0.,\n",
       "           0.,   0.,   0.,   0.,   0.,   0.,   0.,   0.,  18.,   0.,   0.,\n",
       "           0.,   0.,   0.,  20.,   0.,   0.,   0.,   0.,   0.,   0.,   0.,\n",
       "           0.,   0.,   0.,   0.,   0.,   0.,   0.,   0.,   0.,   0.,   0.,\n",
       "           0.,   0.,   0.,   0.,   0.,   0.,   0.,   0.,   0.,   0.,   0.],\n",
       "        [ 19.,   0.,   0.,   0.,   0.,   0.,   0.,   0.,   0.,   0.,   0.,\n",
       "           0.,   0.,   0.,   0.,   0.,   0.,   0.,   0.,   0.,   0.,   0.,\n",
       "           0.,   0.,   0.,   0.,   0.,   0.,   0.,   0.,   0.,   0.,   0.,\n",
       "           0.,  10.,   0.,   0.,  20.,  14.,   0.,   0.,   0.,   0.,   0.,\n",
       "           0.,   0.,   0.,   0.,   0.,   0.,  15.,   0.,   0.,   0.,   0.,\n",
       "           0.,  15.,   0.,   0.,   0.,   0.,   0.,   0.,   0.,   0.,   0.,\n",
       "           0.,   0.,   0.,   0.,   0.,   0.,   0.,   0.,   0.,   0.,   0.,\n",
       "           0.,   0.,   0.,   0.,   0.,   0.,   0.,   0.,   0.,   0.,   0.,\n",
       "           0.,   0.,   0.,   0.,   0.,   0.,   0.,   0.,   0.,   0.,   0.],\n",
       "        [ 19.,  35.,   0.,  34.,  27.,   0.,  17.,   0.,   0.,   0.,   0.,\n",
       "           0.,   0.,   0.,   0.,   0.,   0.,   0.,   0.,   0.,   0.,   0.,\n",
       "           0.,   0.,   0.,   0.,   0.,   0.,   0.,   0.,   0.,   0.,   0.,\n",
       "           0.,   0.,   0.,   0.,   0.,   0.,   0.,   0.,   0.,   0.,   0.,\n",
       "           0.,   0.,   0.,   0.,   0.,   0.,   0.,   0.,   0.,   0.,   0.,\n",
       "           0.,   0.,   0.,   0.,   0.,   0.,   0.,   0.,   0.,   0.,   0.,\n",
       "           0.,   0.,   0.,   0.,   0.,   0.,   0.,   0.,   0.,   0.,   0.,\n",
       "           0.,   0.,   0.,   0.,   0.,   0.,   0.,   0.,   0.,   0.,   0.,\n",
       "           0.,   0.,   0.,   0.,   0.,   0.,   0.,   0.,   0.,   0.,   0.],\n",
       "        [ 19.,   0.,   0.,   0.,   0.,   0.,   0.,   0.,   0.,   0.,   0.,\n",
       "          20.,   0.,   0.,   0.,   0.,  42.,   0.,   0.,   0.,   0.,   0.,\n",
       "           0.,   0.,   0.,   0.,   0.,   0.,   0.,   0.,   0.,   0.,   0.,\n",
       "          51.,   0.,   0.,   0.,   0.,   0.,   0.,   0.,   0.,   0.,   0.,\n",
       "           0.,   0.,   0.,   0.,   0.,   0.,   0.,   0.,   0.,   0.,   0.,\n",
       "           0.,   0.,   0.,   0.,   0.,   0.,   0.,   0.,   0.,   0.,   0.,\n",
       "           0.,   0.,   0.,   0.,   0.,   0.,   0.,   0.,   0.,   0.,   0.,\n",
       "           0.,   0.,   0.,   0.,   0.,   0.,   0.,   0.,   0.,   0.,   0.,\n",
       "           0.,   0.,   0.,   0.,   0.,   0.,   0.,   0.,   0.,   0.,   0.]]),\n",
       " array([0.        , 0.03030303, 0.06060606, 0.09090909, 0.12121212,\n",
       "        0.15151515, 0.18181818, 0.21212121, 0.24242424, 0.27272727,\n",
       "        0.3030303 , 0.33333333, 0.36363636, 0.39393939, 0.42424242,\n",
       "        0.45454545, 0.48484848, 0.51515152, 0.54545455, 0.57575758,\n",
       "        0.60606061, 0.63636364, 0.66666667, 0.6969697 , 0.72727273,\n",
       "        0.75757576, 0.78787879, 0.81818182, 0.84848485, 0.87878788,\n",
       "        0.90909091, 0.93939394, 0.96969697, 1.        , 1.03030303,\n",
       "        1.06060606, 1.09090909, 1.12121212, 1.15151515, 1.18181818,\n",
       "        1.21212121, 1.24242424, 1.27272727, 1.3030303 , 1.33333333,\n",
       "        1.36363636, 1.39393939, 1.42424242, 1.45454545, 1.48484848,\n",
       "        1.51515152, 1.54545455, 1.57575758, 1.60606061, 1.63636364,\n",
       "        1.66666667, 1.6969697 , 1.72727273, 1.75757576, 1.78787879,\n",
       "        1.81818182, 1.84848485, 1.87878788, 1.90909091, 1.93939394,\n",
       "        1.96969697, 2.        , 2.03030303, 2.06060606, 2.09090909,\n",
       "        2.12121212, 2.15151515, 2.18181818, 2.21212121, 2.24242424,\n",
       "        2.27272727, 2.3030303 , 2.33333333, 2.36363636, 2.39393939,\n",
       "        2.42424242, 2.45454545, 2.48484848, 2.51515152, 2.54545455,\n",
       "        2.57575758, 2.60606061, 2.63636364, 2.66666667, 2.6969697 ,\n",
       "        2.72727273, 2.75757576, 2.78787879, 2.81818182, 2.84848485,\n",
       "        2.87878788, 2.90909091, 2.93939394, 2.96969697, 3.        ]),\n",
       " <a list of 8 BarContainer objects>)"
      ]
     },
     "execution_count": 57,
     "metadata": {},
     "output_type": "execute_result"
    },
    {
     "data": {
      "image/png": "[encoded data removed]",
      "text/plain": [
       "<Figure size 640x480 with 1 Axes>"
      ]
     },
     "metadata": {},
     "output_type": "display_data"
    }
   ],
   "source": [
    "# Repeat the true_pt_quantized to match or exceed the length of pred_pt_quantized\n",
    "repetition_factor = (pred_pt_dynamic_range.shape[0] + true_pt_dynamic_range.shape[0] - 1) // true_pt_dynamic_range.shape[0]\n",
    "true_pt_quantized_repeated = np.repeat(true_pt_dynamic_range, repetition_factor, axis=0)[:pred_pt_dynamic_range.shape[0]]\n",
    "\n",
    "# Perform element-wise division\n",
    "plt.hist(pred_pt_dynamic_range / true_pt_quantized_repeated, bins=np.linspace(0, 3, 100))\n"
   ]
  },
  {
   "cell_type": "markdown",
   "id": "a9904e3c",
   "metadata": {},
   "source": [
    "## Full-integer Quantization"
   ]
  },
  {
   "cell_type": "code",
   "execution_count": null,
   "id": "cb172a41",
   "metadata": {},
   "outputs": [],
   "source": []
  }
 ],
 "metadata": {
  "kernelspec": {
   "display_name": "Python 3 (ipykernel)",
   "language": "python",
   "name": "python3"
  },
  "language_info": {
   "codemirror_mode": {
    "name": "ipython",
    "version": 3
   },
   "file_extension": ".py",
   "mimetype": "text/x-python",
   "name": "python",
   "nbconvert_exporter": "python",
   "pygments_lexer": "ipython3",
   "version": "3.10.10"
  }
 },
 "nbformat": 4,
 "nbformat_minor": 5
}
