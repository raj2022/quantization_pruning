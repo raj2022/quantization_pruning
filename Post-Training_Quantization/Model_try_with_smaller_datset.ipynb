{
 "cells": [
  {
   "cell_type": "code",
   "execution_count": 2,
   "id": "ff90c330",
   "metadata": {},
   "outputs": [],
   "source": [
    "import tensorflow as tf\n",
    "import tensorflow_datasets as tfds\n",
    "import time\n",
    "import matplotlib.pyplot as plt\n",
    "\n"
   ]
  },
  {
   "cell_type": "code",
   "execution_count": 3,
   "id": "72eb3087",
   "metadata": {},
   "outputs": [],
   "source": [
    "# Load the dataset\n",
    "ds_builder = tfds.builder(\"clic_edm_qq_pf\", data_dir='../../tensorflow_datasets/')\n",
    "dss = ds_builder.as_data_source(\"test\")\n",
    "\n"
   ]
  },
  {
   "cell_type": "code",
   "execution_count": null,
   "id": "06884a79",
   "metadata": {},
   "outputs": [],
   "source": [
    "# Warm up the GPU (optional, but can help in some cases)\n",
    "for elem in dss:\n",
    "    _ = tf.dtypes.cast(elem[\"X\"], tf.float16)\n",
    "    break\n",
    "\n",
    "# Lists to store original and quantized outputs\n",
    "original_outputs = []\n",
    "quantized_outputs = []\n",
    "\n",
    "# Process all samples and store outputs\n",
    "for i, elem in enumerate(dss):\n",
    "    original_output = elem[\"X\"]\n",
    "    quantized_output = tf.dtypes.cast(original_output, tf.float16)\n",
    "\n",
    "    original_outputs.extend(tf.reshape(original_output, [-1]))  # Flatten the original output\n",
    "    quantized_outputs.extend(tf.reshape(quantized_output, [-1]))  # Flatten the quantized output\n"
   ]
  },
  {
   "cell_type": "code",
   "execution_count": null,
   "id": "5b63def4",
   "metadata": {},
   "outputs": [],
   "source": []
  },
  {
   "cell_type": "code",
   "execution_count": null,
   "id": "f376b693",
   "metadata": {},
   "outputs": [],
   "source": []
  },
  {
   "cell_type": "code",
   "execution_count": null,
   "id": "70e29b95",
   "metadata": {},
   "outputs": [],
   "source": [
    "\n",
    "# Plot histograms\n",
    "plt.figure(figsize=(12, 5))\n",
    "\n",
    "plt.subplot(1, 2, 1)\n",
    "plt.hist(original_outputs, bins=50, color='blue', alpha=0.7, label='Original')\n",
    "plt.title('Histogram Before Quantization')\n",
    "plt.xlabel('Pixel Value')\n",
    "plt.ylabel('Frequency')\n",
    "plt.legend()\n",
    "\n",
    "plt.subplot(1, 2, 2)\n",
    "plt.hist(quantized_outputs, bins=50, color='orange', alpha=0.7, label='Quantized')\n",
    "plt.title('Histogram After Quantization')\n",
    "plt.xlabel('Pixel Value')\n",
    "plt.ylabel('Frequency')\n",
    "plt.legend()\n",
    "\n",
    "plt.tight_layout()\n",
    "plt.savefig('output.png')\n",
    "\n",
    "\n",
    "\n",
    "\n",
    "\n"
   ]
  }
 ],
 "metadata": {
  "kernelspec": {
   "display_name": "Python 3 (ipykernel)",
   "language": "python",
   "name": "python3"
  },
  "language_info": {
   "codemirror_mode": {
    "name": "ipython",
    "version": 3
   },
   "file_extension": ".py",
   "mimetype": "text/x-python",
   "name": "python",
   "nbconvert_exporter": "python",
   "pygments_lexer": "ipython3",
   "version": "3.10.10"
  }
 },
 "nbformat": 4,
 "nbformat_minor": 5
}
