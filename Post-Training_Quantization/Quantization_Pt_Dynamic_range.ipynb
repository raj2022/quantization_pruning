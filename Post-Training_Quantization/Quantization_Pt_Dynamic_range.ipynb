{
 "cells": [
  {
   "cell_type": "code",
   "execution_count": 4,
   "id": "67ba1864-8b07-4ac2-911d-cc2af2eb510c",
   "metadata": {},
   "outputs": [],
   "source": [
    "%matplotlib inline\n",
    "from matplotlib import pyplot as plt\n",
    "import numpy as np\n",
    "\n",
    "import time"
   ]
  },
  {
   "cell_type": "code",
   "execution_count": 5,
   "id": "29a2bf46-04ff-4dc7-aa58-856632f76f9e",
   "metadata": {},
   "outputs": [
    {
     "name": "stderr",
     "output_type": "stream",
     "text": [
      "WARNING:root:horovod not found, ignoring\n",
      "2024-02-01 07:31:15.469767: I tensorflow/tsl/cuda/cudart_stub.cc:28] Could not find cuda drivers on your machine, GPU will not be used.\n",
      "2024-02-01 07:31:15.656997: E tensorflow/compiler/xla/stream_executor/cuda/cuda_dnn.cc:9342] Unable to register cuDNN factory: Attempting to register factory for plugin cuDNN when one has already been registered\n",
      "2024-02-01 07:31:15.657021: E tensorflow/compiler/xla/stream_executor/cuda/cuda_fft.cc:609] Unable to register cuFFT factory: Attempting to register factory for plugin cuFFT when one has already been registered\n",
      "2024-02-01 07:31:15.658026: E tensorflow/compiler/xla/stream_executor/cuda/cuda_blas.cc:1518] Unable to register cuBLAS factory: Attempting to register factory for plugin cuBLAS when one has already been registered\n",
      "2024-02-01 07:31:15.731360: I tensorflow/tsl/cuda/cudart_stub.cc:28] Could not find cuda drivers on your machine, GPU will not be used.\n",
      "2024-02-01 07:31:15.732768: I tensorflow/core/platform/cpu_feature_guard.cc:182] This TensorFlow binary is optimized to use available CPU instructions in performance-critical operations.\n",
      "To enable the following instructions: AVX2 FMA, in other operations, rebuild TensorFlow with the appropriate compiler flags.\n",
      "2024-02-01 07:31:16.674076: W tensorflow/compiler/tf2tensorrt/utils/py_utils.cc:38] TF-TRT Warning: Could not find TensorRT\n",
      "WARNING:root:horovod not found, ignoring\n"
     ]
    }
   ],
   "source": [
    "import sys\n",
    "sys.path += [\"../../../particleflow/mlpf/\"]\n",
    "from tfmodel.model_setup import make_model\n",
    "from tfmodel.utils import parse_config\n",
    "\n",
    "import tensorflow as tf\n",
    "import tensorflow_datasets as tfds\n",
    "\n",
    "import pathlib"
   ]
  },
  {
   "cell_type": "code",
   "execution_count": 6,
   "id": "524dac93-72df-4fa2-813c-70d753a5ab41",
   "metadata": {},
   "outputs": [],
   "source": [
    "ds_builder = tfds.builder(\"clic_edm_qq_pf\", data_dir = '../../tensorflow_datasets/') # Tensorflow datsets positions in the lxplus\n",
    "dss = ds_builder.as_data_source(\"test\")"
   ]
  },
  {
   "cell_type": "code",
   "execution_count": 7,
   "id": "683e4ab3-d8c8-4fca-b519-06a5dfd3f7e3",
   "metadata": {},
   "outputs": [],
   "source": [
    "def yield_from_ds():\n",
    "    for elem in dss:\n",
    "        yield {\"X\": elem[\"X\"], \"ygen\": elem[\"ygen\"], \"ycand\": elem[\"ycand\"]}"
   ]
  },
  {
   "cell_type": "code",
   "execution_count": 8,
   "id": "49169cca-9a57-4f14-a7b5-d01fc240436b",
   "metadata": {},
   "outputs": [],
   "source": [
    "output_signature = {k: tf.TensorSpec(shape=(None, v.shape[1])) for (k, v) in dss.dataset_info.features.items()}\n",
    "tf_dataset = tf.data.Dataset.from_generator(yield_from_ds, output_signature=output_signature).take(100).padded_batch(batch_size=10)"
   ]
  },
  {
   "cell_type": "code",
   "execution_count": 9,
   "id": "330b7e61",
   "metadata": {},
   "outputs": [
    {
     "data": {
      "text/plain": [
       "{'X': TensorSpec(shape=(None, 17), dtype=tf.float32, name=None),\n",
       " 'ycand': TensorSpec(shape=(None, 8), dtype=tf.float32, name=None),\n",
       " 'ygen': TensorSpec(shape=(None, 8), dtype=tf.float32, name=None)}"
      ]
     },
     "execution_count": 9,
     "metadata": {},
     "output_type": "execute_result"
    }
   ],
   "source": [
    "output_signature"
   ]
  },
  {
   "cell_type": "code",
   "execution_count": 10,
   "id": "6c4b4ae4-8648-4208-831a-28920fe8e227",
   "metadata": {},
   "outputs": [],
   "source": [
    "data = list(tfds.as_numpy(tf_dataset))"
   ]
  },
  {
   "cell_type": "code",
   "execution_count": 11,
   "id": "0e8df81a-984a-4d1f-89fb-94710773e349",
   "metadata": {},
   "outputs": [],
   "source": [
    "Xs = [d[\"X\"] for d in data]\n",
    "ys = [d[\"ygen\"] for d in data]"
   ]
  },
  {
   "cell_type": "code",
   "execution_count": null,
   "id": "8db50e6c",
   "metadata": {},
   "outputs": [],
   "source": []
  },
  {
   "cell_type": "code",
   "execution_count": 12,
   "id": "3502c07b",
   "metadata": {},
   "outputs": [
    {
     "data": {
      "text/plain": [
       "array([[ 1.        , -1.        ,  3.5555263 ,  0.22640967],\n",
       "       [ 1.        , -1.        ,  2.4462407 ,  0.195159  ],\n",
       "       [ 1.        ,  1.        ,  0.8356094 , -0.5446882 ],\n",
       "       [ 1.        ,  1.        ,  0.85157084, -1.37132   ],\n",
       "       [ 1.        ,  1.        ,  0.6311886 , -0.9460032 ],\n",
       "       [ 1.        ,  1.        ,  0.560444  , -0.38950145],\n",
       "       [ 1.        , -1.        ,  0.50040615, -0.29128084],\n",
       "       [ 1.        , -1.        ,  0.40326795,  0.19255948],\n",
       "       [ 1.        ,  1.        ,  0.37885737,  0.12188682],\n",
       "       [ 1.        , -1.        ,  0.36663368, -2.1641972 ],\n",
       "       [ 1.        ,  1.        ,  0.3846691 ,  0.68863004],\n",
       "       [ 1.        ,  1.        ,  0.3615032 , -0.81029856],\n",
       "       [ 1.        , -1.        ,  0.18166022,  0.15179   ],\n",
       "       [ 1.        , -1.        ,  0.21182844,  1.8761586 ],\n",
       "       [ 0.        ,  0.        ,  0.        ,  0.        ],\n",
       "       [ 1.        , -1.        ,  0.16170818, -0.88895464],\n",
       "       [ 1.        ,  1.        ,  0.16837215, -2.5320294 ],\n",
       "       [ 0.        ,  0.        ,  0.        ,  0.        ],\n",
       "       [ 0.        ,  0.        ,  0.        ,  0.        ],\n",
       "       [ 0.        ,  0.        ,  0.        ,  0.        ],\n",
       "       [ 0.        ,  0.        ,  0.        ,  0.        ],\n",
       "       [ 0.        ,  0.        ,  0.        ,  0.        ],\n",
       "       [ 0.        ,  0.        ,  0.        ,  0.        ],\n",
       "       [ 0.        ,  0.        ,  0.        ,  0.        ],\n",
       "       [ 0.        ,  0.        ,  0.        ,  0.        ],\n",
       "       [ 0.        ,  0.        ,  0.        ,  0.        ],\n",
       "       [ 0.        ,  0.        ,  0.        ,  0.        ],\n",
       "       [ 0.        ,  0.        ,  0.        ,  0.        ],\n",
       "       [ 0.        ,  0.        ,  0.        ,  0.        ],\n",
       "       [ 0.        ,  0.        ,  0.        ,  0.        ],\n",
       "       [ 3.        ,  0.        ,  0.10117695, -1.9689156 ],\n",
       "       [ 0.        ,  0.        ,  0.        ,  0.        ],\n",
       "       [ 0.        ,  0.        ,  0.        ,  0.        ],\n",
       "       [ 3.        ,  0.        ,  0.8967321 ,  0.5121469 ],\n",
       "       [ 0.        ,  0.        ,  0.        ,  0.        ],\n",
       "       [ 0.        ,  0.        ,  0.        ,  0.        ],\n",
       "       [ 3.        ,  0.        ,  0.18169323, -0.7437678 ],\n",
       "       [ 3.        ,  0.        ,  0.2710412 , -0.509132  ],\n",
       "       [ 2.        ,  0.        ,  2.4830642 ,  0.16444711],\n",
       "       [ 3.        ,  0.        ,  0.20552857,  0.60833263],\n",
       "       [ 2.        ,  0.        ,  0.50001186, -0.45001644],\n",
       "       [ 3.        ,  0.        ,  0.08824672,  0.12611386],\n",
       "       [ 0.        ,  0.        ,  0.        ,  0.        ],\n",
       "       [ 0.        ,  0.        ,  0.        ,  0.        ],\n",
       "       [ 0.        ,  0.        ,  0.        ,  0.        ],\n",
       "       [ 0.        ,  0.        ,  0.        ,  0.        ],\n",
       "       [ 0.        ,  0.        ,  0.        ,  0.        ],\n",
       "       [ 2.        ,  0.        ,  1.6043317 , -3.3909476 ],\n",
       "       [ 0.        ,  0.        ,  0.        ,  0.        ],\n",
       "       [ 0.        ,  0.        ,  0.        ,  0.        ],\n",
       "       [ 0.        ,  0.        ,  0.        ,  0.        ],\n",
       "       [ 0.        ,  0.        ,  0.        ,  0.        ],\n",
       "       [ 0.        ,  0.        ,  0.        ,  0.        ],\n",
       "       [ 0.        ,  0.        ,  0.        ,  0.        ],\n",
       "       [ 0.        ,  0.        ,  0.        ,  0.        ],\n",
       "       [ 0.        ,  0.        ,  0.        ,  0.        ],\n",
       "       [ 0.        ,  0.        ,  0.        ,  0.        ],\n",
       "       [ 0.        ,  0.        ,  0.        ,  0.        ],\n",
       "       [ 0.        ,  0.        ,  0.        ,  0.        ],\n",
       "       [ 0.        ,  0.        ,  0.        ,  0.        ],\n",
       "       [ 0.        ,  0.        ,  0.        ,  0.        ],\n",
       "       [ 0.        ,  0.        ,  0.        ,  0.        ],\n",
       "       [ 0.        ,  0.        ,  0.        ,  0.        ],\n",
       "       [ 0.        ,  0.        ,  0.        ,  0.        ],\n",
       "       [ 0.        ,  0.        ,  0.        ,  0.        ],\n",
       "       [ 0.        ,  0.        ,  0.        ,  0.        ],\n",
       "       [ 0.        ,  0.        ,  0.        ,  0.        ],\n",
       "       [ 0.        ,  0.        ,  0.        ,  0.        ],\n",
       "       [ 0.        ,  0.        ,  0.        ,  0.        ],\n",
       "       [ 0.        ,  0.        ,  0.        ,  0.        ],\n",
       "       [ 0.        ,  0.        ,  0.        ,  0.        ],\n",
       "       [ 0.        ,  0.        ,  0.        ,  0.        ],\n",
       "       [ 0.        ,  0.        ,  0.        ,  0.        ],\n",
       "       [ 0.        ,  0.        ,  0.        ,  0.        ],\n",
       "       [ 0.        ,  0.        ,  0.        ,  0.        ],\n",
       "       [ 0.        ,  0.        ,  0.        ,  0.        ],\n",
       "       [ 0.        ,  0.        ,  0.        ,  0.        ],\n",
       "       [ 0.        ,  0.        ,  0.        ,  0.        ],\n",
       "       [ 0.        ,  0.        ,  0.        ,  0.        ],\n",
       "       [ 0.        ,  0.        ,  0.        ,  0.        ],\n",
       "       [ 0.        ,  0.        ,  0.        ,  0.        ],\n",
       "       [ 0.        ,  0.        ,  0.        ,  0.        ],\n",
       "       [ 0.        ,  0.        ,  0.        ,  0.        ],\n",
       "       [ 0.        ,  0.        ,  0.        ,  0.        ],\n",
       "       [ 0.        ,  0.        ,  0.        ,  0.        ],\n",
       "       [ 0.        ,  0.        ,  0.        ,  0.        ],\n",
       "       [ 0.        ,  0.        ,  0.        ,  0.        ],\n",
       "       [ 0.        ,  0.        ,  0.        ,  0.        ],\n",
       "       [ 0.        ,  0.        ,  0.        ,  0.        ],\n",
       "       [ 0.        ,  0.        ,  0.        ,  0.        ],\n",
       "       [ 0.        ,  0.        ,  0.        ,  0.        ],\n",
       "       [ 0.        ,  0.        ,  0.        ,  0.        ],\n",
       "       [ 0.        ,  0.        ,  0.        ,  0.        ],\n",
       "       [ 0.        ,  0.        ,  0.        ,  0.        ],\n",
       "       [ 0.        ,  0.        ,  0.        ,  0.        ],\n",
       "       [ 0.        ,  0.        ,  0.        ,  0.        ],\n",
       "       [ 0.        ,  0.        ,  0.        ,  0.        ],\n",
       "       [ 0.        ,  0.        ,  0.        ,  0.        ],\n",
       "       [ 0.        ,  0.        ,  0.        ,  0.        ],\n",
       "       [ 0.        ,  0.        ,  0.        ,  0.        ],\n",
       "       [ 0.        ,  0.        ,  0.        ,  0.        ],\n",
       "       [ 0.        ,  0.        ,  0.        ,  0.        ],\n",
       "       [ 0.        ,  0.        ,  0.        ,  0.        ],\n",
       "       [ 0.        ,  0.        ,  0.        ,  0.        ],\n",
       "       [ 0.        ,  0.        ,  0.        ,  0.        ],\n",
       "       [ 0.        ,  0.        ,  0.        ,  0.        ],\n",
       "       [ 0.        ,  0.        ,  0.        ,  0.        ],\n",
       "       [ 0.        ,  0.        ,  0.        ,  0.        ],\n",
       "       [ 0.        ,  0.        ,  0.        ,  0.        ],\n",
       "       [ 0.        ,  0.        ,  0.        ,  0.        ],\n",
       "       [ 0.        ,  0.        ,  0.        ,  0.        ]],\n",
       "      dtype=float32)"
      ]
     },
     "execution_count": 12,
     "metadata": {},
     "output_type": "execute_result"
    }
   ],
   "source": [
    "ys[0][9][:,:4]"
   ]
  },
  {
   "cell_type": "code",
   "execution_count": 13,
   "id": "a4004e28-c5ad-4b7f-b05d-4a8d4e4555b0",
   "metadata": {},
   "outputs": [
    {
     "data": {
      "text/plain": [
       "(10, 111, 17)"
      ]
     },
     "execution_count": 13,
     "metadata": {},
     "output_type": "execute_result"
    }
   ],
   "source": [
    "#batch 0, max 111 particles per event\n",
    "Xs[0].shape"
   ]
  },
  {
   "cell_type": "code",
   "execution_count": 14,
   "id": "8a5641a6-9b84-48ea-b7cc-4410e171c870",
   "metadata": {},
   "outputs": [
    {
     "data": {
      "text/plain": [
       "(10, 90, 17)"
      ]
     },
     "execution_count": 14,
     "metadata": {},
     "output_type": "execute_result"
    }
   ],
   "source": [
    "#batch 3 has 10 events, max 90 particles per event\n",
    "Xs[3].shape"
   ]
  },
  {
   "cell_type": "code",
   "execution_count": 15,
   "id": "df137e8e",
   "metadata": {},
   "outputs": [
    {
     "name": "stdout",
     "output_type": "stream",
     "text": [
      "Lengths of sublists in Xs: [10, 10, 10, 10, 10, 10, 10, 10, 10, 10]\n"
     ]
    }
   ],
   "source": [
    "# Check the lengths of sublists in Xs\n",
    "sublist_lengths = [len(sublist) for sublist in Xs]\n",
    "print(\"Lengths of sublists in Xs:\", sublist_lengths)\n"
   ]
  },
  {
   "cell_type": "code",
   "execution_count": 16,
   "id": "07e22c24",
   "metadata": {},
   "outputs": [
    {
     "name": "stdout",
     "output_type": "stream",
     "text": [
      "Shape of X_q: (10, 111, 17)\n",
      "Shape of X_q: (10, 186, 17)\n",
      "Shape of X_q: (10, 142, 17)\n",
      "Shape of X_q: (10, 90, 17)\n",
      "Shape of X_q: (10, 111, 17)\n",
      "Shape of X_q: (10, 195, 17)\n",
      "Shape of X_q: (10, 100, 17)\n",
      "Shape of X_q: (10, 81, 17)\n",
      "Shape of X_q: (10, 130, 17)\n",
      "Shape of X_q: (10, 147, 17)\n"
     ]
    }
   ],
   "source": [
    "for X_q in Xs:\n",
    "    print(\"Shape of X_q:\", X_q.shape) "
   ]
  },
  {
   "cell_type": "code",
   "execution_count": 17,
   "id": "b3ea086f",
   "metadata": {},
   "outputs": [
    {
     "name": "stdout",
     "output_type": "stream",
     "text": [
      "Shape of yq: (10, 111, 8)\n",
      "Shape of yq: (10, 186, 8)\n",
      "Shape of yq: (10, 142, 8)\n",
      "Shape of yq: (10, 90, 8)\n",
      "Shape of yq: (10, 111, 8)\n",
      "Shape of yq: (10, 195, 8)\n",
      "Shape of yq: (10, 100, 8)\n",
      "Shape of yq: (10, 81, 8)\n",
      "Shape of yq: (10, 130, 8)\n",
      "Shape of yq: (10, 147, 8)\n"
     ]
    }
   ],
   "source": [
    "for y_q in ys:\n",
    "    print(\"Shape of yq:\", y_q.shape)"
   ]
  },
  {
   "cell_type": "markdown",
   "id": "de2bbb16",
   "metadata": {},
   "source": [
    "## Quantizing the model\n",
    "### post-training dynamic range quantization"
   ]
  },
  {
   "cell_type": "markdown",
   "id": "710b543b",
   "metadata": {},
   "source": [
    "Quantizing with post-training dynamic range quantization.\n",
    "Using the TensorFlow Lite Converter, you can now convert the trained model into a TensorFlow Lite model.\n",
    "\n"
   ]
  },
  {
   "cell_type": "code",
   "execution_count": 18,
   "id": "fa15d4b7-529e-431d-a62c-93811b0caeb7",
   "metadata": {},
   "outputs": [],
   "source": [
    "config, _ = parse_config(\"../../../particleflow/parameters/clic.yaml\") #positions on the lxplus\n",
    "model = make_model(config, tf.float32)\n",
    "Xdummy = np.zeros((1,256,17), dtype=np.float32)\n",
    "model(Xdummy)\n",
    "model.load_weights(\"weights-96-5.346523.hdf5\", skip_mismatch=False, by_name=True)"
   ]
  },
  {
   "cell_type": "code",
   "execution_count": 19,
   "id": "24a2565c-4c52-4e4a-8111-756e381ba325",
   "metadata": {},
   "outputs": [],
   "source": [
    "def model_output(ret):\n",
    "    return tf.concat(\n",
    "        [\n",
    "            ret[\"cls\"], #0-5\n",
    "            ret[\"charge\"], #6-8\n",
    "            ret[\"pt\"], #9\n",
    "            ret[\"eta\"], #10\n",
    "            ret[\"sin_phi\"], #11\n",
    "            ret[\"cos_phi\"], #12\n",
    "            ret[\"energy\"], #13\n",
    "        ],\n",
    "        axis=-1,\n",
    "    )\n",
    "\n",
    "full_model = tf.function(lambda x: model_output(model(x, training=False)))"
   ]
  },
  {
   "cell_type": "code",
   "execution_count": 20,
   "id": "4299c1ba-df25-4c6d-bffe-0a461ce21a9a",
   "metadata": {},
   "outputs": [
    {
     "name": "stdout",
     "output_type": "stream",
     "text": [
      "Inference time for unquantized model: 21.163666248321533 seconds\n"
     ]
    }
   ],
   "source": [
    "true_pts = []\n",
    "pred_pts = []\n",
    "#loop over batches\n",
    "start_time = time.time()\n",
    "for i in range(len(Xs)):\n",
    "    ret = full_model(Xs[i])\n",
    "    msk_true_part = ys[i][..., 0]!=0\n",
    "    true_pts.append(ys[i][msk_true_part][..., 2])\n",
    "    pred_pts.append(ret[msk_true_part][..., 9])\n",
    "true_pts = np.hstack(true_pts)\n",
    "pred_pts = np.hstack(pred_pts)\n",
    "end_time = time.time()\n",
    "inference_time_unquantized = end_time - start_time\n",
    "print(\"Inference time for unquantized model:\", inference_time_unquantized, \"seconds\")\n"
   ]
  },
  {
   "cell_type": "code",
   "execution_count": 21,
   "id": "f98bc839-e121-4a88-a146-c4119b06d5c8",
   "metadata": {},
   "outputs": [
    {
     "data": {
      "text/plain": [
       "Text(0, 0.5, 'predicted pt')"
      ]
     },
     "execution_count": 21,
     "metadata": {},
     "output_type": "execute_result"
    },
    {
     "data": {
      "image/png": "[encoded data removed]",
      "text/plain": [
       "<Figure size 640x480 with 1 Axes>"
      ]
     },
     "metadata": {},
     "output_type": "display_data"
    }
   ],
   "source": [
    "plt.title(\"Direct model output from keras\")\n",
    "plt.scatter(true_pts, pred_pts)\n",
    "plt.xlabel(\"true pt\")\n",
    "plt.ylabel(\"predicted pt\")"
   ]
  },
  {
   "cell_type": "code",
   "execution_count": 22,
   "id": "3a07a9f2",
   "metadata": {},
   "outputs": [
    {
     "name": "stderr",
     "output_type": "stream",
     "text": [
      "WARNING:absl:Please consider providing the trackable_obj argument in the from_concrete_functions. Providing without the trackable_obj argument is deprecated and it will use the deprecated conversion path.\n",
      "2024-02-01 07:31:43.660362: I tensorflow/core/grappler/devices.cc:66] Number of eligible GPUs (core count >= 8, compute capability >= 0.0): 0\n",
      "2024-02-01 07:31:43.660471: I tensorflow/core/grappler/clusters/single_machine.cc:361] Starting new session\n",
      "2024-02-01 07:31:46.689494: W tensorflow/compiler/mlir/lite/python/tf_tfl_flatbuffer_helpers.cc:378] Ignored output_format.\n",
      "2024-02-01 07:31:46.689522: W tensorflow/compiler/mlir/lite/python/tf_tfl_flatbuffer_helpers.cc:381] Ignored drop_control_dependency.\n",
      "2024-02-01 07:31:47.261138: I tensorflow/compiler/mlir/lite/flatbuffer_export.cc:2245] Estimated count of arithmetic ops: 2.916 G  ops, equivalently 1.458 G  MACs\n"
     ]
    }
   ],
   "source": [
    "converter = tf.lite.TFLiteConverter.from_concrete_functions([full_model.get_concrete_function(Xdummy)])\n",
    "tflite_model = converter.convert()"
   ]
  },
  {
   "cell_type": "markdown",
   "id": "d90feab7",
   "metadata": {},
   "source": [
    "Write it out to a tflite file:\n",
    "\n"
   ]
  },
  {
   "cell_type": "code",
   "execution_count": 23,
   "id": "cd07386e",
   "metadata": {},
   "outputs": [],
   "source": [
    "tflite_models_dir = pathlib.Path(\"/tmp/working1_tflite_models/\")\n",
    "tflite_models_dir.mkdir(exist_ok=True, parents=True)"
   ]
  },
  {
   "cell_type": "code",
   "execution_count": 24,
   "id": "1fa7b317",
   "metadata": {},
   "outputs": [
    {
     "data": {
      "text/plain": [
       "22468840"
      ]
     },
     "execution_count": 24,
     "metadata": {},
     "output_type": "execute_result"
    }
   ],
   "source": [
    "tflite_model_file = tflite_models_dir/\"working1_tflite_models.tflite\"\n",
    "tflite_model_file.write_bytes(tflite_model)"
   ]
  },
  {
   "cell_type": "markdown",
   "id": "4311e027",
   "metadata": {},
   "source": [
    "To quantize the model on export, set the optimizations flag to optimize for size:\n",
    "\n"
   ]
  },
  {
   "cell_type": "code",
   "execution_count": 25,
   "id": "87605524",
   "metadata": {},
   "outputs": [
    {
     "name": "stderr",
     "output_type": "stream",
     "text": [
      "2024-02-01 07:31:48.307681: I tensorflow/core/grappler/devices.cc:66] Number of eligible GPUs (core count >= 8, compute capability >= 0.0): 0\n",
      "2024-02-01 07:31:48.307774: I tensorflow/core/grappler/clusters/single_machine.cc:361] Starting new session\n",
      "2024-02-01 07:31:50.826887: W tensorflow/compiler/mlir/lite/python/tf_tfl_flatbuffer_helpers.cc:378] Ignored output_format.\n",
      "2024-02-01 07:31:50.826913: W tensorflow/compiler/mlir/lite/python/tf_tfl_flatbuffer_helpers.cc:381] Ignored drop_control_dependency.\n",
      "2024-02-01 07:31:52.206751: I tensorflow/compiler/mlir/lite/flatbuffer_export.cc:2245] Estimated count of arithmetic ops: 2.916 G  ops, equivalently 1.458 G  MACs\n"
     ]
    },
    {
     "data": {
      "text/plain": [
       "6126520"
      ]
     },
     "execution_count": 25,
     "metadata": {},
     "output_type": "execute_result"
    }
   ],
   "source": [
    "converter.optimizations = [tf.lite.Optimize.DEFAULT]\n",
    "tflite_quant_model = converter.convert()\n",
    "tflite_model_quant_file = tflite_models_dir/\"working_model_quant.tflite\"\n",
    "tflite_model_quant_file.write_bytes(tflite_quant_model)\n"
   ]
  },
  {
   "cell_type": "markdown",
   "id": "8be5bfd2",
   "metadata": {},
   "source": [
    "As expected the resulting file, is approximately 1/4 the size.\n",
    "\n"
   ]
  },
  {
   "cell_type": "markdown",
   "id": "bc73ac22",
   "metadata": {},
   "source": [
    "Run the TFLite models\n",
    "\n"
   ]
  },
  {
   "cell_type": "markdown",
   "id": "a446cca9",
   "metadata": {},
   "source": [
    "Test the model on the quantized data: https://www.tensorflow.org/lite/performance/post_training_quant\n",
    "\n"
   ]
  },
  {
   "cell_type": "code",
   "execution_count": 26,
   "id": "a6a843be",
   "metadata": {},
   "outputs": [
    {
     "name": "stderr",
     "output_type": "stream",
     "text": [
      "INFO: Created TensorFlow Lite XNNPACK delegate for CPU.\n"
     ]
    },
    {
     "name": "stdout",
     "output_type": "stream",
     "text": [
      "Inference time for quantized model: 23.2595112323761 seconds\n"
     ]
    }
   ],
   "source": [
    "start_time = time.time()\n",
    "\n",
    "true_pts = []\n",
    "pred_pts = []\n",
    "pred_pts_quantized = []\n",
    "\n",
    "interpreter = tf.lite.Interpreter(model_path=str(tflite_model_file))\n",
    "interpreter.allocate_tensors()\n",
    "input_index1 = interpreter.get_input_details()[0][\"index\"]\n",
    "output_index1 = interpreter.get_output_details()[0][\"index\"]\n",
    "\n",
    "interpreter_quant = tf.lite.Interpreter(model_path=str(tflite_model_quant_file))\n",
    "interpreter_quant.allocate_tensors()\n",
    "input_index2 = interpreter_quant.get_input_details()[0][\"index\"]\n",
    "output_index2 = interpreter_quant.get_output_details()[0][\"index\"]\n",
    "\n",
    "for ibatch in range(len(Xs)):\n",
    "#for ibatch in range(5):\n",
    "    for iev in range(len(Xs[ibatch])):\n",
    "\n",
    "        this_X = tf.expand_dims(Xs[ibatch][iev], 0)\n",
    "        pad_size = [[0,0],[0,Xdummy.shape[1]-this_X.shape[1]], [0,0]]\n",
    "        this_X = tf.pad(this_X, pad_size)\n",
    "        this_ys = tf.pad(ys[ibatch][iev], pad_size[1:])\n",
    "        \n",
    "        interpreter.set_tensor(input_index1, this_X)\n",
    "        interpreter.invoke()\n",
    "        \n",
    "        interpreter_quant.set_tensor(input_index2, this_X)\n",
    "        interpreter_quant.invoke()\n",
    "        \n",
    "        mask_true_particles = this_ys[..., 0] != 0\n",
    "        true_pt = this_ys[mask_true_particles][..., 2]\n",
    "        output1 = interpreter.tensor(output_index1)()[0][mask_true_particles][..., 9]\n",
    "        output2 = interpreter_quant.tensor(output_index2)()[0][mask_true_particles][..., 9]\n",
    "        \n",
    "        true_pts.append(true_pt)\n",
    "        pred_pts.append(output1)\n",
    "        pred_pts_quantized.append(output2)\n",
    "        \n",
    "end_time = time.time()\n",
    "inference_time_quantized = end_time - start_time\n",
    "print(\"Inference time for quantized model:\", inference_time_quantized, \"seconds\")"
   ]
  },
  {
   "cell_type": "code",
   "execution_count": 27,
   "id": "9f63f61b",
   "metadata": {},
   "outputs": [
    {
     "data": {
      "text/plain": [
       "[{'name': 'x',\n",
       "  'index': 0,\n",
       "  'shape': array([  1, 256,  17], dtype=int32),\n",
       "  'shape_signature': array([  1, 256,  17], dtype=int32),\n",
       "  'dtype': numpy.float32,\n",
       "  'quantization': (0.0, 0),\n",
       "  'quantization_parameters': {'scales': array([], dtype=float32),\n",
       "   'zero_points': array([], dtype=int32),\n",
       "   'quantized_dimension': 0},\n",
       "  'sparsity_parameters': {}}]"
      ]
     },
     "execution_count": 27,
     "metadata": {},
     "output_type": "execute_result"
    }
   ],
   "source": [
    "interpreter.get_input_details()"
   ]
  },
  {
   "cell_type": "code",
   "execution_count": 28,
   "id": "498338f5",
   "metadata": {},
   "outputs": [
    {
     "data": {
      "text/plain": [
       "[{'name': 'Identity',\n",
       "  'index': 1546,\n",
       "  'shape': array([  1, 256,  14], dtype=int32),\n",
       "  'shape_signature': array([  1, 256,  14], dtype=int32),\n",
       "  'dtype': numpy.float32,\n",
       "  'quantization': (0.0, 0),\n",
       "  'quantization_parameters': {'scales': array([], dtype=float32),\n",
       "   'zero_points': array([], dtype=int32),\n",
       "   'quantized_dimension': 0},\n",
       "  'sparsity_parameters': {}}]"
      ]
     },
     "execution_count": 28,
     "metadata": {},
     "output_type": "execute_result"
    }
   ],
   "source": [
    "interpreter.get_output_details()\n"
   ]
  },
  {
   "cell_type": "code",
   "execution_count": 29,
   "id": "3ae6db48-c23c-4f48-968e-23f1d41a7027",
   "metadata": {},
   "outputs": [],
   "source": [
    "flat_true_pts = np.hstack(true_pts)\n",
    "flat_pred_pts = np.hstack(pred_pts)\n",
    "flat_pred_pts_quantized = np.hstack(pred_pts_quantized)"
   ]
  },
  {
   "cell_type": "code",
   "execution_count": 30,
   "id": "797921ce-5d74-4cda-acc3-5c0f20ecb16a",
   "metadata": {},
   "outputs": [
    {
     "data": {
      "text/plain": [
       "((4250,), (4250,), (4250,))"
      ]
     },
     "execution_count": 30,
     "metadata": {},
     "output_type": "execute_result"
    }
   ],
   "source": [
    "flat_true_pts.shape, flat_pred_pts.shape, flat_pred_pts_quantized.shape"
   ]
  },
  {
   "cell_type": "code",
   "execution_count": 31,
   "id": "1130d2e1-0ad9-4854-b0b0-8e70fedc8015",
   "metadata": {},
   "outputs": [
    {
     "data": {
      "text/plain": [
       "<matplotlib.legend.Legend at 0x7f312ff258d0>"
      ]
     },
     "execution_count": 31,
     "metadata": {},
     "output_type": "execute_result"
    },
    {
     "data": {
      "image/png": "[encoded data removed]",
      "text/plain": [
       "<Figure size 640x480 with 1 Axes>"
      ]
     },
     "metadata": {},
     "output_type": "display_data"
    }
   ],
   "source": [
    "plt.title(\"model outputs from TFLite interpreter\")\n",
    "plt.scatter(flat_true_pts, flat_pred_pts, label=\"unquantized\", marker=\".\", alpha=0.5)\n",
    "plt.scatter(flat_true_pts, flat_pred_pts_quantized, label=\"quantized\", marker=\".\", alpha=0.5)\n",
    "plt.legend(loc=\"best\")"
   ]
  },
  {
   "cell_type": "code",
   "execution_count": 32,
   "id": "669e0584-0ca2-4ead-a645-ce8ec9cc2cf4",
   "metadata": {},
   "outputs": [
    {
     "data": {
      "text/plain": [
       "<matplotlib.legend.Legend at 0x7f312c290040>"
      ]
     },
     "execution_count": 32,
     "metadata": {},
     "output_type": "execute_result"
    },
    {
     "data": {
      "image/png": "[encoded data removed]",
      "text/plain": [
       "<Figure size 640x480 with 1 Axes>"
      ]
     },
     "metadata": {},
     "output_type": "display_data"
    }
   ],
   "source": [
    "plt.hist(flat_true_pts, bins=np.linspace(0,20,100), histtype=\"step\", label=\"true\", lw=2);\n",
    "plt.hist(flat_pred_pts, bins=np.linspace(0,20,100), histtype=\"step\", label=\"TFLite pred unquantized\", lw=2);\n",
    "plt.hist(flat_pred_pts_quantized, bins=np.linspace(0,20,100), histtype=\"step\", label=\"TFLite pred quantized\", lw=2);\n",
    "plt.legend(loc=\"best\")"
   ]
  },
  {
   "cell_type": "code",
   "execution_count": 34,
   "id": "39dae36f-5643-4bf3-a533-81cf9f97df9c",
   "metadata": {},
   "outputs": [
    {
     "data": {
      "text/plain": [
       "<matplotlib.legend.Legend at 0x7f31752186a0>"
      ]
     },
     "execution_count": 34,
     "metadata": {},
     "output_type": "execute_result"
    },
    {
     "data": {
      "image/png": "[encoded data removed]",
      "text/plain": [
       "<Figure size 640x480 with 1 Axes>"
      ]
     },
     "metadata": {},
     "output_type": "display_data"
    }
   ],
   "source": [
    "plt.hist(flat_pred_pts/flat_true_pts, bins=np.linspace(-1,100,101), histtype=\"step\", lw=2, label=\"TFLite unquantized\")\n",
    "plt.hist(flat_pred_pts_quantized/flat_true_pts, bins=np.linspace(-1,100,101), histtype=\"step\", lw=2, label=\"TFLite INT8 quantized\")\n",
    "#plt.axvline(1.0, color=\"black\")\n",
    "plt.yscale(\"log\")\n",
    "plt.xlabel(\"pred / true pt ratio\")\n",
    "plt.legend()"
   ]
  },
  {
   "cell_type": "code",
   "execution_count": null,
   "id": "f341dd11",
   "metadata": {},
   "outputs": [],
   "source": []
  }
 ],
 "metadata": {
  "kernelspec": {
   "display_name": "Python 3 (ipykernel)",
   "language": "python",
   "name": "python3"
  },
  "language_info": {
   "codemirror_mode": {
    "name": "ipython",
    "version": 3
   },
   "file_extension": ".py",
   "mimetype": "text/x-python",
   "name": "python",
   "nbconvert_exporter": "python",
   "pygments_lexer": "ipython3",
   "version": "3.10.10"
  }
 },
 "nbformat": 4,
 "nbformat_minor": 5
}
