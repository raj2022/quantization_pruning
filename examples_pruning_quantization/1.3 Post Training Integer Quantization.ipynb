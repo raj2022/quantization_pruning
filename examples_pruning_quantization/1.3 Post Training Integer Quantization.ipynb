{
 "cells": [
  {
   "cell_type": "markdown",
   "id": "3985d18c",
   "metadata": {},
   "source": [
    "Source:\n",
    "https://www.tensorflow.org/lite/performance/post_training_integer_quant"
   ]
  },
  {
   "cell_type": "markdown",
   "id": "e6ddd9fe",
   "metadata": {},
   "source": [
    "# Post traininf Integer Quantizaton\n",
    "### Overview\n",
    "\n",
    "Integer quantization is an optimization strategy that converts 32-bit floating-point numbers (such as weights and activation outputs) to the nearest 8-bit fixed-point numbers. This results in a smaller model and increased inferencing speed, which is valuable for low-power devices such as microcontrollers. This data format is also required by integer-only accelerators such as the Edge TPU.\n",
    "\n",
    "In this tutorial, you'll train an MNIST model from scratch, convert it into a Tensorflow Lite file, and quantize it using [post-training quantization](https://www.tensorflow.org/lite/performance/post_training_quantization). Finally, you'll check the accuracy of the converted model and compare it to the original float model.\n",
    "\n",
    "You actually have several options as to how much you want to quantize a model. In this tutorial, you'll perform \"full integer quantization,\" which converts all weights and activation outputs into 8-bit integer data—whereas other strategies may leave some amount of data in floating-point.\n",
    "\n",
    "To learn more about the various quantization strategies, read about [TensorFlow Lite model optimization](https://www.tensorflow.org/lite/performance/model_optimization).\n",
    "\n",
    "\n"
   ]
  },
  {
   "cell_type": "markdown",
   "id": "be488a8f",
   "metadata": {},
   "source": [
    "## Setup"
   ]
  },
  {
   "cell_type": "code",
   "execution_count": 3,
   "id": "3eb33ddf",
   "metadata": {},
   "outputs": [
    {
     "name": "stderr",
     "output_type": "stream",
     "text": [
      "2023-11-06 10:23:51.755047: I tensorflow/tsl/cuda/cudart_stub.cc:28] Could not find cuda drivers on your machine, GPU will not be used.\n",
      "2023-11-06 10:23:51.930242: E tensorflow/compiler/xla/stream_executor/cuda/cuda_dnn.cc:9342] Unable to register cuDNN factory: Attempting to register factory for plugin cuDNN when one has already been registered\n",
      "2023-11-06 10:23:51.930277: E tensorflow/compiler/xla/stream_executor/cuda/cuda_fft.cc:609] Unable to register cuFFT factory: Attempting to register factory for plugin cuFFT when one has already been registered\n",
      "2023-11-06 10:23:51.931369: E tensorflow/compiler/xla/stream_executor/cuda/cuda_blas.cc:1518] Unable to register cuBLAS factory: Attempting to register factory for plugin cuBLAS when one has already been registered\n",
      "2023-11-06 10:23:52.031666: I tensorflow/tsl/cuda/cudart_stub.cc:28] Could not find cuda drivers on your machine, GPU will not be used.\n",
      "2023-11-06 10:23:52.032975: I tensorflow/core/platform/cpu_feature_guard.cc:182] This TensorFlow binary is optimized to use available CPU instructions in performance-critical operations.\n",
      "To enable the following instructions: AVX2 FMA, in other operations, rebuild TensorFlow with the appropriate compiler flags.\n",
      "2023-11-06 10:23:53.176721: W tensorflow/compiler/tf2tensorrt/utils/py_utils.cc:38] TF-TRT Warning: Could not find TensorRT\n"
     ]
    },
    {
     "name": "stdout",
     "output_type": "stream",
     "text": [
      "TensorFlow version:  2.14.0\n"
     ]
    }
   ],
   "source": [
    "import logging\n",
    "logging.getLogger(\"tensorflow\").setLevel(logging.DEBUG)\n",
    "\n",
    "import tensorflow as tf\n",
    "import numpy as np\n",
    "print(\"TensorFlow version: \", tf.__version__)\n"
   ]
  },
  {
   "cell_type": "markdown",
   "id": "de3f7750",
   "metadata": {},
   "source": [
    "### Generate a TensorFlow Model\n",
    "We'll build a simple model to classify numbers from the [MNIST dataset](https://www.tensorflow.org/datasets/catalog/mnist).\n",
    "\n",
    "This training won't take long because you're training the model for just a 5 epochs, which trains to about ~98% accuracy."
   ]
  },
  {
   "cell_type": "code",
   "execution_count": 7,
   "id": "236658f2",
   "metadata": {},
   "outputs": [
    {
     "name": "stdout",
     "output_type": "stream",
     "text": [
      "Epoch 1/5\n"
     ]
    },
    {
     "name": "stderr",
     "output_type": "stream",
     "text": [
      "2023-11-06 10:26:51.311065: W tensorflow/tsl/framework/cpu_allocator_impl.cc:83] Allocation of 188160000 exceeds 10% of free system memory.\n"
     ]
    },
    {
     "name": "stdout",
     "output_type": "stream",
     "text": [
      "1863/1875 [============================>.] - ETA: 0s - loss: 0.3096 - accuracy: 0.9115"
     ]
    },
    {
     "name": "stderr",
     "output_type": "stream",
     "text": [
      "2023-11-06 10:26:58.619963: W tensorflow/tsl/framework/cpu_allocator_impl.cc:83] Allocation of 31360000 exceeds 10% of free system memory.\n"
     ]
    },
    {
     "name": "stdout",
     "output_type": "stream",
     "text": [
      "1875/1875 [==============================] - 8s 4ms/step - loss: 0.3087 - accuracy: 0.9117 - val_loss: 0.1546 - val_accuracy: 0.9584\n",
      "Epoch 2/5\n",
      "1875/1875 [==============================] - 7s 4ms/step - loss: 0.1283 - accuracy: 0.9632 - val_loss: 0.0925 - val_accuracy: 0.9736\n",
      "Epoch 3/5\n",
      "1875/1875 [==============================] - 7s 4ms/step - loss: 0.0869 - accuracy: 0.9751 - val_loss: 0.0777 - val_accuracy: 0.9765\n",
      "Epoch 4/5\n",
      "1875/1875 [==============================] - 7s 4ms/step - loss: 0.0689 - accuracy: 0.9793 - val_loss: 0.0686 - val_accuracy: 0.9787\n",
      "Epoch 5/5\n",
      "1875/1875 [==============================] - 7s 4ms/step - loss: 0.0586 - accuracy: 0.9824 - val_loss: 0.0624 - val_accuracy: 0.9780\n"
     ]
    },
    {
     "data": {
      "text/plain": [
       "<keras.src.callbacks.History at 0x7f6d690b2c50>"
      ]
     },
     "execution_count": 7,
     "metadata": {},
     "output_type": "execute_result"
    }
   ],
   "source": [
    "# Load MNIST dataset\n",
    "mnist = tf.keras.datasets.mnist\n",
    "(train_images, train_labels), (test_images, test_labels) = mnist.load_data()\n",
    "\n",
    "# Normalize the input image so that each pixel value is between 0 and 1 \n",
    "train_images = train_images.astype(np.float32) /255.0\n",
    "test_images = test_images.astype(np.float32)/255.0\n",
    "\n",
    "# Define the model architecture\n",
    "model = tf.keras.Sequential([\n",
    "  tf.keras.layers.InputLayer(input_shape=(28, 28)),\n",
    "  tf.keras.layers.Reshape(target_shape=(28, 28, 1)),\n",
    "  tf.keras.layers.Conv2D(filters=12, kernel_size=(3, 3), activation='relu'),\n",
    "  tf.keras.layers.MaxPooling2D(pool_size=(2, 2)),\n",
    "  tf.keras.layers.Flatten(),\n",
    "  tf.keras.layers.Dense(10)\n",
    "])\n",
    "\n",
    "# Train the digit classification model\n",
    "model.compile(optimizer='adam',\n",
    "              loss=tf.keras.losses.SparseCategoricalCrossentropy(\n",
    "                  from_logits=True),\n",
    "              metrics=['accuracy'])\n",
    "model.fit(\n",
    "  train_images,\n",
    "  train_labels,\n",
    "  epochs=5,\n",
    "  validation_data=(test_images, test_labels)\n",
    ")"
   ]
  },
  {
   "cell_type": "markdown",
   "id": "002eb4c5",
   "metadata": {},
   "source": [
    "## Convert to a TensorFlow Lite model\n",
    "\n",
    "Now you can convert the trained model to TensorFlow Lite format using the TensorFlow Lite [Converter](https://www.tensorflow.org/lite/models/convert), and apply varying degrees of quantization.\n",
    "\n",
    "Beware that some versions of quantization leave some of the data in float format. So the following sections show each option with increasing amounts of quantization, until we get a model that's entirely int8 or uint8 data. (Notice we duplicate some code in each section so you can see all the quantization steps for each option.)\n",
    "\n",
    "First, here's a converted model with no quantization:\n",
    "\n",
    "\n"
   ]
  },
  {
   "cell_type": "code",
   "execution_count": 9,
   "id": "34f4905a",
   "metadata": {},
   "outputs": [
    {
     "name": "stdout",
     "output_type": "stream",
     "text": [
      "INFO:tensorflow:Assets written to: /tmp/tmpjjs9me9_/assets\n"
     ]
    },
    {
     "name": "stderr",
     "output_type": "stream",
     "text": [
      "INFO:tensorflow:Assets written to: /tmp/tmpjjs9me9_/assets\n",
      "2023-11-06 10:28:43.456288: W tensorflow/compiler/mlir/lite/python/tf_tfl_flatbuffer_helpers.cc:378] Ignored output_format.\n",
      "2023-11-06 10:28:43.456304: W tensorflow/compiler/mlir/lite/python/tf_tfl_flatbuffer_helpers.cc:381] Ignored drop_control_dependency.\n",
      "2023-11-06 10:28:43.456691: I tensorflow/cc/saved_model/reader.cc:83] Reading SavedModel from: /tmp/tmpjjs9me9_\n",
      "2023-11-06 10:28:43.457478: I tensorflow/cc/saved_model/reader.cc:51] Reading meta graph with tags { serve }\n",
      "2023-11-06 10:28:43.457487: I tensorflow/cc/saved_model/reader.cc:146] Reading SavedModel debug info (if present) from: /tmp/tmpjjs9me9_\n",
      "2023-11-06 10:28:43.458997: I tensorflow/compiler/mlir/mlir_graph_optimization_pass.cc:382] MLIR V1 optimization pass is not enabled\n",
      "2023-11-06 10:28:43.459557: I tensorflow/cc/saved_model/loader.cc:233] Restoring SavedModel bundle.\n",
      "2023-11-06 10:28:43.482435: I tensorflow/cc/saved_model/loader.cc:217] Running initialization op on SavedModel bundle at path: /tmp/tmpjjs9me9_\n",
      "2023-11-06 10:28:43.489896: I tensorflow/cc/saved_model/loader.cc:316] SavedModel load for tags { serve }; Status: success: OK. Took 33206 microseconds.\n",
      "2023-11-06 10:28:43.512774: I tensorflow/compiler/mlir/tensorflow/utils/dump_mlir_util.cc:269] disabling MLIR crash reproducer, set env var `MLIR_CRASH_REPRODUCER_DIRECTORY` to enable.\n"
     ]
    }
   ],
   "source": [
    "converter = tf.lite.TFLiteConverter.from_keras_model(model)\n",
    "tflite_model = converter.convert()"
   ]
  },
  {
   "cell_type": "code",
   "execution_count": null,
   "id": "7e2e1019",
   "metadata": {},
   "outputs": [],
   "source": []
  },
  {
   "cell_type": "markdown",
   "id": "e88cdf30",
   "metadata": {},
   "source": [
    "It's now a TensorFlow Lite model, but it's still using 32-bit float values for all parameter data.\n",
    "\n"
   ]
  },
  {
   "cell_type": "markdown",
   "id": "8280f955",
   "metadata": {},
   "source": [
    "## Convert using dynamic range quantization\n",
    "Now let's enable the default ``optimizations`` flag to quantize all fixed parameters (such as weights):\n",
    "\n"
   ]
  },
  {
   "cell_type": "markdown",
   "id": "8dd34a2f",
   "metadata": {},
   "source": [
    "The model is now a bit smaller with quantized weights, but other variable data is still in float format.\n",
    "\n"
   ]
  },
  {
   "cell_type": "markdown",
   "id": "0f6084b4",
   "metadata": {},
   "source": [
    "### Convert using float fallback quantization\n",
    "To quantize the variable data (such as model input/output and intermediates between layers), you need to provide a [`RepresentativeDataset`](https://www.tensorflow.org/api_docs/python/tf/lite/RepresentativeDataset). This is a generator function that provides a set of input data that's large enough to represent typical values. It allows the converter to estimate a dynamic range for all the variable data. (The dataset does not need to be unique compared to the training or evaluation dataset.) To support multiple inputs, each representative data point is a list and elements in the list are fed to the model according to their indices.\n",
    "\n",
    "\n"
   ]
  },
  {
   "cell_type": "markdown",
   "id": "0e1a7fe7",
   "metadata": {},
   "source": [
    "Now all weights and variable data are quantized, and the model is significantly smaller compared to the original TensorFlow Lite model.\n",
    "\n",
    "However, to maintain compatibility with applications that traditionally use float model input and output tensors, the TensorFlow Lite Converter leaves the model input and output tensors in float:\n",
    "\n",
    "\n"
   ]
  },
  {
   "cell_type": "markdown",
   "id": "f1cad183",
   "metadata": {},
   "source": [
    "That's usually good for compatibility, but it won't be compatible with devices that perform only integer-based operations, such as the Edge TPU.\n",
    "\n",
    "Additionally, the above process may leave an operation in float format if TensorFlow Lite doesn't include a quantized implementation for that operation. This strategy allows conversion to complete so you have a smaller and more efficient model, but again, it won't be compatible with integer-only hardware. (All ops in this MNIST model have a quantized implementation.)\n",
    "\n",
    "So to ensure an end-to-end integer-only model, you need a couple more parameters..."
   ]
  },
  {
   "cell_type": "markdown",
   "id": "31cb9be0",
   "metadata": {},
   "source": [
    "### Convert using integer-only quantization"
   ]
  },
  {
   "cell_type": "markdown",
   "id": "5203eff7",
   "metadata": {},
   "source": [
    "To quantize the input and output tensors, and make the converter throw an error if it encounters an operation it cannot quantize, convert the model again with some additional parameters:\n",
    "\n"
   ]
  },
  {
   "cell_type": "markdown",
   "id": "3521125d",
   "metadata": {},
   "source": [
    "The internal quantization remains the same as above, but you can see the input and output tensors are now integer format:\n",
    "\n"
   ]
  },
  {
   "cell_type": "markdown",
   "id": "a43cf499",
   "metadata": {},
   "source": [
    "Now you have an integer quantized model that uses integer data for the model's input and output tensors, so it's compatible with integer-only hardware such as the [Edge TPU](https://coral.ai/).\n",
    "\n"
   ]
  },
  {
   "cell_type": "markdown",
   "id": "514c884e",
   "metadata": {},
   "source": [
    "### Save the models as files\n",
    "You'll need a `.tflite` file to deploy your model on other devices. So let's save the converted models to files and then load them when we run inferences below."
   ]
  },
  {
   "cell_type": "markdown",
   "id": "6cdeb34a",
   "metadata": {},
   "source": [
    "### Run the TensorFlow Lite models\n",
    "Now we'll run inferences using the TensorFlow Lite [``Interpreter``](https://www.tensorflow.org/api_docs/python/tf/lite/Interpreter) to compare the model accuracies.\n",
    "\n",
    "First, we need a function that runs inference with a given model and images, and then returns the predictions:\n",
    "\n",
    "\n"
   ]
  },
  {
   "cell_type": "markdown",
   "id": "28442507",
   "metadata": {},
   "source": [
    "### Test the models on one image\n",
    "Now we'll compare the performance of the float model and quantized model:\n",
    "\n",
    "* `tflite_model_file` is the original TensorFlow Lite model with floating-point data.\n",
    "* `tflite_model_quant_file` is the last model we converted using integer-only quantization (it uses uint8 data for input and output).\n",
    "\n",
    "Let's create another function to print our predictions:\n",
    "\n",
    "\n"
   ]
  },
  {
   "cell_type": "markdown",
   "id": "fa495eca",
   "metadata": {},
   "source": [
    "Now test the float model:\n",
    "\n"
   ]
  },
  {
   "cell_type": "markdown",
   "id": "70fff5eb",
   "metadata": {},
   "source": [
    "And test the quantized model:\n",
    "\n"
   ]
  },
  {
   "cell_type": "markdown",
   "id": "4e3f3841",
   "metadata": {},
   "source": [
    "# Evaluate the models on all images\n",
    "Now let's run both models using all the test images we loaded at the beginning of this tutorial:"
   ]
  },
  {
   "cell_type": "markdown",
   "id": "f7306f6a",
   "metadata": {},
   "source": [
    "Evaluate the float model:\n",
    "\n"
   ]
  },
  {
   "cell_type": "markdown",
   "id": "53390e07",
   "metadata": {},
   "source": [
    "Evaluate the quantized model:\n",
    "\n"
   ]
  },
  {
   "cell_type": "markdown",
   "id": "5d810c70",
   "metadata": {},
   "source": [
    "So you now have an integer quantized a model with almost no difference in the accuracy, compared to the float model.\n",
    "\n"
   ]
  },
  {
   "cell_type": "markdown",
   "id": "49edba95",
   "metadata": {},
   "source": [
    "To learn more about other quantization strategies, read about [TensorFlow Lite model optimization](https://www.tensorflow.org/lite/performance/model_optimization).\n",
    "\n"
   ]
  },
  {
   "cell_type": "markdown",
   "id": "e451f537",
   "metadata": {},
   "source": [
    "https://www.tensorflow.org/lite/performance/post_training_integer_quant"
   ]
  },
  {
   "cell_type": "code",
   "execution_count": null,
   "id": "f8261fe2",
   "metadata": {},
   "outputs": [],
   "source": []
  }
 ],
 "metadata": {
  "kernelspec": {
   "display_name": "Python 3 (ipykernel)",
   "language": "python",
   "name": "python3"
  },
  "language_info": {
   "codemirror_mode": {
    "name": "ipython",
    "version": 3
   },
   "file_extension": ".py",
   "mimetype": "text/x-python",
   "name": "python",
   "nbconvert_exporter": "python",
   "pygments_lexer": "ipython3",
   "version": "3.10.10"
  }
 },
 "nbformat": 4,
 "nbformat_minor": 5
}
