{
 "cells": [
  {
   "cell_type": "markdown",
   "id": "9d09f717",
   "metadata": {},
   "source": [
    "**Task**\n",
    "\n",
    "Quantize the dataset after stnadradization and then do the inference. Check the output plots."
   ]
  },
  {
   "cell_type": "code",
   "execution_count": 1,
   "id": "06818265",
   "metadata": {},
   "outputs": [
    {
     "name": "stderr",
     "output_type": "stream",
     "text": [
      "2023-11-30 11:31:36.628453: I tensorflow/core/util/port.cc:110] oneDNN custom operations are on. You may see slightly different numerical results due to floating-point round-off errors from different computation orders. To turn them off, set the environment variable `TF_ENABLE_ONEDNN_OPTS=0`.\n",
      "2023-11-30 11:31:38.388291: I tensorflow/core/platform/cpu_feature_guard.cc:182] This TensorFlow binary is optimized to use available CPU instructions in performance-critical operations.\n",
      "To enable the following instructions: AVX2 AVX512F AVX512_VNNI FMA, in other operations, rebuild TensorFlow with the appropriate compiler flags.\n"
     ]
    },
    {
     "name": "stdout",
     "output_type": "stream",
     "text": [
      "Welcome to JupyROOT 6.28/11\n"
     ]
    }
   ],
   "source": [
    "import tensorflow as tf\n",
    "import tensorflow_datasets as tfds\n",
    "\n",
    "%matplotlib inline\n",
    "import matplotlib.pyplot as plt\n",
    "import numpy as np\n",
    "import pandas as pd\n",
    "\n",
    "import ROOT "
   ]
  },
  {
   "cell_type": "code",
   "execution_count": 2,
   "id": "b44746b4",
   "metadata": {},
   "outputs": [],
   "source": [
    "import sys \n",
    "sys.path += [\"../../../mlpf/particleflow/mlpf/\"]\n",
    "from tfmodel.model_setup import make_model\n",
    "from tfmodel.utils import parse_config"
   ]
  },
  {
   "cell_type": "code",
   "execution_count": 3,
   "id": "b1a92920",
   "metadata": {},
   "outputs": [],
   "source": [
    "config, _ = parse_config(\"../../../mlpf/particleflow/parameters/clic.yaml\") #positions on the lxplus\n"
   ]
  },
  {
   "cell_type": "code",
   "execution_count": 4,
   "id": "689eee30",
   "metadata": {},
   "outputs": [
    {
     "name": "stderr",
     "output_type": "stream",
     "text": [
      "2023-11-30 11:40:27.401819: I tensorflow/compiler/xla/stream_executor/cuda/cuda_gpu_executor.cc:995] successful NUMA node read from SysFS had negative value (-1), but there must be at least one NUMA node, so returning NUMA node zero. See more at https://github.com/torvalds/linux/blob/v6.0/Documentation/ABI/testing/sysfs-bus-pci#L344-L355\n",
      "2023-11-30 11:40:27.443925: I tensorflow/compiler/xla/stream_executor/cuda/cuda_gpu_executor.cc:995] successful NUMA node read from SysFS had negative value (-1), but there must be at least one NUMA node, so returning NUMA node zero. See more at https://github.com/torvalds/linux/blob/v6.0/Documentation/ABI/testing/sysfs-bus-pci#L344-L355\n",
      "2023-11-30 11:40:27.445888: I tensorflow/compiler/xla/stream_executor/cuda/cuda_gpu_executor.cc:995] successful NUMA node read from SysFS had negative value (-1), but there must be at least one NUMA node, so returning NUMA node zero. See more at https://github.com/torvalds/linux/blob/v6.0/Documentation/ABI/testing/sysfs-bus-pci#L344-L355\n",
      "2023-11-30 11:40:27.460974: I tensorflow/compiler/xla/stream_executor/cuda/cuda_gpu_executor.cc:995] successful NUMA node read from SysFS had negative value (-1), but there must be at least one NUMA node, so returning NUMA node zero. See more at https://github.com/torvalds/linux/blob/v6.0/Documentation/ABI/testing/sysfs-bus-pci#L344-L355\n",
      "2023-11-30 11:40:27.463016: I tensorflow/compiler/xla/stream_executor/cuda/cuda_gpu_executor.cc:995] successful NUMA node read from SysFS had negative value (-1), but there must be at least one NUMA node, so returning NUMA node zero. See more at https://github.com/torvalds/linux/blob/v6.0/Documentation/ABI/testing/sysfs-bus-pci#L344-L355\n",
      "2023-11-30 11:40:27.464910: I tensorflow/compiler/xla/stream_executor/cuda/cuda_gpu_executor.cc:995] successful NUMA node read from SysFS had negative value (-1), but there must be at least one NUMA node, so returning NUMA node zero. See more at https://github.com/torvalds/linux/blob/v6.0/Documentation/ABI/testing/sysfs-bus-pci#L344-L355\n",
      "2023-11-30 11:40:27.702893: I tensorflow/compiler/xla/stream_executor/cuda/cuda_gpu_executor.cc:995] successful NUMA node read from SysFS had negative value (-1), but there must be at least one NUMA node, so returning NUMA node zero. See more at https://github.com/torvalds/linux/blob/v6.0/Documentation/ABI/testing/sysfs-bus-pci#L344-L355\n",
      "2023-11-30 11:40:27.705041: I tensorflow/compiler/xla/stream_executor/cuda/cuda_gpu_executor.cc:995] successful NUMA node read from SysFS had negative value (-1), but there must be at least one NUMA node, so returning NUMA node zero. See more at https://github.com/torvalds/linux/blob/v6.0/Documentation/ABI/testing/sysfs-bus-pci#L344-L355\n",
      "2023-11-30 11:40:27.706969: I tensorflow/compiler/xla/stream_executor/cuda/cuda_gpu_executor.cc:995] successful NUMA node read from SysFS had negative value (-1), but there must be at least one NUMA node, so returning NUMA node zero. See more at https://github.com/torvalds/linux/blob/v6.0/Documentation/ABI/testing/sysfs-bus-pci#L344-L355\n",
      "2023-11-30 11:40:27.708877: I tensorflow/core/common_runtime/gpu/gpu_device.cc:1639] Created device /job:localhost/replica:0/task:0/device:GPU:0 with 13775 MB memory:  -> device: 0, name: Tesla T4, pci bus id: 0000:07:00.0, compute capability: 7.5\n"
     ]
    }
   ],
   "source": [
    "model = make_model(config, tf.float32)\n",
    "model.build((1, None, config[\"dataset\"][\"num_input_features\"]))"
   ]
  },
  {
   "cell_type": "code",
   "execution_count": 5,
   "id": "c9471055",
   "metadata": {},
   "outputs": [
    {
     "name": "stdout",
     "output_type": "stream",
     "text": [
      "Model: \"pf_net_dense\"\n",
      "_________________________________________________________________\n",
      " Layer (type)                Output Shape              Param #   \n",
      "=================================================================\n",
      " node_encoding (Sequential)  (1, None, 256)            70912     \n",
      "                                                                 \n",
      " input_encoding_clic (Input  multiple                  0         \n",
      " EncodingCLIC)                                                   \n",
      "                                                                 \n",
      " cg_id_0 (CombinedGraphLaye  multiple                  440128    \n",
      " r)                                                              \n",
      "                                                                 \n",
      " cg_id_1 (CombinedGraphLaye  multiple                  440128    \n",
      " r)                                                              \n",
      "                                                                 \n",
      " cg_id_2 (CombinedGraphLaye  multiple                  440128    \n",
      " r)                                                              \n",
      "                                                                 \n",
      " cg_id_3 (CombinedGraphLaye  multiple                  440128    \n",
      " r)                                                              \n",
      "                                                                 \n",
      " cg_id_4 (CombinedGraphLaye  multiple                  440128    \n",
      " r)                                                              \n",
      "                                                                 \n",
      " cg_id_5 (CombinedGraphLaye  multiple                  440128    \n",
      " r)                                                              \n",
      "                                                                 \n",
      " cg_reg_0 (CombinedGraphLay  multiple                  440128    \n",
      " er)                                                             \n",
      "                                                                 \n",
      " cg_reg_1 (CombinedGraphLay  multiple                  440128    \n",
      " er)                                                             \n",
      "                                                                 \n",
      " cg_reg_2 (CombinedGraphLay  multiple                  440128    \n",
      " er)                                                             \n",
      "                                                                 \n",
      " cg_reg_3 (CombinedGraphLay  multiple                  440128    \n",
      " er)                                                             \n",
      "                                                                 \n",
      " cg_reg_4 (CombinedGraphLay  multiple                  440128    \n",
      " er)                                                             \n",
      "                                                                 \n",
      " cg_reg_5 (CombinedGraphLay  multiple                  440128    \n",
      " er)                                                             \n",
      "                                                                 \n",
      " output_decoding (OutputDec  multiple                  269967    \n",
      " oding)                                                          \n",
      "                                                                 \n",
      "=================================================================\n",
      "Total params: 5622415 (21.45 MB)\n",
      "Trainable params: 5468815 (20.86 MB)\n",
      "Non-trainable params: 153600 (600.00 KB)\n",
      "_________________________________________________________________\n"
     ]
    }
   ],
   "source": [
    "model.summary()\n",
    "\n"
   ]
  },
  {
   "cell_type": "code",
   "execution_count": 6,
   "id": "3b6058e1",
   "metadata": {},
   "outputs": [],
   "source": [
    "model.load_weights(\"weights-96-5.346523.hdf5\", skip_mismatch=False, by_name=True)\n",
    "## These files hosted at https://huggingface.co/jpata/particleflow/tree/clic_clusters_v1.6"
   ]
  },
  {
   "cell_type": "code",
   "execution_count": 7,
   "id": "e5e96683",
   "metadata": {},
   "outputs": [],
   "source": [
    "## Reading the dataset\n",
    "ds_builder = tfds.builder(\"clic_edm_qq_pf\", data_dir = '../../../mlpf/tensorflow_datasets/') # Tensorflow datsets positions in the lxplus\n",
    "dss = ds_builder.as_data_source(\"test\")"
   ]
  },
  {
   "cell_type": "code",
   "execution_count": 8,
   "id": "fd006d99",
   "metadata": {},
   "outputs": [],
   "source": [
    "def yield_from_ds():\n",
    "    for elem in dss:\n",
    "        yield {\"X\": elem[\"X\"], \"ygen\": elem[\"ygen\"], \"ycand\": elem[\"ycand\"]}"
   ]
  },
  {
   "cell_type": "code",
   "execution_count": 9,
   "id": "326cd81b",
   "metadata": {},
   "outputs": [],
   "source": [
    "output_signature = {k: tf.TensorSpec(shape=(None, v.shape[1])) for (k, v) in dss.dataset_info.features.items()}\n",
    "tf_dataset = tf.data.Dataset.from_generator(yield_from_ds, output_signature=output_signature).take(100).padded_batch(batch_size=10)"
   ]
  },
  {
   "cell_type": "code",
   "execution_count": 10,
   "id": "a4d4ab1a",
   "metadata": {},
   "outputs": [],
   "source": [
    "data = list(tfds.as_numpy(tf_dataset))\n"
   ]
  },
  {
   "cell_type": "code",
   "execution_count": 12,
   "id": "c6182710",
   "metadata": {},
   "outputs": [],
   "source": [
    "Xs = [d[\"X\"] for d in data]\n",
    "ys = [d[\"ygen\"] for d in data]\n",
    "ycs= [d[\"ycand\"] for d in data]"
   ]
  },
  {
   "cell_type": "code",
   "execution_count": 13,
   "id": "fb8613f6",
   "metadata": {},
   "outputs": [
    {
     "name": "stderr",
     "output_type": "stream",
     "text": [
      "2023-11-30 11:42:04.400683: I tensorflow/compiler/xla/stream_executor/cuda/cuda_dnn.cc:432] Loaded cuDNN version 8600\n"
     ]
    }
   ],
   "source": [
    "true_pts = []\n",
    "pred_pts = []\n",
    "\n",
    "for ibatch in range(len(Xs)):\n",
    "    ret = model(Xs[ibatch])\n",
    "\n",
    "    mask_true_particles = ys[ibatch][..., 0]!=0\n",
    "    \n",
    "    true_pt = ys[ibatch][mask_true_particles, 2]\n",
    "    pred_pt = ret[\"pt\"][mask_true_particles][..., 0].numpy()\n",
    "\n",
    "    true_pts.append(true_pt)\n",
    "    pred_pts.append(pred_pt)"
   ]
  },
  {
   "cell_type": "code",
   "execution_count": 14,
   "id": "a29aabf8",
   "metadata": {},
   "outputs": [],
   "source": [
    "true_pt = np.concatenate(true_pts)\n",
    "pred_pt = np.concatenate(pred_pts)"
   ]
  },
  {
   "cell_type": "code",
   "execution_count": 15,
   "id": "225f314d",
   "metadata": {},
   "outputs": [
    {
     "data": {
      "image/png": "[encoded data removed]",
      "text/plain": [
       "<Figure size 432x288 with 1 Axes>"
      ]
     },
     "metadata": {
      "needs_background": "light"
     },
     "output_type": "display_data"
    }
   ],
   "source": [
    "plt.hist(pred_pt/true_pt, bins=np.linspace(0,3,100));\n",
    "plt.yscale(\"log\")"
   ]
  },
  {
   "cell_type": "code",
   "execution_count": 72,
   "id": "556de7af",
   "metadata": {},
   "outputs": [
    {
     "name": "stdout",
     "output_type": "stream",
     "text": [
      "(10, 142, 8)\n",
      "(10, 142, 8)\n"
     ]
    }
   ],
   "source": [
    "print(ys[2].shape)\n",
    "print(ycs[2].shape)"
   ]
  },
  {
   "cell_type": "code",
   "execution_count": null,
   "id": "5a0d378f",
   "metadata": {},
   "outputs": [],
   "source": []
  },
  {
   "cell_type": "markdown",
   "id": "7178649c",
   "metadata": {},
   "source": [
    "Taking out all of `pT` values "
   ]
  },
  {
   "cell_type": "code",
   "execution_count": 16,
   "id": "756b9bed",
   "metadata": {},
   "outputs": [],
   "source": [
    "true_pts_ygen = np.concatenate([d[\"ygen\"][:, 2] for d in data])\n",
    "true_pts_ycand = np.concatenate([d[\"ycand\"][:, 2] for d in data])"
   ]
  },
  {
   "cell_type": "code",
   "execution_count": 19,
   "id": "df870d38",
   "metadata": {},
   "outputs": [
    {
     "name": "stdout",
     "output_type": "stream",
     "text": [
      "True pt from ygen: [[ 1.00000000e+00 -1.00000000e+00  3.91250396e+00  8.51751029e-01\n",
      "  -9.60166156e-01  2.79429704e-01  5.42142534e+00  1.00000000e+00]\n",
      " [ 1.00000000e+00 -1.00000000e+00  3.57476068e+00 -2.25394058e+00\n",
      "   9.75725949e-01 -2.18995124e-01  1.72133617e+01  1.00000000e+00]\n",
      " [ 1.00000000e+00  1.00000000e+00  1.27688611e+00  2.29832387e+00\n",
      "   2.75673121e-01  9.61251438e-01  6.42291737e+00  2.00000000e+00]\n",
      " [ 1.00000000e+00  1.00000000e+00  6.18536758e+00 -1.85006022e+00\n",
      "   8.25993717e-01  5.63679338e-01  2.01781788e+01  2.00000000e+00]\n",
      " [ 1.00000000e+00 -1.00000000e+00  9.67933083e+00 -8.46591949e-01\n",
      "  -8.92565370e-01 -4.50918049e-01  1.33609200e+01  3.00000000e+00]\n",
      " [ 1.00000000e+00  1.00000000e+00  8.60886192e+00  2.34120822e+00\n",
      "  -7.80091345e-01 -6.25665665e-01  4.51536942e+01  2.00000000e+00]\n",
      " [ 1.00000000e+00  1.00000000e+00  3.38208795e+00 -4.95963007e-01\n",
      "   9.03786659e-01 -4.27983284e-01  3.80920434e+00  1.00000000e+00]\n",
      " [ 1.00000000e+00  1.00000000e+00  6.98776913e+00  1.30071297e-01\n",
      "  -9.17337120e-01  3.98111314e-01  7.04834604e+00  1.00000000e+00]\n",
      " [ 1.00000000e+00  1.00000000e+00  5.34268188e+00  1.89011037e+00\n",
      "  -7.54588723e-01 -6.56198084e-01  1.80886002e+01  2.00000000e+00]\n",
      " [ 1.00000000e+00  1.00000000e+00  8.35609376e-01 -5.44688225e-01\n",
      "   8.42599034e-01  5.38541436e-01  9.72726047e-01  0.00000000e+00]\n",
      " [ 1.00000000e+00 -1.00000000e+00  3.33634555e-01  2.42627120e+00\n",
      "  -8.39562416e-01 -5.43263197e-01  1.96555412e+00  0.00000000e+00]\n",
      " [ 1.00000000e+00 -1.00000000e+00  1.54762926e+01  1.62347332e-01\n",
      "  -8.80322337e-01  4.74375963e-01  1.56813135e+01  3.00000000e+00]\n",
      " [ 1.00000000e+00  1.00000000e+00  3.54011250e+00  1.52685618e+00\n",
      "   8.18872452e-01  5.73975503e-01  8.53440285e+00  2.00000000e+00]\n",
      " [ 1.00000000e+00 -1.00000000e+00  1.15335169e+01 -1.02319002e+00\n",
      "  -5.29583395e-01  8.48257899e-01  1.81168213e+01  2.00000000e+00]\n",
      " [ 1.00000000e+00 -1.00000000e+00  5.77153587e+00  1.90230870e+00\n",
      "   6.88974932e-02  9.97623742e-01  1.97696552e+01  2.00000000e+00]\n",
      " [ 1.00000000e+00 -1.00000000e+00  8.50056362e+00  9.97234166e-01\n",
      "  -5.59624195e-01 -8.28746498e-01  1.30902185e+01  2.00000000e+00]\n",
      " [ 1.00000000e+00  1.00000000e+00  7.23129845e+00 -1.72206712e+00\n",
      "  -6.59020364e-01  7.52125084e-01  2.08800468e+01  2.00000000e+00]\n",
      " [ 1.00000000e+00 -1.00000000e+00  8.41508031e-01 -1.40360069e+00\n",
      "  -6.32965088e-01  7.74180353e-01  1.88169539e+00  0.00000000e+00]\n",
      " [ 1.00000000e+00 -1.00000000e+00  6.64052606e-01  1.33311200e+00\n",
      "  -8.16160917e-01  5.77824652e-01  1.35407150e+00  0.00000000e+00]\n",
      " [ 1.00000000e+00  1.00000000e+00  2.16913815e+01  3.01398158e-01\n",
      "  -5.53442597e-01  8.32887292e-01  2.26894646e+01  2.00000000e+00]\n",
      " [ 1.00000000e+00 -1.00000000e+00  1.40859709e+01  5.15339911e-01\n",
      "   9.90780652e-01 -1.35475874e-01  1.60057926e+01  3.00000000e+00]\n",
      " [ 1.00000000e+00  1.00000000e+00  3.24917459e+00  2.59912395e+00\n",
      "   8.58400941e-01  5.12979329e-01  2.19801769e+01  2.00000000e+00]\n",
      " [ 1.00000000e+00  1.00000000e+00  5.33797264e+00 -1.44674349e+00\n",
      "  -9.64210987e-01 -2.65136063e-01  1.19701223e+01  2.00000000e+00]\n",
      " [ 1.00000000e+00 -1.00000000e+00  7.55257130e+00  1.43160856e+00\n",
      "   6.92601621e-01  7.21320331e-01  1.67081947e+01  2.00000000e+00]\n",
      " [ 1.00000000e+00  1.00000000e+00  4.71012878e+00 -1.35522580e+00\n",
      "   4.02165204e-01 -9.15567100e-01  9.74042892e+00  2.00000000e+00]\n",
      " [ 1.00000000e+00  1.00000000e+00  6.52293634e+00 -1.64285600e+00\n",
      "   9.70639765e-01 -2.40537763e-01  1.74993305e+01  2.00000000e+00]\n",
      " [ 1.00000000e+00  1.00000000e+00  4.94336843e+00  1.17091250e+00\n",
      "  -9.79530871e-01 -2.01293945e-01  8.73856258e+00  1.00000000e+00]\n",
      " [ 1.00000000e+00  1.00000000e+00  5.01182985e+00 -2.06617689e+00\n",
      "  -9.47301388e-01  3.20343614e-01  2.01010628e+01  2.00000000e+00]\n",
      " [ 1.00000000e+00 -1.00000000e+00  1.03973951e+01  9.77729797e-01\n",
      "   8.12242031e-01  5.83320618e-01  1.57835770e+01  3.00000000e+00]\n",
      " [ 1.00000000e+00  1.00000000e+00  3.66736364e+00 -2.12820005e+00\n",
      "   4.77220975e-02  9.98860657e-01  1.56285419e+01  2.00000000e+00]\n",
      " [ 0.00000000e+00  0.00000000e+00  0.00000000e+00  0.00000000e+00\n",
      "   0.00000000e+00  0.00000000e+00  0.00000000e+00  0.00000000e+00]\n",
      " [ 1.00000000e+00  1.00000000e+00  3.05754495e+00  2.53663206e+00\n",
      "  -1.28968079e-02 -9.99916852e-01  1.94406338e+01  2.00000000e+00]\n",
      " [ 1.00000000e+00 -1.00000000e+00  5.77085400e+00  1.39893937e+00\n",
      "   7.14909136e-02 -9.97441232e-01  1.24016581e+01  2.00000000e+00]\n",
      " [ 1.00000000e+00  1.00000000e+00  3.59427047e+00  1.87028199e-01\n",
      "  -8.80897045e-01 -4.73307908e-01  3.65997887e+00  1.00000000e+00]\n",
      " [ 1.00000000e+00 -1.00000000e+00  1.33987880e+00 -2.03822279e+00\n",
      "  -5.28306723e-01 -8.49053621e-01  5.23222160e+00  2.00000000e+00]\n",
      " [ 1.00000000e+00 -1.00000000e+00  3.28508568e+00 -1.77545774e+00\n",
      "  -7.21521497e-01 -6.92391992e-01  9.97513485e+00  2.00000000e+00]\n",
      " [ 1.00000000e+00  1.00000000e+00  4.76078320e+00 -9.33229804e-01\n",
      "   2.09476173e-01 -9.77813780e-01  6.99019909e+00  1.00000000e+00]\n",
      " [ 1.00000000e+00  1.00000000e+00  3.55653214e+00 -1.82191753e+00\n",
      "   9.54907119e-01 -2.96904624e-01  1.12847080e+01  2.00000000e+00]\n",
      " [ 1.00000000e+00  1.00000000e+00  4.61425686e+00 -2.18678808e+00\n",
      "  -9.90300715e-01 -1.38940632e-01  2.08080845e+01  2.00000000e+00]\n",
      " [ 5.00000000e+00  1.00000000e+00  9.52551937e+00 -7.82603502e-01\n",
      "   9.76864755e-01  2.13858083e-01  1.25949574e+01  1.00000000e+00]\n",
      " [ 1.00000000e+00 -1.00000000e+00  7.03008461e+00 -2.44995594e-01\n",
      "  -6.68867171e-01  7.43381977e-01  7.24346972e+00  1.00000000e+00]\n",
      " [ 1.00000000e+00 -1.00000000e+00  9.46001720e+00 -1.31988549e+00\n",
      "  -3.48250084e-02  9.99393404e-01  1.89685993e+01  2.00000000e+00]\n",
      " [ 1.00000000e+00  1.00000000e+00  4.28558731e+00  2.29746675e+00\n",
      "  -9.08509433e-01 -4.17864382e-01  2.15343704e+01  2.00000000e+00]\n",
      " [ 1.00000000e+00  1.00000000e+00  7.69967222e+00 -2.35189176e+00\n",
      "  -2.83447325e-01  9.58987832e-01  4.08108673e+01  2.00000000e+00]\n",
      " [ 1.00000000e+00 -1.00000000e+00  1.16888237e+00 -2.43027949e+00\n",
      "   4.94425744e-01  8.69219840e-01  6.69334793e+00  2.00000000e+00]\n",
      " [ 1.00000000e+00  1.00000000e+00  5.75143623e+00 -8.55662704e-01\n",
      "   7.99047872e-02 -9.96802509e-01  7.98977613e+00  1.00000000e+00]\n",
      " [ 1.00000000e+00  1.00000000e+00  1.31419392e+01 -5.56485176e-01\n",
      "  -4.28737402e-02 -9.99080479e-01  1.52305069e+01  2.00000000e+00]\n",
      " [ 1.00000000e+00  1.00000000e+00  7.60609210e-01 -7.63984144e-01\n",
      "   7.98096478e-01 -6.02529645e-01  1.00334597e+00  1.00000000e+00]\n",
      " [ 1.00000000e+00  1.00000000e+00  1.64466591e+01 -1.15483487e+00\n",
      "  -8.88975382e-01  4.57955003e-01  2.86883221e+01  2.00000000e+00]\n",
      " [ 1.00000000e+00  1.00000000e+00  3.22331047e+00 -1.53630413e-02\n",
      "  -8.40642035e-01 -5.41591167e-01  3.22671080e+00  1.00000000e+00]\n",
      " [ 1.00000000e+00  1.00000000e+00  2.31449771e+00  1.97853506e+00\n",
      "  -8.27724099e-01  5.61135352e-01  8.53054333e+00  1.00000000e+00]\n",
      " [ 1.00000000e+00  1.00000000e+00  7.63536882e+00  1.47141623e+00\n",
      "  -9.49218810e-01  3.14616710e-01  1.75046368e+01  2.00000000e+00]\n",
      " [ 1.00000000e+00  1.00000000e+00  4.19833183e+00  4.52734023e-01\n",
      "   5.84175289e-01  8.11627507e-01  4.63809395e+00  1.00000000e+00]\n",
      " [ 1.00000000e+00 -1.00000000e+00  5.62492657e+00  1.73199952e+00\n",
      "   6.48413181e-01  7.61288583e-01  1.63940887e+01  2.00000000e+00]\n",
      " [ 1.00000000e+00 -1.00000000e+00  6.44464397e+00  6.26425207e-01\n",
      "  -9.57739770e-01 -2.87636012e-01  7.75226068e+00  1.00000000e+00]\n",
      " [ 1.00000000e+00 -1.00000000e+00  9.37784863e+00  1.34747267e+00\n",
      "  -1.58250704e-01  9.87398982e-01  1.92606621e+01  2.00000000e+00]\n",
      " [ 1.00000000e+00 -1.00000000e+00  4.31122923e+00  1.71582192e-01\n",
      "   6.05973788e-02 -9.98162270e-01  4.40261412e+00  1.00000000e+00]\n",
      " [ 1.00000000e+00  1.00000000e+00  5.38991117e+00  7.00996995e-01\n",
      "   1.71540026e-02 -9.99852836e-01  6.78730726e+00  1.00000000e+00]\n",
      " [ 1.00000000e+00  1.00000000e+00  1.00848093e+01 -8.51562247e-03\n",
      "   3.93061727e-01 -9.19512093e-01  1.00972500e+01  3.00000000e+00]\n",
      " [ 1.00000000e+00  1.00000000e+00  1.04022532e+01  1.07100594e+00\n",
      "   9.19952810e-01 -3.92029136e-01  1.69613304e+01  1.00000000e+00]\n",
      " [ 1.00000000e+00 -1.00000000e+00  1.78271961e+00 -2.11830354e+00\n",
      "  -1.12449788e-02  9.99936759e-01  7.52192116e+00  1.00000000e+00]\n",
      " [ 1.00000000e+00 -1.00000000e+00  1.04402027e+01 -1.11067319e+00\n",
      "  -3.32487196e-01 -9.43107784e-01  1.75700531e+01  1.00000000e+00]\n",
      " [ 1.00000000e+00 -1.00000000e+00  4.53061914e+00  1.84411430e+00\n",
      "   9.01816189e-01  4.32119787e-01  1.46813698e+01  2.00000000e+00]\n",
      " [ 1.00000000e+00 -1.00000000e+00  7.98455429e+00  2.61352754e+00\n",
      "   6.69979632e-01 -7.42379487e-01  5.47757530e+01  2.00000000e+00]\n",
      " [ 5.00000000e+00 -1.00000000e+00  1.87829037e+01 -5.85991263e-01\n",
      "  -7.10303187e-01 -7.03895867e-01  2.21013927e+01  1.00000000e+00]\n",
      " [ 1.00000000e+00 -1.00000000e+00  5.07121801e+00 -9.89277959e-01\n",
      "   7.28081644e-01 -6.85490429e-01  7.76310158e+00  2.00000000e+00]\n",
      " [ 1.00000000e+00  1.00000000e+00  4.86277199e+00  1.97104335e+00\n",
      "   9.96509194e-01 -8.34827870e-02  1.77921505e+01  2.00000000e+00]\n",
      " [ 1.00000000e+00 -1.00000000e+00  7.68482625e-01 -8.43655467e-01\n",
      "  -1.25971988e-01  9.92033780e-01  1.06774032e+00  0.00000000e+00]\n",
      " [ 1.00000000e+00 -1.00000000e+00  2.72794056e+01  3.03229183e-01\n",
      "  -6.53360784e-01 -7.57046700e-01  2.85435295e+01  2.00000000e+00]\n",
      " [ 1.00000000e+00  1.00000000e+00  5.11682558e+00  2.44903874e+00\n",
      "   1.51841313e-01 -9.88404870e-01  2.98443584e+01  2.00000000e+00]\n",
      " [ 5.00000000e+00 -1.00000000e+00  1.02648182e+01  5.04906237e-01\n",
      "  -9.78080928e-01  2.08225071e-01  1.16017389e+01  1.00000000e+00]\n",
      " [ 1.00000000e+00 -1.00000000e+00  3.26181030e+00 -1.09693909e+00\n",
      "  -3.97848904e-01 -9.17450964e-01  5.43087530e+00  1.00000000e+00]\n",
      " [ 1.00000000e+00  1.00000000e+00  3.38101959e+00 -2.24205136e+00\n",
      "   3.67895484e-01  9.29867148e-01  1.60923328e+01  2.00000000e+00]\n",
      " [ 1.00000000e+00  1.00000000e+00  4.24321079e+00 -9.01984096e-01\n",
      "   3.68628949e-02  9.99320328e-01  6.09114075e+00  1.00000000e+00]\n",
      " [ 1.00000000e+00 -1.00000000e+00  3.47259545e+00  1.28700364e+00\n",
      "   9.97217596e-01 -7.45453537e-02  6.78609514e+00  1.00000000e+00]\n",
      " [ 1.00000000e+00  1.00000000e+00  5.03798676e+00 -1.64642239e+00\n",
      "   8.01684499e-01  5.97747386e-01  1.35557318e+01  2.00000000e+00]\n",
      " [ 5.00000000e+00 -1.00000000e+00  2.53613973e+00 -1.63546789e+00\n",
      "  -7.06106663e-01 -7.08105445e-01  6.75547934e+00  2.00000000e+00]\n",
      " [ 1.00000000e+00 -1.00000000e+00  1.43045187e+00  2.44063973e+00\n",
      "  -9.97329295e-01 -7.30361193e-02  8.27454567e+00  2.00000000e+00]\n",
      " [ 1.00000000e+00  1.00000000e+00  5.73509550e+00 -1.39451027e+00\n",
      "  -9.96856093e-01 -7.92331621e-02  1.23116426e+01  1.00000000e+00]\n",
      " [ 1.00000000e+00 -1.00000000e+00  6.02391529e+00  1.80291963e+00\n",
      "   1.07915759e-01  9.94160056e-01  1.87714996e+01  3.00000000e+00]\n",
      " [ 1.00000000e+00  1.00000000e+00  1.66521156e+00  4.97549444e-01\n",
      "  -9.13912117e-01  4.05912161e-01  1.88080072e+00  1.00000000e+00]\n",
      " [ 1.00000000e+00 -1.00000000e+00  2.33981838e+01 -5.46244502e-01\n",
      "   2.51241714e-01  9.67924356e-01  2.69770222e+01  2.00000000e+00]\n",
      " [ 4.00000000e+00  1.00000000e+00  7.79226685e+00 -1.36276209e+00\n",
      "   5.24871826e-01 -8.51181269e-01  1.62193012e+01  1.00000000e+00]\n",
      " [ 1.00000000e+00 -1.00000000e+00  6.62514782e+00  3.65094811e-01\n",
      "  -7.57667720e-01 -6.52640522e-01  7.08883286e+00  1.00000000e+00]\n",
      " [ 1.00000000e+00  1.00000000e+00  1.03172054e+01  3.77171218e-01\n",
      "   3.29749078e-01 -9.44068611e-01  1.10606804e+01  2.00000000e+00]\n",
      " [ 1.00000000e+00 -1.00000000e+00  1.42475653e+01  1.34949386e-01\n",
      "   9.29059863e-01  3.69929403e-01  1.43781729e+01  2.00000000e+00]\n",
      " [ 1.00000000e+00  1.00000000e+00  3.13163948e+00  1.54256177e+00\n",
      "   9.94758368e-01  1.02253653e-01  7.65873766e+00  3.00000000e+00]\n",
      " [ 1.00000000e+00  1.00000000e+00  3.50750399e+00 -1.04009271e+00\n",
      "  -3.72726858e-01  9.27941084e-01  5.58376408e+00  2.00000000e+00]\n",
      " [ 1.00000000e+00  1.00000000e+00  2.24490237e+00  2.26150393e-01\n",
      "   8.95337999e-01  4.45387334e-01  2.30678034e+00  1.00000000e+00]\n",
      " [ 1.00000000e+00 -1.00000000e+00  7.57831049e+00  1.61227620e+00\n",
      "   5.13246059e-01  8.58241498e-01  1.97558022e+01  1.00000000e+00]\n",
      " [ 1.00000000e+00  1.00000000e+00  7.93349862e-01 -2.57821202e+00\n",
      "  -8.08448136e-01 -5.88567436e-01  5.25758600e+00  2.00000000e+00]\n",
      " [ 1.00000000e+00  1.00000000e+00  8.75705528e+00 -4.76253778e-01\n",
      "  -5.19130349e-01  8.54695082e-01  9.81405067e+00  1.00000000e+00]\n",
      " [ 1.00000000e+00  1.00000000e+00  6.42648458e+00 -4.41297233e-01\n",
      "   7.53919363e-01 -6.56966984e-01  7.06384230e+00  1.00000000e+00]\n",
      " [ 1.00000000e+00 -1.00000000e+00  1.28745890e+01  1.14014947e+00\n",
      "   4.74392742e-01  8.80313337e-01  2.21898384e+01  3.00000000e+00]\n",
      " [ 0.00000000e+00  0.00000000e+00  0.00000000e+00  0.00000000e+00\n",
      "   0.00000000e+00  0.00000000e+00  0.00000000e+00  0.00000000e+00]\n",
      " [ 1.00000000e+00 -1.00000000e+00  8.47631741e+00  1.45735598e+00\n",
      "   9.73590791e-01 -2.28300124e-01  1.91885204e+01  2.00000000e+00]\n",
      " [ 1.00000000e+00 -1.00000000e+00  6.96892166e+00  7.01834202e-01\n",
      "   9.98427033e-01 -5.60663491e-02  8.80700874e+00  1.00000000e+00]\n",
      " [ 1.00000000e+00 -1.00000000e+00  2.33717632e+00  1.84521651e+00\n",
      "   2.42010996e-01  9.70273495e-01  7.58245516e+00  2.00000000e+00]\n",
      " [ 1.00000000e+00  1.00000000e+00  5.17582750e+00 -1.76069319e+00\n",
      "  -9.47917879e-01 -3.18514824e-01  1.54980745e+01  2.00000000e+00]\n",
      " [ 1.00000000e+00 -1.00000000e+00  2.03524628e+01  4.88023877e-01\n",
      "  -9.59390223e-01  2.82082289e-01  2.28250217e+01  4.00000000e+00]]\n",
      "True pt from ycand: [[ 1.00000000e+00 -1.00000000e+00  3.90746784e+00  8.51917982e-01\n",
      "  -9.60035801e-01  2.79877216e-01  5.41507721e+00  1.00000000e+00]\n",
      " [ 1.00000000e+00 -1.00000000e+00  3.57800865e+00 -2.25423789e+00\n",
      "   9.75628316e-01 -2.19429657e-01  1.72340126e+01  1.00000000e+00]\n",
      " [ 1.00000000e+00  1.00000000e+00  1.29540586e+00  2.29837513e+00\n",
      "   2.76453972e-01  9.61027145e-01  6.51635647e+00  2.00000000e+00]\n",
      " [ 1.00000000e+00  1.00000000e+00  6.17052364e+00 -1.85022938e+00\n",
      "   8.25827062e-01  5.63923419e-01  2.01117001e+01  2.00000000e+00]\n",
      " [ 1.00000000e+00 -1.00000000e+00  9.66134548e+00 -8.46734285e-01\n",
      "  -8.92518818e-01 -4.51010197e-01  1.33374052e+01  3.00000000e+00]\n",
      " [ 0.00000000e+00  0.00000000e+00  0.00000000e+00  0.00000000e+00\n",
      "   0.00000000e+00  0.00000000e+00  0.00000000e+00  2.00000000e+00]\n",
      " [ 1.00000000e+00  1.00000000e+00  3.38613892e+00 -4.96241033e-01\n",
      "   9.03921425e-01 -4.27698612e-01  3.81424665e+00  1.00000000e+00]\n",
      " [ 1.00000000e+00  1.00000000e+00  7.00114441e+00  1.29869431e-01\n",
      "  -9.17303801e-01  3.98188084e-01  7.06164837e+00  1.00000000e+00]\n",
      " [ 1.00000000e+00  1.00000000e+00  5.29426479e+00  1.88952649e+00\n",
      "  -7.54620135e-01 -6.56161904e-01  1.79146881e+01  2.00000000e+00]\n",
      " [ 1.00000000e+00  1.00000000e+00  8.35008323e-01 -5.44375420e-01\n",
      "   8.42724264e-01  5.38345456e-01  9.71893013e-01  0.00000000e+00]\n",
      " [ 0.00000000e+00  0.00000000e+00  0.00000000e+00  0.00000000e+00\n",
      "   0.00000000e+00  0.00000000e+00  0.00000000e+00  0.00000000e+00]\n",
      " [ 1.00000000e+00 -1.00000000e+00  1.54987335e+01  1.62207022e-01\n",
      "  -8.80390286e-01  4.74249929e-01  1.57036963e+01  3.00000000e+00]\n",
      " [ 1.00000000e+00  1.00000000e+00  3.52508950e+00  1.52730811e+00\n",
      "   8.19287956e-01  5.73382258e-01  8.50168991e+00  2.00000000e+00]\n",
      " [ 1.00000000e+00 -1.00000000e+00  1.15359907e+01 -1.02339387e+00\n",
      "  -5.29409885e-01  8.48366141e-01  1.81235542e+01  2.00000000e+00]\n",
      " [ 1.00000000e+00 -1.00000000e+00  5.74828005e+00  1.90255046e+00\n",
      "   6.87944815e-02  9.97630835e-01  1.96945515e+01  2.00000000e+00]\n",
      " [ 1.00000000e+00 -1.00000000e+00  8.52721882e+00  9.97287929e-01\n",
      "  -5.59726179e-01 -8.28677654e-01  1.31317978e+01  2.00000000e+00]\n",
      " [ 1.00000000e+00  1.00000000e+00  7.21396685e+00 -1.72203505e+00\n",
      "  -6.58837020e-01  7.52285719e-01  2.08293762e+01  2.00000000e+00]\n",
      " [ 1.00000000e+00 -1.00000000e+00  8.45693946e-01 -1.40226841e+00\n",
      "  -6.32304251e-01  7.74720192e-01  1.82799566e+00  0.00000000e+00]\n",
      " [ 1.00000000e+00 -1.00000000e+00  6.61054373e-01  1.33304667e+00\n",
      "  -8.16971540e-01  5.76677918e-01  1.34794724e+00  0.00000000e+00]\n",
      " [ 1.00000000e+00  1.00000000e+00  2.17087803e+01  3.01541626e-01\n",
      "  -5.53539395e-01  8.32822978e-01  2.27036724e+01  2.00000000e+00]\n",
      " [ 1.00000000e+00 -1.00000000e+00  1.41061621e+01  5.15299320e-01\n",
      "   9.90807891e-01 -1.35276616e-01  1.60214081e+01  3.00000000e+00]\n",
      " [ 1.00000000e+00  1.00000000e+00  3.28188372e+00  2.60011554e+00\n",
      "   8.58702660e-01  5.12474179e-01  2.22180691e+01  2.00000000e+00]\n",
      " [ 1.00000000e+00  1.00000000e+00  5.32077646e+00 -1.44712579e+00\n",
      "  -9.64306235e-01 -2.64789492e-01  1.19356499e+01  2.00000000e+00]\n",
      " [ 1.00000000e+00 -1.00000000e+00  7.65091085e+00  1.43192053e+00\n",
      "   6.92614138e-01  7.21308291e-01  1.69304428e+01  2.00000000e+00]\n",
      " [ 1.00000000e+00  1.00000000e+00  4.69884014e+00 -1.35489106e+00\n",
      "   4.02168483e-01 -9.15565670e-01  9.71424294e+00  2.00000000e+00]\n",
      " [ 1.00000000e+00  1.00000000e+00  6.62420177e+00 -1.64318812e+00\n",
      "   9.70698833e-01 -2.40299284e-01  1.77699490e+01  2.00000000e+00]\n",
      " [ 1.00000000e+00  1.00000000e+00  4.91273689e+00  1.17089903e+00\n",
      "  -9.79718924e-01 -2.00376868e-01  8.68433094e+00  1.00000000e+00]\n",
      " [ 1.00000000e+00  1.00000000e+00  5.02988195e+00 -2.06613779e+00\n",
      "  -9.47456121e-01  3.19885790e-01  2.01726971e+01  2.00000000e+00]\n",
      " [ 1.00000000e+00 -1.00000000e+00  1.04078588e+01  9.76938546e-01\n",
      "   8.11892390e-01  5.83807170e-01  1.57829561e+01  3.00000000e+00]\n",
      " [ 1.00000000e+00  1.00000000e+00  3.65258551e+00 -2.12802196e+00\n",
      "   4.79583293e-02  9.98849332e-01  1.55557299e+01  2.00000000e+00]\n",
      " [ 2.00000000e+00  0.00000000e+00  5.50951600e-01 -1.98545575e+00\n",
      "  -6.55186713e-01 -7.55466998e-01  2.24955249e+00  0.00000000e+00]\n",
      " [ 1.00000000e+00  1.00000000e+00  3.06716633e+00  2.53631568e+00\n",
      "  -1.30820433e-02 -9.99914408e-01  1.94957123e+01  2.00000000e+00]\n",
      " [ 1.00000000e+00 -1.00000000e+00  5.76881647e+00  1.39877737e+00\n",
      "   7.12509602e-02 -9.97458398e-01  1.23955021e+01  2.00000000e+00]\n",
      " [ 1.00000000e+00  1.00000000e+00  3.60695815e+00  1.87356353e-01\n",
      "  -8.80990505e-01 -4.73133981e-01  3.67310262e+00  1.00000000e+00]\n",
      " [ 1.00000000e+00 -1.00000000e+00  1.36720586e+00 -2.03648353e+00\n",
      "  -5.26634455e-01 -8.50091875e-01  5.32989693e+00  2.00000000e+00]\n",
      " [ 1.00000000e+00 -1.00000000e+00  3.27517200e+00 -1.77606285e+00\n",
      "  -7.21688867e-01 -6.92217588e-01  9.95071983e+00  2.00000000e+00]\n",
      " [ 1.00000000e+00  1.00000000e+00  4.73292589e+00 -9.33183193e-01\n",
      "   2.09583640e-01 -9.77790713e-01  6.94907618e+00  1.00000000e+00]\n",
      " [ 1.00000000e+00  1.00000000e+00  3.60404849e+00 -1.82203460e+00\n",
      "   9.55357015e-01 -2.95453817e-01  1.14367228e+01  2.00000000e+00]\n",
      " [ 1.00000000e+00  1.00000000e+00  4.63650656e+00 -2.18700814e+00\n",
      "  -9.90286410e-01 -1.39042392e-01  2.09129009e+01  2.00000000e+00]\n",
      " [ 5.00000000e+00  1.00000000e+00  9.57109165e+00 -7.82673299e-01\n",
      "   9.76973653e-01  2.13359877e-01  1.26557884e+01  1.00000000e+00]\n",
      " [ 1.00000000e+00 -1.00000000e+00  7.01748323e+00 -2.45059848e-01\n",
      "  -6.68756843e-01  7.43481159e-01  7.23060226e+00  1.00000000e+00]\n",
      " [ 1.00000000e+00 -1.00000000e+00  9.50207329e+00 -1.31960654e+00\n",
      "  -3.51466797e-02  9.99382138e-01  1.90483170e+01  2.00000000e+00]\n",
      " [ 1.00000000e+00  1.00000000e+00  4.30614567e+00  2.29718637e+00\n",
      "  -9.08981562e-01 -4.16836351e-01  2.16317291e+01  2.00000000e+00]\n",
      " [ 0.00000000e+00  0.00000000e+00  0.00000000e+00  0.00000000e+00\n",
      "   0.00000000e+00  0.00000000e+00  0.00000000e+00  2.00000000e+00]\n",
      " [ 0.00000000e+00  0.00000000e+00  0.00000000e+00  0.00000000e+00\n",
      "   0.00000000e+00  0.00000000e+00  0.00000000e+00  2.00000000e+00]\n",
      " [ 1.00000000e+00  1.00000000e+00  5.75660133e+00 -8.55923176e-01\n",
      "   7.98967034e-02 -9.96803164e-01  7.99839449e+00  1.00000000e+00]\n",
      " [ 1.00000000e+00  1.00000000e+00  1.31394787e+01 -5.56702077e-01\n",
      "  -4.29218560e-02 -9.99078453e-01  1.52293253e+01  2.00000000e+00]\n",
      " [ 1.00000000e+00  1.00000000e+00  7.66368032e-01 -7.63613462e-01\n",
      "   7.98516631e-01 -6.01972759e-01  1.01055992e+00  1.00000000e+00]\n",
      " [ 1.00000000e+00  1.00000000e+00  1.65360832e+01 -1.15490663e+00\n",
      "  -8.89051259e-01  4.57807690e-01  2.88459988e+01  2.00000000e+00]\n",
      " [ 1.00000000e+00  1.00000000e+00  3.21933603e+00 -1.52997058e-02\n",
      "  -8.40639949e-01 -5.41594326e-01  3.22273636e+00  1.00000000e+00]\n",
      " [ 1.00000000e+00  1.00000000e+00  2.30514812e+00  1.97865665e+00\n",
      "  -8.28135252e-01  5.60528338e-01  8.49708652e+00  1.00000000e+00]\n",
      " [ 1.00000000e+00  1.00000000e+00  7.71385527e+00  1.47051239e+00\n",
      "  -9.49210763e-01  3.14640909e-01  1.76701851e+01  2.00000000e+00]\n",
      " [ 1.00000000e+00  1.00000000e+00  4.20092106e+00  4.53138709e-01\n",
      "   5.83920240e-01  8.11811030e-01  4.64174795e+00  1.00000000e+00]\n",
      " [ 4.00000000e+00 -1.00000000e+00  5.70306444e+00  1.73159707e+00\n",
      "   6.48045242e-01  7.61601806e-01  1.66149406e+01  2.00000000e+00]\n",
      " [ 1.00000000e+00 -1.00000000e+00  6.23976994e+00  6.26387060e-01\n",
      "  -9.57603514e-01 -2.88089484e-01  7.50574017e+00  1.00000000e+00]\n",
      " [ 1.00000000e+00 -1.00000000e+00  9.31927776e+00  1.34765077e+00\n",
      "  -1.58452183e-01  9.87366676e-01  1.91433506e+01  2.00000000e+00]\n",
      " [ 1.00000000e+00 -1.00000000e+00  4.32374477e+00  1.71424717e-01\n",
      "   6.05128966e-02 -9.98167396e-01  4.38964987e+00  1.00000000e+00]\n",
      " [ 1.00000000e+00  1.00000000e+00  5.39076853e+00  7.00691044e-01\n",
      "   1.69640109e-02 -9.99856114e-01  6.77059174e+00  1.00000000e+00]\n",
      " [ 1.00000000e+00  1.00000000e+00  1.00672302e+01 -8.25823098e-03\n",
      "   3.93124640e-01 -9.19485211e-01  1.00685406e+01  3.00000000e+00]\n",
      " [ 1.00000000e+00  1.00000000e+00  1.03395166e+01  1.07104897e+00\n",
      "   9.19967830e-01 -3.91993940e-01  1.68596153e+01  1.00000000e+00]\n",
      " [ 1.00000000e+00 -1.00000000e+00  1.79541993e+00 -2.11838794e+00\n",
      "  -1.45052904e-02  9.99894798e-01  7.57611227e+00  1.00000000e+00]\n",
      " [ 1.00000000e+00 -1.00000000e+00  1.04367561e+01 -1.11079192e+00\n",
      "  -3.32668871e-01 -9.43043709e-01  1.75659313e+01  1.00000000e+00]\n",
      " [ 1.00000000e+00 -1.00000000e+00  4.46963406e+00  1.84363258e+00\n",
      "   9.01347339e-01  4.33096975e-01  1.44771328e+01  2.00000000e+00]\n",
      " [ 1.00000000e+00 -1.00000000e+00  4.26882833e-01  2.61391091e+00\n",
      "   7.45101631e-01 -6.66950941e-01  2.93293166e+00  2.00000000e+00]\n",
      " [ 5.00000000e+00 -1.00000000e+00  1.88304062e+01 -5.86161196e-01\n",
      "  -7.10182667e-01 -7.04017460e-01  2.21592693e+01  1.00000000e+00]\n",
      " [ 1.00000000e+00 -1.00000000e+00  5.10357714e+00 -9.88530874e-01\n",
      "   7.28582025e-01 -6.84958577e-01  7.80820608e+00  2.00000000e+00]\n",
      " [ 1.00000000e+00  1.00000000e+00  4.86309147e+00  1.97169065e+00\n",
      "   9.96532142e-01 -8.32084864e-02  1.78043995e+01  2.00000000e+00]\n",
      " [ 1.00000000e+00 -1.00000000e+00  7.68824041e-01 -8.43242526e-01\n",
      "  -1.25839397e-01  9.92050648e-01  1.06790853e+00  0.00000000e+00]\n",
      " [ 1.00000000e+00 -1.00000000e+00  2.73054848e+01  3.03206593e-01\n",
      "  -6.53469443e-01 -7.56952882e-01  2.85706253e+01  2.00000000e+00]\n",
      " [ 1.00000000e+00  1.00000000e+00  5.17084122e+00  2.44961882e+00\n",
      "   1.52203277e-01 -9.88349199e-01  3.01728420e+01  2.00000000e+00]\n",
      " [ 5.00000000e+00 -1.00000000e+00  1.02947111e+01  5.04800916e-01\n",
      "  -9.78242576e-01  2.07464457e-01  1.16349516e+01  1.00000000e+00]\n",
      " [ 1.00000000e+00 -1.00000000e+00  3.27319670e+00 -1.09703195e+00\n",
      "  -3.98044884e-01 -9.17365909e-01  5.45022535e+00  1.00000000e+00]\n",
      " [ 1.00000000e+00  1.00000000e+00  3.43113780e+00 -2.24206042e+00\n",
      "   3.68032157e-01  9.29813087e-01  1.63310013e+01  2.00000000e+00]\n",
      " [ 1.00000000e+00  1.00000000e+00  4.23940468e+00 -9.02099669e-01\n",
      "   3.70927714e-02  9.99311805e-01  6.08618498e+00  1.00000000e+00]\n",
      " [ 1.00000000e+00 -1.00000000e+00  3.47000575e+00  1.28668153e+00\n",
      "   9.97291207e-01 -7.35544711e-02  6.76263762e+00  1.00000000e+00]\n",
      " [ 1.00000000e+00  1.00000000e+00  5.17091990e+00 -1.64674950e+00\n",
      "   8.01402986e-01  5.98124802e-01  1.39176035e+01  2.00000000e+00]\n",
      " [ 1.00000000e+00 -1.00000000e+00  2.54943895e+00 -1.63587403e+00\n",
      "  -7.06018209e-01 -7.08193660e-01  6.79406357e+00  2.00000000e+00]\n",
      " [ 0.00000000e+00  0.00000000e+00  0.00000000e+00  0.00000000e+00\n",
      "   0.00000000e+00  0.00000000e+00  0.00000000e+00  2.00000000e+00]\n",
      " [ 1.00000000e+00  1.00000000e+00  5.77352619e+00 -1.39474547e+00\n",
      "  -9.96847630e-01 -7.93399960e-02  1.23614559e+01  1.00000000e+00]\n",
      " [ 1.00000000e+00 -1.00000000e+00  6.05846691e+00  1.80303550e+00\n",
      "   1.08404219e-01  9.94106889e-01  1.88812332e+01  3.00000000e+00]\n",
      " [ 4.00000000e+00  1.00000000e+00  1.66592884e+00  4.96046841e-01\n",
      "  -9.13393021e-01  4.07078862e-01  1.87512755e+00  1.00000000e+00]\n",
      " [ 1.00000000e+00 -1.00000000e+00  2.34154949e+01 -5.46350539e-01\n",
      "   2.51219928e-01  9.67930019e-01  2.69984074e+01  2.00000000e+00]\n",
      " [ 4.00000000e+00  1.00000000e+00  7.63953400e+00 -1.36257851e+00\n",
      "   5.24869204e-01 -8.51182878e-01  1.58988361e+01  1.00000000e+00]\n",
      " [ 1.00000000e+00 -1.00000000e+00  6.63168669e+00  3.65021646e-01\n",
      "  -7.57682979e-01 -6.52622819e-01  7.07979584e+00  1.00000000e+00]\n",
      " [ 1.00000000e+00  1.00000000e+00  1.03046093e+01  3.77253056e-01\n",
      "   3.29867721e-01 -9.44027185e-01  1.10475035e+01  2.00000000e+00]\n",
      " [ 1.00000000e+00 -1.00000000e+00  1.42677393e+01  1.34995893e-01\n",
      "   9.29053605e-01  3.69945139e-01  1.43986206e+01  2.00000000e+00]\n",
      " [ 1.00000000e+00  1.00000000e+00  3.10736609e+00  1.54279923e+00\n",
      "   9.94911790e-01  1.00750118e-01  7.60104036e+00  3.00000000e+00]\n",
      " [ 1.00000000e+00  1.00000000e+00  3.50906277e+00 -1.03994262e+00\n",
      "  -3.72109056e-01  9.28189039e-01  5.58559227e+00  2.00000000e+00]\n",
      " [ 1.00000000e+00  1.00000000e+00  2.24271202e+00  2.25857720e-01\n",
      "   8.95552576e-01  4.44955766e-01  2.30438852e+00  1.00000000e+00]\n",
      " [ 1.00000000e+00 -1.00000000e+00  7.60809612e+00  1.61193788e+00\n",
      "   5.13499200e-01  8.58090043e-01  1.98272514e+01  1.00000000e+00]\n",
      " [ 0.00000000e+00  0.00000000e+00  0.00000000e+00  0.00000000e+00\n",
      "   0.00000000e+00  0.00000000e+00  0.00000000e+00  2.00000000e+00]\n",
      " [ 1.00000000e+00  1.00000000e+00  8.76568127e+00 -4.76285726e-01\n",
      "  -5.19023061e-01  8.54760230e-01  9.77985382e+00  1.00000000e+00]\n",
      " [ 1.00000000e+00  1.00000000e+00  6.44544268e+00 -4.41217422e-01\n",
      "   7.54016757e-01 -6.56855166e-01  7.08443785e+00  1.00000000e+00]\n",
      " [ 1.00000000e+00 -1.00000000e+00  1.29089298e+01  1.14021254e+00\n",
      "   4.74589556e-01  8.80207241e-01  2.22501659e+01  3.00000000e+00]\n",
      " [ 1.00000000e+00  1.00000000e+00  4.38161039e+00 -4.15388346e-01\n",
      "   6.35770261e-01 -7.71878362e-01  4.76713896e+00  0.00000000e+00]\n",
      " [ 1.00000000e+00 -1.00000000e+00  8.41238976e+00  1.45708406e+00\n",
      "   9.73600984e-01 -2.28256613e-01  1.90391636e+01  2.00000000e+00]\n",
      " [ 1.00000000e+00 -1.00000000e+00  6.96137524e+00  7.01575637e-01\n",
      "   9.98442113e-01 -5.57968803e-02  8.74714756e+00  1.00000000e+00]\n",
      " [ 1.00000000e+00 -1.00000000e+00  2.34293127e+00  1.84432352e+00\n",
      "   2.41598949e-01  9.70376194e-01  7.59466743e+00  2.00000000e+00]\n",
      " [ 1.00000000e+00  1.00000000e+00  5.11949253e+00 -1.76063240e+00\n",
      "  -9.47688997e-01 -3.19195211e-01  1.53285255e+01  2.00000000e+00]\n",
      " [ 1.00000000e+00 -1.00000000e+00  2.03609352e+01  4.88245875e-01\n",
      "  -9.59502757e-01  2.81699240e-01  2.28368168e+01  4.00000000e+00]]\n"
     ]
    }
   ],
   "source": [
    "print(\"True pt from ygen:\", true_pts_ygen)\n",
    "print(\"True pt from ycand:\", true_pts_ycand)"
   ]
  },
  {
   "cell_type": "code",
   "execution_count": 24,
   "id": "e65e9352",
   "metadata": {},
   "outputs": [
    {
     "name": "stdout",
     "output_type": "stream",
     "text": [
      "(100, 8)\n",
      "(100, 8)\n"
     ]
    }
   ],
   "source": [
    "print(true_pts_ygen.shape)\n",
    "print(true_pts_ycand.shape)"
   ]
  },
  {
   "cell_type": "code",
   "execution_count": 25,
   "id": "7f0b7f70",
   "metadata": {},
   "outputs": [],
   "source": [
    "flat_true_pts_ygen = true_pts_ygen.flatten()\n",
    "flat_true_pts_ycand = true_pts_ycand.flatten()"
   ]
  },
  {
   "cell_type": "code",
   "execution_count": 35,
   "id": "ffb7213e",
   "metadata": {},
   "outputs": [
    {
     "name": "stderr",
     "output_type": "stream",
     "text": [
      "Warning in <TROOT::Append>: Replacing existing TH1: hist_ygen (Potential memory leak).\n",
      "Warning in <TROOT::Append>: Replacing existing TH1: hist_ycand (Potential memory leak).\n",
      "Warning in <TCanvas::Constructor>: Deleting canvas with same name: canvas\n"
     ]
    },
    {
     "data": {
      "image/png": "[encoded data removed]",
      "text/plain": [
       "<IPython.core.display.Image object>"
      ]
     },
     "metadata": {},
     "output_type": "display_data"
    }
   ],
   "source": [
    "hist_ygen = ROOT.TH1F(\"hist_ygen\", \"True pT from ygen\", 100, 0, 100)\n",
    "hist_ycand = ROOT.TH1F(\"hist_ycand\", \"True pT from ycand\", 100, 0, 100)\n",
    "\n",
    "\n",
    "# Fill histograms with 'pt' values\n",
    "for value in flat_true_pts_ygen:\n",
    "    hist_ygen.Fill(value)\n",
    "\n",
    "for value in flat_true_pts_ycand:\n",
    "    hist_ycand.Fill(value)\n",
    "\n",
    "    \n",
    "canvas = ROOT.TCanvas(\"canvas\", \"True pt Comparison\", 800, 600)\n",
    "\n",
    "hist_ygen.Draw()\n",
    "hist_ygen.SetTitle(\"\")\n",
    "hist_ygen.SetLineColor(ROOT.kBlue)\n",
    "hist_ygen.GetXaxis().SetTitle(\"pT(GeV/c)\")\n",
    "hist_ygen.GetYaxis().SetTitle(\"Count\")\n",
    "\n",
    "hist_ycand.Draw(\"SAME\")\n",
    "hist_ycand.SetLineColor(ROOT.kRed)\n",
    "  \n",
    "legend = ROOT.TLegend(0.6, 0.77, 0.75, 0.9)\n",
    "legend.AddEntry(hist_ygen, \" pT from ygen\", \"l\")\n",
    "legend.AddEntry(hist_ycand, \" pT from ycand\", \"l\")\n",
    "legend.Draw(\"SAME\")\n",
    "\n",
    "canvas.Draw()"
   ]
  },
  {
   "cell_type": "markdown",
   "id": "38bc7113",
   "metadata": {},
   "source": [
    "Standardize 'pt' values\n"
   ]
  },
  {
   "cell_type": "code",
   "execution_count": 41,
   "id": "50f2a15c",
   "metadata": {},
   "outputs": [],
   "source": [
    "mean_ygen = np.mean(flat_true_pts_ygen)\n",
    "std_ygen = np.std(flat_true_pts_ygen)\n",
    "\n",
    "standardized_true_pts_ygen = (flat_true_pts_ygen - mean_ygen) / std_ygen\n",
    "\n",
    "mean_ycand = np.mean(flat_true_pts_ycand)\n",
    "std_ycand = np.std(flat_true_pts_ycand)\n",
    "\n",
    "standardized_true_pts_ycand = (flat_true_pts_ycand - mean_ycand) / std_ycand\n"
   ]
  },
  {
   "cell_type": "code",
   "execution_count": 46,
   "id": "76f46ffd",
   "metadata": {},
   "outputs": [
    {
     "name": "stderr",
     "output_type": "stream",
     "text": [
      "Warning in <TROOT::Append>: Replacing existing TH1: hist_ygen_standardized (Potential memory leak).\n",
      "Warning in <TROOT::Append>: Replacing existing TH1: hist_ycand_standardized (Potential memory leak).\n",
      "Warning in <TCanvas::Constructor>: Deleting canvas with same name: canvas\n"
     ]
    },
    {
     "data": {
      "image/png": "[encoded data removed]",
      "text/plain": [
       "<IPython.core.display.Image object>"
      ]
     },
     "metadata": {},
     "output_type": "display_data"
    }
   ],
   "source": [
    "hist_ygen_standardized = ROOT.TH1F(\"hist_ygen_standardized\", \"Standardized True pt from ygen\", 100, -3, 3)\n",
    "hist_ycand_standardized = ROOT.TH1F(\"hist_ycand_standardized\", \"Standardized True pt from ycand\", 100, -3, 3)\n",
    "\n",
    "for value in standardized_true_pts_ygen:\n",
    "    hist_ygen_standardized.Fill(value)\n",
    "\n",
    "for value in standardized_true_pts_ycand:\n",
    "    hist_ycand_standardized.Fill(value)\n",
    "    \n",
    "    \n",
    "canvas = ROOT.TCanvas(\"canvas\", \"True pt Comparison\", 800, 600)\n",
    "\n",
    "hist_ygen_standardized.Draw()\n",
    "hist_ygen_standardized.SetTitle(\"Standradized pT\")\n",
    "hist_ygen_standardized.SetLineColor(ROOT.kBlue)\n",
    "# hist_ygen_standardized.GetXaxis().SetTitle(\"pT(GeV/c)\")\n",
    "hist_ygen_standardized.GetYaxis().SetTitle(\"Count\")\n",
    "\n",
    "hist_ycand_standardized.Draw(\"SAME\")\n",
    "hist_ycand_standardized.SetLineColor(ROOT.kRed)\n",
    "  \n",
    "legend = ROOT.TLegend(0.6, 0.77, 0.75, 0.9)\n",
    "legend.AddEntry(hist_ygen, \" ygen\", \"l\")\n",
    "legend.AddEntry(hist_ycand, \"ycand \", \"l\")\n",
    "legend.Draw(\"SAME\")\n",
    "\n",
    "canvas.Draw()"
   ]
  },
  {
   "cell_type": "markdown",
   "id": "21135fbd",
   "metadata": {},
   "source": [
    "**ChatGPT** To handle outliers when standardizing the data, you can consider using more robust statistics, such as the median and interquartile range (IQR), instead of the mean and standard deviation"
   ]
  },
  {
   "cell_type": "code",
   "execution_count": 47,
   "id": "34036847",
   "metadata": {},
   "outputs": [],
   "source": [
    "# Standardize 'pt' values with median and IQR\n",
    "median_ygen = np.median(flat_true_pts_ygen)\n",
    "iqr_ygen = np.percentile(flat_true_pts_ygen, 75) - np.percentile(flat_true_pts_ygen, 25)\n",
    "\n",
    "standardized_true_pts_ygen = (flat_true_pts_ygen - median_ygen) / iqr_ygen\n",
    "\n",
    "median_ycand = np.median(flat_true_pts_ycand)\n",
    "iqr_ycand = np.percentile(flat_true_pts_ycand, 75) - np.percentile(flat_true_pts_ycand, 25)\n",
    "\n",
    "standardized_true_pts_ycand = (flat_true_pts_ycand - median_ycand) / iqr_ycand\n",
    "\n"
   ]
  },
  {
   "cell_type": "code",
   "execution_count": 48,
   "id": "c08c4984",
   "metadata": {},
   "outputs": [
    {
     "name": "stderr",
     "output_type": "stream",
     "text": [
      "Warning in <TROOT::Append>: Replacing existing TH1: hist_ygen_standardized (Potential memory leak).\n",
      "Warning in <TROOT::Append>: Replacing existing TH1: hist_ycand_standardized (Potential memory leak).\n",
      "Warning in <TCanvas::Constructor>: Deleting canvas with same name: canvas\n"
     ]
    },
    {
     "data": {
      "image/png": "[encoded data removed]",
      "text/plain": [
       "<IPython.core.display.Image object>"
      ]
     },
     "metadata": {},
     "output_type": "display_data"
    }
   ],
   "source": [
    "hist_ygen_standardized = ROOT.TH1F(\"hist_ygen_standardized\", \"Standardized True pt from ygen\", 100, -3, 3)\n",
    "hist_ycand_standardized = ROOT.TH1F(\"hist_ycand_standardized\", \"Standardized True pt from ycand\", 100, -3, 3)\n",
    "\n",
    "for value in standardized_true_pts_ygen:\n",
    "    hist_ygen_standardized.Fill(value)\n",
    "\n",
    "for value in standardized_true_pts_ycand:\n",
    "    hist_ycand_standardized.Fill(value)\n",
    "    \n",
    "    \n",
    "canvas = ROOT.TCanvas(\"canvas\", \"True pt Comparison\", 800, 600)\n",
    "\n",
    "hist_ygen_standardized.Draw()\n",
    "hist_ygen_standardized.SetTitle(\"Standradized pT\")\n",
    "hist_ygen_standardized.SetLineColor(ROOT.kBlue)\n",
    "# hist_ygen_standardized.GetXaxis().SetTitle(\"pT(GeV/c)\")\n",
    "hist_ygen_standardized.GetYaxis().SetTitle(\"Count\")\n",
    "\n",
    "hist_ycand_standardized.Draw(\"SAME\")\n",
    "hist_ycand_standardized.SetLineColor(ROOT.kRed)\n",
    "  \n",
    "legend = ROOT.TLegend(0.6, 0.77, 0.75, 0.9)\n",
    "legend.AddEntry(hist_ygen, \" ygen\", \"l\")\n",
    "legend.AddEntry(hist_ycand, \"ycand \", \"l\")\n",
    "legend.Draw(\"SAME\")\n",
    "\n",
    "canvas.Draw()"
   ]
  },
  {
   "cell_type": "code",
   "execution_count": null,
   "id": "bfb080ea",
   "metadata": {},
   "outputs": [],
   "source": []
  },
  {
   "cell_type": "code",
   "execution_count": 50,
   "id": "f97fd871",
   "metadata": {},
   "outputs": [],
   "source": [
    "scale_factor_ygen = np.max(np.abs(standardized_true_pts_ygen)) / 127.0\n",
    "quantized_true_pts_ygen = (standardized_true_pts_ygen / scale_factor_ygen).astype(np.int8)\n",
    "\n",
    "scale_factor_ycand = np.max(np.abs(standardized_true_pts_ycand)) / 127.0\n",
    "quantized_true_pts_ycand = (standardized_true_pts_ycand / scale_factor_ycand).astype(np.int8)\n"
   ]
  },
  {
   "cell_type": "code",
   "execution_count": 69,
   "id": "6220bd4f",
   "metadata": {},
   "outputs": [
    {
     "name": "stderr",
     "output_type": "stream",
     "text": [
      "Warning in <TROOT::Append>: Replacing existing TH1: hist_ygen_quantized (Potential memory leak).\n",
      "Warning in <TROOT::Append>: Replacing existing TH1: hist_ycand_quantized (Potential memory leak).\n",
      "Warning in <TCanvas::Constructor>: Deleting canvas with same name: canvas_quantized\n"
     ]
    },
    {
     "data": {
      "image/png": "[encoded data removed]",
      "text/plain": [
       "<IPython.core.display.Image object>"
      ]
     },
     "metadata": {},
     "output_type": "display_data"
    }
   ],
   "source": [
    "hist_ygen_quantized = ROOT.TH1F(\"hist_ygen_quantized\", \"\", 100, -128, 128)\n",
    "hist_ycand_quantized = ROOT.TH1F(\"hist_ycand_quantized\", \"Quantized Standardized True pt from ycand\", 100, -128, 128)\n",
    "\n",
    "# Fill histograms with quantized standardized 'pt' values\n",
    "for value in quantized_true_pts_ygen:\n",
    "    hist_ygen_quantized.Fill(value)\n",
    "\n",
    "for value in quantized_true_pts_ycand:\n",
    "    hist_ycand_quantized.Fill(value)\n",
    "    \n",
    "    \n",
    "# Create canvas and draw histograms\n",
    "canvas_quantized = ROOT.TCanvas(\"canvas_quantized\", \"Quantized Standardized True pt Comparison\", 800, 600)\n",
    "\n",
    "hist_ygen_quantized.Draw()\n",
    "# hist_ygen_quantized.SetTitle(\"Quantized Standardized True pt Comparison\")\n",
    "hist_ygen_quantized.SetLineColor(ROOT.kBlue)\n",
    "# hist_ygen_quantized.GetXaxis().SetTitle(\"Quantized pt\")\n",
    "hist_ygen_quantized.GetYaxis().SetTitle(\"Count\")\n",
    "\n",
    "hist_ycand_quantized.Draw(\"SAME\")\n",
    "hist_ycand_quantized.SetLineColor(ROOT.kRed)\n",
    "\n",
    "# Add a legend\n",
    "legend_quantized = ROOT.TLegend(0.65, 0.79, 0.78, 0.9)\n",
    "legend_quantized.AddEntry(hist_ygen_quantized, \"Quantized pT ygen\", \"l\")\n",
    "legend_quantized.AddEntry(hist_ycand_quantized, \"Quantized pT ycand\", \"l\")\n",
    "legend_quantized.Draw(\"SAME\")\n",
    "\n",
    "# Show the canvas\n",
    "canvas_quantized.Draw()"
   ]
  },
  {
   "cell_type": "code",
   "execution_count": 57,
   "id": "f68708e2",
   "metadata": {},
   "outputs": [
    {
     "name": "stderr",
     "output_type": "stream",
     "text": [
      "2023-11-30 12:18:52.134276: W tensorflow/compiler/mlir/lite/python/tf_tfl_flatbuffer_helpers.cc:364] Ignored output_format.\n",
      "2023-11-30 12:18:52.134327: W tensorflow/compiler/mlir/lite/python/tf_tfl_flatbuffer_helpers.cc:367] Ignored drop_control_dependency.\n",
      "2023-11-30 12:18:52.137764: I tensorflow/cc/saved_model/reader.cc:45] Reading SavedModel from: /tmp/sraj/tmp2rt9bffu\n",
      "2023-11-30 12:18:52.198154: I tensorflow/cc/saved_model/reader.cc:91] Reading meta graph with tags { serve }\n",
      "2023-11-30 12:18:52.198243: I tensorflow/cc/saved_model/reader.cc:132] Reading SavedModel debug info (if present) from: /tmp/sraj/tmp2rt9bffu\n",
      "2023-11-30 12:18:52.394743: I tensorflow/compiler/mlir/mlir_graph_optimization_pass.cc:375] MLIR V1 optimization pass is not enabled\n",
      "2023-11-30 12:18:52.480025: I tensorflow/cc/saved_model/loader.cc:231] Restoring SavedModel bundle.\n",
      "2023-11-30 12:18:53.485963: I tensorflow/cc/saved_model/loader.cc:215] Running initialization op on SavedModel bundle at path: /tmp/sraj/tmp2rt9bffu\n",
      "2023-11-30 12:18:54.083241: I tensorflow/cc/saved_model/loader.cc:314] SavedModel load for tags { serve }; Status: success: OK. Took 1945454 microseconds.\n",
      "2023-11-30 12:18:55.083842: I tensorflow/compiler/mlir/tensorflow/utils/dump_mlir_util.cc:255] disabling MLIR crash reproducer, set env var `MLIR_CRASH_REPRODUCER_DIRECTORY` to enable.\n"
     ]
    }
   ],
   "source": [
    "import tensorflow as tf\n",
    "import tensorflow_model_optimization as tfmot\n",
    "\n",
    "# Convert the new model to a TensorFlow Lite model\n",
    "converter = tf.lite.TFLiteConverter.from_keras_model(model)\n",
    "converter.optimizations = [tf.lite.Optimize.DEFAULT]\n",
    "quantized_tflite_model = converter.convert()\n",
    "\n",
    "# Save the TensorFlow Lite model to a file\n",
    "with open(\"quantized_model.tflite\", \"wb\") as f:\n",
    "    f.write(quantized_tflite_model)"
   ]
  },
  {
   "cell_type": "code",
   "execution_count": 58,
   "id": "52759ab2",
   "metadata": {},
   "outputs": [
    {
     "name": "stderr",
     "output_type": "stream",
     "text": [
      "INFO: Created TensorFlow Lite XNNPACK delegate for CPU.\n"
     ]
    }
   ],
   "source": [
    "interpreter = tf.lite.Interpreter(model_path=\"quantized_model.tflite\")\n",
    "interpreter.allocate_tensors()"
   ]
  },
  {
   "cell_type": "code",
   "execution_count": 59,
   "id": "d49fd2f7",
   "metadata": {},
   "outputs": [],
   "source": [
    "# Get input and output tensors\n",
    "input_tensor_index = interpreter.get_input_details()[0]['index']\n",
    "output = interpreter.tensor(interpreter.get_output_details()[0]['index'])"
   ]
  },
  {
   "cell_type": "code",
   "execution_count": 61,
   "id": "61f22bc3",
   "metadata": {},
   "outputs": [],
   "source": [
    "interpreter = tf.lite.Interpreter(model_content=quantized_tflite_model)\n",
    "interpreter.allocate_tensors()"
   ]
  },
  {
   "cell_type": "code",
   "execution_count": 62,
   "id": "0ef13f01",
   "metadata": {},
   "outputs": [],
   "source": [
    "input_details = interpreter.get_input_details()[0]\n",
    "output_details = interpreter.get_output_details()[0]"
   ]
  },
  {
   "cell_type": "code",
   "execution_count": 63,
   "id": "283e0840",
   "metadata": {},
   "outputs": [],
   "source": [
    "true_pts_quantized = []\n",
    "pred_pts_quantized = []\n"
   ]
  },
  {
   "cell_type": "code",
   "execution_count": null,
   "id": "efb8d406",
   "metadata": {},
   "outputs": [],
   "source": []
  },
  {
   "cell_type": "code",
   "execution_count": 64,
   "id": "0589c2fb",
   "metadata": {},
   "outputs": [
    {
     "ename": "RuntimeError",
     "evalue": "scatter_nd index out of boundsNode number 202 (SCATTER_ND) failed to invoke.",
     "output_type": "error",
     "traceback": [
      "\u001b[0;31m---------------------------------------------------------------------------\u001b[0m",
      "\u001b[0;31mRuntimeError\u001b[0m                              Traceback (most recent call last)",
      "\u001b[0;32m/tmp/sraj/ipykernel_3933889/3465595697.py\u001b[0m in \u001b[0;36m<module>\u001b[0;34m\u001b[0m\n\u001b[1;32m     11\u001b[0m \u001b[0;34m\u001b[0m\u001b[0m\n\u001b[1;32m     12\u001b[0m     \u001b[0;31m# Run inference\u001b[0m\u001b[0;34m\u001b[0m\u001b[0;34m\u001b[0m\u001b[0m\n\u001b[0;32m---> 13\u001b[0;31m     \u001b[0minterpreter\u001b[0m\u001b[0;34m.\u001b[0m\u001b[0minvoke\u001b[0m\u001b[0;34m(\u001b[0m\u001b[0;34m)\u001b[0m\u001b[0;34m\u001b[0m\u001b[0;34m\u001b[0m\u001b[0m\n\u001b[0m\u001b[1;32m     14\u001b[0m \u001b[0;34m\u001b[0m\u001b[0m\n\u001b[1;32m     15\u001b[0m     \u001b[0;31m# Get the output tensor\u001b[0m\u001b[0;34m\u001b[0m\u001b[0;34m\u001b[0m\u001b[0m\n",
      "\u001b[0;32m/cvmfs/sft-nightlies.cern.ch/lcg/views/dev4cuda/Thu/x86_64-el9-gcc11-opt/lib/python3.9/site-packages/tensorflow/lite/python/interpreter.py\u001b[0m in \u001b[0;36minvoke\u001b[0;34m(self)\u001b[0m\n\u001b[1;32m    939\u001b[0m     \"\"\"\n\u001b[1;32m    940\u001b[0m     \u001b[0mself\u001b[0m\u001b[0;34m.\u001b[0m\u001b[0m_ensure_safe\u001b[0m\u001b[0;34m(\u001b[0m\u001b[0;34m)\u001b[0m\u001b[0;34m\u001b[0m\u001b[0;34m\u001b[0m\u001b[0m\n\u001b[0;32m--> 941\u001b[0;31m     \u001b[0mself\u001b[0m\u001b[0;34m.\u001b[0m\u001b[0m_interpreter\u001b[0m\u001b[0;34m.\u001b[0m\u001b[0mInvoke\u001b[0m\u001b[0;34m(\u001b[0m\u001b[0;34m)\u001b[0m\u001b[0;34m\u001b[0m\u001b[0;34m\u001b[0m\u001b[0m\n\u001b[0m\u001b[1;32m    942\u001b[0m \u001b[0;34m\u001b[0m\u001b[0m\n\u001b[1;32m    943\u001b[0m   \u001b[0;32mdef\u001b[0m \u001b[0mreset_all_variables\u001b[0m\u001b[0;34m(\u001b[0m\u001b[0mself\u001b[0m\u001b[0;34m)\u001b[0m\u001b[0;34m:\u001b[0m\u001b[0;34m\u001b[0m\u001b[0;34m\u001b[0m\u001b[0m\n",
      "\u001b[0;31mRuntimeError\u001b[0m: scatter_nd index out of boundsNode number 202 (SCATTER_ND) failed to invoke."
     ]
    }
   ],
   "source": [
    "for ibatch in range(len(Xs)):\n",
    "    # Assuming Xs is the input data for inference\n",
    "    input_data = Xs[ibatch]\n",
    "\n",
    "    mask_true_particles = ys[ibatch][..., 0] != 0\n",
    "    \n",
    "    true_pt_quantized = quantized_true_pts_ygen[ibatch]\n",
    "    pred_pt_quantized = output_data[mask_true_particles]\n",
    "\n",
    "    true_pts_quantized.append(true_pt_quantized)\n",
    "    pred_pts_quantized.append(pred_pt_quantized)"
   ]
  },
  {
   "cell_type": "markdown",
   "id": "ca4bb95a",
   "metadata": {},
   "source": [
    "We need to quantize the Xs as well"
   ]
  },
  {
   "cell_type": "code",
   "execution_count": 66,
   "id": "1fd14b60",
   "metadata": {},
   "outputs": [
    {
     "ename": "ValueError",
     "evalue": "`to_annotate` can only be a `tf.keras.layers.Layer` instance. You passed an instance of type: PFNetDense.",
     "output_type": "error",
     "traceback": [
      "\u001b[0;31m---------------------------------------------------------------------------\u001b[0m",
      "\u001b[0;31mValueError\u001b[0m                                Traceback (most recent call last)",
      "\u001b[0;32m/tmp/sraj/ipykernel_3933889/1886398169.py\u001b[0m in \u001b[0;36m<module>\u001b[0;34m\u001b[0m\n\u001b[1;32m      4\u001b[0m \u001b[0;32mfor\u001b[0m \u001b[0mibatch\u001b[0m \u001b[0;32min\u001b[0m \u001b[0mrange\u001b[0m\u001b[0;34m(\u001b[0m\u001b[0mlen\u001b[0m\u001b[0;34m(\u001b[0m\u001b[0mXs\u001b[0m\u001b[0;34m)\u001b[0m\u001b[0;34m)\u001b[0m\u001b[0;34m:\u001b[0m\u001b[0;34m\u001b[0m\u001b[0;34m\u001b[0m\u001b[0m\n\u001b[1;32m      5\u001b[0m     \u001b[0;31m# Annotate layers with quantization details\u001b[0m\u001b[0;34m\u001b[0m\u001b[0;34m\u001b[0m\u001b[0m\n\u001b[0;32m----> 6\u001b[0;31m     \u001b[0mannotated_model\u001b[0m \u001b[0;34m=\u001b[0m \u001b[0mquantize_input\u001b[0m\u001b[0;34m(\u001b[0m\u001b[0mmodel\u001b[0m\u001b[0;34m)\u001b[0m\u001b[0;34m\u001b[0m\u001b[0;34m\u001b[0m\u001b[0m\n\u001b[0m\u001b[1;32m      7\u001b[0m \u001b[0;34m\u001b[0m\u001b[0m\n\u001b[1;32m      8\u001b[0m     \u001b[0;31m# Create a concrete function for the annotated model\u001b[0m\u001b[0;34m\u001b[0m\u001b[0;34m\u001b[0m\u001b[0m\n",
      "\u001b[0;32m/cvmfs/sft-nightlies.cern.ch/lcg/views/dev4cuda/Thu/x86_64-el9-gcc11-opt/lib/python3.9/site-packages/tensorflow_model_optimization/python/core/quantization/keras/quantize.py\u001b[0m in \u001b[0;36mquantize_annotate_layer\u001b[0;34m(to_annotate, quantize_config)\u001b[0m\n\u001b[1;32m    270\u001b[0m   if not isinstance(to_annotate, keras.layers.Layer) or isinstance(\n\u001b[1;32m    271\u001b[0m       to_annotate, keras.Model):\n\u001b[0;32m--> 272\u001b[0;31m     raise ValueError(\n\u001b[0m\u001b[1;32m    273\u001b[0m         \u001b[0;34m'`to_annotate` can only be a `tf.keras.layers.Layer` instance. '\u001b[0m\u001b[0;34m\u001b[0m\u001b[0;34m\u001b[0m\u001b[0m\n\u001b[1;32m    274\u001b[0m         'You passed an instance of type: {input}.'.format(\n",
      "\u001b[0;31mValueError\u001b[0m: `to_annotate` can only be a `tf.keras.layers.Layer` instance. You passed an instance of type: PFNetDense."
     ]
    }
   ],
   "source": [
    "quantize_input = tfmot.quantization.keras.quantize_annotate_layer\n",
    "\n",
    "Xs_quantized = []\n",
    "for ibatch in range(len(Xs)):\n",
    "    # Annotate layers with quantization details\n",
    "    annotated_model = quantize_input(model)\n",
    "    \n",
    "    # Create a concrete function for the annotated model\n",
    "    concrete_func = annotated_model.prune(tf.function(lambda x: model(x)))\n",
    "    \n",
    "    # Quantize the input data using the concrete function\n",
    "    Xs_quantized_batch = concrete_func(tf.convert_to_tensor(Xs[ibatch]))\n",
    "    Xs_quantized.append(Xs_quantized_batch.numpy())\n",
    "\n",
    "Xs_quantized = np.concatenate(Xs_quantized)"
   ]
  },
  {
   "cell_type": "markdown",
   "id": "c362eab1",
   "metadata": {},
   "source": [
    "Let's do this again with the quatization of whole dataset and run the inference.\n",
    "Quantize the dataset after standradization"
   ]
  },
  {
   "cell_type": "code",
   "execution_count": 90,
   "id": "e4a8bb66",
   "metadata": {},
   "outputs": [
    {
     "ename": "ValueError",
     "evalue": "all the input array dimensions for the concatenation axis must match exactly, but along dimension 1, the array at index 0 has size 111 and the array at index 1 has size 186",
     "output_type": "error",
     "traceback": [
      "\u001b[0;31m---------------------------------------------------------------------------\u001b[0m",
      "\u001b[0;31mValueError\u001b[0m                                Traceback (most recent call last)",
      "\u001b[0;32m/tmp/sraj/ipykernel_3933889/2868052261.py\u001b[0m in \u001b[0;36m<module>\u001b[0;34m\u001b[0m\n\u001b[1;32m     30\u001b[0m \u001b[0;34m\u001b[0m\u001b[0m\n\u001b[1;32m     31\u001b[0m \u001b[0;31m# Concatenate all X arrays\u001b[0m\u001b[0;34m\u001b[0m\u001b[0;34m\u001b[0m\u001b[0m\n\u001b[0;32m---> 32\u001b[0;31m \u001b[0mX\u001b[0m \u001b[0;34m=\u001b[0m \u001b[0mnp\u001b[0m\u001b[0;34m.\u001b[0m\u001b[0mconcatenate\u001b[0m\u001b[0;34m(\u001b[0m\u001b[0;34m[\u001b[0m\u001b[0mX_0\u001b[0m\u001b[0;34m,\u001b[0m \u001b[0mX_1\u001b[0m\u001b[0;34m,\u001b[0m \u001b[0mX_2\u001b[0m\u001b[0;34m,\u001b[0m \u001b[0mX_3\u001b[0m\u001b[0;34m,\u001b[0m \u001b[0mX_4\u001b[0m\u001b[0;34m,\u001b[0m \u001b[0mX_5\u001b[0m\u001b[0;34m,\u001b[0m \u001b[0mX_6\u001b[0m\u001b[0;34m,\u001b[0m \u001b[0mX_7\u001b[0m\u001b[0;34m,\u001b[0m \u001b[0mX_8\u001b[0m\u001b[0;34m,\u001b[0m \u001b[0mX_9\u001b[0m\u001b[0;34m]\u001b[0m\u001b[0;34m,\u001b[0m \u001b[0maxis\u001b[0m\u001b[0;34m=\u001b[0m\u001b[0;36m0\u001b[0m\u001b[0;34m)\u001b[0m\u001b[0;34m\u001b[0m\u001b[0;34m\u001b[0m\u001b[0m\n\u001b[0m\u001b[1;32m     33\u001b[0m \u001b[0;34m\u001b[0m\u001b[0m\n\u001b[1;32m     34\u001b[0m \u001b[0;31m# Concatenate all ygen arrays\u001b[0m\u001b[0;34m\u001b[0m\u001b[0;34m\u001b[0m\u001b[0m\n",
      "\u001b[0;32m/cvmfs/sft-nightlies.cern.ch/lcg/views/dev4cuda/Thu/x86_64-el9-gcc11-opt/lib/python3.9/site-packages/numpy/core/overrides.py\u001b[0m in \u001b[0;36mconcatenate\u001b[0;34m(*args, **kwargs)\u001b[0m\n",
      "\u001b[0;31mValueError\u001b[0m: all the input array dimensions for the concatenation axis must match exactly, but along dimension 1, the array at index 0 has size 111 and the array at index 1 has size 186"
     ]
    }
   ],
   "source": [
    "X_0 = data[0][\"X\"]\n",
    "ygen_0 = data[0][\"ygen\"]\n",
    "\n",
    "X_1 = data[1][\"X\"]\n",
    "ygen_1 = data[1][\"ygen\"]\n",
    "\n",
    "X_2 = data[2][\"X\"]\n",
    "ygen_2 = data[2][\"ygen\"]\n",
    "\n",
    "X_3 = data[3][\"X\"]\n",
    "ygen_3 = data[3][\"ygen\"]\n",
    "\n",
    "X_4 = data[4][\"X\"]\n",
    "ygen_4 = data[4][\"ygen\"]\n",
    "\n",
    "X_5 = data[5][\"X\"]\n",
    "ygen_5 = data[5][\"ygen\"]\n",
    "\n",
    "X_6 = data[6][\"X\"]\n",
    "ygen_6 = data[6][\"ygen\"]\n",
    "\n",
    "X_7 = data[7][\"X\"]\n",
    "ygen_7 = data[7][\"ygen\"]\n",
    "\n",
    "X_8 = data[8][\"X\"]\n",
    "ygen_8 = data[8][\"ygen\"]\n",
    "\n",
    "X_9 = data[9][\"X\"]\n",
    "ygen_9 = data[9][\"ygen\"]\n",
    "\n",
    "# Concatenate all X arrays\n",
    "X = np.concatenate([X_0, X_1, X_2, X_3, X_4, X_5, X_6, X_7, X_8, X_9], axis=0)\n",
    "\n",
    "# Concatenate all ygen arrays\n",
    "ygen = np.concatenate([ygen_0, ygen_1, ygen_2, ygen_3, ygen_4, ygen_5, ygen_6, ygen_7, ygen_8, ygen_9], axis=0)\n",
    "\n"
   ]
  },
  {
   "cell_type": "code",
   "execution_count": 95,
   "id": "74a95f7b",
   "metadata": {},
   "outputs": [],
   "source": [
    "# Find the maximum size along the second dimension\n",
    "max_size_X = max(X_0.shape[1], X_1.shape[1], X_2.shape[1], X_3.shape[1], X_4.shape[1], X_5.shape[1], X_6.shape[1], X_7.shape[1], X_8.shape[1], X_9.shape[1])\n",
    "\n",
    "# Pad or truncate X arrays to the maximum size\n",
    "X_0_padded = np.pad(X_0, ((0, 0), (0, max_size_X - X_0.shape[1]), (0, 0)), mode='constant')\n",
    "X_1_padded = np.pad(X_1, ((0, 0), (0, max_size_X - X_1.shape[1]), (0, 0)), mode='constant')\n",
    "X_2_padded = np.pad(X_2, ((0, 0), (0, max_size_X - X_2.shape[1]), (0, 0)), mode='constant')\n",
    "X_3_padded = np.pad(X_3, ((0, 0), (0, max_size_X - X_3.shape[1]), (0, 0)), mode='constant')\n",
    "X_4_padded = np.pad(X_4, ((0, 0), (0, max_size_X - X_4.shape[1]), (0, 0)), mode='constant')\n",
    "X_5_padded = np.pad(X_5, ((0, 0), (0, max_size_X - X_5.shape[1]), (0, 0)), mode='constant')\n",
    "X_6_padded = np.pad(X_6, ((0, 0), (0, max_size_X - X_6.shape[1]), (0, 0)), mode='constant')\n",
    "X_7_padded = np.pad(X_7, ((0, 0), (0, max_size_X - X_7.shape[1]), (0, 0)), mode='constant')\n",
    "X_8_padded = np.pad(X_8, ((0, 0), (0, max_size_X - X_8.shape[1]), (0, 0)), mode='constant')\n",
    "X_9_padded = np.pad(X_9, ((0, 0), (0, max_size_X - X_9.shape[1]), (0, 0)), mode='constant')\n",
    "\n",
    "# Concatenate all X arrays\n",
    "X = np.concatenate([X_0_padded, X_1_padded, X_2_padded, X_3_padded, X_4_padded, X_5_padded, X_6_padded, X_7_padded, X_8_padded, X_9_padded], axis=0)\n"
   ]
  },
  {
   "cell_type": "code",
   "execution_count": 99,
   "id": "9a2b620a",
   "metadata": {},
   "outputs": [],
   "source": [
    "max_size_ygen = max(ygen_0.shape[1], ygen_1.shape[1], ygen_2.shape[1], ygen_3.shape[1], ygen_4.shape[1], ygen_5.shape[1], ygen_6.shape[1], ygen_7.shape[1], ygen_8.shape[1], ygen_9.shape[1])\n",
    "\n",
    "# Pad or truncate ygen arrays to the maximum size\n",
    "ygen_0_padded = np.pad(ygen_0, ((0, 0), (0, max_size_ygen - ygen_0.shape[1]), (0, 0)), mode='constant')\n",
    "ygen_1_padded = np.pad(ygen_1, ((0, 0), (0, max_size_ygen - ygen_1.shape[1]), (0, 0)), mode='constant')\n",
    "ygen_2_padded = np.pad(ygen_2, ((0, 0), (0, max_size_ygen - ygen_2.shape[1]), (0, 0)), mode='constant')\n",
    "ygen_3_padded = np.pad(ygen_3, ((0, 0), (0, max_size_ygen - ygen_3.shape[1]), (0, 0)), mode='constant')\n",
    "ygen_4_padded = np.pad(ygen_4, ((0, 0), (0, max_size_ygen - ygen_4.shape[1]), (0, 0)), mode='constant')\n",
    "ygen_5_padded = np.pad(ygen_5, ((0, 0), (0, max_size_ygen - ygen_5.shape[1]), (0, 0)), mode='constant')\n",
    "ygen_6_padded = np.pad(ygen_6, ((0, 0), (0, max_size_ygen - ygen_6.shape[1]), (0, 0)), mode='constant')\n",
    "ygen_7_padded = np.pad(ygen_7, ((0, 0), (0, max_size_ygen - ygen_7.shape[1]), (0, 0)), mode='constant')\n",
    "ygen_8_padded = np.pad(ygen_8, ((0, 0), (0, max_size_ygen - ygen_8.shape[1]), (0, 0)), mode='constant')\n",
    "ygen_9_padded = np.pad(ygen_9, ((0, 0), (0, max_size_ygen - ygen_9.shape[1]), (0, 0)), mode='constant')\n",
    "\n",
    "# Concatenate all ygen arrays\n",
    "ygen_padded = np.concatenate([ygen_0_padded, ygen_1_padded, ygen_2_padded, ygen_3_padded, ygen_4_padded, ygen_5_padded, ygen_6_padded, ygen_7_padded, ygen_8_padded, ygen_9_padded], axis=0)\n"
   ]
  },
  {
   "cell_type": "code",
   "execution_count": 94,
   "id": "278050cb",
   "metadata": {},
   "outputs": [
    {
     "name": "stdout",
     "output_type": "stream",
     "text": [
      "X_0 shape (10, 111, 17)\n",
      "X_1 shape (10, 186, 17)\n",
      "X_2 shape (10, 142, 17)\n",
      "X_3 shape (10, 90, 17)\n",
      "X_4 shape (10, 111, 17)\n",
      "X_5 shape (10, 195, 17)\n",
      "X_6 shape (10, 100, 17)\n",
      "X_7 shape (10, 81, 17)\n",
      "X_8 shape (10, 130, 17)\n",
      "X_9 shape (10, 147, 17)\n"
     ]
    }
   ],
   "source": [
    "print(f\"X_0 shape\",X_0.shape)\n",
    "print(f\"X_1 shape\",X_1.shape)\n",
    "print(f\"X_2 shape\",X_2.shape)\n",
    "print(f\"X_3 shape\",X_3.shape)\n",
    "print(f\"X_4 shape\",X_4.shape)\n",
    "print(f\"X_5 shape\",X_5.shape)\n",
    "print(f\"X_6 shape\",X_6.shape)\n",
    "print(f\"X_7 shape\",X_7.shape)\n",
    "print(f\"X_8 shape\",X_8.shape)\n",
    "print(f\"X_9 shape\",X_9.shape)\n"
   ]
  },
  {
   "cell_type": "code",
   "execution_count": 98,
   "id": "6da05532",
   "metadata": {},
   "outputs": [
    {
     "name": "stdout",
     "output_type": "stream",
     "text": [
      "ygen_0 shape (10, 111, 8)\n",
      "ygen_1 shape (10, 186, 8)\n",
      "ygen_2 shape (10, 142, 8)\n",
      "ygen_3 shape (10, 90, 8)\n",
      "ygen_4 shape (10, 111, 8)\n",
      "ygen_5 shape (10, 195, 8)\n",
      "ygen_6 shape (10, 100, 8)\n",
      "ygen_7 shape (10, 81, 8)\n",
      "ygen_8 shape (10, 130, 8)\n",
      "ygen_9 shape (10, 147, 8)\n"
     ]
    }
   ],
   "source": [
    "print(f\"ygen_0 shape\",ygen_0.shape)\n",
    "print(f\"ygen_1 shape\",ygen_1.shape)\n",
    "print(f\"ygen_2 shape\",ygen_2.shape)\n",
    "print(f\"ygen_3 shape\",ygen_3.shape)\n",
    "print(f\"ygen_4 shape\",ygen_4.shape)\n",
    "print(f\"ygen_5 shape\",ygen_5.shape)\n",
    "print(f\"ygen_6 shape\",ygen_6.shape)\n",
    "print(f\"ygen_7 shape\",ygen_7.shape)\n",
    "print(f\"ygen_8 shape\",ygen_8.shape)\n",
    "print(f\"ygen_9 shape\",ygen_9.shape)\n",
    "\n"
   ]
  },
  {
   "cell_type": "code",
   "execution_count": 100,
   "id": "62c894fe",
   "metadata": {},
   "outputs": [
    {
     "name": "stderr",
     "output_type": "stream",
     "text": [
      "/tmp/sraj/ipykernel_3933889/955623149.py:4: RuntimeWarning: invalid value encountered in divide\n",
      "  X_standardized = (X - X_mean) / X_std\n",
      "/tmp/sraj/ipykernel_3933889/955623149.py:9: RuntimeWarning: invalid value encountered in divide\n",
      "  ygen_standardized = (ygen - ygen_mean) / ygen_std\n"
     ]
    }
   ],
   "source": [
    "\n",
    "# Manually standardizing X\n",
    "X_mean = np.mean(X, axis=0)\n",
    "X_std = np.std(X, axis=0)\n",
    "X_standardized = (X - X_mean) / X_std\n",
    "\n",
    "# Manually standardizing ygen\n",
    "ygen_mean = np.mean(ygen, axis=0)\n",
    "ygen_std = np.std(ygen, axis=0)\n",
    "ygen_standardized = (ygen - ygen_mean) / ygen_std"
   ]
  },
  {
   "cell_type": "code",
   "execution_count": 103,
   "id": "4d33704f",
   "metadata": {},
   "outputs": [
    {
     "name": "stderr",
     "output_type": "stream",
     "text": [
      "/tmp/sraj/ipykernel_3933889/1809141306.py:4: RuntimeWarning: invalid value encountered in divide\n",
      "  X_standardized = (X - X_mean) / X_std\n",
      "/tmp/sraj/ipykernel_3933889/1809141306.py:9: RuntimeWarning: invalid value encountered in divide\n",
      "  ygen_standardized = (ygen - ygen_mean) / ygen_std\n"
     ]
    }
   ],
   "source": [
    "# Manually standardizing X\n",
    "X_mean = np.mean(X, axis=0)\n",
    "X_std = np.std(X, axis=0)\n",
    "X_standardized = (X - X_mean) / X_std\n",
    "\n",
    "# Manually standardizing ygen\n",
    "ygen_mean = np.mean(ygen, axis=0)\n",
    "ygen_std = np.std(ygen, axis=0)\n",
    "ygen_standardized = (ygen - ygen_mean) / ygen_std"
   ]
  },
  {
   "cell_type": "code",
   "execution_count": 104,
   "id": "838578d4",
   "metadata": {},
   "outputs": [
    {
     "name": "stderr",
     "output_type": "stream",
     "text": [
      "2023-11-30 14:20:45.469489: W tensorflow/compiler/mlir/lite/python/tf_tfl_flatbuffer_helpers.cc:364] Ignored output_format.\n",
      "2023-11-30 14:20:45.469857: W tensorflow/compiler/mlir/lite/python/tf_tfl_flatbuffer_helpers.cc:367] Ignored drop_control_dependency.\n",
      "2023-11-30 14:20:45.472862: I tensorflow/cc/saved_model/reader.cc:45] Reading SavedModel from: /tmp/sraj/tmp37ez_ma_\n",
      "2023-11-30 14:20:45.534450: I tensorflow/cc/saved_model/reader.cc:91] Reading meta graph with tags { serve }\n",
      "2023-11-30 14:20:45.534488: I tensorflow/cc/saved_model/reader.cc:132] Reading SavedModel debug info (if present) from: /tmp/sraj/tmp37ez_ma_\n",
      "2023-11-30 14:20:45.766445: I tensorflow/cc/saved_model/loader.cc:231] Restoring SavedModel bundle.\n",
      "2023-11-30 14:20:46.610135: I tensorflow/cc/saved_model/loader.cc:215] Running initialization op on SavedModel bundle at path: /tmp/sraj/tmp37ez_ma_\n",
      "2023-11-30 14:20:47.112227: I tensorflow/cc/saved_model/loader.cc:314] SavedModel load for tags { serve }; Status: success: OK. Took 1638983 microseconds.\n"
     ]
    }
   ],
   "source": [
    "\n",
    "# Convert the new model to a TensorFlow Lite model\n",
    "converter = tf.lite.TFLiteConverter.from_keras_model(model)\n",
    "converter.optimizations = [tf.lite.Optimize.DEFAULT]\n",
    "quantized_tflite_model = converter.convert()\n",
    "\n",
    "# Save the TensorFlow Lite model to a file\n",
    "with open(\"quantized_model.tflite\", \"wb\") as f:\n",
    "    f.write(quantized_tflite_model)\n",
    "\n",
    "# Load the quantized TensorFlow Lite model\n",
    "interpreter = tf.lite.Interpreter(model_content=quantized_tflite_model)\n",
    "interpreter.allocate_tensors()"
   ]
  },
  {
   "cell_type": "code",
   "execution_count": 105,
   "id": "c13e89bb",
   "metadata": {},
   "outputs": [],
   "source": [
    "# Get input and output details\n",
    "input_details = interpreter.get_input_details()\n",
    "output_details = interpreter.get_output_details()\n",
    "\n",
    "# Prepare input data for inference\n",
    "input_data = X_standardized.astype(np.float32)"
   ]
  },
  {
   "cell_type": "code",
   "execution_count": null,
   "id": "a5fa557f",
   "metadata": {},
   "outputs": [],
   "source": []
  },
  {
   "cell_type": "code",
   "execution_count": 110,
   "id": "a541fc8c",
   "metadata": {},
   "outputs": [],
   "source": [
    "# Find the maximum size along the second dimension\n",
    "max_size_X = max(X_0.shape[1], X_1.shape[1], X_2.shape[1], X_3.shape[1], X_4.shape[1], X_5.shape[1], X_6.shape[1], X_7.shape[1], X_8.shape[1], X_9.shape[1])\n",
    "\n",
    "# Pad or truncate X arrays to the maximum size\n",
    "def pad_or_truncate(array, target_size):\n",
    "    if array.shape[1] < target_size:\n",
    "        return np.pad(array, ((0, 0), (0, target_size - array.shape[1]), (0, 0)), mode='constant')\n",
    "    elif array.shape[1] > target_size:\n",
    "        return array[:, :target_size, :]\n",
    "    else:\n",
    "        return array\n",
    "\n",
    "X_0_padded = pad_or_truncate(X_0, max_size_X)\n",
    "X_1_padded = pad_or_truncate(X_1, max_size_X)\n",
    "X_2_padded = pad_or_truncate(X_2, max_size_X)\n",
    "X_3_padded = pad_or_truncate(X_3, max_size_X)\n",
    "X_4_padded = pad_or_truncate(X_4, max_size_X)\n",
    "X_5_padded = pad_or_truncate(X_5, max_size_X)\n",
    "X_6_padded = pad_or_truncate(X_6, max_size_X)\n",
    "X_7_padded = pad_or_truncate(X_7, max_size_X)\n",
    "X_8_padded = pad_or_truncate(X_8, max_size_X)\n",
    "X_9_padded = pad_or_truncate(X_9, max_size_X)\n",
    "\n",
    "# Concatenate all X arrays\n",
    "X = np.concatenate([X_0_padded, X_1_padded, X_2_padded, X_3_padded, X_4_padded, X_5_padded, X_6_padded, X_7_padded, X_8_padded, X_9_padded], axis=0)\n"
   ]
  },
  {
   "cell_type": "code",
   "execution_count": 112,
   "id": "d4043a03",
   "metadata": {},
   "outputs": [],
   "source": [
    "# Find the maximum size along the second dimension for ygen\n",
    "max_size_ygen = max(ygen_0.shape[1], ygen_1.shape[1], ygen_2.shape[1], ygen_3.shape[1], ygen_4.shape[1], ygen_5.shape[1], ygen_6.shape[1], ygen_7.shape[1], ygen_8.shape[1], ygen_9.shape[1])\n",
    "\n",
    "# Pad or truncate ygen arrays to the maximum size\n",
    "def pad_or_truncate_ygen(array, target_size):\n",
    "    if array.shape[1] < target_size:\n",
    "        return np.pad(array, ((0, 0), (0, target_size - array.shape[1]), (0, 0)), mode='constant')\n",
    "    elif array.shape[1] > target_size:\n",
    "        return array[:, :target_size, :]\n",
    "    else:\n",
    "        return array\n",
    "\n",
    "ygen_0_padded = pad_or_truncate_ygen(ygen_0, max_size_ygen)\n",
    "ygen_1_padded = pad_or_truncate_ygen(ygen_1, max_size_ygen)\n",
    "ygen_2_padded = pad_or_truncate_ygen(ygen_2, max_size_ygen)\n",
    "ygen_3_padded = pad_or_truncate_ygen(ygen_3, max_size_ygen)\n",
    "ygen_4_padded = pad_or_truncate_ygen(ygen_4, max_size_ygen)\n",
    "ygen_5_padded = pad_or_truncate_ygen(ygen_5, max_size_ygen)\n",
    "ygen_6_padded = pad_or_truncate_ygen(ygen_6, max_size_ygen)\n",
    "ygen_7_padded = pad_or_truncate_ygen(ygen_7, max_size_ygen)\n",
    "ygen_8_padded = pad_or_truncate_ygen(ygen_8, max_size_ygen)\n",
    "ygen_9_padded = pad_or_truncate_ygen(ygen_9, max_size_ygen)\n",
    "\n",
    "# Concatenate all ygen arrays\n",
    "ygen_padded = np.concatenate([ygen_0_padded, ygen_1_padded, ygen_2_padded, ygen_3_padded, ygen_4_padded, ygen_5_padded, ygen_6_padded, ygen_7_padded, ygen_8_padded, ygen_9_padded], axis=0)\n"
   ]
  },
  {
   "cell_type": "code",
   "execution_count": 113,
   "id": "5417a8f6",
   "metadata": {},
   "outputs": [
    {
     "name": "stderr",
     "output_type": "stream",
     "text": [
      "/tmp/sraj/ipykernel_3933889/1341463481.py:4: RuntimeWarning: invalid value encountered in divide\n",
      "  X_standardized = (X - X_mean) / X_std\n",
      "/tmp/sraj/ipykernel_3933889/1341463481.py:9: RuntimeWarning: invalid value encountered in divide\n",
      "  ygen_standardized = (ygen_padded - ygen_mean) / ygen_std\n"
     ]
    }
   ],
   "source": [
    "# Manually standardizing X\n",
    "X_mean = np.mean(X, axis=0)\n",
    "X_std = np.std(X, axis=0)\n",
    "X_standardized = (X - X_mean) / X_std\n",
    "\n",
    "# Manually standardizing ygen\n",
    "ygen_mean = np.mean(ygen_padded, axis=0)\n",
    "ygen_std = np.std(ygen_padded, axis=0)\n",
    "ygen_standardized = (ygen_padded - ygen_mean) / ygen_std"
   ]
  },
  {
   "cell_type": "code",
   "execution_count": 114,
   "id": "fa872d83",
   "metadata": {},
   "outputs": [],
   "source": [
    "# Prepare input data for inference\n",
    "single_example = X_standardized[0:1, ...]"
   ]
  },
  {
   "cell_type": "code",
   "execution_count": null,
   "id": "8772e415",
   "metadata": {},
   "outputs": [],
   "source": []
  },
  {
   "cell_type": "code",
   "execution_count": null,
   "id": "a5598d17",
   "metadata": {},
   "outputs": [],
   "source": []
  },
  {
   "cell_type": "code",
   "execution_count": null,
   "id": "f0f5dd80",
   "metadata": {},
   "outputs": [],
   "source": []
  },
  {
   "cell_type": "markdown",
   "id": "d2ce3f2b",
   "metadata": {},
   "source": [
    "## Again"
   ]
  },
  {
   "cell_type": "code",
   "execution_count": 2,
   "id": "dc3211ae",
   "metadata": {},
   "outputs": [
    {
     "name": "stderr",
     "output_type": "stream",
     "text": [
      "2023-11-30 16:27:58.894315: I tensorflow/core/util/port.cc:110] oneDNN custom operations are on. You may see slightly different numerical results due to floating-point round-off errors from different computation orders. To turn them off, set the environment variable `TF_ENABLE_ONEDNN_OPTS=0`.\n",
      "2023-11-30 16:27:59.290117: I tensorflow/core/platform/cpu_feature_guard.cc:182] This TensorFlow binary is optimized to use available CPU instructions in performance-critical operations.\n",
      "To enable the following instructions: AVX2 AVX512F AVX512_VNNI FMA, in other operations, rebuild TensorFlow with the appropriate compiler flags.\n"
     ]
    },
    {
     "name": "stdout",
     "output_type": "stream",
     "text": [
      "Welcome to JupyROOT 6.28/11\n"
     ]
    }
   ],
   "source": [
    "import tensorflow as tf\n",
    "import tensorflow_datasets as tfds\n",
    "\n",
    "%matplotlib inline\n",
    "import matplotlib.pyplot as plt\n",
    "import numpy as np\n",
    "\n",
    "\n",
    "import ROOT\n"
   ]
  },
  {
   "cell_type": "code",
   "execution_count": 3,
   "id": "749b5ede",
   "metadata": {},
   "outputs": [],
   "source": [
    "import sys\n",
    "sys.path += [\"../../../mlpf/particleflow/mlpf/\"] # positions on the lxplus\n",
    "from tfmodel.model_setup import make_model\n",
    "from tfmodel.utils import parse_config\n"
   ]
  },
  {
   "cell_type": "code",
   "execution_count": 4,
   "id": "5f94dea2",
   "metadata": {},
   "outputs": [],
   "source": [
    "config, _ = parse_config(\"../../../mlpf/particleflow/parameters/clic.yaml\") #positions on the lxplus\n"
   ]
  },
  {
   "cell_type": "code",
   "execution_count": 5,
   "id": "81f6657a",
   "metadata": {},
   "outputs": [
    {
     "name": "stderr",
     "output_type": "stream",
     "text": [
      "2023-11-30 16:28:48.043400: I tensorflow/compiler/xla/stream_executor/cuda/cuda_gpu_executor.cc:995] successful NUMA node read from SysFS had negative value (-1), but there must be at least one NUMA node, so returning NUMA node zero. See more at https://github.com/torvalds/linux/blob/v6.0/Documentation/ABI/testing/sysfs-bus-pci#L344-L355\n",
      "2023-11-30 16:28:48.084452: I tensorflow/compiler/xla/stream_executor/cuda/cuda_gpu_executor.cc:995] successful NUMA node read from SysFS had negative value (-1), but there must be at least one NUMA node, so returning NUMA node zero. See more at https://github.com/torvalds/linux/blob/v6.0/Documentation/ABI/testing/sysfs-bus-pci#L344-L355\n",
      "2023-11-30 16:28:48.086482: I tensorflow/compiler/xla/stream_executor/cuda/cuda_gpu_executor.cc:995] successful NUMA node read from SysFS had negative value (-1), but there must be at least one NUMA node, so returning NUMA node zero. See more at https://github.com/torvalds/linux/blob/v6.0/Documentation/ABI/testing/sysfs-bus-pci#L344-L355\n",
      "2023-11-30 16:28:48.096829: I tensorflow/compiler/xla/stream_executor/cuda/cuda_gpu_executor.cc:995] successful NUMA node read from SysFS had negative value (-1), but there must be at least one NUMA node, so returning NUMA node zero. See more at https://github.com/torvalds/linux/blob/v6.0/Documentation/ABI/testing/sysfs-bus-pci#L344-L355\n",
      "2023-11-30 16:28:48.098940: I tensorflow/compiler/xla/stream_executor/cuda/cuda_gpu_executor.cc:995] successful NUMA node read from SysFS had negative value (-1), but there must be at least one NUMA node, so returning NUMA node zero. See more at https://github.com/torvalds/linux/blob/v6.0/Documentation/ABI/testing/sysfs-bus-pci#L344-L355\n",
      "2023-11-30 16:28:48.100919: I tensorflow/compiler/xla/stream_executor/cuda/cuda_gpu_executor.cc:995] successful NUMA node read from SysFS had negative value (-1), but there must be at least one NUMA node, so returning NUMA node zero. See more at https://github.com/torvalds/linux/blob/v6.0/Documentation/ABI/testing/sysfs-bus-pci#L344-L355\n",
      "2023-11-30 16:28:48.332283: I tensorflow/compiler/xla/stream_executor/cuda/cuda_gpu_executor.cc:995] successful NUMA node read from SysFS had negative value (-1), but there must be at least one NUMA node, so returning NUMA node zero. See more at https://github.com/torvalds/linux/blob/v6.0/Documentation/ABI/testing/sysfs-bus-pci#L344-L355\n",
      "2023-11-30 16:28:48.334377: I tensorflow/compiler/xla/stream_executor/cuda/cuda_gpu_executor.cc:995] successful NUMA node read from SysFS had negative value (-1), but there must be at least one NUMA node, so returning NUMA node zero. See more at https://github.com/torvalds/linux/blob/v6.0/Documentation/ABI/testing/sysfs-bus-pci#L344-L355\n",
      "2023-11-30 16:28:48.336359: I tensorflow/compiler/xla/stream_executor/cuda/cuda_gpu_executor.cc:995] successful NUMA node read from SysFS had negative value (-1), but there must be at least one NUMA node, so returning NUMA node zero. See more at https://github.com/torvalds/linux/blob/v6.0/Documentation/ABI/testing/sysfs-bus-pci#L344-L355\n",
      "2023-11-30 16:28:48.338338: I tensorflow/core/common_runtime/gpu/gpu_device.cc:1639] Created device /job:localhost/replica:0/task:0/device:GPU:0 with 13775 MB memory:  -> device: 0, name: Tesla T4, pci bus id: 0000:07:00.0, compute capability: 7.5\n"
     ]
    }
   ],
   "source": [
    "\n",
    "model = make_model(config, tf.float32)\n",
    "model.build((1, None, config[\"dataset\"][\"num_input_features\"]))"
   ]
  },
  {
   "cell_type": "code",
   "execution_count": 6,
   "id": "7f479e84",
   "metadata": {},
   "outputs": [
    {
     "name": "stdout",
     "output_type": "stream",
     "text": [
      "Model: \"pf_net_dense\"\n",
      "_________________________________________________________________\n",
      " Layer (type)                Output Shape              Param #   \n",
      "=================================================================\n",
      " node_encoding (Sequential)  (1, None, 256)            70912     \n",
      "                                                                 \n",
      " input_encoding_clic (Input  multiple                  0         \n",
      " EncodingCLIC)                                                   \n",
      "                                                                 \n",
      " cg_id_0 (CombinedGraphLaye  multiple                  440128    \n",
      " r)                                                              \n",
      "                                                                 \n",
      " cg_id_1 (CombinedGraphLaye  multiple                  440128    \n",
      " r)                                                              \n",
      "                                                                 \n",
      " cg_id_2 (CombinedGraphLaye  multiple                  440128    \n",
      " r)                                                              \n",
      "                                                                 \n",
      " cg_id_3 (CombinedGraphLaye  multiple                  440128    \n",
      " r)                                                              \n",
      "                                                                 \n",
      " cg_id_4 (CombinedGraphLaye  multiple                  440128    \n",
      " r)                                                              \n",
      "                                                                 \n",
      " cg_id_5 (CombinedGraphLaye  multiple                  440128    \n",
      " r)                                                              \n",
      "                                                                 \n",
      " cg_reg_0 (CombinedGraphLay  multiple                  440128    \n",
      " er)                                                             \n",
      "                                                                 \n",
      " cg_reg_1 (CombinedGraphLay  multiple                  440128    \n",
      " er)                                                             \n",
      "                                                                 \n",
      " cg_reg_2 (CombinedGraphLay  multiple                  440128    \n",
      " er)                                                             \n",
      "                                                                 \n",
      " cg_reg_3 (CombinedGraphLay  multiple                  440128    \n",
      " er)                                                             \n",
      "                                                                 \n",
      " cg_reg_4 (CombinedGraphLay  multiple                  440128    \n",
      " er)                                                             \n",
      "                                                                 \n",
      " cg_reg_5 (CombinedGraphLay  multiple                  440128    \n",
      " er)                                                             \n",
      "                                                                 \n",
      " output_decoding (OutputDec  multiple                  269967    \n",
      " oding)                                                          \n",
      "                                                                 \n",
      "=================================================================\n",
      "Total params: 5622415 (21.45 MB)\n",
      "Trainable params: 5468815 (20.86 MB)\n",
      "Non-trainable params: 153600 (600.00 KB)\n",
      "_________________________________________________________________\n"
     ]
    }
   ],
   "source": [
    "model.summary()\n"
   ]
  },
  {
   "cell_type": "code",
   "execution_count": 7,
   "id": "8c2bf6af",
   "metadata": {},
   "outputs": [],
   "source": [
    "model.load_weights(\"weights-96-5.346523.hdf5\", skip_mismatch=False, by_name=True)\n",
    "## Reading the dataset\n",
    "ds_builder = tfds.builder(\"clic_edm_qq_pf\", data_dir = '../../../mlpf/tensorflow_datasets/') # Tensorflow datsets positions in the lxplus\n",
    "dss = ds_builder.as_data_source(\"test\")\n"
   ]
  },
  {
   "cell_type": "code",
   "execution_count": 8,
   "id": "f34045f4",
   "metadata": {},
   "outputs": [],
   "source": [
    "def yield_from_ds():\n",
    "    for elem in dss:\n",
    "        yield {\"X\": elem[\"X\"], \"ygen\": elem[\"ygen\"], \"ycand\": elem[\"ycand\"]}"
   ]
  },
  {
   "cell_type": "code",
   "execution_count": 9,
   "id": "0547cbfe",
   "metadata": {},
   "outputs": [],
   "source": [
    "output_signature = {k: tf.TensorSpec(shape=(None, v.shape[1])) for (k, v) in dss.dataset_info.features.items()}\n",
    "tf_dataset = tf.data.Dataset.from_generator(yield_from_ds, output_signature=output_signature).take(100).padded_batch(batch_size=10)\n"
   ]
  },
  {
   "cell_type": "code",
   "execution_count": 10,
   "id": "68d9c687",
   "metadata": {},
   "outputs": [],
   "source": [
    "data = list(tfds.as_numpy(tf_dataset))\n"
   ]
  },
  {
   "cell_type": "code",
   "execution_count": 11,
   "id": "8e825766",
   "metadata": {},
   "outputs": [],
   "source": [
    "Xs = [d[\"X\"] for d in data]\n",
    "ys = [d[\"ygen\"] for d in data]"
   ]
  },
  {
   "cell_type": "code",
   "execution_count": 12,
   "id": "2003cf72",
   "metadata": {},
   "outputs": [
    {
     "name": "stderr",
     "output_type": "stream",
     "text": [
      "2023-11-30 16:28:58.573464: I tensorflow/compiler/xla/stream_executor/cuda/cuda_dnn.cc:432] Loaded cuDNN version 8600\n"
     ]
    }
   ],
   "source": [
    "true_pts = []\n",
    "pred_pts = []\n",
    "\n",
    "for ibatch in range(len(Xs)):\n",
    "    ret = model(Xs[ibatch])\n",
    "\n",
    "    mask_true_particles = ys[ibatch][..., 0]!=0\n",
    "    \n",
    "    true_pt = ys[ibatch][mask_true_particles, 2]\n",
    "    pred_pt = ret[\"pt\"][mask_true_particles][..., 0].numpy()\n",
    "\n",
    "    true_pts.append(true_pt)\n",
    "    pred_pts.append(pred_pt)"
   ]
  },
  {
   "cell_type": "code",
   "execution_count": 13,
   "id": "8e45ad31",
   "metadata": {},
   "outputs": [],
   "source": [
    "true_pt = np.concatenate(true_pts)\n",
    "pred_pt = np.concatenate(pred_pts)"
   ]
  },
  {
   "cell_type": "code",
   "execution_count": 14,
   "id": "d7af69b5",
   "metadata": {},
   "outputs": [
    {
     "data": {
      "image/png": "[encoded data removed]",
      "text/plain": [
       "<Figure size 432x288 with 1 Axes>"
      ]
     },
     "metadata": {
      "needs_background": "light"
     },
     "output_type": "display_data"
    }
   ],
   "source": [
    "plt.hist(pred_pt/true_pt, bins=np.linspace(0,3,100));\n",
    "plt.yscale(\"log\")"
   ]
  },
  {
   "cell_type": "code",
   "execution_count": 18,
   "id": "2743d8ef",
   "metadata": {},
   "outputs": [],
   "source": [
    "X_0 = data[0][\"X\"]\n",
    "ygen_0 = data[0][\"ygen\"]\n",
    "\n",
    "X_1 = data[1][\"X\"]\n",
    "ygen_1 = data[1][\"ygen\"]\n",
    "\n",
    "X_2 = data[2][\"X\"]\n",
    "ygen_2 = data[2][\"ygen\"]\n",
    "\n",
    "X_3 = data[3][\"X\"]\n",
    "ygen_3 = data[3][\"ygen\"]\n",
    "\n",
    "X_4 = data[4][\"X\"]\n",
    "ygen_4 = data[4][\"ygen\"]\n",
    "\n",
    "X_5 = data[5][\"X\"]\n",
    "ygen_5 = data[5][\"ygen\"]\n",
    "\n",
    "X_6 = data[6][\"X\"]\n",
    "ygen_6 = data[6][\"ygen\"]\n",
    "\n",
    "X_7 = data[7][\"X\"]\n",
    "ygen_7 = data[7][\"ygen\"]\n",
    "\n",
    "X_8 = data[8][\"X\"]\n",
    "ygen_8 = data[8][\"ygen\"]\n",
    "\n",
    "X_9 = data[9][\"X\"]\n",
    "ygen_9 = data[9][\"ygen\"]\n",
    "\n",
    "# # Concatenate all X arrays\n",
    "# X = np.concatenate([X_0, X_1, X_2, X_3, X_4, X_5, X_6, X_7, X_8, X_9], axis=0)\n",
    "\n",
    "# # Concatenate all ygen arrays\n",
    "# ygen = np.concatenate([ygen_0, ygen_1, ygen_2, ygen_3, ygen_4, ygen_5, ygen_6, ygen_7, ygen_8, ygen_9], axis=0)\n",
    "\n",
    "\n",
    "\n",
    "# Find the maximum size along the second dimension\n",
    "max_size_X = max(X_0.shape[1], X_1.shape[1], X_2.shape[1], X_3.shape[1], X_4.shape[1], X_5.shape[1], X_6.shape[1], X_7.shape[1], X_8.shape[1], X_9.shape[1])\n",
    "\n",
    "# Pad or truncate X arrays to the maximum size\n",
    "X_0_padded = np.pad(X_0, ((0, 0), (0, max_size_X - X_0.shape[1]), (0, 0)), mode='constant')\n",
    "X_1_padded = np.pad(X_1, ((0, 0), (0, max_size_X - X_1.shape[1]), (0, 0)), mode='constant')\n",
    "X_2_padded = np.pad(X_2, ((0, 0), (0, max_size_X - X_2.shape[1]), (0, 0)), mode='constant')\n",
    "X_3_padded = np.pad(X_3, ((0, 0), (0, max_size_X - X_3.shape[1]), (0, 0)), mode='constant')\n",
    "X_4_padded = np.pad(X_4, ((0, 0), (0, max_size_X - X_4.shape[1]), (0, 0)), mode='constant')\n",
    "X_5_padded = np.pad(X_5, ((0, 0), (0, max_size_X - X_5.shape[1]), (0, 0)), mode='constant')\n",
    "X_6_padded = np.pad(X_6, ((0, 0), (0, max_size_X - X_6.shape[1]), (0, 0)), mode='constant')\n",
    "X_7_padded = np.pad(X_7, ((0, 0), (0, max_size_X - X_7.shape[1]), (0, 0)), mode='constant')\n",
    "X_8_padded = np.pad(X_8, ((0, 0), (0, max_size_X - X_8.shape[1]), (0, 0)), mode='constant')\n",
    "X_9_padded = np.pad(X_9, ((0, 0), (0, max_size_X - X_9.shape[1]), (0, 0)), mode='constant')\n",
    "\n",
    "# Concatenate all X arrays\n",
    "X = np.concatenate([X_0_padded, X_1_padded, X_2_padded, X_3_padded, X_4_padded, X_5_padded, X_6_padded, X_7_padded, X_8_padded, X_9_padded], axis=0)\n",
    "\n",
    "\n",
    "max_size_ygen = max(ygen_0.shape[1], ygen_1.shape[1], ygen_2.shape[1], ygen_3.shape[1], ygen_4.shape[1], ygen_5.shape[1], ygen_6.shape[1], ygen_7.shape[1], ygen_8.shape[1], ygen_9.shape[1])\n",
    "\n",
    "# Pad or truncate ygen arrays to the maximum size\n",
    "ygen_0_padded = np.pad(ygen_0, ((0, 0), (0, max_size_ygen - ygen_0.shape[1]), (0, 0)), mode='constant')\n",
    "ygen_1_padded = np.pad(ygen_1, ((0, 0), (0, max_size_ygen - ygen_1.shape[1]), (0, 0)), mode='constant')\n",
    "ygen_2_padded = np.pad(ygen_2, ((0, 0), (0, max_size_ygen - ygen_2.shape[1]), (0, 0)), mode='constant')\n",
    "ygen_3_padded = np.pad(ygen_3, ((0, 0), (0, max_size_ygen - ygen_3.shape[1]), (0, 0)), mode='constant')\n",
    "ygen_4_padded = np.pad(ygen_4, ((0, 0), (0, max_size_ygen - ygen_4.shape[1]), (0, 0)), mode='constant')\n",
    "ygen_5_padded = np.pad(ygen_5, ((0, 0), (0, max_size_ygen - ygen_5.shape[1]), (0, 0)), mode='constant')\n",
    "ygen_6_padded = np.pad(ygen_6, ((0, 0), (0, max_size_ygen - ygen_6.shape[1]), (0, 0)), mode='constant')\n",
    "ygen_7_padded = np.pad(ygen_7, ((0, 0), (0, max_size_ygen - ygen_7.shape[1]), (0, 0)), mode='constant')\n",
    "ygen_8_padded = np.pad(ygen_8, ((0, 0), (0, max_size_ygen - ygen_8.shape[1]), (0, 0)), mode='constant')\n",
    "ygen_9_padded = np.pad(ygen_9, ((0, 0), (0, max_size_ygen - ygen_9.shape[1]), (0, 0)), mode='constant')\n",
    "\n",
    "# Concatenate all ygen arrays\n",
    "ygen_padded = np.concatenate([ygen_0_padded, ygen_1_padded, ygen_2_padded, ygen_3_padded, ygen_4_padded, ygen_5_padded, ygen_6_padded, ygen_7_padded, ygen_8_padded, ygen_9_padded], axis=0)\n"
   ]
  },
  {
   "cell_type": "code",
   "execution_count": 21,
   "id": "8c9b907c",
   "metadata": {},
   "outputs": [
    {
     "name": "stdout",
     "output_type": "stream",
     "text": [
      "Batch 0: X shape=(10, 111, 17), ys shape=(10, 111, 8)\n",
      "Batch 1: X shape=(10, 186, 17), ys shape=(10, 186, 8)\n",
      "Batch 2: X shape=(10, 142, 17), ys shape=(10, 142, 8)\n",
      "Batch 3: X shape=(10, 90, 17), ys shape=(10, 90, 8)\n",
      "Batch 4: X shape=(10, 111, 17), ys shape=(10, 111, 8)\n",
      "Batch 5: X shape=(10, 195, 17), ys shape=(10, 195, 8)\n",
      "Batch 6: X shape=(10, 100, 17), ys shape=(10, 100, 8)\n",
      "Batch 7: X shape=(10, 81, 17), ys shape=(10, 81, 8)\n",
      "Batch 8: X shape=(10, 130, 17), ys shape=(10, 130, 8)\n",
      "Batch 9: X shape=(10, 147, 17), ys shape=(10, 147, 8)\n"
     ]
    },
    {
     "name": "stderr",
     "output_type": "stream",
     "text": [
      "/tmp/sraj/ipykernel_4078517/1706304707.py:18: RuntimeWarning: invalid value encountered in divide\n",
      "  standardized_X_batch = (X_batch - X_batch_mean) / X_batch_std\n",
      "/tmp/sraj/ipykernel_4078517/1706304707.py:19: RuntimeWarning: invalid value encountered in divide\n",
      "  standardized_ys_batch = (ys_batch - ys_batch_mean) / ys_batch_std\n"
     ]
    },
    {
     "ename": "ValueError",
     "evalue": "all the input array dimensions for the concatenation axis must match exactly, but along dimension 1, the array at index 0 has size 111 and the array at index 1 has size 186",
     "output_type": "error",
     "traceback": [
      "\u001b[0;31m---------------------------------------------------------------------------\u001b[0m",
      "\u001b[0;31mValueError\u001b[0m                                Traceback (most recent call last)",
      "\u001b[0;32m/tmp/sraj/ipykernel_4078517/1706304707.py\u001b[0m in \u001b[0;36m<module>\u001b[0;34m\u001b[0m\n\u001b[1;32m     27\u001b[0m \u001b[0;34m\u001b[0m\u001b[0m\n\u001b[1;32m     28\u001b[0m \u001b[0;31m# Concatenate standardized batches\u001b[0m\u001b[0;34m\u001b[0m\u001b[0;34m\u001b[0m\u001b[0m\n\u001b[0;32m---> 29\u001b[0;31m \u001b[0mstandardized_Xs\u001b[0m \u001b[0;34m=\u001b[0m \u001b[0mnp\u001b[0m\u001b[0;34m.\u001b[0m\u001b[0mconcatenate\u001b[0m\u001b[0;34m(\u001b[0m\u001b[0mstandardized_Xs_batches\u001b[0m\u001b[0;34m,\u001b[0m \u001b[0maxis\u001b[0m\u001b[0;34m=\u001b[0m\u001b[0;36m0\u001b[0m\u001b[0;34m)\u001b[0m\u001b[0;34m\u001b[0m\u001b[0;34m\u001b[0m\u001b[0m\n\u001b[0m\u001b[1;32m     30\u001b[0m \u001b[0mstandardized_ys\u001b[0m \u001b[0;34m=\u001b[0m \u001b[0mnp\u001b[0m\u001b[0;34m.\u001b[0m\u001b[0mconcatenate\u001b[0m\u001b[0;34m(\u001b[0m\u001b[0mstandardized_ys_batches\u001b[0m\u001b[0;34m,\u001b[0m \u001b[0maxis\u001b[0m\u001b[0;34m=\u001b[0m\u001b[0;36m0\u001b[0m\u001b[0;34m)\u001b[0m\u001b[0;34m\u001b[0m\u001b[0;34m\u001b[0m\u001b[0m\n\u001b[1;32m     31\u001b[0m \u001b[0;34m\u001b[0m\u001b[0m\n",
      "\u001b[0;32m/cvmfs/sft-nightlies.cern.ch/lcg/views/dev4cuda/Thu/x86_64-el9-gcc11-opt/lib/python3.9/site-packages/numpy/core/overrides.py\u001b[0m in \u001b[0;36mconcatenate\u001b[0;34m(*args, **kwargs)\u001b[0m\n",
      "\u001b[0;31mValueError\u001b[0m: all the input array dimensions for the concatenation axis must match exactly, but along dimension 1, the array at index 0 has size 111 and the array at index 1 has size 186"
     ]
    }
   ],
   "source": [
    "# Lists to store standardized batches\n",
    "standardized_Xs_batches = []\n",
    "standardized_ys_batches = []\n",
    "\n",
    "# Standardize each batch separately\n",
    "for ibatch in range(len(Xs)):\n",
    "    # Calculate mean and standard deviation for the current batch along axis 0\n",
    "    X_batch = Xs[ibatch]\n",
    "    ys_batch = ys[ibatch]\n",
    "    \n",
    "    X_batch_mean = np.mean(X_batch, axis=0)\n",
    "    X_batch_std = np.std(X_batch, axis=0)\n",
    "    \n",
    "    ys_batch_mean = np.mean(ys_batch, axis=0)\n",
    "    ys_batch_std = np.std(ys_batch, axis=0)\n",
    "\n",
    "    # Standardize the batch\n",
    "    standardized_X_batch = (X_batch - X_batch_mean) / X_batch_std\n",
    "    standardized_ys_batch = (ys_batch - ys_batch_mean) / ys_batch_std\n",
    "\n",
    "    # Print shapes for debugging\n",
    "    print(f\"Batch {ibatch}: X shape={standardized_X_batch.shape}, ys shape={standardized_ys_batch.shape}\")\n",
    "\n",
    "    # Append to the lists\n",
    "    standardized_Xs_batches.append(standardized_X_batch)\n",
    "    standardized_ys_batches.append(standardized_ys_batch)\n",
    "\n",
    "# Concatenate standardized batches\n",
    "standardized_Xs = np.concatenate(standardized_Xs_batches, axis=0)\n",
    "standardized_ys = np.concatenate(standardized_ys_batches, axis=0)\n",
    "\n",
    "# Rest of your code...\n",
    "\n",
    "# Now, you can use standardized_Xs and stand\n"
   ]
  },
  {
   "cell_type": "code",
   "execution_count": 28,
   "id": "b4afe9ea",
   "metadata": {},
   "outputs": [],
   "source": [
    "# Standardize each batch separately with zero-padding\n",
    "max_len_x = max(X.shape[1] for X in Xs)\n",
    "max_len_y = max(y.shape[1] for y in ys)\n",
    "\n",
    "standardized_Xs_batches = [np.pad(X, ((0, 0), (0, max_len_x - X.shape[1]), (0, 0)), 'constant') for X in Xs]\n",
    "standardized_ys_batches = [np.pad(y, ((0, 0), (0, max_len_y - y.shape[1]), (0, 0)), 'constant') for y in ys]\n",
    "\n",
    "# Concatenate padded batches\n",
    "standardized_Xs = np.concatenate(standardized_Xs_batches, axis=0)\n",
    "standardized_ys = np.concatenate(standardized_ys_batches, axis=0)\n"
   ]
  },
  {
   "cell_type": "code",
   "execution_count": 29,
   "id": "96843628",
   "metadata": {},
   "outputs": [],
   "source": [
    "# Quantize the datasets to int8\n",
    "quantized_Xs = np.round(standardized_Xs * 127).astype(np.int8)\n",
    "quantized_ys = np.round(standardized_ys * 127).astype(np.int8)\n"
   ]
  },
  {
   "cell_type": "code",
   "execution_count": 32,
   "id": "15c8e60a",
   "metadata": {},
   "outputs": [],
   "source": [
    "# Create a representative dataset function\n",
    "def representative_dataset_gen():\n",
    "    for i in range(10):  # Adjust the number of samples as needed\n",
    "        resized_input = np.zeros((1, 195, 17), dtype=np.float32)  # Assuming 195 is the desired size\n",
    "        resized_input[:, :quantized_Xs[i].shape[1], :] = quantized_Xs[i].astype(np.float32)\n",
    "        yield [resized_input]"
   ]
  },
  {
   "cell_type": "code",
   "execution_count": 33,
   "id": "92875447",
   "metadata": {
    "scrolled": false
   },
   "outputs": [
    {
     "name": "stderr",
     "output_type": "stream",
     "text": [
      "/cvmfs/sft-nightlies.cern.ch/lcg/views/dev4cuda/Thu/x86_64-el9-gcc11-opt/lib/python3.9/site-packages/tensorflow/lite/python/convert.py:887: UserWarning: Statistics for quantized inputs were expected, but not specified; continuing anyway.\n",
      "  warnings.warn(\n"
     ]
    },
    {
     "ename": "ValueError",
     "evalue": "could not broadcast input array from shape (195,17) into shape (1,17,17)",
     "output_type": "error",
     "traceback": [
      "\u001b[0;31m---------------------------------------------------------------------------\u001b[0m",
      "\u001b[0;31mValueError\u001b[0m                                Traceback (most recent call last)",
      "\u001b[0;32m/tmp/sraj/ipykernel_4078517/1152530982.py\u001b[0m in \u001b[0;36m<module>\u001b[0;34m\u001b[0m\n\u001b[1;32m      7\u001b[0m \u001b[0mconverter\u001b[0m\u001b[0;34m.\u001b[0m\u001b[0mrepresentative_dataset\u001b[0m \u001b[0;34m=\u001b[0m \u001b[0mrepresentative_dataset_gen\u001b[0m\u001b[0;34m\u001b[0m\u001b[0;34m\u001b[0m\u001b[0m\n\u001b[1;32m      8\u001b[0m \u001b[0;34m\u001b[0m\u001b[0m\n\u001b[0;32m----> 9\u001b[0;31m \u001b[0mquantized_model\u001b[0m \u001b[0;34m=\u001b[0m \u001b[0mconverter\u001b[0m\u001b[0;34m.\u001b[0m\u001b[0mconvert\u001b[0m\u001b[0;34m(\u001b[0m\u001b[0;34m)\u001b[0m\u001b[0;34m\u001b[0m\u001b[0;34m\u001b[0m\u001b[0m\n\u001b[0m",
      "\u001b[0;32m/cvmfs/sft-nightlies.cern.ch/lcg/views/dev4cuda/Thu/x86_64-el9-gcc11-opt/lib/python3.9/site-packages/tensorflow/lite/python/lite.py\u001b[0m in \u001b[0;36mwrapper\u001b[0;34m(self, *args, **kwargs)\u001b[0m\n\u001b[1;32m   1063\u001b[0m   \u001b[0;32mdef\u001b[0m \u001b[0mwrapper\u001b[0m\u001b[0;34m(\u001b[0m\u001b[0mself\u001b[0m\u001b[0;34m,\u001b[0m \u001b[0;34m*\u001b[0m\u001b[0margs\u001b[0m\u001b[0;34m,\u001b[0m \u001b[0;34m**\u001b[0m\u001b[0mkwargs\u001b[0m\u001b[0;34m)\u001b[0m\u001b[0;34m:\u001b[0m\u001b[0;34m\u001b[0m\u001b[0;34m\u001b[0m\u001b[0m\n\u001b[1;32m   1064\u001b[0m     \u001b[0;31m# pylint: disable=protected-access\u001b[0m\u001b[0;34m\u001b[0m\u001b[0;34m\u001b[0m\u001b[0m\n\u001b[0;32m-> 1065\u001b[0;31m     \u001b[0;32mreturn\u001b[0m \u001b[0mself\u001b[0m\u001b[0;34m.\u001b[0m\u001b[0m_convert_and_export_metrics\u001b[0m\u001b[0;34m(\u001b[0m\u001b[0mconvert_func\u001b[0m\u001b[0;34m,\u001b[0m \u001b[0;34m*\u001b[0m\u001b[0margs\u001b[0m\u001b[0;34m,\u001b[0m \u001b[0;34m**\u001b[0m\u001b[0mkwargs\u001b[0m\u001b[0;34m)\u001b[0m\u001b[0;34m\u001b[0m\u001b[0;34m\u001b[0m\u001b[0m\n\u001b[0m\u001b[1;32m   1066\u001b[0m     \u001b[0;31m# pylint: enable=protected-access\u001b[0m\u001b[0;34m\u001b[0m\u001b[0;34m\u001b[0m\u001b[0m\n\u001b[1;32m   1067\u001b[0m \u001b[0;34m\u001b[0m\u001b[0m\n",
      "\u001b[0;32m/cvmfs/sft-nightlies.cern.ch/lcg/views/dev4cuda/Thu/x86_64-el9-gcc11-opt/lib/python3.9/site-packages/tensorflow/lite/python/lite.py\u001b[0m in \u001b[0;36m_convert_and_export_metrics\u001b[0;34m(self, convert_func, *args, **kwargs)\u001b[0m\n\u001b[1;32m   1040\u001b[0m     \u001b[0mself\u001b[0m\u001b[0;34m.\u001b[0m\u001b[0m_save_conversion_params_metric\u001b[0m\u001b[0;34m(\u001b[0m\u001b[0;34m)\u001b[0m\u001b[0;34m\u001b[0m\u001b[0;34m\u001b[0m\u001b[0m\n\u001b[1;32m   1041\u001b[0m     \u001b[0mstart_time\u001b[0m \u001b[0;34m=\u001b[0m \u001b[0mtime\u001b[0m\u001b[0;34m.\u001b[0m\u001b[0mprocess_time\u001b[0m\u001b[0;34m(\u001b[0m\u001b[0;34m)\u001b[0m\u001b[0;34m\u001b[0m\u001b[0;34m\u001b[0m\u001b[0m\n\u001b[0;32m-> 1042\u001b[0;31m     \u001b[0mresult\u001b[0m \u001b[0;34m=\u001b[0m \u001b[0mconvert_func\u001b[0m\u001b[0;34m(\u001b[0m\u001b[0mself\u001b[0m\u001b[0;34m,\u001b[0m \u001b[0;34m*\u001b[0m\u001b[0margs\u001b[0m\u001b[0;34m,\u001b[0m \u001b[0;34m**\u001b[0m\u001b[0mkwargs\u001b[0m\u001b[0;34m)\u001b[0m\u001b[0;34m\u001b[0m\u001b[0;34m\u001b[0m\u001b[0m\n\u001b[0m\u001b[1;32m   1043\u001b[0m     \u001b[0melapsed_time_ms\u001b[0m \u001b[0;34m=\u001b[0m \u001b[0;34m(\u001b[0m\u001b[0mtime\u001b[0m\u001b[0;34m.\u001b[0m\u001b[0mprocess_time\u001b[0m\u001b[0;34m(\u001b[0m\u001b[0;34m)\u001b[0m \u001b[0;34m-\u001b[0m \u001b[0mstart_time\u001b[0m\u001b[0;34m)\u001b[0m \u001b[0;34m*\u001b[0m \u001b[0;36m1000\u001b[0m\u001b[0;34m\u001b[0m\u001b[0;34m\u001b[0m\u001b[0m\n\u001b[1;32m   1044\u001b[0m     \u001b[0;32mif\u001b[0m \u001b[0mresult\u001b[0m\u001b[0;34m:\u001b[0m\u001b[0;34m\u001b[0m\u001b[0;34m\u001b[0m\u001b[0m\n",
      "\u001b[0;32m/cvmfs/sft-nightlies.cern.ch/lcg/views/dev4cuda/Thu/x86_64-el9-gcc11-opt/lib/python3.9/site-packages/tensorflow/lite/python/lite.py\u001b[0m in \u001b[0;36mconvert\u001b[0;34m(self)\u001b[0m\n\u001b[1;32m   1524\u001b[0m         \u001b[0mInvalid\u001b[0m \u001b[0mquantization\u001b[0m \u001b[0mparameters\u001b[0m\u001b[0;34m.\u001b[0m\u001b[0;34m\u001b[0m\u001b[0;34m\u001b[0m\u001b[0m\n\u001b[1;32m   1525\u001b[0m     \"\"\"\n\u001b[0;32m-> 1526\u001b[0;31m     \u001b[0msaved_model_convert_result\u001b[0m \u001b[0;34m=\u001b[0m \u001b[0mself\u001b[0m\u001b[0;34m.\u001b[0m\u001b[0m_convert_as_saved_model\u001b[0m\u001b[0;34m(\u001b[0m\u001b[0;34m)\u001b[0m\u001b[0;34m\u001b[0m\u001b[0;34m\u001b[0m\u001b[0m\n\u001b[0m\u001b[1;32m   1527\u001b[0m     \u001b[0;32mif\u001b[0m \u001b[0msaved_model_convert_result\u001b[0m\u001b[0;34m:\u001b[0m\u001b[0;34m\u001b[0m\u001b[0;34m\u001b[0m\u001b[0m\n\u001b[1;32m   1528\u001b[0m       \u001b[0;32mreturn\u001b[0m \u001b[0msaved_model_convert_result\u001b[0m\u001b[0;34m\u001b[0m\u001b[0;34m\u001b[0m\u001b[0m\n",
      "\u001b[0;32m/cvmfs/sft-nightlies.cern.ch/lcg/views/dev4cuda/Thu/x86_64-el9-gcc11-opt/lib/python3.9/site-packages/tensorflow/lite/python/lite.py\u001b[0m in \u001b[0;36m_convert_as_saved_model\u001b[0;34m(self)\u001b[0m\n\u001b[1;32m   1505\u001b[0m       )\n\u001b[1;32m   1506\u001b[0m       \u001b[0;32mif\u001b[0m \u001b[0mself\u001b[0m\u001b[0;34m.\u001b[0m\u001b[0msaved_model_dir\u001b[0m\u001b[0;34m:\u001b[0m\u001b[0;34m\u001b[0m\u001b[0;34m\u001b[0m\u001b[0m\n\u001b[0;32m-> 1507\u001b[0;31m         return super(TFLiteKerasModelConverterV2, self).convert(\n\u001b[0m\u001b[1;32m   1508\u001b[0m             \u001b[0mgraph_def\u001b[0m\u001b[0;34m,\u001b[0m \u001b[0minput_tensors\u001b[0m\u001b[0;34m,\u001b[0m \u001b[0moutput_tensors\u001b[0m\u001b[0;34m\u001b[0m\u001b[0;34m\u001b[0m\u001b[0m\n\u001b[1;32m   1509\u001b[0m         )\n",
      "\u001b[0;32m/cvmfs/sft-nightlies.cern.ch/lcg/views/dev4cuda/Thu/x86_64-el9-gcc11-opt/lib/python3.9/site-packages/tensorflow/lite/python/lite.py\u001b[0m in \u001b[0;36mconvert\u001b[0;34m(self, graph_def, input_tensors, output_tensors)\u001b[0m\n\u001b[1;32m   1301\u001b[0m     )\n\u001b[1;32m   1302\u001b[0m \u001b[0;34m\u001b[0m\u001b[0m\n\u001b[0;32m-> 1303\u001b[0;31m     return self._optimize_tflite_model(\n\u001b[0m\u001b[1;32m   1304\u001b[0m         \u001b[0mresult\u001b[0m\u001b[0;34m,\u001b[0m \u001b[0mself\u001b[0m\u001b[0;34m.\u001b[0m\u001b[0m_quant_mode\u001b[0m\u001b[0;34m,\u001b[0m \u001b[0mquant_io\u001b[0m\u001b[0;34m=\u001b[0m\u001b[0mself\u001b[0m\u001b[0;34m.\u001b[0m\u001b[0mexperimental_new_quantizer\u001b[0m\u001b[0;34m\u001b[0m\u001b[0;34m\u001b[0m\u001b[0m\n\u001b[1;32m   1305\u001b[0m     )\n",
      "\u001b[0;32m/cvmfs/sft-nightlies.cern.ch/lcg/views/dev4cuda/Thu/x86_64-el9-gcc11-opt/lib/python3.9/site-packages/tensorflow/lite/python/convert_phase.py\u001b[0m in \u001b[0;36mwrapper\u001b[0;34m(*args, **kwargs)\u001b[0m\n\u001b[1;32m    213\u001b[0m       \u001b[0;32mexcept\u001b[0m \u001b[0mException\u001b[0m \u001b[0;32mas\u001b[0m \u001b[0merror\u001b[0m\u001b[0;34m:\u001b[0m\u001b[0;34m\u001b[0m\u001b[0;34m\u001b[0m\u001b[0m\n\u001b[1;32m    214\u001b[0m         \u001b[0mreport_error_message\u001b[0m\u001b[0;34m(\u001b[0m\u001b[0mstr\u001b[0m\u001b[0;34m(\u001b[0m\u001b[0merror\u001b[0m\u001b[0;34m)\u001b[0m\u001b[0;34m)\u001b[0m\u001b[0;34m\u001b[0m\u001b[0;34m\u001b[0m\u001b[0m\n\u001b[0;32m--> 215\u001b[0;31m         \u001b[0;32mraise\u001b[0m \u001b[0merror\u001b[0m \u001b[0;32mfrom\u001b[0m \u001b[0;32mNone\u001b[0m  \u001b[0;31m# Re-throws the exception.\u001b[0m\u001b[0;34m\u001b[0m\u001b[0;34m\u001b[0m\u001b[0m\n\u001b[0m\u001b[1;32m    216\u001b[0m \u001b[0;34m\u001b[0m\u001b[0m\n\u001b[1;32m    217\u001b[0m     \u001b[0;32mreturn\u001b[0m \u001b[0mwrapper\u001b[0m\u001b[0;34m\u001b[0m\u001b[0;34m\u001b[0m\u001b[0m\n",
      "\u001b[0;32m/cvmfs/sft-nightlies.cern.ch/lcg/views/dev4cuda/Thu/x86_64-el9-gcc11-opt/lib/python3.9/site-packages/tensorflow/lite/python/convert_phase.py\u001b[0m in \u001b[0;36mwrapper\u001b[0;34m(*args, **kwargs)\u001b[0m\n\u001b[1;32m    203\u001b[0m     \u001b[0;32mdef\u001b[0m \u001b[0mwrapper\u001b[0m\u001b[0;34m(\u001b[0m\u001b[0;34m*\u001b[0m\u001b[0margs\u001b[0m\u001b[0;34m,\u001b[0m \u001b[0;34m**\u001b[0m\u001b[0mkwargs\u001b[0m\u001b[0;34m)\u001b[0m\u001b[0;34m:\u001b[0m\u001b[0;34m\u001b[0m\u001b[0;34m\u001b[0m\u001b[0m\n\u001b[1;32m    204\u001b[0m       \u001b[0;32mtry\u001b[0m\u001b[0;34m:\u001b[0m\u001b[0;34m\u001b[0m\u001b[0;34m\u001b[0m\u001b[0m\n\u001b[0;32m--> 205\u001b[0;31m         \u001b[0;32mreturn\u001b[0m \u001b[0mfunc\u001b[0m\u001b[0;34m(\u001b[0m\u001b[0;34m*\u001b[0m\u001b[0margs\u001b[0m\u001b[0;34m,\u001b[0m \u001b[0;34m**\u001b[0m\u001b[0mkwargs\u001b[0m\u001b[0;34m)\u001b[0m\u001b[0;34m\u001b[0m\u001b[0;34m\u001b[0m\u001b[0m\n\u001b[0m\u001b[1;32m    206\u001b[0m       \u001b[0;32mexcept\u001b[0m \u001b[0mConverterError\u001b[0m \u001b[0;32mas\u001b[0m \u001b[0mconverter_error\u001b[0m\u001b[0;34m:\u001b[0m\u001b[0;34m\u001b[0m\u001b[0;34m\u001b[0m\u001b[0m\n\u001b[1;32m    207\u001b[0m         \u001b[0;32mif\u001b[0m \u001b[0mconverter_error\u001b[0m\u001b[0;34m.\u001b[0m\u001b[0merrors\u001b[0m\u001b[0;34m:\u001b[0m\u001b[0;34m\u001b[0m\u001b[0;34m\u001b[0m\u001b[0m\n",
      "\u001b[0;32m/cvmfs/sft-nightlies.cern.ch/lcg/views/dev4cuda/Thu/x86_64-el9-gcc11-opt/lib/python3.9/site-packages/tensorflow/lite/python/lite.py\u001b[0m in \u001b[0;36m_optimize_tflite_model\u001b[0;34m(self, model, quant_mode, quant_io)\u001b[0m\n\u001b[1;32m    989\u001b[0m         \u001b[0mq_allow_float\u001b[0m \u001b[0;34m=\u001b[0m \u001b[0mquant_mode\u001b[0m\u001b[0;34m.\u001b[0m\u001b[0mis_allow_float\u001b[0m\u001b[0;34m(\u001b[0m\u001b[0;34m)\u001b[0m\u001b[0;34m\u001b[0m\u001b[0;34m\u001b[0m\u001b[0m\n\u001b[1;32m    990\u001b[0m         \u001b[0mq_variable_quantization\u001b[0m \u001b[0;34m=\u001b[0m \u001b[0mquant_mode\u001b[0m\u001b[0;34m.\u001b[0m\u001b[0menable_mlir_variable_quantization\u001b[0m\u001b[0;34m\u001b[0m\u001b[0;34m\u001b[0m\u001b[0m\n\u001b[0;32m--> 991\u001b[0;31m         model = self._quantize(\n\u001b[0m\u001b[1;32m    992\u001b[0m             \u001b[0mmodel\u001b[0m\u001b[0;34m,\u001b[0m\u001b[0;34m\u001b[0m\u001b[0;34m\u001b[0m\u001b[0m\n\u001b[1;32m    993\u001b[0m             \u001b[0mq_in_type\u001b[0m\u001b[0;34m,\u001b[0m\u001b[0;34m\u001b[0m\u001b[0;34m\u001b[0m\u001b[0m\n",
      "\u001b[0;32m/cvmfs/sft-nightlies.cern.ch/lcg/views/dev4cuda/Thu/x86_64-el9-gcc11-opt/lib/python3.9/site-packages/tensorflow/lite/python/lite.py\u001b[0m in \u001b[0;36m_quantize\u001b[0;34m(self, result, input_type, output_type, activations_type, bias_type, allow_float, enable_variable_quantization)\u001b[0m\n\u001b[1;32m    708\u001b[0m     )\n\u001b[1;32m    709\u001b[0m     \u001b[0;32mif\u001b[0m \u001b[0mself\u001b[0m\u001b[0;34m.\u001b[0m\u001b[0m_experimental_calibrate_only\u001b[0m \u001b[0;32mor\u001b[0m \u001b[0mself\u001b[0m\u001b[0;34m.\u001b[0m\u001b[0mexperimental_new_quantizer\u001b[0m\u001b[0;34m:\u001b[0m\u001b[0;34m\u001b[0m\u001b[0;34m\u001b[0m\u001b[0m\n\u001b[0;32m--> 710\u001b[0;31m       calibrated = calibrate_quantize.calibrate(\n\u001b[0m\u001b[1;32m    711\u001b[0m           \u001b[0mself\u001b[0m\u001b[0;34m.\u001b[0m\u001b[0mrepresentative_dataset\u001b[0m\u001b[0;34m.\u001b[0m\u001b[0minput_gen\u001b[0m\u001b[0;34m\u001b[0m\u001b[0;34m\u001b[0m\u001b[0m\n\u001b[1;32m    712\u001b[0m       )\n",
      "\u001b[0;32m/cvmfs/sft-nightlies.cern.ch/lcg/views/dev4cuda/Thu/x86_64-el9-gcc11-opt/lib/python3.9/site-packages/tensorflow/lite/python/convert_phase.py\u001b[0m in \u001b[0;36mwrapper\u001b[0;34m(*args, **kwargs)\u001b[0m\n\u001b[1;32m    213\u001b[0m       \u001b[0;32mexcept\u001b[0m \u001b[0mException\u001b[0m \u001b[0;32mas\u001b[0m \u001b[0merror\u001b[0m\u001b[0;34m:\u001b[0m\u001b[0;34m\u001b[0m\u001b[0;34m\u001b[0m\u001b[0m\n\u001b[1;32m    214\u001b[0m         \u001b[0mreport_error_message\u001b[0m\u001b[0;34m(\u001b[0m\u001b[0mstr\u001b[0m\u001b[0;34m(\u001b[0m\u001b[0merror\u001b[0m\u001b[0;34m)\u001b[0m\u001b[0;34m)\u001b[0m\u001b[0;34m\u001b[0m\u001b[0;34m\u001b[0m\u001b[0m\n\u001b[0;32m--> 215\u001b[0;31m         \u001b[0;32mraise\u001b[0m \u001b[0merror\u001b[0m \u001b[0;32mfrom\u001b[0m \u001b[0;32mNone\u001b[0m  \u001b[0;31m# Re-throws the exception.\u001b[0m\u001b[0;34m\u001b[0m\u001b[0;34m\u001b[0m\u001b[0m\n\u001b[0m\u001b[1;32m    216\u001b[0m \u001b[0;34m\u001b[0m\u001b[0m\n\u001b[1;32m    217\u001b[0m     \u001b[0;32mreturn\u001b[0m \u001b[0mwrapper\u001b[0m\u001b[0;34m\u001b[0m\u001b[0;34m\u001b[0m\u001b[0m\n",
      "\u001b[0;32m/cvmfs/sft-nightlies.cern.ch/lcg/views/dev4cuda/Thu/x86_64-el9-gcc11-opt/lib/python3.9/site-packages/tensorflow/lite/python/convert_phase.py\u001b[0m in \u001b[0;36mwrapper\u001b[0;34m(*args, **kwargs)\u001b[0m\n\u001b[1;32m    203\u001b[0m     \u001b[0;32mdef\u001b[0m \u001b[0mwrapper\u001b[0m\u001b[0;34m(\u001b[0m\u001b[0;34m*\u001b[0m\u001b[0margs\u001b[0m\u001b[0;34m,\u001b[0m \u001b[0;34m**\u001b[0m\u001b[0mkwargs\u001b[0m\u001b[0;34m)\u001b[0m\u001b[0;34m:\u001b[0m\u001b[0;34m\u001b[0m\u001b[0;34m\u001b[0m\u001b[0m\n\u001b[1;32m    204\u001b[0m       \u001b[0;32mtry\u001b[0m\u001b[0;34m:\u001b[0m\u001b[0;34m\u001b[0m\u001b[0;34m\u001b[0m\u001b[0m\n\u001b[0;32m--> 205\u001b[0;31m         \u001b[0;32mreturn\u001b[0m \u001b[0mfunc\u001b[0m\u001b[0;34m(\u001b[0m\u001b[0;34m*\u001b[0m\u001b[0margs\u001b[0m\u001b[0;34m,\u001b[0m \u001b[0;34m**\u001b[0m\u001b[0mkwargs\u001b[0m\u001b[0;34m)\u001b[0m\u001b[0;34m\u001b[0m\u001b[0;34m\u001b[0m\u001b[0m\n\u001b[0m\u001b[1;32m    206\u001b[0m       \u001b[0;32mexcept\u001b[0m \u001b[0mConverterError\u001b[0m \u001b[0;32mas\u001b[0m \u001b[0mconverter_error\u001b[0m\u001b[0;34m:\u001b[0m\u001b[0;34m\u001b[0m\u001b[0;34m\u001b[0m\u001b[0m\n\u001b[1;32m    207\u001b[0m         \u001b[0;32mif\u001b[0m \u001b[0mconverter_error\u001b[0m\u001b[0;34m.\u001b[0m\u001b[0merrors\u001b[0m\u001b[0;34m:\u001b[0m\u001b[0;34m\u001b[0m\u001b[0;34m\u001b[0m\u001b[0m\n",
      "\u001b[0;32m/cvmfs/sft-nightlies.cern.ch/lcg/views/dev4cuda/Thu/x86_64-el9-gcc11-opt/lib/python3.9/site-packages/tensorflow/lite/python/optimize/calibrator.py\u001b[0m in \u001b[0;36mcalibrate\u001b[0;34m(self, dataset_gen)\u001b[0m\n\u001b[1;32m    252\u001b[0m       \u001b[0mdataset_gen\u001b[0m\u001b[0;34m:\u001b[0m \u001b[0mA\u001b[0m \u001b[0mgenerator\u001b[0m \u001b[0mthat\u001b[0m \u001b[0mgenerates\u001b[0m \u001b[0mcalibration\u001b[0m \u001b[0msamples\u001b[0m\u001b[0;34m.\u001b[0m\u001b[0;34m\u001b[0m\u001b[0;34m\u001b[0m\u001b[0m\n\u001b[1;32m    253\u001b[0m     \"\"\"\n\u001b[0;32m--> 254\u001b[0;31m     \u001b[0mself\u001b[0m\u001b[0;34m.\u001b[0m\u001b[0m_feed_tensors\u001b[0m\u001b[0;34m(\u001b[0m\u001b[0mdataset_gen\u001b[0m\u001b[0;34m,\u001b[0m \u001b[0mresize_input\u001b[0m\u001b[0;34m=\u001b[0m\u001b[0;32mTrue\u001b[0m\u001b[0;34m)\u001b[0m\u001b[0;34m\u001b[0m\u001b[0;34m\u001b[0m\u001b[0m\n\u001b[0m\u001b[1;32m    255\u001b[0m     \u001b[0;32mreturn\u001b[0m \u001b[0mself\u001b[0m\u001b[0;34m.\u001b[0m\u001b[0m_calibrator\u001b[0m\u001b[0;34m.\u001b[0m\u001b[0mCalibrate\u001b[0m\u001b[0;34m(\u001b[0m\u001b[0;34m)\u001b[0m\u001b[0;34m\u001b[0m\u001b[0;34m\u001b[0m\u001b[0m\n",
      "\u001b[0;32m/cvmfs/sft-nightlies.cern.ch/lcg/views/dev4cuda/Thu/x86_64-el9-gcc11-opt/lib/python3.9/site-packages/tensorflow/lite/python/optimize/calibrator.py\u001b[0m in \u001b[0;36m_feed_tensors\u001b[0;34m(self, dataset_gen, resize_input)\u001b[0m\n\u001b[1;32m     99\u001b[0m     \u001b[0minitialized\u001b[0m \u001b[0;34m=\u001b[0m \u001b[0;34m{\u001b[0m\u001b[0;34m}\u001b[0m\u001b[0;34m\u001b[0m\u001b[0;34m\u001b[0m\u001b[0m\n\u001b[1;32m    100\u001b[0m \u001b[0;34m\u001b[0m\u001b[0m\n\u001b[0;32m--> 101\u001b[0;31m     \u001b[0;32mfor\u001b[0m \u001b[0msample\u001b[0m \u001b[0;32min\u001b[0m \u001b[0mdataset_gen\u001b[0m\u001b[0;34m(\u001b[0m\u001b[0;34m)\u001b[0m\u001b[0;34m:\u001b[0m\u001b[0;34m\u001b[0m\u001b[0;34m\u001b[0m\u001b[0m\n\u001b[0m\u001b[1;32m    102\u001b[0m       \u001b[0;32mif\u001b[0m \u001b[0misinstance\u001b[0m\u001b[0;34m(\u001b[0m\u001b[0msample\u001b[0m\u001b[0;34m,\u001b[0m \u001b[0mtuple\u001b[0m\u001b[0;34m)\u001b[0m\u001b[0;34m:\u001b[0m\u001b[0;34m\u001b[0m\u001b[0;34m\u001b[0m\u001b[0m\n\u001b[1;32m    103\u001b[0m         \u001b[0;32mif\u001b[0m \u001b[0;32mnot\u001b[0m \u001b[0misinstance\u001b[0m\u001b[0;34m(\u001b[0m\u001b[0msample\u001b[0m\u001b[0;34m[\u001b[0m\u001b[0;36m1\u001b[0m\u001b[0;34m]\u001b[0m\u001b[0;34m,\u001b[0m \u001b[0mdict\u001b[0m\u001b[0;34m)\u001b[0m\u001b[0;34m:\u001b[0m\u001b[0;34m\u001b[0m\u001b[0;34m\u001b[0m\u001b[0m\n",
      "\u001b[0;32m/tmp/sraj/ipykernel_4078517/2430427253.py\u001b[0m in \u001b[0;36mrepresentative_dataset_gen\u001b[0;34m()\u001b[0m\n\u001b[1;32m      3\u001b[0m     \u001b[0;32mfor\u001b[0m \u001b[0mi\u001b[0m \u001b[0;32min\u001b[0m \u001b[0mrange\u001b[0m\u001b[0;34m(\u001b[0m\u001b[0;36m10\u001b[0m\u001b[0;34m)\u001b[0m\u001b[0;34m:\u001b[0m  \u001b[0;31m# Adjust the number of samples as needed\u001b[0m\u001b[0;34m\u001b[0m\u001b[0;34m\u001b[0m\u001b[0m\n\u001b[1;32m      4\u001b[0m         \u001b[0mresized_input\u001b[0m \u001b[0;34m=\u001b[0m \u001b[0mnp\u001b[0m\u001b[0;34m.\u001b[0m\u001b[0mzeros\u001b[0m\u001b[0;34m(\u001b[0m\u001b[0;34m(\u001b[0m\u001b[0;36m1\u001b[0m\u001b[0;34m,\u001b[0m \u001b[0;36m195\u001b[0m\u001b[0;34m,\u001b[0m \u001b[0;36m17\u001b[0m\u001b[0;34m)\u001b[0m\u001b[0;34m,\u001b[0m \u001b[0mdtype\u001b[0m\u001b[0;34m=\u001b[0m\u001b[0mnp\u001b[0m\u001b[0;34m.\u001b[0m\u001b[0mfloat32\u001b[0m\u001b[0;34m)\u001b[0m  \u001b[0;31m# Assuming 195 is the desired size\u001b[0m\u001b[0;34m\u001b[0m\u001b[0;34m\u001b[0m\u001b[0m\n\u001b[0;32m----> 5\u001b[0;31m         \u001b[0mresized_input\u001b[0m\u001b[0;34m[\u001b[0m\u001b[0;34m:\u001b[0m\u001b[0;34m,\u001b[0m \u001b[0;34m:\u001b[0m\u001b[0mquantized_Xs\u001b[0m\u001b[0;34m[\u001b[0m\u001b[0mi\u001b[0m\u001b[0;34m]\u001b[0m\u001b[0;34m.\u001b[0m\u001b[0mshape\u001b[0m\u001b[0;34m[\u001b[0m\u001b[0;36m1\u001b[0m\u001b[0;34m]\u001b[0m\u001b[0;34m,\u001b[0m \u001b[0;34m:\u001b[0m\u001b[0;34m]\u001b[0m \u001b[0;34m=\u001b[0m \u001b[0mquantized_Xs\u001b[0m\u001b[0;34m[\u001b[0m\u001b[0mi\u001b[0m\u001b[0;34m]\u001b[0m\u001b[0;34m.\u001b[0m\u001b[0mastype\u001b[0m\u001b[0;34m(\u001b[0m\u001b[0mnp\u001b[0m\u001b[0;34m.\u001b[0m\u001b[0mfloat32\u001b[0m\u001b[0;34m)\u001b[0m\u001b[0;34m\u001b[0m\u001b[0;34m\u001b[0m\u001b[0m\n\u001b[0m\u001b[1;32m      6\u001b[0m         \u001b[0;32myield\u001b[0m \u001b[0;34m[\u001b[0m\u001b[0mresized_input\u001b[0m\u001b[0;34m]\u001b[0m\u001b[0;34m\u001b[0m\u001b[0;34m\u001b[0m\u001b[0m\n",
      "\u001b[0;31mValueError\u001b[0m: could not broadcast input array from shape (195,17) into shape (1,17,17)"
     ]
    },
    {
     "name": "stderr",
     "output_type": "stream",
     "text": [
      "2023-11-30 16:51:15.592425: W tensorflow/compiler/mlir/lite/python/tf_tfl_flatbuffer_helpers.cc:364] Ignored output_format.\n",
      "2023-11-30 16:51:15.592740: W tensorflow/compiler/mlir/lite/python/tf_tfl_flatbuffer_helpers.cc:367] Ignored drop_control_dependency.\n",
      "2023-11-30 16:51:15.593037: I tensorflow/cc/saved_model/reader.cc:45] Reading SavedModel from: /tmp/sraj/tmp3eqj_it1\n",
      "2023-11-30 16:51:15.653953: I tensorflow/cc/saved_model/reader.cc:91] Reading meta graph with tags { serve }\n",
      "2023-11-30 16:51:15.653998: I tensorflow/cc/saved_model/reader.cc:132] Reading SavedModel debug info (if present) from: /tmp/sraj/tmp3eqj_it1\n",
      "2023-11-30 16:51:15.914981: I tensorflow/cc/saved_model/loader.cc:231] Restoring SavedModel bundle.\n",
      "2023-11-30 16:51:16.783375: I tensorflow/cc/saved_model/loader.cc:215] Running initialization op on SavedModel bundle at path: /tmp/sraj/tmp3eqj_it1\n",
      "2023-11-30 16:51:17.311090: I tensorflow/cc/saved_model/loader.cc:314] SavedModel load for tags { serve }; Status: success: OK. Took 1718053 microseconds.\n"
     ]
    }
   ],
   "source": [
    "# Quantize the model with a representative dataset\n",
    "converter = tf.lite.TFLiteConverter.from_keras_model(model)\n",
    "converter.optimizations = [tf.lite.Optimize.DEFAULT]\n",
    "converter.target_spec.supported_ops = [tf.lite.OpsSet.TFLITE_BUILTINS_INT8]\n",
    "converter.inference_input_type = tf.int8\n",
    "converter.inference_output_type = tf.int8\n",
    "converter.representative_dataset = representative_dataset_gen\n",
    "\n",
    "quantized_model = converter.convert()"
   ]
  },
  {
   "cell_type": "code",
   "execution_count": 38,
   "id": "22327571",
   "metadata": {},
   "outputs": [
    {
     "name": "stderr",
     "output_type": "stream",
     "text": [
      "2023-11-30 16:55:52.710952: W tensorflow/compiler/mlir/lite/python/tf_tfl_flatbuffer_helpers.cc:364] Ignored output_format.\n",
      "2023-11-30 16:55:52.711253: W tensorflow/compiler/mlir/lite/python/tf_tfl_flatbuffer_helpers.cc:367] Ignored drop_control_dependency.\n",
      "2023-11-30 16:55:52.711549: I tensorflow/cc/saved_model/reader.cc:45] Reading SavedModel from: /tmp/sraj/tmpimjp0ke4\n",
      "2023-11-30 16:55:52.771507: I tensorflow/cc/saved_model/reader.cc:91] Reading meta graph with tags { serve }\n",
      "2023-11-30 16:55:52.771562: I tensorflow/cc/saved_model/reader.cc:132] Reading SavedModel debug info (if present) from: /tmp/sraj/tmpimjp0ke4\n",
      "2023-11-30 16:55:53.012667: I tensorflow/cc/saved_model/loader.cc:231] Restoring SavedModel bundle.\n",
      "2023-11-30 16:55:53.866462: I tensorflow/cc/saved_model/loader.cc:215] Running initialization op on SavedModel bundle at path: /tmp/sraj/tmpimjp0ke4\n",
      "2023-11-30 16:55:54.405873: I tensorflow/cc/saved_model/loader.cc:314] SavedModel load for tags { serve }; Status: success: OK. Took 1694326 microseconds.\n"
     ]
    }
   ],
   "source": [
    "import tensorflow as tf\n",
    "import tensorflow_model_optimization as tfmot\n",
    "\n",
    "# Convert the new model to a TensorFlow Lite model\n",
    "converter = tf.lite.TFLiteConverter.from_keras_model(model)\n",
    "converter.optimizations = [tf.lite.Optimize.DEFAULT]\n",
    "quantized_tflite_model = converter.convert()\n",
    "\n",
    "# Save the TensorFlow Lite model to a file\n",
    "with open(\"quantized_model.tflite\", \"wb\") as f:\n",
    "    f.write(quantized_tflite_model)\n"
   ]
  },
  {
   "cell_type": "code",
   "execution_count": 41,
   "id": "c2ed6e01",
   "metadata": {},
   "outputs": [
    {
     "name": "stderr",
     "output_type": "stream",
     "text": [
      "INFO: Created TensorFlow Lite XNNPACK delegate for CPU.\n"
     ]
    }
   ],
   "source": [
    "# Load the Quantized TensorFlow Lite Model:\n",
    "# Load the quantized TensorFlow Lite model\n",
    "interpreter = tf.lite.Interpreter(model_path=\"quantized_model.tflite\")\n",
    "interpreter.allocate_tensors()"
   ]
  },
  {
   "cell_type": "code",
   "execution_count": null,
   "id": "30a049aa",
   "metadata": {},
   "outputs": [],
   "source": [
    "# Prepare Input Data:\n"
   ]
  }
 ],
 "metadata": {
  "kernelspec": {
   "display_name": "Python 3 (ipykernel)",
   "language": "python",
   "name": "python3"
  },
  "language_info": {
   "codemirror_mode": {
    "name": "ipython",
    "version": 3
   },
   "file_extension": ".py",
   "mimetype": "text/x-python",
   "name": "python",
   "nbconvert_exporter": "python",
   "pygments_lexer": "ipython3",
   "version": "3.9.12"
  }
 },
 "nbformat": 4,
 "nbformat_minor": 5
}
