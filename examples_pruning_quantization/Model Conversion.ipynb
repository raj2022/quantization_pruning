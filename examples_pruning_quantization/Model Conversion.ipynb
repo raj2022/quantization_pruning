{
 "cells": [
  {
   "cell_type": "markdown",
   "id": "52fd7d49",
   "metadata": {},
   "source": [
    "# Model conversion\n",
    "https://www.tensorflow.org/lite/models/convert/  \\\n",
    "The machine learning (ML) models you use with TensorFlow Lite are originally built and trained using TensorFlow core libraries and tools. Once you've built a model with TensorFlow core, you can convert it to a smaller, more efficient ML model format called a TensorFlow Lite model."
   ]
  },
  {
   "cell_type": "markdown",
   "id": "21d17e88",
   "metadata": {},
   "source": [
    "## Conversion Workflow"
   ]
  },
  {
   "cell_type": "markdown",
   "id": "2c1800d7",
   "metadata": {},
   "source": [
    "* Converting TensorFlow models to TensorFlow Lite format can take a few paths depending on the content of your ML model. As the first step of that process, you should evaluate your model to determine if it can be directly converted.\n",
    "* This evaluation determines if the content of the model is supported by the standard TensorFlow Lite runtime environments based on the TensorFlow operations it uses. If your model uses operations outside of the supported set, you have the option to refactor your model or use advanced conversion techniques"
   ]
  },
  {
   "cell_type": "markdown",
   "id": "2647b417",
   "metadata": {},
   "source": [
    "![tensorflow_converting](https://www.tensorflow.org/lite/images/convert/convert_workflow_diag.png)"
   ]
  },
  {
   "cell_type": "markdown",
   "id": "da00a966",
   "metadata": {},
   "source": [
    "There are a few models which we can use the converter with the follwoing input models formats:\n",
    "   * Saved model\n",
    "   * Keras model: A model created using the high level Keras API.\n",
    "   * Keras H5 format: A light-weight alternative to SavedModel format supported by Keras API.\n",
    "   * Models built from concrete functions: A model created using the low level TensorFlow API."
   ]
  },
  {
   "cell_type": "markdown",
   "id": "9b2c0419",
   "metadata": {},
   "source": [
    "#### Conversion Evaluation\n",
    "* Evaluating your model is an important step before attempting to convert it. When evaluating, you want to determine if the contents of your model is compatible with the TensorFlow Lite format. \n",
    "* For many models, the converter should work out of the box. However, TensorFlow Lite builtin operator library supports a subset of TensorFlow core operators, which means some models may need additional steps before converting to TensorFlow Lite. \n"
   ]
  },
  {
   "cell_type": "markdown",
   "id": "3e05fd90",
   "metadata": {},
   "source": [
    "#### Model conversion"
   ]
  },
  {
   "cell_type": "markdown",
   "id": "d6f86411",
   "metadata": {},
   "source": [
    "The TensorFlow Lite converter takes a TensorFlow model and generates a TensorFlow Lite model (an optimized [FlatBuffer](https://google.github.io/flatbuffers/) format identified by the .tflite file extension). You can load a SavedModel or directly convert a model you create in code.\n",
    "\n",
    "The converter takes 3 main flags (or options) that customize the conversion for your model:\n",
    "1. [Compatibility Flags]https://www.tensorflow.org/lite/guide/ops_compatibility) allow you to specify whether the conversion should allow custom operators.\n",
    "2. [Optimization flags](https://www.tensorflow.org/lite/performance/model_optimization) allow you to specify the type of optimization to apply during conversion. The most commonly used optimization technique is [post-training quanitization](https://www.tensorflow.org/lite/models/convert/)."
   ]
  },
  {
   "cell_type": "markdown",
   "id": "019fc892",
   "metadata": {},
   "source": [
    "\n",
    "#### Advanced conversion\n",
    "If you run into [errors](https://www.tensorflow.org/lite/models/convert/convert_models#conversion_errors) while running the converter on your model, it's most likely that you have an operator compatibility issue. Not all TensorFlow operations are supported by TensorFlow Lite. You can work around these issues by refactoring your model, or by using advanced conversion options that allow you to create a modified TensorFlow Lite format model and a custom runtime environment for that model.\n",
    "\n",
    "* See the [Model compatibility overview](https://www.tensorflow.org/lite/guide/ops_compatibility) for more information on TensorFlow and TensorFlow Lite model compatibility considerations.\n",
    "* Topics under the Model compatibility overview cover advanced techniques for refactoring your model, such as the [Select operators guide](https://www.tensorflow.org/lite/guide/ops_select).\n",
    "* For full list of operations and limitations see [TensorFlow Lite Ops page](https://www.tensorflow.org/mlir/tfl_ops).\n"
   ]
  },
  {
   "cell_type": "markdown",
   "id": "8ca81c91",
   "metadata": {},
   "source": [
    "[TensorFlow Operator Compatibility](https://www.tensorflow.org/lite/guide/ops_compatibility)"
   ]
  },
  {
   "cell_type": "code",
   "execution_count": null,
   "id": "2a656fc1",
   "metadata": {},
   "outputs": [],
   "source": []
  }
 ],
 "metadata": {
  "kernelspec": {
   "display_name": "Python 3 (ipykernel)",
   "language": "python",
   "name": "python3"
  },
  "language_info": {
   "codemirror_mode": {
    "name": "ipython",
    "version": 3
   },
   "file_extension": ".py",
   "mimetype": "text/x-python",
   "name": "python",
   "nbconvert_exporter": "python",
   "pygments_lexer": "ipython3",
   "version": "3.9.12"
  }
 },
 "nbformat": 4,
 "nbformat_minor": 5
}
