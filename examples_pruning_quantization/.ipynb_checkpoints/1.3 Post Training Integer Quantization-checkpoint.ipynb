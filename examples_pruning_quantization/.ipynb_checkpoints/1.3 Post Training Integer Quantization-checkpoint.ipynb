{
 "cells": [
  {
   "cell_type": "markdown",
   "id": "3985d18c",
   "metadata": {},
   "source": [
    "Source:\n",
    "https://www.tensorflow.org/lite/performance/post_training_integer_quant"
   ]
  },
  {
   "cell_type": "markdown",
   "id": "e6ddd9fe",
   "metadata": {},
   "source": [
    "# Post traininf Integer Quantizaton\n",
    "### Overview\n",
    "\n",
    "Integer quantization is an optimization strategy that converts 32-bit floating-point numbers (such as weights and activation outputs) to the nearest 8-bit fixed-point numbers. This results in a smaller model and increased inferencing speed, which is valuable for low-power devices such as microcontrollers. This data format is also required by integer-only accelerators such as the Edge TPU.\n",
    "\n",
    "In this tutorial, you'll train an MNIST model from scratch, convert it into a Tensorflow Lite file, and quantize it using [post-training quantization](https://www.tensorflow.org/lite/performance/post_training_quantization). Finally, you'll check the accuracy of the converted model and compare it to the original float model.\n",
    "\n",
    "You actually have several options as to how much you want to quantize a model. In this tutorial, you'll perform \"full integer quantization,\" which converts all weights and activation outputs into 8-bit integer data—whereas other strategies may leave some amount of data in floating-point.\n",
    "\n",
    "To learn more about the various quantization strategies, read about [TensorFlow Lite model optimization](https://www.tensorflow.org/lite/performance/model_optimization).\n",
    "\n",
    "\n"
   ]
  },
  {
   "cell_type": "markdown",
   "id": "be488a8f",
   "metadata": {},
   "source": [
    "## Setup"
   ]
  },
  {
   "cell_type": "code",
   "execution_count": 2,
   "id": "6cb1b943",
   "metadata": {},
   "outputs": [],
   "source": [
    "import logging\n"
   ]
  },
  {
   "cell_type": "markdown",
   "id": "de3f7750",
   "metadata": {},
   "source": [
    "### Generate a TensorFlow Model\n",
    "We'll build a simple model to classify numbers from the [MNIST dataset](https://www.tensorflow.org/datasets/catalog/mnist).\n",
    "\n",
    "This training won't take long because you're training the model for just a 5 epochs, which trains to about ~98% accuracy."
   ]
  },
  {
   "cell_type": "markdown",
   "id": "002eb4c5",
   "metadata": {},
   "source": [
    "## Convert to a TensorFlow Lite model\n",
    "\n",
    "Now you can convert the trained model to TensorFlow Lite format using the TensorFlow Lite [Converter](https://www.tensorflow.org/lite/models/convert), and apply varying degrees of quantization.\n",
    "\n",
    "Beware that some versions of quantization leave some of the data in float format. So the following sections show each option with increasing amounts of quantization, until we get a model that's entirely int8 or uint8 data. (Notice we duplicate some code in each section so you can see all the quantization steps for each option.)\n",
    "\n",
    "First, here's a converted model with no quantization:\n",
    "\n",
    "\n"
   ]
  },
  {
   "cell_type": "markdown",
   "id": "e88cdf30",
   "metadata": {},
   "source": [
    "It's now a TensorFlow Lite model, but it's still using 32-bit float values for all parameter data.\n",
    "\n"
   ]
  },
  {
   "cell_type": "markdown",
   "id": "8280f955",
   "metadata": {},
   "source": [
    "## Convert using dynamic range quantization\n",
    "Now let's enable the default ``optimizations`` flag to quantize all fixed parameters (such as weights):\n",
    "\n"
   ]
  },
  {
   "cell_type": "markdown",
   "id": "8dd34a2f",
   "metadata": {},
   "source": [
    "The model is now a bit smaller with quantized weights, but other variable data is still in float format.\n",
    "\n"
   ]
  },
  {
   "cell_type": "markdown",
   "id": "0f6084b4",
   "metadata": {},
   "source": [
    "### Convert using float fallback quantization\n",
    "To quantize the variable data (such as model input/output and intermediates between layers), you need to provide a [`RepresentativeDataset`](https://www.tensorflow.org/api_docs/python/tf/lite/RepresentativeDataset). This is a generator function that provides a set of input data that's large enough to represent typical values. It allows the converter to estimate a dynamic range for all the variable data. (The dataset does not need to be unique compared to the training or evaluation dataset.) To support multiple inputs, each representative data point is a list and elements in the list are fed to the model according to their indices.\n",
    "\n",
    "\n"
   ]
  },
  {
   "cell_type": "markdown",
   "id": "0e1a7fe7",
   "metadata": {},
   "source": [
    "Now all weights and variable data are quantized, and the model is significantly smaller compared to the original TensorFlow Lite model.\n",
    "\n",
    "However, to maintain compatibility with applications that traditionally use float model input and output tensors, the TensorFlow Lite Converter leaves the model input and output tensors in float:\n",
    "\n",
    "\n"
   ]
  },
  {
   "cell_type": "markdown",
   "id": "f1cad183",
   "metadata": {},
   "source": [
    "That's usually good for compatibility, but it won't be compatible with devices that perform only integer-based operations, such as the Edge TPU.\n",
    "\n",
    "Additionally, the above process may leave an operation in float format if TensorFlow Lite doesn't include a quantized implementation for that operation. This strategy allows conversion to complete so you have a smaller and more efficient model, but again, it won't be compatible with integer-only hardware. (All ops in this MNIST model have a quantized implementation.)\n",
    "\n",
    "So to ensure an end-to-end integer-only model, you need a couple more parameters..."
   ]
  },
  {
   "cell_type": "markdown",
   "id": "31cb9be0",
   "metadata": {},
   "source": [
    "### Convert using integer-only quantization"
   ]
  },
  {
   "cell_type": "markdown",
   "id": "5203eff7",
   "metadata": {},
   "source": [
    "To quantize the input and output tensors, and make the converter throw an error if it encounters an operation it cannot quantize, convert the model again with some additional parameters:\n",
    "\n"
   ]
  },
  {
   "cell_type": "markdown",
   "id": "3521125d",
   "metadata": {},
   "source": [
    "The internal quantization remains the same as above, but you can see the input and output tensors are now integer format:\n",
    "\n"
   ]
  },
  {
   "cell_type": "markdown",
   "id": "a43cf499",
   "metadata": {},
   "source": [
    "Now you have an integer quantized model that uses integer data for the model's input and output tensors, so it's compatible with integer-only hardware such as the [Edge TPU](https://coral.ai/).\n",
    "\n"
   ]
  },
  {
   "cell_type": "markdown",
   "id": "514c884e",
   "metadata": {},
   "source": [
    "### Save the models as files\n",
    "You'll need a `.tflite` file to deploy your model on other devices. So let's save the converted models to files and then load them when we run inferences below."
   ]
  },
  {
   "cell_type": "markdown",
   "id": "6cdeb34a",
   "metadata": {},
   "source": [
    "### Run the TensorFlow Lite models\n",
    "Now we'll run inferences using the TensorFlow Lite [``Interpreter``](https://www.tensorflow.org/api_docs/python/tf/lite/Interpreter) to compare the model accuracies.\n",
    "\n",
    "First, we need a function that runs inference with a given model and images, and then returns the predictions:\n",
    "\n",
    "\n"
   ]
  },
  {
   "cell_type": "markdown",
   "id": "28442507",
   "metadata": {},
   "source": [
    "### Test the models on one image\n",
    "Now we'll compare the performance of the float model and quantized model:\n",
    "\n",
    "* `tflite_model_file` is the original TensorFlow Lite model with floating-point data.\n",
    "* `tflite_model_quant_file` is the last model we converted using integer-only quantization (it uses uint8 data for input and output).\n",
    "\n",
    "Let's create another function to print our predictions:\n",
    "\n",
    "\n"
   ]
  },
  {
   "cell_type": "markdown",
   "id": "fa495eca",
   "metadata": {},
   "source": [
    "Now test the float model:\n",
    "\n"
   ]
  },
  {
   "cell_type": "markdown",
   "id": "70fff5eb",
   "metadata": {},
   "source": [
    "And test the quantized model:\n",
    "\n"
   ]
  },
  {
   "cell_type": "markdown",
   "id": "4e3f3841",
   "metadata": {},
   "source": [
    "# Evaluate the models on all images\n",
    "Now let's run both models using all the test images we loaded at the beginning of this tutorial:"
   ]
  },
  {
   "cell_type": "markdown",
   "id": "f7306f6a",
   "metadata": {},
   "source": [
    "Evaluate the float model:\n",
    "\n"
   ]
  },
  {
   "cell_type": "markdown",
   "id": "53390e07",
   "metadata": {},
   "source": [
    "Evaluate the quantized model:\n",
    "\n"
   ]
  },
  {
   "cell_type": "markdown",
   "id": "5d810c70",
   "metadata": {},
   "source": [
    "So you now have an integer quantized a model with almost no difference in the accuracy, compared to the float model.\n",
    "\n"
   ]
  },
  {
   "cell_type": "markdown",
   "id": "49edba95",
   "metadata": {},
   "source": [
    "To learn more about other quantization strategies, read about [TensorFlow Lite model optimization](https://www.tensorflow.org/lite/performance/model_optimization).\n",
    "\n"
   ]
  },
  {
   "cell_type": "markdown",
   "id": "e451f537",
   "metadata": {},
   "source": [
    "https://www.tensorflow.org/lite/performance/post_training_integer_quant"
   ]
  },
  {
   "cell_type": "code",
   "execution_count": null,
   "id": "f8261fe2",
   "metadata": {},
   "outputs": [],
   "source": []
  }
 ],
 "metadata": {
  "kernelspec": {
   "display_name": "Python 3 (ipykernel)",
   "language": "python",
   "name": "python3"
  },
  "language_info": {
   "codemirror_mode": {
    "name": "ipython",
    "version": 3
   },
   "file_extension": ".py",
   "mimetype": "text/x-python",
   "name": "python",
   "nbconvert_exporter": "python",
   "pygments_lexer": "ipython3",
   "version": "3.10.10"
  }
 },
 "nbformat": 4,
 "nbformat_minor": 5
}
