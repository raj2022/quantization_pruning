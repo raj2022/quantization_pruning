{
 "cells": [
  {
   "cell_type": "markdown",
   "id": "99e6e10a",
   "metadata": {},
   "source": [
    "# Post-Training Quantization"
   ]
  },
  {
   "cell_type": "markdown",
   "id": "dea4526b",
   "metadata": {},
   "source": [
    "## Post Training quantization in TensorFlow "
   ]
  },
  {
   "cell_type": "markdown",
   "id": "fbeeb2f1",
   "metadata": {},
   "source": [
    "Task as defined by Joosep:\n",
    "``I would perhaps start with post-training quantization``.\n",
    "either in tensorflow: https://www.tensorflow.org/model_optimization/guide/quantization/post_training\n",
    "\n",
    "or on top of the exported ONNX model:\n",
    "https://onnxruntime.ai/docs/performance/model-optimizations/quantization.html\n",
    "\n",
    "``you need to set up a basic code that performs post-training quantization on a trained model, evaluated the speed and loss of physics performance\n",
    "``"
   ]
  },
  {
   "cell_type": "code",
   "execution_count": null,
   "id": "95b19769",
   "metadata": {},
   "outputs": [],
   "source": [
    "import "
   ]
  }
 ],
 "metadata": {
  "kernelspec": {
   "display_name": "Python 3 (ipykernel)",
   "language": "python",
   "name": "python3"
  },
  "language_info": {
   "codemirror_mode": {
    "name": "ipython",
    "version": 3
   },
   "file_extension": ".py",
   "mimetype": "text/x-python",
   "name": "python",
   "nbconvert_exporter": "python",
   "pygments_lexer": "ipython3",
   "version": "3.9.12"
  }
 },
 "nbformat": 4,
 "nbformat_minor": 5
}
