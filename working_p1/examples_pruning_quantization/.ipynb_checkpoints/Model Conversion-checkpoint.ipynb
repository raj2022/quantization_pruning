{
 "cells": [
  {
   "cell_type": "markdown",
   "id": "52fd7d49",
   "metadata": {},
   "source": [
    "The machine learning (ML) models you use with TensorFlow Lite are originally built and trained using TensorFlow core libraries and tools. Once you've built a model with TensorFlow core, you can convert it to a smaller, more efficient ML model format called a TensorFlow Lite model."
   ]
  },
  {
   "cell_type": "markdown",
   "id": "21d17e88",
   "metadata": {},
   "source": [
    "## Conversion Workflow"
   ]
  },
  {
   "cell_type": "markdown",
   "id": "2c1800d7",
   "metadata": {},
   "source": [
    "* Converting TensorFlow models to TensorFlow Lite format can take a few paths depending on the content of your ML model. As the first step of that process, you should evaluate your model to determine if it can be directly converted.\n",
    "* This evaluation determines if the content of the model is supported by the standard TensorFlow Lite runtime environments based on the TensorFlow operations it uses. If your model uses operations outside of the supported set, you have the option to refactor your model or use advanced conversion techniques"
   ]
  },
  {
   "cell_type": "markdown",
   "id": "2647b417",
   "metadata": {},
   "source": [
    "![tensorflow_converting](https://www.tensorflow.org/lite/images/convert/convert_workflow_diag.png)"
   ]
  },
  {
   "cell_type": "markdown",
   "id": "da00a966",
   "metadata": {},
   "source": [
    "There are a few models which we can use the converter with the follwoing input models formats:\n",
    "   * Saved model\n",
    "   * Keras model: A model created using the high level Keras API.\n",
    "   * Keras H5 format: A light-weight alternative to SavedModel format supported by Keras API.\n",
    "   * Models built from concrete functions: A model created using the low level TensorFlow API."
   ]
  },
  {
   "cell_type": "code",
   "execution_count": null,
   "id": "a833bfa3",
   "metadata": {},
   "outputs": [],
   "source": []
  }
 ],
 "metadata": {
  "kernelspec": {
   "display_name": "Python 3 (ipykernel)",
   "language": "python",
   "name": "python3"
  },
  "language_info": {
   "codemirror_mode": {
    "name": "ipython",
    "version": 3
   },
   "file_extension": ".py",
   "mimetype": "text/x-python",
   "name": "python",
   "nbconvert_exporter": "python",
   "pygments_lexer": "ipython3",
   "version": "3.9.12"
  }
 },
 "nbformat": 4,
 "nbformat_minor": 5
}
