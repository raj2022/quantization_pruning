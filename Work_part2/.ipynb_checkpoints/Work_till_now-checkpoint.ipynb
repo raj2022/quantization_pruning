{
 "cells": [
  {
   "cell_type": "markdown",
   "id": "12678dcf",
   "metadata": {},
   "source": [
    "Working on the Post-training quantization of the model and the subset of the dataset. \n",
    "* Working on the model already trained with the CMS dataset.\n",
    "* The model has been quantized using the `tf.lite.converter`\n",
    "* Further, we are working with sample of the dataset(100 for our case). \n",
    "* Quantizing the sample of dataset using INT8 quantization\n"
   ]
  },
  {
   "cell_type": "markdown",
   "id": "c8c78f63",
   "metadata": {},
   "source": [
    "As written on here, we were working on the stuff with the debugging of the model and working out the task. \n",
    "* Perform the quantization of the model\n",
    "* Convert all of the data \n",
    "* Put all stuff in a notebook along with the model interface."
   ]
  },
  {
   "cell_type": "markdown",
   "id": "cf482f43",
   "metadata": {},
   "source": [
    "## `Task`\n",
    "Standardize the P_T value before quantizing.\n",
    "\n",
    "Three P_T plots:\n",
    "\n",
    "Raw P_T (Number of particles vs P_T (GeV))\n",
    "P_T after standardization (X-axis should be arbitrary units)\n",
    "After int8 quantization. Centers at 0 and range should be between -127, 127)\n",
    "Upon standardization, there could be a few values which could be out of the range of (-127, 127). How to deal with the outliers? One of the methods is to put all of them in the last bin. Are there any other methods available?\n",
    "\n",
    "Fix bin size does not give resolution. We can lose information if we discard those outliers.\n",
    "\n",
    "Print the true and predicted P_T values. Should be in the INT8 range.\n",
    "\n",
    "Put on the distribution if it makes sense."
   ]
  },
  {
   "cell_type": "markdown",
   "id": "99fd99c9",
   "metadata": {},
   "source": [
    "We need to standradization to whole datasample which is 100 in our case.\n",
    "* Plot the datasample before and after standradization ??\n",
    "* Or do we only need to standradize the True P_T?\n",
    "* What type of output you have right now?"
   ]
  },
  {
   "cell_type": "markdown",
   "id": "08fd0d38",
   "metadata": {},
   "source": [
    "`The dataset contains input features and target features consist of different things like pT, eta, phi etc. so all of those need to be standardized and quantized separately. but you can start with just pT` Task:\n",
    "\n",
    "1. Since working only on the pT, quntize it after standradization. Further Check the plots before and after quantization.\n",
    "\n",
    "Quantize the dataset after stnadradization and then do the inference. Check the output plots"
   ]
  },
  {
   "cell_type": "code",
   "execution_count": 1,
   "id": "52af97f6",
   "metadata": {},
   "outputs": [
    {
     "name": "stderr",
     "output_type": "stream",
     "text": [
      "2024-01-17 19:07:17.350582: I tensorflow/core/platform/cpu_feature_guard.cc:182] This TensorFlow binary is optimized to use available CPU instructions in performance-critical operations.\n",
      "To enable the following instructions: AVX2 FMA, in other operations, rebuild TensorFlow with the appropriate compiler flags.\n"
     ]
    },
    {
     "name": "stdout",
     "output_type": "stream",
     "text": [
      "Welcome to JupyROOT 6.30/02\n"
     ]
    }
   ],
   "source": [
    "import tensorflow as tf\n",
    "import tensorflow_datasets as tfds\n",
    "\n",
    "%matplotlib inline\n",
    "import matplotlib.pyplot as plt\n",
    "import numpy as np\n",
    "import pandas as pd\n",
    "\n",
    "import ROOT "
   ]
  },
  {
   "cell_type": "code",
   "execution_count": 2,
   "id": "935f2edd",
   "metadata": {},
   "outputs": [],
   "source": [
    "import sys \n",
    "sys.path += [\"../../../MLPF/mlpf/particleflow/mlpf/\"]\n",
    "from tfmodel.model_setup import make_model\n",
    "from tfmodel.utils import parse_config"
   ]
  },
  {
   "cell_type": "code",
   "execution_count": 3,
   "id": "e76e3561",
   "metadata": {},
   "outputs": [],
   "source": [
    "config, _ = parse_config(\"../../../MLPF/mlpf/particleflow/parameters/clic.yaml\") #positions on the lxplus\n"
   ]
  },
  {
   "cell_type": "code",
   "execution_count": 4,
   "id": "825cf2bc",
   "metadata": {},
   "outputs": [],
   "source": [
    "\n",
    "model = make_model(config, tf.float32)\n",
    "model.build((1, None, config[\"dataset\"][\"num_input_features\"]))"
   ]
  },
  {
   "cell_type": "code",
   "execution_count": 5,
   "id": "25663786",
   "metadata": {},
   "outputs": [
    {
     "name": "stdout",
     "output_type": "stream",
     "text": [
      "Model: \"pf_net_dense\"\n",
      "_________________________________________________________________\n",
      " Layer (type)                Output Shape              Param #   \n",
      "=================================================================\n",
      " node_encoding (Sequential)  (1, None, 256)            70912     \n",
      "                                                                 \n",
      " input_encoding_clic (Input  multiple                  0         \n",
      " EncodingCLIC)                                                   \n",
      "                                                                 \n",
      " cg_id_0 (CombinedGraphLaye  multiple                  440128    \n",
      " r)                                                              \n",
      "                                                                 \n",
      " cg_id_1 (CombinedGraphLaye  multiple                  440128    \n",
      " r)                                                              \n",
      "                                                                 \n",
      " cg_id_2 (CombinedGraphLaye  multiple                  440128    \n",
      " r)                                                              \n",
      "                                                                 \n",
      " cg_id_3 (CombinedGraphLaye  multiple                  440128    \n",
      " r)                                                              \n",
      "                                                                 \n",
      " cg_id_4 (CombinedGraphLaye  multiple                  440128    \n",
      " r)                                                              \n",
      "                                                                 \n",
      " cg_id_5 (CombinedGraphLaye  multiple                  440128    \n",
      " r)                                                              \n",
      "                                                                 \n",
      " cg_reg_0 (CombinedGraphLay  multiple                  440128    \n",
      " er)                                                             \n",
      "                                                                 \n",
      " cg_reg_1 (CombinedGraphLay  multiple                  440128    \n",
      " er)                                                             \n",
      "                                                                 \n",
      " cg_reg_2 (CombinedGraphLay  multiple                  440128    \n",
      " er)                                                             \n",
      "                                                                 \n",
      " cg_reg_3 (CombinedGraphLay  multiple                  440128    \n",
      " er)                                                             \n",
      "                                                                 \n",
      " cg_reg_4 (CombinedGraphLay  multiple                  440128    \n",
      " er)                                                             \n",
      "                                                                 \n",
      " cg_reg_5 (CombinedGraphLay  multiple                  440128    \n",
      " er)                                                             \n",
      "                                                                 \n",
      " output_decoding (OutputDec  multiple                  269967    \n",
      " oding)                                                          \n",
      "                                                                 \n",
      "=================================================================\n",
      "Total params: 5622415 (21.45 MB)\n",
      "Trainable params: 5468815 (20.86 MB)\n",
      "Non-trainable params: 153600 (600.00 KB)\n",
      "_________________________________________________________________\n"
     ]
    }
   ],
   "source": [
    "model.summary()"
   ]
  },
  {
   "cell_type": "code",
   "execution_count": 6,
   "id": "a8b789ea",
   "metadata": {},
   "outputs": [],
   "source": [
    "model.load_weights(\"weights-96-5.346523.hdf5\", skip_mismatch=False, by_name=True)\n",
    "## These files hosted at https://huggingface.co/jpata/particleflow/tree/clic_clusters_v1.6"
   ]
  },
  {
   "cell_type": "code",
   "execution_count": 7,
   "id": "365ad42d",
   "metadata": {},
   "outputs": [],
   "source": [
    "## Reading the dataset\n",
    "ds_builder = tfds.builder(\"clic_edm_qq_pf\", data_dir = '../../../MLPF/mlpf/tensorflow_datasets/') # Tensorflow datsets positions in the lxplus\n",
    "dss = ds_builder.as_data_source(\"test\")"
   ]
  },
  {
   "cell_type": "code",
   "execution_count": 8,
   "id": "a68b0a5e",
   "metadata": {},
   "outputs": [],
   "source": [
    "def yield_from_ds():\n",
    "    for elem in dss:\n",
    "        yield {\"X\": elem[\"X\"], \"ygen\": elem[\"ygen\"], \"ycand\": elem[\"ycand\"]}"
   ]
  },
  {
   "cell_type": "code",
   "execution_count": 9,
   "id": "26e52288",
   "metadata": {},
   "outputs": [],
   "source": [
    "output_signature = {k: tf.TensorSpec(shape=(None, v.shape[1])) for (k, v) in dss.dataset_info.features.items()}\n",
    "tf_dataset = tf.data.Dataset.from_generator(yield_from_ds, output_signature=output_signature).take(100).padded_batch(batch_size=10)"
   ]
  },
  {
   "cell_type": "code",
   "execution_count": 10,
   "id": "55902dc9",
   "metadata": {},
   "outputs": [],
   "source": [
    "data = list(tfds.as_numpy(tf_dataset))\n"
   ]
  },
  {
   "cell_type": "code",
   "execution_count": 11,
   "id": "9224cb46",
   "metadata": {},
   "outputs": [],
   "source": [
    "Xs = [d[\"X\"] for d in data]\n",
    "ys = [d[\"ygen\"] for d in data]\n",
    "ycs= [d[\"ycand\"] for d in data]"
   ]
  },
  {
   "cell_type": "code",
   "execution_count": 12,
   "id": "1083eed8",
   "metadata": {},
   "outputs": [],
   "source": [
    "true_pts = []\n",
    "pred_pts = []\n",
    "\n",
    "for ibatch in range(len(Xs)):\n",
    "    ret = model(Xs[ibatch])\n",
    "\n",
    "    mask_true_particles = ys[ibatch][..., 0]!=0\n",
    "    \n",
    "    true_pt = ys[ibatch][mask_true_particles, 2]\n",
    "    pred_pt = ret[\"pt\"][mask_true_particles][..., 0].numpy()\n",
    "\n",
    "    true_pts.append(true_pt)\n",
    "    pred_pts.append(pred_pt)"
   ]
  },
  {
   "cell_type": "code",
   "execution_count": 13,
   "id": "33c78285",
   "metadata": {},
   "outputs": [],
   "source": [
    "true_pt = np.concatenate(true_pts)\n",
    "pred_pt = np.concatenate(pred_pts)"
   ]
  },
  {
   "cell_type": "code",
   "execution_count": 14,
   "id": "606af7bb",
   "metadata": {},
   "outputs": [
    {
     "data": {
      "image/png": "[encoded data removed]",
      "text/plain": [
       "<Figure size 432x288 with 1 Axes>"
      ]
     },
     "metadata": {
      "needs_background": "light"
     },
     "output_type": "display_data"
    }
   ],
   "source": [
    "plt.hist(pred_pt/true_pt, bins=np.linspace(0,3,100));\n",
    "plt.yscale(\"log\")"
   ]
  },
  {
   "cell_type": "code",
   "execution_count": null,
   "id": "34f5746b",
   "metadata": {},
   "outputs": [],
   "source": [
    "Task:-\n",
    "1. Standradize the input(why?)\n",
    "2. Further quantize the dataset and quantize the model.\n",
    "3. Measure the inference."
   ]
  },
  {
   "cell_type": "code",
   "execution_count": 15,
   "id": "286a031a",
   "metadata": {},
   "outputs": [],
   "source": [
    "true_pts_ygen = np.concatenate([d[\"ygen\"][:, 2] for d in data])\n",
    "true_pts_ycand = np.concatenate([d[\"ycand\"][:, 2] for d in data])"
   ]
  },
  {
   "cell_type": "code",
   "execution_count": 16,
   "id": "7a7df459",
   "metadata": {},
   "outputs": [
    {
     "name": "stdout",
     "output_type": "stream",
     "text": [
      "True pt from ygen: [[ 1.00000000e+00 -1.00000000e+00  3.91250396e+00  8.51751029e-01\n",
      "  -9.60166156e-01  2.79429704e-01  5.42142534e+00  1.00000000e+00]\n",
      " [ 1.00000000e+00 -1.00000000e+00  3.57476068e+00 -2.25394058e+00\n",
      "   9.75725949e-01 -2.18995124e-01  1.72133617e+01  1.00000000e+00]\n",
      " [ 1.00000000e+00  1.00000000e+00  1.27688611e+00  2.29832387e+00\n",
      "   2.75673121e-01  9.61251438e-01  6.42291737e+00  2.00000000e+00]\n",
      " [ 1.00000000e+00  1.00000000e+00  6.18536758e+00 -1.85006022e+00\n",
      "   8.25993717e-01  5.63679338e-01  2.01781788e+01  2.00000000e+00]\n",
      " [ 1.00000000e+00 -1.00000000e+00  9.67933083e+00 -8.46591949e-01\n",
      "  -8.92565370e-01 -4.50918049e-01  1.33609200e+01  3.00000000e+00]\n",
      " [ 1.00000000e+00  1.00000000e+00  8.60886192e+00  2.34120822e+00\n",
      "  -7.80091345e-01 -6.25665665e-01  4.51536942e+01  2.00000000e+00]\n",
      " [ 1.00000000e+00  1.00000000e+00  3.38208795e+00 -4.95963007e-01\n",
      "   9.03786659e-01 -4.27983284e-01  3.80920434e+00  1.00000000e+00]\n",
      " [ 1.00000000e+00  1.00000000e+00  6.98776913e+00  1.30071297e-01\n",
      "  -9.17337120e-01  3.98111314e-01  7.04834604e+00  1.00000000e+00]\n",
      " [ 1.00000000e+00  1.00000000e+00  5.34268188e+00  1.89011037e+00\n",
      "  -7.54588723e-01 -6.56198084e-01  1.80886002e+01  2.00000000e+00]\n",
      " [ 1.00000000e+00  1.00000000e+00  8.35609376e-01 -5.44688225e-01\n",
      "   8.42599034e-01  5.38541436e-01  9.72726047e-01  0.00000000e+00]\n",
      " [ 1.00000000e+00 -1.00000000e+00  3.33634555e-01  2.42627120e+00\n",
      "  -8.39562416e-01 -5.43263197e-01  1.96555412e+00  0.00000000e+00]\n",
      " [ 1.00000000e+00 -1.00000000e+00  1.54762926e+01  1.62347332e-01\n",
      "  -8.80322337e-01  4.74375963e-01  1.56813135e+01  3.00000000e+00]\n",
      " [ 1.00000000e+00  1.00000000e+00  3.54011250e+00  1.52685618e+00\n",
      "   8.18872452e-01  5.73975503e-01  8.53440285e+00  2.00000000e+00]\n",
      " [ 1.00000000e+00 -1.00000000e+00  1.15335169e+01 -1.02319002e+00\n",
      "  -5.29583395e-01  8.48257899e-01  1.81168213e+01  2.00000000e+00]\n",
      " [ 1.00000000e+00 -1.00000000e+00  5.77153587e+00  1.90230870e+00\n",
      "   6.88974932e-02  9.97623742e-01  1.97696552e+01  2.00000000e+00]\n",
      " [ 1.00000000e+00 -1.00000000e+00  8.50056362e+00  9.97234166e-01\n",
      "  -5.59624195e-01 -8.28746498e-01  1.30902185e+01  2.00000000e+00]\n",
      " [ 1.00000000e+00  1.00000000e+00  7.23129845e+00 -1.72206712e+00\n",
      "  -6.59020364e-01  7.52125084e-01  2.08800468e+01  2.00000000e+00]\n",
      " [ 1.00000000e+00 -1.00000000e+00  8.41508031e-01 -1.40360069e+00\n",
      "  -6.32965088e-01  7.74180353e-01  1.88169539e+00  0.00000000e+00]\n",
      " [ 1.00000000e+00 -1.00000000e+00  6.64052606e-01  1.33311200e+00\n",
      "  -8.16160917e-01  5.77824652e-01  1.35407150e+00  0.00000000e+00]\n",
      " [ 1.00000000e+00  1.00000000e+00  2.16913815e+01  3.01398158e-01\n",
      "  -5.53442597e-01  8.32887292e-01  2.26894646e+01  2.00000000e+00]\n",
      " [ 1.00000000e+00 -1.00000000e+00  1.40859709e+01  5.15339911e-01\n",
      "   9.90780652e-01 -1.35475874e-01  1.60057926e+01  3.00000000e+00]\n",
      " [ 1.00000000e+00  1.00000000e+00  3.24917459e+00  2.59912395e+00\n",
      "   8.58400941e-01  5.12979329e-01  2.19801769e+01  2.00000000e+00]\n",
      " [ 1.00000000e+00  1.00000000e+00  5.33797264e+00 -1.44674349e+00\n",
      "  -9.64210987e-01 -2.65136063e-01  1.19701223e+01  2.00000000e+00]\n",
      " [ 1.00000000e+00 -1.00000000e+00  7.55257130e+00  1.43160856e+00\n",
      "   6.92601621e-01  7.21320331e-01  1.67081947e+01  2.00000000e+00]\n",
      " [ 1.00000000e+00  1.00000000e+00  4.71012878e+00 -1.35522580e+00\n",
      "   4.02165204e-01 -9.15567100e-01  9.74042892e+00  2.00000000e+00]\n",
      " [ 1.00000000e+00  1.00000000e+00  6.52293634e+00 -1.64285600e+00\n",
      "   9.70639765e-01 -2.40537763e-01  1.74993305e+01  2.00000000e+00]\n",
      " [ 1.00000000e+00  1.00000000e+00  4.94336843e+00  1.17091250e+00\n",
      "  -9.79530871e-01 -2.01293945e-01  8.73856258e+00  1.00000000e+00]\n",
      " [ 1.00000000e+00  1.00000000e+00  5.01182985e+00 -2.06617689e+00\n",
      "  -9.47301388e-01  3.20343614e-01  2.01010628e+01  2.00000000e+00]\n",
      " [ 1.00000000e+00 -1.00000000e+00  1.03973951e+01  9.77729797e-01\n",
      "   8.12242031e-01  5.83320618e-01  1.57835770e+01  3.00000000e+00]\n",
      " [ 1.00000000e+00  1.00000000e+00  3.66736364e+00 -2.12820005e+00\n",
      "   4.77220975e-02  9.98860657e-01  1.56285419e+01  2.00000000e+00]\n",
      " [ 0.00000000e+00  0.00000000e+00  0.00000000e+00  0.00000000e+00\n",
      "   0.00000000e+00  0.00000000e+00  0.00000000e+00  0.00000000e+00]\n",
      " [ 1.00000000e+00  1.00000000e+00  3.05754495e+00  2.53663206e+00\n",
      "  -1.28968079e-02 -9.99916852e-01  1.94406338e+01  2.00000000e+00]\n",
      " [ 1.00000000e+00 -1.00000000e+00  5.77085400e+00  1.39893937e+00\n",
      "   7.14909136e-02 -9.97441232e-01  1.24016581e+01  2.00000000e+00]\n",
      " [ 1.00000000e+00  1.00000000e+00  3.59427047e+00  1.87028199e-01\n",
      "  -8.80897045e-01 -4.73307908e-01  3.65997887e+00  1.00000000e+00]\n",
      " [ 1.00000000e+00 -1.00000000e+00  1.33987880e+00 -2.03822279e+00\n",
      "  -5.28306723e-01 -8.49053621e-01  5.23222160e+00  2.00000000e+00]\n",
      " [ 1.00000000e+00 -1.00000000e+00  3.28508568e+00 -1.77545774e+00\n",
      "  -7.21521497e-01 -6.92391992e-01  9.97513485e+00  2.00000000e+00]\n",
      " [ 1.00000000e+00  1.00000000e+00  4.76078320e+00 -9.33229804e-01\n",
      "   2.09476173e-01 -9.77813780e-01  6.99019909e+00  1.00000000e+00]\n",
      " [ 1.00000000e+00  1.00000000e+00  3.55653214e+00 -1.82191753e+00\n",
      "   9.54907119e-01 -2.96904624e-01  1.12847080e+01  2.00000000e+00]\n",
      " [ 1.00000000e+00  1.00000000e+00  4.61425686e+00 -2.18678808e+00\n",
      "  -9.90300715e-01 -1.38940632e-01  2.08080845e+01  2.00000000e+00]\n",
      " [ 5.00000000e+00  1.00000000e+00  9.52551937e+00 -7.82603502e-01\n",
      "   9.76864755e-01  2.13858083e-01  1.25949574e+01  1.00000000e+00]\n",
      " [ 1.00000000e+00 -1.00000000e+00  7.03008461e+00 -2.44995594e-01\n",
      "  -6.68867171e-01  7.43381977e-01  7.24346972e+00  1.00000000e+00]\n",
      " [ 1.00000000e+00 -1.00000000e+00  9.46001720e+00 -1.31988549e+00\n",
      "  -3.48250084e-02  9.99393404e-01  1.89685993e+01  2.00000000e+00]\n",
      " [ 1.00000000e+00  1.00000000e+00  4.28558731e+00  2.29746675e+00\n",
      "  -9.08509433e-01 -4.17864382e-01  2.15343704e+01  2.00000000e+00]\n",
      " [ 1.00000000e+00  1.00000000e+00  7.69967222e+00 -2.35189176e+00\n",
      "  -2.83447325e-01  9.58987832e-01  4.08108673e+01  2.00000000e+00]\n",
      " [ 1.00000000e+00 -1.00000000e+00  1.16888237e+00 -2.43027949e+00\n",
      "   4.94425744e-01  8.69219840e-01  6.69334793e+00  2.00000000e+00]\n",
      " [ 1.00000000e+00  1.00000000e+00  5.75143623e+00 -8.55662704e-01\n",
      "   7.99047872e-02 -9.96802509e-01  7.98977613e+00  1.00000000e+00]\n",
      " [ 1.00000000e+00  1.00000000e+00  1.31419392e+01 -5.56485176e-01\n",
      "  -4.28737402e-02 -9.99080479e-01  1.52305069e+01  2.00000000e+00]\n",
      " [ 1.00000000e+00  1.00000000e+00  7.60609210e-01 -7.63984144e-01\n",
      "   7.98096478e-01 -6.02529645e-01  1.00334597e+00  1.00000000e+00]\n",
      " [ 1.00000000e+00  1.00000000e+00  1.64466591e+01 -1.15483487e+00\n",
      "  -8.88975382e-01  4.57955003e-01  2.86883221e+01  2.00000000e+00]\n",
      " [ 1.00000000e+00  1.00000000e+00  3.22331047e+00 -1.53630413e-02\n",
      "  -8.40642035e-01 -5.41591167e-01  3.22671080e+00  1.00000000e+00]\n",
      " [ 1.00000000e+00  1.00000000e+00  2.31449771e+00  1.97853506e+00\n",
      "  -8.27724099e-01  5.61135352e-01  8.53054333e+00  1.00000000e+00]\n",
      " [ 1.00000000e+00  1.00000000e+00  7.63536882e+00  1.47141623e+00\n",
      "  -9.49218810e-01  3.14616710e-01  1.75046368e+01  2.00000000e+00]\n",
      " [ 1.00000000e+00  1.00000000e+00  4.19833183e+00  4.52734023e-01\n",
      "   5.84175289e-01  8.11627507e-01  4.63809395e+00  1.00000000e+00]\n",
      " [ 1.00000000e+00 -1.00000000e+00  5.62492657e+00  1.73199952e+00\n",
      "   6.48413181e-01  7.61288583e-01  1.63940887e+01  2.00000000e+00]\n",
      " [ 1.00000000e+00 -1.00000000e+00  6.44464397e+00  6.26425207e-01\n",
      "  -9.57739770e-01 -2.87636012e-01  7.75226068e+00  1.00000000e+00]\n",
      " [ 1.00000000e+00 -1.00000000e+00  9.37784863e+00  1.34747267e+00\n",
      "  -1.58250704e-01  9.87398982e-01  1.92606621e+01  2.00000000e+00]\n",
      " [ 1.00000000e+00 -1.00000000e+00  4.31122923e+00  1.71582192e-01\n",
      "   6.05973788e-02 -9.98162270e-01  4.40261412e+00  1.00000000e+00]\n",
      " [ 1.00000000e+00  1.00000000e+00  5.38991117e+00  7.00996995e-01\n",
      "   1.71540026e-02 -9.99852836e-01  6.78730726e+00  1.00000000e+00]\n",
      " [ 1.00000000e+00  1.00000000e+00  1.00848093e+01 -8.51562247e-03\n",
      "   3.93061727e-01 -9.19512093e-01  1.00972500e+01  3.00000000e+00]\n",
      " [ 1.00000000e+00  1.00000000e+00  1.04022532e+01  1.07100594e+00\n",
      "   9.19952810e-01 -3.92029136e-01  1.69613304e+01  1.00000000e+00]\n",
      " [ 1.00000000e+00 -1.00000000e+00  1.78271961e+00 -2.11830354e+00\n",
      "  -1.12449788e-02  9.99936759e-01  7.52192116e+00  1.00000000e+00]\n",
      " [ 1.00000000e+00 -1.00000000e+00  1.04402027e+01 -1.11067319e+00\n",
      "  -3.32487196e-01 -9.43107784e-01  1.75700531e+01  1.00000000e+00]\n",
      " [ 1.00000000e+00 -1.00000000e+00  4.53061914e+00  1.84411430e+00\n",
      "   9.01816189e-01  4.32119787e-01  1.46813698e+01  2.00000000e+00]\n",
      " [ 1.00000000e+00 -1.00000000e+00  7.98455429e+00  2.61352754e+00\n",
      "   6.69979632e-01 -7.42379487e-01  5.47757530e+01  2.00000000e+00]\n",
      " [ 5.00000000e+00 -1.00000000e+00  1.87829037e+01 -5.85991263e-01\n",
      "  -7.10303187e-01 -7.03895867e-01  2.21013927e+01  1.00000000e+00]\n",
      " [ 1.00000000e+00 -1.00000000e+00  5.07121801e+00 -9.89277959e-01\n",
      "   7.28081644e-01 -6.85490429e-01  7.76310158e+00  2.00000000e+00]\n",
      " [ 1.00000000e+00  1.00000000e+00  4.86277199e+00  1.97104335e+00\n",
      "   9.96509194e-01 -8.34827870e-02  1.77921505e+01  2.00000000e+00]\n",
      " [ 1.00000000e+00 -1.00000000e+00  7.68482625e-01 -8.43655467e-01\n",
      "  -1.25971988e-01  9.92033780e-01  1.06774032e+00  0.00000000e+00]\n",
      " [ 1.00000000e+00 -1.00000000e+00  2.72794056e+01  3.03229183e-01\n",
      "  -6.53360784e-01 -7.57046700e-01  2.85435295e+01  2.00000000e+00]\n",
      " [ 1.00000000e+00  1.00000000e+00  5.11682558e+00  2.44903874e+00\n",
      "   1.51841313e-01 -9.88404870e-01  2.98443584e+01  2.00000000e+00]\n",
      " [ 5.00000000e+00 -1.00000000e+00  1.02648182e+01  5.04906237e-01\n",
      "  -9.78080928e-01  2.08225071e-01  1.16017389e+01  1.00000000e+00]\n",
      " [ 1.00000000e+00 -1.00000000e+00  3.26181030e+00 -1.09693909e+00\n",
      "  -3.97848904e-01 -9.17450964e-01  5.43087530e+00  1.00000000e+00]\n",
      " [ 1.00000000e+00  1.00000000e+00  3.38101959e+00 -2.24205136e+00\n",
      "   3.67895484e-01  9.29867148e-01  1.60923328e+01  2.00000000e+00]\n",
      " [ 1.00000000e+00  1.00000000e+00  4.24321079e+00 -9.01984096e-01\n",
      "   3.68628949e-02  9.99320328e-01  6.09114075e+00  1.00000000e+00]\n",
      " [ 1.00000000e+00 -1.00000000e+00  3.47259545e+00  1.28700364e+00\n",
      "   9.97217596e-01 -7.45453537e-02  6.78609514e+00  1.00000000e+00]\n",
      " [ 1.00000000e+00  1.00000000e+00  5.03798676e+00 -1.64642239e+00\n",
      "   8.01684499e-01  5.97747386e-01  1.35557318e+01  2.00000000e+00]\n",
      " [ 5.00000000e+00 -1.00000000e+00  2.53613973e+00 -1.63546789e+00\n",
      "  -7.06106663e-01 -7.08105445e-01  6.75547934e+00  2.00000000e+00]\n",
      " [ 1.00000000e+00 -1.00000000e+00  1.43045187e+00  2.44063973e+00\n",
      "  -9.97329295e-01 -7.30361193e-02  8.27454567e+00  2.00000000e+00]\n",
      " [ 1.00000000e+00  1.00000000e+00  5.73509550e+00 -1.39451027e+00\n",
      "  -9.96856093e-01 -7.92331621e-02  1.23116426e+01  1.00000000e+00]\n",
      " [ 1.00000000e+00 -1.00000000e+00  6.02391529e+00  1.80291963e+00\n",
      "   1.07915759e-01  9.94160056e-01  1.87714996e+01  3.00000000e+00]\n",
      " [ 1.00000000e+00  1.00000000e+00  1.66521156e+00  4.97549444e-01\n",
      "  -9.13912117e-01  4.05912161e-01  1.88080072e+00  1.00000000e+00]\n",
      " [ 1.00000000e+00 -1.00000000e+00  2.33981838e+01 -5.46244502e-01\n",
      "   2.51241714e-01  9.67924356e-01  2.69770222e+01  2.00000000e+00]\n",
      " [ 4.00000000e+00  1.00000000e+00  7.79226685e+00 -1.36276209e+00\n",
      "   5.24871826e-01 -8.51181269e-01  1.62193012e+01  1.00000000e+00]\n",
      " [ 1.00000000e+00 -1.00000000e+00  6.62514782e+00  3.65094811e-01\n",
      "  -7.57667720e-01 -6.52640522e-01  7.08883286e+00  1.00000000e+00]\n",
      " [ 1.00000000e+00  1.00000000e+00  1.03172054e+01  3.77171218e-01\n",
      "   3.29749078e-01 -9.44068611e-01  1.10606804e+01  2.00000000e+00]\n",
      " [ 1.00000000e+00 -1.00000000e+00  1.42475653e+01  1.34949386e-01\n",
      "   9.29059863e-01  3.69929403e-01  1.43781729e+01  2.00000000e+00]\n",
      " [ 1.00000000e+00  1.00000000e+00  3.13163948e+00  1.54256177e+00\n",
      "   9.94758368e-01  1.02253653e-01  7.65873766e+00  3.00000000e+00]\n",
      " [ 1.00000000e+00  1.00000000e+00  3.50750399e+00 -1.04009271e+00\n",
      "  -3.72726858e-01  9.27941084e-01  5.58376408e+00  2.00000000e+00]\n",
      " [ 1.00000000e+00  1.00000000e+00  2.24490237e+00  2.26150393e-01\n",
      "   8.95337999e-01  4.45387334e-01  2.30678034e+00  1.00000000e+00]\n",
      " [ 1.00000000e+00 -1.00000000e+00  7.57831049e+00  1.61227620e+00\n",
      "   5.13246059e-01  8.58241498e-01  1.97558022e+01  1.00000000e+00]\n",
      " [ 1.00000000e+00  1.00000000e+00  7.93349862e-01 -2.57821202e+00\n",
      "  -8.08448136e-01 -5.88567436e-01  5.25758600e+00  2.00000000e+00]\n",
      " [ 1.00000000e+00  1.00000000e+00  8.75705528e+00 -4.76253778e-01\n",
      "  -5.19130349e-01  8.54695082e-01  9.81405067e+00  1.00000000e+00]\n",
      " [ 1.00000000e+00  1.00000000e+00  6.42648458e+00 -4.41297233e-01\n",
      "   7.53919363e-01 -6.56966984e-01  7.06384230e+00  1.00000000e+00]\n",
      " [ 1.00000000e+00 -1.00000000e+00  1.28745890e+01  1.14014947e+00\n",
      "   4.74392742e-01  8.80313337e-01  2.21898384e+01  3.00000000e+00]\n",
      " [ 0.00000000e+00  0.00000000e+00  0.00000000e+00  0.00000000e+00\n",
      "   0.00000000e+00  0.00000000e+00  0.00000000e+00  0.00000000e+00]\n",
      " [ 1.00000000e+00 -1.00000000e+00  8.47631741e+00  1.45735598e+00\n",
      "   9.73590791e-01 -2.28300124e-01  1.91885204e+01  2.00000000e+00]\n",
      " [ 1.00000000e+00 -1.00000000e+00  6.96892166e+00  7.01834202e-01\n",
      "   9.98427033e-01 -5.60663491e-02  8.80700874e+00  1.00000000e+00]\n",
      " [ 1.00000000e+00 -1.00000000e+00  2.33717632e+00  1.84521651e+00\n",
      "   2.42010996e-01  9.70273495e-01  7.58245516e+00  2.00000000e+00]\n",
      " [ 1.00000000e+00  1.00000000e+00  5.17582750e+00 -1.76069319e+00\n",
      "  -9.47917879e-01 -3.18514824e-01  1.54980745e+01  2.00000000e+00]\n",
      " [ 1.00000000e+00 -1.00000000e+00  2.03524628e+01  4.88023877e-01\n",
      "  -9.59390223e-01  2.82082289e-01  2.28250217e+01  4.00000000e+00]]\n",
      "True pt from ycand: [[ 1.00000000e+00 -1.00000000e+00  3.90746784e+00  8.51917982e-01\n",
      "  -9.60035801e-01  2.79877216e-01  5.41507721e+00  1.00000000e+00]\n",
      " [ 1.00000000e+00 -1.00000000e+00  3.57800865e+00 -2.25423789e+00\n",
      "   9.75628316e-01 -2.19429657e-01  1.72340126e+01  1.00000000e+00]\n",
      " [ 1.00000000e+00  1.00000000e+00  1.29540586e+00  2.29837513e+00\n",
      "   2.76453972e-01  9.61027145e-01  6.51635647e+00  2.00000000e+00]\n",
      " [ 1.00000000e+00  1.00000000e+00  6.17052364e+00 -1.85022938e+00\n",
      "   8.25827062e-01  5.63923419e-01  2.01117001e+01  2.00000000e+00]\n",
      " [ 1.00000000e+00 -1.00000000e+00  9.66134548e+00 -8.46734285e-01\n",
      "  -8.92518818e-01 -4.51010197e-01  1.33374052e+01  3.00000000e+00]\n",
      " [ 0.00000000e+00  0.00000000e+00  0.00000000e+00  0.00000000e+00\n",
      "   0.00000000e+00  0.00000000e+00  0.00000000e+00  2.00000000e+00]\n",
      " [ 1.00000000e+00  1.00000000e+00  3.38613892e+00 -4.96241033e-01\n",
      "   9.03921425e-01 -4.27698612e-01  3.81424665e+00  1.00000000e+00]\n",
      " [ 1.00000000e+00  1.00000000e+00  7.00114441e+00  1.29869431e-01\n",
      "  -9.17303801e-01  3.98188084e-01  7.06164837e+00  1.00000000e+00]\n",
      " [ 1.00000000e+00  1.00000000e+00  5.29426479e+00  1.88952649e+00\n",
      "  -7.54620135e-01 -6.56161904e-01  1.79146881e+01  2.00000000e+00]\n",
      " [ 1.00000000e+00  1.00000000e+00  8.35008323e-01 -5.44375420e-01\n",
      "   8.42724264e-01  5.38345456e-01  9.71893013e-01  0.00000000e+00]\n",
      " [ 0.00000000e+00  0.00000000e+00  0.00000000e+00  0.00000000e+00\n",
      "   0.00000000e+00  0.00000000e+00  0.00000000e+00  0.00000000e+00]\n",
      " [ 1.00000000e+00 -1.00000000e+00  1.54987335e+01  1.62207022e-01\n",
      "  -8.80390286e-01  4.74249929e-01  1.57036963e+01  3.00000000e+00]\n",
      " [ 1.00000000e+00  1.00000000e+00  3.52508950e+00  1.52730811e+00\n",
      "   8.19287956e-01  5.73382258e-01  8.50168991e+00  2.00000000e+00]\n",
      " [ 1.00000000e+00 -1.00000000e+00  1.15359907e+01 -1.02339387e+00\n",
      "  -5.29409885e-01  8.48366141e-01  1.81235542e+01  2.00000000e+00]\n",
      " [ 1.00000000e+00 -1.00000000e+00  5.74828005e+00  1.90255046e+00\n",
      "   6.87944815e-02  9.97630835e-01  1.96945515e+01  2.00000000e+00]\n",
      " [ 1.00000000e+00 -1.00000000e+00  8.52721882e+00  9.97287929e-01\n",
      "  -5.59726179e-01 -8.28677654e-01  1.31317978e+01  2.00000000e+00]\n",
      " [ 1.00000000e+00  1.00000000e+00  7.21396685e+00 -1.72203505e+00\n",
      "  -6.58837020e-01  7.52285719e-01  2.08293762e+01  2.00000000e+00]\n",
      " [ 1.00000000e+00 -1.00000000e+00  8.45693946e-01 -1.40226841e+00\n",
      "  -6.32304251e-01  7.74720192e-01  1.82799566e+00  0.00000000e+00]\n",
      " [ 1.00000000e+00 -1.00000000e+00  6.61054373e-01  1.33304667e+00\n",
      "  -8.16971540e-01  5.76677918e-01  1.34794724e+00  0.00000000e+00]\n",
      " [ 1.00000000e+00  1.00000000e+00  2.17087803e+01  3.01541626e-01\n",
      "  -5.53539395e-01  8.32822978e-01  2.27036724e+01  2.00000000e+00]\n",
      " [ 1.00000000e+00 -1.00000000e+00  1.41061621e+01  5.15299320e-01\n",
      "   9.90807891e-01 -1.35276616e-01  1.60214081e+01  3.00000000e+00]\n",
      " [ 1.00000000e+00  1.00000000e+00  3.28188372e+00  2.60011554e+00\n",
      "   8.58702660e-01  5.12474179e-01  2.22180691e+01  2.00000000e+00]\n",
      " [ 1.00000000e+00  1.00000000e+00  5.32077646e+00 -1.44712579e+00\n",
      "  -9.64306235e-01 -2.64789492e-01  1.19356499e+01  2.00000000e+00]\n",
      " [ 1.00000000e+00 -1.00000000e+00  7.65091085e+00  1.43192053e+00\n",
      "   6.92614138e-01  7.21308291e-01  1.69304428e+01  2.00000000e+00]\n",
      " [ 1.00000000e+00  1.00000000e+00  4.69884014e+00 -1.35489106e+00\n",
      "   4.02168483e-01 -9.15565670e-01  9.71424294e+00  2.00000000e+00]\n",
      " [ 1.00000000e+00  1.00000000e+00  6.62420177e+00 -1.64318812e+00\n",
      "   9.70698833e-01 -2.40299284e-01  1.77699490e+01  2.00000000e+00]\n",
      " [ 1.00000000e+00  1.00000000e+00  4.91273689e+00  1.17089903e+00\n",
      "  -9.79718924e-01 -2.00376868e-01  8.68433094e+00  1.00000000e+00]\n",
      " [ 1.00000000e+00  1.00000000e+00  5.02988195e+00 -2.06613779e+00\n",
      "  -9.47456121e-01  3.19885790e-01  2.01726971e+01  2.00000000e+00]\n",
      " [ 1.00000000e+00 -1.00000000e+00  1.04078588e+01  9.76938546e-01\n",
      "   8.11892390e-01  5.83807170e-01  1.57829561e+01  3.00000000e+00]\n",
      " [ 1.00000000e+00  1.00000000e+00  3.65258551e+00 -2.12802196e+00\n",
      "   4.79583293e-02  9.98849332e-01  1.55557299e+01  2.00000000e+00]\n",
      " [ 2.00000000e+00  0.00000000e+00  5.50951600e-01 -1.98545575e+00\n",
      "  -6.55186713e-01 -7.55466998e-01  2.24955249e+00  0.00000000e+00]\n",
      " [ 1.00000000e+00  1.00000000e+00  3.06716633e+00  2.53631568e+00\n",
      "  -1.30820433e-02 -9.99914408e-01  1.94957123e+01  2.00000000e+00]\n",
      " [ 1.00000000e+00 -1.00000000e+00  5.76881647e+00  1.39877737e+00\n",
      "   7.12509602e-02 -9.97458398e-01  1.23955021e+01  2.00000000e+00]\n",
      " [ 1.00000000e+00  1.00000000e+00  3.60695815e+00  1.87356353e-01\n",
      "  -8.80990505e-01 -4.73133981e-01  3.67310262e+00  1.00000000e+00]\n",
      " [ 1.00000000e+00 -1.00000000e+00  1.36720586e+00 -2.03648353e+00\n",
      "  -5.26634455e-01 -8.50091875e-01  5.32989693e+00  2.00000000e+00]\n",
      " [ 1.00000000e+00 -1.00000000e+00  3.27517200e+00 -1.77606285e+00\n",
      "  -7.21688867e-01 -6.92217588e-01  9.95071983e+00  2.00000000e+00]\n",
      " [ 1.00000000e+00  1.00000000e+00  4.73292589e+00 -9.33183193e-01\n",
      "   2.09583640e-01 -9.77790713e-01  6.94907618e+00  1.00000000e+00]\n",
      " [ 1.00000000e+00  1.00000000e+00  3.60404849e+00 -1.82203460e+00\n",
      "   9.55357015e-01 -2.95453817e-01  1.14367228e+01  2.00000000e+00]\n",
      " [ 1.00000000e+00  1.00000000e+00  4.63650656e+00 -2.18700814e+00\n",
      "  -9.90286410e-01 -1.39042392e-01  2.09129009e+01  2.00000000e+00]\n",
      " [ 5.00000000e+00  1.00000000e+00  9.57109165e+00 -7.82673299e-01\n",
      "   9.76973653e-01  2.13359877e-01  1.26557884e+01  1.00000000e+00]\n",
      " [ 1.00000000e+00 -1.00000000e+00  7.01748323e+00 -2.45059848e-01\n",
      "  -6.68756843e-01  7.43481159e-01  7.23060226e+00  1.00000000e+00]\n",
      " [ 1.00000000e+00 -1.00000000e+00  9.50207329e+00 -1.31960654e+00\n",
      "  -3.51466797e-02  9.99382138e-01  1.90483170e+01  2.00000000e+00]\n",
      " [ 1.00000000e+00  1.00000000e+00  4.30614567e+00  2.29718637e+00\n",
      "  -9.08981562e-01 -4.16836351e-01  2.16317291e+01  2.00000000e+00]\n",
      " [ 0.00000000e+00  0.00000000e+00  0.00000000e+00  0.00000000e+00\n",
      "   0.00000000e+00  0.00000000e+00  0.00000000e+00  2.00000000e+00]\n",
      " [ 0.00000000e+00  0.00000000e+00  0.00000000e+00  0.00000000e+00\n",
      "   0.00000000e+00  0.00000000e+00  0.00000000e+00  2.00000000e+00]\n",
      " [ 1.00000000e+00  1.00000000e+00  5.75660133e+00 -8.55923176e-01\n",
      "   7.98967034e-02 -9.96803164e-01  7.99839449e+00  1.00000000e+00]\n",
      " [ 1.00000000e+00  1.00000000e+00  1.31394787e+01 -5.56702077e-01\n",
      "  -4.29218560e-02 -9.99078453e-01  1.52293253e+01  2.00000000e+00]\n",
      " [ 1.00000000e+00  1.00000000e+00  7.66368032e-01 -7.63613462e-01\n",
      "   7.98516631e-01 -6.01972759e-01  1.01055992e+00  1.00000000e+00]\n",
      " [ 1.00000000e+00  1.00000000e+00  1.65360832e+01 -1.15490663e+00\n",
      "  -8.89051259e-01  4.57807690e-01  2.88459988e+01  2.00000000e+00]\n",
      " [ 1.00000000e+00  1.00000000e+00  3.21933603e+00 -1.52997058e-02\n",
      "  -8.40639949e-01 -5.41594326e-01  3.22273636e+00  1.00000000e+00]\n",
      " [ 1.00000000e+00  1.00000000e+00  2.30514812e+00  1.97865665e+00\n",
      "  -8.28135252e-01  5.60528338e-01  8.49708652e+00  1.00000000e+00]\n",
      " [ 1.00000000e+00  1.00000000e+00  7.71385527e+00  1.47051239e+00\n",
      "  -9.49210763e-01  3.14640909e-01  1.76701851e+01  2.00000000e+00]\n",
      " [ 1.00000000e+00  1.00000000e+00  4.20092106e+00  4.53138709e-01\n",
      "   5.83920240e-01  8.11811030e-01  4.64174795e+00  1.00000000e+00]\n",
      " [ 4.00000000e+00 -1.00000000e+00  5.70306444e+00  1.73159707e+00\n",
      "   6.48045242e-01  7.61601806e-01  1.66149406e+01  2.00000000e+00]\n",
      " [ 1.00000000e+00 -1.00000000e+00  6.23976994e+00  6.26387060e-01\n",
      "  -9.57603514e-01 -2.88089484e-01  7.50574017e+00  1.00000000e+00]\n",
      " [ 1.00000000e+00 -1.00000000e+00  9.31927776e+00  1.34765077e+00\n",
      "  -1.58452183e-01  9.87366676e-01  1.91433506e+01  2.00000000e+00]\n",
      " [ 1.00000000e+00 -1.00000000e+00  4.32374477e+00  1.71424717e-01\n",
      "   6.05128966e-02 -9.98167396e-01  4.38964987e+00  1.00000000e+00]\n",
      " [ 1.00000000e+00  1.00000000e+00  5.39076853e+00  7.00691044e-01\n",
      "   1.69640109e-02 -9.99856114e-01  6.77059174e+00  1.00000000e+00]\n",
      " [ 1.00000000e+00  1.00000000e+00  1.00672302e+01 -8.25823098e-03\n",
      "   3.93124640e-01 -9.19485211e-01  1.00685406e+01  3.00000000e+00]\n",
      " [ 1.00000000e+00  1.00000000e+00  1.03395166e+01  1.07104897e+00\n",
      "   9.19967830e-01 -3.91993940e-01  1.68596153e+01  1.00000000e+00]\n",
      " [ 1.00000000e+00 -1.00000000e+00  1.79541993e+00 -2.11838794e+00\n",
      "  -1.45052904e-02  9.99894798e-01  7.57611227e+00  1.00000000e+00]\n",
      " [ 1.00000000e+00 -1.00000000e+00  1.04367561e+01 -1.11079192e+00\n",
      "  -3.32668871e-01 -9.43043709e-01  1.75659313e+01  1.00000000e+00]\n",
      " [ 1.00000000e+00 -1.00000000e+00  4.46963406e+00  1.84363258e+00\n",
      "   9.01347339e-01  4.33096975e-01  1.44771328e+01  2.00000000e+00]\n",
      " [ 1.00000000e+00 -1.00000000e+00  4.26882833e-01  2.61391091e+00\n",
      "   7.45101631e-01 -6.66950941e-01  2.93293166e+00  2.00000000e+00]\n",
      " [ 5.00000000e+00 -1.00000000e+00  1.88304062e+01 -5.86161196e-01\n",
      "  -7.10182667e-01 -7.04017460e-01  2.21592693e+01  1.00000000e+00]\n",
      " [ 1.00000000e+00 -1.00000000e+00  5.10357714e+00 -9.88530874e-01\n",
      "   7.28582025e-01 -6.84958577e-01  7.80820608e+00  2.00000000e+00]\n",
      " [ 1.00000000e+00  1.00000000e+00  4.86309147e+00  1.97169065e+00\n",
      "   9.96532142e-01 -8.32084864e-02  1.78043995e+01  2.00000000e+00]\n",
      " [ 1.00000000e+00 -1.00000000e+00  7.68824041e-01 -8.43242526e-01\n",
      "  -1.25839397e-01  9.92050648e-01  1.06790853e+00  0.00000000e+00]\n",
      " [ 1.00000000e+00 -1.00000000e+00  2.73054848e+01  3.03206593e-01\n",
      "  -6.53469443e-01 -7.56952882e-01  2.85706253e+01  2.00000000e+00]\n",
      " [ 1.00000000e+00  1.00000000e+00  5.17084122e+00  2.44961882e+00\n",
      "   1.52203277e-01 -9.88349199e-01  3.01728420e+01  2.00000000e+00]\n",
      " [ 5.00000000e+00 -1.00000000e+00  1.02947111e+01  5.04800916e-01\n",
      "  -9.78242576e-01  2.07464457e-01  1.16349516e+01  1.00000000e+00]\n",
      " [ 1.00000000e+00 -1.00000000e+00  3.27319670e+00 -1.09703195e+00\n",
      "  -3.98044884e-01 -9.17365909e-01  5.45022535e+00  1.00000000e+00]\n",
      " [ 1.00000000e+00  1.00000000e+00  3.43113780e+00 -2.24206042e+00\n",
      "   3.68032157e-01  9.29813087e-01  1.63310013e+01  2.00000000e+00]\n",
      " [ 1.00000000e+00  1.00000000e+00  4.23940468e+00 -9.02099669e-01\n",
      "   3.70927714e-02  9.99311805e-01  6.08618498e+00  1.00000000e+00]\n",
      " [ 1.00000000e+00 -1.00000000e+00  3.47000575e+00  1.28668153e+00\n",
      "   9.97291207e-01 -7.35544711e-02  6.76263762e+00  1.00000000e+00]\n",
      " [ 1.00000000e+00  1.00000000e+00  5.17091990e+00 -1.64674950e+00\n",
      "   8.01402986e-01  5.98124802e-01  1.39176035e+01  2.00000000e+00]\n",
      " [ 1.00000000e+00 -1.00000000e+00  2.54943895e+00 -1.63587403e+00\n",
      "  -7.06018209e-01 -7.08193660e-01  6.79406357e+00  2.00000000e+00]\n",
      " [ 0.00000000e+00  0.00000000e+00  0.00000000e+00  0.00000000e+00\n",
      "   0.00000000e+00  0.00000000e+00  0.00000000e+00  2.00000000e+00]\n",
      " [ 1.00000000e+00  1.00000000e+00  5.77352619e+00 -1.39474547e+00\n",
      "  -9.96847630e-01 -7.93399960e-02  1.23614559e+01  1.00000000e+00]\n",
      " [ 1.00000000e+00 -1.00000000e+00  6.05846691e+00  1.80303550e+00\n",
      "   1.08404219e-01  9.94106889e-01  1.88812332e+01  3.00000000e+00]\n",
      " [ 4.00000000e+00  1.00000000e+00  1.66592884e+00  4.96046841e-01\n",
      "  -9.13393021e-01  4.07078862e-01  1.87512755e+00  1.00000000e+00]\n",
      " [ 1.00000000e+00 -1.00000000e+00  2.34154949e+01 -5.46350539e-01\n",
      "   2.51219928e-01  9.67930019e-01  2.69984074e+01  2.00000000e+00]\n",
      " [ 4.00000000e+00  1.00000000e+00  7.63953400e+00 -1.36257851e+00\n",
      "   5.24869204e-01 -8.51182878e-01  1.58988361e+01  1.00000000e+00]\n",
      " [ 1.00000000e+00 -1.00000000e+00  6.63168669e+00  3.65021646e-01\n",
      "  -7.57682979e-01 -6.52622819e-01  7.07979584e+00  1.00000000e+00]\n",
      " [ 1.00000000e+00  1.00000000e+00  1.03046093e+01  3.77253056e-01\n",
      "   3.29867721e-01 -9.44027185e-01  1.10475035e+01  2.00000000e+00]\n",
      " [ 1.00000000e+00 -1.00000000e+00  1.42677393e+01  1.34995893e-01\n",
      "   9.29053605e-01  3.69945139e-01  1.43986206e+01  2.00000000e+00]\n",
      " [ 1.00000000e+00  1.00000000e+00  3.10736609e+00  1.54279923e+00\n",
      "   9.94911790e-01  1.00750118e-01  7.60104036e+00  3.00000000e+00]\n",
      " [ 1.00000000e+00  1.00000000e+00  3.50906277e+00 -1.03994262e+00\n",
      "  -3.72109056e-01  9.28189039e-01  5.58559227e+00  2.00000000e+00]\n",
      " [ 1.00000000e+00  1.00000000e+00  2.24271202e+00  2.25857720e-01\n",
      "   8.95552576e-01  4.44955766e-01  2.30438852e+00  1.00000000e+00]\n",
      " [ 1.00000000e+00 -1.00000000e+00  7.60809612e+00  1.61193788e+00\n",
      "   5.13499200e-01  8.58090043e-01  1.98272514e+01  1.00000000e+00]\n",
      " [ 0.00000000e+00  0.00000000e+00  0.00000000e+00  0.00000000e+00\n",
      "   0.00000000e+00  0.00000000e+00  0.00000000e+00  2.00000000e+00]\n",
      " [ 1.00000000e+00  1.00000000e+00  8.76568127e+00 -4.76285726e-01\n",
      "  -5.19023061e-01  8.54760230e-01  9.77985382e+00  1.00000000e+00]\n",
      " [ 1.00000000e+00  1.00000000e+00  6.44544268e+00 -4.41217422e-01\n",
      "   7.54016757e-01 -6.56855166e-01  7.08443785e+00  1.00000000e+00]\n",
      " [ 1.00000000e+00 -1.00000000e+00  1.29089298e+01  1.14021254e+00\n",
      "   4.74589556e-01  8.80207241e-01  2.22501659e+01  3.00000000e+00]\n",
      " [ 1.00000000e+00  1.00000000e+00  4.38161039e+00 -4.15388346e-01\n",
      "   6.35770261e-01 -7.71878362e-01  4.76713896e+00  0.00000000e+00]\n",
      " [ 1.00000000e+00 -1.00000000e+00  8.41238976e+00  1.45708406e+00\n",
      "   9.73600984e-01 -2.28256613e-01  1.90391636e+01  2.00000000e+00]\n",
      " [ 1.00000000e+00 -1.00000000e+00  6.96137524e+00  7.01575637e-01\n",
      "   9.98442113e-01 -5.57968803e-02  8.74714756e+00  1.00000000e+00]\n",
      " [ 1.00000000e+00 -1.00000000e+00  2.34293127e+00  1.84432352e+00\n",
      "   2.41598949e-01  9.70376194e-01  7.59466743e+00  2.00000000e+00]\n",
      " [ 1.00000000e+00  1.00000000e+00  5.11949253e+00 -1.76063240e+00\n",
      "  -9.47688997e-01 -3.19195211e-01  1.53285255e+01  2.00000000e+00]\n",
      " [ 1.00000000e+00 -1.00000000e+00  2.03609352e+01  4.88245875e-01\n",
      "  -9.59502757e-01  2.81699240e-01  2.28368168e+01  4.00000000e+00]]\n"
     ]
    }
   ],
   "source": [
    "\n",
    "print(\"True pt from ygen:\", true_pts_ygen)\n",
    "print(\"True pt from ycand:\", true_pts_ycand)"
   ]
  },
  {
   "cell_type": "code",
   "execution_count": 17,
   "id": "de4b47ed",
   "metadata": {},
   "outputs": [
    {
     "name": "stdout",
     "output_type": "stream",
     "text": [
      "(100, 8)\n",
      "(100, 8)\n"
     ]
    }
   ],
   "source": [
    "print(true_pts_ygen.shape)\n",
    "print(true_pts_ycand.shape)"
   ]
  },
  {
   "cell_type": "code",
   "execution_count": 18,
   "id": "5dcab60a",
   "metadata": {},
   "outputs": [],
   "source": [
    "flat_true_pts_ygen = true_pts_ygen.flatten()\n",
    "flat_true_pts_ycand = true_pts_ycand.flatten()"
   ]
  },
  {
   "cell_type": "code",
   "execution_count": 19,
   "id": "23b5ba18",
   "metadata": {},
   "outputs": [
    {
     "data": {
      "image/png": "[encoded data removed]",
      "text/plain": [
       "<IPython.core.display.Image object>"
      ]
     },
     "metadata": {},
     "output_type": "display_data"
    }
   ],
   "source": [
    "hist_ygen = ROOT.TH1F(\"hist_ygen\", \"True pT from ygen\", 100, 0, 100)\n",
    "hist_ycand = ROOT.TH1F(\"hist_ycand\", \"True pT from ycand\", 100, 0, 100)\n",
    "\n",
    "\n",
    "# Fill histograms with 'pt' values\n",
    "for value in flat_true_pts_ygen:\n",
    "    hist_ygen.Fill(value)\n",
    "\n",
    "for value in flat_true_pts_ycand:\n",
    "    hist_ycand.Fill(value)\n",
    "\n",
    "    \n",
    "canvas = ROOT.TCanvas(\"canvas\", \"True pt Comparison\", 800, 600)\n",
    "\n",
    "hist_ygen.Draw()\n",
    "hist_ygen.SetTitle(\"\")\n",
    "hist_ygen.SetLineColor(ROOT.kBlue)\n",
    "hist_ygen.GetXaxis().SetTitle(\"pT(GeV/c)\")\n",
    "hist_ygen.GetYaxis().SetTitle(\"Count\")\n",
    "\n",
    "hist_ycand.Draw(\"SAME\")\n",
    "hist_ycand.SetLineColor(ROOT.kRed)\n",
    "  \n",
    "legend = ROOT.TLegend(0.6, 0.77, 0.75, 0.9)\n",
    "legend.AddEntry(hist_ygen, \" pT from ygen\", \"l\")\n",
    "legend.AddEntry(hist_ycand, \" pT from ycand\", \"l\")\n",
    "legend.Draw(\"SAME\")\n",
    "\n",
    "canvas.Draw()\n"
   ]
  },
  {
   "cell_type": "markdown",
   "id": "2d213a34",
   "metadata": {},
   "source": [
    "## Standardize `pT` values\n",
    "\n"
   ]
  },
  {
   "cell_type": "code",
   "execution_count": 20,
   "id": "4af694ac",
   "metadata": {},
   "outputs": [],
   "source": [
    "mean_ygen = np.mean(flat_true_pts_ygen)\n",
    "std_ygen = np.std(flat_true_pts_ygen)\n",
    "\n",
    "standardized_true_pts_ygen = (flat_true_pts_ygen - mean_ygen) / std_ygen\n",
    "\n",
    "mean_ycand = np.mean(flat_true_pts_ycand)\n",
    "std_ycand = np.std(flat_true_pts_ycand)\n",
    "\n",
    "standardized_true_pts_ycand = (flat_true_pts_ycand - mean_ycand) / std_ycand"
   ]
  },
  {
   "cell_type": "code",
   "execution_count": 21,
   "id": "30b5e4d5",
   "metadata": {},
   "outputs": [
    {
     "name": "stderr",
     "output_type": "stream",
     "text": [
      "Warning in <TCanvas::Constructor>: Deleting canvas with same name: canvas\n"
     ]
    },
    {
     "data": {
      "image/png": "[encoded data removed]",
      "text/plain": [
       "<IPython.core.display.Image object>"
      ]
     },
     "metadata": {},
     "output_type": "display_data"
    }
   ],
   "source": [
    "hist_ygen_standardized = ROOT.TH1F(\"hist_ygen_standardized\", \"Standardized True pt from ygen\", 100, -3, 3)\n",
    "hist_ycand_standardized = ROOT.TH1F(\"hist_ycand_standardized\", \"Standardized True pt from ycand\", 100, -3, 3)\n",
    "\n",
    "for value in standardized_true_pts_ygen:\n",
    "    hist_ygen_standardized.Fill(value)\n",
    "\n",
    "for value in standardized_true_pts_ycand:\n",
    "    hist_ycand_standardized.Fill(value)\n",
    "    \n",
    "    \n",
    "canvas = ROOT.TCanvas(\"canvas\", \"True pt Comparison\", 800, 600)\n",
    "\n",
    "hist_ygen_standardized.Draw()\n",
    "hist_ygen_standardized.SetTitle(\"Standradized pT\")\n",
    "hist_ygen_standardized.SetLineColor(ROOT.kBlue)\n",
    "# hist_ygen_standardized.GetXaxis().SetTitle(\"pT(GeV/c)\")\n",
    "hist_ygen_standardized.GetYaxis().SetTitle(\"Count\")\n",
    "\n",
    "hist_ycand_standardized.Draw(\"SAME\")\n",
    "hist_ycand_standardized.SetLineColor(ROOT.kRed)\n",
    "  \n",
    "legend = ROOT.TLegend(0.6, 0.77, 0.75, 0.9)\n",
    "legend.AddEntry(hist_ygen, \" ygen\", \"l\")\n",
    "legend.AddEntry(hist_ycand, \"ycand \", \"l\")\n",
    "legend.Draw(\"SAME\")\n",
    "\n",
    "canvas.Draw()"
   ]
  },
  {
   "cell_type": "markdown",
   "id": "aca1fb31",
   "metadata": {},
   "source": [
    "quantizing the input data"
   ]
  },
  {
   "cell_type": "code",
   "execution_count": 22,
   "id": "87ab14d0",
   "metadata": {},
   "outputs": [],
   "source": [
    "scale_factor_ygen = np.max(np.abs(standardized_true_pts_ygen)) / 127.0\n",
    "quantized_true_pts_ygen = (standardized_true_pts_ygen / scale_factor_ygen).astype(np.int8)\n",
    "\n",
    "scale_factor_ycand = np.max(np.abs(standardized_true_pts_ycand)) / 127.0\n",
    "quantized_true_pts_ycand = (standardized_true_pts_ycand / scale_factor_ycand).astype(np.int8)\n"
   ]
  },
  {
   "cell_type": "code",
   "execution_count": 23,
   "id": "af64cbf0",
   "metadata": {},
   "outputs": [
    {
     "data": {
      "image/png": "[encoded data removed]",
      "text/plain": [
       "<IPython.core.display.Image object>"
      ]
     },
     "metadata": {},
     "output_type": "display_data"
    }
   ],
   "source": [
    "hist_ygen_quantized = ROOT.TH1F(\"hist_ygen_quantized\", \"\", 100, -128, 128)\n",
    "hist_ycand_quantized = ROOT.TH1F(\"hist_ycand_quantized\", \"Quantized Standardized True pt from ycand\", 100, -128, 128)\n",
    "\n",
    "# Fill histograms with quantized standardized 'pt' values\n",
    "for value in quantized_true_pts_ygen:\n",
    "    hist_ygen_quantized.Fill(value)\n",
    "\n",
    "for value in quantized_true_pts_ycand:\n",
    "    hist_ycand_quantized.Fill(value)\n",
    "    \n",
    "    \n",
    "# Create canvas and draw histograms\n",
    "canvas_quantized = ROOT.TCanvas(\"canvas_quantized\", \"Quantized Standardized True pt Comparison\", 800, 600)\n",
    "\n",
    "hist_ygen_quantized.Draw()\n",
    "# hist_ygen_quantized.SetTitle(\"Quantized Standardized True pt Comparison\")\n",
    "hist_ygen_quantized.SetLineColor(ROOT.kBlue)\n",
    "# hist_ygen_quantized.GetXaxis().SetTitle(\"Quantized pt\")\n",
    "hist_ygen_quantized.GetYaxis().SetTitle(\"Count\")\n",
    "\n",
    "hist_ycand_quantized.Draw(\"SAME\")\n",
    "hist_ycand_quantized.SetLineColor(ROOT.kRed)\n",
    "\n",
    "# Add a legend\n",
    "legend_quantized = ROOT.TLegend(0.65, 0.79, 0.78, 0.9)\n",
    "legend_quantized.AddEntry(hist_ygen_quantized, \"Quantized pT ygen\", \"l\")\n",
    "legend_quantized.AddEntry(hist_ycand_quantized, \"Quantized pT ycand\", \"l\")\n",
    "legend_quantized.Draw(\"SAME\")\n",
    "\n",
    "# Show the canvas\n",
    "canvas_quantized.Draw()"
   ]
  },
  {
   "cell_type": "markdown",
   "id": "c9264f4e",
   "metadata": {},
   "source": [
    "Quantizing the model"
   ]
  },
  {
   "cell_type": "markdown",
   "id": "fcd5113b",
   "metadata": {},
   "source": [
    "**Questions**\n",
    "1. Which type of quantization we need to do?\n",
    "2. Which is the best quantization for the dataset?\n",
    "3. How can we use the inference and measure it?\n"
   ]
  },
  {
   "cell_type": "code",
   "execution_count": null,
   "id": "a7018c03",
   "metadata": {},
   "outputs": [],
   "source": []
  }
 ],
 "metadata": {
  "kernelspec": {
   "display_name": "Python 3 (ipykernel)",
   "language": "python",
   "name": "python3"
  },
  "language_info": {
   "codemirror_mode": {
    "name": "ipython",
    "version": 3
   },
   "file_extension": ".py",
   "mimetype": "text/x-python",
   "name": "python",
   "nbconvert_exporter": "python",
   "pygments_lexer": "ipython3",
   "version": "3.9.12"
  }
 },
 "nbformat": 4,
 "nbformat_minor": 5
}
