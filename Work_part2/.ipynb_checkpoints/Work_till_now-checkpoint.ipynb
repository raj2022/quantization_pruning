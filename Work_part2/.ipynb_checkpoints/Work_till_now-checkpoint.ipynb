{
 "cells": [
  {
   "cell_type": "markdown",
   "id": "12678dcf",
   "metadata": {},
   "source": [
    "Working on the Post-training quantization of the model and the subset of the dataset. \n",
    "* Working on the model already trained with the CMS dataset.\n",
    "* The model has been quantized using the `tf.lite.converter`\n",
    "* Further, we are working with sample of the dataset(100 for our case). \n",
    "* Quantizing the sample of dataset using INT8 quantization\n"
   ]
  },
  {
   "cell_type": "markdown",
   "id": "c8c78f63",
   "metadata": {},
   "source": [
    "As written on here, we were working on the stuff with the debugging of the model and working out the task. \n",
    "* Perform the quantization of the model\n",
    "* Convert all of the data \n",
    "* Put all stuff in a notebook along with the model interface."
   ]
  },
  {
   "cell_type": "markdown",
   "id": "cf482f43",
   "metadata": {},
   "source": [
    "## `Task`\n",
    "Standardize the P_T value before quantizing.\n",
    "\n",
    "Three P_T plots:\n",
    "\n",
    "Raw P_T (Number of particles vs P_T (GeV))\n",
    "P_T after standardization (X-axis should be arbitrary units)\n",
    "After int8 quantization. Centers at 0 and range should be between -127, 127)\n",
    "Upon standardization, there could be a few values which could be out of the range of (-127, 127). How to deal with the outliers? One of the methods is to put all of them in the last bin. Are there any other methods available?\n",
    "\n",
    "Fix bin size does not give resolution. We can lose information if we discard those outliers.\n",
    "\n",
    "Print the true and predicted P_T values. Should be in the INT8 range.\n",
    "\n",
    "Put on the distribution if it makes sense."
   ]
  },
  {
   "cell_type": "markdown",
   "id": "99fd99c9",
   "metadata": {},
   "source": [
    "We need to standradization to whole datasample which is 100 in our case.\n",
    "* Plot the datasample before and after standradization ??\n",
    "* Or do we only need to standradize the True P_T?\n",
    "* What type of output you have right now?"
   ]
  },
  {
   "cell_type": "markdown",
   "id": "08fd0d38",
   "metadata": {},
   "source": [
    "`The dataset contains input features and target features consist of different things like pT, eta, phi etc. so all of those need to be standardized and quantized separately. but you can start with just pT` Task:\n",
    "\n",
    "1. Since working only on the pT, quntize it after standradization. Further Check the plots before and after quantization.\n",
    "\n",
    "Quantize the dataset after stnadradization and then do the inference. Check the output plots"
   ]
  },
  {
   "cell_type": "code",
   "execution_count": 1,
   "id": "52af97f6",
   "metadata": {},
   "outputs": [
    {
     "name": "stderr",
     "output_type": "stream",
     "text": [
      "2024-01-20 09:57:53.917957: I tensorflow/core/platform/cpu_feature_guard.cc:182] This TensorFlow binary is optimized to use available CPU instructions in performance-critical operations.\n",
      "To enable the following instructions: AVX2 FMA, in other operations, rebuild TensorFlow with the appropriate compiler flags.\n"
     ]
    },
    {
     "name": "stdout",
     "output_type": "stream",
     "text": [
      "Welcome to JupyROOT 6.30/02\n"
     ]
    }
   ],
   "source": [
    "import tensorflow as tf\n",
    "import tensorflow_datasets as tfds\n",
    "\n",
    "%matplotlib inline\n",
    "import matplotlib.pyplot as plt\n",
    "import numpy as np\n",
    "import pandas as pd\n",
    "\n",
    "import pathlib\n",
    "\n",
    "import ROOT "
   ]
  },
  {
   "cell_type": "code",
   "execution_count": 2,
   "id": "935f2edd",
   "metadata": {},
   "outputs": [],
   "source": [
    "import sys \n",
    "sys.path += [\"../../../MLPF/mlpf/particleflow/mlpf/\"]\n",
    "from tfmodel.model_setup import make_model\n",
    "from tfmodel.utils import parse_config"
   ]
  },
  {
   "cell_type": "code",
   "execution_count": 3,
   "id": "e76e3561",
   "metadata": {},
   "outputs": [],
   "source": [
    "config, _ = parse_config(\"../../../MLPF/mlpf/particleflow/parameters/clic.yaml\") #positions on the lxplus\n"
   ]
  },
  {
   "cell_type": "code",
   "execution_count": 4,
   "id": "825cf2bc",
   "metadata": {},
   "outputs": [],
   "source": [
    "\n",
    "model = make_model(config, tf.float32)\n",
    "model.build((1, None, config[\"dataset\"][\"num_input_features\"]))"
   ]
  },
  {
   "cell_type": "code",
   "execution_count": 5,
   "id": "25663786",
   "metadata": {},
   "outputs": [
    {
     "name": "stdout",
     "output_type": "stream",
     "text": [
      "Model: \"pf_net_dense\"\n",
      "_________________________________________________________________\n",
      " Layer (type)                Output Shape              Param #   \n",
      "=================================================================\n",
      " node_encoding (Sequential)  (1, None, 256)            70912     \n",
      "                                                                 \n",
      " input_encoding_clic (Input  multiple                  0         \n",
      " EncodingCLIC)                                                   \n",
      "                                                                 \n",
      " cg_id_0 (CombinedGraphLaye  multiple                  440128    \n",
      " r)                                                              \n",
      "                                                                 \n",
      " cg_id_1 (CombinedGraphLaye  multiple                  440128    \n",
      " r)                                                              \n",
      "                                                                 \n",
      " cg_id_2 (CombinedGraphLaye  multiple                  440128    \n",
      " r)                                                              \n",
      "                                                                 \n",
      " cg_id_3 (CombinedGraphLaye  multiple                  440128    \n",
      " r)                                                              \n",
      "                                                                 \n",
      " cg_id_4 (CombinedGraphLaye  multiple                  440128    \n",
      " r)                                                              \n",
      "                                                                 \n",
      " cg_id_5 (CombinedGraphLaye  multiple                  440128    \n",
      " r)                                                              \n",
      "                                                                 \n",
      " cg_reg_0 (CombinedGraphLay  multiple                  440128    \n",
      " er)                                                             \n",
      "                                                                 \n",
      " cg_reg_1 (CombinedGraphLay  multiple                  440128    \n",
      " er)                                                             \n",
      "                                                                 \n",
      " cg_reg_2 (CombinedGraphLay  multiple                  440128    \n",
      " er)                                                             \n",
      "                                                                 \n",
      " cg_reg_3 (CombinedGraphLay  multiple                  440128    \n",
      " er)                                                             \n",
      "                                                                 \n",
      " cg_reg_4 (CombinedGraphLay  multiple                  440128    \n",
      " er)                                                             \n",
      "                                                                 \n",
      " cg_reg_5 (CombinedGraphLay  multiple                  440128    \n",
      " er)                                                             \n",
      "                                                                 \n",
      " output_decoding (OutputDec  multiple                  269967    \n",
      " oding)                                                          \n",
      "                                                                 \n",
      "=================================================================\n",
      "Total params: 5622415 (21.45 MB)\n",
      "Trainable params: 5468815 (20.86 MB)\n",
      "Non-trainable params: 153600 (600.00 KB)\n",
      "_________________________________________________________________\n"
     ]
    }
   ],
   "source": [
    "model.summary()"
   ]
  },
  {
   "cell_type": "code",
   "execution_count": 6,
   "id": "a8b789ea",
   "metadata": {},
   "outputs": [],
   "source": [
    "model.load_weights(\"weights-96-5.346523.hdf5\", skip_mismatch=False, by_name=True)\n",
    "## These files hosted at https://huggingface.co/jpata/particleflow/tree/clic_clusters_v1.6"
   ]
  },
  {
   "cell_type": "code",
   "execution_count": 7,
   "id": "365ad42d",
   "metadata": {},
   "outputs": [],
   "source": [
    "## Reading the dataset\n",
    "ds_builder = tfds.builder(\"clic_edm_qq_pf\", data_dir = '../../../MLPF/mlpf/tensorflow_datasets/') # Tensorflow datsets positions in the lxplus\n",
    "dss = ds_builder.as_data_source(\"test\")"
   ]
  },
  {
   "cell_type": "code",
   "execution_count": 8,
   "id": "a68b0a5e",
   "metadata": {},
   "outputs": [],
   "source": [
    "def yield_from_ds():\n",
    "    for elem in dss:\n",
    "        yield {\"X\": elem[\"X\"], \"ygen\": elem[\"ygen\"], \"ycand\": elem[\"ycand\"]}"
   ]
  },
  {
   "cell_type": "code",
   "execution_count": 9,
   "id": "26e52288",
   "metadata": {},
   "outputs": [],
   "source": [
    "output_signature = {k: tf.TensorSpec(shape=(None, v.shape[1])) for (k, v) in dss.dataset_info.features.items()}\n",
    "tf_dataset = tf.data.Dataset.from_generator(yield_from_ds, output_signature=output_signature).take(100).padded_batch(batch_size=10)"
   ]
  },
  {
   "cell_type": "code",
   "execution_count": 10,
   "id": "55902dc9",
   "metadata": {},
   "outputs": [],
   "source": [
    "data = list(tfds.as_numpy(tf_dataset))\n"
   ]
  },
  {
   "cell_type": "code",
   "execution_count": 11,
   "id": "9224cb46",
   "metadata": {},
   "outputs": [],
   "source": [
    "Xs = [d[\"X\"] for d in data]\n",
    "ys = [d[\"ygen\"] for d in data]\n",
    "ycs= [d[\"ycand\"] for d in data]"
   ]
  },
  {
   "cell_type": "code",
   "execution_count": 12,
   "id": "1083eed8",
   "metadata": {},
   "outputs": [],
   "source": [
    "true_pts = []\n",
    "pred_pts = []\n",
    "\n",
    "for ibatch in range(len(Xs)):\n",
    "    ret = model(Xs[ibatch])\n",
    "\n",
    "    mask_true_particles = ys[ibatch][..., 0]!=0\n",
    "    \n",
    "    true_pt = ys[ibatch][mask_true_particles, 2]\n",
    "    pred_pt = ret[\"pt\"][mask_true_particles][..., 0].numpy()\n",
    "\n",
    "    true_pts.append(true_pt)\n",
    "    pred_pts.append(pred_pt)"
   ]
  },
  {
   "cell_type": "code",
   "execution_count": 13,
   "id": "33c78285",
   "metadata": {},
   "outputs": [],
   "source": [
    "true_pt = np.concatenate(true_pts)\n",
    "pred_pt = np.concatenate(pred_pts)"
   ]
  },
  {
   "cell_type": "code",
   "execution_count": 14,
   "id": "606af7bb",
   "metadata": {},
   "outputs": [
    {
     "data": {
      "image/png": "[encoded data removed]",
      "text/plain": [
       "<Figure size 432x288 with 1 Axes>"
      ]
     },
     "metadata": {
      "needs_background": "light"
     },
     "output_type": "display_data"
    }
   ],
   "source": [
    "plt.hist(pred_pt/true_pt, bins=np.linspace(0,3,100));\n",
    "plt.yscale(\"log\")"
   ]
  },
  {
   "cell_type": "markdown",
   "id": "eb186069",
   "metadata": {},
   "source": [
    "Task:-\n",
    "1. Standradize the input(why?)\n",
    "2. Further quantize the dataset and quantize the model.\n",
    "3. Measure the inference."
   ]
  },
  {
   "cell_type": "code",
   "execution_count": 66,
   "id": "286a031a",
   "metadata": {},
   "outputs": [],
   "source": [
    "true_pts_ygen = np.concatenate([d[\"ygen\"][:, 2] for d in data])\n",
    "true_pts_ycand = np.concatenate([d[\"ycand\"][:, 2] for d in data])"
   ]
  },
  {
   "cell_type": "code",
   "execution_count": 67,
   "id": "7a7df459",
   "metadata": {},
   "outputs": [
    {
     "name": "stdout",
     "output_type": "stream",
     "text": [
      "True pt from ygen: [[ 1.         -1.          3.912504   ...  0.2794297   5.4214253\n",
      "   1.        ]\n",
      " [ 1.         -1.          3.5747607  ... -0.21899512 17.213362\n",
      "   1.        ]\n",
      " [ 1.          1.          1.2768861  ...  0.96125144  6.4229174\n",
      "   2.        ]\n",
      " ...\n",
      " [ 1.          1.         18.949972   ... -0.3932065  19.047638\n",
      "   1.        ]\n",
      " [ 1.          1.          2.1189034  ... -0.87120706  2.8638105\n",
      "   1.        ]\n",
      " [ 1.          1.          1.2229903  ... -0.45318934  1.4499177\n",
      "   1.        ]]\n",
      "True pt from ycand: [[ 1.         -1.          3.9074678  ...  0.27987722  5.415077\n",
      "   1.        ]\n",
      " [ 1.         -1.          3.5780087  ... -0.21942966 17.234013\n",
      "   1.        ]\n",
      " [ 1.          1.          1.2954059  ...  0.96102715  6.5163565\n",
      "   2.        ]\n",
      " ...\n",
      " [ 1.          1.         18.992432   ... -0.39313987 19.090733\n",
      "   1.        ]\n",
      " [ 1.          1.          2.11212    ... -0.8705858   2.8562477\n",
      "   1.        ]\n",
      " [ 1.          1.          1.2277218  ... -0.45341504  1.4557285\n",
      "   1.        ]]\n"
     ]
    }
   ],
   "source": [
    "\n",
    "print(\"True pt from ygen:\", true_pts_ygen)\n",
    "print(\"True pt from ycand:\", true_pts_ycand)"
   ]
  },
  {
   "cell_type": "code",
   "execution_count": 68,
   "id": "de4b47ed",
   "metadata": {},
   "outputs": [
    {
     "name": "stdout",
     "output_type": "stream",
     "text": [
      "(1000, 8)\n",
      "(1000, 8)\n"
     ]
    }
   ],
   "source": [
    "print(true_pts_ygen.shape)\n",
    "print(true_pts_ycand.shape)"
   ]
  },
  {
   "cell_type": "code",
   "execution_count": 69,
   "id": "5dcab60a",
   "metadata": {},
   "outputs": [],
   "source": [
    "flat_true_pts_ygen = true_pts_ygen.flatten()\n",
    "flat_true_pts_ycand = true_pts_ycand.flatten()"
   ]
  },
  {
   "cell_type": "code",
   "execution_count": 70,
   "id": "23b5ba18",
   "metadata": {},
   "outputs": [
    {
     "name": "stderr",
     "output_type": "stream",
     "text": [
      "Warning in <TROOT::Append>: Replacing existing TH1: hist_ygen (Potential memory leak).\n",
      "Warning in <TROOT::Append>: Replacing existing TH1: hist_ycand (Potential memory leak).\n",
      "Warning in <TCanvas::Constructor>: Deleting canvas with same name: canvas\n"
     ]
    },
    {
     "data": {
      "image/png": "[encoded data removed]",
      "text/plain": [
       "<IPython.core.display.Image object>"
      ]
     },
     "metadata": {},
     "output_type": "display_data"
    }
   ],
   "source": [
    "hist_ygen = ROOT.TH1F(\"hist_ygen\", \"True pT from ygen\", 100, 0, 100)\n",
    "hist_ycand = ROOT.TH1F(\"hist_ycand\", \"True pT from ycand\", 100, 0, 100)\n",
    "\n",
    "\n",
    "# Fill histograms with 'pt' values\n",
    "for value in flat_true_pts_ygen:\n",
    "    hist_ygen.Fill(value)\n",
    "\n",
    "for value in flat_true_pts_ycand:\n",
    "    hist_ycand.Fill(value)\n",
    "\n",
    "    \n",
    "canvas = ROOT.TCanvas(\"canvas\", \"True pt Comparison\", 800, 600)\n",
    "\n",
    "hist_ygen.Draw()\n",
    "hist_ygen.SetTitle(\"\")\n",
    "hist_ygen.SetLineColor(ROOT.kBlue)\n",
    "hist_ygen.GetXaxis().SetTitle(\"pT(GeV/c)\")\n",
    "hist_ygen.GetYaxis().SetTitle(\"Count\")\n",
    "\n",
    "hist_ycand.Draw(\"SAME\")\n",
    "hist_ycand.SetLineColor(ROOT.kRed)\n",
    "  \n",
    "legend = ROOT.TLegend(0.6, 0.77, 0.75, 0.9)\n",
    "legend.AddEntry(hist_ygen, \" pT from ygen\", \"l\")\n",
    "legend.AddEntry(hist_ycand, \" pT from ycand\", \"l\")\n",
    "legend.Draw(\"SAME\")\n",
    "\n",
    "canvas.Draw()\n"
   ]
  },
  {
   "cell_type": "markdown",
   "id": "2d213a34",
   "metadata": {},
   "source": [
    "## Standardize `pT` values\n",
    "\n"
   ]
  },
  {
   "cell_type": "code",
   "execution_count": 71,
   "id": "4af694ac",
   "metadata": {},
   "outputs": [],
   "source": [
    "mean_ygen = np.mean(flat_true_pts_ygen)\n",
    "std_ygen = np.std(flat_true_pts_ygen)\n",
    "\n",
    "standardized_true_pts_ygen = (flat_true_pts_ygen - mean_ygen) / std_ygen\n",
    "\n",
    "mean_ycand = np.mean(flat_true_pts_ycand)\n",
    "std_ycand = np.std(flat_true_pts_ycand)\n",
    "\n",
    "standardized_true_pts_ycand = (flat_true_pts_ycand - mean_ycand) / std_ycand"
   ]
  },
  {
   "cell_type": "code",
   "execution_count": 72,
   "id": "30b5e4d5",
   "metadata": {},
   "outputs": [
    {
     "name": "stderr",
     "output_type": "stream",
     "text": [
      "Warning in <TROOT::Append>: Replacing existing TH1: hist_ygen_standardized (Potential memory leak).\n",
      "Warning in <TROOT::Append>: Replacing existing TH1: hist_ycand_standardized (Potential memory leak).\n",
      "Warning in <TCanvas::Constructor>: Deleting canvas with same name: canvas\n"
     ]
    },
    {
     "data": {
      "image/png": "[encoded data removed]",
      "text/plain": [
       "<IPython.core.display.Image object>"
      ]
     },
     "metadata": {},
     "output_type": "display_data"
    }
   ],
   "source": [
    "hist_ygen_standardized = ROOT.TH1F(\"hist_ygen_standardized\", \"Standardized True pt from ygen\", 100, -3, 3)\n",
    "hist_ycand_standardized = ROOT.TH1F(\"hist_ycand_standardized\", \"Standardized True pt from ycand\", 100, -3, 3)\n",
    "\n",
    "for value in standardized_true_pts_ygen:\n",
    "    hist_ygen_standardized.Fill(value)\n",
    "\n",
    "for value in standardized_true_pts_ycand:\n",
    "    hist_ycand_standardized.Fill(value)\n",
    "    \n",
    "    \n",
    "canvas = ROOT.TCanvas(\"canvas\", \"True pt Comparison\", 800, 600)\n",
    "\n",
    "hist_ygen_standardized.Draw()\n",
    "hist_ygen_standardized.SetTitle(\"Standradized pT\")\n",
    "hist_ygen_standardized.SetLineColor(ROOT.kBlue)\n",
    "# hist_ygen_standardized.GetXaxis().SetTitle(\"pT(GeV/c)\")\n",
    "hist_ygen_standardized.GetYaxis().SetTitle(\"Count\")\n",
    "\n",
    "hist_ycand_standardized.Draw(\"SAME\")\n",
    "hist_ycand_standardized.SetLineColor(ROOT.kRed)\n",
    "  \n",
    "legend = ROOT.TLegend(0.6, 0.77, 0.75, 0.9)\n",
    "legend.AddEntry(hist_ygen, \" ygen\", \"l\")\n",
    "legend.AddEntry(hist_ycand, \"ycand \", \"l\")\n",
    "legend.Draw(\"SAME\")\n",
    "\n",
    "canvas.Draw()"
   ]
  },
  {
   "cell_type": "markdown",
   "id": "aca1fb31",
   "metadata": {},
   "source": [
    "quantizing the input data"
   ]
  },
  {
   "cell_type": "code",
   "execution_count": 73,
   "id": "87ab14d0",
   "metadata": {},
   "outputs": [],
   "source": [
    "scale_factor_ygen = np.max(np.abs(standardized_true_pts_ygen)) / 127.0\n",
    "quantized_true_pts_ygen = (standardized_true_pts_ygen / scale_factor_ygen).astype(np.int8)\n",
    "\n",
    "scale_factor_ycand = np.max(np.abs(standardized_true_pts_ycand)) / 127.0\n",
    "quantized_true_pts_ycand = (standardized_true_pts_ycand / scale_factor_ycand).astype(np.int8)\n"
   ]
  },
  {
   "cell_type": "code",
   "execution_count": 74,
   "id": "af64cbf0",
   "metadata": {},
   "outputs": [
    {
     "name": "stderr",
     "output_type": "stream",
     "text": [
      "Warning in <TROOT::Append>: Replacing existing TH1: hist_ygen_quantized (Potential memory leak).\n",
      "Warning in <TROOT::Append>: Replacing existing TH1: hist_ycand_quantized (Potential memory leak).\n",
      "Warning in <TCanvas::Constructor>: Deleting canvas with same name: canvas_quantized\n"
     ]
    },
    {
     "data": {
      "image/png": "[encoded data removed]",
      "text/plain": [
       "<IPython.core.display.Image object>"
      ]
     },
     "metadata": {},
     "output_type": "display_data"
    }
   ],
   "source": [
    "hist_ygen_quantized = ROOT.TH1F(\"hist_ygen_quantized\", \"\", 100, -128, 128)\n",
    "hist_ycand_quantized = ROOT.TH1F(\"hist_ycand_quantized\", \"Quantized Standardized True pt from ycand\", 100, -128, 128)\n",
    "\n",
    "# Fill histograms with quantized standardized 'pt' values\n",
    "for value in quantized_true_pts_ygen:\n",
    "    hist_ygen_quantized.Fill(value)\n",
    "\n",
    "for value in quantized_true_pts_ycand:\n",
    "    hist_ycand_quantized.Fill(value)\n",
    "    \n",
    "    \n",
    "# Create canvas and draw histograms\n",
    "canvas_quantized = ROOT.TCanvas(\"canvas_quantized\", \"Quantized Standardized True pt Comparison\", 800, 600)\n",
    "\n",
    "hist_ygen_quantized.Draw()\n",
    "# hist_ygen_quantized.SetTitle(\"Quantized Standardized True pt Comparison\")\n",
    "hist_ygen_quantized.SetLineColor(ROOT.kBlue)\n",
    "# hist_ygen_quantized.GetXaxis().SetTitle(\"Quantized pt\")\n",
    "hist_ygen_quantized.GetYaxis().SetTitle(\"Count\")\n",
    "\n",
    "hist_ycand_quantized.Draw(\"SAME\")\n",
    "hist_ycand_quantized.SetLineColor(ROOT.kRed)\n",
    "\n",
    "# Add a legend\n",
    "legend_quantized = ROOT.TLegend(0.65, 0.79, 0.78, 0.9)\n",
    "legend_quantized.AddEntry(hist_ygen_quantized, \"Quantized pT ygen\", \"l\")\n",
    "legend_quantized.AddEntry(hist_ycand_quantized, \"Quantized pT ycand\", \"l\")\n",
    "legend_quantized.Draw(\"SAME\")\n",
    "\n",
    "# Show the canvas\n",
    "canvas_quantized.Draw()"
   ]
  },
  {
   "cell_type": "markdown",
   "id": "c9264f4e",
   "metadata": {},
   "source": [
    "Quantizing the model"
   ]
  },
  {
   "cell_type": "markdown",
   "id": "fcd5113b",
   "metadata": {},
   "source": [
    "**Questions**\n",
    "1. Which type of quantization we need to do?\n",
    "2. Which is the best quantization for the dataset?\n",
    "3. How can we use the inference and measure it?\n"
   ]
  },
  {
   "cell_type": "markdown",
   "id": "0efac648",
   "metadata": {},
   "source": [
    "We can start with the Post-training dynamic range quantization and then if can get success we can move to integer quantization and float16 quantization."
   ]
  },
  {
   "cell_type": "markdown",
   "id": "977366ba",
   "metadata": {},
   "source": [
    "Using the TensorFlow Lite Converter, you can now convert the trained model into a TensorFlow Lite model.\n",
    "\n"
   ]
  },
  {
   "cell_type": "code",
   "execution_count": 75,
   "id": "4fc8bb47",
   "metadata": {},
   "outputs": [
    {
     "name": "stderr",
     "output_type": "stream",
     "text": [
      "2024-01-20 02:24:55.733944: W tensorflow/compiler/mlir/lite/python/tf_tfl_flatbuffer_helpers.cc:364] Ignored output_format.\n",
      "2024-01-20 02:24:55.733982: W tensorflow/compiler/mlir/lite/python/tf_tfl_flatbuffer_helpers.cc:367] Ignored drop_control_dependency.\n",
      "2024-01-20 02:24:55.734189: I tensorflow/cc/saved_model/reader.cc:45] Reading SavedModel from: /tmp/sraj/tmpbglaxz5u\n",
      "2024-01-20 02:24:55.782456: I tensorflow/cc/saved_model/reader.cc:91] Reading meta graph with tags { serve }\n",
      "2024-01-20 02:24:55.782497: I tensorflow/cc/saved_model/reader.cc:132] Reading SavedModel debug info (if present) from: /tmp/sraj/tmpbglaxz5u\n",
      "2024-01-20 02:24:55.953423: I tensorflow/cc/saved_model/loader.cc:231] Restoring SavedModel bundle.\n",
      "2024-01-20 02:24:56.550547: I tensorflow/cc/saved_model/loader.cc:215] Running initialization op on SavedModel bundle at path: /tmp/sraj/tmpbglaxz5u\n",
      "2024-01-20 02:24:56.928030: I tensorflow/cc/saved_model/loader.cc:314] SavedModel load for tags { serve }; Status: success: OK. Took 1193841 microseconds.\n"
     ]
    }
   ],
   "source": [
    "converter = tf.lite.TFLiteConverter.from_keras_model(model)\n",
    "tflite_model = converter.convert()\n"
   ]
  },
  {
   "cell_type": "markdown",
   "id": "d6d5a30b",
   "metadata": {},
   "source": [
    "Write it out to a tflite file:\n",
    "\n"
   ]
  },
  {
   "cell_type": "code",
   "execution_count": 76,
   "id": "e9a8a6ea",
   "metadata": {},
   "outputs": [],
   "source": [
    "tflite_models_dir = pathlib.Path(\"/tmp/working1_tflite_models/\")\n",
    "tflite_models_dir.mkdir(exist_ok=True, parents=True)"
   ]
  },
  {
   "cell_type": "code",
   "execution_count": 77,
   "id": "fe53d0b1",
   "metadata": {},
   "outputs": [
    {
     "data": {
      "text/plain": [
       "22305380"
      ]
     },
     "execution_count": 77,
     "metadata": {},
     "output_type": "execute_result"
    }
   ],
   "source": [
    "tflite_model_file = tflite_models_dir/\"working1_tflite_models.tflite\"\n",
    "tflite_model_file.write_bytes(tflite_model)"
   ]
  },
  {
   "cell_type": "markdown",
   "id": "979148a4",
   "metadata": {},
   "source": [
    "To quantize the model on export, set the optimizations flag to optimize for size:\n",
    "\n"
   ]
  },
  {
   "cell_type": "code",
   "execution_count": 78,
   "id": "08680c46",
   "metadata": {},
   "outputs": [
    {
     "data": {
      "text/plain": [
       "5963072"
      ]
     },
     "execution_count": 78,
     "metadata": {},
     "output_type": "execute_result"
    },
    {
     "name": "stderr",
     "output_type": "stream",
     "text": [
      "2024-01-20 02:25:48.725571: W tensorflow/compiler/mlir/lite/python/tf_tfl_flatbuffer_helpers.cc:364] Ignored output_format.\n",
      "2024-01-20 02:25:48.725614: W tensorflow/compiler/mlir/lite/python/tf_tfl_flatbuffer_helpers.cc:367] Ignored drop_control_dependency.\n",
      "2024-01-20 02:25:48.725822: I tensorflow/cc/saved_model/reader.cc:45] Reading SavedModel from: /tmp/sraj/tmpfdyd27ou\n",
      "2024-01-20 02:25:48.837617: I tensorflow/cc/saved_model/reader.cc:91] Reading meta graph with tags { serve }\n",
      "2024-01-20 02:25:48.837660: I tensorflow/cc/saved_model/reader.cc:132] Reading SavedModel debug info (if present) from: /tmp/sraj/tmpfdyd27ou\n",
      "2024-01-20 02:25:49.093713: I tensorflow/cc/saved_model/loader.cc:231] Restoring SavedModel bundle.\n",
      "2024-01-20 02:25:49.754300: I tensorflow/cc/saved_model/loader.cc:215] Running initialization op on SavedModel bundle at path: /tmp/sraj/tmpfdyd27ou\n",
      "2024-01-20 02:25:50.168904: I tensorflow/cc/saved_model/loader.cc:314] SavedModel load for tags { serve }; Status: success: OK. Took 1443082 microseconds.\n"
     ]
    }
   ],
   "source": [
    "converter.optimizations = [tf.lite.Optimize.DEFAULT]\n",
    "tflite_quant_model = converter.convert()\n",
    "tflite_model_quant_file = tflite_models_dir/\"working_model_quant.tflite\"\n",
    "tflite_model_quant_file.write_bytes(tflite_quant_model)"
   ]
  },
  {
   "cell_type": "markdown",
   "id": "4956c192",
   "metadata": {},
   "source": [
    "Note how the resulting file, is approximately 1/4 the size.\n",
    "\n"
   ]
  },
  {
   "cell_type": "code",
   "execution_count": 79,
   "id": "7bbd3bf2",
   "metadata": {},
   "outputs": [
    {
     "name": "stdout",
     "output_type": "stream",
     "text": [
      "total 27M\r\n",
      "-rw-r--r--. 1 sraj zh  22M Jan 20 02:25 working1_tflite_models.tflite\r\n",
      "-rw-r--r--. 1 sraj zh 5.7M Jan 20 02:25 working_model_quant.tflite\r\n"
     ]
    }
   ],
   "source": [
    "ls -lh {tflite_models_dir}"
   ]
  },
  {
   "cell_type": "markdown",
   "id": "a6ee44f5",
   "metadata": {},
   "source": [
    "Task is to run the TFLite models"
   ]
  },
  {
   "cell_type": "code",
   "execution_count": 80,
   "id": "35b33272",
   "metadata": {},
   "outputs": [],
   "source": [
    "# Load the model into an interpreter\n",
    "interpreter = tf.lite.Interpreter(model_path=str(tflite_model_file))\n",
    "interpreter.allocate_tensors()"
   ]
  },
  {
   "cell_type": "code",
   "execution_count": 81,
   "id": "b5ad26d1",
   "metadata": {},
   "outputs": [],
   "source": [
    "interpreter_quant = tf.lite.Interpreter(model_path=str(tflite_model_quant_file))\n",
    "interpreter_quant.allocate_tensors()"
   ]
  },
  {
   "cell_type": "markdown",
   "id": "9bc61794",
   "metadata": {},
   "source": [
    "Test the model on the quantized data "
   ]
  },
  {
   "cell_type": "markdown",
   "id": "8b9aa548",
   "metadata": {},
   "source": [
    "https://www.tensorflow.org/lite/performance/post_training_quant"
   ]
  },
  {
   "cell_type": "code",
   "execution_count": 82,
   "id": "cf2d04e4",
   "metadata": {},
   "outputs": [],
   "source": [
    "# Load the quantized model into an interpreter\n",
    "interpreter_quant = tf.lite.Interpreter(model_path=str(tflite_model_quant_file))\n",
    "interpreter_quant.allocate_tensors()\n"
   ]
  },
  {
   "cell_type": "code",
   "execution_count": 83,
   "id": "ee24bc5a",
   "metadata": {},
   "outputs": [
    {
     "name": "stdout",
     "output_type": "stream",
     "text": [
      "Expected Input Shape: [  1 111  17]\n"
     ]
    }
   ],
   "source": [
    "#Print Expected Input Shape:\n",
    "print(\"Expected Input Shape:\", interpreter_quant.get_input_details()[0]['shape'])\n"
   ]
  },
  {
   "cell_type": "code",
   "execution_count": 84,
   "id": "474eafe5",
   "metadata": {},
   "outputs": [
    {
     "name": "stdout",
     "output_type": "stream",
     "text": [
      "Current Input Data Shape: (1, 111, 17)\n"
     ]
    }
   ],
   "source": [
    "print(\"Current Input Data Shape:\", input_data.shape)\n"
   ]
  },
  {
   "cell_type": "code",
   "execution_count": 85,
   "id": "3ab095fa",
   "metadata": {},
   "outputs": [
    {
     "ename": "ValueError",
     "evalue": "operands could not be broadcast together with remapped shapes [original->remapped]: (2,2)  and requested shape (3,2)",
     "output_type": "error",
     "traceback": [
      "\u001b[0;31m---------------------------------------------------------------------------\u001b[0m",
      "\u001b[0;31mValueError\u001b[0m                                Traceback (most recent call last)",
      "\u001b[0;32m/tmp/sraj/ipykernel_1023373/574403476.py\u001b[0m in \u001b[0;36m<module>\u001b[0;34m\u001b[0m\n\u001b[1;32m      1\u001b[0m \u001b[0;31m# Reshape and pad the input data\u001b[0m\u001b[0;34m\u001b[0m\u001b[0;34m\u001b[0m\u001b[0m\n\u001b[0;32m----> 2\u001b[0;31m \u001b[0mpadded_input_data\u001b[0m \u001b[0;34m=\u001b[0m \u001b[0mnp\u001b[0m\u001b[0;34m.\u001b[0m\u001b[0mpad\u001b[0m\u001b[0;34m(\u001b[0m\u001b[0minput_data\u001b[0m\u001b[0;34m,\u001b[0m \u001b[0;34m(\u001b[0m\u001b[0;34m(\u001b[0m\u001b[0;36m0\u001b[0m\u001b[0;34m,\u001b[0m \u001b[0;36m111\u001b[0m \u001b[0;34m-\u001b[0m \u001b[0;36m65\u001b[0m\u001b[0;34m)\u001b[0m\u001b[0;34m,\u001b[0m \u001b[0;34m(\u001b[0m\u001b[0;36m0\u001b[0m\u001b[0;34m,\u001b[0m \u001b[0;36m0\u001b[0m\u001b[0;34m)\u001b[0m\u001b[0;34m)\u001b[0m\u001b[0;34m,\u001b[0m \u001b[0mmode\u001b[0m\u001b[0;34m=\u001b[0m\u001b[0;34m'constant'\u001b[0m\u001b[0;34m,\u001b[0m \u001b[0mconstant_values\u001b[0m\u001b[0;34m=\u001b[0m\u001b[0;36m0\u001b[0m\u001b[0;34m)\u001b[0m\u001b[0;34m\u001b[0m\u001b[0;34m\u001b[0m\u001b[0m\n\u001b[0m\u001b[1;32m      3\u001b[0m \u001b[0;31m# Truncate the input data\u001b[0m\u001b[0;34m\u001b[0m\u001b[0;34m\u001b[0m\u001b[0m\n\u001b[1;32m      4\u001b[0m \u001b[0mtruncated_input_data\u001b[0m \u001b[0;34m=\u001b[0m \u001b[0minput_data\u001b[0m\u001b[0;34m[\u001b[0m\u001b[0;34m:\u001b[0m\u001b[0;36m111\u001b[0m\u001b[0;34m,\u001b[0m \u001b[0;34m:\u001b[0m\u001b[0;34m]\u001b[0m\u001b[0;34m\u001b[0m\u001b[0;34m\u001b[0m\u001b[0m\n",
      "\u001b[0;32m/cvmfs/sft.cern.ch/lcg/views/LCG_105/x86_64-el9-gcc13-opt/lib/python3.9/site-packages/numpy/core/overrides.py\u001b[0m in \u001b[0;36mpad\u001b[0;34m(*args, **kwargs)\u001b[0m\n",
      "\u001b[0;32m/cvmfs/sft.cern.ch/lcg/views/LCG_105/x86_64-el9-gcc13-opt/lib/python3.9/site-packages/numpy/lib/arraypad.py\u001b[0m in \u001b[0;36mpad\u001b[0;34m(array, pad_width, mode, **kwargs)\u001b[0m\n\u001b[1;32m    741\u001b[0m \u001b[0;34m\u001b[0m\u001b[0m\n\u001b[1;32m    742\u001b[0m     \u001b[0;31m# Broadcast to shape (array.ndim, 2)\u001b[0m\u001b[0;34m\u001b[0m\u001b[0;34m\u001b[0m\u001b[0m\n\u001b[0;32m--> 743\u001b[0;31m     \u001b[0mpad_width\u001b[0m \u001b[0;34m=\u001b[0m \u001b[0m_as_pairs\u001b[0m\u001b[0;34m(\u001b[0m\u001b[0mpad_width\u001b[0m\u001b[0;34m,\u001b[0m \u001b[0marray\u001b[0m\u001b[0;34m.\u001b[0m\u001b[0mndim\u001b[0m\u001b[0;34m,\u001b[0m \u001b[0mas_index\u001b[0m\u001b[0;34m=\u001b[0m\u001b[0;32mTrue\u001b[0m\u001b[0;34m)\u001b[0m\u001b[0;34m\u001b[0m\u001b[0;34m\u001b[0m\u001b[0m\n\u001b[0m\u001b[1;32m    744\u001b[0m \u001b[0;34m\u001b[0m\u001b[0m\n\u001b[1;32m    745\u001b[0m     \u001b[0;32mif\u001b[0m \u001b[0mcallable\u001b[0m\u001b[0;34m(\u001b[0m\u001b[0mmode\u001b[0m\u001b[0;34m)\u001b[0m\u001b[0;34m:\u001b[0m\u001b[0;34m\u001b[0m\u001b[0;34m\u001b[0m\u001b[0m\n",
      "\u001b[0;32m/cvmfs/sft.cern.ch/lcg/views/LCG_105/x86_64-el9-gcc13-opt/lib/python3.9/site-packages/numpy/lib/arraypad.py\u001b[0m in \u001b[0;36m_as_pairs\u001b[0;34m(x, ndim, as_index)\u001b[0m\n\u001b[1;32m    516\u001b[0m     \u001b[0;31m# Converting the array with `tolist` seems to improve performance\u001b[0m\u001b[0;34m\u001b[0m\u001b[0;34m\u001b[0m\u001b[0m\n\u001b[1;32m    517\u001b[0m     \u001b[0;31m# when iterating and indexing the result (see usage in `pad`)\u001b[0m\u001b[0;34m\u001b[0m\u001b[0;34m\u001b[0m\u001b[0m\n\u001b[0;32m--> 518\u001b[0;31m     \u001b[0;32mreturn\u001b[0m \u001b[0mnp\u001b[0m\u001b[0;34m.\u001b[0m\u001b[0mbroadcast_to\u001b[0m\u001b[0;34m(\u001b[0m\u001b[0mx\u001b[0m\u001b[0;34m,\u001b[0m \u001b[0;34m(\u001b[0m\u001b[0mndim\u001b[0m\u001b[0;34m,\u001b[0m \u001b[0;36m2\u001b[0m\u001b[0;34m)\u001b[0m\u001b[0;34m)\u001b[0m\u001b[0;34m.\u001b[0m\u001b[0mtolist\u001b[0m\u001b[0;34m(\u001b[0m\u001b[0;34m)\u001b[0m\u001b[0;34m\u001b[0m\u001b[0;34m\u001b[0m\u001b[0m\n\u001b[0m\u001b[1;32m    519\u001b[0m \u001b[0;34m\u001b[0m\u001b[0m\n\u001b[1;32m    520\u001b[0m \u001b[0;34m\u001b[0m\u001b[0m\n",
      "\u001b[0;32m/cvmfs/sft.cern.ch/lcg/views/LCG_105/x86_64-el9-gcc13-opt/lib/python3.9/site-packages/numpy/core/overrides.py\u001b[0m in \u001b[0;36mbroadcast_to\u001b[0;34m(*args, **kwargs)\u001b[0m\n",
      "\u001b[0;32m/cvmfs/sft.cern.ch/lcg/views/LCG_105/x86_64-el9-gcc13-opt/lib/python3.9/site-packages/numpy/lib/stride_tricks.py\u001b[0m in \u001b[0;36mbroadcast_to\u001b[0;34m(array, shape, subok)\u001b[0m\n\u001b[1;32m    411\u001b[0m            [1, 2, 3]])\n\u001b[1;32m    412\u001b[0m     \"\"\"\n\u001b[0;32m--> 413\u001b[0;31m     \u001b[0;32mreturn\u001b[0m \u001b[0m_broadcast_to\u001b[0m\u001b[0;34m(\u001b[0m\u001b[0marray\u001b[0m\u001b[0;34m,\u001b[0m \u001b[0mshape\u001b[0m\u001b[0;34m,\u001b[0m \u001b[0msubok\u001b[0m\u001b[0;34m=\u001b[0m\u001b[0msubok\u001b[0m\u001b[0;34m,\u001b[0m \u001b[0mreadonly\u001b[0m\u001b[0;34m=\u001b[0m\u001b[0;32mTrue\u001b[0m\u001b[0;34m)\u001b[0m\u001b[0;34m\u001b[0m\u001b[0;34m\u001b[0m\u001b[0m\n\u001b[0m\u001b[1;32m    414\u001b[0m \u001b[0;34m\u001b[0m\u001b[0m\n\u001b[1;32m    415\u001b[0m \u001b[0;34m\u001b[0m\u001b[0m\n",
      "\u001b[0;32m/cvmfs/sft.cern.ch/lcg/views/LCG_105/x86_64-el9-gcc13-opt/lib/python3.9/site-packages/numpy/lib/stride_tricks.py\u001b[0m in \u001b[0;36m_broadcast_to\u001b[0;34m(array, shape, subok, readonly)\u001b[0m\n\u001b[1;32m    347\u001b[0m                          'negative')\n\u001b[1;32m    348\u001b[0m     \u001b[0mextras\u001b[0m \u001b[0;34m=\u001b[0m \u001b[0;34m[\u001b[0m\u001b[0;34m]\u001b[0m\u001b[0;34m\u001b[0m\u001b[0;34m\u001b[0m\u001b[0m\n\u001b[0;32m--> 349\u001b[0;31m     it = np.nditer(\n\u001b[0m\u001b[1;32m    350\u001b[0m         \u001b[0;34m(\u001b[0m\u001b[0marray\u001b[0m\u001b[0;34m,\u001b[0m\u001b[0;34m)\u001b[0m\u001b[0;34m,\u001b[0m \u001b[0mflags\u001b[0m\u001b[0;34m=\u001b[0m\u001b[0;34m[\u001b[0m\u001b[0;34m'multi_index'\u001b[0m\u001b[0;34m,\u001b[0m \u001b[0;34m'refs_ok'\u001b[0m\u001b[0;34m,\u001b[0m \u001b[0;34m'zerosize_ok'\u001b[0m\u001b[0;34m]\u001b[0m \u001b[0;34m+\u001b[0m \u001b[0mextras\u001b[0m\u001b[0;34m,\u001b[0m\u001b[0;34m\u001b[0m\u001b[0;34m\u001b[0m\u001b[0m\n\u001b[1;32m    351\u001b[0m         op_flags=['readonly'], itershape=shape, order='C')\n",
      "\u001b[0;31mValueError\u001b[0m: operands could not be broadcast together with remapped shapes [original->remapped]: (2,2)  and requested shape (3,2)"
     ]
    }
   ],
   "source": [
    "# Reshape and pad the input data\n",
    "padded_input_data = np.pad(input_data, ((0, 111 - 65), (0, 0)), mode='constant', constant_values=0)\n",
    "# Truncate the input data\n",
    "truncated_input_data = input_data[:111, :]\n"
   ]
  },
  {
   "cell_type": "code",
   "execution_count": 86,
   "id": "5f7c4d7e",
   "metadata": {},
   "outputs": [],
   "source": [
    "# Reshape the input data to match the expected shape\n",
    "input_data = np.reshape(input_data, (1, 111, 17))\n",
    "# Perform quantized inference\n",
    "interpreter_quant.set_tensor(input_details_quant['index'], input_data)\n",
    "interpreter_quant.invoke()\n",
    "output_data = interpreter_quant.get_tensor(interpreter_quant.get_output_details()[0]['index'])\n"
   ]
  },
  {
   "cell_type": "code",
   "execution_count": 49,
   "id": "d80acf95",
   "metadata": {},
   "outputs": [
    {
     "name": "stdout",
     "output_type": "stream",
     "text": [
      "Output Data Shape: (1, 111, 1)\n"
     ]
    }
   ],
   "source": [
    "# Assuming output_data contains the predicted pt values from quantized inference\n",
    "\n",
    "true_pts_quantized = []\n",
    "pred_pts_quantized = []\n",
    "\n",
    "# Print the shape of output_data\n",
    "print(\"Output Data Shape:\", output_data.shape)\n",
    "\n",
    "# Iterate through the data\n",
    "for ibatch in range(len(Xs)):\n",
    "    ret = model(Xs[ibatch])\n",
    "\n",
    "    mask_true_particles = ys[ibatch][..., 0] != 0\n",
    "    \n",
    "    true_pt = ys[ibatch][mask_true_particles, 2]\n",
    "    \n",
    "    # Adjust the indexing based on the actual shape of output_data\n",
    "    pred_pt_quantized = output_data[0, ibatch, 0]  # Assuming the output_data has shape (1, len(Xs), 1)\n",
    "\n",
    "    true_pts_quantized.append(true_pt)\n",
    "    pred_pts_quantized.append(pred_pt_quantized)\n"
   ]
  },
  {
   "cell_type": "code",
   "execution_count": 53,
   "id": "65851304",
   "metadata": {},
   "outputs": [
    {
     "data": {
      "image/png": "[encoded data removed]",
      "text/plain": [
       "<Figure size 432x288 with 1 Axes>"
      ]
     },
     "metadata": {
      "needs_background": "light"
     },
     "output_type": "display_data"
    }
   ],
   "source": [
    "# Plot the histogram directly without explicit concatenation\n",
    "plt.hist([pred_pt_quantized, true_pt_quantized], bins=np.linspace(0, 3, 100), label=['Predicted', 'True'], density=True)\n",
    "plt.yscale(\"log\")\n",
    "plt.xlabel(\"Predicted True Pt Ratio\")\n",
    "plt.ylabel(\"Count (Normalized)\")\n",
    "plt.title(\"Histogram of Predicted True Pt Ratio from Quantized Inference\")\n",
    "plt.legend()\n",
    "plt.show()\n"
   ]
  },
  {
   "cell_type": "markdown",
   "id": "a385e2f9",
   "metadata": {},
   "source": [
    "Above is done for a smaller dataset sample of 100 for the quantization. We only played with pT, we have another variables as well. We need to work on it.\n",
    "Task:\n",
    "1. Try to work with more number of samples.\n",
    "2. Try to work with different Variables.\n",
    "3. Try with different model quantization"
   ]
  },
  {
   "cell_type": "code",
   "execution_count": null,
   "id": "60a8784a",
   "metadata": {},
   "outputs": [],
   "source": []
  },
  {
   "cell_type": "code",
   "execution_count": null,
   "id": "0bbaa53f",
   "metadata": {},
   "outputs": [],
   "source": []
  },
  {
   "cell_type": "code",
   "execution_count": null,
   "id": "8c10bf54",
   "metadata": {},
   "outputs": [],
   "source": []
  },
  {
   "cell_type": "code",
   "execution_count": null,
   "id": "d2d5f6fd",
   "metadata": {},
   "outputs": [],
   "source": []
  },
  {
   "cell_type": "code",
   "execution_count": null,
   "id": "f9308a18",
   "metadata": {},
   "outputs": [],
   "source": []
  }
 ],
 "metadata": {
  "kernelspec": {
   "display_name": "Python 3 (ipykernel)",
   "language": "python",
   "name": "python3"
  },
  "language_info": {
   "codemirror_mode": {
    "name": "ipython",
    "version": 3
   },
   "file_extension": ".py",
   "mimetype": "text/x-python",
   "name": "python",
   "nbconvert_exporter": "python",
   "pygments_lexer": "ipython3",
   "version": "3.9.12"
  }
 },
 "nbformat": 4,
 "nbformat_minor": 5
}
