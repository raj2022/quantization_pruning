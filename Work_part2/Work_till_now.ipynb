{
 "cells": [
  {
   "cell_type": "markdown",
   "id": "12678dcf",
   "metadata": {},
   "source": [
    "Working on the Post-training quantization of the model and the subset of the dataset. \n",
    "* Working on the model already trained with the CMS dataset.\n",
    "* The model has been quantized using the `tf.lite.converter`\n",
    "* Further, we are working with sample of the dataset(100 for our case). \n",
    "* Quantizing the sample of dataset using INT8 quantization\n"
   ]
  },
  {
   "cell_type": "markdown",
   "id": "c8c78f63",
   "metadata": {},
   "source": [
    "As written on here, we were working on the stuff with the debugging of the model and working out the task. \n",
    "* Perform the quantization of the model\n",
    "* Convert all of the data \n",
    "* Put all stuff in a notebook along with the model interface."
   ]
  },
  {
   "cell_type": "markdown",
   "id": "cf482f43",
   "metadata": {},
   "source": [
    "## `Task`\n",
    "Standardize the P_T value before quantizing.\n",
    "\n",
    "Three P_T plots:\n",
    "\n",
    "Raw P_T (Number of particles vs P_T (GeV))\n",
    "P_T after standardization (X-axis should be arbitrary units)\n",
    "After int8 quantization. Centers at 0 and range should be between -127, 127)\n",
    "Upon standardization, there could be a few values which could be out of the range of (-127, 127). How to deal with the outliers? One of the methods is to put all of them in the last bin. Are there any other methods available?\n",
    "\n",
    "Fix bin size does not give resolution. We can lose information if we discard those outliers.\n",
    "\n",
    "Print the true and predicted P_T values. Should be in the INT8 range.\n",
    "\n",
    "Put on the distribution if it makes sense."
   ]
  },
  {
   "cell_type": "markdown",
   "id": "99fd99c9",
   "metadata": {},
   "source": [
    "We need to standradization to whole datasample which is 100 in our case.\n",
    "* Plot the datasample before and after standradization ??\n",
    "* Or do we only need to standradize the True P_T?\n",
    "* What type of output you have right now?"
   ]
  },
  {
   "cell_type": "markdown",
   "id": "08fd0d38",
   "metadata": {},
   "source": [
    "`The dataset contains input features and target features consist of different things like pT, eta, phi etc. so all of those need to be standardized and quantized separately. but you can start with just pT` Task:\n",
    "\n",
    "1. Since working only on the pT, quntize it after standradization. Further Check the plots before and after quantization.\n",
    "\n",
    "Quantize the dataset after stnadradization and then do the inference. Check the output plots"
   ]
  },
  {
   "cell_type": "code",
   "execution_count": 1,
   "id": "52af97f6",
   "metadata": {},
   "outputs": [
    {
     "name": "stderr",
     "output_type": "stream",
     "text": [
      "2024-01-23 15:49:58.395755: I tensorflow/core/platform/cpu_feature_guard.cc:182] This TensorFlow binary is optimized to use available CPU instructions in performance-critical operations.\n",
      "To enable the following instructions: AVX2 FMA, in other operations, rebuild TensorFlow with the appropriate compiler flags.\n"
     ]
    },
    {
     "name": "stdout",
     "output_type": "stream",
     "text": [
      "Welcome to JupyROOT 6.30/02\n"
     ]
    }
   ],
   "source": [
    "import tensorflow as tf\n",
    "import tensorflow_datasets as tfds\n",
    "\n",
    "%matplotlib inline\n",
    "import matplotlib.pyplot as plt\n",
    "import numpy as np\n",
    "import pandas as pd\n",
    "\n",
    "import pathlib\n",
    "\n",
    "import ROOT "
   ]
  },
  {
   "cell_type": "code",
   "execution_count": 2,
   "id": "935f2edd",
   "metadata": {},
   "outputs": [],
   "source": [
    "import sys \n",
    "sys.path += [\"../../../MLPF/mlpf/particleflow/mlpf/\"]\n",
    "from tfmodel.model_setup import make_model\n",
    "from tfmodel.utils import parse_config"
   ]
  },
  {
   "cell_type": "code",
   "execution_count": 3,
   "id": "e76e3561",
   "metadata": {},
   "outputs": [],
   "source": [
    "config, _ = parse_config(\"../../../MLPF/mlpf/particleflow/parameters/clic.yaml\") #positions on the lxplus\n"
   ]
  },
  {
   "cell_type": "code",
   "execution_count": 4,
   "id": "825cf2bc",
   "metadata": {},
   "outputs": [],
   "source": [
    "\n",
    "model = make_model(config, tf.float32)\n",
    "model.build((1, None, config[\"dataset\"][\"num_input_features\"]))"
   ]
  },
  {
   "cell_type": "code",
   "execution_count": 5,
   "id": "25663786",
   "metadata": {},
   "outputs": [
    {
     "name": "stdout",
     "output_type": "stream",
     "text": [
      "Model: \"pf_net_dense\"\n",
      "_________________________________________________________________\n",
      " Layer (type)                Output Shape              Param #   \n",
      "=================================================================\n",
      " node_encoding (Sequential)  (1, None, 256)            70912     \n",
      "                                                                 \n",
      " input_encoding_clic (Input  multiple                  0         \n",
      " EncodingCLIC)                                                   \n",
      "                                                                 \n",
      " cg_id_0 (CombinedGraphLaye  multiple                  440128    \n",
      " r)                                                              \n",
      "                                                                 \n",
      " cg_id_1 (CombinedGraphLaye  multiple                  440128    \n",
      " r)                                                              \n",
      "                                                                 \n",
      " cg_id_2 (CombinedGraphLaye  multiple                  440128    \n",
      " r)                                                              \n",
      "                                                                 \n",
      " cg_id_3 (CombinedGraphLaye  multiple                  440128    \n",
      " r)                                                              \n",
      "                                                                 \n",
      " cg_id_4 (CombinedGraphLaye  multiple                  440128    \n",
      " r)                                                              \n",
      "                                                                 \n",
      " cg_id_5 (CombinedGraphLaye  multiple                  440128    \n",
      " r)                                                              \n",
      "                                                                 \n",
      " cg_reg_0 (CombinedGraphLay  multiple                  440128    \n",
      " er)                                                             \n",
      "                                                                 \n",
      " cg_reg_1 (CombinedGraphLay  multiple                  440128    \n",
      " er)                                                             \n",
      "                                                                 \n",
      " cg_reg_2 (CombinedGraphLay  multiple                  440128    \n",
      " er)                                                             \n",
      "                                                                 \n",
      " cg_reg_3 (CombinedGraphLay  multiple                  440128    \n",
      " er)                                                             \n",
      "                                                                 \n",
      " cg_reg_4 (CombinedGraphLay  multiple                  440128    \n",
      " er)                                                             \n",
      "                                                                 \n",
      " cg_reg_5 (CombinedGraphLay  multiple                  440128    \n",
      " er)                                                             \n",
      "                                                                 \n",
      " output_decoding (OutputDec  multiple                  269967    \n",
      " oding)                                                          \n",
      "                                                                 \n",
      "=================================================================\n",
      "Total params: 5622415 (21.45 MB)\n",
      "Trainable params: 5468815 (20.86 MB)\n",
      "Non-trainable params: 153600 (600.00 KB)\n",
      "_________________________________________________________________\n"
     ]
    }
   ],
   "source": [
    "model.summary()"
   ]
  },
  {
   "cell_type": "code",
   "execution_count": 6,
   "id": "a8b789ea",
   "metadata": {},
   "outputs": [],
   "source": [
    "model.load_weights(\"weights-96-5.346523.hdf5\", skip_mismatch=False, by_name=True)\n",
    "## These files hosted at https://huggingface.co/jpata/particleflow/tree/clic_clusters_v1.6"
   ]
  },
  {
   "cell_type": "code",
   "execution_count": 7,
   "id": "365ad42d",
   "metadata": {},
   "outputs": [],
   "source": [
    "## Reading the dataset\n",
    "ds_builder = tfds.builder(\"clic_edm_qq_pf\", data_dir = '../../../MLPF/mlpf/tensorflow_datasets/') # Tensorflow datsets positions in the lxplus\n",
    "dss = ds_builder.as_data_source(\"test\")"
   ]
  },
  {
   "cell_type": "code",
   "execution_count": 8,
   "id": "a68b0a5e",
   "metadata": {},
   "outputs": [],
   "source": [
    "def yield_from_ds():\n",
    "    for elem in dss:\n",
    "        yield {\"X\": elem[\"X\"], \"ygen\": elem[\"ygen\"], \"ycand\": elem[\"ycand\"]}"
   ]
  },
  {
   "cell_type": "code",
   "execution_count": 9,
   "id": "26e52288",
   "metadata": {},
   "outputs": [],
   "source": [
    "output_signature = {k: tf.TensorSpec(shape=(None, v.shape[1])) for (k, v) in dss.dataset_info.features.items()}\n",
    "tf_dataset = tf.data.Dataset.from_generator(yield_from_ds, output_signature=output_signature).take(100).padded_batch(batch_size=10)"
   ]
  },
  {
   "cell_type": "code",
   "execution_count": 10,
   "id": "55902dc9",
   "metadata": {},
   "outputs": [],
   "source": [
    "data = list(tfds.as_numpy(tf_dataset))\n"
   ]
  },
  {
   "cell_type": "code",
   "execution_count": 11,
   "id": "9224cb46",
   "metadata": {},
   "outputs": [],
   "source": [
    "Xs = [d[\"X\"] for d in data]\n",
    "ys = [d[\"ygen\"] for d in data]\n",
    "ycs= [d[\"ycand\"] for d in data]"
   ]
  },
  {
   "cell_type": "code",
   "execution_count": 12,
   "id": "1083eed8",
   "metadata": {},
   "outputs": [],
   "source": [
    "true_pts = []\n",
    "pred_pts = []\n",
    "\n",
    "for ibatch in range(len(Xs)):\n",
    "    ret = model(Xs[ibatch])\n",
    "\n",
    "    mask_true_particles = ys[ibatch][..., 0]!=0\n",
    "    \n",
    "    true_pt = ys[ibatch][mask_true_particles, 2]\n",
    "    pred_pt = ret[\"pt\"][mask_true_particles][..., 0].numpy()\n",
    "\n",
    "    true_pts.append(true_pt)\n",
    "    pred_pts.append(pred_pt)"
   ]
  },
  {
   "cell_type": "code",
   "execution_count": 13,
   "id": "33c78285",
   "metadata": {},
   "outputs": [],
   "source": [
    "true_pt = np.concatenate(true_pts)\n",
    "pred_pt = np.concatenate(pred_pts)"
   ]
  },
  {
   "cell_type": "code",
   "execution_count": 14,
   "id": "606af7bb",
   "metadata": {},
   "outputs": [
    {
     "data": {
      "image/png": "[encoded data removed]",
      "text/plain": [
       "<Figure size 432x288 with 1 Axes>"
      ]
     },
     "metadata": {
      "needs_background": "light"
     },
     "output_type": "display_data"
    }
   ],
   "source": [
    "\n",
    "plt.hist(pred_pt/true_pt, bins=np.linspace(0,3,100));\n",
    "plt.yscale(\"log\")"
   ]
  },
  {
   "cell_type": "markdown",
   "id": "eb186069",
   "metadata": {},
   "source": [
    "Task:-\n",
    "1. Standradize the input(why?)\n",
    "2. Further quantize the dataset and quantize the model.\n",
    "3. Measure the inference."
   ]
  },
  {
   "cell_type": "code",
   "execution_count": 15,
   "id": "286a031a",
   "metadata": {},
   "outputs": [],
   "source": [
    "true_pts_ygen = np.concatenate([d[\"ygen\"][:, 2] for d in data])\n",
    "true_pts_ycand = np.concatenate([d[\"ycand\"][:, 2] for d in data])"
   ]
  },
  {
   "cell_type": "code",
   "execution_count": 16,
   "id": "7a7df459",
   "metadata": {},
   "outputs": [
    {
     "name": "stdout",
     "output_type": "stream",
     "text": [
      "True pt from ygen: [[ 1.00000000e+00 -1.00000000e+00  3.91250396e+00  8.51751029e-01\n",
      "  -9.60166156e-01  2.79429704e-01  5.42142534e+00  1.00000000e+00]\n",
      " [ 1.00000000e+00 -1.00000000e+00  3.57476068e+00 -2.25394058e+00\n",
      "   9.75725949e-01 -2.18995124e-01  1.72133617e+01  1.00000000e+00]\n",
      " [ 1.00000000e+00  1.00000000e+00  1.27688611e+00  2.29832387e+00\n",
      "   2.75673121e-01  9.61251438e-01  6.42291737e+00  2.00000000e+00]\n",
      " [ 1.00000000e+00  1.00000000e+00  6.18536758e+00 -1.85006022e+00\n",
      "   8.25993717e-01  5.63679338e-01  2.01781788e+01  2.00000000e+00]\n",
      " [ 1.00000000e+00 -1.00000000e+00  9.67933083e+00 -8.46591949e-01\n",
      "  -8.92565370e-01 -4.50918049e-01  1.33609200e+01  3.00000000e+00]\n",
      " [ 1.00000000e+00  1.00000000e+00  8.60886192e+00  2.34120822e+00\n",
      "  -7.80091345e-01 -6.25665665e-01  4.51536942e+01  2.00000000e+00]\n",
      " [ 1.00000000e+00  1.00000000e+00  3.38208795e+00 -4.95963007e-01\n",
      "   9.03786659e-01 -4.27983284e-01  3.80920434e+00  1.00000000e+00]\n",
      " [ 1.00000000e+00  1.00000000e+00  6.98776913e+00  1.30071297e-01\n",
      "  -9.17337120e-01  3.98111314e-01  7.04834604e+00  1.00000000e+00]\n",
      " [ 1.00000000e+00  1.00000000e+00  5.34268188e+00  1.89011037e+00\n",
      "  -7.54588723e-01 -6.56198084e-01  1.80886002e+01  2.00000000e+00]\n",
      " [ 1.00000000e+00  1.00000000e+00  8.35609376e-01 -5.44688225e-01\n",
      "   8.42599034e-01  5.38541436e-01  9.72726047e-01  0.00000000e+00]\n",
      " [ 1.00000000e+00 -1.00000000e+00  3.33634555e-01  2.42627120e+00\n",
      "  -8.39562416e-01 -5.43263197e-01  1.96555412e+00  0.00000000e+00]\n",
      " [ 1.00000000e+00 -1.00000000e+00  1.54762926e+01  1.62347332e-01\n",
      "  -8.80322337e-01  4.74375963e-01  1.56813135e+01  3.00000000e+00]\n",
      " [ 1.00000000e+00  1.00000000e+00  3.54011250e+00  1.52685618e+00\n",
      "   8.18872452e-01  5.73975503e-01  8.53440285e+00  2.00000000e+00]\n",
      " [ 1.00000000e+00 -1.00000000e+00  1.15335169e+01 -1.02319002e+00\n",
      "  -5.29583395e-01  8.48257899e-01  1.81168213e+01  2.00000000e+00]\n",
      " [ 1.00000000e+00 -1.00000000e+00  5.77153587e+00  1.90230870e+00\n",
      "   6.88974932e-02  9.97623742e-01  1.97696552e+01  2.00000000e+00]\n",
      " [ 1.00000000e+00 -1.00000000e+00  8.50056362e+00  9.97234166e-01\n",
      "  -5.59624195e-01 -8.28746498e-01  1.30902185e+01  2.00000000e+00]\n",
      " [ 1.00000000e+00  1.00000000e+00  7.23129845e+00 -1.72206712e+00\n",
      "  -6.59020364e-01  7.52125084e-01  2.08800468e+01  2.00000000e+00]\n",
      " [ 1.00000000e+00 -1.00000000e+00  8.41508031e-01 -1.40360069e+00\n",
      "  -6.32965088e-01  7.74180353e-01  1.88169539e+00  0.00000000e+00]\n",
      " [ 1.00000000e+00 -1.00000000e+00  6.64052606e-01  1.33311200e+00\n",
      "  -8.16160917e-01  5.77824652e-01  1.35407150e+00  0.00000000e+00]\n",
      " [ 1.00000000e+00  1.00000000e+00  2.16913815e+01  3.01398158e-01\n",
      "  -5.53442597e-01  8.32887292e-01  2.26894646e+01  2.00000000e+00]\n",
      " [ 1.00000000e+00 -1.00000000e+00  1.40859709e+01  5.15339911e-01\n",
      "   9.90780652e-01 -1.35475874e-01  1.60057926e+01  3.00000000e+00]\n",
      " [ 1.00000000e+00  1.00000000e+00  3.24917459e+00  2.59912395e+00\n",
      "   8.58400941e-01  5.12979329e-01  2.19801769e+01  2.00000000e+00]\n",
      " [ 1.00000000e+00  1.00000000e+00  5.33797264e+00 -1.44674349e+00\n",
      "  -9.64210987e-01 -2.65136063e-01  1.19701223e+01  2.00000000e+00]\n",
      " [ 1.00000000e+00 -1.00000000e+00  7.55257130e+00  1.43160856e+00\n",
      "   6.92601621e-01  7.21320331e-01  1.67081947e+01  2.00000000e+00]\n",
      " [ 1.00000000e+00  1.00000000e+00  4.71012878e+00 -1.35522580e+00\n",
      "   4.02165204e-01 -9.15567100e-01  9.74042892e+00  2.00000000e+00]\n",
      " [ 1.00000000e+00  1.00000000e+00  6.52293634e+00 -1.64285600e+00\n",
      "   9.70639765e-01 -2.40537763e-01  1.74993305e+01  2.00000000e+00]\n",
      " [ 1.00000000e+00  1.00000000e+00  4.94336843e+00  1.17091250e+00\n",
      "  -9.79530871e-01 -2.01293945e-01  8.73856258e+00  1.00000000e+00]\n",
      " [ 1.00000000e+00  1.00000000e+00  5.01182985e+00 -2.06617689e+00\n",
      "  -9.47301388e-01  3.20343614e-01  2.01010628e+01  2.00000000e+00]\n",
      " [ 1.00000000e+00 -1.00000000e+00  1.03973951e+01  9.77729797e-01\n",
      "   8.12242031e-01  5.83320618e-01  1.57835770e+01  3.00000000e+00]\n",
      " [ 1.00000000e+00  1.00000000e+00  3.66736364e+00 -2.12820005e+00\n",
      "   4.77220975e-02  9.98860657e-01  1.56285419e+01  2.00000000e+00]\n",
      " [ 0.00000000e+00  0.00000000e+00  0.00000000e+00  0.00000000e+00\n",
      "   0.00000000e+00  0.00000000e+00  0.00000000e+00  0.00000000e+00]\n",
      " [ 1.00000000e+00  1.00000000e+00  3.05754495e+00  2.53663206e+00\n",
      "  -1.28968079e-02 -9.99916852e-01  1.94406338e+01  2.00000000e+00]\n",
      " [ 1.00000000e+00 -1.00000000e+00  5.77085400e+00  1.39893937e+00\n",
      "   7.14909136e-02 -9.97441232e-01  1.24016581e+01  2.00000000e+00]\n",
      " [ 1.00000000e+00  1.00000000e+00  3.59427047e+00  1.87028199e-01\n",
      "  -8.80897045e-01 -4.73307908e-01  3.65997887e+00  1.00000000e+00]\n",
      " [ 1.00000000e+00 -1.00000000e+00  1.33987880e+00 -2.03822279e+00\n",
      "  -5.28306723e-01 -8.49053621e-01  5.23222160e+00  2.00000000e+00]\n",
      " [ 1.00000000e+00 -1.00000000e+00  3.28508568e+00 -1.77545774e+00\n",
      "  -7.21521497e-01 -6.92391992e-01  9.97513485e+00  2.00000000e+00]\n",
      " [ 1.00000000e+00  1.00000000e+00  4.76078320e+00 -9.33229804e-01\n",
      "   2.09476173e-01 -9.77813780e-01  6.99019909e+00  1.00000000e+00]\n",
      " [ 1.00000000e+00  1.00000000e+00  3.55653214e+00 -1.82191753e+00\n",
      "   9.54907119e-01 -2.96904624e-01  1.12847080e+01  2.00000000e+00]\n",
      " [ 1.00000000e+00  1.00000000e+00  4.61425686e+00 -2.18678808e+00\n",
      "  -9.90300715e-01 -1.38940632e-01  2.08080845e+01  2.00000000e+00]\n",
      " [ 5.00000000e+00  1.00000000e+00  9.52551937e+00 -7.82603502e-01\n",
      "   9.76864755e-01  2.13858083e-01  1.25949574e+01  1.00000000e+00]\n",
      " [ 1.00000000e+00 -1.00000000e+00  7.03008461e+00 -2.44995594e-01\n",
      "  -6.68867171e-01  7.43381977e-01  7.24346972e+00  1.00000000e+00]\n",
      " [ 1.00000000e+00 -1.00000000e+00  9.46001720e+00 -1.31988549e+00\n",
      "  -3.48250084e-02  9.99393404e-01  1.89685993e+01  2.00000000e+00]\n",
      " [ 1.00000000e+00  1.00000000e+00  4.28558731e+00  2.29746675e+00\n",
      "  -9.08509433e-01 -4.17864382e-01  2.15343704e+01  2.00000000e+00]\n",
      " [ 1.00000000e+00  1.00000000e+00  7.69967222e+00 -2.35189176e+00\n",
      "  -2.83447325e-01  9.58987832e-01  4.08108673e+01  2.00000000e+00]\n",
      " [ 1.00000000e+00 -1.00000000e+00  1.16888237e+00 -2.43027949e+00\n",
      "   4.94425744e-01  8.69219840e-01  6.69334793e+00  2.00000000e+00]\n",
      " [ 1.00000000e+00  1.00000000e+00  5.75143623e+00 -8.55662704e-01\n",
      "   7.99047872e-02 -9.96802509e-01  7.98977613e+00  1.00000000e+00]\n",
      " [ 1.00000000e+00  1.00000000e+00  1.31419392e+01 -5.56485176e-01\n",
      "  -4.28737402e-02 -9.99080479e-01  1.52305069e+01  2.00000000e+00]\n",
      " [ 1.00000000e+00  1.00000000e+00  7.60609210e-01 -7.63984144e-01\n",
      "   7.98096478e-01 -6.02529645e-01  1.00334597e+00  1.00000000e+00]\n",
      " [ 1.00000000e+00  1.00000000e+00  1.64466591e+01 -1.15483487e+00\n",
      "  -8.88975382e-01  4.57955003e-01  2.86883221e+01  2.00000000e+00]\n",
      " [ 1.00000000e+00  1.00000000e+00  3.22331047e+00 -1.53630413e-02\n",
      "  -8.40642035e-01 -5.41591167e-01  3.22671080e+00  1.00000000e+00]\n",
      " [ 1.00000000e+00  1.00000000e+00  2.31449771e+00  1.97853506e+00\n",
      "  -8.27724099e-01  5.61135352e-01  8.53054333e+00  1.00000000e+00]\n",
      " [ 1.00000000e+00  1.00000000e+00  7.63536882e+00  1.47141623e+00\n",
      "  -9.49218810e-01  3.14616710e-01  1.75046368e+01  2.00000000e+00]\n",
      " [ 1.00000000e+00  1.00000000e+00  4.19833183e+00  4.52734023e-01\n",
      "   5.84175289e-01  8.11627507e-01  4.63809395e+00  1.00000000e+00]\n",
      " [ 1.00000000e+00 -1.00000000e+00  5.62492657e+00  1.73199952e+00\n",
      "   6.48413181e-01  7.61288583e-01  1.63940887e+01  2.00000000e+00]\n",
      " [ 1.00000000e+00 -1.00000000e+00  6.44464397e+00  6.26425207e-01\n",
      "  -9.57739770e-01 -2.87636012e-01  7.75226068e+00  1.00000000e+00]\n",
      " [ 1.00000000e+00 -1.00000000e+00  9.37784863e+00  1.34747267e+00\n",
      "  -1.58250704e-01  9.87398982e-01  1.92606621e+01  2.00000000e+00]\n",
      " [ 1.00000000e+00 -1.00000000e+00  4.31122923e+00  1.71582192e-01\n",
      "   6.05973788e-02 -9.98162270e-01  4.40261412e+00  1.00000000e+00]\n",
      " [ 1.00000000e+00  1.00000000e+00  5.38991117e+00  7.00996995e-01\n",
      "   1.71540026e-02 -9.99852836e-01  6.78730726e+00  1.00000000e+00]\n",
      " [ 1.00000000e+00  1.00000000e+00  1.00848093e+01 -8.51562247e-03\n",
      "   3.93061727e-01 -9.19512093e-01  1.00972500e+01  3.00000000e+00]\n",
      " [ 1.00000000e+00  1.00000000e+00  1.04022532e+01  1.07100594e+00\n",
      "   9.19952810e-01 -3.92029136e-01  1.69613304e+01  1.00000000e+00]\n",
      " [ 1.00000000e+00 -1.00000000e+00  1.78271961e+00 -2.11830354e+00\n",
      "  -1.12449788e-02  9.99936759e-01  7.52192116e+00  1.00000000e+00]\n",
      " [ 1.00000000e+00 -1.00000000e+00  1.04402027e+01 -1.11067319e+00\n",
      "  -3.32487196e-01 -9.43107784e-01  1.75700531e+01  1.00000000e+00]\n",
      " [ 1.00000000e+00 -1.00000000e+00  4.53061914e+00  1.84411430e+00\n",
      "   9.01816189e-01  4.32119787e-01  1.46813698e+01  2.00000000e+00]\n",
      " [ 1.00000000e+00 -1.00000000e+00  7.98455429e+00  2.61352754e+00\n",
      "   6.69979632e-01 -7.42379487e-01  5.47757530e+01  2.00000000e+00]\n",
      " [ 5.00000000e+00 -1.00000000e+00  1.87829037e+01 -5.85991263e-01\n",
      "  -7.10303187e-01 -7.03895867e-01  2.21013927e+01  1.00000000e+00]\n",
      " [ 1.00000000e+00 -1.00000000e+00  5.07121801e+00 -9.89277959e-01\n",
      "   7.28081644e-01 -6.85490429e-01  7.76310158e+00  2.00000000e+00]\n",
      " [ 1.00000000e+00  1.00000000e+00  4.86277199e+00  1.97104335e+00\n",
      "   9.96509194e-01 -8.34827870e-02  1.77921505e+01  2.00000000e+00]\n",
      " [ 1.00000000e+00 -1.00000000e+00  7.68482625e-01 -8.43655467e-01\n",
      "  -1.25971988e-01  9.92033780e-01  1.06774032e+00  0.00000000e+00]\n",
      " [ 1.00000000e+00 -1.00000000e+00  2.72794056e+01  3.03229183e-01\n",
      "  -6.53360784e-01 -7.57046700e-01  2.85435295e+01  2.00000000e+00]\n",
      " [ 1.00000000e+00  1.00000000e+00  5.11682558e+00  2.44903874e+00\n",
      "   1.51841313e-01 -9.88404870e-01  2.98443584e+01  2.00000000e+00]\n",
      " [ 5.00000000e+00 -1.00000000e+00  1.02648182e+01  5.04906237e-01\n",
      "  -9.78080928e-01  2.08225071e-01  1.16017389e+01  1.00000000e+00]\n",
      " [ 1.00000000e+00 -1.00000000e+00  3.26181030e+00 -1.09693909e+00\n",
      "  -3.97848904e-01 -9.17450964e-01  5.43087530e+00  1.00000000e+00]\n",
      " [ 1.00000000e+00  1.00000000e+00  3.38101959e+00 -2.24205136e+00\n",
      "   3.67895484e-01  9.29867148e-01  1.60923328e+01  2.00000000e+00]\n",
      " [ 1.00000000e+00  1.00000000e+00  4.24321079e+00 -9.01984096e-01\n",
      "   3.68628949e-02  9.99320328e-01  6.09114075e+00  1.00000000e+00]\n",
      " [ 1.00000000e+00 -1.00000000e+00  3.47259545e+00  1.28700364e+00\n",
      "   9.97217596e-01 -7.45453537e-02  6.78609514e+00  1.00000000e+00]\n",
      " [ 1.00000000e+00  1.00000000e+00  5.03798676e+00 -1.64642239e+00\n",
      "   8.01684499e-01  5.97747386e-01  1.35557318e+01  2.00000000e+00]\n",
      " [ 5.00000000e+00 -1.00000000e+00  2.53613973e+00 -1.63546789e+00\n",
      "  -7.06106663e-01 -7.08105445e-01  6.75547934e+00  2.00000000e+00]\n",
      " [ 1.00000000e+00 -1.00000000e+00  1.43045187e+00  2.44063973e+00\n",
      "  -9.97329295e-01 -7.30361193e-02  8.27454567e+00  2.00000000e+00]\n",
      " [ 1.00000000e+00  1.00000000e+00  5.73509550e+00 -1.39451027e+00\n",
      "  -9.96856093e-01 -7.92331621e-02  1.23116426e+01  1.00000000e+00]\n",
      " [ 1.00000000e+00 -1.00000000e+00  6.02391529e+00  1.80291963e+00\n",
      "   1.07915759e-01  9.94160056e-01  1.87714996e+01  3.00000000e+00]\n",
      " [ 1.00000000e+00  1.00000000e+00  1.66521156e+00  4.97549444e-01\n",
      "  -9.13912117e-01  4.05912161e-01  1.88080072e+00  1.00000000e+00]\n",
      " [ 1.00000000e+00 -1.00000000e+00  2.33981838e+01 -5.46244502e-01\n",
      "   2.51241714e-01  9.67924356e-01  2.69770222e+01  2.00000000e+00]\n",
      " [ 4.00000000e+00  1.00000000e+00  7.79226685e+00 -1.36276209e+00\n",
      "   5.24871826e-01 -8.51181269e-01  1.62193012e+01  1.00000000e+00]\n",
      " [ 1.00000000e+00 -1.00000000e+00  6.62514782e+00  3.65094811e-01\n",
      "  -7.57667720e-01 -6.52640522e-01  7.08883286e+00  1.00000000e+00]\n",
      " [ 1.00000000e+00  1.00000000e+00  1.03172054e+01  3.77171218e-01\n",
      "   3.29749078e-01 -9.44068611e-01  1.10606804e+01  2.00000000e+00]\n",
      " [ 1.00000000e+00 -1.00000000e+00  1.42475653e+01  1.34949386e-01\n",
      "   9.29059863e-01  3.69929403e-01  1.43781729e+01  2.00000000e+00]\n",
      " [ 1.00000000e+00  1.00000000e+00  3.13163948e+00  1.54256177e+00\n",
      "   9.94758368e-01  1.02253653e-01  7.65873766e+00  3.00000000e+00]\n",
      " [ 1.00000000e+00  1.00000000e+00  3.50750399e+00 -1.04009271e+00\n",
      "  -3.72726858e-01  9.27941084e-01  5.58376408e+00  2.00000000e+00]\n",
      " [ 1.00000000e+00  1.00000000e+00  2.24490237e+00  2.26150393e-01\n",
      "   8.95337999e-01  4.45387334e-01  2.30678034e+00  1.00000000e+00]\n",
      " [ 1.00000000e+00 -1.00000000e+00  7.57831049e+00  1.61227620e+00\n",
      "   5.13246059e-01  8.58241498e-01  1.97558022e+01  1.00000000e+00]\n",
      " [ 1.00000000e+00  1.00000000e+00  7.93349862e-01 -2.57821202e+00\n",
      "  -8.08448136e-01 -5.88567436e-01  5.25758600e+00  2.00000000e+00]\n",
      " [ 1.00000000e+00  1.00000000e+00  8.75705528e+00 -4.76253778e-01\n",
      "  -5.19130349e-01  8.54695082e-01  9.81405067e+00  1.00000000e+00]\n",
      " [ 1.00000000e+00  1.00000000e+00  6.42648458e+00 -4.41297233e-01\n",
      "   7.53919363e-01 -6.56966984e-01  7.06384230e+00  1.00000000e+00]\n",
      " [ 1.00000000e+00 -1.00000000e+00  1.28745890e+01  1.14014947e+00\n",
      "   4.74392742e-01  8.80313337e-01  2.21898384e+01  3.00000000e+00]\n",
      " [ 0.00000000e+00  0.00000000e+00  0.00000000e+00  0.00000000e+00\n",
      "   0.00000000e+00  0.00000000e+00  0.00000000e+00  0.00000000e+00]\n",
      " [ 1.00000000e+00 -1.00000000e+00  8.47631741e+00  1.45735598e+00\n",
      "   9.73590791e-01 -2.28300124e-01  1.91885204e+01  2.00000000e+00]\n",
      " [ 1.00000000e+00 -1.00000000e+00  6.96892166e+00  7.01834202e-01\n",
      "   9.98427033e-01 -5.60663491e-02  8.80700874e+00  1.00000000e+00]\n",
      " [ 1.00000000e+00 -1.00000000e+00  2.33717632e+00  1.84521651e+00\n",
      "   2.42010996e-01  9.70273495e-01  7.58245516e+00  2.00000000e+00]\n",
      " [ 1.00000000e+00  1.00000000e+00  5.17582750e+00 -1.76069319e+00\n",
      "  -9.47917879e-01 -3.18514824e-01  1.54980745e+01  2.00000000e+00]\n",
      " [ 1.00000000e+00 -1.00000000e+00  2.03524628e+01  4.88023877e-01\n",
      "  -9.59390223e-01  2.82082289e-01  2.28250217e+01  4.00000000e+00]]\n",
      "True pt from ycand: [[ 1.00000000e+00 -1.00000000e+00  3.90746784e+00  8.51917982e-01\n",
      "  -9.60035801e-01  2.79877216e-01  5.41507721e+00  1.00000000e+00]\n",
      " [ 1.00000000e+00 -1.00000000e+00  3.57800865e+00 -2.25423789e+00\n",
      "   9.75628316e-01 -2.19429657e-01  1.72340126e+01  1.00000000e+00]\n",
      " [ 1.00000000e+00  1.00000000e+00  1.29540586e+00  2.29837513e+00\n",
      "   2.76453972e-01  9.61027145e-01  6.51635647e+00  2.00000000e+00]\n",
      " [ 1.00000000e+00  1.00000000e+00  6.17052364e+00 -1.85022938e+00\n",
      "   8.25827062e-01  5.63923419e-01  2.01117001e+01  2.00000000e+00]\n",
      " [ 1.00000000e+00 -1.00000000e+00  9.66134548e+00 -8.46734285e-01\n",
      "  -8.92518818e-01 -4.51010197e-01  1.33374052e+01  3.00000000e+00]\n",
      " [ 0.00000000e+00  0.00000000e+00  0.00000000e+00  0.00000000e+00\n",
      "   0.00000000e+00  0.00000000e+00  0.00000000e+00  2.00000000e+00]\n",
      " [ 1.00000000e+00  1.00000000e+00  3.38613892e+00 -4.96241033e-01\n",
      "   9.03921425e-01 -4.27698612e-01  3.81424665e+00  1.00000000e+00]\n",
      " [ 1.00000000e+00  1.00000000e+00  7.00114441e+00  1.29869431e-01\n",
      "  -9.17303801e-01  3.98188084e-01  7.06164837e+00  1.00000000e+00]\n",
      " [ 1.00000000e+00  1.00000000e+00  5.29426479e+00  1.88952649e+00\n",
      "  -7.54620135e-01 -6.56161904e-01  1.79146881e+01  2.00000000e+00]\n",
      " [ 1.00000000e+00  1.00000000e+00  8.35008323e-01 -5.44375420e-01\n",
      "   8.42724264e-01  5.38345456e-01  9.71893013e-01  0.00000000e+00]\n",
      " [ 0.00000000e+00  0.00000000e+00  0.00000000e+00  0.00000000e+00\n",
      "   0.00000000e+00  0.00000000e+00  0.00000000e+00  0.00000000e+00]\n",
      " [ 1.00000000e+00 -1.00000000e+00  1.54987335e+01  1.62207022e-01\n",
      "  -8.80390286e-01  4.74249929e-01  1.57036963e+01  3.00000000e+00]\n",
      " [ 1.00000000e+00  1.00000000e+00  3.52508950e+00  1.52730811e+00\n",
      "   8.19287956e-01  5.73382258e-01  8.50168991e+00  2.00000000e+00]\n",
      " [ 1.00000000e+00 -1.00000000e+00  1.15359907e+01 -1.02339387e+00\n",
      "  -5.29409885e-01  8.48366141e-01  1.81235542e+01  2.00000000e+00]\n",
      " [ 1.00000000e+00 -1.00000000e+00  5.74828005e+00  1.90255046e+00\n",
      "   6.87944815e-02  9.97630835e-01  1.96945515e+01  2.00000000e+00]\n",
      " [ 1.00000000e+00 -1.00000000e+00  8.52721882e+00  9.97287929e-01\n",
      "  -5.59726179e-01 -8.28677654e-01  1.31317978e+01  2.00000000e+00]\n",
      " [ 1.00000000e+00  1.00000000e+00  7.21396685e+00 -1.72203505e+00\n",
      "  -6.58837020e-01  7.52285719e-01  2.08293762e+01  2.00000000e+00]\n",
      " [ 1.00000000e+00 -1.00000000e+00  8.45693946e-01 -1.40226841e+00\n",
      "  -6.32304251e-01  7.74720192e-01  1.82799566e+00  0.00000000e+00]\n",
      " [ 1.00000000e+00 -1.00000000e+00  6.61054373e-01  1.33304667e+00\n",
      "  -8.16971540e-01  5.76677918e-01  1.34794724e+00  0.00000000e+00]\n",
      " [ 1.00000000e+00  1.00000000e+00  2.17087803e+01  3.01541626e-01\n",
      "  -5.53539395e-01  8.32822978e-01  2.27036724e+01  2.00000000e+00]\n",
      " [ 1.00000000e+00 -1.00000000e+00  1.41061621e+01  5.15299320e-01\n",
      "   9.90807891e-01 -1.35276616e-01  1.60214081e+01  3.00000000e+00]\n",
      " [ 1.00000000e+00  1.00000000e+00  3.28188372e+00  2.60011554e+00\n",
      "   8.58702660e-01  5.12474179e-01  2.22180691e+01  2.00000000e+00]\n",
      " [ 1.00000000e+00  1.00000000e+00  5.32077646e+00 -1.44712579e+00\n",
      "  -9.64306235e-01 -2.64789492e-01  1.19356499e+01  2.00000000e+00]\n",
      " [ 1.00000000e+00 -1.00000000e+00  7.65091085e+00  1.43192053e+00\n",
      "   6.92614138e-01  7.21308291e-01  1.69304428e+01  2.00000000e+00]\n",
      " [ 1.00000000e+00  1.00000000e+00  4.69884014e+00 -1.35489106e+00\n",
      "   4.02168483e-01 -9.15565670e-01  9.71424294e+00  2.00000000e+00]\n",
      " [ 1.00000000e+00  1.00000000e+00  6.62420177e+00 -1.64318812e+00\n",
      "   9.70698833e-01 -2.40299284e-01  1.77699490e+01  2.00000000e+00]\n",
      " [ 1.00000000e+00  1.00000000e+00  4.91273689e+00  1.17089903e+00\n",
      "  -9.79718924e-01 -2.00376868e-01  8.68433094e+00  1.00000000e+00]\n",
      " [ 1.00000000e+00  1.00000000e+00  5.02988195e+00 -2.06613779e+00\n",
      "  -9.47456121e-01  3.19885790e-01  2.01726971e+01  2.00000000e+00]\n",
      " [ 1.00000000e+00 -1.00000000e+00  1.04078588e+01  9.76938546e-01\n",
      "   8.11892390e-01  5.83807170e-01  1.57829561e+01  3.00000000e+00]\n",
      " [ 1.00000000e+00  1.00000000e+00  3.65258551e+00 -2.12802196e+00\n",
      "   4.79583293e-02  9.98849332e-01  1.55557299e+01  2.00000000e+00]\n",
      " [ 2.00000000e+00  0.00000000e+00  5.50951600e-01 -1.98545575e+00\n",
      "  -6.55186713e-01 -7.55466998e-01  2.24955249e+00  0.00000000e+00]\n",
      " [ 1.00000000e+00  1.00000000e+00  3.06716633e+00  2.53631568e+00\n",
      "  -1.30820433e-02 -9.99914408e-01  1.94957123e+01  2.00000000e+00]\n",
      " [ 1.00000000e+00 -1.00000000e+00  5.76881647e+00  1.39877737e+00\n",
      "   7.12509602e-02 -9.97458398e-01  1.23955021e+01  2.00000000e+00]\n",
      " [ 1.00000000e+00  1.00000000e+00  3.60695815e+00  1.87356353e-01\n",
      "  -8.80990505e-01 -4.73133981e-01  3.67310262e+00  1.00000000e+00]\n",
      " [ 1.00000000e+00 -1.00000000e+00  1.36720586e+00 -2.03648353e+00\n",
      "  -5.26634455e-01 -8.50091875e-01  5.32989693e+00  2.00000000e+00]\n",
      " [ 1.00000000e+00 -1.00000000e+00  3.27517200e+00 -1.77606285e+00\n",
      "  -7.21688867e-01 -6.92217588e-01  9.95071983e+00  2.00000000e+00]\n",
      " [ 1.00000000e+00  1.00000000e+00  4.73292589e+00 -9.33183193e-01\n",
      "   2.09583640e-01 -9.77790713e-01  6.94907618e+00  1.00000000e+00]\n",
      " [ 1.00000000e+00  1.00000000e+00  3.60404849e+00 -1.82203460e+00\n",
      "   9.55357015e-01 -2.95453817e-01  1.14367228e+01  2.00000000e+00]\n",
      " [ 1.00000000e+00  1.00000000e+00  4.63650656e+00 -2.18700814e+00\n",
      "  -9.90286410e-01 -1.39042392e-01  2.09129009e+01  2.00000000e+00]\n",
      " [ 5.00000000e+00  1.00000000e+00  9.57109165e+00 -7.82673299e-01\n",
      "   9.76973653e-01  2.13359877e-01  1.26557884e+01  1.00000000e+00]\n",
      " [ 1.00000000e+00 -1.00000000e+00  7.01748323e+00 -2.45059848e-01\n",
      "  -6.68756843e-01  7.43481159e-01  7.23060226e+00  1.00000000e+00]\n",
      " [ 1.00000000e+00 -1.00000000e+00  9.50207329e+00 -1.31960654e+00\n",
      "  -3.51466797e-02  9.99382138e-01  1.90483170e+01  2.00000000e+00]\n",
      " [ 1.00000000e+00  1.00000000e+00  4.30614567e+00  2.29718637e+00\n",
      "  -9.08981562e-01 -4.16836351e-01  2.16317291e+01  2.00000000e+00]\n",
      " [ 0.00000000e+00  0.00000000e+00  0.00000000e+00  0.00000000e+00\n",
      "   0.00000000e+00  0.00000000e+00  0.00000000e+00  2.00000000e+00]\n",
      " [ 0.00000000e+00  0.00000000e+00  0.00000000e+00  0.00000000e+00\n",
      "   0.00000000e+00  0.00000000e+00  0.00000000e+00  2.00000000e+00]\n",
      " [ 1.00000000e+00  1.00000000e+00  5.75660133e+00 -8.55923176e-01\n",
      "   7.98967034e-02 -9.96803164e-01  7.99839449e+00  1.00000000e+00]\n",
      " [ 1.00000000e+00  1.00000000e+00  1.31394787e+01 -5.56702077e-01\n",
      "  -4.29218560e-02 -9.99078453e-01  1.52293253e+01  2.00000000e+00]\n",
      " [ 1.00000000e+00  1.00000000e+00  7.66368032e-01 -7.63613462e-01\n",
      "   7.98516631e-01 -6.01972759e-01  1.01055992e+00  1.00000000e+00]\n",
      " [ 1.00000000e+00  1.00000000e+00  1.65360832e+01 -1.15490663e+00\n",
      "  -8.89051259e-01  4.57807690e-01  2.88459988e+01  2.00000000e+00]\n",
      " [ 1.00000000e+00  1.00000000e+00  3.21933603e+00 -1.52997058e-02\n",
      "  -8.40639949e-01 -5.41594326e-01  3.22273636e+00  1.00000000e+00]\n",
      " [ 1.00000000e+00  1.00000000e+00  2.30514812e+00  1.97865665e+00\n",
      "  -8.28135252e-01  5.60528338e-01  8.49708652e+00  1.00000000e+00]\n",
      " [ 1.00000000e+00  1.00000000e+00  7.71385527e+00  1.47051239e+00\n",
      "  -9.49210763e-01  3.14640909e-01  1.76701851e+01  2.00000000e+00]\n",
      " [ 1.00000000e+00  1.00000000e+00  4.20092106e+00  4.53138709e-01\n",
      "   5.83920240e-01  8.11811030e-01  4.64174795e+00  1.00000000e+00]\n",
      " [ 4.00000000e+00 -1.00000000e+00  5.70306444e+00  1.73159707e+00\n",
      "   6.48045242e-01  7.61601806e-01  1.66149406e+01  2.00000000e+00]\n",
      " [ 1.00000000e+00 -1.00000000e+00  6.23976994e+00  6.26387060e-01\n",
      "  -9.57603514e-01 -2.88089484e-01  7.50574017e+00  1.00000000e+00]\n",
      " [ 1.00000000e+00 -1.00000000e+00  9.31927776e+00  1.34765077e+00\n",
      "  -1.58452183e-01  9.87366676e-01  1.91433506e+01  2.00000000e+00]\n",
      " [ 1.00000000e+00 -1.00000000e+00  4.32374477e+00  1.71424717e-01\n",
      "   6.05128966e-02 -9.98167396e-01  4.38964987e+00  1.00000000e+00]\n",
      " [ 1.00000000e+00  1.00000000e+00  5.39076853e+00  7.00691044e-01\n",
      "   1.69640109e-02 -9.99856114e-01  6.77059174e+00  1.00000000e+00]\n",
      " [ 1.00000000e+00  1.00000000e+00  1.00672302e+01 -8.25823098e-03\n",
      "   3.93124640e-01 -9.19485211e-01  1.00685406e+01  3.00000000e+00]\n",
      " [ 1.00000000e+00  1.00000000e+00  1.03395166e+01  1.07104897e+00\n",
      "   9.19967830e-01 -3.91993940e-01  1.68596153e+01  1.00000000e+00]\n",
      " [ 1.00000000e+00 -1.00000000e+00  1.79541993e+00 -2.11838794e+00\n",
      "  -1.45052904e-02  9.99894798e-01  7.57611227e+00  1.00000000e+00]\n",
      " [ 1.00000000e+00 -1.00000000e+00  1.04367561e+01 -1.11079192e+00\n",
      "  -3.32668871e-01 -9.43043709e-01  1.75659313e+01  1.00000000e+00]\n",
      " [ 1.00000000e+00 -1.00000000e+00  4.46963406e+00  1.84363258e+00\n",
      "   9.01347339e-01  4.33096975e-01  1.44771328e+01  2.00000000e+00]\n",
      " [ 1.00000000e+00 -1.00000000e+00  4.26882833e-01  2.61391091e+00\n",
      "   7.45101631e-01 -6.66950941e-01  2.93293166e+00  2.00000000e+00]\n",
      " [ 5.00000000e+00 -1.00000000e+00  1.88304062e+01 -5.86161196e-01\n",
      "  -7.10182667e-01 -7.04017460e-01  2.21592693e+01  1.00000000e+00]\n",
      " [ 1.00000000e+00 -1.00000000e+00  5.10357714e+00 -9.88530874e-01\n",
      "   7.28582025e-01 -6.84958577e-01  7.80820608e+00  2.00000000e+00]\n",
      " [ 1.00000000e+00  1.00000000e+00  4.86309147e+00  1.97169065e+00\n",
      "   9.96532142e-01 -8.32084864e-02  1.78043995e+01  2.00000000e+00]\n",
      " [ 1.00000000e+00 -1.00000000e+00  7.68824041e-01 -8.43242526e-01\n",
      "  -1.25839397e-01  9.92050648e-01  1.06790853e+00  0.00000000e+00]\n",
      " [ 1.00000000e+00 -1.00000000e+00  2.73054848e+01  3.03206593e-01\n",
      "  -6.53469443e-01 -7.56952882e-01  2.85706253e+01  2.00000000e+00]\n",
      " [ 1.00000000e+00  1.00000000e+00  5.17084122e+00  2.44961882e+00\n",
      "   1.52203277e-01 -9.88349199e-01  3.01728420e+01  2.00000000e+00]\n",
      " [ 5.00000000e+00 -1.00000000e+00  1.02947111e+01  5.04800916e-01\n",
      "  -9.78242576e-01  2.07464457e-01  1.16349516e+01  1.00000000e+00]\n",
      " [ 1.00000000e+00 -1.00000000e+00  3.27319670e+00 -1.09703195e+00\n",
      "  -3.98044884e-01 -9.17365909e-01  5.45022535e+00  1.00000000e+00]\n",
      " [ 1.00000000e+00  1.00000000e+00  3.43113780e+00 -2.24206042e+00\n",
      "   3.68032157e-01  9.29813087e-01  1.63310013e+01  2.00000000e+00]\n",
      " [ 1.00000000e+00  1.00000000e+00  4.23940468e+00 -9.02099669e-01\n",
      "   3.70927714e-02  9.99311805e-01  6.08618498e+00  1.00000000e+00]\n",
      " [ 1.00000000e+00 -1.00000000e+00  3.47000575e+00  1.28668153e+00\n",
      "   9.97291207e-01 -7.35544711e-02  6.76263762e+00  1.00000000e+00]\n",
      " [ 1.00000000e+00  1.00000000e+00  5.17091990e+00 -1.64674950e+00\n",
      "   8.01402986e-01  5.98124802e-01  1.39176035e+01  2.00000000e+00]\n",
      " [ 1.00000000e+00 -1.00000000e+00  2.54943895e+00 -1.63587403e+00\n",
      "  -7.06018209e-01 -7.08193660e-01  6.79406357e+00  2.00000000e+00]\n",
      " [ 0.00000000e+00  0.00000000e+00  0.00000000e+00  0.00000000e+00\n",
      "   0.00000000e+00  0.00000000e+00  0.00000000e+00  2.00000000e+00]\n",
      " [ 1.00000000e+00  1.00000000e+00  5.77352619e+00 -1.39474547e+00\n",
      "  -9.96847630e-01 -7.93399960e-02  1.23614559e+01  1.00000000e+00]\n",
      " [ 1.00000000e+00 -1.00000000e+00  6.05846691e+00  1.80303550e+00\n",
      "   1.08404219e-01  9.94106889e-01  1.88812332e+01  3.00000000e+00]\n",
      " [ 4.00000000e+00  1.00000000e+00  1.66592884e+00  4.96046841e-01\n",
      "  -9.13393021e-01  4.07078862e-01  1.87512755e+00  1.00000000e+00]\n",
      " [ 1.00000000e+00 -1.00000000e+00  2.34154949e+01 -5.46350539e-01\n",
      "   2.51219928e-01  9.67930019e-01  2.69984074e+01  2.00000000e+00]\n",
      " [ 4.00000000e+00  1.00000000e+00  7.63953400e+00 -1.36257851e+00\n",
      "   5.24869204e-01 -8.51182878e-01  1.58988361e+01  1.00000000e+00]\n",
      " [ 1.00000000e+00 -1.00000000e+00  6.63168669e+00  3.65021646e-01\n",
      "  -7.57682979e-01 -6.52622819e-01  7.07979584e+00  1.00000000e+00]\n",
      " [ 1.00000000e+00  1.00000000e+00  1.03046093e+01  3.77253056e-01\n",
      "   3.29867721e-01 -9.44027185e-01  1.10475035e+01  2.00000000e+00]\n",
      " [ 1.00000000e+00 -1.00000000e+00  1.42677393e+01  1.34995893e-01\n",
      "   9.29053605e-01  3.69945139e-01  1.43986206e+01  2.00000000e+00]\n",
      " [ 1.00000000e+00  1.00000000e+00  3.10736609e+00  1.54279923e+00\n",
      "   9.94911790e-01  1.00750118e-01  7.60104036e+00  3.00000000e+00]\n",
      " [ 1.00000000e+00  1.00000000e+00  3.50906277e+00 -1.03994262e+00\n",
      "  -3.72109056e-01  9.28189039e-01  5.58559227e+00  2.00000000e+00]\n",
      " [ 1.00000000e+00  1.00000000e+00  2.24271202e+00  2.25857720e-01\n",
      "   8.95552576e-01  4.44955766e-01  2.30438852e+00  1.00000000e+00]\n",
      " [ 1.00000000e+00 -1.00000000e+00  7.60809612e+00  1.61193788e+00\n",
      "   5.13499200e-01  8.58090043e-01  1.98272514e+01  1.00000000e+00]\n",
      " [ 0.00000000e+00  0.00000000e+00  0.00000000e+00  0.00000000e+00\n",
      "   0.00000000e+00  0.00000000e+00  0.00000000e+00  2.00000000e+00]\n",
      " [ 1.00000000e+00  1.00000000e+00  8.76568127e+00 -4.76285726e-01\n",
      "  -5.19023061e-01  8.54760230e-01  9.77985382e+00  1.00000000e+00]\n",
      " [ 1.00000000e+00  1.00000000e+00  6.44544268e+00 -4.41217422e-01\n",
      "   7.54016757e-01 -6.56855166e-01  7.08443785e+00  1.00000000e+00]\n",
      " [ 1.00000000e+00 -1.00000000e+00  1.29089298e+01  1.14021254e+00\n",
      "   4.74589556e-01  8.80207241e-01  2.22501659e+01  3.00000000e+00]\n",
      " [ 1.00000000e+00  1.00000000e+00  4.38161039e+00 -4.15388346e-01\n",
      "   6.35770261e-01 -7.71878362e-01  4.76713896e+00  0.00000000e+00]\n",
      " [ 1.00000000e+00 -1.00000000e+00  8.41238976e+00  1.45708406e+00\n",
      "   9.73600984e-01 -2.28256613e-01  1.90391636e+01  2.00000000e+00]\n",
      " [ 1.00000000e+00 -1.00000000e+00  6.96137524e+00  7.01575637e-01\n",
      "   9.98442113e-01 -5.57968803e-02  8.74714756e+00  1.00000000e+00]\n",
      " [ 1.00000000e+00 -1.00000000e+00  2.34293127e+00  1.84432352e+00\n",
      "   2.41598949e-01  9.70376194e-01  7.59466743e+00  2.00000000e+00]\n",
      " [ 1.00000000e+00  1.00000000e+00  5.11949253e+00 -1.76063240e+00\n",
      "  -9.47688997e-01 -3.19195211e-01  1.53285255e+01  2.00000000e+00]\n",
      " [ 1.00000000e+00 -1.00000000e+00  2.03609352e+01  4.88245875e-01\n",
      "  -9.59502757e-01  2.81699240e-01  2.28368168e+01  4.00000000e+00]]\n"
     ]
    }
   ],
   "source": [
    "\n",
    "print(\"True pt from ygen:\", true_pts_ygen)\n",
    "print(\"True pt from ycand:\", true_pts_ycand)"
   ]
  },
  {
   "cell_type": "code",
   "execution_count": 17,
   "id": "de4b47ed",
   "metadata": {},
   "outputs": [
    {
     "name": "stdout",
     "output_type": "stream",
     "text": [
      "(100, 8)\n",
      "(100, 8)\n"
     ]
    }
   ],
   "source": [
    "print(true_pts_ygen.shape)\n",
    "print(true_pts_ycand.shape)"
   ]
  },
  {
   "cell_type": "code",
   "execution_count": 18,
   "id": "5dcab60a",
   "metadata": {},
   "outputs": [],
   "source": [
    "flat_true_pts_ygen = true_pts_ygen.flatten()\n",
    "flat_true_pts_ycand = true_pts_ycand.flatten()"
   ]
  },
  {
   "cell_type": "code",
   "execution_count": 19,
   "id": "23b5ba18",
   "metadata": {},
   "outputs": [
    {
     "data": {
      "image/png": "[encoded data removed]",
      "text/plain": [
       "<IPython.core.display.Image object>"
      ]
     },
     "metadata": {},
     "output_type": "display_data"
    }
   ],
   "source": [
    "hist_ygen = ROOT.TH1F(\"hist_ygen\", \"True pT from ygen\", 100, 0, 100)\n",
    "hist_ycand = ROOT.TH1F(\"hist_ycand\", \"True pT from ycand\", 100, 0, 100)\n",
    "\n",
    "\n",
    "# Fill histograms with 'pt' values\n",
    "for value in flat_true_pts_ygen:\n",
    "    hist_ygen.Fill(value)\n",
    "\n",
    "for value in flat_true_pts_ycand:\n",
    "    hist_ycand.Fill(value)\n",
    "\n",
    "    \n",
    "canvas = ROOT.TCanvas(\"canvas\", \"True pt Comparison\", 800, 600)\n",
    "\n",
    "hist_ygen.Draw()\n",
    "hist_ygen.SetTitle(\"\")\n",
    "hist_ygen.SetLineColor(ROOT.kBlue)\n",
    "hist_ygen.GetXaxis().SetTitle(\"pT(GeV/c)\")\n",
    "hist_ygen.GetYaxis().SetTitle(\"Count\")\n",
    "\n",
    "hist_ycand.Draw(\"SAME\")\n",
    "hist_ycand.SetLineColor(ROOT.kRed)\n",
    "  \n",
    "legend = ROOT.TLegend(0.6, 0.77, 0.75, 0.9)\n",
    "legend.AddEntry(hist_ygen, \" pT from ygen\", \"l\")\n",
    "legend.AddEntry(hist_ycand, \" pT from ycand\", \"l\")\n",
    "legend.Draw(\"SAME\")\n",
    "\n",
    "canvas.Draw()\n"
   ]
  },
  {
   "cell_type": "markdown",
   "id": "2d213a34",
   "metadata": {},
   "source": [
    "## Standardize `pT` values\n",
    "\n"
   ]
  },
  {
   "cell_type": "code",
   "execution_count": 20,
   "id": "4af694ac",
   "metadata": {},
   "outputs": [],
   "source": [
    "mean_ygen = np.mean(flat_true_pts_ygen)\n",
    "std_ygen = np.std(flat_true_pts_ygen)\n",
    "\n",
    "standardized_true_pts_ygen = (flat_true_pts_ygen - mean_ygen) / std_ygen\n",
    "\n",
    "mean_ycand = np.mean(flat_true_pts_ycand)\n",
    "std_ycand = np.std(flat_true_pts_ycand)\n",
    "\n",
    "standardized_true_pts_ycand = (flat_true_pts_ycand - mean_ycand) / std_ycand"
   ]
  },
  {
   "cell_type": "code",
   "execution_count": 21,
   "id": "30b5e4d5",
   "metadata": {},
   "outputs": [
    {
     "name": "stderr",
     "output_type": "stream",
     "text": [
      "Warning in <TCanvas::Constructor>: Deleting canvas with same name: canvas\n"
     ]
    },
    {
     "data": {
      "image/png": "[encoded data removed]",
      "text/plain": [
       "<IPython.core.display.Image object>"
      ]
     },
     "metadata": {},
     "output_type": "display_data"
    }
   ],
   "source": [
    "hist_ygen_standardized = ROOT.TH1F(\"hist_ygen_standardized\", \"Standardized True pt from ygen\", 100, -3, 3)\n",
    "hist_ycand_standardized = ROOT.TH1F(\"hist_ycand_standardized\", \"Standardized True pt from ycand\", 100, -3, 3)\n",
    "\n",
    "for value in standardized_true_pts_ygen:\n",
    "    hist_ygen_standardized.Fill(value)\n",
    "\n",
    "for value in standardized_true_pts_ycand:\n",
    "    hist_ycand_standardized.Fill(value)\n",
    "    \n",
    "    \n",
    "canvas = ROOT.TCanvas(\"canvas\", \"True pt Comparison\", 800, 600)\n",
    "\n",
    "hist_ygen_standardized.Draw()\n",
    "hist_ygen_standardized.SetTitle(\"Standradized pT\")\n",
    "hist_ygen_standardized.SetLineColor(ROOT.kBlue)\n",
    "# hist_ygen_standardized.GetXaxis().SetTitle(\"pT(GeV/c)\")\n",
    "hist_ygen_standardized.GetYaxis().SetTitle(\"Count\")\n",
    "\n",
    "hist_ycand_standardized.Draw(\"SAME\")\n",
    "hist_ycand_standardized.SetLineColor(ROOT.kRed)\n",
    "  \n",
    "legend = ROOT.TLegend(0.6, 0.77, 0.75, 0.9)\n",
    "legend.AddEntry(hist_ygen, \" ygen\", \"l\")\n",
    "legend.AddEntry(hist_ycand, \"ycand \", \"l\")\n",
    "legend.Draw(\"SAME\")\n",
    "\n",
    "canvas.Draw()"
   ]
  },
  {
   "cell_type": "markdown",
   "id": "aca1fb31",
   "metadata": {},
   "source": [
    "quantizing the input data"
   ]
  },
  {
   "cell_type": "code",
   "execution_count": 22,
   "id": "87ab14d0",
   "metadata": {},
   "outputs": [],
   "source": [
    "scale_factor_ygen = np.max(np.abs(standardized_true_pts_ygen)) / 127.0\n",
    "quantized_true_pts_ygen = (standardized_true_pts_ygen / scale_factor_ygen).astype(np.int8)\n",
    "\n",
    "scale_factor_ycand = np.max(np.abs(standardized_true_pts_ycand)) / 127.0\n",
    "quantized_true_pts_ycand = (standardized_true_pts_ycand / scale_factor_ycand).astype(np.int8)\n"
   ]
  },
  {
   "cell_type": "code",
   "execution_count": 23,
   "id": "af64cbf0",
   "metadata": {},
   "outputs": [
    {
     "data": {
      "image/png": "[encoded data removed]",
      "text/plain": [
       "<IPython.core.display.Image object>"
      ]
     },
     "metadata": {},
     "output_type": "display_data"
    }
   ],
   "source": [
    "hist_ygen_quantized = ROOT.TH1F(\"hist_ygen_quantized\", \"\", 100, -128, 128)\n",
    "hist_ycand_quantized = ROOT.TH1F(\"hist_ycand_quantized\", \"Quantized Standardized True pt from ycand\", 100, -128, 128)\n",
    "\n",
    "# Fill histograms with quantized standardized 'pt' values\n",
    "for value in quantized_true_pts_ygen:\n",
    "    hist_ygen_quantized.Fill(value)\n",
    "\n",
    "for value in quantized_true_pts_ycand:\n",
    "    hist_ycand_quantized.Fill(value)\n",
    "    \n",
    "    \n",
    "# Create canvas and draw histograms\n",
    "canvas_quantized = ROOT.TCanvas(\"canvas_quantized\", \"Quantized Standardized True pt Comparison\", 800, 600)\n",
    "\n",
    "hist_ygen_quantized.Draw()\n",
    "# hist_ygen_quantized.SetTitle(\"Quantized Standardized True pt Comparison\")\n",
    "hist_ygen_quantized.SetLineColor(ROOT.kBlue)\n",
    "# hist_ygen_quantized.GetXaxis().SetTitle(\"Quantized pt\")\n",
    "hist_ygen_quantized.GetYaxis().SetTitle(\"Count\")\n",
    "\n",
    "hist_ycand_quantized.Draw(\"SAME\")\n",
    "hist_ycand_quantized.SetLineColor(ROOT.kRed)\n",
    "\n",
    "# Add a legend\n",
    "legend_quantized = ROOT.TLegend(0.65, 0.79, 0.78, 0.9)\n",
    "legend_quantized.AddEntry(hist_ygen_quantized, \"Quantized pT ygen\", \"l\")\n",
    "legend_quantized.AddEntry(hist_ycand_quantized, \"Quantized pT ycand\", \"l\")\n",
    "legend_quantized.Draw(\"SAME\")\n",
    "\n",
    "# Show the canvas\n",
    "canvas_quantized.Draw()"
   ]
  },
  {
   "cell_type": "markdown",
   "id": "c9264f4e",
   "metadata": {},
   "source": [
    "Quantizing the model"
   ]
  },
  {
   "cell_type": "markdown",
   "id": "fcd5113b",
   "metadata": {},
   "source": [
    "**Questions**\n",
    "1. Which type of quantization we need to do?\n",
    "2. Which is the best quantization for the dataset?\n",
    "3. How can we use the inference and measure it?\n"
   ]
  },
  {
   "cell_type": "markdown",
   "id": "0efac648",
   "metadata": {},
   "source": [
    "We can start with the Post-training dynamic range quantization and then if can get success we can move to integer quantization and float16 quantization."
   ]
  },
  {
   "cell_type": "markdown",
   "id": "977366ba",
   "metadata": {},
   "source": [
    "Using the TensorFlow Lite Converter, you can now convert the trained model into a TensorFlow Lite model.\n",
    "\n"
   ]
  },
  {
   "cell_type": "code",
   "execution_count": 24,
   "id": "4fc8bb47",
   "metadata": {},
   "outputs": [
    {
     "name": "stderr",
     "output_type": "stream",
     "text": [
      "2024-01-23 15:52:28.514925: W tensorflow/compiler/mlir/lite/python/tf_tfl_flatbuffer_helpers.cc:364] Ignored output_format.\n",
      "2024-01-23 15:52:28.514968: W tensorflow/compiler/mlir/lite/python/tf_tfl_flatbuffer_helpers.cc:367] Ignored drop_control_dependency.\n",
      "2024-01-23 15:52:28.515423: I tensorflow/cc/saved_model/reader.cc:45] Reading SavedModel from: /tmp/sraj/tmph7549bm6\n",
      "2024-01-23 15:52:28.560077: I tensorflow/cc/saved_model/reader.cc:91] Reading meta graph with tags { serve }\n",
      "2024-01-23 15:52:28.560126: I tensorflow/cc/saved_model/reader.cc:132] Reading SavedModel debug info (if present) from: /tmp/sraj/tmph7549bm6\n",
      "2024-01-23 15:52:28.683551: I tensorflow/compiler/mlir/mlir_graph_optimization_pass.cc:375] MLIR V1 optimization pass is not enabled\n",
      "2024-01-23 15:52:28.740149: I tensorflow/cc/saved_model/loader.cc:231] Restoring SavedModel bundle.\n",
      "2024-01-23 15:52:29.363482: I tensorflow/cc/saved_model/loader.cc:215] Running initialization op on SavedModel bundle at path: /tmp/sraj/tmph7549bm6\n",
      "2024-01-23 15:52:29.757493: I tensorflow/cc/saved_model/loader.cc:314] SavedModel load for tags { serve }; Status: success: OK. Took 1242070 microseconds.\n",
      "2024-01-23 15:52:30.406879: I tensorflow/compiler/mlir/tensorflow/utils/dump_mlir_util.cc:255] disabling MLIR crash reproducer, set env var `MLIR_CRASH_REPRODUCER_DIRECTORY` to enable.\n"
     ]
    }
   ],
   "source": [
    "converter = tf.lite.TFLiteConverter.from_keras_model(model)\n",
    "tflite_model = converter.convert()\n"
   ]
  },
  {
   "cell_type": "markdown",
   "id": "d6d5a30b",
   "metadata": {},
   "source": [
    "Write it out to a tflite file:\n",
    "\n"
   ]
  },
  {
   "cell_type": "code",
   "execution_count": 25,
   "id": "e9a8a6ea",
   "metadata": {},
   "outputs": [],
   "source": [
    "tflite_models_dir = pathlib.Path(\"/tmp/working1_tflite_models/\")\n",
    "tflite_models_dir.mkdir(exist_ok=True, parents=True)"
   ]
  },
  {
   "cell_type": "code",
   "execution_count": 26,
   "id": "fe53d0b1",
   "metadata": {},
   "outputs": [
    {
     "data": {
      "text/plain": [
       "22305380"
      ]
     },
     "execution_count": 26,
     "metadata": {},
     "output_type": "execute_result"
    }
   ],
   "source": [
    "tflite_model_file = tflite_models_dir/\"working1_tflite_models.tflite\"\n",
    "tflite_model_file.write_bytes(tflite_model)"
   ]
  },
  {
   "cell_type": "markdown",
   "id": "979148a4",
   "metadata": {},
   "source": [
    "To quantize the model on export, set the optimizations flag to optimize for size:\n",
    "\n"
   ]
  },
  {
   "cell_type": "code",
   "execution_count": 27,
   "id": "08680c46",
   "metadata": {},
   "outputs": [
    {
     "data": {
      "text/plain": [
       "5963072"
      ]
     },
     "execution_count": 27,
     "metadata": {},
     "output_type": "execute_result"
    },
    {
     "name": "stderr",
     "output_type": "stream",
     "text": [
      "2024-01-23 15:53:24.823999: W tensorflow/compiler/mlir/lite/python/tf_tfl_flatbuffer_helpers.cc:364] Ignored output_format.\n",
      "2024-01-23 15:53:24.824046: W tensorflow/compiler/mlir/lite/python/tf_tfl_flatbuffer_helpers.cc:367] Ignored drop_control_dependency.\n",
      "2024-01-23 15:53:24.824459: I tensorflow/cc/saved_model/reader.cc:45] Reading SavedModel from: /tmp/sraj/tmpcf8thm7p\n",
      "2024-01-23 15:53:24.956857: I tensorflow/cc/saved_model/reader.cc:91] Reading meta graph with tags { serve }\n",
      "2024-01-23 15:53:24.956911: I tensorflow/cc/saved_model/reader.cc:132] Reading SavedModel debug info (if present) from: /tmp/sraj/tmpcf8thm7p\n",
      "2024-01-23 15:53:25.225228: I tensorflow/cc/saved_model/loader.cc:231] Restoring SavedModel bundle.\n",
      "2024-01-23 15:53:25.845076: I tensorflow/cc/saved_model/loader.cc:215] Running initialization op on SavedModel bundle at path: /tmp/sraj/tmpcf8thm7p\n",
      "2024-01-23 15:53:26.270379: I tensorflow/cc/saved_model/loader.cc:314] SavedModel load for tags { serve }; Status: success: OK. Took 1445919 microseconds.\n"
     ]
    }
   ],
   "source": [
    "converter.optimizations = [tf.lite.Optimize.DEFAULT]\n",
    "tflite_quant_model = converter.convert()\n",
    "tflite_model_quant_file = tflite_models_dir/\"working_model_quant.tflite\"\n",
    "tflite_model_quant_file.write_bytes(tflite_quant_model)"
   ]
  },
  {
   "cell_type": "markdown",
   "id": "4956c192",
   "metadata": {},
   "source": [
    "Note how the resulting file, is approximately 1/4 the size.\n",
    "\n"
   ]
  },
  {
   "cell_type": "code",
   "execution_count": 28,
   "id": "7bbd3bf2",
   "metadata": {},
   "outputs": [
    {
     "name": "stdout",
     "output_type": "stream",
     "text": [
      "total 27M\r\n",
      "-rw-r--r--. 1 sraj zh  22M Jan 23 15:52 working1_tflite_models.tflite\r\n",
      "-rw-r--r--. 1 sraj zh 5.7M Jan 23 15:53 working_model_quant.tflite\r\n"
     ]
    }
   ],
   "source": [
    "ls -lh {tflite_models_dir}"
   ]
  },
  {
   "cell_type": "markdown",
   "id": "a6ee44f5",
   "metadata": {},
   "source": [
    "Task is to run the TFLite models"
   ]
  },
  {
   "cell_type": "code",
   "execution_count": 29,
   "id": "35b33272",
   "metadata": {},
   "outputs": [
    {
     "name": "stderr",
     "output_type": "stream",
     "text": [
      "INFO: Created TensorFlow Lite XNNPACK delegate for CPU.\n"
     ]
    }
   ],
   "source": [
    "# Load the model into an interpreter\n",
    "interpreter = tf.lite.Interpreter(model_path=str(tflite_model_file))\n",
    "interpreter.allocate_tensors()"
   ]
  },
  {
   "cell_type": "code",
   "execution_count": 30,
   "id": "b5ad26d1",
   "metadata": {},
   "outputs": [],
   "source": [
    "interpreter_quant = tf.lite.Interpreter(model_path=str(tflite_model_quant_file))\n",
    "interpreter_quant.allocate_tensors()"
   ]
  },
  {
   "cell_type": "markdown",
   "id": "9bc61794",
   "metadata": {},
   "source": [
    "Test the model on the quantized data "
   ]
  },
  {
   "cell_type": "markdown",
   "id": "8b9aa548",
   "metadata": {},
   "source": [
    "https://www.tensorflow.org/lite/performance/post_training_quant"
   ]
  },
  {
   "cell_type": "code",
   "execution_count": 31,
   "id": "cf2d04e4",
   "metadata": {},
   "outputs": [],
   "source": [
    "# Load the quantized model into an interpreter\n",
    "interpreter_quant = tf.lite.Interpreter(model_path=str(tflite_model_quant_file))\n",
    "interpreter_quant.allocate_tensors()\n"
   ]
  },
  {
   "cell_type": "code",
   "execution_count": 32,
   "id": "ee24bc5a",
   "metadata": {},
   "outputs": [
    {
     "name": "stdout",
     "output_type": "stream",
     "text": [
      "Expected Input Shape: [  1 111  17]\n"
     ]
    }
   ],
   "source": [
    "#Print Expected Input Shape:\n",
    "print(\"Expected Input Shape:\", interpreter_quant.get_input_details()[0]['shape'])\n"
   ]
  },
  {
   "cell_type": "code",
   "execution_count": 38,
   "id": "b8abb36b",
   "metadata": {},
   "outputs": [],
   "source": [
    "# Placeholder for input and output tensor indices\n",
    "input_tensor_index = 0  # Replace with the actual input tensor index\n",
    "output_tensor_index = 0  # Replace with the actual output tensor index\n",
    "\n",
    "quantized_true_pts_ygen = []  # List to store true quantized pT values from ygen\n",
    "quantized_pred_pts_ygen = []  # List to store predicted quantized pT values from ygen\n",
    "\n",
    "quantized_true_pts_ycand = []  # List to store true quantized pT values from ycand\n",
    "quantized_pred_pts_ycand = []  # List to store predicted quantized pT values from ycand\n",
    "\n",
    "# Function to dequantize the output tensor\n",
    "def dequantize(tensor, scale_factor, dtype=np.float32):\n",
    "    # Implement your dequantization logic here\n",
    "    # Example: dequantized_tensor = tensor * scale_factor\n",
    "    pass"
   ]
  },
  {
   "cell_type": "code",
   "execution_count": 40,
   "id": "208080c7",
   "metadata": {},
   "outputs": [
    {
     "ename": "IndexError",
     "evalue": "list index out of range",
     "output_type": "error",
     "traceback": [
      "\u001b[0;31m---------------------------------------------------------------------------\u001b[0m",
      "\u001b[0;31mIndexError\u001b[0m                                Traceback (most recent call last)",
      "\u001b[0;32m/tmp/sraj/ipykernel_3929611/3867652854.py\u001b[0m in \u001b[0;36m<module>\u001b[0;34m\u001b[0m\n\u001b[1;32m      1\u001b[0m \u001b[0;31m# Inference loop for ygen\u001b[0m\u001b[0;34m\u001b[0m\u001b[0;34m\u001b[0m\u001b[0m\n\u001b[1;32m      2\u001b[0m \u001b[0;32mfor\u001b[0m \u001b[0mibatch\u001b[0m \u001b[0;32min\u001b[0m \u001b[0mrange\u001b[0m\u001b[0;34m(\u001b[0m\u001b[0mlen\u001b[0m\u001b[0;34m(\u001b[0m\u001b[0mXs\u001b[0m\u001b[0;34m)\u001b[0m\u001b[0;34m)\u001b[0m\u001b[0;34m:\u001b[0m\u001b[0;34m\u001b[0m\u001b[0;34m\u001b[0m\u001b[0m\n\u001b[0;32m----> 3\u001b[0;31m     \u001b[0minterpreter_quant\u001b[0m\u001b[0;34m.\u001b[0m\u001b[0mset_tensor\u001b[0m\u001b[0;34m(\u001b[0m\u001b[0minput_tensor_index\u001b[0m\u001b[0;34m,\u001b[0m \u001b[0mquantized_true_pts_ygen\u001b[0m\u001b[0;34m[\u001b[0m\u001b[0mibatch\u001b[0m\u001b[0;34m]\u001b[0m\u001b[0;34m)\u001b[0m  \u001b[0;31m# Corrected line\u001b[0m\u001b[0;34m\u001b[0m\u001b[0;34m\u001b[0m\u001b[0m\n\u001b[0m\u001b[1;32m      4\u001b[0m     \u001b[0minterpreter_quant\u001b[0m\u001b[0;34m.\u001b[0m\u001b[0minvoke\u001b[0m\u001b[0;34m(\u001b[0m\u001b[0;34m)\u001b[0m\u001b[0;34m\u001b[0m\u001b[0;34m\u001b[0m\u001b[0m\n\u001b[1;32m      5\u001b[0m     \u001b[0mquantized_ret_ygen\u001b[0m \u001b[0;34m=\u001b[0m \u001b[0minterpreter_quant\u001b[0m\u001b[0;34m.\u001b[0m\u001b[0mget_tensor\u001b[0m\u001b[0;34m(\u001b[0m\u001b[0moutput_tensor_index\u001b[0m\u001b[0;34m)\u001b[0m\u001b[0;34m\u001b[0m\u001b[0;34m\u001b[0m\u001b[0m\n",
      "\u001b[0;31mIndexError\u001b[0m: list index out of range"
     ]
    }
   ],
   "source": [
    "# Inference loop for ygen\n",
    "for ibatch in range(len(Xs)):\n",
    "    interpreter_quant.set_tensor(input_tensor_index, quantized_true_pts_ygen[ibatch])  # Corrected line\n",
    "    interpreter_quant.invoke()\n",
    "    quantized_ret_ygen = interpreter_quant.get_tensor(output_tensor_index)\n",
    "    dequantized_pred_pt_ygen = dequantize(quantized_ret_ygen, scale_factor_ygen, dtype=np.float32)\n",
    "    quantized_true_pts_ygen.append(quantized_true_pt)\n",
    "    quantized_pred_pts_ygen.append(dequantized_pred_pt_ygen)"
   ]
  },
  {
   "cell_type": "code",
   "execution_count": null,
   "id": "6cc34c0d",
   "metadata": {},
   "outputs": [],
   "source": []
  },
  {
   "cell_type": "code",
   "execution_count": null,
   "id": "466cc363",
   "metadata": {},
   "outputs": [],
   "source": []
  },
  {
   "cell_type": "code",
   "execution_count": null,
   "id": "6bddd92c",
   "metadata": {},
   "outputs": [],
   "source": [
    "# Flatten the lists\n",
    "true_pts_quantized_flat = np.concatenate(true_pts_quantized)\n",
    "pred_pts_quantized_flat = np.concatenate(pred_pts_quantized)\n",
    "\n",
    "# Plot the histogram of predicted/true pT ratio from quantized inference\n",
    "plt.hist(pred_pts_quantized_flat / true_pts_quantized_flat, bins=np.linspace(0, 3, 100))\n",
    "plt.yscale(\"log\")\n",
    "plt.xlabel(\"Predicted True Pt Ratio (Quantized Inference)\")\n",
    "plt.ylabel(\"Count\")\n",
    "plt.title(\"Histogram of Predicted True Pt Ratio from Quantized Inference\")\n",
    "plt.show()\n"
   ]
  },
  {
   "cell_type": "markdown",
   "id": "a385e2f9",
   "metadata": {},
   "source": [
    "Above is done for a smaller dataset sample of 100 for the quantization. We only played with pT, we have another variables as well.\n",
    "Task:\n",
    "1. Try to work with more number of samples.\n",
    "2. Try to work with different Variables.\n",
    "3. Try with different model quantization"
   ]
  },
  {
   "cell_type": "code",
   "execution_count": null,
   "id": "60a8784a",
   "metadata": {},
   "outputs": [],
   "source": [
    "## For Eta as the variable"
   ]
  },
  {
   "cell_type": "code",
   "execution_count": 18,
   "id": "0bbaa53f",
   "metadata": {},
   "outputs": [],
   "source": [
    "true_pts = []\n",
    "pred_pts = []\n",
    "\n",
    "for ibatch in range(len(Xs)):\n",
    "    ret = model(Xs[ibatch])\n",
    "\n",
    "    mask_true_particles = ys[ibatch][..., 0]!=0\n",
    "    \n",
    "    true_pt = ys[ibatch][mask_true_particles, 3]\n",
    "    pred_pt = ret[\"eta\"][mask_true_particles][..., 0].numpy()\n",
    "\n",
    "    true_pts.append(true_pt)\n",
    "    pred_pts.append(pred_pt)"
   ]
  },
  {
   "cell_type": "code",
   "execution_count": 19,
   "id": "8c10bf54",
   "metadata": {},
   "outputs": [
    {
     "data": {
      "image/png": "[encoded data removed]",
      "text/plain": [
       "<Figure size 432x288 with 1 Axes>"
      ]
     },
     "metadata": {
      "needs_background": "light"
     },
     "output_type": "display_data"
    }
   ],
   "source": [
    "true_pt = np.concatenate(true_pts)\n",
    "pred_pt = np.concatenate(pred_pts)\n",
    "plt.hist(pred_pt/true_pt, bins=np.linspace(0,3,100));\n",
    "plt.yscale(\"log\")"
   ]
  },
  {
   "cell_type": "code",
   "execution_count": 26,
   "id": "d2d5f6fd",
   "metadata": {},
   "outputs": [],
   "source": [
    "true_etas_ygen = np.concatenate([d[\"ygen\"][:, 3] for d in data])\n",
    "true_etas_ycand = np.concatenate([d[\"ycand\"][:, 3] for d in data])"
   ]
  },
  {
   "cell_type": "code",
   "execution_count": 27,
   "id": "f9308a18",
   "metadata": {},
   "outputs": [
    {
     "name": "stdout",
     "output_type": "stream",
     "text": [
      "True eta from ygen: [[ 1.00000000e+00 -1.00000000e+00  1.00993001e+00  4.49878037e-01\n",
      "  -1.43312663e-01  9.89677489e-01  1.12257564e+00  2.00000000e+00]\n",
      " [ 1.00000000e+00 -1.00000000e+00  2.42714381e+00  2.29693890e+00\n",
      "  -7.16479957e-01  6.97607636e-01  1.21994286e+01  2.00000000e+00]\n",
      " [ 1.00000000e+00 -1.00000000e+00  1.86482263e+00 -1.32520616e+00\n",
      "   9.37190115e-01 -3.48818988e-01  3.78871560e+00  1.00000000e+00]\n",
      " [ 1.00000000e+00  1.00000000e+00  4.06357718e+00 -9.96410012e-01\n",
      "   1.52879087e-02 -9.99883115e-01  6.25488043e+00  1.00000000e+00]\n",
      " [ 1.00000000e+00 -1.00000000e+00  8.13341713e+00 -8.91916275e-01\n",
      "  -9.09296036e-01 -4.16149884e-01  1.16266985e+01  3.00000000e+00]\n",
      " [ 1.00000000e+00 -1.00000000e+00  3.51024580e+00  2.34390092e+00\n",
      "  -8.27127099e-01 -5.62014878e-01  1.84665680e+01  2.00000000e+00]\n",
      " [ 1.00000000e+00 -1.00000000e+00  3.12702346e+00 -1.20095491e+00\n",
      "   2.81671405e-01  9.59510922e-01  5.68793726e+00  3.00000000e+00]\n",
      " [ 1.00000000e+00  1.00000000e+00  4.12706280e+00  2.49098856e-02\n",
      "  -9.17590559e-01  3.97526830e-01  4.23362350e+00  1.00000000e+00]\n",
      " [ 1.00000000e+00 -1.00000000e+00  4.75340223e+00  1.92110431e+00\n",
      "  -7.60414362e-01 -6.49438262e-01  1.65779362e+01  2.00000000e+00]\n",
      " [ 1.00000000e+00  1.00000000e+00  8.51570845e-01 -1.37132001e+00\n",
      "   4.69395190e-01  8.82988214e-01  1.79132605e+00  0.00000000e+00]\n",
      " [ 1.00000000e+00  1.00000000e+00  2.97950506e-01  1.54437053e+00\n",
      "  -4.35008675e-01  9.00426269e-01  7.42977500e-01  0.00000000e+00]\n",
      " [ 1.00000000e+00 -1.00000000e+00  1.06877403e+01  3.66823852e-01\n",
      "   1.24920562e-01  9.92166758e-01  1.14255810e+01  2.00000000e+00]\n",
      " [ 1.00000000e+00 -1.00000000e+00  2.73058772e+00  1.48451138e+00\n",
      "   8.82743895e-01  4.69854474e-01  6.33571148e+00  2.00000000e+00]\n",
      " [ 1.00000000e+00  1.00000000e+00  1.03950434e+01 -1.06841135e+00\n",
      "  -4.72222567e-01  8.81479383e-01  1.69148998e+01  2.00000000e+00]\n",
      " [ 4.00000000e+00  1.00000000e+00  3.06914997e+00  7.33351052e-01\n",
      "   5.11155501e-02 -9.98692751e-01  3.93210697e+00  1.00000000e+00]\n",
      " [ 1.00000000e+00 -1.00000000e+00  6.60808372e+00 -9.82225657e-01\n",
      "   1.56754613e-01  9.87637579e-01  1.00613461e+01  1.00000000e+00]\n",
      " [ 1.00000000e+00 -1.00000000e+00  6.57715654e+00 -1.65455246e+00\n",
      "  -6.01066530e-01  7.99198985e-01  1.78309402e+01  2.00000000e+00]\n",
      " [ 1.00000000e+00  1.00000000e+00  7.52716482e-01 -1.49802995e+00\n",
      "  -8.11717510e-01  5.84050179e-01  1.77304518e+00  0.00000000e+00]\n",
      " [ 1.00000000e+00 -1.00000000e+00  5.98209918e-01  2.42792773e+00\n",
      "   9.92952108e-01 -1.18516222e-01  3.41970134e+00  0.00000000e+00]\n",
      " [ 1.00000000e+00 -1.00000000e+00  1.48027592e+01 -3.31733793e-01\n",
      "   5.11037946e-01 -8.59558165e-01  1.56253815e+01  1.00000000e+00]\n",
      " [ 1.00000000e+00  1.00000000e+00  9.30948162e+00  7.64700472e-01\n",
      "  -9.16707277e-01  3.99559438e-01  1.22027988e+01  4.00000000e+00]\n",
      " [ 1.00000000e+00 -1.00000000e+00  2.06694508e+00  2.23135662e+00\n",
      "   9.42225993e-01  3.34977895e-01  9.73618031e+00  2.00000000e+00]\n",
      " [ 1.00000000e+00 -1.00000000e+00  5.23062992e+00 -1.39438272e+00\n",
      "  -9.87122953e-01 -1.59963340e-01  1.11956491e+01  2.00000000e+00]\n",
      " [ 1.00000000e+00  1.00000000e+00  5.16399765e+00  9.51135159e-01\n",
      "  -9.15447772e-01 -4.02436852e-01  7.68258190e+00  1.00000000e+00]\n",
      " [ 1.00000000e+00  1.00000000e+00  3.08266139e+00 -1.40608251e+00\n",
      "   4.23645735e-01 -9.05827940e-01  6.66778135e+00  2.00000000e+00]\n",
      " [ 1.00000000e+00 -1.00000000e+00  9.38520968e-01 -1.59814143e+00\n",
      "   9.27699924e-01 -3.73326778e-01  2.41889477e+00  2.00000000e+00]\n",
      " [ 1.00000000e+00  1.00000000e+00  9.33730221e+00  6.49321496e-01\n",
      "   9.96776700e-01 -8.02257508e-02  1.13766861e+01  2.00000000e+00]\n",
      " [ 1.00000000e+00 -1.00000000e+00  2.97402716e+00 -2.18872786e+00\n",
      "  -9.01851058e-01  4.32047099e-01  1.34372501e+01  2.00000000e+00]\n",
      " [ 1.00000000e+00 -1.00000000e+00  8.21075535e+00  1.63339770e+00\n",
      "   6.69296384e-01  7.42995560e-01  2.18267307e+01  3.00000000e+00]\n",
      " [ 1.00000000e+00 -1.00000000e+00  2.98155546e+00 -5.52007079e-01\n",
      "   5.08957766e-02 -9.98703957e-01  3.45028949e+00  1.00000000e+00]\n",
      " [ 0.00000000e+00  0.00000000e+00  0.00000000e+00  0.00000000e+00\n",
      "   0.00000000e+00  0.00000000e+00  0.00000000e+00  0.00000000e+00]\n",
      " [ 1.00000000e+00  1.00000000e+00  2.65978909e+00  2.43095779e+00\n",
      "   4.41046715e-01 -8.97484124e-01  1.52664194e+01  2.00000000e+00]\n",
      " [ 1.00000000e+00  1.00000000e+00  3.67376041e+00  1.13702095e+00\n",
      "  -8.62853825e-02  9.96270478e-01  6.31717777e+00  1.00000000e+00]\n",
      " [ 1.00000000e+00  1.00000000e+00  2.75805187e+00  2.32107806e+00\n",
      "   8.42310548e-01  5.38992465e-01  1.42140341e+01  2.00000000e+00]\n",
      " [ 1.00000000e+00  1.00000000e+00  1.33711278e+00 -7.18147755e-01\n",
      "   4.58161145e-01  8.88869166e-01  1.70271719e+00  1.00000000e+00]\n",
      " [ 1.00000000e+00  1.00000000e+00  3.32897615e+00 -2.42380619e+00\n",
      "  -6.69945240e-01  7.42410541e-01  1.89606590e+01  2.00000000e+00]\n",
      " [ 1.00000000e+00 -1.00000000e+00  4.66894960e+00 -1.06764793e+00\n",
      "  -9.99600053e-01 -2.82792728e-02  7.59380388e+00  2.00000000e+00]\n",
      " [ 1.00000000e+00  1.00000000e+00  3.31352139e+00 -1.83938336e+00\n",
      "   9.87004757e-01 -1.60691112e-01  1.07001057e+01  2.00000000e+00]\n",
      " [ 1.00000000e+00 -1.00000000e+00  3.67148662e+00 -2.31444812e+00\n",
      "  -9.80388820e-01 -1.97072864e-01  1.87584343e+01  2.00000000e+00]\n",
      " [ 1.00000000e+00 -1.00000000e+00  8.54526615e+00 -7.98550069e-01\n",
      "   9.94853914e-01  1.01319633e-01  1.14185982e+01  1.00000000e+00]\n",
      " [ 1.00000000e+00  1.00000000e+00  5.24061298e+00 -1.06884027e+00\n",
      "   2.61242270e-01  9.65273261e-01  8.53130531e+00  2.00000000e+00]\n",
      " [ 1.00000000e+00 -1.00000000e+00  6.89109373e+00 -1.27379203e+00\n",
      "  -4.98861037e-02  9.98754919e-01  1.32803879e+01  2.00000000e+00]\n",
      " [ 1.00000000e+00 -1.00000000e+00  4.86763620e+00  8.48809719e-01\n",
      "   8.33846986e-01  5.51995695e-01  6.74707603e+00  1.00000000e+00]\n",
      " [ 1.00000000e+00  1.00000000e+00  4.93612051e+00 -6.04358196e-01\n",
      "   2.69759685e-01 -9.62927699e-01  5.86701155e+00  1.00000000e+00]\n",
      " [ 1.00000000e+00  1.00000000e+00  8.26158464e-01 -2.18645453e+00\n",
      "   5.04788458e-01  8.63243103e-01  3.72689700e+00  2.00000000e+00]\n",
      " [ 1.00000000e+00  1.00000000e+00  5.62135029e+00 -1.69630647e+00\n",
      "  -5.93715191e-01  8.04675221e-01  1.58447437e+01  2.00000000e+00]\n",
      " [ 1.00000000e+00  1.00000000e+00  1.21954880e+01  1.34783864e-01\n",
      "   5.61689697e-02  9.98421252e-01  1.23072233e+01  1.00000000e+00]\n",
      " [ 1.00000000e+00 -1.00000000e+00  7.27332592e-01  1.35309899e+00\n",
      "  -9.92465675e-01 -1.22522987e-01  1.50762928e+00  0.00000000e+00]\n",
      " [ 1.00000000e+00 -1.00000000e+00  9.03894138e+00 -1.05613935e+00\n",
      "  -8.78271103e-01  4.78163034e-01  1.45671263e+01  2.00000000e+00]\n",
      " [ 1.00000000e+00  1.00000000e+00  1.88231671e+00  2.37677145e+00\n",
      "   8.88129175e-01  4.59593952e-01  1.02246847e+01  2.00000000e+00]\n",
      " [ 1.00000000e+00  1.00000000e+00  2.14383340e+00  1.96835387e+00\n",
      "  -4.64143813e-01  8.85759830e-01  7.82470322e+00  1.00000000e+00]\n",
      " [ 1.00000000e+00 -1.00000000e+00  7.22784948e+00  1.26977146e+00\n",
      "   9.46266949e-01 -3.23386550e-01  1.38815508e+01  1.00000000e+00]\n",
      " [ 1.00000000e+00 -1.00000000e+00  2.99837542e+00  6.02848768e-01\n",
      "   5.00248075e-01  8.65882158e-01  3.56265736e+00  1.00000000e+00]\n",
      " [ 1.00000000e+00  1.00000000e+00  4.89914656e+00  1.67181492e+00\n",
      "  -6.93931222e-01 -7.20041275e-01  1.34971914e+01  1.00000000e+00]\n",
      " [ 1.00000000e+00 -1.00000000e+00  5.16317654e+00  5.43489158e-01\n",
      "  -9.61733758e-01 -2.73985714e-01  5.96514750e+00  1.00000000e+00]\n",
      " [ 1.00000000e+00 -1.00000000e+00  5.31657934e+00 -1.46205795e+00\n",
      "   1.33283883e-01 -9.91077900e-01  1.20869579e+01  1.00000000e+00]\n",
      " [ 1.00000000e+00  1.00000000e+00  2.25827813e+00  4.22510803e-01\n",
      "   2.11825043e-01 -9.77307618e-01  2.51185513e+00  1.00000000e+00]\n",
      " [ 1.00000000e+00  1.00000000e+00  1.36247063e+00  2.18017840e+00\n",
      "   4.56460655e-01  8.89743626e-01  6.10608006e+00  2.00000000e+00]\n",
      " [ 1.00000000e+00  1.00000000e+00  9.10241318e+00  5.48782088e-02\n",
      "   3.81365240e-01 -9.24424469e-01  9.11719131e+00  3.00000000e+00]\n",
      " [ 1.00000000e+00 -1.00000000e+00  9.06127739e+00 -1.65262103e+00\n",
      "  -9.64862645e-01  2.62754828e-01  2.45210857e+01  2.00000000e+00]\n",
      " [ 0.00000000e+00  0.00000000e+00  0.00000000e+00  0.00000000e+00\n",
      "   0.00000000e+00  0.00000000e+00  0.00000000e+00  0.00000000e+00]\n",
      " [ 1.00000000e+00  1.00000000e+00  1.02956724e+01 -1.07925546e+00\n",
      "  -3.71101379e-01 -9.28592384e-01  1.69041405e+01  1.00000000e+00]\n",
      " [ 1.00000000e+00  1.00000000e+00  2.57013822e+00  1.16521788e+00\n",
      "  -9.57224309e-01 -2.89346874e-01  4.52363873e+00  1.00000000e+00]\n",
      " [ 4.00000000e+00  1.00000000e+00  2.60464048e+00  2.81656742e-01\n",
      "  -8.03065538e-01  5.95890701e-01  2.70863914e+00  1.00000000e+00]\n",
      " [ 1.00000000e+00  1.00000000e+00  5.40233231e+00 -6.78809524e-01\n",
      "  -8.47475708e-01 -5.30834138e-01  6.69696951e+00  1.00000000e+00]\n",
      " [ 1.00000000e+00 -1.00000000e+00  5.10767508e+00 -9.72286642e-01\n",
      "   6.72607183e-01 -7.39999712e-01  7.71947098e+00  2.00000000e+00]\n",
      " [ 1.00000000e+00  1.00000000e+00  3.94179726e+00  1.89931893e+00\n",
      "   9.36239183e-01 -3.51363391e-01  1.34639578e+01  2.00000000e+00]\n",
      " [ 1.00000000e+00 -1.00000000e+00  7.96181560e-01 -3.72155309e-01\n",
      "   2.06144616e-01  9.78521526e-01  9.84656990e-01  0.00000000e+00]\n",
      " [ 1.00000000e+00  1.00000000e+00  1.87151394e+01 -2.01374024e-01\n",
      "   5.49602330e-01  8.35426390e-01  1.91022663e+01  1.00000000e+00]\n",
      " [ 1.00000000e+00  1.00000000e+00  3.74517465e+00  5.39473712e-01\n",
      "  -4.85306196e-02  9.98821676e-01  4.30576611e+00  1.00000000e+00]\n",
      " [ 1.00000000e+00  1.00000000e+00  3.78330708e+00 -7.71061063e-01\n",
      "   9.99443710e-01 -3.33501659e-02  4.96675968e+00  2.00000000e+00]\n",
      " [ 1.00000000e+00 -1.00000000e+00  1.64152491e+00 -1.47641873e+00\n",
      "   3.44912976e-01  9.38634694e-01  3.78275776e+00  2.00000000e+00]\n",
      " [ 1.00000000e+00 -1.00000000e+00  2.59944654e+00 -1.79620528e+00\n",
      "  -7.54673854e-02  9.97148275e-01  8.10325050e+00  2.00000000e+00]\n",
      " [ 1.00000000e+00 -1.00000000e+00  3.45578384e+00 -9.19721425e-01\n",
      "   2.22751126e-01  9.74875331e-01  5.02530336e+00  1.00000000e+00]\n",
      " [ 1.00000000e+00  1.00000000e+00  3.64203978e+00  1.34899759e+00\n",
      "   9.90786433e-01 -1.35433704e-01  7.50621843e+00  1.00000000e+00]\n",
      " [ 1.00000000e+00 -1.00000000e+00  4.18734264e+00 -1.06616664e+00\n",
      "  -9.13662374e-01 -4.06473994e-01  6.80283022e+00  1.00000000e+00]\n",
      " [ 1.00000000e+00 -1.00000000e+00  1.48632669e+00 -9.72683549e-01\n",
      "  -8.79443347e-01 -4.76003617e-01  2.25098848e+00  2.00000000e+00]\n",
      " [ 1.00000000e+00  1.00000000e+00  1.42063510e+00  4.52300012e-01\n",
      "   9.99862611e-01  1.65748913e-02  1.57464051e+00  1.00000000e+00]\n",
      " [ 1.00000000e+00  1.00000000e+00  4.62877464e+00 -1.20264423e+00\n",
      "  -9.93432820e-01 -1.14417166e-01  8.41411686e+00  1.00000000e+00]\n",
      " [ 1.00000000e+00  1.00000000e+00  3.80325198e+00  7.21641004e-01\n",
      "   5.38595796e-01 -8.42564285e-01  4.83929634e+00  2.00000000e+00]\n",
      " [ 1.00000000e+00 -1.00000000e+00  4.05083504e+01  5.05020976e-01\n",
      "  -3.50548178e-01 -9.36544716e-01  4.57944412e+01  2.00000000e+00]\n",
      " [ 1.00000000e+00 -1.00000000e+00  2.40232792e+01  6.54144287e-01\n",
      "  -4.85257179e-01 -8.74371469e-01  2.93640270e+01  1.00000000e+00]\n",
      " [ 1.00000000e+00  1.00000000e+00  3.81363630e+00 -2.57322609e-01\n",
      "   9.60053265e-01 -2.79817224e-01  3.94306540e+00  2.00000000e+00]\n",
      " [ 1.00000000e+00 -1.00000000e+00  1.10940874e+00  1.72467470e+00\n",
      "  -8.58693779e-01  5.12489021e-01  3.24887013e+00  2.00000000e+00]\n",
      " [ 1.00000000e+00  1.00000000e+00  5.11811209e+00  4.09436852e-01\n",
      "   2.81265229e-01 -9.59630072e-01  5.55488873e+00  2.00000000e+00]\n",
      " [ 1.00000000e+00  1.00000000e+00  6.22627068e+00  7.38629699e-01\n",
      "   6.62735105e-01  7.48853922e-01  8.01856422e+00  2.00000000e+00]\n",
      " [ 1.00000000e+00 -1.00000000e+00  2.84563422e+00  1.37629628e+00\n",
      "   9.99210179e-01  3.97370867e-02  5.99555397e+00  3.00000000e+00]\n",
      " [ 1.00000000e+00  1.00000000e+00  3.84444690e+00 -1.00035608e+00\n",
      "  -5.09918511e-01  8.60222697e-01  5.93554163e+00  2.00000000e+00]\n",
      " [ 1.00000000e+00 -1.00000000e+00  1.75485110e+00  1.18381262e+00\n",
      "   5.00204742e-01  8.65907133e-01  3.13807201e+00  0.00000000e+00]\n",
      " [ 1.00000000e+00  1.00000000e+00  3.84383821e+00 -1.67030120e+00\n",
      "  -5.13971031e-01 -8.57807517e-01  1.05752401e+01  2.00000000e+00]\n",
      " [ 1.00000000e+00  1.00000000e+00  6.93395674e-01 -4.95964706e-01\n",
      "   7.13689268e-01 -7.00462461e-01  7.92821050e-01  0.00000000e+00]\n",
      " [ 1.00000000e+00 -1.00000000e+00  4.77058840e+00 -5.61176777e-01\n",
      "  -5.21872759e-01  8.53023350e-01  5.54344225e+00  1.00000000e+00]\n",
      " [ 1.00000000e+00  1.00000000e+00  7.63845444e+00 -3.98363084e-01\n",
      "   5.40712178e-01 -8.41207683e-01  8.25377750e+00  1.00000000e+00]\n",
      " [ 0.00000000e+00  0.00000000e+00  0.00000000e+00  0.00000000e+00\n",
      "   0.00000000e+00  0.00000000e+00  0.00000000e+00  0.00000000e+00]\n",
      " [ 1.00000000e+00 -1.00000000e+00  2.86804557e+00 -1.91736305e+00\n",
      "   4.91218030e-01  8.71036649e-01  1.00105124e+01  2.00000000e+00]\n",
      " [ 1.00000000e+00 -1.00000000e+00  5.17038679e+00  1.44736671e+00\n",
      "   9.96495843e-01 -8.36424455e-02  1.16008406e+01  2.00000000e+00]\n",
      " [ 1.00000000e+00 -1.00000000e+00  6.06066418e+00  1.40908396e+00\n",
      "  -7.06894279e-01  7.07319260e-01  1.31419954e+01  2.00000000e+00]\n",
      " [ 1.00000000e+00 -1.00000000e+00  1.95045328e+00 -3.15089405e-01\n",
      "   3.66435573e-02 -9.99328375e-01  2.05282903e+00  0.00000000e+00]\n",
      " [ 1.00000000e+00  1.00000000e+00  4.67832565e+00 -1.59061384e+00\n",
      "  -9.34896648e-01 -3.54920149e-01  1.19552479e+01  2.00000000e+00]\n",
      " [ 1.00000000e+00  1.00000000e+00  2.06163044e+01 -3.58494699e-01\n",
      "   9.79319274e-01 -2.02321053e-01  2.19557858e+01  3.00000000e+00]]\n",
      "True eta from ycand: [[ 1.00000000e+00 -1.00000000e+00  1.00682020e+00  4.49256212e-01\n",
      "  -1.47857413e-01  9.89008665e-01  1.11888373e+00  2.00000000e+00]\n",
      " [ 0.00000000e+00  0.00000000e+00  0.00000000e+00  0.00000000e+00\n",
      "   0.00000000e+00  0.00000000e+00  0.00000000e+00  2.00000000e+00]\n",
      " [ 1.00000000e+00 -1.00000000e+00  1.86863995e+00 -1.32553935e+00\n",
      "   9.37338114e-01 -3.48421127e-01  3.76777840e+00  1.00000000e+00]\n",
      " [ 1.00000000e+00  1.00000000e+00  4.03398895e+00 -9.96266007e-01\n",
      "   1.54619338e-02 -9.99880433e-01  6.20868063e+00  1.00000000e+00]\n",
      " [ 1.00000000e+00 -1.00000000e+00  8.05889797e+00 -8.91801357e-01\n",
      "  -9.09307420e-01 -4.16124940e-01  1.14825087e+01  3.00000000e+00]\n",
      " [ 0.00000000e+00  0.00000000e+00  0.00000000e+00  0.00000000e+00\n",
      "   0.00000000e+00  0.00000000e+00  0.00000000e+00  2.00000000e+00]\n",
      " [ 1.00000000e+00 -1.00000000e+00  3.11738873e+00 -1.20056224e+00\n",
      "   2.82094270e-01  9.59386706e-01  5.64888811e+00  3.00000000e+00]\n",
      " [ 1.00000000e+00  1.00000000e+00  4.11819506e+00  2.51670349e-02\n",
      "  -9.17527676e-01  3.97671998e-01  4.12186289e+00  1.00000000e+00]\n",
      " [ 1.00000000e+00 -1.00000000e+00  4.75161457e+00  1.92100716e+00\n",
      "  -7.60572255e-01 -6.49253309e-01  1.65701580e+01  2.00000000e+00]\n",
      " [ 1.00000000e+00  1.00000000e+00  8.52176011e-01 -1.37285709e+00\n",
      "   4.68791217e-01  8.83309007e-01  1.79500067e+00  0.00000000e+00]\n",
      " [ 1.00000000e+00  1.00000000e+00  2.98087388e-01  1.53901756e+00\n",
      "  -4.40087318e-01  8.97955000e-01  7.39813268e-01  0.00000000e+00]\n",
      " [ 1.00000000e+00 -1.00000000e+00  1.06840067e+01  3.67088079e-01\n",
      "   1.24837011e-01  9.92177248e-01  1.14128351e+01  2.00000000e+00]\n",
      " [ 1.00000000e+00 -1.00000000e+00  2.72744799e+00  1.48417604e+00\n",
      "   8.81943464e-01  4.71355230e-01  6.32651711e+00  2.00000000e+00]\n",
      " [ 1.00000000e+00  1.00000000e+00  1.03874693e+01 -1.06836927e+00\n",
      "  -4.72450256e-01  8.81357312e-01  1.69020138e+01  2.00000000e+00]\n",
      " [ 4.00000000e+00  1.00000000e+00  3.06410170e+00  7.33512163e-01\n",
      "   5.16593792e-02 -9.98664737e-01  3.92603469e+00  1.00000000e+00]\n",
      " [ 1.00000000e+00 -1.00000000e+00  6.60521936e+00 -9.82077837e-01\n",
      "   1.56524107e-01  9.87674117e-01  1.00558634e+01  1.00000000e+00]\n",
      " [ 1.00000000e+00 -1.00000000e+00  6.60184383e+00 -1.65451574e+00\n",
      "  -6.01561010e-01  7.98826873e-01  1.78972549e+01  2.00000000e+00]\n",
      " [ 1.00000000e+00  1.00000000e+00  7.50383735e-01 -1.49899483e+00\n",
      "  -8.10980439e-01  5.85073233e-01  1.76911891e+00  0.00000000e+00]\n",
      " [ 1.00000000e+00 -1.00000000e+00  6.03238583e-01  2.42896771e+00\n",
      "   9.92811263e-01 -1.19690239e-01  3.45192623e+00  0.00000000e+00]\n",
      " [ 1.00000000e+00 -1.00000000e+00  1.47757244e+01 -3.31725925e-01\n",
      "   5.11126041e-01 -8.59505773e-01  1.55968075e+01  1.00000000e+00]\n",
      " [ 1.00000000e+00  1.00000000e+00  9.32461643e+00  7.64609873e-01\n",
      "  -9.16776121e-01  3.99401516e-01  1.21865425e+01  4.00000000e+00]\n",
      " [ 1.00000000e+00 -1.00000000e+00  2.07941389e+00  2.23232889e+00\n",
      "   9.42426145e-01  3.34414423e-01  9.80421162e+00  2.00000000e+00]\n",
      " [ 1.00000000e+00 -1.00000000e+00  5.27999115e+00 -1.39477670e+00\n",
      "  -9.87148881e-01 -1.59803301e-01  1.13052225e+01  2.00000000e+00]\n",
      " [ 1.00000000e+00  1.00000000e+00  5.19686699e+00  9.51017380e-01\n",
      "  -9.15459871e-01 -4.02409256e-01  7.73079252e+00  1.00000000e+00]\n",
      " [ 1.00000000e+00  1.00000000e+00  3.08709669e+00 -1.40591812e+00\n",
      "   4.23367321e-01 -9.05958116e-01  6.67639875e+00  2.00000000e+00]\n",
      " [ 1.00000000e+00 -1.00000000e+00  9.40219820e-01 -1.59877157e+00\n",
      "   9.31084991e-01 -3.64802361e-01  2.42466164e+00  2.00000000e+00]\n",
      " [ 1.00000000e+00  1.00000000e+00  9.32185268e+00  6.49249554e-01\n",
      "   9.96781707e-01 -8.01636055e-02  1.13573980e+01  2.00000000e+00]\n",
      " [ 1.00000000e+00 -1.00000000e+00  2.93378043e+00 -2.18895912e+00\n",
      "  -9.01830435e-01  4.32090104e-01  1.32584162e+01  2.00000000e+00]\n",
      " [ 1.00000000e+00 -1.00000000e+00  8.21708393e+00  1.63327479e+00\n",
      "   6.68999970e-01  7.43262410e-01  2.18410664e+01  3.00000000e+00]\n",
      " [ 1.00000000e+00 -1.00000000e+00  2.98215294e+00 -5.52160978e-01\n",
      "   5.07610068e-02 -9.98710811e-01  3.45124626e+00  1.00000000e+00]\n",
      " [ 3.00000000e+00  0.00000000e+00  1.99015290e-02 -2.38227940e+00\n",
      "  -7.73596823e-01 -6.33678079e-01  1.08681247e-01  0.00000000e+00]\n",
      " [ 1.00000000e+00  1.00000000e+00  2.64215326e+00  2.43106580e+00\n",
      "   4.40933079e-01 -8.97539973e-01  1.51387796e+01  2.00000000e+00]\n",
      " [ 1.00000000e+00  1.00000000e+00  3.68133044e+00  1.13692427e+00\n",
      "  -8.63225386e-02  9.96267259e-01  6.32969189e+00  1.00000000e+00]\n",
      " [ 1.00000000e+00  1.00000000e+00  2.77599263e+00  2.32091570e+00\n",
      "   8.46211493e-01  5.32847166e-01  1.42736969e+01  2.00000000e+00]\n",
      " [ 1.00000000e+00  1.00000000e+00  1.33416355e+00 -7.18230069e-01\n",
      "   4.58077371e-01  8.88912320e-01  1.69907236e+00  1.00000000e+00]\n",
      " [ 0.00000000e+00  0.00000000e+00  0.00000000e+00  0.00000000e+00\n",
      "   0.00000000e+00  0.00000000e+00  0.00000000e+00  2.00000000e+00]\n",
      " [ 1.00000000e+00 -1.00000000e+00  4.66067410e+00 -1.06808579e+00\n",
      "  -9.99602973e-01 -2.81769130e-02  7.58296585e+00  2.00000000e+00]\n",
      " [ 1.00000000e+00  1.00000000e+00  3.29640722e+00 -1.83897185e+00\n",
      "   9.86954927e-01 -1.60996780e-01  1.06302614e+01  2.00000000e+00]\n",
      " [ 1.00000000e+00 -1.00000000e+00  3.56317043e+00 -2.31457186e+00\n",
      "  -9.80314076e-01 -1.97444499e-01  1.82072620e+01  2.00000000e+00]\n",
      " [ 1.00000000e+00 -1.00000000e+00  8.54928875e+00 -7.98605978e-01\n",
      "   9.94847715e-01  1.01380713e-01  1.14243975e+01  1.00000000e+00]\n",
      " [ 1.00000000e+00  1.00000000e+00  5.26645803e+00 -1.06910253e+00\n",
      "   2.61002302e-01  9.65338171e-01  8.57514095e+00  2.00000000e+00]\n",
      " [ 1.00000000e+00 -1.00000000e+00  6.92313051e+00 -1.27264690e+00\n",
      "  -5.07910028e-02  9.98709321e-01  1.33290691e+01  2.00000000e+00]\n",
      " [ 1.00000000e+00 -1.00000000e+00  4.87961674e+00  8.49005640e-01\n",
      "   8.33604515e-01  5.52361786e-01  6.74790812e+00  1.00000000e+00]\n",
      " [ 1.00000000e+00  1.00000000e+00  4.93953276e+00 -6.04226947e-01\n",
      "   2.69723386e-01 -9.62937832e-01  5.87064886e+00  1.00000000e+00]\n",
      " [ 1.00000000e+00  1.00000000e+00  8.24883282e-01 -2.18083692e+00\n",
      "   5.07584393e-01  8.61602068e-01  3.70085716e+00  2.00000000e+00]\n",
      " [ 1.00000000e+00  1.00000000e+00  5.63062716e+00 -1.69651830e+00\n",
      "  -5.93921065e-01  8.04523289e-01  1.58740358e+01  2.00000000e+00]\n",
      " [ 1.00000000e+00  1.00000000e+00  1.21550827e+01  1.34729460e-01\n",
      "   5.62908910e-02  9.98414397e-01  1.22663631e+01  1.00000000e+00]\n",
      " [ 1.00000000e+00 -1.00000000e+00  7.27028608e-01  1.35290599e+00\n",
      "  -9.92612958e-01 -1.21324055e-01  1.50675237e+00  0.00000000e+00]\n",
      " [ 1.00000000e+00 -1.00000000e+00  9.02368259e+00 -1.05628049e+00\n",
      "  -8.78442645e-01  4.77847755e-01  1.45441484e+01  2.00000000e+00]\n",
      " [ 1.00000000e+00  1.00000000e+00  1.88404274e+00  2.37610507e+00\n",
      "   8.88127983e-01  4.59596157e-01  1.02273588e+01  2.00000000e+00]\n",
      " [ 1.00000000e+00  1.00000000e+00  2.15362263e+00  1.96725214e+00\n",
      "  -4.66615945e-01  8.84460032e-01  7.85209942e+00  1.00000000e+00]\n",
      " [ 1.00000000e+00 -1.00000000e+00  7.23426104e+00  1.26978743e+00\n",
      "   9.46194112e-01 -3.23599517e-01  1.38940516e+01  1.00000000e+00]\n",
      " [ 1.00000000e+00 -1.00000000e+00  2.98724365e+00  6.02813125e-01\n",
      "   5.00247002e-01  8.65882754e-01  3.54938269e+00  1.00000000e+00]\n",
      " [ 1.00000000e+00  1.00000000e+00  4.85879803e+00  1.67204070e+00\n",
      "  -6.94442987e-01 -7.19547749e-01  1.33888617e+01  1.00000000e+00]\n",
      " [ 1.00000000e+00 -1.00000000e+00  5.17147350e+00  5.43365359e-01\n",
      "  -9.61745143e-01 -2.73945689e-01  5.95550680e+00  1.00000000e+00]\n",
      " [ 1.00000000e+00 -1.00000000e+00  5.34327745e+00 -1.46237099e+00\n",
      "   1.33111849e-01 -9.91101027e-01  1.21510611e+01  1.00000000e+00]\n",
      " [ 1.00000000e+00  1.00000000e+00  2.25028801e+00  4.22440350e-01\n",
      "   2.11073533e-01 -9.77470160e-01  2.45804596e+00  1.00000000e+00]\n",
      " [ 1.00000000e+00  1.00000000e+00  1.37528348e+00  2.17965651e+00\n",
      "   4.76208031e-01  8.79332662e-01  6.16034031e+00  2.00000000e+00]\n",
      " [ 1.00000000e+00  1.00000000e+00  9.11049747e+00  5.49640767e-02\n",
      "   3.81386399e-01 -9.24415708e-01  9.12532997e+00  3.00000000e+00]\n",
      " [ 4.00000000e+00 -1.00000000e+00  9.06049633e+00 -1.65234900e+00\n",
      "  -9.64862943e-01  2.62753665e-01  2.45123787e+01  2.00000000e+00]\n",
      " [ 1.00000000e+00 -1.00000000e+00  4.18378067e+00 -2.01701903e+00\n",
      "   1.44393355e-01  9.89520371e-01  1.60013485e+01  0.00000000e+00]\n",
      " [ 1.00000000e+00  1.00000000e+00  1.03077850e+01 -1.07914555e+00\n",
      "  -3.70987356e-01 -9.28637922e-01  1.69159107e+01  1.00000000e+00]\n",
      " [ 1.00000000e+00  1.00000000e+00  2.56311393e+00  1.16568434e+00\n",
      "  -9.57159817e-01 -2.89560139e-01  4.51301718e+00  1.00000000e+00]\n",
      " [ 4.00000000e+00  1.00000000e+00  2.58466339e+00  2.81603098e-01\n",
      "  -8.01690102e-01  5.97739875e-01  2.68782473e+00  1.00000000e+00]\n",
      " [ 1.00000000e+00  1.00000000e+00  5.40136909e+00 -6.79343224e-01\n",
      "  -8.47663879e-01 -5.30533671e-01  6.69788694e+00  1.00000000e+00]\n",
      " [ 1.00000000e+00 -1.00000000e+00  5.09257317e+00 -9.72087383e-01\n",
      "   6.72601163e-01 -7.40005195e-01  7.69550514e+00  2.00000000e+00]\n",
      " [ 1.00000000e+00  1.00000000e+00  3.92167997e+00  1.89969647e+00\n",
      "   9.35893595e-01 -3.52282763e-01  1.34000864e+01  2.00000000e+00]\n",
      " [ 1.00000000e+00 -1.00000000e+00  7.91112840e-01 -3.72566044e-01\n",
      "   2.08261281e-01  9.78073239e-01  8.58083129e-01  0.00000000e+00]\n",
      " [ 1.00000000e+00  1.00000000e+00  1.87661762e+01 -2.01324105e-01\n",
      "   5.49535036e-01  8.35470676e-01  1.91482811e+01  1.00000000e+00]\n",
      " [ 1.00000000e+00  1.00000000e+00  3.73565698e+00  5.39557576e-01\n",
      "  -4.90699112e-02  9.98795331e-01  4.29501247e+00  1.00000000e+00]\n",
      " [ 1.00000000e+00  1.00000000e+00  3.77701092e+00 -7.70600021e-01\n",
      "   9.99447763e-01 -3.32282856e-02  4.95702171e+00  2.00000000e+00]\n",
      " [ 1.00000000e+00 -1.00000000e+00  1.64222813e+00 -1.47721839e+00\n",
      "   3.44994932e-01  9.38604534e-01  3.78709960e+00  2.00000000e+00]\n",
      " [ 1.00000000e+00 -1.00000000e+00  2.60859203e+00 -1.79636467e+00\n",
      "  -7.53342807e-02  9.97158349e-01  8.07948780e+00  2.00000000e+00]\n",
      " [ 1.00000000e+00 -1.00000000e+00  3.46482110e+00 -9.19569492e-01\n",
      "   2.22339720e-01  9.74969268e-01  5.03787947e+00  1.00000000e+00]\n",
      " [ 1.00000000e+00  1.00000000e+00  3.63763452e+00  1.34871566e+00\n",
      "   9.90772069e-01 -1.35538593e-01  7.48036623e+00  1.00000000e+00]\n",
      " [ 1.00000000e+00 -1.00000000e+00  4.20069551e+00 -1.06618154e+00\n",
      "  -9.13706362e-01 -4.06375110e-01  6.82459450e+00  1.00000000e+00]\n",
      " [ 1.00000000e+00 -1.00000000e+00  1.47238266e+00 -9.72518206e-01\n",
      "  -8.79406214e-01 -4.76072192e-01  2.22967672e+00  2.00000000e+00]\n",
      " [ 1.00000000e+00  1.00000000e+00  1.42093170e+00  4.52513516e-01\n",
      "   9.99874413e-01  1.58494785e-02  1.57510793e+00  1.00000000e+00]\n",
      " [ 1.00000000e+00  1.00000000e+00  4.59488583e+00 -1.20285726e+00\n",
      "  -9.93472397e-01 -1.14072658e-01  8.34077454e+00  1.00000000e+00]\n",
      " [ 1.00000000e+00  1.00000000e+00  3.80257463e+00  7.21747339e-01\n",
      "   5.38711667e-01 -8.42490196e-01  4.83875275e+00  2.00000000e+00]\n",
      " [ 1.00000000e+00 -1.00000000e+00  4.05631485e+01  5.04912198e-01\n",
      "  -3.50236654e-01 -9.36661243e-01  4.58446541e+01  2.00000000e+00]\n",
      " [ 0.00000000e+00  0.00000000e+00  0.00000000e+00  0.00000000e+00\n",
      "   0.00000000e+00  0.00000000e+00  0.00000000e+00  1.00000000e+00]\n",
      " [ 1.00000000e+00  1.00000000e+00  3.82494307e+00 -2.57581204e-01\n",
      "   9.59981084e-01 -2.80064762e-01  3.95499849e+00  2.00000000e+00]\n",
      " [ 5.00000000e+00 -1.00000000e+00  1.11483252e+00  1.72453558e+00\n",
      "  -8.60871375e-01  5.08822680e-01  3.22814989e+00  2.00000000e+00]\n",
      " [ 1.00000000e+00  1.00000000e+00  5.11225271e+00  4.09113288e-01\n",
      "   2.81484395e-01 -9.59565818e-01  5.54783726e+00  2.00000000e+00]\n",
      " [ 1.00000000e+00  1.00000000e+00  6.21800137e+00  7.38096178e-01\n",
      "   6.62588954e-01  7.48983264e-01  7.99126387e+00  2.00000000e+00]\n",
      " [ 1.00000000e+00 -1.00000000e+00  2.84928131e+00  1.37680614e+00\n",
      "   9.99182940e-01  4.04161513e-02  6.00592661e+00  3.00000000e+00]\n",
      " [ 4.00000000e+00  1.00000000e+00  3.82817984e+00 -1.00048316e+00\n",
      "  -5.09935200e-01  8.60212803e-01  5.90936470e+00  2.00000000e+00]\n",
      " [ 1.00000000e+00 -1.00000000e+00  1.74615562e+00  1.18353975e+00\n",
      "   4.99646753e-01  8.66229236e-01  3.12184906e+00  0.00000000e+00]\n",
      " [ 1.00000000e+00  1.00000000e+00  3.85644412e+00 -1.67046177e+00\n",
      "  -5.14074504e-01 -8.57745528e-01  1.06115036e+01  2.00000000e+00]\n",
      " [ 1.00000000e+00  1.00000000e+00  6.93168461e-01 -4.96127218e-01\n",
      "   7.14084268e-01 -7.00059712e-01  7.92626619e-01  0.00000000e+00]\n",
      " [ 1.00000000e+00 -1.00000000e+00  4.77834558e+00 -5.60727656e-01\n",
      "  -5.21649957e-01  8.53159606e-01  5.55118275e+00  1.00000000e+00]\n",
      " [ 1.00000000e+00  1.00000000e+00  7.63597345e+00 -3.98429036e-01\n",
      "   5.40624142e-01 -8.41264248e-01  8.25130367e+00  1.00000000e+00]\n",
      " [ 0.00000000e+00  0.00000000e+00  0.00000000e+00  0.00000000e+00\n",
      "   0.00000000e+00  0.00000000e+00  0.00000000e+00  0.00000000e+00]\n",
      " [ 1.00000000e+00 -1.00000000e+00  2.92812061e+00 -1.91810846e+00\n",
      "   4.91406888e-01  8.70930135e-01  1.01834278e+01  2.00000000e+00]\n",
      " [ 1.00000000e+00 -1.00000000e+00  5.18662453e+00  1.44762313e+00\n",
      "   9.96463120e-01 -8.40310007e-02  1.16399384e+01  2.00000000e+00]\n",
      " [ 1.00000000e+00 -1.00000000e+00  6.07935047e+00  1.40910006e+00\n",
      "  -7.06744075e-01  7.07469285e-01  1.31826982e+01  2.00000000e+00]\n",
      " [ 1.00000000e+00 -1.00000000e+00  1.95942736e+00 -3.14434022e-01\n",
      "   3.63109447e-02 -9.99340534e-01  2.06182051e+00  0.00000000e+00]\n",
      " [ 1.00000000e+00  1.00000000e+00  4.71018076e+00 -1.59054065e+00\n",
      "  -9.34898496e-01 -3.54915142e-01  1.20358305e+01  2.00000000e+00]\n",
      " [ 1.00000000e+00  1.00000000e+00  2.05651054e+01 -3.58583212e-01\n",
      "   9.79309499e-01 -2.02368215e-01  2.19019279e+01  3.00000000e+00]]\n"
     ]
    }
   ],
   "source": [
    "\n",
    "print(\"True eta from ygen:\", true_etas_ygen)\n",
    "print(\"True eta from ycand:\", true_etas_ycand)"
   ]
  },
  {
   "cell_type": "code",
   "execution_count": 28,
   "id": "4b2be8c2",
   "metadata": {},
   "outputs": [
    {
     "name": "stdout",
     "output_type": "stream",
     "text": [
      "(100, 8)\n",
      "(100, 8)\n"
     ]
    }
   ],
   "source": [
    "print(true_etas_ygen.shape)\n",
    "print(true_etas_ycand.shape)"
   ]
  },
  {
   "cell_type": "code",
   "execution_count": 29,
   "id": "efbd6d74",
   "metadata": {},
   "outputs": [],
   "source": [
    "flat_true_etas_ygen = true_etas_ygen.flatten()\n",
    "flat_true_etas_ycand = true_etas_ycand.flatten()"
   ]
  },
  {
   "cell_type": "code",
   "execution_count": 30,
   "id": "f06560ad",
   "metadata": {},
   "outputs": [
    {
     "name": "stderr",
     "output_type": "stream",
     "text": [
      "Warning in <TROOT::Append>: Replacing existing TH1: hist_ygen (Potential memory leak).\n",
      "Warning in <TROOT::Append>: Replacing existing TH1: hist_ycand (Potential memory leak).\n",
      "Warning in <TCanvas::Constructor>: Deleting canvas with same name: canvas\n"
     ]
    },
    {
     "data": {
      "image/png": "[encoded data removed]",
      "text/plain": [
       "<IPython.core.display.Image object>"
      ]
     },
     "metadata": {},
     "output_type": "display_data"
    }
   ],
   "source": [
    "hist_ygen = ROOT.TH1F(\"hist_ygen\", \"True pT from ygen\", 100, 0, 100)\n",
    "hist_ycand = ROOT.TH1F(\"hist_ycand\", \"True pT from ycand\", 100, 0, 100)\n",
    "\n",
    "\n",
    "# Fill histograms with 'pt' values\n",
    "for value in flat_true_etas_ygen:\n",
    "    hist_ygen.Fill(value)\n",
    "\n",
    "for value in flat_true_etas_ycand:\n",
    "    hist_ycand.Fill(value)\n",
    "\n",
    "    \n",
    "canvas = ROOT.TCanvas(\"canvas\", \"True pt Comparison\", 800, 600)\n",
    "\n",
    "hist_ygen.Draw()\n",
    "hist_ygen.SetTitle(\"\")\n",
    "hist_ygen.SetLineColor(ROOT.kBlue)\n",
    "hist_ygen.GetXaxis().SetTitle(\"pT(GeV/c)\")\n",
    "hist_ygen.GetYaxis().SetTitle(\"Count\")\n",
    "\n",
    "hist_ycand.Draw(\"SAME\")\n",
    "hist_ycand.SetLineColor(ROOT.kRed)\n",
    "  \n",
    "legend = ROOT.TLegend(0.6, 0.77, 0.75, 0.9)\n",
    "legend.AddEntry(hist_ygen, \" pT from ygen\", \"l\")\n",
    "legend.AddEntry(hist_ycand, \" pT from ycand\", \"l\")\n",
    "legend.Draw(\"SAME\")\n",
    "\n",
    "canvas.Draw()\n"
   ]
  },
  {
   "cell_type": "markdown",
   "id": "af2e6f1f",
   "metadata": {},
   "source": [
    "### Standradize `eta` values"
   ]
  },
  {
   "cell_type": "code",
   "execution_count": 31,
   "id": "8a355104",
   "metadata": {},
   "outputs": [],
   "source": [
    "mean_ygen = np.mean(flat_true_etas_ygen)\n",
    "std_ygen = np.std(flat_true_etas_ygen)\n",
    "\n",
    "standardized_true_pts_ygen = (flat_true_etas_ygen - mean_ygen) / std_ygen\n",
    "\n",
    "mean_ycand = np.mean(flat_true_etas_ycand)\n",
    "std_ycand = np.std(flat_true_etas_ycand)\n",
    "\n",
    "standardized_true_pts_ycand = (flat_true_etas_ycand - mean_ycand) / std_ycand"
   ]
  },
  {
   "cell_type": "code",
   "execution_count": 32,
   "id": "606f4126",
   "metadata": {},
   "outputs": [
    {
     "name": "stderr",
     "output_type": "stream",
     "text": [
      "Warning in <TCanvas::Constructor>: Deleting canvas with same name: canvas\n"
     ]
    },
    {
     "data": {
      "image/png": "[encoded data removed]",
      "text/plain": [
       "<IPython.core.display.Image object>"
      ]
     },
     "metadata": {},
     "output_type": "display_data"
    }
   ],
   "source": [
    "hist_ygen_standardized = ROOT.TH1F(\"hist_ygen_standardized\", \"Standardized True pt from ygen\", 100, -3, 3)\n",
    "hist_ycand_standardized = ROOT.TH1F(\"hist_ycand_standardized\", \"Standardized True pt from ycand\", 100, -3, 3)\n",
    "\n",
    "for value in standardized_true_pts_ygen:\n",
    "    hist_ygen_standardized.Fill(value)\n",
    "\n",
    "for value in standardized_true_pts_ycand:\n",
    "    hist_ycand_standardized.Fill(value)\n",
    "    \n",
    "    \n",
    "canvas = ROOT.TCanvas(\"canvas\", \"True pt Comparison\", 800, 600)\n",
    "\n",
    "hist_ygen_standardized.Draw()\n",
    "hist_ygen_standardized.SetTitle(\"Standradized pT\")\n",
    "hist_ygen_standardized.SetLineColor(ROOT.kBlue)\n",
    "# hist_ygen_standardized.GetXaxis().SetTitle(\"pT(GeV/c)\")\n",
    "hist_ygen_standardized.GetYaxis().SetTitle(\"Count\")\n",
    "\n",
    "hist_ycand_standardized.Draw(\"SAME\")\n",
    "hist_ycand_standardized.SetLineColor(ROOT.kRed)\n",
    "  \n",
    "legend = ROOT.TLegend(0.6, 0.77, 0.75, 0.9)\n",
    "legend.AddEntry(hist_ygen, \" ygen\", \"l\")\n",
    "legend.AddEntry(hist_ycand, \"ycand \", \"l\")\n",
    "legend.Draw(\"SAME\")\n",
    "\n",
    "canvas.Draw()"
   ]
  },
  {
   "cell_type": "code",
   "execution_count": 33,
   "id": "66659e69",
   "metadata": {},
   "outputs": [],
   "source": [
    "# Quantizing the variable\n"
   ]
  },
  {
   "cell_type": "code",
   "execution_count": 34,
   "id": "05c9ebb4",
   "metadata": {},
   "outputs": [],
   "source": [
    "scale_factor_ygen = np.max(np.abs(standardized_true_pts_ygen)) / 127.0\n",
    "quantized_true_pts_ygen = (standardized_true_pts_ygen / scale_factor_ygen).astype(np.int8)\n",
    "\n",
    "scale_factor_ycand = np.max(np.abs(standardized_true_pts_ycand)) / 127.0\n",
    "quantized_true_pts_ycand = (standardized_true_pts_ycand / scale_factor_ycand).astype(np.int8)\n"
   ]
  },
  {
   "cell_type": "code",
   "execution_count": 35,
   "id": "04bbaeb9",
   "metadata": {},
   "outputs": [
    {
     "data": {
      "image/png": "[encoded data removed]",
      "text/plain": [
       "<IPython.core.display.Image object>"
      ]
     },
     "metadata": {},
     "output_type": "display_data"
    }
   ],
   "source": [
    "hist_ygen_quantized = ROOT.TH1F(\"hist_ygen_quantized\", \"\", 100, -128, 128)\n",
    "hist_ycand_quantized = ROOT.TH1F(\"hist_ycand_quantized\", \"Quantized Standardized True pt from ycand\", 100, -128, 128)\n",
    "\n",
    "# Fill histograms with quantized standardized 'pt' values\n",
    "for value in quantized_true_pts_ygen:\n",
    "    hist_ygen_quantized.Fill(value)\n",
    "\n",
    "for value in quantized_true_pts_ycand:\n",
    "    hist_ycand_quantized.Fill(value)\n",
    "    \n",
    "    \n",
    "# Create canvas and draw histograms\n",
    "canvas_quantized = ROOT.TCanvas(\"canvas_quantized\", \"Quantized Standardized True pt Comparison\", 800, 600)\n",
    "\n",
    "hist_ygen_quantized.Draw()\n",
    "# hist_ygen_quantized.SetTitle(\"Quantized Standardized True pt Comparison\")\n",
    "hist_ygen_quantized.SetLineColor(ROOT.kBlue)\n",
    "# hist_ygen_quantized.GetXaxis().SetTitle(\"Quantized pt\")\n",
    "hist_ygen_quantized.GetYaxis().SetTitle(\"Count\")\n",
    "\n",
    "hist_ycand_quantized.Draw(\"SAME\")\n",
    "hist_ycand_quantized.SetLineColor(ROOT.kRed)\n",
    "\n",
    "# Add a legend\n",
    "legend_quantized = ROOT.TLegend(0.65, 0.79, 0.78, 0.9)\n",
    "legend_quantized.AddEntry(hist_ygen_quantized, \"Quantized pT ygen\", \"l\")\n",
    "legend_quantized.AddEntry(hist_ycand_quantized, \"Quantized pT ycand\", \"l\")\n",
    "legend_quantized.Draw(\"SAME\")\n",
    "\n",
    "# Show the canvas\n",
    "canvas_quantized.Draw()"
   ]
  },
  {
   "cell_type": "markdown",
   "id": "9c8136e9",
   "metadata": {},
   "source": [
    "As model is already quantized, for this variable we can quantize it again.\n"
   ]
  },
  {
   "cell_type": "code",
   "execution_count": 37,
   "id": "01e0b058",
   "metadata": {},
   "outputs": [
    {
     "data": {
      "text/plain": [
       "5963072"
      ]
     },
     "execution_count": 37,
     "metadata": {},
     "output_type": "execute_result"
    },
    {
     "name": "stderr",
     "output_type": "stream",
     "text": [
      "2024-01-20 10:35:14.281770: W tensorflow/compiler/mlir/lite/python/tf_tfl_flatbuffer_helpers.cc:364] Ignored output_format.\n",
      "2024-01-20 10:35:14.281801: W tensorflow/compiler/mlir/lite/python/tf_tfl_flatbuffer_helpers.cc:367] Ignored drop_control_dependency.\n",
      "2024-01-20 10:35:14.282961: I tensorflow/cc/saved_model/reader.cc:45] Reading SavedModel from: /tmp/sraj/tmp46utkdzc\n",
      "2024-01-20 10:35:14.324750: I tensorflow/cc/saved_model/reader.cc:91] Reading meta graph with tags { serve }\n",
      "2024-01-20 10:35:14.324791: I tensorflow/cc/saved_model/reader.cc:132] Reading SavedModel debug info (if present) from: /tmp/sraj/tmp46utkdzc\n",
      "2024-01-20 10:35:14.443000: I tensorflow/compiler/mlir/mlir_graph_optimization_pass.cc:375] MLIR V1 optimization pass is not enabled\n",
      "2024-01-20 10:35:14.503345: I tensorflow/cc/saved_model/loader.cc:231] Restoring SavedModel bundle.\n",
      "2024-01-20 10:35:15.127506: I tensorflow/cc/saved_model/loader.cc:215] Running initialization op on SavedModel bundle at path: /tmp/sraj/tmp46utkdzc\n",
      "2024-01-20 10:35:15.537288: I tensorflow/cc/saved_model/loader.cc:314] SavedModel load for tags { serve }; Status: success: OK. Took 1254328 microseconds.\n",
      "2024-01-20 10:35:16.163400: I tensorflow/compiler/mlir/tensorflow/utils/dump_mlir_util.cc:255] disabling MLIR crash reproducer, set env var `MLIR_CRASH_REPRODUCER_DIRECTORY` to enable.\n",
      "2024-01-20 10:36:08.666649: W tensorflow/compiler/mlir/lite/python/tf_tfl_flatbuffer_helpers.cc:364] Ignored output_format.\n",
      "2024-01-20 10:36:08.666681: W tensorflow/compiler/mlir/lite/python/tf_tfl_flatbuffer_helpers.cc:367] Ignored drop_control_dependency.\n",
      "2024-01-20 10:36:08.666883: I tensorflow/cc/saved_model/reader.cc:45] Reading SavedModel from: /tmp/sraj/tmpqewdosop\n",
      "2024-01-20 10:36:08.785558: I tensorflow/cc/saved_model/reader.cc:91] Reading meta graph with tags { serve }\n",
      "2024-01-20 10:36:08.785625: I tensorflow/cc/saved_model/reader.cc:132] Reading SavedModel debug info (if present) from: /tmp/sraj/tmpqewdosop\n",
      "2024-01-20 10:36:09.132382: I tensorflow/cc/saved_model/loader.cc:231] Restoring SavedModel bundle.\n",
      "2024-01-20 10:36:10.053837: I tensorflow/cc/saved_model/loader.cc:215] Running initialization op on SavedModel bundle at path: /tmp/sraj/tmpqewdosop\n",
      "2024-01-20 10:36:10.605779: I tensorflow/cc/saved_model/loader.cc:314] SavedModel load for tags { serve }; Status: success: OK. Took 1938895 microseconds.\n"
     ]
    }
   ],
   "source": [
    "converter = tf.lite.TFLiteConverter.from_keras_model(model)\n",
    "tflite_model = converter.convert()\n",
    "\n",
    "tflite_models_dir = pathlib.Path(\"/tmp/working1_tflite_models/\")\n",
    "tflite_models_dir.mkdir(exist_ok=True, parents=True)\n",
    "\n",
    "tflite_model_file = tflite_models_dir/\"working1_tflite_models.tflite\"\n",
    "tflite_model_file.write_bytes(tflite_model)\n",
    "\n",
    "converter.optimizations = [tf.lite.Optimize.DEFAULT]\n",
    "tflite_quant_model = converter.convert()\n",
    "tflite_model_quant_file = tflite_models_dir/\"working_model_quant.tflite\"\n",
    "tflite_model_quant_file.write_bytes(tflite_quant_model)"
   ]
  },
  {
   "cell_type": "code",
   "execution_count": 38,
   "id": "358e764e",
   "metadata": {},
   "outputs": [
    {
     "name": "stdout",
     "output_type": "stream",
     "text": [
      "total 27M\r\n",
      "-rw-r--r--. 1 sraj zh  22M Jan 20 10:35 working1_tflite_models.tflite\r\n",
      "-rw-r--r--. 1 sraj zh 5.7M Jan 20 10:36 working_model_quant.tflite\r\n"
     ]
    }
   ],
   "source": [
    "ls -lh {tflite_models_dir}"
   ]
  },
  {
   "cell_type": "code",
   "execution_count": 39,
   "id": "df679026",
   "metadata": {},
   "outputs": [
    {
     "name": "stderr",
     "output_type": "stream",
     "text": [
      "INFO: Created TensorFlow Lite XNNPACK delegate for CPU.\n"
     ]
    }
   ],
   "source": [
    "# Load the model into an interpreter\n",
    "interpreter = tf.lite.Interpreter(model_path=str(tflite_model_file))\n",
    "interpreter.allocate_tensors()"
   ]
  },
  {
   "cell_type": "code",
   "execution_count": 40,
   "id": "219631a4",
   "metadata": {},
   "outputs": [],
   "source": [
    "\n",
    "interpreter_quant = tf.lite.Interpreter(model_path=str(tflite_model_quant_file))\n",
    "interpreter_quant.allocate_tensors()"
   ]
  },
  {
   "cell_type": "code",
   "execution_count": 33,
   "id": "0d0043de",
   "metadata": {},
   "outputs": [
    {
     "name": "stdout",
     "output_type": "stream",
     "text": [
      "Expected Input Shape: [  1 111  17]\n"
     ]
    }
   ],
   "source": [
    "#Print Expected Input Shape:\n",
    "print(\"Expected Input Shape:\", interpreter_quant.get_input_details()[0]['shape'])\n"
   ]
  },
  {
   "cell_type": "code",
   "execution_count": 34,
   "id": "3f7c1301",
   "metadata": {},
   "outputs": [],
   "source": [
    "# Load the quantized model into an interpreter\n",
    "interpreter_quant = tf.lite.Interpreter(model_path=str(tflite_model_quant_file))\n",
    "interpreter_quant.allocate_tensors()"
   ]
  },
  {
   "cell_type": "code",
   "execution_count": 35,
   "id": "b86f2f16",
   "metadata": {},
   "outputs": [],
   "source": [
    "# Initialize lists to store true and predicted values\n",
    "true_pts_quant = []\n",
    "pred_pts_quant = []"
   ]
  },
  {
   "cell_type": "code",
   "execution_count": 36,
   "id": "6b87a078",
   "metadata": {},
   "outputs": [
    {
     "ename": "NameError",
     "evalue": "name 'quantize_input' is not defined",
     "output_type": "error",
     "traceback": [
      "\u001b[0;31m---------------------------------------------------------------------------\u001b[0m",
      "\u001b[0;31mNameError\u001b[0m                                 Traceback (most recent call last)",
      "\u001b[0;32m/tmp/sraj/ipykernel_1902273/2234882560.py\u001b[0m in \u001b[0;36m<module>\u001b[0;34m\u001b[0m\n\u001b[1;32m      2\u001b[0m \u001b[0;32mfor\u001b[0m \u001b[0mibatch\u001b[0m \u001b[0;32min\u001b[0m \u001b[0mrange\u001b[0m\u001b[0;34m(\u001b[0m\u001b[0mlen\u001b[0m\u001b[0;34m(\u001b[0m\u001b[0mXs\u001b[0m\u001b[0;34m)\u001b[0m\u001b[0;34m)\u001b[0m\u001b[0;34m:\u001b[0m\u001b[0;34m\u001b[0m\u001b[0;34m\u001b[0m\u001b[0m\n\u001b[1;32m      3\u001b[0m     \u001b[0;31m# Quantize input data\u001b[0m\u001b[0;34m\u001b[0m\u001b[0;34m\u001b[0m\u001b[0m\n\u001b[0;32m----> 4\u001b[0;31m     \u001b[0mquantized_input_data\u001b[0m \u001b[0;34m=\u001b[0m \u001b[0mquantize_input\u001b[0m\u001b[0;34m(\u001b[0m\u001b[0mXs\u001b[0m\u001b[0;34m[\u001b[0m\u001b[0mibatch\u001b[0m\u001b[0;34m]\u001b[0m\u001b[0;34m,\u001b[0m \u001b[0mscale_factor\u001b[0m\u001b[0;34m)\u001b[0m  \u001b[0;31m# Replace with the appropriate function\u001b[0m\u001b[0;34m\u001b[0m\u001b[0;34m\u001b[0m\u001b[0m\n\u001b[0m\u001b[1;32m      5\u001b[0m \u001b[0;34m\u001b[0m\u001b[0m\n\u001b[1;32m      6\u001b[0m     \u001b[0;31m# Set the input tensor\u001b[0m\u001b[0;34m\u001b[0m\u001b[0;34m\u001b[0m\u001b[0m\n",
      "\u001b[0;31mNameError\u001b[0m: name 'quantize_input' is not defined"
     ]
    }
   ],
   "source": [
    "# Iterate over batches in the quantized dataset\n",
    "for ibatch in range(len(Xs)):\n",
    "    # Quantize input data\n",
    "    quantized_input_data = quantize_input(Xs[ibatch], scale_factor)  # Replace with the appropriate function\n",
    "\n",
    "    # Set the input tensor\n",
    "    input_tensor_index = interpreter_quant.get_input_details()[0]['index']\n",
    "    interpreter_quant.tensor(input_tensor_index)()[0] = quantized_input_data\n",
    "\n",
    "    # Run inference\n",
    "    interpreter_quant.invoke()\n",
    "\n",
    "    # Get the output tensor\n",
    "    output_tensor_index = interpreter_quant.get_output_details()[0]['index']\n",
    "    pred_pt_quant = interpreter_quant.tensor(output_tensor_index)()[0]\n",
    "\n",
    "    # Dequantize the predicted values if needed\n",
    "    pred_pt_quant = dequantize_output(pred_pt_quant, scale_factor)  # Replace with the appropriate function\n",
    "\n",
    "    # Extract true values from the quantized dataset\n",
    "    mask_true_particles_quant = ys[ibatch][..., 0] != 0\n",
    "    true_pt_quant = ys[ibatch][mask_true_particles_quant, 2]\n",
    "\n",
    "    # Append true and predicted values to the lists\n",
    "    true_pts_quant.append(true_pt_quant)\n",
    "    pred_pts_quant.append(pred_pt_quant)"
   ]
  },
  {
   "cell_type": "code",
   "execution_count": null,
   "id": "8f92d3ab",
   "metadata": {},
   "outputs": [],
   "source": []
  },
  {
   "cell_type": "code",
   "execution_count": null,
   "id": "346506c8",
   "metadata": {},
   "outputs": [],
   "source": []
  },
  {
   "cell_type": "code",
   "execution_count": null,
   "id": "aad2386d",
   "metadata": {},
   "outputs": [],
   "source": []
  },
  {
   "cell_type": "code",
   "execution_count": null,
   "id": "5f2a83c4",
   "metadata": {},
   "outputs": [],
   "source": []
  },
  {
   "cell_type": "code",
   "execution_count": 43,
   "id": "6a2bedce",
   "metadata": {},
   "outputs": [
    {
     "ename": "NameError",
     "evalue": "name 'input_data' is not defined",
     "output_type": "error",
     "traceback": [
      "\u001b[0;31m---------------------------------------------------------------------------\u001b[0m",
      "\u001b[0;31mNameError\u001b[0m                                 Traceback (most recent call last)",
      "\u001b[0;32m/tmp/sraj/ipykernel_4017130/1153514594.py\u001b[0m in \u001b[0;36m<module>\u001b[0;34m\u001b[0m\n\u001b[0;32m----> 1\u001b[0;31m \u001b[0mprint\u001b[0m\u001b[0;34m(\u001b[0m\u001b[0;34m\"Current Input Data Shape:\"\u001b[0m\u001b[0;34m,\u001b[0m \u001b[0minput_data\u001b[0m\u001b[0;34m.\u001b[0m\u001b[0mshape\u001b[0m\u001b[0;34m)\u001b[0m\u001b[0;34m\u001b[0m\u001b[0;34m\u001b[0m\u001b[0m\n\u001b[0m",
      "\u001b[0;31mNameError\u001b[0m: name 'input_data' is not defined"
     ]
    }
   ],
   "source": [
    "print(\"Current Input Data Shape:\", input_data.shape)\n"
   ]
  },
  {
   "cell_type": "code",
   "execution_count": null,
   "id": "5d0c0924",
   "metadata": {},
   "outputs": [],
   "source": [
    "\n",
    "# Reshape and pad the input data\n",
    "padded_input_data = np.pad(input_data, ((0, 111 - 65), (0, 0)), mode='constant', constant_values=0)\n",
    "# Truncate the input data\n",
    "truncated_input_data = input_data[:111, :]\n"
   ]
  },
  {
   "cell_type": "code",
   "execution_count": 46,
   "id": "d2dbf5a0",
   "metadata": {},
   "outputs": [
    {
     "ename": "NameError",
     "evalue": "name 'input_data' is not defined",
     "output_type": "error",
     "traceback": [
      "\u001b[0;31m---------------------------------------------------------------------------\u001b[0m",
      "\u001b[0;31mNameError\u001b[0m                                 Traceback (most recent call last)",
      "\u001b[0;32m/tmp/sraj/ipykernel_4017130/1639531872.py\u001b[0m in \u001b[0;36m<module>\u001b[0;34m\u001b[0m\n\u001b[1;32m      1\u001b[0m \u001b[0;31m# Reshape the input data to match the expected shape\u001b[0m\u001b[0;34m\u001b[0m\u001b[0;34m\u001b[0m\u001b[0m\n\u001b[0;32m----> 2\u001b[0;31m \u001b[0minput_data\u001b[0m \u001b[0;34m=\u001b[0m \u001b[0mnp\u001b[0m\u001b[0;34m.\u001b[0m\u001b[0mreshape\u001b[0m\u001b[0;34m(\u001b[0m\u001b[0minput_data\u001b[0m\u001b[0;34m,\u001b[0m \u001b[0;34m(\u001b[0m\u001b[0;36m1\u001b[0m\u001b[0;34m,\u001b[0m \u001b[0;36m111\u001b[0m\u001b[0;34m,\u001b[0m \u001b[0;36m17\u001b[0m\u001b[0;34m)\u001b[0m\u001b[0;34m)\u001b[0m\u001b[0;34m\u001b[0m\u001b[0;34m\u001b[0m\u001b[0m\n\u001b[0m\u001b[1;32m      3\u001b[0m \u001b[0;31m# Perform quantized inference\u001b[0m\u001b[0;34m\u001b[0m\u001b[0;34m\u001b[0m\u001b[0m\n\u001b[1;32m      4\u001b[0m \u001b[0minterpreter_quant\u001b[0m\u001b[0;34m.\u001b[0m\u001b[0mset_tensor\u001b[0m\u001b[0;34m(\u001b[0m\u001b[0minput_details_quant\u001b[0m\u001b[0;34m[\u001b[0m\u001b[0;34m'index'\u001b[0m\u001b[0;34m]\u001b[0m\u001b[0;34m,\u001b[0m \u001b[0minput_data\u001b[0m\u001b[0;34m)\u001b[0m\u001b[0;34m\u001b[0m\u001b[0;34m\u001b[0m\u001b[0m\n\u001b[1;32m      5\u001b[0m \u001b[0minterpreter_quant\u001b[0m\u001b[0;34m.\u001b[0m\u001b[0minvoke\u001b[0m\u001b[0;34m(\u001b[0m\u001b[0;34m)\u001b[0m\u001b[0;34m\u001b[0m\u001b[0;34m\u001b[0m\u001b[0m\n",
      "\u001b[0;31mNameError\u001b[0m: name 'input_data' is not defined"
     ]
    }
   ],
   "source": [
    "# Reshape the input data to match the expected shape\n",
    "input_data = np.reshape(input_data, (1, 111, 17))\n",
    "# Perform quantized inference\n",
    "interpreter_quant.set_tensor(input_details_quant['index'], input_data)\n",
    "interpreter_quant.invoke()\n",
    "output_data = interpreter_quant.get_tensor(interpreter_quant.get_output_details()[0]['index'])\n"
   ]
  },
  {
   "cell_type": "code",
   "execution_count": 45,
   "id": "50e70cdd",
   "metadata": {},
   "outputs": [
    {
     "ename": "NameError",
     "evalue": "name 'output_data' is not defined",
     "output_type": "error",
     "traceback": [
      "\u001b[0;31m---------------------------------------------------------------------------\u001b[0m",
      "\u001b[0;31mNameError\u001b[0m                                 Traceback (most recent call last)",
      "\u001b[0;32m/tmp/sraj/ipykernel_4017130/1099969359.py\u001b[0m in \u001b[0;36m<module>\u001b[0;34m\u001b[0m\n\u001b[1;32m      5\u001b[0m \u001b[0;34m\u001b[0m\u001b[0m\n\u001b[1;32m      6\u001b[0m \u001b[0;31m# Print the shape of output_data\u001b[0m\u001b[0;34m\u001b[0m\u001b[0;34m\u001b[0m\u001b[0m\n\u001b[0;32m----> 7\u001b[0;31m \u001b[0mprint\u001b[0m\u001b[0;34m(\u001b[0m\u001b[0;34m\"Output Data Shape:\"\u001b[0m\u001b[0;34m,\u001b[0m \u001b[0moutput_data\u001b[0m\u001b[0;34m.\u001b[0m\u001b[0mshape\u001b[0m\u001b[0;34m)\u001b[0m\u001b[0;34m\u001b[0m\u001b[0;34m\u001b[0m\u001b[0m\n\u001b[0m\u001b[1;32m      8\u001b[0m \u001b[0;34m\u001b[0m\u001b[0m\n\u001b[1;32m      9\u001b[0m \u001b[0;31m# Iterate through the data\u001b[0m\u001b[0;34m\u001b[0m\u001b[0;34m\u001b[0m\u001b[0m\n",
      "\u001b[0;31mNameError\u001b[0m: name 'output_data' is not defined"
     ]
    }
   ],
   "source": [
    "# Assuming output_data contains the predicted pt values from quantized inference\n",
    "\n",
    "true_pts_quantized = []\n",
    "pred_pts_quantized = []\n",
    "\n",
    "# Print the shape of output_data\n",
    "print(\"Output Data Shape:\", output_data.shape)\n",
    "\n",
    "# Iterate through the data\n",
    "for ibatch in range(len(Xs)):\n",
    "    ret = model(Xs[ibatch])\n",
    "\n",
    "    mask_true_particles = ys[ibatch][..., 0] != 0\n",
    "    \n",
    "    true_pt = ys[ibatch][mask_true_particles, 2]\n",
    "    \n",
    "    # Adjust the indexing based on the actual shape of output_data\n",
    "    pred_pt_quantized = output_data[0, ibatch, 0]  # Assuming the output_data has shape (1, len(Xs), 1)\n",
    "\n",
    "    true_pts_quantized.append(true_pt)\n",
    "    pred_pts_quantized.append(pred_pt_quantized)\n"
   ]
  },
  {
   "cell_type": "code",
   "execution_count": null,
   "id": "ebcfcf8c",
   "metadata": {},
   "outputs": [],
   "source": [
    "\n",
    "# Plot the histogram directly without explicit concatenation\n",
    "plt.hist([pred_pt_quantized, true_pt_quantized], bins=np.linspace(0, 3, 100), label=['Predicted', 'True'], density=True)\n",
    "plt.yscale(\"log\")\n",
    "plt.xlabel(\"Predicted True Pt Ratio\")\n",
    "plt.ylabel(\"Count (Normalized)\")\n",
    "plt.title(\"Histogram of Predicted True Pt Ratio from Quantized Inference\")\n",
    "plt.legend()\n",
    "plt.show()\n"
   ]
  },
  {
   "cell_type": "code",
   "execution_count": null,
   "id": "6339275d",
   "metadata": {},
   "outputs": [],
   "source": []
  },
  {
   "cell_type": "code",
   "execution_count": null,
   "id": "d20a23a5",
   "metadata": {},
   "outputs": [],
   "source": []
  },
  {
   "cell_type": "code",
   "execution_count": null,
   "id": "0f29576f",
   "metadata": {},
   "outputs": [],
   "source": []
  },
  {
   "cell_type": "code",
   "execution_count": null,
   "id": "6fae1892",
   "metadata": {},
   "outputs": [],
   "source": []
  }
 ],
 "metadata": {
  "kernelspec": {
   "display_name": "Python 3 (ipykernel)",
   "language": "python",
   "name": "python3"
  },
  "language_info": {
   "codemirror_mode": {
    "name": "ipython",
    "version": 3
   },
   "file_extension": ".py",
   "mimetype": "text/x-python",
   "name": "python",
   "nbconvert_exporter": "python",
   "pygments_lexer": "ipython3",
   "version": "3.9.12"
  }
 },
 "nbformat": 4,
 "nbformat_minor": 5
}
