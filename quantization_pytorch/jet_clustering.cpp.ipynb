{
 "cells": [
  {
   "cell_type": "code",
   "execution_count": 1,
   "id": "8e960eeb",
   "metadata": {},
   "outputs": [
    {
     "name": "stderr",
     "output_type": "stream",
     "text": [
      "\u001b[1minput_line_42:1:10: \u001b[0m\u001b[0;1;31mfatal error: \u001b[0m\u001b[1m'pybind11/pybind11.h' file not found\u001b[0m\n",
      "#include <pybind11/pybind11.h>\n",
      "\u001b[0;1;32m         ^~~~~~~~~~~~~~~~~~~~~\n",
      "\u001b[0m"
     ]
    }
   ],
   "source": [
    "#include <pybind11/pybind11.h>\n",
    "#include <pybind11/numpy.h>\n",
    "#include <fastjet/PseudoJet.hh>\n",
    "#include <fastjet/ClusterSequence.hh>\n",
    "\n",
    "namespace py = pybind11;\n",
    "\n",
    "void cluster_jets(py::array_t<double> px,\n",
    "                  py::array_t<double> py,\n",
    "                  py::array_t<double> pz,\n",
    "                  double R) {\n",
    "    // Convert Python arrays to C++ arrays\n",
    "    auto px_data = px.unchecked<1>();\n",
    "    auto py_data = py.unchecked<1>();\n",
    "    auto pz_data = pz.unchecked<1>();\n",
    "\n",
    "    // Convert momentum components to four-vectors\n",
    "    std::vector<fastjet::PseudoJet> pseudojets;\n",
    "    for (ssize_t i = 0; i < px.size(); ++i) {\n",
    "        double E = std::sqrt(px_data(i)*px_data(i) + py_data(i)*py_data(i) + pz_data(i)*pz_data(i));\n",
    "        pseudojets.emplace_back(px_data(i), py_data(i), pz_data(i), E);\n",
    "    }\n",
    "\n",
    "    // Cluster jets\n",
    "    fastjet::JetDefinition jet_def(fastjet::antikt_algorithm, R);\n",
    "    fastjet::ClusterSequence cluster_seq(pseudojets, jet_def);\n",
    "    std::vector<fastjet::PseudoJet> jets = cluster_seq.inclusive_jets();\n",
    "\n",
    "    // Print jet information\n",
    "    for (size_t i = 0; i < jets.size(); ++i) {\n",
    "        printf(\"Jet %zu - pt: %f, eta: %f, phi: %f\\n\", i+1, jets[i].pt(), jets[i].eta(), jets[i].phi());\n",
    "    }\n",
    "}\n",
    "\n",
    "PYBIND11_MODULE(jet_clustering, m) {\n",
    "    m.def(\"cluster_jets\", &cluster_jets, \"Cluster jets using FastJet\");\n",
    "}\n"
   ]
  },
  {
   "cell_type": "code",
   "execution_count": null,
   "id": "5f93cc57",
   "metadata": {},
   "outputs": [],
   "source": []
  }
 ],
 "metadata": {
  "kernelspec": {
   "display_name": "ROOT C++",
   "language": "c++",
   "name": "root"
  },
  "language_info": {
   "codemirror_mode": "text/x-c++src",
   "file_extension": ".C",
   "mimetype": " text/x-c++src",
   "name": "c++"
  }
 },
 "nbformat": 4,
 "nbformat_minor": 5
}
