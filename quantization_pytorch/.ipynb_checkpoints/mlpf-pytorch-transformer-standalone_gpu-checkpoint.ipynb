{
 "cells": [
  {
   "cell_type": "markdown",
   "id": "b53ad0ae",
   "metadata": {},
   "source": [
    "## TO DO:\n",
    "\n",
    "* Working on the CPU with a reseaonable number of statistics try to plot the figure 9.\n",
    "* Increase the number of statistics for the validation\n"
   ]
  },
  {
   "cell_type": "code",
   "execution_count": 5,
   "id": "0c0a1754",
   "metadata": {},
   "outputs": [],
   "source": [
    "import numpy as np \n",
    "import pandas as pd\n",
    "import time\n",
    "import tqdm"
   ]
  },
  {
   "cell_type": "code",
   "execution_count": 6,
   "id": "39607f7d-cab2-469b-874e-c835e0c78865",
   "metadata": {},
   "outputs": [],
   "source": [
    "import torch\n",
    "from torch import nn, Tensor\n",
    "import tensorflow_datasets as tfds\n",
    "import torch_geometric\n",
    "from torch.nn.utils.rnn import pad_sequence\n",
    "import torch.nn.functional as F\n",
    "\n",
    "import matplotlib.pyplot as plt"
   ]
  },
  {
   "cell_type": "code",
   "execution_count": 7,
   "id": "f57959f2",
   "metadata": {},
   "outputs": [
    {
     "name": "stdout",
     "output_type": "stream",
     "text": [
      "Number of available GPUs: 1\n",
      "Current GPU: Tesla T4\n"
     ]
    }
   ],
   "source": [
    "import torch\n",
    "\n",
    "if torch.cuda.is_available():\n",
    "    gpu_count = torch.cuda.device_count()\n",
    "    print(f\"Number of available GPUs: {gpu_count}\")\n",
    "\n",
    "    # Get the name of the current GPU\n",
    "    current_gpu = torch.cuda.get_device_name(0)\n",
    "    print(f\"Current GPU: {current_gpu}\")\n",
    "else:\n",
    "    print(\"CUDA is not available. PyTorch is running on CPU.\")\n"
   ]
  },
  {
   "cell_type": "code",
   "execution_count": 8,
   "id": "cb7fa6d8",
   "metadata": {},
   "outputs": [],
   "source": [
    "device = \"cuda\""
   ]
  },
  {
   "cell_type": "code",
   "execution_count": 9,
   "id": "2460cf92-75be-4622-bfb2-8392978e2ff8",
   "metadata": {},
   "outputs": [],
   "source": [
    "data_dir = \"../../mlpf/tensorflow_datasets/\"\n",
    "dataset = \"clic_edm_ttbar_pf\"\n",
    "\n",
    "#Load dataset\n",
    "builder = tfds.builder(dataset, data_dir=data_dir)\n",
    "ds_train = builder.as_data_source(split=\"train\")"
   ]
  },
  {
   "cell_type": "code",
   "execution_count": 10,
   "id": "86bd3286-c7a9-4bcb-a945-162cad36eec4",
   "metadata": {},
   "outputs": [],
   "source": [
    "X_FEATURES_TRK = [\n",
    "    \"elemtype\",\n",
    "    \"pt\",\n",
    "    \"eta\",\n",
    "    \"sin_phi\",\n",
    "    \"cos_phi\",\n",
    "    \"p\",\n",
    "    \"chi2\",\n",
    "    \"ndf\",\n",
    "    \"dEdx\",\n",
    "    \"dEdxError\",\n",
    "    \"radiusOfInnermostHit\",\n",
    "    \"tanLambda\",\n",
    "    \"D0\",\n",
    "    \"omega\",\n",
    "    \"Z0\",\n",
    "    \"time\",\n",
    "]\n",
    "X_FEATURES_CL = [\n",
    "    \"elemtype\",\n",
    "    \"et\",\n",
    "    \"eta\",\n",
    "    \"sin_phi\",\n",
    "    \"cos_phi\",\n",
    "    \"energy\",\n",
    "    \"position.x\",\n",
    "    \"position.y\",\n",
    "    \"position.z\",\n",
    "    \"iTheta\",\n",
    "    \"energy_ecal\",\n",
    "    \"energy_hcal\",\n",
    "    \"energy_other\",\n",
    "    \"num_hits\",\n",
    "    \"sigma_x\",\n",
    "    \"sigma_y\",\n",
    "    \"sigma_z\",\n",
    "]\n",
    "Y_FEATURES = [\"cls_id\", \"charge\", \"pt\", \"eta\", \"sin_phi\", \"cos_phi\", \"energy\"]\n",
    "Y_CLASSES = [0, 211, 130, 22, 11, 13]\n",
    "\n",
    "INPUT_DIM = max(len(X_FEATURES_TRK), len(X_FEATURES_CL))\n",
    "NUM_CLASSES = len(Y_CLASSES)"
   ]
  },
  {
   "cell_type": "code",
   "execution_count": 11,
   "id": "0fc5f7e1",
   "metadata": {},
   "outputs": [
    {
     "data": {
      "text/plain": [
       "6"
      ]
     },
     "execution_count": 11,
     "metadata": {},
     "output_type": "execute_result"
    }
   ],
   "source": [
    "NUM_CLASSES"
   ]
  },
  {
   "cell_type": "markdown",
   "id": "409952b1-db7a-47f6-b57c-8d0ce37e0872",
   "metadata": {},
   "source": [
    "## Model "
   ]
  },
  {
   "cell_type": "code",
   "execution_count": 12,
   "id": "0d581d65-1794-4ac5-b65f-96461a4b9c6f",
   "metadata": {},
   "outputs": [],
   "source": [
    "import torch\n",
    "from torch import nn\n",
    "import torch.nn.functional as nnF\n",
    "\n",
    "from torch import Tensor\n",
    "from typing import Optional, Tuple\n",
    "\n",
    "class QuantizeableMultiheadAttention(nn.MultiheadAttention):\n",
    "    _FLOAT_MODULE = nn.MultiheadAttention\n",
    "\n",
    "    r\"\"\"Quantizable implementation of the MultiheadAttention.\n",
    "\n",
    "    Note::\n",
    "        Please, refer to :class:`~torch.nn.MultiheadAttention` for more\n",
    "        information\n",
    "\n",
    "    Allows the model to jointly attend to information from different\n",
    "    representation subspaces.\n",
    "    See reference: Attention Is All You Need\n",
    "\n",
    "    The original MHA module is not quantizable.\n",
    "    This reimplements it by explicitly instantiating the linear layers.\n",
    "\n",
    "    .. math::\n",
    "        \\text{MultiHead}(Q, K, V) = \\text{Concat}(head_1,\\dots,head_h)W^O\n",
    "        \\text{where} head_i = \\text{Attention}(QW_i^Q, KW_i^K, VW_i^V)\n",
    "\n",
    "    Args:\n",
    "        embed_dim: total dimension of the model.\n",
    "        num_heads: parallel attention heads.\n",
    "        dropout: a Dropout layer on attn_output_weights. Default: 0.0.\n",
    "        bias: add bias as module parameter. Default: True.\n",
    "        add_bias_kv: add bias to the key and value sequences at dim=0.\n",
    "        add_zero_attn: add a new batch of zeros to the key and\n",
    "                       value sequences at dim=1.\n",
    "        kdim: total number of features in key. Default: None.\n",
    "        vdim: total number of features in value. Default: None.\n",
    "        batch_first: If ``True``, then the input and output tensors are provided\n",
    "            as (batch, seq, feature). Default: ``False`` (seq, batch, feature).\n",
    "\n",
    "    Note that if :attr:`kdim` and :attr:`vdim` are None, they will be set\n",
    "    to :attr:`embed_dim` such that query, key, and value have the same\n",
    "    number of features.\n",
    "\n",
    "    Examples::\n",
    "\n",
    "        >>> import torch.ao.nn.quantizable as nnqa\n",
    "        >>> multihead_attn = nnqa.MultiheadAttention(embed_dim, num_heads)\n",
    "        >>> attn_output, attn_output_weights = multihead_attn(query, key, value)\n",
    "\n",
    "    Note::\n",
    "        Please, follow the quantization flow to convert the quantizable MHA.\n",
    "    \"\"\"\n",
    "    __constants__ = ['batch_first']\n",
    "\n",
    "    def __init__(self, embed_dim: int, num_heads: int,\n",
    "                 dropout: float = 0., bias: bool = True,\n",
    "                 add_bias_kv: bool = False, add_zero_attn: bool = False,\n",
    "                 kdim: Optional[int] = None, vdim: Optional[int] = None, batch_first: bool = False,\n",
    "                 device=None, dtype=None) -> None:\n",
    "        factory_kwargs = {'device': device, 'dtype': dtype}\n",
    "        super().__init__(embed_dim, num_heads, dropout,\n",
    "                         bias, add_bias_kv,\n",
    "                         add_zero_attn, kdim, vdim, batch_first,\n",
    "                         **factory_kwargs)\n",
    "        self.linear_Q = nn.Linear(self.embed_dim, self.embed_dim, bias=bias, **factory_kwargs)\n",
    "        self.linear_K = nn.Linear(self.kdim, self.embed_dim, bias=bias, **factory_kwargs)\n",
    "        self.linear_V = nn.Linear(self.vdim, self.embed_dim, bias=bias, **factory_kwargs)\n",
    "        # for the type: ignore, see https://github.com/pytorch/pytorch/issues/58969\n",
    "        self.out_proj = nn.Linear(self.embed_dim, self.embed_dim, bias=bias, **factory_kwargs)  # type: ignore[assignment]\n",
    "\n",
    "        # Functionals\n",
    "        # self.q_scaling_product = torch.ao.nn.quantized.FloatFunctional()\n",
    "        # note: importing torch.ao.nn.quantized at top creates a circular import\n",
    "\n",
    "        # Quant/Dequant\n",
    "        self.quant_attn_output = torch.ao.quantization.QuantStub()\n",
    "        self.quant_attn_output_weights = torch.ao.quantization.QuantStub()\n",
    "        self.dequant_q = torch.ao.quantization.DeQuantStub()\n",
    "        self.dequant_k = torch.ao.quantization.DeQuantStub()\n",
    "        self.dequant_v = torch.ao.quantization.DeQuantStub()\n",
    "\n",
    "    def _get_name(self):\n",
    "        return 'QuantizableMultiheadAttention'\n",
    "\n",
    "    @classmethod\n",
    "    def from_float(cls, other):\n",
    "        assert type(other) == cls._FLOAT_MODULE\n",
    "        assert hasattr(other, 'qconfig'), \"The float module must have 'qconfig'\"\n",
    "        # Setting the dropout to 0.0!\n",
    "        observed = cls(other.embed_dim, other.num_heads, other.dropout,\n",
    "                       (other.in_proj_bias is not None),\n",
    "                       (other.bias_k is not None),\n",
    "                       other.add_zero_attn, other.kdim, other.vdim,\n",
    "                       other.batch_first)\n",
    "        observed.bias_k = other.bias_k\n",
    "        observed.bias_v = other.bias_v\n",
    "        observed.qconfig = other.qconfig\n",
    "\n",
    "        # Set the linear weights\n",
    "        # for the type: ignores, see https://github.com/pytorch/pytorch/issues/58969\n",
    "        observed.out_proj.weight = other.out_proj.weight  # type: ignore[has-type]\n",
    "        observed.out_proj.bias = other.out_proj.bias  # type: ignore[has-type]\n",
    "        if other._qkv_same_embed_dim:\n",
    "            # Use separate params\n",
    "            bias = other.in_proj_bias\n",
    "            _start = 0\n",
    "            _end = _start + other.embed_dim\n",
    "            weight = other.in_proj_weight[_start:_end, :]\n",
    "            if bias is not None:\n",
    "                bias = torch.nn.Parameter(bias[_start:_end], bias.requires_grad)\n",
    "            observed.linear_Q.weight = torch.nn.Parameter(weight,\n",
    "                                                          weight.requires_grad)\n",
    "            observed.linear_Q.bias = bias\n",
    "\n",
    "            bias = other.in_proj_bias\n",
    "            _start = _end\n",
    "            _end = _start + other.embed_dim\n",
    "            weight = other.in_proj_weight[_start:_end, :]\n",
    "            if bias is not None:\n",
    "                bias = torch.nn.Parameter(bias[_start:_end], bias.requires_grad)\n",
    "            observed.linear_K.weight = torch.nn.Parameter(weight,\n",
    "                                                          weight.requires_grad)\n",
    "            observed.linear_K.bias = bias\n",
    "\n",
    "            bias = other.in_proj_bias\n",
    "            _start = _end\n",
    "            weight = other.in_proj_weight[_start:, :]\n",
    "            if bias is not None:\n",
    "                bias = torch.nn.Parameter(bias[_start:], bias.requires_grad)\n",
    "            observed.linear_V.weight = torch.nn.Parameter(weight,\n",
    "                                                          weight.requires_grad)\n",
    "            observed.linear_V.bias = bias\n",
    "        else:\n",
    "            observed.linear_Q.weight = nn.Parameter(other.q_proj_weight)\n",
    "            observed.linear_K.weight = nn.Parameter(other.k_proj_weight)\n",
    "            observed.linear_V.weight = nn.Parameter(other.v_proj_weight)\n",
    "            if other.in_proj_bias is None:\n",
    "                observed.linear_Q.bias = None  # type: ignore[assignment]\n",
    "                observed.linear_K.bias = None  # type: ignore[assignment]\n",
    "                observed.linear_V.bias = None  # type: ignore[assignment]\n",
    "            else:\n",
    "                observed.linear_Q.bias = nn.Parameter(other.in_proj_bias[0:other.embed_dim])\n",
    "                observed.linear_K.bias = nn.Parameter(other.in_proj_bias[other.embed_dim:(other.embed_dim * 2)])\n",
    "                observed.linear_V.bias = nn.Parameter(other.in_proj_bias[(other.embed_dim * 2):])\n",
    "        observed.eval()\n",
    "        # Explicit prepare\n",
    "        observed = torch.ao.quantization.prepare(observed, inplace=True)\n",
    "        return observed\n",
    "\n",
    "    @torch.jit.unused\n",
    "    def dequantize(self):\n",
    "        r\"\"\"Utility to convert the quantized MHA back to float.\n",
    "\n",
    "        The motivation for this is that it is not trivial to conver the weights\n",
    "        from the format that is used in the quantized version back to the\n",
    "        float.\n",
    "        \"\"\"\n",
    "        fp = self._FLOAT_MODULE(self.embed_dim, self.num_heads, self.dropout,\n",
    "                                (self.linear_Q._weight_bias()[1] is not None),\n",
    "                                (self.bias_k is not None),\n",
    "                                self.add_zero_attn, self.kdim, self.vdim, self.batch_first)\n",
    "        assert fp._qkv_same_embed_dim == self._qkv_same_embed_dim\n",
    "        if self.bias_k is not None:\n",
    "            fp.bias_k = nn.Parameter(self.bias_k.dequantize())\n",
    "        if self.bias_v is not None:\n",
    "            fp.bias_v = nn.Parameter(self.bias_v.dequantize())\n",
    "\n",
    "        # Set the linear weights\n",
    "        # Note: Because the linear layers are quantized, mypy does not nkow how\n",
    "        # to deal with them -- might need to ignore the typing checks.\n",
    "        # for the type: ignore[has-type], see https://github.com/pytorch/pytorch/issues/58969\n",
    "        w, b = self.out_proj._weight_bias()  # type: ignore[operator, has-type]\n",
    "        fp.out_proj.weight = nn.Parameter(w.dequantize())\n",
    "        if b is not None:\n",
    "            fp.out_proj.bias = nn.Parameter(b)\n",
    "\n",
    "        wQ, bQ = self.linear_Q._weight_bias()  # type: ignore[operator]\n",
    "        wQ = wQ.dequantize()\n",
    "        wK, bK = self.linear_K._weight_bias()  # type: ignore[operator]\n",
    "        wK = wK.dequantize()\n",
    "        wV, bV = self.linear_V._weight_bias()  # type: ignore[operator]\n",
    "        wV = wV.dequantize()\n",
    "        if fp._qkv_same_embed_dim:\n",
    "            # Use separate params\n",
    "            _start = 0\n",
    "            _end = _start + fp.embed_dim\n",
    "            fp.in_proj_weight[_start:_end, :] = wQ\n",
    "            if fp.in_proj_bias is not None:\n",
    "                assert all(bQ == 0)\n",
    "                fp.in_proj_bias[_start:_end] = bQ\n",
    "\n",
    "            _start = _end\n",
    "            _end = _start + fp.embed_dim\n",
    "            fp.in_proj_weight[_start:_end, :] = wK\n",
    "            if fp.in_proj_bias is not None:\n",
    "                assert all(bK == 0)\n",
    "                fp.in_proj_bias[_start:_end] = bK\n",
    "\n",
    "            _start = _end\n",
    "            fp.in_proj_weight[_start:, :] = wV\n",
    "            if fp.in_proj_bias is not None:\n",
    "                assert all(bV == 0)\n",
    "                fp.in_proj_bias[_start:] = bV\n",
    "        else:\n",
    "            fp.q_proj_weight = nn.Parameter(wQ)\n",
    "            fp.k_proj_weight = nn.Parameter(wK)\n",
    "            fp.v_proj_weight = nn.Parameter(wV)\n",
    "            if fp.in_proj_bias is None:\n",
    "                self.linear_Q.bias = None\n",
    "                self.linear_K.bias = None\n",
    "                self.linear_V.bias = None\n",
    "            else:\n",
    "                fp.in_proj_bias[0:fp.embed_dim] = bQ\n",
    "                fp.in_proj_bias[fp.embed_dim:(fp.embed_dim * 2)] = bK\n",
    "                fp.in_proj_bias[(fp.embed_dim * 2):] = bV\n",
    "\n",
    "        return fp\n",
    "\n",
    "\n",
    "    @classmethod\n",
    "    def from_observed(cls, other):\n",
    "        # The whole flow is float -> observed -> quantized\n",
    "        # This class does float -> observed only\n",
    "        # See nn.quantized.MultiheadAttention\n",
    "        raise NotImplementedError(\"It looks like you are trying to prepare an \"\n",
    "                                  \"MHA module. Please, see \"\n",
    "                                  \"the examples on quantizable MHAs.\")\n",
    "\n",
    "    def forward(self,\n",
    "                query: Tensor,\n",
    "                key: Tensor,\n",
    "                value: Tensor,\n",
    "                key_padding_mask: Optional[Tensor] = None,\n",
    "                need_weights: bool = True,\n",
    "                attn_mask: Optional[Tensor] = None,\n",
    "                average_attn_weights: bool = True,\n",
    "                is_causal: bool = False) -> Tuple[Tensor, Optional[Tensor]]:\n",
    "        r\"\"\"\n",
    "    Note::\n",
    "        Please, refer to :func:`~torch.nn.MultiheadAttention.forward` for more\n",
    "        information\n",
    "\n",
    "    Args:\n",
    "        query, key, value: map a query and a set of key-value pairs to an output.\n",
    "            See \"Attention Is All You Need\" for more details.\n",
    "        key_padding_mask: if provided, specified padding elements in the key will\n",
    "            be ignored by the attention. When given a binary mask and a value is True,\n",
    "            the corresponding value on the attention layer will be ignored.\n",
    "        need_weights: output attn_output_weights.\n",
    "        attn_mask: 2D or 3D mask that prevents attention to certain positions. A 2D mask will be broadcasted for all\n",
    "            the batches while a 3D mask allows to specify a different mask for the entries of each batch.\n",
    "\n",
    "    Shape:\n",
    "        - Inputs:\n",
    "        - query: :math:`(L, N, E)` where L is the target sequence length, N is the batch size, E is\n",
    "          the embedding dimension. :math:`(N, L, E)` if ``batch_first`` is ``True``.\n",
    "        - key: :math:`(S, N, E)`, where S is the source sequence length, N is the batch size, E is\n",
    "          the embedding dimension. :math:`(N, S, E)` if ``batch_first`` is ``True``.\n",
    "        - value: :math:`(S, N, E)` where S is the source sequence length, N is the batch size, E is\n",
    "          the embedding dimension. :math:`(N, S, E)` if ``batch_first`` is ``True``.\n",
    "        - key_padding_mask: :math:`(N, S)` where N is the batch size, S is the source sequence length.\n",
    "          If a BoolTensor is provided, the positions with the\n",
    "          value of ``True`` will be ignored while the position with the value of ``False`` will be unchanged.\n",
    "        - attn_mask: 2D mask :math:`(L, S)` where L is the target sequence length, S is the source sequence length.\n",
    "          3D mask :math:`(N*num_heads, L, S)` where N is the batch size, L is the target sequence length,\n",
    "          S is the source sequence length. attn_mask ensure that position i is allowed to attend the unmasked\n",
    "          positions. If a BoolTensor is provided, positions with ``True``\n",
    "          is not allowed to attend while ``False`` values will be unchanged. If a FloatTensor\n",
    "          is provided, it will be added to the attention weight.\n",
    "        - is_causal: If specified, applies a causal mask as attention mask. Mutually exclusive with providing attn_mask.\n",
    "          Default: ``False``.\n",
    "        - average_attn_weights: If true, indicates that the returned ``attn_weights`` should be averaged across\n",
    "          heads. Otherwise, ``attn_weights`` are provided separately per head. Note that this flag only has an\n",
    "          effect when ``need_weights=True.``. Default: True (i.e. average weights across heads)\n",
    "\n",
    "        - Outputs:\n",
    "        - attn_output: :math:`(L, N, E)` where L is the target sequence length, N is the batch size,\n",
    "          E is the embedding dimension. :math:`(N, L, E)` if ``batch_first`` is ``True``.\n",
    "        - attn_output_weights: If ``average_attn_weights=True``, returns attention weights averaged\n",
    "          across heads of shape :math:`(N, L, S)`, where N is the batch size, L is the target sequence length,\n",
    "          S is the source sequence length. If ``average_attn_weights=False``, returns attention weights per\n",
    "          head of shape :math:`(N, num_heads, L, S)`.\n",
    "        \"\"\"\n",
    "        return self._forward_impl(query, key, value, key_padding_mask,\n",
    "                                  need_weights, attn_mask, average_attn_weights,\n",
    "                                  is_causal)\n",
    "\n",
    "    def _forward_impl(self,\n",
    "                      query: Tensor,\n",
    "                      key: Tensor,\n",
    "                      value: Tensor,\n",
    "                      key_padding_mask: Optional[Tensor] = None,\n",
    "                      need_weights: bool = True,\n",
    "                      attn_mask: Optional[Tensor] = None,\n",
    "                      average_attn_weights: bool = True,\n",
    "                      is_causal: bool = False) -> Tuple[Tensor, Optional[Tensor]]:\n",
    "        # This version will not deal with the static key/value pairs.\n",
    "        # Keeping it here for future changes.\n",
    "        #\n",
    "        # TODO: This method has some duplicate lines with the\n",
    "        # `torch.nn.functional.multi_head_attention`. Will need to refactor.\n",
    "        static_k = None\n",
    "        static_v = None\n",
    "\n",
    "        if attn_mask is not None and is_causal:\n",
    "            raise AssertionError(\"Only allow causal mask or attn_mask\")\n",
    "\n",
    "        if is_causal:\n",
    "            raise AssertionError(\"causal mask not supported by AO MHA module\")\n",
    "\n",
    "        if self.batch_first:\n",
    "            query, key, value = (x.transpose(0, 1) for x in (query, key, value))\n",
    "\n",
    "        tgt_len, bsz, embed_dim_to_check = query.size()\n",
    "        assert self.embed_dim == embed_dim_to_check\n",
    "        # allow MHA to have different sizes for the feature dimension\n",
    "        assert key.size(0) == value.size(0) and key.size(1) == value.size(1)\n",
    "\n",
    "        head_dim = self.embed_dim // self.num_heads\n",
    "        assert head_dim * self.num_heads == self.embed_dim, \"embed_dim must be divisible by num_heads\"\n",
    "        scaling = float(head_dim) ** -0.5\n",
    "\n",
    "        q = self.linear_Q(query)\n",
    "        k = self.linear_K(key)\n",
    "        v = self.linear_V(value)\n",
    "\n",
    "        #JP fix here: disabled this\n",
    "        # q = self.q_scaling_product.mul_scalar(q, scaling)\n",
    "\n",
    "        if attn_mask is not None:\n",
    "            if attn_mask.dtype == torch.uint8:\n",
    "                warnings.warn(\"Byte tensor for attn_mask in nn.MultiheadAttention is deprecated. Use bool tensor instead.\")\n",
    "                attn_mask = attn_mask.to(torch.bool)\n",
    "            assert attn_mask.is_floating_point() or attn_mask.dtype == torch.bool, \\\n",
    "                f'Only float and bool types are supported for attn_mask, not {attn_mask.dtype}'\n",
    "\n",
    "            if attn_mask.dim() == 2:\n",
    "                attn_mask = attn_mask.unsqueeze(0)\n",
    "                if list(attn_mask.size()) != [1, query.size(0), key.size(0)]:\n",
    "                    raise RuntimeError('The size of the 2D attn_mask is not correct.')\n",
    "            elif attn_mask.dim() == 3:\n",
    "                if list(attn_mask.size()) != [bsz * self.num_heads, query.size(0), key.size(0)]:\n",
    "                    raise RuntimeError('The size of the 3D attn_mask is not correct.')\n",
    "            else:\n",
    "                raise RuntimeError(f\"attn_mask's dimension {attn_mask.dim()} is not supported\")\n",
    "            # attn_mask's dim is 3 now.\n",
    "\n",
    "        # convert ByteTensor key_padding_mask to bool\n",
    "        if key_padding_mask is not None and key_padding_mask.dtype == torch.uint8:\n",
    "            warnings.warn(\"Byte tensor for key_padding_mask in nn.MultiheadAttention is deprecated. Use bool tensor instead.\")\n",
    "            key_padding_mask = key_padding_mask.to(torch.bool)\n",
    "        if self.bias_k is not None and self.bias_v is not None:\n",
    "            if static_k is None and static_v is None:\n",
    "\n",
    "                # Explicitly assert that bias_k and bias_v are not None\n",
    "                # in a way that TorchScript can understand.\n",
    "                bias_k = self.bias_k\n",
    "                assert bias_k is not None\n",
    "                bias_v = self.bias_v\n",
    "                assert bias_v is not None\n",
    "\n",
    "                k = torch.cat([k, bias_k.repeat(1, bsz, 1)])\n",
    "                v = torch.cat([v, bias_v.repeat(1, bsz, 1)])\n",
    "                if attn_mask is not None:\n",
    "                    attn_mask = nnF.pad(attn_mask, (0, 1))\n",
    "                if key_padding_mask is not None:\n",
    "                    key_padding_mask = nnF.pad(key_padding_mask, (0, 1))\n",
    "            else:\n",
    "                assert static_k is None, \"bias cannot be added to static key.\"\n",
    "                assert static_v is None, \"bias cannot be added to static value.\"\n",
    "        else:\n",
    "            assert self.bias_k is None\n",
    "            assert self.bias_v is None\n",
    "\n",
    "        q = q.contiguous().view(tgt_len, bsz * self.num_heads, head_dim).transpose(0, 1)\n",
    "        if k is not None:\n",
    "            k = k.contiguous().view(-1, bsz * self.num_heads, head_dim).transpose(0, 1)\n",
    "        if v is not None:\n",
    "            v = v.contiguous().view(-1, bsz * self.num_heads, head_dim).transpose(0, 1)\n",
    "\n",
    "        if static_k is not None:\n",
    "            assert static_k.size(0) == bsz * self.num_heads\n",
    "            assert static_k.size(2) == head_dim\n",
    "            k = static_k\n",
    "\n",
    "        if static_v is not None:\n",
    "            assert static_v.size(0) == bsz * self.num_heads\n",
    "            assert static_v.size(2) == head_dim\n",
    "            v = static_v\n",
    "\n",
    "        src_len = k.size(1)\n",
    "\n",
    "        if key_padding_mask is not None:\n",
    "            assert key_padding_mask.size(0) == bsz\n",
    "            assert key_padding_mask.size(1) == src_len\n",
    "\n",
    "        if self.add_zero_attn:\n",
    "            src_len += 1\n",
    "            k_zeros = torch.zeros((k.size(0), 1) + k.size()[2:])\n",
    "            if k.is_quantized:\n",
    "                k_zeros = torch.quantize_per_tensor(k_zeros, k.q_scale(), k.q_zero_point(), k.dtype)\n",
    "            k = torch.cat([k, k_zeros], dim=1)\n",
    "            v_zeros = torch.zeros((v.size(0), 1) + k.size()[2:])\n",
    "            if v.is_quantized:\n",
    "                v_zeros = torch.quantize_per_tensor(v_zeros, v.q_scale(), v.q_zero_point(), v.dtype)\n",
    "            v = torch.cat([v, v_zeros], dim=1)\n",
    "\n",
    "            if attn_mask is not None:\n",
    "                attn_mask = nnF.pad(attn_mask, (0, 1))\n",
    "            if key_padding_mask is not None:\n",
    "                key_padding_mask = nnF.pad(key_padding_mask, (0, 1))\n",
    "\n",
    "        # Leaving the quantized zone here\n",
    "        q = self.dequant_q(q)\n",
    "        k = self.dequant_k(k)\n",
    "        v = self.dequant_v(v)\n",
    "        attn_output_weights = torch.bmm(q, k.transpose(1, 2))\n",
    "        assert list(attn_output_weights.size()) == [bsz * self.num_heads, tgt_len, src_len]\n",
    "\n",
    "        if attn_mask is not None:\n",
    "            if attn_mask.dtype == torch.bool:\n",
    "                attn_output_weights.masked_fill_(attn_mask, float('-inf'))\n",
    "            else:\n",
    "                attn_output_weights += attn_mask\n",
    "\n",
    "        if key_padding_mask is not None:\n",
    "            attn_output_weights = attn_output_weights.view(bsz, self.num_heads, tgt_len, src_len)\n",
    "            attn_output_weights = attn_output_weights.masked_fill(\n",
    "                key_padding_mask.unsqueeze(1).unsqueeze(2),\n",
    "                float('-inf'),\n",
    "            )\n",
    "            attn_output_weights = attn_output_weights.view(bsz * self.num_heads, tgt_len, src_len)\n",
    "\n",
    "        attn_output_weights = nnF.softmax(\n",
    "            attn_output_weights, dim=-1)\n",
    "        attn_output_weights = nnF.dropout(attn_output_weights, p=self.dropout, training=self.training)\n",
    "\n",
    "        attn_output = torch.bmm(attn_output_weights, v)\n",
    "        assert list(attn_output.size()) == [bsz * self.num_heads, tgt_len, head_dim]\n",
    "        if self.batch_first:\n",
    "            attn_output = attn_output.view(bsz, tgt_len, self.embed_dim)\n",
    "        else:\n",
    "            attn_output = attn_output.transpose(0, 1).contiguous().view(tgt_len, bsz, self.embed_dim)\n",
    "\n",
    "        # Reentering the quantized zone\n",
    "        attn_output = self.quant_attn_output(attn_output)\n",
    "        # for the type: ignore[has-type], see https://github.com/pytorch/pytorch/issues/58969\n",
    "        attn_output = self.out_proj(attn_output)  # type: ignore[has-type]\n",
    "\n",
    "        #JP fix: removed need_weights part from here, return attn_output instead of tuple\n",
    "        return attn_output\n",
    "\n",
    "class QuantizedMultiheadAttention(QuantizeableMultiheadAttention):\n",
    "    _FLOAT_MODULE = torch.ao.nn.quantizable.MultiheadAttention\n",
    "\n",
    "    def _get_name(self):\n",
    "        return \"QuantizedMultiheadAttention\"\n",
    "\n",
    "    @classmethod\n",
    "    def from_float(cls, other):\n",
    "        # The whole flow is float -> observed -> quantized\n",
    "        # This class does observed -> quantized only\n",
    "        raise NotImplementedError(\"It looks like you are trying to convert a \"\n",
    "                                  \"non-observed MHA module. Please, see \"\n",
    "                                  \"the examples on quantizable MHAs.\")\n",
    "\n",
    "    @classmethod\n",
    "    def from_observed(cls, other):\n",
    "        converted = torch.ao.quantization.convert(other, mapping=None,\n",
    "                                                  inplace=False,\n",
    "                                                  remove_qconfig=True,\n",
    "                                                  convert_custom_config_dict=None)\n",
    "        converted.__class__ = cls\n",
    "        # Remove the parameters for the bias_k and bias_v to quantize them\n",
    "        # TODO: This is a potential source of accuracy drop.\n",
    "        #       quantized cat takes the scale and zp of the first\n",
    "        #       element, which might lose the precision in the bias_k\n",
    "        #       and the bias_v (which are cat'ed with k/v being first).\n",
    "        if converted.bias_k is not None:\n",
    "            bias_k = converted._parameters.pop('bias_k')\n",
    "            sc, zp = torch._choose_qparams_per_tensor(bias_k,\n",
    "                                                      reduce_range=False)\n",
    "            bias_k = torch.quantize_per_tensor(bias_k, sc, zp, torch.quint8)\n",
    "            setattr(converted, 'bias_k', bias_k)  # noqa: B010\n",
    "\n",
    "        if converted.bias_v is not None:\n",
    "            bias_v = converted._parameters.pop('bias_v')\n",
    "            sc, zp = torch._choose_qparams_per_tensor(bias_k,  # type: ignore[possibly-undefined]\n",
    "                                                      reduce_range=False)\n",
    "            bias_v = torch.quantize_per_tensor(bias_v, sc, zp, torch.quint8)\n",
    "            setattr(converted, 'bias_v', bias_v)  # noqa: B010\n",
    "\n",
    "        del converted.in_proj_weight\n",
    "        del converted.in_proj_bias\n",
    "\n",
    "        return converted\n"
   ]
  },
  {
   "cell_type": "code",
   "execution_count": 13,
   "id": "e697d50c-8b91-42b5-ade2-9e9e23041001",
   "metadata": {},
   "outputs": [],
   "source": [
    "class FocalLoss(nn.Module):\n",
    "    \"\"\"Focal Loss, as described in https://arxiv.org/abs/1708.02002.\n",
    "    It is essentially an enhancement to cross entropy loss and is\n",
    "    useful for classification tasks when there is a large class imbalance.\n",
    "    x is expected to contain raw, unnormalized scores for each class.\n",
    "    y is expected to contain class labels.\n",
    "    Shape:\n",
    "        - x: (batch_size, C) or (batch_size, C, d1, d2, ..., dK), K > 0.\n",
    "        - y: (batch_size,) or (batch_size, d1, d2, ..., dK), K > 0.\n",
    "    \"\"\"\n",
    "\n",
    "    def __init__(\n",
    "        self, alpha = None, gamma = 0.0, reduction = \"mean\", ignore_index = -100\n",
    "    ):\n",
    "        \"\"\"Constructor.\n",
    "        Args:\n",
    "            alpha (Tensor, optional): Weights for each class. Defaults to None.\n",
    "            gamma (float, optional): A constant, as described in the paper.\n",
    "                Defaults to 0.\n",
    "            reduction (str, optional): 'mean', 'sum' or 'none'.\n",
    "                Defaults to 'mean'.\n",
    "            ignore_index (int, optional): class label to ignore.\n",
    "                Defaults to -100.\n",
    "        \"\"\"\n",
    "        if reduction not in (\"mean\", \"sum\", \"none\"):\n",
    "            raise ValueError('Reduction must be one of: \"mean\", \"sum\", \"none\".')\n",
    "\n",
    "        super().__init__()\n",
    "        self.alpha = alpha\n",
    "        self.gamma = gamma\n",
    "        self.reduction = reduction\n",
    "\n",
    "        self.nll_loss = nn.NLLLoss(weight=alpha, reduction=\"none\")\n",
    "\n",
    "    def __repr__(self):\n",
    "        arg_keys = [\"alpha\", \"gamma\", \"reduction\"]\n",
    "        arg_vals = [self.__dict__[k] for k in arg_keys]\n",
    "        arg_strs = [f\"{k}={v!r}\" for k, v in zip(arg_keys, arg_vals)]\n",
    "        arg_str = \", \".join(arg_strs)\n",
    "        return f\"{type(self).__name__}({arg_str})\"\n",
    "\n",
    "    def forward(self, x: Tensor, y: Tensor) -> Tensor:\n",
    "        if x.ndim > 2:\n",
    "            # (N, C, d1, d2, ..., dK) --> (N * d1 * ... * dK, C)\n",
    "            c = x.shape[1]\n",
    "            x = x.permute(0, *range(2, x.ndim), 1).reshape(-1, c)\n",
    "            # (N, d1, d2, ..., dK) --> (N * d1 * ... * dK,)\n",
    "            y = y.view(-1)\n",
    "\n",
    "        # compute weighted cross entropy term: -alpha * log(pt)\n",
    "        # (alpha is already part of self.nll_loss)\n",
    "        log_p = F.log_softmax(x, dim=-1)\n",
    "        ce = self.nll_loss(log_p, y)\n",
    "\n",
    "        # get true class column from each row\n",
    "        # this is slow due to indexing\n",
    "        # all_rows = torch.arange(len(x))\n",
    "        # log_pt = log_p[all_rows, y]\n",
    "        log_pt = torch.gather(log_p, 1, y.unsqueeze(axis=-1)).squeeze(axis=-1)\n",
    "\n",
    "        # compute focal term: (1 - pt)^gamma\n",
    "        pt = log_pt.exp()\n",
    "        focal_term = (1 - pt) ** self.gamma\n",
    "\n",
    "        # the full loss: -alpha * ((1 - pt)^gamma) * log(pt)\n",
    "        loss = focal_term * ce\n",
    "\n",
    "        if self.reduction == \"mean\":\n",
    "            loss = loss.mean()\n",
    "        elif self.reduction == \"sum\":\n",
    "            loss = loss.sum()\n",
    "\n",
    "        return loss\n",
    "\n",
    "class QuantizeFeaturesStub(torch.ao.quantization.QuantStub):\n",
    "    def __init__(self, num_feats):\n",
    "        super().__init__()\n",
    "        self.num_feats = num_feats\n",
    "        self.quants = torch.nn.ModuleList()\n",
    "        for ifeat in range(self.num_feats):\n",
    "            self.quants.append(torch.ao.quantization.QuantStub())\n",
    "\n",
    "    def forward(self, x):\n",
    "        return torch.cat([self.quants[ifeat](x[..., ifeat:ifeat+1]) for ifeat in range(self.num_feats)], axis=-1)\n",
    "        \n",
    "def mlpf_loss(y, ypred, mask):\n",
    "    loss = {}\n",
    "    loss_obj_id = FocalLoss(gamma=2.0, reduction=\"none\")\n",
    "\n",
    "    msk_true_particle = torch.unsqueeze((y[\"cls_id\"] != 0).to(dtype=torch.float32), axis=-1)\n",
    "    nelem = torch.sum(mask)\n",
    "    npart = torch.sum(y[\"cls_id\"] != 0)\n",
    "    \n",
    "    ypred[\"momentum\"] = ypred[\"momentum\"] * msk_true_particle\n",
    "    y[\"momentum\"] = y[\"momentum\"] * msk_true_particle\n",
    "\n",
    "    ypred[\"cls_id_onehot\"] = ypred[\"cls_id_onehot\"].permute((0, 2, 1))\n",
    "\n",
    "    loss_classification = loss_obj_id(ypred[\"cls_id_onehot\"], y[\"cls_id\"]).reshape(y[\"cls_id\"].shape)\n",
    "    loss_regression = torch.nn.functional.huber_loss(ypred[\"momentum\"], y[\"momentum\"], reduction=\"none\")\n",
    "    \n",
    "    # average over all elements that were not padded\n",
    "    loss[\"Classification\"] = loss_classification.sum() / npart\n",
    "    \n",
    "    mom_normalizer = y[\"momentum\"][y[\"cls_id\"] != 0].std(axis=0)\n",
    "    reg_losses = loss_regression[y[\"cls_id\"] != 0]\n",
    "    # average over all true particles\n",
    "    loss[\"Regression\"] = (reg_losses / mom_normalizer).sum() / npart\n",
    "\n",
    "    px = ypred[\"momentum\"][..., 0:1] * ypred[\"momentum\"][..., 3:4] * msk_true_particle\n",
    "    py = ypred[\"momentum\"][..., 0:1] * ypred[\"momentum\"][..., 2:3] * msk_true_particle\n",
    "    pred_met = torch.sqrt(torch.sum(px, axis=-2) ** 2 + torch.sum(py, axis=-2) ** 2)\n",
    "\n",
    "    px = y[\"momentum\"][..., 0:1] * y[\"momentum\"][..., 3:4] * msk_true_particle\n",
    "    py = y[\"momentum\"][..., 0:1] * y[\"momentum\"][..., 2:3] * msk_true_particle\n",
    "    true_met = torch.sqrt(torch.sum(px, axis=-2) ** 2 + torch.sum(py, axis=-2) ** 2)\n",
    "    loss[\"MET\"] = torch.nn.functional.huber_loss(pred_met, true_met).mean()\n",
    "\n",
    "    loss[\"Total\"] = loss[\"Classification\"] + loss[\"Regression\"]\n",
    "    # loss[\"Total\"] += 0.1*loss[\"MET\"]\n",
    "    return loss\n",
    "    \n",
    "class SelfAttentionLayer(nn.Module):\n",
    "    def __init__(\n",
    "        self,\n",
    "        embedding_dim=128,\n",
    "        num_heads=2,\n",
    "        width=128,\n",
    "        dropout_mha=0.1,\n",
    "        dropout_ff=0.1,\n",
    "        attention_type=\"efficient\",\n",
    "    ):\n",
    "        super(SelfAttentionLayer, self).__init__()\n",
    "\n",
    "        self.attention_type = attention_type\n",
    "        self.act = nn.ReLU\n",
    "        self.mha = torch.nn.MultiheadAttention(embedding_dim, num_heads, dropout=dropout_mha, batch_first=True)\n",
    "        self.norm0 = torch.nn.LayerNorm(embedding_dim)\n",
    "        self.norm1 = torch.nn.LayerNorm(embedding_dim)\n",
    "        self.seq = torch.nn.Sequential(\n",
    "            nn.Linear(embedding_dim, width), self.act(), nn.Linear(width, embedding_dim), self.act()\n",
    "        )\n",
    "        self.dropout = torch.nn.Dropout(dropout_ff)\n",
    "\n",
    "        self.add0 = torch.ao.nn.quantized.FloatFunctional()\n",
    "        self.add1 = torch.ao.nn.quantized.FloatFunctional()\n",
    "        self.mul = torch.ao.nn.quantized.FloatFunctional()\n",
    "\n",
    "    def forward(self, x, mask):\n",
    "        mha_out = self.mha(x, x, x, need_weights=False)[0]\n",
    "        x = self.add0.add(x, mha_out)\n",
    "        x = self.norm0(x)\n",
    "        x = self.add1.add(x, self.seq(x))\n",
    "        x = self.norm1(x)\n",
    "        x = self.dropout(x)\n",
    "        # x = self.mul.mul(x, mask.unsqueeze(-1))\n",
    "        return x\n",
    "\n",
    "class RegressionOutput(nn.Module):\n",
    "    def __init__(self, embed_dim, width, act, dropout):\n",
    "        super(RegressionOutput, self).__init__()\n",
    "        self.dequant = torch.ao.quantization.DeQuantStub()\n",
    "        self.nn = ffn(embed_dim, 1, width, act, dropout)\n",
    "\n",
    "    def forward(self, elems, x, orig_value):\n",
    "        nn_out = self.nn(x)\n",
    "        nn_out = self.dequant(nn_out)\n",
    "        return orig_value + nn_out\n",
    "\n",
    "def ffn(input_dim, output_dim, width, act, dropout):\n",
    "    return nn.Sequential(\n",
    "        nn.Linear(input_dim, width),\n",
    "        act(),\n",
    "        torch.nn.LayerNorm(width),\n",
    "        nn.Dropout(dropout),\n",
    "        nn.Linear(width, output_dim),\n",
    "    )\n",
    "\n",
    "def transform_batch(Xbatch):\n",
    "    Xbatch = Xbatch.clone()\n",
    "    Xbatch[..., 1] = torch.log(Xbatch[..., 1])\n",
    "    Xbatch[..., 5] = torch.log(Xbatch[..., 5])\n",
    "    Xbatch[torch.isnan(Xbatch)] = 0.0\n",
    "    Xbatch[torch.isinf(Xbatch)] = 0.0\n",
    "    return Xbatch\n",
    "    \n",
    "def unpack_target(y):\n",
    "    ret = {}\n",
    "    ret[\"cls_id\"] = y[..., 0].long()\n",
    "\n",
    "    for i, feat in enumerate(Y_FEATURES):\n",
    "        if i >= 2:  # skip the cls and charge as they are defined above\n",
    "            ret[feat] = y[..., i].to(dtype=torch.float32)\n",
    "    ret[\"phi\"] = torch.atan2(ret[\"sin_phi\"], ret[\"cos_phi\"])\n",
    "    \n",
    "    # note ~ momentum = [\"pt\", \"eta\", \"sin_phi\", \"cos_phi\", \"energy\"]\n",
    "    ret[\"momentum\"] = y[..., 2:7].to(dtype=torch.float32)\n",
    "    ret[\"p4\"] = torch.cat(\n",
    "        [ret[\"pt\"].unsqueeze(1), ret[\"eta\"].unsqueeze(1), ret[\"phi\"].unsqueeze(1), ret[\"energy\"].unsqueeze(1)], axis=1\n",
    "    )\n",
    "\n",
    "    return ret\n",
    "\n",
    "\n",
    "def unpack_predictions(preds):\n",
    "    ret = {}\n",
    "    ret[\"cls_id_onehot\"], ret[\"momentum\"] = preds\n",
    "\n",
    "    ret[\"pt\"] = ret[\"momentum\"][..., 0]\n",
    "    ret[\"eta\"] = ret[\"momentum\"][..., 1]\n",
    "    ret[\"sin_phi\"] = ret[\"momentum\"][..., 2]\n",
    "    ret[\"cos_phi\"] = ret[\"momentum\"][..., 3]\n",
    "    ret[\"energy\"] = ret[\"momentum\"][..., 4]\n",
    "\n",
    "    ret[\"cls_id\"] = torch.argmax(ret[\"cls_id_onehot\"], axis=-1)\n",
    "    ret[\"phi\"] = torch.atan2(ret[\"sin_phi\"], ret[\"cos_phi\"])\n",
    "    ret[\"p4\"] = torch.cat(\n",
    "        [\n",
    "            ret[\"pt\"].unsqueeze(axis=-1),\n",
    "            ret[\"eta\"].unsqueeze(axis=-1),\n",
    "            ret[\"phi\"].unsqueeze(axis=-1),\n",
    "            ret[\"energy\"].unsqueeze(axis=-1),\n",
    "        ],\n",
    "        axis=-1,\n",
    "    )\n",
    "\n",
    "    return ret\n",
    "\n",
    "class MLPF(nn.Module):\n",
    "    def __init__(\n",
    "        self,\n",
    "        input_dim=16,\n",
    "        num_classes=6,\n",
    "        num_convs=2,\n",
    "        dropout_ff=0.0,\n",
    "        dropout_conv_reg_mha=0.0,\n",
    "        dropout_conv_reg_ff=0.0,\n",
    "        dropout_conv_id_mha=0.0,\n",
    "        dropout_conv_id_ff=0.0,\n",
    "        num_heads=16,\n",
    "        head_dim=16,\n",
    "        elemtypes=[0,1,2],\n",
    "    ):\n",
    "        super(MLPF, self).__init__()\n",
    "        self.input_dim = input_dim\n",
    "        self.act = nn.ReLU\n",
    "        self.elemtypes = elemtypes\n",
    "        self.num_elemtypes = len(self.elemtypes)\n",
    "\n",
    "        embedding_dim = num_heads * head_dim\n",
    "        width = num_heads * head_dim\n",
    "        \n",
    "        self.nn0_id = ffn(self.input_dim, embedding_dim, width, self.act, dropout_ff)\n",
    "        self.nn0_reg = ffn(self.input_dim, embedding_dim, width, self.act, dropout_ff)\n",
    "        \n",
    "        self.conv_id = nn.ModuleList()\n",
    "        self.conv_reg = nn.ModuleList()\n",
    "\n",
    "        for i in range(num_convs):\n",
    "            self.conv_id.append(\n",
    "                SelfAttentionLayer(\n",
    "                    embedding_dim=embedding_dim,\n",
    "                    num_heads=num_heads,\n",
    "                    width=width,\n",
    "                    dropout_mha=dropout_conv_id_mha,\n",
    "                    dropout_ff=dropout_conv_id_ff,\n",
    "                )\n",
    "            )\n",
    "            self.conv_reg.append(\n",
    "                SelfAttentionLayer(\n",
    "                    embedding_dim=embedding_dim,\n",
    "                    num_heads=num_heads,\n",
    "                    width=width,\n",
    "                    dropout_mha=dropout_conv_reg_mha,\n",
    "                    dropout_ff=dropout_conv_reg_ff,\n",
    "                )\n",
    "            )\n",
    "\n",
    "        decoding_dim = self.input_dim + embedding_dim\n",
    "\n",
    "        # DNN that acts on the node level to predict the PID\n",
    "        self.nn_id = ffn(decoding_dim, num_classes, width, self.act, dropout_ff)\n",
    "\n",
    "        # elementwise DNN for node momentum regression\n",
    "        embed_dim = decoding_dim + num_classes\n",
    "        self.nn_pt = RegressionOutput(embed_dim, width, self.act, dropout_ff)\n",
    "        self.nn_eta = RegressionOutput(embed_dim, width, self.act, dropout_ff)\n",
    "        self.nn_sin_phi = RegressionOutput(embed_dim, width, self.act, dropout_ff)\n",
    "        self.nn_cos_phi = RegressionOutput(embed_dim, width, self.act, dropout_ff)\n",
    "        self.nn_energy = RegressionOutput(embed_dim, width, self.act, dropout_ff)\n",
    "        \n",
    "        self.quant = QuantizeFeaturesStub(self.input_dim + len(self.elemtypes))\n",
    "        self.dequant_id = torch.ao.quantization.DeQuantStub()\n",
    "\n",
    "    def forward(self, X_features, mask):\n",
    "        Xfeat_transformed = transform_batch(X_features)\n",
    "        Xfeat_normed = self.quant(Xfeat_transformed)\n",
    "\n",
    "        embeddings_id, embeddings_reg = [], []\n",
    "        embedding_id = self.nn0_id(Xfeat_normed)\n",
    "        embedding_reg = self.nn0_reg(Xfeat_normed)\n",
    "        for num, conv in enumerate(self.conv_id):\n",
    "            conv_input = embedding_id if num == 0 else embeddings_id[-1]\n",
    "            out_padded = conv(conv_input, mask)\n",
    "            embeddings_id.append(out_padded)\n",
    "        for num, conv in enumerate(self.conv_reg):\n",
    "            conv_input = embedding_reg if num == 0 else embeddings_reg[-1]\n",
    "            out_padded = conv(conv_input, mask)\n",
    "            embeddings_reg.append(out_padded)\n",
    "\n",
    "        final_embedding_id = torch.cat([Xfeat_normed] + [embeddings_id[-1]], axis=-1)\n",
    "        preds_id = self.nn_id(final_embedding_id)\n",
    "\n",
    "        final_embedding_reg = torch.cat([Xfeat_normed] + [embeddings_reg[-1]] + [preds_id], axis=-1)\n",
    "        preds_pt = self.nn_pt(X_features, final_embedding_reg, X_features[..., 1:2])\n",
    "        preds_eta = self.nn_eta(X_features, final_embedding_reg, X_features[..., 2:3])\n",
    "        preds_sin_phi = self.nn_sin_phi(X_features, final_embedding_reg, X_features[..., 3:4])\n",
    "        preds_cos_phi = self.nn_cos_phi(X_features, final_embedding_reg, X_features[..., 4:5])\n",
    "        preds_energy = self.nn_energy(X_features, final_embedding_reg, X_features[..., 5:6])\n",
    "        preds_momentum = torch.cat([preds_pt, preds_eta, preds_sin_phi, preds_cos_phi, preds_energy], axis=-1)\n",
    "        \n",
    "        preds_id = self.dequant_id(preds_id)\n",
    "        return preds_id, preds_momentum\n",
    "\n",
    "model = MLPF(input_dim=INPUT_DIM, num_classes=NUM_CLASSES)\n",
    "optimizer = torch.optim.Adam(lr=1e-4, params=model.parameters())"
   ]
  },
  {
   "cell_type": "markdown",
   "id": "4721f1c7-b501-4757-982b-fa2194cf6176",
   "metadata": {},
   "source": [
    "## Training"
   ]
  },
  {
   "cell_type": "code",
   "execution_count": 43,
   "id": "28fc87e0-5b18-4c44-a67e-ce2792b567de",
   "metadata": {},
   "outputs": [
    {
     "name": "stderr",
     "output_type": "stream",
     "text": [
      "100%|█████████████████████████████████████████| 200/200 [01:16<00:00,  2.60it/s]\n",
      "100%|█████████████████████████████████████████| 200/200 [01:16<00:00,  2.62it/s]\n",
      "100%|█████████████████████████████████████████| 200/200 [01:17<00:00,  2.58it/s]\n",
      "100%|█████████████████████████████████████████| 200/200 [01:16<00:00,  2.60it/s]\n",
      "100%|█████████████████████████████████████████| 200/200 [01:16<00:00,  2.61it/s]\n",
      "100%|█████████████████████████████████████████| 200/200 [01:17<00:00,  2.58it/s]\n",
      "100%|█████████████████████████████████████████| 200/200 [01:16<00:00,  2.60it/s]\n",
      "100%|█████████████████████████████████████████| 200/200 [01:17<00:00,  2.60it/s]\n",
      "100%|█████████████████████████████████████████| 200/200 [01:16<00:00,  2.60it/s]\n",
      "100%|█████████████████████████████████████████| 200/200 [01:16<00:00,  2.62it/s]\n"
     ]
    },
    {
     "name": "stdout",
     "output_type": "stream",
     "text": [
      "Epoch 0, loss=0.68\n"
     ]
    },
    {
     "name": "stderr",
     "output_type": "stream",
     "text": [
      "100%|█████████████████████████████████████████| 200/200 [01:16<00:00,  2.62it/s]\n",
      "100%|█████████████████████████████████████████| 200/200 [01:16<00:00,  2.61it/s]\n",
      "100%|█████████████████████████████████████████| 200/200 [01:15<00:00,  2.67it/s]\n",
      "100%|█████████████████████████████████████████| 200/200 [01:17<00:00,  2.58it/s]\n",
      "100%|█████████████████████████████████████████| 200/200 [01:12<00:00,  2.77it/s]\n",
      "100%|█████████████████████████████████████████| 200/200 [01:18<00:00,  2.56it/s]\n",
      "100%|█████████████████████████████████████████| 200/200 [01:14<00:00,  2.70it/s]\n",
      "100%|█████████████████████████████████████████| 200/200 [01:17<00:00,  2.57it/s]\n",
      "100%|█████████████████████████████████████████| 200/200 [01:15<00:00,  2.64it/s]\n",
      "100%|█████████████████████████████████████████| 200/200 [01:16<00:00,  2.60it/s]\n"
     ]
    },
    {
     "name": "stdout",
     "output_type": "stream",
     "text": [
      "Epoch 1, loss=0.53\n"
     ]
    },
    {
     "name": "stderr",
     "output_type": "stream",
     "text": [
      "100%|█████████████████████████████████████████| 200/200 [01:15<00:00,  2.65it/s]\n",
      "100%|█████████████████████████████████████████| 200/200 [01:17<00:00,  2.59it/s]\n",
      "100%|█████████████████████████████████████████| 200/200 [01:16<00:00,  2.61it/s]\n",
      "100%|█████████████████████████████████████████| 200/200 [01:16<00:00,  2.61it/s]\n",
      "100%|█████████████████████████████████████████| 200/200 [01:16<00:00,  2.63it/s]\n",
      "100%|█████████████████████████████████████████| 200/200 [01:16<00:00,  2.61it/s]\n",
      "100%|█████████████████████████████████████████| 200/200 [01:17<00:00,  2.59it/s]\n",
      "100%|█████████████████████████████████████████| 200/200 [01:16<00:00,  2.61it/s]\n",
      "100%|█████████████████████████████████████████| 200/200 [01:16<00:00,  2.61it/s]\n",
      "100%|█████████████████████████████████████████| 200/200 [01:17<00:00,  2.57it/s]\n"
     ]
    },
    {
     "name": "stdout",
     "output_type": "stream",
     "text": [
      "Epoch 2, loss=0.45\n"
     ]
    },
    {
     "name": "stderr",
     "output_type": "stream",
     "text": [
      "100%|█████████████████████████████████████████| 200/200 [01:02<00:00,  3.20it/s]\n",
      "100%|█████████████████████████████████████████| 200/200 [00:54<00:00,  3.66it/s]\n",
      "100%|█████████████████████████████████████████| 200/200 [01:07<00:00,  2.98it/s]\n",
      "100%|█████████████████████████████████████████| 200/200 [01:11<00:00,  2.80it/s]\n",
      "100%|█████████████████████████████████████████| 200/200 [01:18<00:00,  2.55it/s]\n",
      "100%|█████████████████████████████████████████| 200/200 [01:13<00:00,  2.70it/s]\n",
      "100%|█████████████████████████████████████████| 200/200 [01:18<00:00,  2.56it/s]\n",
      "100%|█████████████████████████████████████████| 200/200 [01:15<00:00,  2.64it/s]\n",
      "100%|█████████████████████████████████████████| 200/200 [01:18<00:00,  2.55it/s]\n",
      "100%|█████████████████████████████████████████| 200/200 [01:09<00:00,  2.87it/s]\n"
     ]
    },
    {
     "name": "stdout",
     "output_type": "stream",
     "text": [
      "Epoch 3, loss=0.37\n"
     ]
    },
    {
     "name": "stderr",
     "output_type": "stream",
     "text": [
      "100%|█████████████████████████████████████████| 200/200 [01:18<00:00,  2.53it/s]\n",
      "100%|█████████████████████████████████████████| 200/200 [01:13<00:00,  2.71it/s]\n",
      "100%|█████████████████████████████████████████| 200/200 [01:18<00:00,  2.55it/s]\n",
      "100%|█████████████████████████████████████████| 200/200 [01:14<00:00,  2.69it/s]\n",
      "100%|█████████████████████████████████████████| 200/200 [01:18<00:00,  2.54it/s]\n",
      "100%|█████████████████████████████████████████| 200/200 [01:16<00:00,  2.60it/s]\n",
      "100%|█████████████████████████████████████████| 200/200 [00:56<00:00,  3.57it/s]\n",
      "100%|█████████████████████████████████████████| 200/200 [00:54<00:00,  3.69it/s]\n",
      "100%|█████████████████████████████████████████| 200/200 [00:56<00:00,  3.51it/s]\n",
      "100%|█████████████████████████████████████████| 200/200 [00:53<00:00,  3.71it/s]\n"
     ]
    },
    {
     "name": "stdout",
     "output_type": "stream",
     "text": [
      "Epoch 4, loss=0.36\n"
     ]
    },
    {
     "name": "stderr",
     "output_type": "stream",
     "text": [
      "100%|█████████████████████████████████████████| 200/200 [00:59<00:00,  3.34it/s]\n",
      "100%|█████████████████████████████████████████| 200/200 [00:47<00:00,  4.25it/s]\n",
      "100%|█████████████████████████████████████████| 200/200 [00:34<00:00,  5.86it/s]\n",
      "100%|█████████████████████████████████████████| 200/200 [00:33<00:00,  5.89it/s]\n",
      "100%|█████████████████████████████████████████| 200/200 [00:33<00:00,  5.89it/s]\n",
      "100%|█████████████████████████████████████████| 200/200 [00:33<00:00,  5.94it/s]\n",
      "100%|█████████████████████████████████████████| 200/200 [00:33<00:00,  5.96it/s]\n",
      "100%|█████████████████████████████████████████| 200/200 [00:33<00:00,  5.95it/s]\n",
      "100%|█████████████████████████████████████████| 200/200 [00:33<00:00,  5.97it/s]\n",
      "100%|█████████████████████████████████████████| 200/200 [00:33<00:00,  5.99it/s]\n"
     ]
    },
    {
     "name": "stdout",
     "output_type": "stream",
     "text": [
      "Epoch 5, loss=0.34\n"
     ]
    },
    {
     "name": "stderr",
     "output_type": "stream",
     "text": [
      "100%|█████████████████████████████████████████| 200/200 [00:33<00:00,  5.90it/s]\n",
      "100%|█████████████████████████████████████████| 200/200 [00:33<00:00,  5.95it/s]\n",
      "100%|█████████████████████████████████████████| 200/200 [00:33<00:00,  5.96it/s]\n",
      "100%|█████████████████████████████████████████| 200/200 [00:33<00:00,  5.93it/s]\n",
      "100%|█████████████████████████████████████████| 200/200 [00:33<00:00,  5.92it/s]\n",
      "100%|█████████████████████████████████████████| 200/200 [00:33<00:00,  5.98it/s]\n",
      "100%|█████████████████████████████████████████| 200/200 [00:33<00:00,  5.96it/s]\n",
      "100%|█████████████████████████████████████████| 200/200 [00:33<00:00,  5.94it/s]\n",
      "100%|█████████████████████████████████████████| 200/200 [00:33<00:00,  5.90it/s]\n",
      "100%|█████████████████████████████████████████| 200/200 [00:33<00:00,  5.94it/s]\n"
     ]
    },
    {
     "name": "stdout",
     "output_type": "stream",
     "text": [
      "Epoch 6, loss=0.33\n"
     ]
    },
    {
     "name": "stderr",
     "output_type": "stream",
     "text": [
      "100%|█████████████████████████████████████████| 200/200 [00:33<00:00,  5.94it/s]\n",
      "100%|█████████████████████████████████████████| 200/200 [00:33<00:00,  5.90it/s]\n",
      "100%|█████████████████████████████████████████| 200/200 [00:33<00:00,  5.90it/s]\n",
      "100%|█████████████████████████████████████████| 200/200 [00:33<00:00,  5.93it/s]\n",
      "100%|█████████████████████████████████████████| 200/200 [00:33<00:00,  5.93it/s]\n",
      "100%|█████████████████████████████████████████| 200/200 [00:33<00:00,  5.94it/s]\n",
      "100%|█████████████████████████████████████████| 200/200 [00:33<00:00,  5.91it/s]\n",
      "100%|█████████████████████████████████████████| 200/200 [00:34<00:00,  5.87it/s]\n",
      "100%|█████████████████████████████████████████| 200/200 [00:33<00:00,  5.91it/s]\n",
      "100%|█████████████████████████████████████████| 200/200 [00:34<00:00,  5.88it/s]\n"
     ]
    },
    {
     "name": "stdout",
     "output_type": "stream",
     "text": [
      "Epoch 7, loss=0.33\n"
     ]
    },
    {
     "name": "stderr",
     "output_type": "stream",
     "text": [
      "100%|█████████████████████████████████████████| 200/200 [00:33<00:00,  5.92it/s]\n",
      "100%|█████████████████████████████████████████| 200/200 [00:33<00:00,  5.93it/s]\n",
      "100%|█████████████████████████████████████████| 200/200 [00:33<00:00,  5.96it/s]\n",
      "100%|█████████████████████████████████████████| 200/200 [00:33<00:00,  5.90it/s]\n",
      "100%|█████████████████████████████████████████| 200/200 [00:34<00:00,  5.88it/s]\n",
      "100%|█████████████████████████████████████████| 200/200 [00:33<00:00,  5.96it/s]\n",
      "100%|█████████████████████████████████████████| 200/200 [00:33<00:00,  5.93it/s]\n",
      "100%|█████████████████████████████████████████| 200/200 [00:33<00:00,  5.95it/s]\n",
      "100%|█████████████████████████████████████████| 200/200 [00:33<00:00,  5.92it/s]\n",
      "100%|█████████████████████████████████████████| 200/200 [00:33<00:00,  5.95it/s]\n"
     ]
    },
    {
     "name": "stdout",
     "output_type": "stream",
     "text": [
      "Epoch 8, loss=0.32\n"
     ]
    },
    {
     "name": "stderr",
     "output_type": "stream",
     "text": [
      "100%|█████████████████████████████████████████| 200/200 [00:33<00:00,  5.96it/s]\n",
      "100%|█████████████████████████████████████████| 200/200 [00:33<00:00,  5.95it/s]\n",
      "100%|█████████████████████████████████████████| 200/200 [00:33<00:00,  5.90it/s]\n",
      "100%|█████████████████████████████████████████| 200/200 [00:33<00:00,  5.97it/s]\n",
      "100%|█████████████████████████████████████████| 200/200 [00:33<00:00,  5.95it/s]\n",
      "100%|█████████████████████████████████████████| 200/200 [00:33<00:00,  5.97it/s]\n",
      "100%|█████████████████████████████████████████| 200/200 [00:33<00:00,  5.92it/s]\n",
      "100%|█████████████████████████████████████████| 200/200 [00:33<00:00,  5.89it/s]\n",
      "100%|█████████████████████████████████████████| 200/200 [00:33<00:00,  5.93it/s]\n",
      "100%|█████████████████████████████████████████| 200/200 [00:33<00:00,  5.96it/s]"
     ]
    },
    {
     "name": "stdout",
     "output_type": "stream",
     "text": [
      "Epoch 9, loss=0.31\n"
     ]
    },
    {
     "name": "stderr",
     "output_type": "stream",
     "text": [
      "\n"
     ]
    }
   ],
   "source": [
    "max_events_train = 10000\n",
    "max_events_eval = 10000\n",
    "events_per_batch = 50\n",
    "nepochs = 10\n",
    "\n",
    "model = MLPF(input_dim=INPUT_DIM, num_classes=NUM_CLASSES).to(device=device)\n",
    "optimizer = torch.optim.Adam(lr=1e-4, params=model.parameters())\n",
    "\n",
    "#Training loop\n",
    "loss_vals_epochs = []\n",
    "for epoch in range(nepochs):\n",
    "    loss_vals_steps = []\n",
    "    inds_train = range(0,max_events_train,events_per_batch)\n",
    "    for _ in range(10):\n",
    "        for ind in tqdm.tqdm(inds_train):\n",
    "            optimizer.zero_grad()\n",
    "\n",
    "            ds_elems = [ds_train[i] for i in range(ind,ind+events_per_batch)]\n",
    "            X_features = [torch.tensor(elem[\"X\"]).to(torch.float32) for elem in ds_elems]\n",
    "            y_targets = [torch.tensor(elem[\"ygen\"]).to(torch.float32) for elem in ds_elems]\n",
    "\n",
    "            X_features_padded = pad_sequence(X_features, batch_first=True).to(device=device)\n",
    "            y_targets_padded = pad_sequence(y_targets, batch_first=True).to(device=device)\n",
    "            mask = X_features_padded[:, :, 0]!=0\n",
    "\n",
    "            #run the model\n",
    "            preds = model(X_features_padded, mask)\n",
    "            preds_unpacked = unpack_predictions(preds)\n",
    "            targets_unpacked = unpack_target(y_targets_padded)\n",
    "\n",
    "            #compute loss, update model weights\n",
    "            loss = mlpf_loss(targets_unpacked, preds_unpacked, mask)\n",
    "            loss[\"Total\"].backward()\n",
    "            optimizer.step()\n",
    "\n",
    "            loss_vals_steps.append(loss[\"Total\"].detach().cpu().item())\n",
    "\n",
    "    loss_vals_epochs.append(np.mean(loss_vals_steps))\n",
    "    print(\"Epoch {}, loss={:.2f}\".format(epoch, loss_vals_epochs[-1]))"
   ]
  },
  {
   "cell_type": "code",
   "execution_count": 44,
   "id": "879c2695",
   "metadata": {},
   "outputs": [
    {
     "data": {
      "text/plain": [
       "50"
      ]
     },
     "execution_count": 44,
     "metadata": {},
     "output_type": "execute_result"
    }
   ],
   "source": [
    "len(X_features)"
   ]
  },
  {
   "cell_type": "code",
   "execution_count": 45,
   "id": "fd8787e9",
   "metadata": {},
   "outputs": [],
   "source": [
    "# plt.plot(losses)\n",
    "# plt.xlabel('Iteration')\n",
    "# plt.ylabel('Loss')\n",
    "# plt.title('Training Loss Curve')\n",
    "# plt.show()"
   ]
  },
  {
   "cell_type": "code",
   "execution_count": 46,
   "id": "0b437405-87f1-409e-9ab9-ff79af3e1cd6",
   "metadata": {},
   "outputs": [
    {
     "data": {
      "text/plain": [
       "[<matplotlib.lines.Line2D at 0x7f308b2328e0>]"
      ]
     },
     "execution_count": 46,
     "metadata": {},
     "output_type": "execute_result"
    },
    {
     "data": {
      "image/png": "[encoded data removed]",
      "text/plain": [
       "<Figure size 432x288 with 1 Axes>"
      ]
     },
     "metadata": {
      "needs_background": "light"
     },
     "output_type": "display_data"
    }
   ],
   "source": [
    "plt.plot(loss_vals_epochs, label=\"training loss\")\n"
   ]
  },
  {
   "cell_type": "markdown",
   "id": "00d11c05-a019-46b1-aff6-07d9e6565c5c",
   "metadata": {},
   "source": [
    "## Evaluation"
   ]
  },
  {
   "cell_type": "code",
   "execution_count": 47,
   "id": "4149d6a4",
   "metadata": {},
   "outputs": [
    {
     "ename": "KeyboardInterrupt",
     "evalue": "",
     "output_type": "error",
     "traceback": [
      "\u001b[0;31m---------------------------------------------------------------------------\u001b[0m",
      "\u001b[0;31mKeyboardInterrupt\u001b[0m                         Traceback (most recent call last)",
      "\u001b[0;32m/tmp/sraj/ipykernel_400022/917820931.py\u001b[0m in \u001b[0;36m<module>\u001b[0;34m\u001b[0m\n\u001b[1;32m      5\u001b[0m \u001b[0mall_targets\u001b[0m \u001b[0;34m=\u001b[0m \u001b[0;34m[\u001b[0m\u001b[0;34m]\u001b[0m\u001b[0;34m\u001b[0m\u001b[0;34m\u001b[0m\u001b[0m\n\u001b[1;32m      6\u001b[0m \u001b[0;34m\u001b[0m\u001b[0m\n\u001b[0;32m----> 7\u001b[0;31m \u001b[0mds_elems\u001b[0m \u001b[0;34m=\u001b[0m \u001b[0;34m[\u001b[0m\u001b[0mds_train\u001b[0m\u001b[0;34m[\u001b[0m\u001b[0mi\u001b[0m\u001b[0;34m]\u001b[0m \u001b[0;32mfor\u001b[0m \u001b[0mi\u001b[0m \u001b[0;32min\u001b[0m \u001b[0mrange\u001b[0m\u001b[0;34m(\u001b[0m\u001b[0mmax_events_train\u001b[0m\u001b[0;34m,\u001b[0m \u001b[0mmax_events_train\u001b[0m \u001b[0;34m+\u001b[0m \u001b[0mmax_events_eval\u001b[0m\u001b[0;34m)\u001b[0m\u001b[0;34m]\u001b[0m\u001b[0;34m\u001b[0m\u001b[0;34m\u001b[0m\u001b[0m\n\u001b[0m\u001b[1;32m      8\u001b[0m \u001b[0;34m\u001b[0m\u001b[0m\n\u001b[1;32m      9\u001b[0m \u001b[0;31m# Define batch size\u001b[0m\u001b[0;34m\u001b[0m\u001b[0;34m\u001b[0m\u001b[0m\n",
      "\u001b[0;32m/tmp/sraj/ipykernel_400022/917820931.py\u001b[0m in \u001b[0;36m<listcomp>\u001b[0;34m(.0)\u001b[0m\n\u001b[1;32m      5\u001b[0m \u001b[0mall_targets\u001b[0m \u001b[0;34m=\u001b[0m \u001b[0;34m[\u001b[0m\u001b[0;34m]\u001b[0m\u001b[0;34m\u001b[0m\u001b[0;34m\u001b[0m\u001b[0m\n\u001b[1;32m      6\u001b[0m \u001b[0;34m\u001b[0m\u001b[0m\n\u001b[0;32m----> 7\u001b[0;31m \u001b[0mds_elems\u001b[0m \u001b[0;34m=\u001b[0m \u001b[0;34m[\u001b[0m\u001b[0mds_train\u001b[0m\u001b[0;34m[\u001b[0m\u001b[0mi\u001b[0m\u001b[0;34m]\u001b[0m \u001b[0;32mfor\u001b[0m \u001b[0mi\u001b[0m \u001b[0;32min\u001b[0m \u001b[0mrange\u001b[0m\u001b[0;34m(\u001b[0m\u001b[0mmax_events_train\u001b[0m\u001b[0;34m,\u001b[0m \u001b[0mmax_events_train\u001b[0m \u001b[0;34m+\u001b[0m \u001b[0mmax_events_eval\u001b[0m\u001b[0;34m)\u001b[0m\u001b[0;34m]\u001b[0m\u001b[0;34m\u001b[0m\u001b[0;34m\u001b[0m\u001b[0m\n\u001b[0m\u001b[1;32m      8\u001b[0m \u001b[0;34m\u001b[0m\u001b[0m\n\u001b[1;32m      9\u001b[0m \u001b[0;31m# Define batch size\u001b[0m\u001b[0;34m\u001b[0m\u001b[0;34m\u001b[0m\u001b[0m\n",
      "\u001b[0;32m~/.local/lib/python3.9/site-packages/tensorflow_datasets/core/data_sources/array_record.py\u001b[0m in \u001b[0;36m__getitem__\u001b[0;34m(self, record_key)\u001b[0m\n\u001b[1;32m     93\u001b[0m       \u001b[0;32mreturn\u001b[0m \u001b[0mself\u001b[0m\u001b[0;34m.\u001b[0m\u001b[0m__getitems__\u001b[0m\u001b[0;34m(\u001b[0m\u001b[0mrecord_key\u001b[0m\u001b[0;34m)\u001b[0m\u001b[0;34m\u001b[0m\u001b[0;34m\u001b[0m\u001b[0m\n\u001b[1;32m     94\u001b[0m     \u001b[0mrecord\u001b[0m \u001b[0;34m=\u001b[0m \u001b[0mself\u001b[0m\u001b[0;34m.\u001b[0m\u001b[0mdata_source\u001b[0m\u001b[0;34m[\u001b[0m\u001b[0mrecord_key\u001b[0m\u001b[0;34m]\u001b[0m\u001b[0;34m\u001b[0m\u001b[0;34m\u001b[0m\u001b[0m\n\u001b[0;32m---> 95\u001b[0;31m     return self.dataset_info.features.deserialize_example_np(\n\u001b[0m\u001b[1;32m     96\u001b[0m         \u001b[0mrecord\u001b[0m\u001b[0;34m,\u001b[0m \u001b[0mdecoders\u001b[0m\u001b[0;34m=\u001b[0m\u001b[0mself\u001b[0m\u001b[0;34m.\u001b[0m\u001b[0mdecoders\u001b[0m\u001b[0;34m\u001b[0m\u001b[0;34m\u001b[0m\u001b[0m\n\u001b[1;32m     97\u001b[0m     )\n",
      "\u001b[0;32m~/.local/lib/python3.9/site-packages/tensorflow_datasets/core/features/top_level_feature.py\u001b[0m in \u001b[0;36mdeserialize_example_np\u001b[0;34m(self, serialized_example, decoders)\u001b[0m\n\u001b[1;32m    156\u001b[0m       \u001b[0mdecoders\u001b[0m\u001b[0;34m=\u001b[0m\u001b[0;32mNone\u001b[0m\u001b[0;34m,\u001b[0m\u001b[0;34m\u001b[0m\u001b[0;34m\u001b[0m\u001b[0m\n\u001b[1;32m    157\u001b[0m   ) -> utils.NpArrayOrScalarDict:\n\u001b[0;32m--> 158\u001b[0;31m     \u001b[0mexample_data\u001b[0m \u001b[0;34m=\u001b[0m \u001b[0mself\u001b[0m\u001b[0;34m.\u001b[0m\u001b[0m_example_parser_np\u001b[0m\u001b[0;34m.\u001b[0m\u001b[0mparse_example\u001b[0m\u001b[0;34m(\u001b[0m\u001b[0mserialized_example\u001b[0m\u001b[0;34m)\u001b[0m\u001b[0;34m\u001b[0m\u001b[0;34m\u001b[0m\u001b[0m\n\u001b[0m\u001b[1;32m    159\u001b[0m     \u001b[0;32mreturn\u001b[0m \u001b[0mself\u001b[0m\u001b[0;34m.\u001b[0m\u001b[0mdecode_example_np\u001b[0m\u001b[0;34m(\u001b[0m\u001b[0mexample_data\u001b[0m\u001b[0;34m,\u001b[0m \u001b[0mdecoders\u001b[0m\u001b[0;34m=\u001b[0m\u001b[0mdecoders\u001b[0m\u001b[0;34m)\u001b[0m\u001b[0;34m\u001b[0m\u001b[0;34m\u001b[0m\u001b[0m\n\u001b[1;32m    160\u001b[0m \u001b[0;34m\u001b[0m\u001b[0m\n",
      "\u001b[0;32m~/.local/lib/python3.9/site-packages/tensorflow_datasets/core/example_parser.py\u001b[0m in \u001b[0;36mparse_example\u001b[0;34m(self, serialized_example)\u001b[0m\n\u001b[1;32m    109\u001b[0m   ) -> type_utils.NpArrayOrScalarDict:\n\u001b[1;32m    110\u001b[0m     \u001b[0mexample\u001b[0m \u001b[0;34m=\u001b[0m \u001b[0mtf_example_pb2\u001b[0m\u001b[0;34m.\u001b[0m\u001b[0mExample\u001b[0m\u001b[0;34m.\u001b[0m\u001b[0mFromString\u001b[0m\u001b[0;34m(\u001b[0m\u001b[0mserialized_example\u001b[0m\u001b[0;34m)\u001b[0m\u001b[0;34m\u001b[0m\u001b[0;34m\u001b[0m\u001b[0m\n\u001b[0;32m--> 111\u001b[0;31m     \u001b[0mnp_example\u001b[0m \u001b[0;34m=\u001b[0m \u001b[0m_features_to_numpy\u001b[0m\u001b[0;34m(\u001b[0m\u001b[0mexample\u001b[0m\u001b[0;34m.\u001b[0m\u001b[0mfeatures\u001b[0m\u001b[0;34m,\u001b[0m \u001b[0mself\u001b[0m\u001b[0;34m.\u001b[0m\u001b[0m_flat_example_specs\u001b[0m\u001b[0;34m)\u001b[0m\u001b[0;34m\u001b[0m\u001b[0;34m\u001b[0m\u001b[0m\n\u001b[0m\u001b[1;32m    112\u001b[0m     \u001b[0;32mreturn\u001b[0m \u001b[0mutils\u001b[0m\u001b[0;34m.\u001b[0m\u001b[0mpack_as_nest_dict\u001b[0m\u001b[0;34m(\u001b[0m\u001b[0mnp_example\u001b[0m\u001b[0;34m,\u001b[0m \u001b[0mself\u001b[0m\u001b[0;34m.\u001b[0m\u001b[0mexample_specs\u001b[0m\u001b[0;34m)\u001b[0m\u001b[0;34m\u001b[0m\u001b[0;34m\u001b[0m\u001b[0m\n\u001b[1;32m    113\u001b[0m \u001b[0;34m\u001b[0m\u001b[0m\n",
      "\u001b[0;32m~/.local/lib/python3.9/site-packages/tensorflow_datasets/core/example_parser.py\u001b[0m in \u001b[0;36m_features_to_numpy\u001b[0;34m(features, flat_example_specs)\u001b[0m\n\u001b[1;32m    138\u001b[0m       )\n\u001b[1;32m    139\u001b[0m     \u001b[0;32mwith\u001b[0m \u001b[0mutils\u001b[0m\u001b[0;34m.\u001b[0m\u001b[0mtry_reraise\u001b[0m\u001b[0;34m(\u001b[0m\u001b[0;34mf\"Error wile parsing feature {key}: \"\u001b[0m\u001b[0;34m)\u001b[0m\u001b[0;34m:\u001b[0m\u001b[0;34m\u001b[0m\u001b[0;34m\u001b[0m\u001b[0m\n\u001b[0;32m--> 140\u001b[0;31m       parsed_example[key] = _feature_to_numpy(\n\u001b[0m\u001b[1;32m    141\u001b[0m           \u001b[0mfeature_map\u001b[0m\u001b[0;34m[\u001b[0m\u001b[0mkey\u001b[0m\u001b[0;34m]\u001b[0m\u001b[0;34m,\u001b[0m \u001b[0mflat_example_specs\u001b[0m\u001b[0;34m[\u001b[0m\u001b[0mkey\u001b[0m\u001b[0;34m]\u001b[0m\u001b[0;34m,\u001b[0m \u001b[0mkey\u001b[0m\u001b[0;34m\u001b[0m\u001b[0;34m\u001b[0m\u001b[0m\n\u001b[1;32m    142\u001b[0m       )\n",
      "\u001b[0;32m~/.local/lib/python3.9/site-packages/tensorflow_datasets/core/example_parser.py\u001b[0m in \u001b[0;36m_feature_to_numpy\u001b[0;34m(feature, tensor_info, feature_name)\u001b[0m\n\u001b[1;32m    173\u001b[0m   \u001b[0;32melse\u001b[0m\u001b[0;34m:\u001b[0m\u001b[0;34m\u001b[0m\u001b[0;34m\u001b[0m\u001b[0m\n\u001b[1;32m    174\u001b[0m     \u001b[0;32mraise\u001b[0m \u001b[0mAttributeError\u001b[0m\u001b[0;34m(\u001b[0m\u001b[0;34mf\"cannot convert '{feature_name}' from proto to NumPy\"\u001b[0m\u001b[0;34m)\u001b[0m\u001b[0;34m\u001b[0m\u001b[0;34m\u001b[0m\u001b[0m\n\u001b[0;32m--> 175\u001b[0;31m   \u001b[0mvalue_array\u001b[0m \u001b[0;34m=\u001b[0m \u001b[0mnp\u001b[0m\u001b[0;34m.\u001b[0m\u001b[0marray\u001b[0m\u001b[0;34m(\u001b[0m\u001b[0mvalue_array\u001b[0m\u001b[0;34m,\u001b[0m \u001b[0mdtype\u001b[0m\u001b[0;34m=\u001b[0m\u001b[0mdtype\u001b[0m\u001b[0;34m)\u001b[0m\u001b[0;34m\u001b[0m\u001b[0;34m\u001b[0m\u001b[0m\n\u001b[0m\u001b[1;32m    176\u001b[0m   \u001b[0;32mif\u001b[0m \u001b[0;32mnot\u001b[0m \u001b[0mshape\u001b[0m\u001b[0;34m:\u001b[0m\u001b[0;34m\u001b[0m\u001b[0;34m\u001b[0m\u001b[0m\n\u001b[1;32m    177\u001b[0m     \u001b[0;32mreturn\u001b[0m \u001b[0mvalue_array\u001b[0m\u001b[0;34m.\u001b[0m\u001b[0mitem\u001b[0m\u001b[0;34m(\u001b[0m\u001b[0;34m)\u001b[0m\u001b[0;34m\u001b[0m\u001b[0;34m\u001b[0m\u001b[0m\n",
      "\u001b[0;31mKeyboardInterrupt\u001b[0m: "
     ]
    }
   ],
   "source": [
    "#put the model back on CPU\n",
    "model = model.to(device=\"cpu\")\n",
    "\n",
    "all_preds = []\n",
    "all_targets = []\n",
    "\n",
    "ds_elems = [ds_train[i] for i in range(max_events_train, max_events_train + max_events_eval)]\n",
    "\n",
    "# Define batch size\n",
    "batch_size = 32  \n",
    "for i in range(0, len(ds_elems), batch_size):\n",
    "    batch_elems = ds_elems[i:i + batch_size]\n",
    "\n",
    "    # input features\n",
    "    X_features = [torch.tensor(elem[\"X\"]).to(torch.float32) for elem in batch_elems]\n",
    "    X_features_padded = pad_sequence(X_features, batch_first=True)\n",
    "\n",
    "    #  target labels\n",
    "    y_targets = [torch.tensor(elem[\"ygen\"]).to(torch.float32) for elem in batch_elems]\n",
    "    y_targets_padded = pad_sequence(y_targets, batch_first=True)\n",
    "\n",
    "    #  mask for the batch\n",
    "    mask = X_features_padded[:, :, 0] != 0\n",
    "\n",
    "    #  model prediction, loss computation\n",
    "    preds = model(X_features_padded, mask)\n",
    "    preds = preds[0].detach(), preds[1].detach()\n",
    "\n",
    "    # Update mask for the batch\n",
    "    mask = X_features_padded[:, :, 0] != 0\n",
    "\n",
    "    # Unpack predictions and targets for the batch\n",
    "    preds_unpacked = unpack_predictions(preds)\n",
    "    targets_unpacked = unpack_target(y_targets_padded)\n",
    "    \n",
    "    # append to a list \n",
    "    all_preds.append(preds_unpacked)\n",
    "    all_targets.append(targets_unpacked)\n",
    "    \n",
    "    \n",
    "\n",
    "    # Compute loss for the batch\n",
    "    loss = mlpf_loss(targets_unpacked, preds_unpacked, mask)\n",
    "\n",
    " "
   ]
  },
  {
   "cell_type": "code",
   "execution_count": 48,
   "id": "03029dbe",
   "metadata": {},
   "outputs": [],
   "source": [
    "# Put the model back on CPU\n",
    "model = model.to(device=\"cpu\")\n",
    "\n",
    "all_preds = []\n",
    "all_targets = []\n",
    "\n",
    "ds_elems = [ds_train[i] for i in range(max_events_train, max_events_train + max_events_eval)]\n",
    "\n",
    "# Define batch size\n",
    "batch_size = 32  \n",
    "# Evaluate for 10 batches\n",
    "for _ in range(10):\n",
    "    for i in range(0, len(ds_elems), batch_size):\n",
    "        batch_elems = ds_elems[i:i + batch_size]\n",
    "\n",
    "        # Input features\n",
    "        X_features = [torch.tensor(elem[\"X\"]).to(torch.float32) for elem in batch_elems]\n",
    "        X_features_padded = pad_sequence(X_features, batch_first=True)\n",
    "\n",
    "        # Target labels\n",
    "        y_targets = [torch.tensor(elem[\"ygen\"]).to(torch.float32) for elem in batch_elems]\n",
    "        y_targets_padded = pad_sequence(y_targets, batch_first=True)\n",
    "\n",
    "        # Mask for the batch\n",
    "        mask = X_features_padded[:, :, 0] != 0\n",
    "\n",
    "        # Model prediction\n",
    "        preds = model(X_features_padded, mask)\n",
    "        preds = preds[0].detach(), preds[1].detach()\n",
    "\n",
    "        # Unpack predictions and targets for the batch\n",
    "        preds_unpacked = unpack_predictions(preds)\n",
    "        targets_unpacked = unpack_target(y_targets_padded)\n",
    "        \n",
    "        # Append to a list \n",
    "        all_preds.append(preds_unpacked)\n",
    "        all_targets.append(targets_unpacked)\n",
    "\n",
    "        # Compute loss for the batch\n",
    "        loss = mlpf_loss(targets_unpacked, preds_unpacked, mask)\n"
   ]
  },
  {
   "cell_type": "code",
   "execution_count": 49,
   "id": "7ab70010",
   "metadata": {},
   "outputs": [
    {
     "data": {
      "text/plain": [
       "{'Classification': tensor(0.2430),\n",
       " 'Regression': tensor(0.0828),\n",
       " 'MET': tensor(3.2700),\n",
       " 'Total': tensor(0.3258)}"
      ]
     },
     "execution_count": 49,
     "metadata": {},
     "output_type": "execute_result"
    }
   ],
   "source": [
    "loss"
   ]
  },
  {
   "cell_type": "code",
   "execution_count": 21,
   "id": "fb31372b",
   "metadata": {},
   "outputs": [],
   "source": [
    "pt = [data['pt'] for data in all_preds]\n",
    "# pt"
   ]
  },
  {
   "cell_type": "code",
   "execution_count": 22,
   "id": "508ad615-a40e-49b5-a159-34fb564053dd",
   "metadata": {},
   "outputs": [],
   "source": [
    "# ds_elems = [ds_train[i] for i in range(max_events_train,max_events_train+max_events_eval)]\n",
    "# X_features = [torch.tensor(elem[\"X\"]).to(torch.float32) for elem in ds_elems]\n",
    "# X_features_padded = pad_sequence(X_features, batch_first=True)\n",
    "# y_targets = [torch.tensor(elem[\"ygen\"]).to(torch.float32) for elem in ds_elems]\n",
    "# y_targets_padded = pad_sequence(y_targets, batch_first=True)\n",
    "# mask = X_features_padded[:, :, 0]!=0"
   ]
  },
  {
   "cell_type": "code",
   "execution_count": 23,
   "id": "f61b28d5-29d0-4b5d-9468-9a385b814faf",
   "metadata": {},
   "outputs": [],
   "source": [
    "# preds = model(X_features_padded, mask)\n",
    "# preds = preds[0].detach(), preds[1].detach()\n",
    "# mask = X_features_padded[:, :, 0:1] != 0\n",
    "# preds_unpacked = unpack_predictions(preds)\n",
    "# targets_unpacked = unpack_target(y_targets_padded)\n",
    "\n",
    "# loss = mlpf_loss(targets_unpacked, preds_unpacked, mask)"
   ]
  },
  {
   "cell_type": "code",
   "execution_count": 24,
   "id": "4e93a0dd-77cb-4325-9fc1-b9da22b2b508",
   "metadata": {},
   "outputs": [],
   "source": [
    "msk_true_particles = targets_unpacked[\"cls_id\"]!=0\n",
    "\n",
    "pt_target = targets_unpacked[\"pt\"][msk_true_particles].numpy()\n",
    "pt_pred = preds_unpacked[\"pt\"][msk_true_particles].numpy()\n",
    "\n",
    "eta_target = targets_unpacked[\"eta\"][msk_true_particles].numpy()\n",
    "eta_pred = preds_unpacked[\"eta\"][msk_true_particles].numpy()\n",
    "\n",
    "sphi_target = targets_unpacked[\"sin_phi\"][msk_true_particles].numpy()\n",
    "sphi_pred = preds_unpacked[\"sin_phi\"][msk_true_particles].numpy()\n",
    "\n",
    "cphi_target = targets_unpacked[\"cos_phi\"][msk_true_particles].numpy()\n",
    "cphi_pred = preds_unpacked[\"cos_phi\"][msk_true_particles].numpy()\n",
    "\n",
    "energy_target = targets_unpacked[\"energy\"][msk_true_particles].numpy()\n",
    "energy_pred = preds_unpacked[\"energy\"][msk_true_particles].numpy()\n",
    "\n",
    "px = preds_unpacked[\"pt\"] * preds_unpacked[\"cos_phi\"] * msk_true_particles\n",
    "py = preds_unpacked[\"pt\"] * preds_unpacked[\"sin_phi\"] * msk_true_particles\n",
    "pred_met = torch.sqrt(torch.sum(px, axis=-2) ** 2 + torch.sum(py, axis=-2) ** 2)\n",
    "\n",
    "px = targets_unpacked[\"pt\"] * targets_unpacked[\"cos_phi\"] * msk_true_particles\n",
    "py = targets_unpacked[\"pt\"] * targets_unpacked[\"sin_phi\"] * msk_true_particles\n",
    "true_met = torch.sqrt(torch.sum(px, axis=-2) ** 2 + torch.sum(py, axis=-2) ** 2)"
   ]
  },
  {
   "cell_type": "code",
   "execution_count": 62,
   "id": "d029f34c",
   "metadata": {},
   "outputs": [
    {
     "name": "stderr",
     "output_type": "stream",
     "text": [
      "/tmp/sraj/ipykernel_400022/757337058.py:66: FutureWarning: The input object of type 'Tensor' is an array-like implementing one of the corresponding protocols (`__array__`, `__array_interface__` or `__array_struct__`); but not a sequence (or 0-D). In the future, this object will be coerced as if it was first converted using `np.array(obj)`. To retain the old behaviour, you have to either modify the type 'Tensor', or assign to an empty array created with `np.empty(correct_shape, dtype=object)`.\n",
      "  msk_true_particles = np.array(msk_true_particles)\n",
      "/tmp/sraj/ipykernel_400022/757337058.py:66: VisibleDeprecationWarning: Creating an ndarray from ragged nested sequences (which is a list-or-tuple of lists-or-tuples-or ndarrays with different lengths or shapes) is deprecated. If you meant to do this, you must specify 'dtype=object' when creating the ndarray.\n",
      "  msk_true_particles = np.array(msk_true_particles)\n"
     ]
    }
   ],
   "source": [
    "# Initialize lists to store data for true particles\n",
    "msk_true_particles = []\n",
    "pt_target = []\n",
    "pt_pred = []\n",
    "eta_target = []\n",
    "eta_pred = []\n",
    "sphi_target = []\n",
    "sphi_pred = []\n",
    "cphi_target = []\n",
    "cphi_pred = []\n",
    "energy_target = []\n",
    "energy_pred = []\n",
    "pred_met_values = []\n",
    "true_met_values = []\n",
    "\n",
    "# Loop over all batches\n",
    "for i in range(len(all_targets)):\n",
    "    targets_unpacked = all_targets[i]\n",
    "    preds_unpacked = all_preds[i]\n",
    "\n",
    "    # Compute mask for true particles\n",
    "    msk_true_particles_batch = targets_unpacked[\"cls_id\"] != 0\n",
    "    msk_true_particles.extend(msk_true_particles_batch)\n",
    "\n",
    "    # Extract data for true particles\n",
    "    pt_target.extend(targets_unpacked[\"pt\"][msk_true_particles_batch].numpy())\n",
    "    pt_pred.extend(preds_unpacked[\"pt\"][msk_true_particles_batch].numpy())\n",
    "    eta_target.extend(targets_unpacked[\"eta\"][msk_true_particles_batch].numpy())\n",
    "    eta_pred.extend(preds_unpacked[\"eta\"][msk_true_particles_batch].numpy())\n",
    "    sphi_target.extend(targets_unpacked[\"sin_phi\"][msk_true_particles_batch].numpy())\n",
    "    sphi_pred.extend(preds_unpacked[\"sin_phi\"][msk_true_particles_batch].numpy())\n",
    "    cphi_target.extend(targets_unpacked[\"cos_phi\"][msk_true_particles_batch].numpy())\n",
    "    cphi_pred.extend(preds_unpacked[\"cos_phi\"][msk_true_particles_batch].numpy())\n",
    "    energy_target.extend(targets_unpacked[\"energy\"][msk_true_particles_batch].numpy())\n",
    "    energy_pred.extend(preds_unpacked[\"energy\"][msk_true_particles_batch].numpy())\n",
    "\n",
    "    # Compute px and py for pred_met\n",
    "    px_pred = preds_unpacked[\"pt\"] * torch.cos(preds_unpacked[\"cos_phi\"]) * msk_true_particles_batch\n",
    "    py_pred = preds_unpacked[\"pt\"] * torch.sin(preds_unpacked[\"sin_phi\"]) * msk_true_particles_batch\n",
    "\n",
    "    # Convert px_pred and py_pred to numpy arrays\n",
    "    px_pred = px_pred.cpu().numpy()\n",
    "    py_pred = py_pred.cpu().numpy()\n",
    "\n",
    "    # Compute pred_met\n",
    "    pred_met = np.sqrt(np.sum(px_pred ** 2 + py_pred ** 2, axis=-1))\n",
    "\n",
    "    # Append the computed pred_met to the list\n",
    "    pred_met_values.append(pred_met)\n",
    "\n",
    "    # Compute px and py for true_met\n",
    "    px_target = targets_unpacked[\"pt\"] * np.cos(targets_unpacked[\"cos_phi\"]) * msk_true_particles_batch\n",
    "    py_target = targets_unpacked[\"pt\"] * np.sin(targets_unpacked[\"sin_phi\"]) * msk_true_particles_batch\n",
    "\n",
    "    # Convert px_target and py_target to numpy arrays\n",
    "    px_target = px_target.cpu().numpy()\n",
    "    py_target = py_target.cpu().numpy()\n",
    "\n",
    "    # Compute true_met\n",
    "    true_met = np.sqrt(np.sum(px_target ** 2 + py_target ** 2, axis=-1))\n",
    "\n",
    "    # Append the computed true_met to the list\n",
    "    true_met_values.append(true_met)\n",
    "\n",
    "# Convert lists to numpy arrays\n",
    "msk_true_particles = np.array(msk_true_particles)\n",
    "pt_target = np.array(pt_target)\n",
    "pt_pred = np.array(pt_pred)\n",
    "eta_target = np.array(eta_target)\n",
    "eta_pred = np.array(eta_pred)\n",
    "sphi_target = np.array(sphi_target)\n",
    "sphi_pred = np.array(sphi_pred)\n",
    "cphi_target = np.array(cphi_target)\n",
    "cphi_pred = np.array(cphi_pred)\n",
    "energy_target = np.array(energy_target)\n",
    "energy_pred = np.array(energy_pred)\n",
    "\n",
    "# Concatenate the list of pred_met values to form a single array\n",
    "pred_met = np.concatenate(pred_met_values)\n",
    "\n",
    "# Concatenate the list of true_met values to form a single array\n",
    "true_met = np.concatenate(true_met_values)\n"
   ]
  },
  {
   "cell_type": "code",
   "execution_count": 64,
   "id": "e436b24a",
   "metadata": {
    "scrolled": true
   },
   "outputs": [
    {
     "data": {
      "text/plain": [
       "(100000,)"
      ]
     },
     "execution_count": 64,
     "metadata": {},
     "output_type": "execute_result"
    }
   ],
   "source": [
    "pred_met.shape"
   ]
  },
  {
   "cell_type": "code",
   "execution_count": 65,
   "id": "864ee0fb-257d-48fc-8c52-d07cb6895395",
   "metadata": {},
   "outputs": [
    {
     "data": {
      "text/plain": [
       "Text(0, 0.5, 'pred MET')"
      ]
     },
     "execution_count": 65,
     "metadata": {},
     "output_type": "execute_result"
    },
    {
     "data": {
      "image/png": "[encoded data removed]",
      "text/plain": [
       "<Figure size 432x288 with 1 Axes>"
      ]
     },
     "metadata": {
      "needs_background": "light"
     },
     "output_type": "display_data"
    }
   ],
   "source": [
    "plt.scatter(true_met, pred_met, marker=\".\")\n",
    "plt.xlabel(\"true MET\")\n",
    "plt.ylabel(\"pred MET\")"
   ]
  },
  {
   "cell_type": "code",
   "execution_count": 31,
   "id": "00ca5eaa-86b6-410a-bd72-3a69134d9e1a",
   "metadata": {},
   "outputs": [
    {
     "data": {
      "image/png": "[encoded data removed]",
      "text/plain": [
       "<Figure size 432x288 with 1 Axes>"
      ]
     },
     "metadata": {
      "needs_background": "light"
     },
     "output_type": "display_data"
    }
   ],
   "source": [
    "plt.hist(pred_met/true_met, bins=np.linspace(0,20,100));"
   ]
  },
  {
   "cell_type": "code",
   "execution_count": 32,
   "id": "5b100969-4eb0-4eff-ae28-4d4f17a559f4",
   "metadata": {},
   "outputs": [
    {
     "data": {
      "text/plain": [
       "Text(0, 0.5, 'pred pt')"
      ]
     },
     "execution_count": 32,
     "metadata": {},
     "output_type": "execute_result"
    },
    {
     "data": {
      "image/png": "[encoded data removed]",
      "text/plain": [
       "<Figure size 432x288 with 1 Axes>"
      ]
     },
     "metadata": {
      "needs_background": "light"
     },
     "output_type": "display_data"
    }
   ],
   "source": [
    "b = np.logspace(-1,2,100)\n",
    "plt.hist2d(\n",
    "    pt_target,\n",
    "    pt_pred,\n",
    "    bins=(b,b)\n",
    ")\n",
    "plt.xscale(\"log\")\n",
    "plt.yscale(\"log\")\n",
    "plt.xlabel(\"true pt\")\n",
    "plt.ylabel(\"pred pt\")"
   ]
  },
  {
   "cell_type": "code",
   "execution_count": 33,
   "id": "8d5ef494-527e-447b-9023-79b1a1245909",
   "metadata": {},
   "outputs": [
    {
     "data": {
      "text/plain": [
       "Text(0, 0.5, 'pred eta')"
      ]
     },
     "execution_count": 33,
     "metadata": {},
     "output_type": "execute_result"
    },
    {
     "data": {
      "image/png": "[encoded data removed]",
      "text/plain": [
       "<Figure size 432x288 with 1 Axes>"
      ]
     },
     "metadata": {
      "needs_background": "light"
     },
     "output_type": "display_data"
    }
   ],
   "source": [
    "b = np.linspace(-4,4,100)\n",
    "plt.hist2d(\n",
    "    eta_target,\n",
    "    eta_pred,\n",
    "    bins=(b,b)\n",
    ")\n",
    "plt.xlabel(\"true eta\")\n",
    "plt.ylabel(\"pred eta\")"
   ]
  },
  {
   "cell_type": "code",
   "execution_count": 34,
   "id": "460019b7-9971-4556-a644-342cc29a94a3",
   "metadata": {},
   "outputs": [
    {
     "data": {
      "text/plain": [
       "Text(0, 0.5, 'pred sphi')"
      ]
     },
     "execution_count": 34,
     "metadata": {},
     "output_type": "execute_result"
    },
    {
     "data": {
      "image/png": "[encoded data removed]",
      "text/plain": [
       "<Figure size 432x288 with 1 Axes>"
      ]
     },
     "metadata": {
      "needs_background": "light"
     },
     "output_type": "display_data"
    }
   ],
   "source": [
    "b = np.linspace(-1,1,100)\n",
    "plt.hist2d(\n",
    "    sphi_target,\n",
    "    sphi_pred,\n",
    "    bins=(b,b)\n",
    ")\n",
    "plt.xlabel(\"true sphi\")\n",
    "plt.ylabel(\"pred sphi\")"
   ]
  },
  {
   "cell_type": "code",
   "execution_count": 35,
   "id": "f4be3453-73ad-49ea-b50f-d1e8286c067e",
   "metadata": {},
   "outputs": [
    {
     "data": {
      "text/plain": [
       "Text(0, 0.5, 'pred cphi')"
      ]
     },
     "execution_count": 35,
     "metadata": {},
     "output_type": "execute_result"
    },
    {
     "data": {
      "image/png": "[encoded data removed]",
      "text/plain": [
       "<Figure size 432x288 with 1 Axes>"
      ]
     },
     "metadata": {
      "needs_background": "light"
     },
     "output_type": "display_data"
    }
   ],
   "source": [
    "b = np.linspace(-1,1,100)\n",
    "plt.hist2d(\n",
    "    cphi_target,\n",
    "    cphi_pred,\n",
    "    bins=(b,b)\n",
    ")\n",
    "plt.xlabel(\"true cphi\")\n",
    "plt.ylabel(\"pred cphi\")"
   ]
  },
  {
   "cell_type": "code",
   "execution_count": 36,
   "id": "04008e59-081c-41e7-93db-79ac0bd9da7b",
   "metadata": {},
   "outputs": [
    {
     "data": {
      "text/plain": [
       "Text(0, 0.5, 'pred energy')"
      ]
     },
     "execution_count": 36,
     "metadata": {},
     "output_type": "execute_result"
    },
    {
     "data": {
      "image/png": "[encoded data removed]",
      "text/plain": [
       "<Figure size 432x288 with 1 Axes>"
      ]
     },
     "metadata": {
      "needs_background": "light"
     },
     "output_type": "display_data"
    }
   ],
   "source": [
    "b = np.logspace(-1,2,100)\n",
    "plt.hist2d(\n",
    "    energy_target,\n",
    "    energy_pred,\n",
    "    bins=(b,b)\n",
    ")\n",
    "plt.xscale(\"log\")\n",
    "plt.yscale(\"log\")\n",
    "plt.xlabel(\"true energy\")\n",
    "plt.ylabel(\"pred energy\")"
   ]
  },
  {
   "cell_type": "code",
   "execution_count": null,
   "id": "6c036e48",
   "metadata": {},
   "outputs": [],
   "source": []
  },
  {
   "cell_type": "markdown",
   "id": "1bb59b32-9925-419f-bd15-09923b6d1073",
   "metadata": {},
   "source": [
    "## Quantization"
   ]
  },
  {
   "cell_type": "code",
   "execution_count": 66,
   "id": "90148326-4b8c-4d2d-b192-b479b1516633",
   "metadata": {
    "scrolled": false
   },
   "outputs": [
    {
     "name": "stderr",
     "output_type": "stream",
     "text": [
      "/cvmfs/sft.cern.ch/lcg/views/LCG_105_cuda/x86_64-el9-gcc11-opt/lib/python3.9/site-packages/torch/ao/quantization/observer.py:214: UserWarning: Please use quant_min and quant_max to specify the range for observers.                     reduce_range will be deprecated in a future release of PyTorch.\n",
      "  warnings.warn(\n",
      "/cvmfs/sft.cern.ch/lcg/views/LCG_105_cuda/x86_64-el9-gcc11-opt/lib/python3.9/site-packages/torch/ao/quantization/observer.py:1207: UserWarning: must run observer before calling calculate_qparams.                                    Returning default scale and zero point \n",
      "  warnings.warn(\n"
     ]
    }
   ],
   "source": [
    "model.eval()\n",
    "model.qconfig = torch.ao.quantization.get_default_qconfig('x86')\n",
    "custom_module_config = {\n",
    "        \"float_to_observed_custom_module_class\": {torch.nn.MultiheadAttention: QuantizeableMultiheadAttention},\n",
    "        \"observed_to_quantized_custom_module_class\": {QuantizeableMultiheadAttention: QuantizedMultiheadAttention},\n",
    "}\n",
    "\n",
    "model_prepared = torch.ao.quantization.prepare(model, prepare_custom_config_dict=custom_module_config)\n",
    "\n",
    "#calibrate on data\n",
    "num_events_to_calibrate = 100\n",
    "for ind in range(max_events_train,max_events_train+num_events_to_calibrate):\n",
    "    _X = torch.unsqueeze(torch.tensor(ds_train[ind][\"X\"]).to(torch.float32), 0)\n",
    "    _mask = _X[:, :, 0]!=0\n",
    "    model_prepared(_X, _mask)\n",
    "\n",
    "model_int8 = torch.ao.quantization.convert(model_prepared,convert_custom_config_dict=custom_module_config,)"
   ]
  },
  {
   "cell_type": "code",
   "execution_count": 67,
   "id": "9248b521-f166-4944-95cb-af96b5e66adc",
   "metadata": {
    "scrolled": true
   },
   "outputs": [
    {
     "data": {
      "text/plain": [
       "QuantizeFeaturesStub(\n",
       "  (quants): ModuleList(\n",
       "    (0): Quantize(scale=tensor([0.0157]), zero_point=tensor([0]), dtype=torch.quint8)\n",
       "    (1): Quantize(scale=tensor([0.0795]), zero_point=tensor([69]), dtype=torch.quint8)\n",
       "    (2): Quantize(scale=tensor([0.0688]), zero_point=tensor([64]), dtype=torch.quint8)\n",
       "    (3): Quantize(scale=tensor([0.0158]), zero_point=tensor([63]), dtype=torch.quint8)\n",
       "    (4): Quantize(scale=tensor([0.0157]), zero_point=tensor([64]), dtype=torch.quint8)\n",
       "    (5): Quantize(scale=tensor([0.0680]), zero_point=tensor([58]), dtype=torch.quint8)\n",
       "    (6): Quantize(scale=tensor([99.9916]), zero_point=tensor([31]), dtype=torch.quint8)\n",
       "    (7): Quantize(scale=tensor([45.1988]), zero_point=tensor([64]), dtype=torch.quint8)\n",
       "    (8): Quantize(scale=tensor([62.1251]), zero_point=tensor([65]), dtype=torch.quint8)\n",
       "    (9): Quantize(scale=tensor([0.0245]), zero_point=tensor([0]), dtype=torch.quint8)\n",
       "    (10): Quantize(scale=tensor([6.4751]), zero_point=tensor([0]), dtype=torch.quint8)\n",
       "    (11): Quantize(scale=tensor([0.6158]), zero_point=tensor([12]), dtype=torch.quint8)\n",
       "    (12): Quantize(scale=tensor([0.8627]), zero_point=tensor([65]), dtype=torch.quint8)\n",
       "    (13): Quantize(scale=tensor([16.1207]), zero_point=tensor([0]), dtype=torch.quint8)\n",
       "    (14): Quantize(scale=tensor([19.1000]), zero_point=tensor([75]), dtype=torch.quint8)\n",
       "    (15): Quantize(scale=tensor([8.5012]), zero_point=tensor([0]), dtype=torch.quint8)\n",
       "    (16): Quantize(scale=tensor([7.2994]), zero_point=tensor([0]), dtype=torch.quint8)\n",
       "    (17-19): 3 x Quantize(scale=tensor([1.]), zero_point=tensor([0]), dtype=torch.quint8)\n",
       "  )\n",
       ")"
      ]
     },
     "execution_count": 67,
     "metadata": {},
     "output_type": "execute_result"
    }
   ],
   "source": [
    "model_int8.quant"
   ]
  },
  {
   "cell_type": "code",
   "execution_count": 68,
   "id": "2e8f0258-3225-4c0f-8529-7a3bcbc83659",
   "metadata": {},
   "outputs": [],
   "source": [
    "mask_quantized = torch.quantize_per_tensor((X_features_padded[:, :, 0]!=0).to(torch.float32), 1, 0, torch.quint8)\n",
    "preds = model_int8(X_features_padded, mask_quantized)\n",
    "preds = preds[0].detach(), preds[1].detach()\n",
    "preds_unpacked_int8 = unpack_predictions(preds)"
   ]
  },
  {
   "cell_type": "code",
   "execution_count": 69,
   "id": "f1344cde-97f6-4a1c-8526-3586a139efff",
   "metadata": {},
   "outputs": [],
   "source": [
    "loss_int8 = mlpf_loss(targets_unpacked, preds_unpacked_int8, mask)"
   ]
  },
  {
   "cell_type": "code",
   "execution_count": 70,
   "id": "90b2a37d-8aa2-4ae0-be3b-c1d3fe56a2e3",
   "metadata": {},
   "outputs": [],
   "source": [
    "# plt.bar(range(2), [loss[\"Total\"].detach().numpy(), loss_int8[\"Total\"].detach().numpy()])\n",
    "# plt.xticks(range(2), [\"fp32\", \"int8\"])\n",
    "# plt.ylabel(\"Final total loss\")"
   ]
  },
  {
   "cell_type": "code",
   "execution_count": 72,
   "id": "57979d38-46a9-48bd-a9a2-748cb29d519d",
   "metadata": {},
   "outputs": [
    {
     "ename": "NameError",
     "evalue": "name 'all_preds_int8' is not defined",
     "output_type": "error",
     "traceback": [
      "\u001b[0;31m---------------------------------------------------------------------------\u001b[0m",
      "\u001b[0;31mNameError\u001b[0m                                 Traceback (most recent call last)",
      "\u001b[0;32m/tmp/sraj/ipykernel_400022/3765269925.py\u001b[0m in \u001b[0;36m<module>\u001b[0;34m\u001b[0m\n\u001b[1;32m      8\u001b[0m \u001b[0;34m\u001b[0m\u001b[0m\n\u001b[1;32m      9\u001b[0m \u001b[0;31m# Loop over all batches\u001b[0m\u001b[0;34m\u001b[0m\u001b[0;34m\u001b[0m\u001b[0m\n\u001b[0;32m---> 10\u001b[0;31m \u001b[0;32mfor\u001b[0m \u001b[0mi\u001b[0m \u001b[0;32min\u001b[0m \u001b[0mrange\u001b[0m\u001b[0;34m(\u001b[0m\u001b[0mlen\u001b[0m\u001b[0;34m(\u001b[0m\u001b[0mall_preds_int8\u001b[0m\u001b[0;34m)\u001b[0m\u001b[0;34m)\u001b[0m\u001b[0;34m:\u001b[0m\u001b[0;34m\u001b[0m\u001b[0;34m\u001b[0m\u001b[0m\n\u001b[0m\u001b[1;32m     11\u001b[0m     \u001b[0mpreds_unpacked_int8\u001b[0m \u001b[0;34m=\u001b[0m \u001b[0mall_preds_int8\u001b[0m\u001b[0;34m[\u001b[0m\u001b[0mi\u001b[0m\u001b[0;34m]\u001b[0m\u001b[0;34m\u001b[0m\u001b[0;34m\u001b[0m\u001b[0m\n\u001b[1;32m     12\u001b[0m \u001b[0;34m\u001b[0m\u001b[0m\n",
      "\u001b[0;31mNameError\u001b[0m: name 'all_preds_int8' is not defined"
     ]
    }
   ],
   "source": [
    "pt_pred_int8 = preds_unpacked_int8[\"pt\"][msk_true_particles].numpy()\n",
    "eta_pred_int8 = preds_unpacked_int8[\"eta\"][msk_true_particles].numpy()\n",
    "sphi_pred_int8 = preds_unpacked_int8[\"sin_phi\"][msk_true_particles].numpy()\n",
    "cphi_pred_int8 = preds_unpacked_int8[\"cos_phi\"][msk_true_particles].numpy()\n",
    "energy_pred_int8 = preds_unpacked_int8[\"energy\"][msk_true_particles].numpy()\n",
    "\n",
    "px = preds_unpacked_int8[\"pt\"] * preds_unpacked_int8[\"cos_phi\"] * msk_true_particles\n",
    "py = preds_unpacked_int8[\"pt\"] * preds_unpacked_int8[\"sin_phi\"] * msk_true_particles\n",
    "pred_met_int8 = torch.sqrt(torch.sum(px, axis=-2) ** 2 + torch.sum(py, axis=-2) ** 2)"
   ]
  },
  {
   "cell_type": "code",
   "execution_count": 80,
   "id": "5d9ed274",
   "metadata": {},
   "outputs": [],
   "source": [
    "# Initialize lists to store data for true particles\n",
    "pt_pred_int8 = []\n",
    "eta_pred_int8 = []\n",
    "sphi_pred_int8 = []\n",
    "cphi_pred_int8 = []\n",
    "energy_pred_int8 = []\n",
    "pred_met_int8_values = []\n",
    "\n",
    "# Loop over all batches\n",
    "for i in range(len(all_targets)):\n",
    "    targets_unpacked = all_targets[i]\n",
    "\n",
    "    # Define mask_quantized\n",
    "    mask_quantized = torch.quantize_per_tensor((X_features_padded[:, :, 0] != 0).to(torch.float32), 1, 0, torch.quint8)\n",
    "\n",
    "    # Get predictions from the model\n",
    "    preds_int8 = model_int8(X_features_padded, mask_quantized)\n",
    "    preds_int8 = preds_int8[0].detach(), preds_int8[1].detach()\n",
    "    preds_unpacked_int8 = unpack_predictions(preds_int8)\n",
    "\n",
    "    # Dequantize relevant tensors\n",
    "    pt_pred_float = preds_unpacked_int8[\"pt\"].to(torch.float32)\n",
    "    cos_phi_float = preds_unpacked_int8[\"cos_phi\"].to(torch.float32)\n",
    "    sin_phi_float = preds_unpacked_int8[\"sin_phi\"].to(torch.float32)\n",
    "\n",
    "    # Compute px and py for pred_met_int8\n",
    "    px_pred_int8 = pt_pred_float * torch.cos(cos_phi_float) * mask_quantized.dequantize()\n",
    "    py_pred_int8 = pt_pred_float * torch.sin(sin_phi_float) * mask_quantized.dequantize()\n",
    "\n",
    "    # Convert px_pred_int8 and py_pred_int8 to numpy arrays\n",
    "    px_pred_int8 = px_pred_int8.cpu().numpy()\n",
    "    py_pred_int8 = py_pred_int8.cpu().numpy()\n",
    "\n",
    "    # Convert px_pred_int8 and py_pred_int8 to PyTorch tensors\n",
    "    px_pred_int8 = torch.tensor(px_pred_int8)\n",
    "    py_pred_int8 = torch.tensor(py_pred_int8)\n",
    "\n",
    "    # Compute pred_met_int8\n",
    "    pred_met_int8 = torch.sqrt(torch.sum(px_pred_int8 ** 2 + py_pred_int8 ** 2, axis=-1))\n",
    "\n",
    "    # Append the computed pred_met_int8 to the list\n",
    "    pred_met_int8_values.append(pred_met_int8)\n",
    "\n",
    "# Convert lists to numpy arrays\n",
    "pt_pred_int8 = np.array(pt_pred_int8)\n",
    "eta_pred_int8 = np.array(eta_pred_int8)\n",
    "sphi_pred_int8 = np.array(sphi_pred_int8)\n",
    "cphi_pred_int8 = np.array(cphi_pred_int8)\n",
    "energy_pred_int8 = np.array(energy_pred_int8)\n",
    "\n",
    "# Concatenate the list of pred_met_int8 values to form a single array\n",
    "pred_met_int8 = np.concatenate(pred_met_int8_values)\n"
   ]
  },
  {
   "cell_type": "code",
   "execution_count": 89,
   "id": "e7c02b0e-3e92-4aec-8741-6a4a58c1deca",
   "metadata": {},
   "outputs": [
    {
     "data": {
      "image/png": "[encoded data removed]",
      "text/plain": [
       "<Figure size 432x288 with 1 Axes>"
      ]
     },
     "metadata": {
      "needs_background": "light"
     },
     "output_type": "display_data"
    }
   ],
   "source": [
    "import matplotlib.pyplot as plt\n",
    "\n",
    "# Truncate pred_met to match the length of true_met_truncated\n",
    "pred_met_truncated = pred_met[:len(true_met_truncated)]\n",
    "\n",
    "# Plot histograms\n",
    "plt.hist(pred_met_truncated / true_met_truncated, bins=np.linspace(0,5,61), histtype=\"step\", lw=2, label=\"fp32\")\n",
    "plt.hist(pred_met_int8 / true_met_truncated, bins=np.linspace(0,5,61), histtype=\"step\", lw=2, label=\"int8\")\n",
    "plt.xlabel(\"reco_met / gen_met\")\n",
    "plt.ylabel(\"number of events / bin\")\n",
    "plt.yscale('log') \n",
    "plt.legend(loc=\"best\")\n",
    "plt.show()\n"
   ]
  },
  {
   "cell_type": "code",
   "execution_count": 33,
   "id": "00c83132",
   "metadata": {},
   "outputs": [
    {
     "data": {
      "text/plain": [
       "tensor([4.7623e-01, 2.5682e-01, 2.2614e-02, 2.1799e-01, 2.2531e-02, 1.5437e-01,\n",
       "        8.2141e-02, 8.3657e-02, 3.7751e-02, 1.1203e-01, 4.1715e-02, 6.8885e-02,\n",
       "        5.5193e-02, 4.8595e-02, 6.5452e-02, 1.8174e-02, 1.1298e-02, 4.1773e-02,\n",
       "        5.6496e-02, 2.5331e-02, 2.2866e-02, 1.5794e-02, 8.8837e-03, 2.3437e-02,\n",
       "        1.9241e-02, 1.6166e-02, 1.0402e-02, 9.8641e-03, 1.4707e-02, 1.2358e-02,\n",
       "        5.9784e-03, 1.5923e-02, 7.2004e-03, 9.8026e-03, 4.4118e-03, 7.7045e-03,\n",
       "        1.0913e-03, 6.4888e-03, 7.5332e-03, 7.5897e-03, 9.2271e-03, 7.8334e-03,\n",
       "        1.0346e-02, 5.3780e-03, 2.9610e-03, 4.5475e-03, 3.3783e-03, 5.4846e-03,\n",
       "        9.7643e-03, 4.9856e-03, 2.4140e-03, 2.8076e-03, 1.8076e-03, 1.8138e-03,\n",
       "        2.3428e-03, 2.0612e-02, 3.2935e-03, 1.6613e-03, 7.6502e-05, 5.1619e-04,\n",
       "        2.3037e-03, 9.9091e-04, 0.0000e+00, 0.0000e+00, 6.1573e-04, 0.0000e+00,\n",
       "        1.0936e-02, 0.0000e+00, 0.0000e+00, 0.0000e+00, 0.0000e+00, 0.0000e+00,\n",
       "        0.0000e+00, 0.0000e+00, 1.2108e-02, 0.0000e+00, 0.0000e+00, 5.6615e-02,\n",
       "        0.0000e+00, 0.0000e+00, 0.0000e+00, 0.0000e+00, 0.0000e+00, 2.5799e-01,\n",
       "        0.0000e+00, 5.3717e-02, 0.0000e+00, 0.0000e+00, 0.0000e+00, 1.6641e-03,\n",
       "        0.0000e+00, 3.3353e-03, 0.0000e+00, 4.7480e-02, 2.3330e-03, 0.0000e+00,\n",
       "        1.4580e-03, 1.9271e-03, 3.9270e-03, 5.5661e-02, 1.3851e-02, 3.0948e-03,\n",
       "        6.3733e-03, 2.2671e-02, 4.5649e-03, 1.2761e-02, 5.5147e-03, 8.7462e-03,\n",
       "        2.0883e-02, 6.7052e-03, 2.0894e-02, 9.8165e-03, 3.1290e-03, 3.5113e-03,\n",
       "        1.2560e-02, 1.1135e-03, 1.0147e-02, 5.2226e-03, 1.1869e-02, 4.5348e-02,\n",
       "        2.2970e-02, 2.3375e-03, 2.7540e-02, 1.2277e-01, 4.2246e-02, 1.1575e-02,\n",
       "        1.4664e-02, 3.2221e-02, 1.4150e-02, 3.5969e-02, 5.1743e-03, 1.3611e-02,\n",
       "        1.8406e-01, 2.0329e-02, 5.3840e-03, 7.4731e-03, 2.8989e-01, 2.7873e-01,\n",
       "        2.3590e-02, 3.9508e-02, 1.2183e-01, 3.0968e-02, 5.5653e-03, 3.4939e-02,\n",
       "        3.9535e-03, 1.4264e-02, 4.9241e-02, 2.7104e-02, 6.9545e-04, 6.6972e-04,\n",
       "        2.7168e-02, 2.3590e-02, 4.3672e-02, 1.0476e-02, 1.9844e-02, 4.1355e-02,\n",
       "        4.3295e-02, 5.7946e-02, 3.5365e-03, 1.8688e-03, 7.2837e-04, 1.3749e-02,\n",
       "        2.1582e-02, 1.3865e-02, 1.9635e-02, 1.4817e-02, 2.4647e-02, 2.2810e-02,\n",
       "        0.0000e+00, 1.0415e-02, 0.0000e+00])"
      ]
     },
     "execution_count": 33,
     "metadata": {},
     "output_type": "execute_result"
    }
   ],
   "source": [
    "# pred_met/true_met.size(0)"
   ]
  },
  {
   "cell_type": "code",
   "execution_count": 15,
   "id": "dc6d4250",
   "metadata": {},
   "outputs": [
    {
     "data": {
      "image/png": "[encoded data removed]",
      "text/plain": [
       "<Figure size 576x432 with 1 Axes>"
      ]
     },
     "metadata": {
      "needs_background": "light"
     },
     "output_type": "display_data"
    }
   ],
   "source": [
    "import numpy as np\n",
    "import matplotlib.pyplot as plt\n",
    "\n",
    "X = np.random.normal(loc=50, scale=10, size=10000)\n",
    "y = np.random.normal(loc=50, scale=10, size=10000)\n",
    "\n",
    "ratio = X / y\n",
    "\n",
    "plt.figure(figsize=(8, 6))\n",
    "\n",
    "num_bins = 100\n",
    "\n",
    "plt.hist(ratio, bins=num_bins, range=(0, 2), histtype='step', linewidth=2, color='blue')\n",
    "\n",
    "plt.xlabel('X/y')\n",
    "plt.ylabel('Number of events/bin')\n",
    "plt.title('Histogram of reco_met/gen_met')\n",
    "\n",
    "plt.grid(True)\n",
    "plt.show()\n"
   ]
  },
  {
   "cell_type": "code",
   "execution_count": null,
   "id": "31a57b8a",
   "metadata": {},
   "outputs": [],
   "source": [
    "# pred_met_int8/true_met"
   ]
  },
  {
   "cell_type": "code",
   "execution_count": null,
   "id": "abdb37a2",
   "metadata": {},
   "outputs": [],
   "source": [
    "# import matplotlib.pyplot as plt\n",
    "\n",
    "# # Sample data\n",
    "# data = [5, 10, 15, 10, 20, 15, 25, 20, 30, 25, 35, 30, 40, 35, 45]\n",
    "\n",
    "# # Create histogram\n",
    "# plt.hist(data, bins=5, color='skyblue', edgecolor='black')\n",
    "\n",
    "# # Add labels and title\n",
    "# plt.xlabel('Value')\n",
    "# plt.ylabel('Frequency')\n",
    "# plt.title('Histogram Example')\n",
    "\n",
    "# # Show plot\n",
    "# plt.show()\n"
   ]
  },
  {
   "cell_type": "code",
   "execution_count": null,
   "id": "1f657b5f",
   "metadata": {},
   "outputs": [],
   "source": [
    "# import matplotlib.pyplot as plt\n",
    "\n",
    "# # Original sample data\n",
    "# data = [5, 10, 15, 10, 20, 15, 25, 20, 30, 25, 35, 30, 40, 35, 45]\n",
    "\n",
    "# # Repeat each data point four times\n",
    "# data = [x for x in data for _ in range(4)]\n",
    "\n",
    "# # Create histogram\n",
    "# plt.hist(data, bins=5, color='skyblue', edgecolor='black')\n",
    "\n",
    "# # Add labels and title\n",
    "# plt.xlabel('Value')\n",
    "# plt.ylabel('Frequency')\n",
    "# plt.title('Histogram Example')\n",
    "\n",
    "# # Show plot\n",
    "# plt.show()"
   ]
  },
  {
   "cell_type": "code",
   "execution_count": null,
   "id": "4289b59d",
   "metadata": {},
   "outputs": [],
   "source": [
    "# # Define a function to predict jets using the trained model\n",
    "# def predict_jets(model, dataset, events_per_batch):\n",
    "#     predicted_jets = []\n",
    "#     inds = range(0, len(dataset), events_per_batch)\n",
    "#     for ind in tqdm.tqdm(inds):\n",
    "#         # Load the data for one batch\n",
    "#         ds_elems = dataset[ind:ind+events_per_batch]\n",
    "#         X_features = [torch.tensor(elem[\"X\"]).to(torch.float32) for elem in ds_elems]\n",
    "\n",
    "#         # Batch the data into [batch_size, num_elems, num_features]\n",
    "#         X_features_padded = pad_sequence(X_features, batch_first=True).to(device=device)\n",
    "#         mask = X_features_padded[:, :, 0] != 0\n",
    "\n",
    "#         # Run the model to predict jets\n",
    "#         with torch.no_grad():\n",
    "#             preds = model(X_features_padded, mask)\n",
    "        \n",
    "#         # Unpack and process the predicted jets\n",
    "#         preds_unpacked = unpack_predictions(preds)\n",
    "#         predicted_jets.extend(preds_unpacked)\n",
    "    \n",
    "#     return predicted_jets\n",
    "\n",
    "# # Use the trained model to predict jets on the evaluation dataset\n",
    "# predicted_jets = predict_jets(model, ds_eval, events_per_batch)\n"
   ]
  },
  {
   "cell_type": "code",
   "execution_count": null,
   "id": "72242e94",
   "metadata": {},
   "outputs": [],
   "source": [
    "# for i, batch_elem in enumerate(X_features):\n",
    "#     print(f\"Batch element {i}:\")\n",
    "#     print(batch_elem)\n"
   ]
  },
  {
   "cell_type": "code",
   "execution_count": null,
   "id": "518d8193",
   "metadata": {},
   "outputs": [],
   "source": [
    "# for i, batch_elem in enumerate(X_features):\n",
    "#     print(f\"Batch element {i} shape: {batch_elem.shape}\")"
   ]
  },
  {
   "cell_type": "code",
   "execution_count": null,
   "id": "0faae1de",
   "metadata": {},
   "outputs": [],
   "source": []
  },
  {
   "cell_type": "code",
   "execution_count": null,
   "id": "688b47f6-c922-4520-8ba4-5f783a7f4130",
   "metadata": {},
   "outputs": [],
   "source": [
    "# for i in range(3):\n",
    "#     t0 = time.time()\n",
    "#     for j in range(1):\n",
    "#         model(X_features_padded, X_features_padded[:, :, 0]!=0)\n",
    "#     t1 = time.time()\n",
    "#     print(t1 - t0)"
   ]
  },
  {
   "cell_type": "code",
   "execution_count": null,
   "id": "f845b93f-decc-4d8f-be11-d54b7486e24e",
   "metadata": {},
   "outputs": [],
   "source": [
    "# mask_quantized = torch.quantize_per_tensor((X_features_padded[:, :, 0]!=0).to(torch.float32), 1, 0, torch.quint8)\n",
    "# for i in range(3):\n",
    "#     t0 = time.time()\n",
    "#     for j in range(1):\n",
    "#         model_int8(X_features_padded, mask_quantized)\n",
    "#     t1 = time.time()\n",
    "#     print(t1 - t0)"
   ]
  },
  {
   "cell_type": "code",
   "execution_count": null,
   "id": "60c59978-a1ae-44f5-ba0e-ecce9d0d1e4a",
   "metadata": {},
   "outputs": [],
   "source": [
    "# export_options = torch.onnx.ExportOptions(dynamic_shapes=True)\n",
    "# mask = X_features_padded[:, :, 0]!=0\n",
    "\n",
    "# onnx_program = torch.onnx.dynamo_export(model, X_features_padded, mask, export_options=export_options)\n",
    "# onnx_program.save(\"mlpf_fp32_dynamo.onnx\")\n",
    "\n",
    "# torch.onnx.export(model,                                            # model\n",
    "#                   (X_features_padded, mask),                        # model input\n",
    "#                   \"mlpf_fp32.onnx\",                                 # path\n",
    "#                   export_params=True,                               # store the trained parameter weights inside the model file\n",
    "#                   opset_version=17,                                 # the ONNX version to export the model to\n",
    "#                   do_constant_folding=True,                         # constant folding for optimization\n",
    "#                   input_names = ['input'],                          # input names\n",
    "#                   output_names = ['output'],                        # output names\n",
    "#                   dynamic_axes={'input' : {0 : 'batch_size', 1: 'num_elems'},\n",
    "#                                 'output' : {0 : 'batch_size', 1: 'num_elems'}},\n",
    "#                   verbose=False)"
   ]
  },
  {
   "cell_type": "code",
   "execution_count": null,
   "id": "b7a3cb52-1120-4293-b07c-decaf6c0013d",
   "metadata": {},
   "outputs": [],
   "source": [
    "# This does not work\n",
    "# onnx_program = torch.onnx.dynamo_export(model_int8, X_features_padded, mask_quantized, export_options=export_options)\n",
    "# onnx_program.save(\"mlpf_int8_dynamo.onnx\")"
   ]
  },
  {
   "cell_type": "code",
   "execution_count": null,
   "id": "8cfcff62-763d-48b0-99de-4485c160382d",
   "metadata": {},
   "outputs": [],
   "source": [
    "# torch.onnx.export(model_int8,                                       # model\n",
    "#                   (X_features_padded, mask_quantized),              # model input\n",
    "#                   \"mlpf_int8.onnx\",                                 # path\n",
    "#                   export_params=True,                               # store the trained parameter weights inside the model file\n",
    "#                   opset_version=17,                                 # the ONNX version to export the model to\n",
    "#                   do_constant_folding=True,                         # constant folding for optimization\n",
    "#                   input_names = ['input'],                          # input names\n",
    "#                   output_names = ['output'],                        # output names\n",
    "#                   dynamic_axes={'input' : {0 : 'batch_size', 1: 'num_elems'},\n",
    "#                                 'output' : {0 : 'batch_size', 1: 'num_elems'}},\n",
    "#                   verbose=False)"
   ]
  },
  {
   "cell_type": "code",
   "execution_count": null,
   "id": "36a36aea-6c1c-4070-a9c1-fa418fe70587",
   "metadata": {},
   "outputs": [],
   "source": [
    "# !du -csh *.onnx"
   ]
  },
  {
   "cell_type": "code",
   "execution_count": null,
   "id": "36df9966-0a7a-471a-ab2f-f050581164da",
   "metadata": {},
   "outputs": [],
   "source": [
    "# import onnxruntime as ort\n",
    "\n",
    "# ort_fp32 = ort.InferenceSession('mlpf_fp32.onnx')\n",
    "# outputs = ort_fp32.run(None, {'input': X_features_padded.numpy()})\n",
    "# preds_unpacked_ort_fp32 = unpack_predictions((torch.tensor(outputs[0]), torch.tensor(outputs[1])))\n",
    "\n",
    "# px = preds_unpacked_ort_fp32[\"pt\"] * preds_unpacked_ort_fp32[\"cos_phi\"] * msk_true_particles\n",
    "# py = preds_unpacked_ort_fp32[\"pt\"] * preds_unpacked_ort_fp32[\"sin_phi\"] * msk_true_particles\n",
    "# pred_met_ort_fp32 = torch.sqrt(torch.sum(px, axis=-2) ** 2 + torch.sum(py, axis=-2) ** 2)\n",
    "\n",
    "# ort_int8 = ort.InferenceSession('mlpf_int8.onnx')\n",
    "# outputs = ort_int8.run(None, {'input': X_features_padded.numpy()})\n",
    "# preds_unpacked_ort_int8 = unpack_predictions((torch.tensor(outputs[0]), torch.tensor(outputs[1])))\n",
    "\n",
    "# px = preds_unpacked_ort_int8[\"pt\"] * preds_unpacked_ort_int8[\"cos_phi\"] * msk_true_particles\n",
    "# py = preds_unpacked_ort_int8[\"pt\"] * preds_unpacked_ort_int8[\"sin_phi\"] * msk_true_particles\n",
    "# pred_met_ort_int8 = torch.sqrt(torch.sum(px, axis=-2) ** 2 + torch.sum(py, axis=-2) ** 2)"
   ]
  },
  {
   "cell_type": "code",
   "execution_count": null,
   "id": "58a8dcba-ade3-4135-a23b-9d9eed6830c3",
   "metadata": {},
   "outputs": [],
   "source": [
    "# plt.scatter(\n",
    "#     preds_unpacked[\"pt\"][targets_unpacked[\"cls_id\"]!=0],\n",
    "#     preds_unpacked_ort_fp32[\"pt\"][targets_unpacked[\"cls_id\"]!=0],\n",
    "#     marker=\".\", label=\"fp32\"\n",
    "# )\n",
    "\n",
    "# plt.scatter(\n",
    "#     preds_unpacked_int8[\"pt\"][targets_unpacked[\"cls_id\"]!=0],\n",
    "#     preds_unpacked_ort_int8[\"pt\"][targets_unpacked[\"cls_id\"]!=0],\n",
    "#     marker=\".\", label=\"int8\"\n",
    "# )\n",
    "# plt.xlabel(\"pt, pytorch\")\n",
    "# plt.ylabel(\"pt, ONNX\")\n",
    "# plt.legend(loc=\"best\")"
   ]
  },
  {
   "cell_type": "code",
   "execution_count": null,
   "id": "d6919306-9c6e-43ad-9f3a-fa32af4ee102",
   "metadata": {},
   "outputs": [],
   "source": [
    "# plt.scatter(\n",
    "#     pred_met,\n",
    "#     pred_met_ort_fp32,\n",
    "#     marker=\".\", label=\"fp32\"\n",
    "# )\n",
    "\n",
    "# plt.scatter(\n",
    "#     pred_met_int8,\n",
    "#     pred_met_ort_int8,\n",
    "#     marker=\".\", label=\"int8\"\n",
    "# )\n",
    "# plt.xlabel(\"MET, pytorch\")\n",
    "# plt.ylabel(\"MET, ONNX\")\n",
    "# plt.legend(loc=\"best\")"
   ]
  }
 ],
 "metadata": {
  "kernelspec": {
   "display_name": "Python 3 (ipykernel)",
   "language": "python",
   "name": "python3"
  },
  "language_info": {
   "codemirror_mode": {
    "name": "ipython",
    "version": 3
   },
   "file_extension": ".py",
   "mimetype": "text/x-python",
   "name": "python",
   "nbconvert_exporter": "python",
   "pygments_lexer": "ipython3",
   "version": "3.9.12"
  }
 },
 "nbformat": 4,
 "nbformat_minor": 5
}
