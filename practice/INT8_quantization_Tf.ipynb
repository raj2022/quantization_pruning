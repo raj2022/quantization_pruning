{
 "cells": [
  {
   "cell_type": "code",
   "execution_count": 1,
   "id": "25bbb433",
   "metadata": {},
   "outputs": [
    {
     "name": "stderr",
     "output_type": "stream",
     "text": [
      "2024-02-14 21:32:46.934475: I tensorflow/core/platform/cpu_feature_guard.cc:182] This TensorFlow binary is optimized to use available CPU instructions in performance-critical operations.\n",
      "To enable the following instructions: AVX2 FMA, in other operations, rebuild TensorFlow with the appropriate compiler flags.\n",
      "2024-02-14 21:33:09.572319: W tensorflow/tsl/framework/cpu_allocator_impl.cc:83] Allocation of 188160000 exceeds 10% of free system memory.\n"
     ]
    },
    {
     "name": "stdout",
     "output_type": "stream",
     "text": [
      "Epoch 1/5\n",
      "938/938 [==============================] - 11s 11ms/step - loss: 0.1786 - accuracy: 0.9473 - val_loss: 0.0543 - val_accuracy: 0.9833\n",
      "Epoch 2/5\n",
      "938/938 [==============================] - 8s 9ms/step - loss: 0.0533 - accuracy: 0.9835 - val_loss: 0.0467 - val_accuracy: 0.9849\n",
      "Epoch 3/5\n",
      "938/938 [==============================] - 8s 8ms/step - loss: 0.0374 - accuracy: 0.9880 - val_loss: 0.0389 - val_accuracy: 0.9877\n",
      "Epoch 4/5\n",
      "938/938 [==============================] - 8s 8ms/step - loss: 0.0289 - accuracy: 0.9910 - val_loss: 0.0362 - val_accuracy: 0.9892\n",
      "Epoch 5/5\n",
      "938/938 [==============================] - 8s 8ms/step - loss: 0.0222 - accuracy: 0.9928 - val_loss: 0.0393 - val_accuracy: 0.9881\n"
     ]
    },
    {
     "name": "stderr",
     "output_type": "stream",
     "text": [
      "/cvmfs/sft.cern.ch/lcg/views/LCG_105/x86_64-el9-gcc13-opt/lib/python3.9/site-packages/keras/src/engine/training.py:3000: UserWarning: You are saving your model as an HDF5 file via `model.save()`. This file format is considered legacy. We recommend using instead the native Keras format, e.g. `model.save('my_model.keras')`.\n",
      "  saving_api.save_model(\n"
     ]
    }
   ],
   "source": [
    "import tensorflow as tf\n",
    "from tensorflow.keras import layers, models\n",
    "from tensorflow.keras.datasets import mnist\n",
    "\n",
    "# Load and preprocess the MNIST dataset\n",
    "(x_train, y_train), (x_test, y_test) = mnist.load_data()\n",
    "x_train, x_test = x_train / 255.0, x_test / 255.0\n",
    "\n",
    "# Reshape the input data to match CNN input shape (add a channel dimension)\n",
    "x_train = x_train.reshape((-1, 28, 28, 1))\n",
    "x_test = x_test.reshape((-1, 28, 28, 1))\n",
    "\n",
    "# Define the model architecture\n",
    "model = models.Sequential([\n",
    "    layers.Conv2D(32, (3, 3), activation='relu', input_shape=(28, 28, 1)),\n",
    "    layers.MaxPooling2D((2, 2)),\n",
    "    layers.Conv2D(64, (3, 3), activation='relu'),\n",
    "    layers.MaxPooling2D((2, 2)),\n",
    "    layers.Flatten(),\n",
    "    layers.Dense(64, activation='relu'),\n",
    "    layers.Dense(10, activation='softmax')\n",
    "])\n",
    "\n",
    "# Compile the model\n",
    "model.compile(optimizer='adam',\n",
    "              loss='sparse_categorical_crossentropy',\n",
    "              metrics=['accuracy'])\n",
    "\n",
    "# Train the model\n",
    "model.fit(x_train, y_train, epochs=5, batch_size=64, validation_data=(x_test, y_test))\n",
    "\n",
    "# Save the trained model\n",
    "model.save('mnist_cnn_model.h5')\n"
   ]
  },
  {
   "cell_type": "code",
   "execution_count": 11,
   "id": "c8ec61ec",
   "metadata": {},
   "outputs": [],
   "source": [
    "# load model\n",
    "from tensorflow.keras.models import load_model\n",
    "import numpy as np\n",
    "\n",
    "model = load_model('mnist_cnn_model.h5')"
   ]
  },
  {
   "cell_type": "code",
   "execution_count": 12,
   "id": "4c53ab21",
   "metadata": {},
   "outputs": [
    {
     "name": "stdout",
     "output_type": "stream",
     "text": [
      "Model: \"sequential\"\n",
      "_________________________________________________________________\n",
      " Layer (type)                Output Shape              Param #   \n",
      "=================================================================\n",
      " conv2d (Conv2D)             (None, 26, 26, 32)        320       \n",
      "                                                                 \n",
      " max_pooling2d (MaxPooling2  (None, 13, 13, 32)        0         \n",
      " D)                                                              \n",
      "                                                                 \n",
      " conv2d_1 (Conv2D)           (None, 11, 11, 64)        18496     \n",
      "                                                                 \n",
      " max_pooling2d_1 (MaxPoolin  (None, 5, 5, 64)          0         \n",
      " g2D)                                                            \n",
      "                                                                 \n",
      " flatten (Flatten)           (None, 1600)              0         \n",
      "                                                                 \n",
      " dense (Dense)               (None, 64)                102464    \n",
      "                                                                 \n",
      " dense_1 (Dense)             (None, 10)                650       \n",
      "                                                                 \n",
      "=================================================================\n",
      "Total params: 121930 (476.29 KB)\n",
      "Trainable params: 121930 (476.29 KB)\n",
      "Non-trainable params: 0 (0.00 Byte)\n",
      "_________________________________________________________________\n"
     ]
    }
   ],
   "source": [
    "model.summary()"
   ]
  },
  {
   "cell_type": "code",
   "execution_count": 14,
   "id": "c3252923",
   "metadata": {},
   "outputs": [],
   "source": [
    "def representative_dataset_gen():\n",
    "    for _ in range(num_calibration_steps):\n",
    "        # Generate or load representative data samples\n",
    "        data_sample = np.random.rand(1, 28, 28, 1)  # Sample input data\n",
    "        yield [data_sample.astype(np.float32)]"
   ]
  },
  {
   "cell_type": "code",
   "execution_count": 15,
   "id": "837f1ec0",
   "metadata": {},
   "outputs": [
    {
     "name": "stdout",
     "output_type": "stream",
     "text": [
      "INFO:tensorflow:Assets written to: /tmp/sraj/tmpn5zd6wyc/assets\n"
     ]
    },
    {
     "name": "stderr",
     "output_type": "stream",
     "text": [
      "INFO:tensorflow:Assets written to: /tmp/sraj/tmpn5zd6wyc/assets\n",
      "/cvmfs/sft.cern.ch/lcg/views/LCG_105/x86_64-el9-gcc13-opt/lib/python3.9/site-packages/tensorflow/lite/python/convert.py:887: UserWarning: Statistics for quantized inputs were expected, but not specified; continuing anyway.\n",
      "  warnings.warn(\n",
      "2024-02-14 21:40:14.174976: W tensorflow/compiler/mlir/lite/python/tf_tfl_flatbuffer_helpers.cc:364] Ignored output_format.\n",
      "2024-02-14 21:40:14.175013: W tensorflow/compiler/mlir/lite/python/tf_tfl_flatbuffer_helpers.cc:367] Ignored drop_control_dependency.\n",
      "2024-02-14 21:40:14.175218: I tensorflow/cc/saved_model/reader.cc:45] Reading SavedModel from: /tmp/sraj/tmpn5zd6wyc\n",
      "2024-02-14 21:40:14.176212: I tensorflow/cc/saved_model/reader.cc:91] Reading meta graph with tags { serve }\n",
      "2024-02-14 21:40:14.176228: I tensorflow/cc/saved_model/reader.cc:132] Reading SavedModel debug info (if present) from: /tmp/sraj/tmpn5zd6wyc\n",
      "2024-02-14 21:40:14.179006: I tensorflow/cc/saved_model/loader.cc:231] Restoring SavedModel bundle.\n",
      "2024-02-14 21:40:14.231126: I tensorflow/cc/saved_model/loader.cc:215] Running initialization op on SavedModel bundle at path: /tmp/sraj/tmpn5zd6wyc\n",
      "2024-02-14 21:40:14.243263: I tensorflow/cc/saved_model/loader.cc:314] SavedModel load for tags { serve }; Status: success: OK. Took 68044 microseconds.\n",
      "fully_quantize: 0, inference_type: 6, input_inference_type: UINT8, output_inference_type: UINT8\n"
     ]
    }
   ],
   "source": [
    "# Define the number of calibration steps\n",
    "num_calibration_steps = 100\n",
    "\n",
    "# Convert the model to a TensorFlow Lite compatible format with int8 quantization\n",
    "converter = tf.lite.TFLiteConverter.from_keras_model(model)\n",
    "converter.optimizations = [tf.lite.Optimize.DEFAULT]\n",
    "converter.representative_dataset = representative_dataset_gen\n",
    "converter.target_spec.supported_ops = [tf.lite.OpsSet.TFLITE_BUILTINS_INT8]\n",
    "converter.inference_input_type = tf.uint8\n",
    "converter.inference_output_type = tf.uint8\n",
    "tflite_model = converter.convert()"
   ]
  },
  {
   "cell_type": "code",
   "execution_count": 16,
   "id": "0b961cc9",
   "metadata": {},
   "outputs": [],
   "source": [
    "# Save the quantized model\n",
    "with open('quantized_mnist_model.tflite', 'wb') as f:\n",
    "    f.write(tflite_model)"
   ]
  },
  {
   "cell_type": "code",
   "execution_count": 17,
   "id": "8a5a7dfe",
   "metadata": {},
   "outputs": [
    {
     "name": "stderr",
     "output_type": "stream",
     "text": [
      "INFO: Created TensorFlow Lite XNNPACK delegate for CPU.\n"
     ]
    }
   ],
   "source": [
    "# load the quantized model\n",
    "interpreter = tf.lite.Interpreter(model_content=tflite_model)\n",
    "interpreter.allocate_tensors()"
   ]
  },
  {
   "cell_type": "code",
   "execution_count": 19,
   "id": "db89be6d",
   "metadata": {},
   "outputs": [],
   "source": [
    "# Get input and output tensors\n",
    "input_details = interpreter.get_input_details()\n",
    "output_details = interpreter.get_output_details()\n"
   ]
  },
  {
   "cell_type": "code",
   "execution_count": 20,
   "id": "5c216c3d",
   "metadata": {},
   "outputs": [
    {
     "data": {
      "text/plain": [
       "[{'name': 'serving_default_conv2d_input:0',\n",
       "  'index': 0,\n",
       "  'shape': array([ 1, 28, 28,  1], dtype=int32),\n",
       "  'shape_signature': array([-1, 28, 28,  1], dtype=int32),\n",
       "  'dtype': numpy.uint8,\n",
       "  'quantization': (0.003921540919691324, 0),\n",
       "  'quantization_parameters': {'scales': array([0.00392154], dtype=float32),\n",
       "   'zero_points': array([0], dtype=int32),\n",
       "   'quantized_dimension': 0},\n",
       "  'sparsity_parameters': {}}]"
      ]
     },
     "execution_count": 20,
     "metadata": {},
     "output_type": "execute_result"
    }
   ],
   "source": [
    "input_details"
   ]
  },
  {
   "cell_type": "code",
   "execution_count": 21,
   "id": "e04ef095",
   "metadata": {},
   "outputs": [
    {
     "data": {
      "text/plain": [
       "[{'name': 'StatefulPartitionedCall:0',\n",
       "  'index': 19,\n",
       "  'shape': array([ 1, 10], dtype=int32),\n",
       "  'shape_signature': array([-1, 10], dtype=int32),\n",
       "  'dtype': numpy.uint8,\n",
       "  'quantization': (0.00390625, 0),\n",
       "  'quantization_parameters': {'scales': array([0.00390625], dtype=float32),\n",
       "   'zero_points': array([0], dtype=int32),\n",
       "   'quantized_dimension': 0},\n",
       "  'sparsity_parameters': {}}]"
      ]
     },
     "execution_count": 21,
     "metadata": {},
     "output_type": "execute_result"
    }
   ],
   "source": [
    "output_details"
   ]
  },
  {
   "cell_type": "code",
   "execution_count": 22,
   "id": "13259915",
   "metadata": {},
   "outputs": [],
   "source": [
    "\n",
    "input_data = np.random.rand(1, 28, 28, 1)\n",
    "\n",
    "# Inference\n",
    "interpreter.set_tensor(input_details[0]['index'], input_data.astype(np.uint8))\n",
    "interpreter.invoke()\n",
    "output_data = interpreter.get_tensor(output_details[0]['index'])\n"
   ]
  },
  {
   "cell_type": "code",
   "execution_count": 23,
   "id": "163bb927",
   "metadata": {},
   "outputs": [
    {
     "name": "stdout",
     "output_type": "stream",
     "text": [
      "Inference result: [[27 35 24 20 26 26 25 26 24 23]]\n"
     ]
    }
   ],
   "source": [
    "print(\"Inference result:\", output_data)\n"
   ]
  },
  {
   "cell_type": "code",
   "execution_count": 24,
   "id": "c64d054a",
   "metadata": {},
   "outputs": [],
   "source": [
    "## Dynamic Range Quantiation"
   ]
  },
  {
   "cell_type": "code",
   "execution_count": 28,
   "id": "0385b395",
   "metadata": {},
   "outputs": [
    {
     "name": "stdout",
     "output_type": "stream",
     "text": [
      "INFO:tensorflow:Assets written to: /tmp/sraj/tmp8x7drts5/assets\n"
     ]
    },
    {
     "name": "stderr",
     "output_type": "stream",
     "text": [
      "INFO:tensorflow:Assets written to: /tmp/sraj/tmp8x7drts5/assets\n",
      "2024-02-14 21:50:59.007776: W tensorflow/compiler/mlir/lite/python/tf_tfl_flatbuffer_helpers.cc:364] Ignored output_format.\n",
      "2024-02-14 21:50:59.007909: W tensorflow/compiler/mlir/lite/python/tf_tfl_flatbuffer_helpers.cc:367] Ignored drop_control_dependency.\n",
      "2024-02-14 21:50:59.008110: I tensorflow/cc/saved_model/reader.cc:45] Reading SavedModel from: /tmp/sraj/tmp8x7drts5\n",
      "2024-02-14 21:50:59.009167: I tensorflow/cc/saved_model/reader.cc:91] Reading meta graph with tags { serve }\n",
      "2024-02-14 21:50:59.009186: I tensorflow/cc/saved_model/reader.cc:132] Reading SavedModel debug info (if present) from: /tmp/sraj/tmp8x7drts5\n",
      "2024-02-14 21:50:59.012785: I tensorflow/cc/saved_model/loader.cc:231] Restoring SavedModel bundle.\n",
      "2024-02-14 21:50:59.050442: I tensorflow/cc/saved_model/loader.cc:215] Running initialization op on SavedModel bundle at path: /tmp/sraj/tmp8x7drts5\n",
      "2024-02-14 21:50:59.066991: I tensorflow/cc/saved_model/loader.cc:314] SavedModel load for tags { serve }; Status: success: OK. Took 58881 microseconds.\n"
     ]
    }
   ],
   "source": [
    "# Load the trained model\n",
    "model = tf.keras.models.load_model('mnist_cnn_model.h5')\n",
    "\n",
    "# Convert the model to a TensorFlow Lite compatible format with dynamic range quantization\n",
    "converter = tf.lite.TFLiteConverter.from_keras_model(model)\n",
    "converter.optimizations = [tf.lite.Optimize.DEFAULT]\n",
    "# converter.target_spec.supported_types = [tf.float16]\n",
    "tflite_model = converter.convert()\n"
   ]
  },
  {
   "cell_type": "code",
   "execution_count": 29,
   "id": "c5e7c8de",
   "metadata": {},
   "outputs": [],
   "source": [
    "# Save the quantized model\n",
    "with open('quantized_mnist_model_dynamic.tflite', 'wb') as f:\n",
    "    f.write(tflite_model)\n"
   ]
  },
  {
   "cell_type": "markdown",
   "id": "6dd770ef",
   "metadata": {},
   "source": [
    "# Float16 quantization"
   ]
  },
  {
   "cell_type": "code",
   "execution_count": 30,
   "id": "1383e3a7",
   "metadata": {},
   "outputs": [
    {
     "name": "stdout",
     "output_type": "stream",
     "text": [
      "INFO:tensorflow:Assets written to: /tmp/sraj/tmpsxjeuhu6/assets\n"
     ]
    },
    {
     "name": "stderr",
     "output_type": "stream",
     "text": [
      "INFO:tensorflow:Assets written to: /tmp/sraj/tmpsxjeuhu6/assets\n",
      "2024-02-14 21:54:13.443474: W tensorflow/compiler/mlir/lite/python/tf_tfl_flatbuffer_helpers.cc:364] Ignored output_format.\n",
      "2024-02-14 21:54:13.443588: W tensorflow/compiler/mlir/lite/python/tf_tfl_flatbuffer_helpers.cc:367] Ignored drop_control_dependency.\n",
      "2024-02-14 21:54:13.443785: I tensorflow/cc/saved_model/reader.cc:45] Reading SavedModel from: /tmp/sraj/tmpsxjeuhu6\n",
      "2024-02-14 21:54:13.444851: I tensorflow/cc/saved_model/reader.cc:91] Reading meta graph with tags { serve }\n",
      "2024-02-14 21:54:13.444872: I tensorflow/cc/saved_model/reader.cc:132] Reading SavedModel debug info (if present) from: /tmp/sraj/tmpsxjeuhu6\n",
      "2024-02-14 21:54:13.447841: I tensorflow/cc/saved_model/loader.cc:231] Restoring SavedModel bundle.\n",
      "2024-02-14 21:54:13.488121: I tensorflow/cc/saved_model/loader.cc:215] Running initialization op on SavedModel bundle at path: /tmp/sraj/tmpsxjeuhu6\n",
      "2024-02-14 21:54:13.499961: I tensorflow/cc/saved_model/loader.cc:314] SavedModel load for tags { serve }; Status: success: OK. Took 56174 microseconds.\n"
     ]
    }
   ],
   "source": [
    "# Load the trained model\n",
    "model = tf.keras.models.load_model('mnist_cnn_model.h5')\n",
    "\n",
    "# Convert the model to a TensorFlow Lite compatible format with dynamic range quantization\n",
    "converter = tf.lite.TFLiteConverter.from_keras_model(model)\n",
    "converter.optimizations = [tf.lite.Optimize.DEFAULT]\n",
    "converter.target_spec.supported_types = [tf.float16]\n",
    "tflite_model = converter.convert()"
   ]
  },
  {
   "cell_type": "code",
   "execution_count": 31,
   "id": "a6683e49",
   "metadata": {},
   "outputs": [],
   "source": [
    "# Save the quantized model\n",
    "with open('quantized_mnist_model_fp16.tflite', 'wb') as f:\n",
    "    f.write(tflite_model)\n"
   ]
  },
  {
   "cell_type": "code",
   "execution_count": 38,
   "id": "64fba754",
   "metadata": {},
   "outputs": [
    {
     "name": "stdout",
     "output_type": "stream",
     "text": [
      "total 2.5M\r\n",
      "-rw-r--r--. 1 sraj zh  745 Feb 14 19:04 INT8_quantization_Pytorch.ipynb\r\n",
      "-rw-r--r--. 1 sraj zh  21K Feb 14 22:00 INT8_quantization_Tf.ipynb\r\n",
      "-rw-r--r--. 1 sraj zh  68K Feb 14 21:37 load-pytorch.ipynb\r\n",
      "-rw-r--r--. 1 sraj zh 1.5M Feb 14 21:33 mnist_cnn_model.h5\r\n",
      "-rw-r--r--. 1 sraj zh 8.1K Feb 14 18:52 Quantization_understanding.ipynb\r\n",
      "-rw-r--r--. 1 sraj zh 127K Feb 14 21:51 quantized_mnist_model_dynamic.tflite\r\n",
      "-rw-r--r--. 1 sraj zh 243K Feb 14 21:54 quantized_mnist_model_fp16.tflite\r\n",
      "-rw-r--r--. 1 sraj zh 127K Feb 14 21:41 quantized_mnist_model.tflite\r\n",
      "-rw-r--r--. 1 sraj zh 480K Feb 14 21:59 unquantized_mnist_model.tflite\r\n"
     ]
    }
   ],
   "source": [
    "ls -lh"
   ]
  },
  {
   "cell_type": "markdown",
   "id": "c1c79609",
   "metadata": {},
   "source": [
    "Convert the unquantized model"
   ]
  },
  {
   "cell_type": "code",
   "execution_count": 36,
   "id": "0a48988c",
   "metadata": {},
   "outputs": [
    {
     "name": "stdout",
     "output_type": "stream",
     "text": [
      "INFO:tensorflow:Assets written to: /tmp/sraj/tmpum3qpyqe/assets\n"
     ]
    },
    {
     "name": "stderr",
     "output_type": "stream",
     "text": [
      "INFO:tensorflow:Assets written to: /tmp/sraj/tmpum3qpyqe/assets\n",
      "2024-02-14 21:58:57.368302: W tensorflow/compiler/mlir/lite/python/tf_tfl_flatbuffer_helpers.cc:364] Ignored output_format.\n",
      "2024-02-14 21:58:57.368417: W tensorflow/compiler/mlir/lite/python/tf_tfl_flatbuffer_helpers.cc:367] Ignored drop_control_dependency.\n",
      "2024-02-14 21:58:57.368626: I tensorflow/cc/saved_model/reader.cc:45] Reading SavedModel from: /tmp/sraj/tmpum3qpyqe\n",
      "2024-02-14 21:58:57.369673: I tensorflow/cc/saved_model/reader.cc:91] Reading meta graph with tags { serve }\n",
      "2024-02-14 21:58:57.369694: I tensorflow/cc/saved_model/reader.cc:132] Reading SavedModel debug info (if present) from: /tmp/sraj/tmpum3qpyqe\n",
      "2024-02-14 21:58:57.373588: I tensorflow/cc/saved_model/loader.cc:231] Restoring SavedModel bundle.\n",
      "2024-02-14 21:58:57.416144: I tensorflow/cc/saved_model/loader.cc:215] Running initialization op on SavedModel bundle at path: /tmp/sraj/tmpum3qpyqe\n",
      "2024-02-14 21:58:57.427755: I tensorflow/cc/saved_model/loader.cc:314] SavedModel load for tags { serve }; Status: success: OK. Took 59129 microseconds.\n"
     ]
    }
   ],
   "source": [
    "converter = tf.lite.TFLiteConverter.from_keras_model(model)\n",
    "tflite_model = converter.convert()"
   ]
  },
  {
   "cell_type": "code",
   "execution_count": 37,
   "id": "e6f14007",
   "metadata": {},
   "outputs": [],
   "source": [
    "with open('unquantized_mnist_model.tflite', 'wb') as f:\n",
    "    f.write(tflite_model)\n"
   ]
  },
  {
   "cell_type": "code",
   "execution_count": 39,
   "id": "9ddf3d42",
   "metadata": {},
   "outputs": [
    {
     "data": {
      "image/png": "[encoded data removed]",
      "text/plain": [
       "<Figure size 432x288 with 1 Axes>"
      ]
     },
     "metadata": {
      "needs_background": "light"
     },
     "output_type": "display_data"
    }
   ],
   "source": [
    "import matplotlib.pyplot as plt\n",
    "\n",
    "# Data for unquantized model\n",
    "unquantized_data = {\n",
    "    \"cpu w/ 4 threads (xnnpack)\": 25.8211,\n",
    "    \"cpu w/ 2 threads (xnnpack)\": 36.2405,\n",
    "    \"cpu w/ 1 threads (xnnpack)\": 64.7086,\n",
    "    \"cpu w/ 4 threads\": 84.4446,\n",
    "    \"cpu w/ 2 threads\": 94.5954,\n",
    "    \"cpu w/ 1 threads\": 108.926,\n",
    "    \"gpu-default\": 120.178\n",
    "}\n",
    "\n",
    "# Data for Fp16 quantization\n",
    "fp16_data = {\n",
    "    \"cpu w/ 4 threads (xnnpack)\": 28.3489,\n",
    "    \"cpu w/ 2 threads (xnnpack)\": 37.655,\n",
    "    \"cpu w/ 1 threads (xnnpack)\": 64.8064,\n",
    "    \"cpu w/ 4 threads\": 84.8022,\n",
    "    \"cpu w/ 2 threads\": 97.2019,\n",
    "    \"cpu w/ 1 threads\": 108.768,\n",
    "    \"gpu-default\": 109.432\n",
    "}\n",
    "\n",
    "# Data for Dynamic Range quantization\n",
    "dynamic_range_data = {\n",
    "    \"cpu w/ 4 threads (xnnpack)\": 75.4052,\n",
    "    \"cpu w/ 2 threads (xnnpack)\": 82.9918,\n",
    "    \"cpu w/ 1 threads (xnnpack)\": 130.894,\n",
    "    \"cpu w/ 4 threads\": 92.6607,\n",
    "    \"cpu w/ 2 threads\": 105.124,\n",
    "    \"cpu w/ 1 threads\": 150.422,\n",
    "    \"gpu-default\": 150.063\n",
    "}\n",
    "\n",
    "# Data for Int8 quantization\n",
    "int8_data = {\n",
    "    \"cpu w/ 4 threads (xnnpack)\": 37.4216,\n",
    "    \"cpu w/ 2 threads (xnnpack)\": 67.3639,\n",
    "    \"cpu w/ 1 threads (xnnpack)\": 107.24,\n",
    "    \"cpu w/ 4 threads\": 83.1904,\n",
    "    \"cpu w/ 2 threads\": 103.453,\n",
    "    \"cpu w/ 1 threads\": 161.806,\n",
    "    \"gpu-default\": 161.96\n",
    "}\n",
    "\n",
    "# Extract labels and values\n",
    "labels = list(unquantized_data.keys())\n",
    "unquantized_values = list(unquantized_data.values())\n",
    "fp16_values = list(fp16_data.values())\n",
    "dynamic_range_values = list(dynamic_range_data.values())\n",
    "int8_values = list(int8_data.values())\n",
    "\n",
    "# Set width of bars\n",
    "bar_width = 0.2\n",
    "\n",
    "# Set position of bar on X axis\n",
    "r1 = range(len(labels))\n",
    "r2 = [x + bar_width for x in r1]\n",
    "r3 = [x + bar_width for x in r2]\n",
    "r4 = [x + bar_width for x in r3]\n",
    "\n",
    "# Make the plot\n",
    "plt.bar(r1, unquantized_values, color='b', width=bar_width, edgecolor='grey', label='Unquantized')\n",
    "plt.bar(r2, fp16_values, color='r', width=bar_width, edgecolor='grey', label='Fp16')\n",
    "plt.bar(r3, dynamic_range_values, color='g', width=bar_width, edgecolor='grey', label='Dynamic Range')\n",
    "plt.bar(r4, int8_values, color='y', width=bar_width, edgecolor='grey', label='Int8')\n",
    "\n",
    "# Add xticks on the middle of the group bars\n",
    "plt.xlabel('Performance Options', fontweight='bold')\n",
    "plt.xticks([r + bar_width for r in range(len(labels))], labels, rotation=90)\n",
    "\n",
    "# Create legend & Show graphic\n",
    "plt.legend()\n",
    "plt.show()\n"
   ]
  },
  {
   "cell_type": "code",
   "execution_count": null,
   "id": "e1b3d539",
   "metadata": {},
   "outputs": [],
   "source": []
  },
  {
   "cell_type": "code",
   "execution_count": null,
   "id": "5662ab86",
   "metadata": {},
   "outputs": [],
   "source": []
  },
  {
   "cell_type": "code",
   "execution_count": null,
   "id": "2c79a8db",
   "metadata": {},
   "outputs": [],
   "source": []
  },
  {
   "cell_type": "code",
   "execution_count": null,
   "id": "ee083d6f",
   "metadata": {},
   "outputs": [],
   "source": []
  }
 ],
 "metadata": {
  "kernelspec": {
   "display_name": "Python 3 (ipykernel)",
   "language": "python",
   "name": "python3"
  },
  "language_info": {
   "codemirror_mode": {
    "name": "ipython",
    "version": 3
   },
   "file_extension": ".py",
   "mimetype": "text/x-python",
   "name": "python",
   "nbconvert_exporter": "python",
   "pygments_lexer": "ipython3",
   "version": "3.11.5"
  }
 },
 "nbformat": 4,
 "nbformat_minor": 5
}
