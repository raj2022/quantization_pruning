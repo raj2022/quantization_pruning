{
 "cells": [
  {
   "cell_type": "code",
   "execution_count": 1,
   "id": "ca66b787",
   "metadata": {},
   "outputs": [
    {
     "name": "stderr",
     "output_type": "stream",
     "text": [
      "2024-02-13 13:52:24.331200: E external/local_xla/xla/stream_executor/cuda/cuda_dnn.cc:9261] Unable to register cuDNN factory: Attempting to register factory for plugin cuDNN when one has already been registered\n",
      "2024-02-13 13:52:24.331268: E external/local_xla/xla/stream_executor/cuda/cuda_fft.cc:607] Unable to register cuFFT factory: Attempting to register factory for plugin cuFFT when one has already been registered\n",
      "2024-02-13 13:52:24.332809: E external/local_xla/xla/stream_executor/cuda/cuda_blas.cc:1515] Unable to register cuBLAS factory: Attempting to register factory for plugin cuBLAS when one has already been registered\n",
      "2024-02-13 13:52:24.341623: I tensorflow/core/platform/cpu_feature_guard.cc:182] This TensorFlow binary is optimized to use available CPU instructions in performance-critical operations.\n",
      "To enable the following instructions: AVX2 FMA, in other operations, rebuild TensorFlow with the appropriate compiler flags.\n",
      "2024-02-13 13:52:25.728013: W tensorflow/compiler/tf2tensorrt/utils/py_utils.cc:38] TF-TRT Warning: Could not find TensorRT\n"
     ]
    }
   ],
   "source": [
    "import torch\n",
    "import pickle as pkl\n",
    "import sys\n",
    "import numpy as np\n",
    "\n",
    "sys.path += [\"../mlpf\"]\n",
    "from pyg.mlpf import MLPF\n",
    "\n",
    "import onnxruntime\n",
    "import matplotlib.pyplot as plt\n",
    "\n",
    "import tensorflow as tf\n",
    "import tensorflow_datasets as tfds"
   ]
  },
  {
   "cell_type": "code",
   "execution_count": 2,
   "id": "43c37967",
   "metadata": {},
   "outputs": [],
   "source": [
    "loaddir = \"../experiments/pyg-cms_20240210_013116_879112/\"\n",
    "with open(f\"{loaddir}/model_kwargs.pkl\", \"rb\") as f:\n",
    "    model_kwargs = pkl.load(f)\n",
    "model_kwargs[\"attention_type\"] = \"flash\""
   ]
  },
  {
   "cell_type": "code",
   "execution_count": 3,
   "id": "d8faba39",
   "metadata": {},
   "outputs": [
    {
     "name": "stdout",
     "output_type": "stream",
     "text": [
      "3954966\n"
     ]
    }
   ],
   "source": [
    "model = MLPF(**model_kwargs)\n",
    "model_parameters = filter(lambda p: p.requires_grad, model.parameters())\n",
    "params = sum([np.prod(p.size()) for p in model_parameters])\n",
    "print(params)"
   ]
  },
  {
   "cell_type": "code",
   "execution_count": 4,
   "id": "655507dd",
   "metadata": {},
   "outputs": [
    {
     "data": {
      "text/plain": [
       "MLPF(\n",
       "  (nn0): Sequential(\n",
       "    (0): Linear(in_features=55, out_features=256, bias=True)\n",
       "    (1): ELU(alpha=1.0)\n",
       "    (2): LayerNorm((256,), eps=1e-05, elementwise_affine=True)\n",
       "    (3): Dropout(p=0.3, inplace=False)\n",
       "    (4): Linear(in_features=256, out_features=256, bias=True)\n",
       "  )\n",
       "  (conv_id): ModuleList(\n",
       "    (0-2): 3 x SelfAttentionLayer(\n",
       "      (mha): MultiheadAttention(\n",
       "        (out_proj): NonDynamicallyQuantizableLinear(in_features=256, out_features=256, bias=True)\n",
       "      )\n",
       "      (norm0): LayerNorm((256,), eps=1e-05, elementwise_affine=True)\n",
       "      (norm1): LayerNorm((256,), eps=1e-05, elementwise_affine=True)\n",
       "      (seq): Sequential(\n",
       "        (0): Linear(in_features=256, out_features=256, bias=True)\n",
       "        (1): ELU(alpha=1.0)\n",
       "        (2): Linear(in_features=256, out_features=256, bias=True)\n",
       "        (3): ELU(alpha=1.0)\n",
       "      )\n",
       "      (dropout): Dropout(p=0.3, inplace=False)\n",
       "      (add0): FloatFunctional(\n",
       "        (activation_post_process): Identity()\n",
       "      )\n",
       "      (add1): FloatFunctional(\n",
       "        (activation_post_process): Identity()\n",
       "      )\n",
       "      (mul): FloatFunctional(\n",
       "        (activation_post_process): Identity()\n",
       "      )\n",
       "    )\n",
       "  )\n",
       "  (conv_reg): ModuleList(\n",
       "    (0-2): 3 x SelfAttentionLayer(\n",
       "      (mha): MultiheadAttention(\n",
       "        (out_proj): NonDynamicallyQuantizableLinear(in_features=256, out_features=256, bias=True)\n",
       "      )\n",
       "      (norm0): LayerNorm((256,), eps=1e-05, elementwise_affine=True)\n",
       "      (norm1): LayerNorm((256,), eps=1e-05, elementwise_affine=True)\n",
       "      (seq): Sequential(\n",
       "        (0): Linear(in_features=256, out_features=256, bias=True)\n",
       "        (1): ELU(alpha=1.0)\n",
       "        (2): Linear(in_features=256, out_features=256, bias=True)\n",
       "        (3): ELU(alpha=1.0)\n",
       "      )\n",
       "      (dropout): Dropout(p=0.3, inplace=False)\n",
       "      (add0): FloatFunctional(\n",
       "        (activation_post_process): Identity()\n",
       "      )\n",
       "      (add1): FloatFunctional(\n",
       "        (activation_post_process): Identity()\n",
       "      )\n",
       "      (mul): FloatFunctional(\n",
       "        (activation_post_process): Identity()\n",
       "      )\n",
       "    )\n",
       "  )\n",
       "  (nn_id): Sequential(\n",
       "    (0): Linear(in_features=823, out_features=256, bias=True)\n",
       "    (1): ELU(alpha=1.0)\n",
       "    (2): LayerNorm((256,), eps=1e-05, elementwise_affine=True)\n",
       "    (3): Dropout(p=0.3, inplace=False)\n",
       "    (4): Linear(in_features=256, out_features=9, bias=True)\n",
       "  )\n",
       "  (nn_pt): RegressionOutput(\n",
       "    (add): FloatFunctional(\n",
       "      (activation_post_process): Identity()\n",
       "    )\n",
       "    (mul): FloatFunctional(\n",
       "      (activation_post_process): Identity()\n",
       "    )\n",
       "    (nn): Sequential(\n",
       "      (0): Linear(in_features=832, out_features=256, bias=True)\n",
       "      (1): ELU(alpha=1.0)\n",
       "      (2): LayerNorm((256,), eps=1e-05, elementwise_affine=True)\n",
       "      (3): Dropout(p=0.3, inplace=False)\n",
       "      (4): Linear(in_features=256, out_features=2, bias=True)\n",
       "    )\n",
       "  )\n",
       "  (nn_eta): RegressionOutput(\n",
       "    (add): FloatFunctional(\n",
       "      (activation_post_process): Identity()\n",
       "    )\n",
       "    (mul): FloatFunctional(\n",
       "      (activation_post_process): Identity()\n",
       "    )\n",
       "    (nn): Sequential(\n",
       "      (0): Linear(in_features=832, out_features=256, bias=True)\n",
       "      (1): ELU(alpha=1.0)\n",
       "      (2): LayerNorm((256,), eps=1e-05, elementwise_affine=True)\n",
       "      (3): Dropout(p=0.3, inplace=False)\n",
       "      (4): Linear(in_features=256, out_features=2, bias=True)\n",
       "    )\n",
       "  )\n",
       "  (nn_sin_phi): RegressionOutput(\n",
       "    (add): FloatFunctional(\n",
       "      (activation_post_process): Identity()\n",
       "    )\n",
       "    (mul): FloatFunctional(\n",
       "      (activation_post_process): Identity()\n",
       "    )\n",
       "    (nn): Sequential(\n",
       "      (0): Linear(in_features=832, out_features=256, bias=True)\n",
       "      (1): ELU(alpha=1.0)\n",
       "      (2): LayerNorm((256,), eps=1e-05, elementwise_affine=True)\n",
       "      (3): Dropout(p=0.3, inplace=False)\n",
       "      (4): Linear(in_features=256, out_features=2, bias=True)\n",
       "    )\n",
       "  )\n",
       "  (nn_cos_phi): RegressionOutput(\n",
       "    (add): FloatFunctional(\n",
       "      (activation_post_process): Identity()\n",
       "    )\n",
       "    (mul): FloatFunctional(\n",
       "      (activation_post_process): Identity()\n",
       "    )\n",
       "    (nn): Sequential(\n",
       "      (0): Linear(in_features=832, out_features=256, bias=True)\n",
       "      (1): ELU(alpha=1.0)\n",
       "      (2): LayerNorm((256,), eps=1e-05, elementwise_affine=True)\n",
       "      (3): Dropout(p=0.3, inplace=False)\n",
       "      (4): Linear(in_features=256, out_features=2, bias=True)\n",
       "    )\n",
       "  )\n",
       "  (nn_energy): RegressionOutput(\n",
       "    (add): FloatFunctional(\n",
       "      (activation_post_process): Identity()\n",
       "    )\n",
       "    (mul): FloatFunctional(\n",
       "      (activation_post_process): Identity()\n",
       "    )\n",
       "    (nn): Sequential(\n",
       "      (0): Linear(in_features=832, out_features=256, bias=True)\n",
       "      (1): ELU(alpha=1.0)\n",
       "      (2): LayerNorm((256,), eps=1e-05, elementwise_affine=True)\n",
       "      (3): Dropout(p=0.3, inplace=False)\n",
       "      (4): Linear(in_features=256, out_features=2, bias=True)\n",
       "    )\n",
       "  )\n",
       "  (nn_charge): Sequential(\n",
       "    (0): Linear(in_features=832, out_features=256, bias=True)\n",
       "    (1): ELU(alpha=1.0)\n",
       "    (2): LayerNorm((256,), eps=1e-05, elementwise_affine=True)\n",
       "    (3): Dropout(p=0.3, inplace=False)\n",
       "    (4): Linear(in_features=256, out_features=3, bias=True)\n",
       "  )\n",
       "  (quant): QuantStub()\n",
       "  (dequant1): DeQuantStub()\n",
       "  (dequant2): DeQuantStub()\n",
       "  (dequant3): DeQuantStub()\n",
       ")"
      ]
     },
     "execution_count": 4,
     "metadata": {},
     "output_type": "execute_result"
    }
   ],
   "source": [
    "checkpoint = torch.load(\"../experiments/pyg-cms_20240210_013116_879112/best_weights.pth\", map_location=torch.device('cpu'))\n",
    "model.load_state_dict(checkpoint[\"model_state_dict\"])\n",
    "model.eval()"
   ]
  },
  {
   "cell_type": "code",
   "execution_count": 59,
   "id": "36490bf2-ce2f-4013-917e-73d4724270fe",
   "metadata": {},
   "outputs": [],
   "source": [
    "weight_observer = torch.ao.quantization.HistogramObserver.with_args(dtype=torch.qint8, qscheme=torch.per_tensor_affine, \n",
    "                                                              quant_min=-127, quant_max=127)\n",
    "activation_observer = torch.ao.quantization.HistogramObserver.with_args(dtype=torch.qint8, qscheme=torch.per_tensor_affine, \n",
    "                                                              quant_min=-127, quant_max=127)\n",
    "dynamic_qconfig = torch.ao.quantization.QConfig(weight=weight_observer, activation=activation_observer)\n",
    "model.qconfig = dynamic_qconfig\n",
    "torch.backends.quantized.engine = 'x86'\n",
    "model_fp32_prepared = torch.ao.quantization.prepare(model)"
   ]
  },
  {
   "cell_type": "code",
   "execution_count": 60,
   "id": "c41ce3cb-4f1d-470d-9ebd-2a075516c8aa",
   "metadata": {},
   "outputs": [],
   "source": [
    "ds_builder = tfds.builder(\"cms_pf_ttbar\", data_dir = '/scratch/persistent/joosep/tensorflow_datasets/')\n",
    "dss = ds_builder.as_data_source(\"train\")"
   ]
  },
  {
   "cell_type": "code",
   "execution_count": 90,
   "id": "add611e5-64e8-4487-9b3a-996278fac98b",
   "metadata": {},
   "outputs": [],
   "source": [
    "arrs = []\n",
    "for i in range(1000):\n",
    "    arrs.append(dss[i][\"X\"])\n",
    "arrs = np.concatenate(arrs)"
   ]
  },
  {
   "cell_type": "code",
   "execution_count": 61,
   "id": "03c7a0f9",
   "metadata": {},
   "outputs": [
    {
     "name": "stdout",
     "output_type": "stream",
     "text": [
      "0 torch.Size([1, 3578, 55])\n",
      "1 torch.Size([1, 3700, 55])\n",
      "2 torch.Size([1, 3750, 55])\n",
      "3 torch.Size([1, 3979, 55])\n",
      "4 torch.Size([1, 3359, 55])\n",
      "5 torch.Size([1, 3900, 55])\n",
      "6 torch.Size([1, 4172, 55])\n",
      "7 torch.Size([1, 4575, 55])\n",
      "8 torch.Size([1, 3386, 55])\n",
      "9 torch.Size([1, 3591, 55])\n"
     ]
    }
   ],
   "source": [
    "for i in range(10):\n",
    "    data = torch.unsqueeze(torch.tensor(dss[i][\"X\"]), axis=0)\n",
    "    print(i, data.shape)\n",
    "    batch  = torch.ones((data.shape[0], data.shape[1]), dtype=torch.bool)\n",
    "    model_fp32_prepared(data, batch)"
   ]
  },
  {
   "cell_type": "code",
   "execution_count": 62,
   "id": "d7dcf65c-253a-499a-bf24-777706cdb480",
   "metadata": {},
   "outputs": [
    {
     "data": {
      "text/plain": [
       "Linear(\n",
       "  in_features=55, out_features=256, bias=True\n",
       "  (activation_post_process): HistogramObserver(min_val=-908.0415649414062, max_val=565.940185546875)\n",
       ")"
      ]
     },
     "execution_count": 62,
     "metadata": {},
     "output_type": "execute_result"
    }
   ],
   "source": [
    "model_fp32_prepared.nn0[0]"
   ]
  },
  {
   "cell_type": "code",
   "execution_count": 63,
   "id": "9b0f1330",
   "metadata": {},
   "outputs": [
    {
     "name": "stderr",
     "output_type": "stream",
     "text": [
      "/opt/conda/lib/python3.10/site-packages/torch/ao/quantization/observer.py:1263: UserWarning: must run observer before calling calculate_qparams.                                    Returning default scale and zero point \n",
      "  warnings.warn(\n"
     ]
    }
   ],
   "source": [
    "model_int8 = torch.ao.quantization.convert(model_fp32_prepared)"
   ]
  },
  {
   "cell_type": "code",
   "execution_count": 66,
   "id": "58e8a7a0-f0e4-443e-8dd8-63d32300dc7e",
   "metadata": {},
   "outputs": [],
   "source": [
    "batch_quantized = torch.quantize_per_tensor(batch.to(dtype=torch.float), 1, 0, torch.qint8)\n",
    "data_quantized = model_int8.quant(data)"
   ]
  },
  {
   "cell_type": "code",
   "execution_count": 67,
   "id": "f6a4e6c4-f089-47d5-8a0a-b231134eb598",
   "metadata": {},
   "outputs": [
    {
     "ename": "RuntimeError",
     "evalue": "Expected input data type QUInt8 but got QInt8",
     "output_type": "error",
     "traceback": [
      "\u001b[0;31m---------------------------------------------------------------------------\u001b[0m",
      "\u001b[0;31mRuntimeError\u001b[0m                              Traceback (most recent call last)",
      "Cell \u001b[0;32mIn[67], line 3\u001b[0m\n\u001b[1;32m      1\u001b[0m plt\u001b[38;5;241m.\u001b[39mscatter(\n\u001b[1;32m      2\u001b[0m     model(data, batch)[\u001b[38;5;241m1\u001b[39m][:, :, \u001b[38;5;241m0\u001b[39m]\u001b[38;5;241m.\u001b[39mdetach()\u001b[38;5;241m.\u001b[39mnumpy(),\n\u001b[0;32m----> 3\u001b[0m     \u001b[43mmodel_int8\u001b[49m\u001b[43m(\u001b[49m\u001b[43mdata\u001b[49m\u001b[43m,\u001b[49m\u001b[43m \u001b[49m\u001b[43mbatch_quantized\u001b[49m\u001b[43m)\u001b[49m[\u001b[38;5;241m1\u001b[39m][:, :, \u001b[38;5;241m0\u001b[39m]\u001b[38;5;241m.\u001b[39mdetach()\u001b[38;5;241m.\u001b[39mnumpy()\n\u001b[1;32m      4\u001b[0m )\n",
      "File \u001b[0;32m/opt/conda/lib/python3.10/site-packages/torch/nn/modules/module.py:1511\u001b[0m, in \u001b[0;36mModule._wrapped_call_impl\u001b[0;34m(self, *args, **kwargs)\u001b[0m\n\u001b[1;32m   1509\u001b[0m     \u001b[38;5;28;01mreturn\u001b[39;00m \u001b[38;5;28mself\u001b[39m\u001b[38;5;241m.\u001b[39m_compiled_call_impl(\u001b[38;5;241m*\u001b[39margs, \u001b[38;5;241m*\u001b[39m\u001b[38;5;241m*\u001b[39mkwargs)  \u001b[38;5;66;03m# type: ignore[misc]\u001b[39;00m\n\u001b[1;32m   1510\u001b[0m \u001b[38;5;28;01melse\u001b[39;00m:\n\u001b[0;32m-> 1511\u001b[0m     \u001b[38;5;28;01mreturn\u001b[39;00m \u001b[38;5;28;43mself\u001b[39;49m\u001b[38;5;241;43m.\u001b[39;49m\u001b[43m_call_impl\u001b[49m\u001b[43m(\u001b[49m\u001b[38;5;241;43m*\u001b[39;49m\u001b[43margs\u001b[49m\u001b[43m,\u001b[49m\u001b[43m \u001b[49m\u001b[38;5;241;43m*\u001b[39;49m\u001b[38;5;241;43m*\u001b[39;49m\u001b[43mkwargs\u001b[49m\u001b[43m)\u001b[49m\n",
      "File \u001b[0;32m/opt/conda/lib/python3.10/site-packages/torch/nn/modules/module.py:1520\u001b[0m, in \u001b[0;36mModule._call_impl\u001b[0;34m(self, *args, **kwargs)\u001b[0m\n\u001b[1;32m   1515\u001b[0m \u001b[38;5;66;03m# If we don't have any hooks, we want to skip the rest of the logic in\u001b[39;00m\n\u001b[1;32m   1516\u001b[0m \u001b[38;5;66;03m# this function, and just call forward.\u001b[39;00m\n\u001b[1;32m   1517\u001b[0m \u001b[38;5;28;01mif\u001b[39;00m \u001b[38;5;129;01mnot\u001b[39;00m (\u001b[38;5;28mself\u001b[39m\u001b[38;5;241m.\u001b[39m_backward_hooks \u001b[38;5;129;01mor\u001b[39;00m \u001b[38;5;28mself\u001b[39m\u001b[38;5;241m.\u001b[39m_backward_pre_hooks \u001b[38;5;129;01mor\u001b[39;00m \u001b[38;5;28mself\u001b[39m\u001b[38;5;241m.\u001b[39m_forward_hooks \u001b[38;5;129;01mor\u001b[39;00m \u001b[38;5;28mself\u001b[39m\u001b[38;5;241m.\u001b[39m_forward_pre_hooks\n\u001b[1;32m   1518\u001b[0m         \u001b[38;5;129;01mor\u001b[39;00m _global_backward_pre_hooks \u001b[38;5;129;01mor\u001b[39;00m _global_backward_hooks\n\u001b[1;32m   1519\u001b[0m         \u001b[38;5;129;01mor\u001b[39;00m _global_forward_hooks \u001b[38;5;129;01mor\u001b[39;00m _global_forward_pre_hooks):\n\u001b[0;32m-> 1520\u001b[0m     \u001b[38;5;28;01mreturn\u001b[39;00m \u001b[43mforward_call\u001b[49m\u001b[43m(\u001b[49m\u001b[38;5;241;43m*\u001b[39;49m\u001b[43margs\u001b[49m\u001b[43m,\u001b[49m\u001b[43m \u001b[49m\u001b[38;5;241;43m*\u001b[39;49m\u001b[38;5;241;43m*\u001b[39;49m\u001b[43mkwargs\u001b[49m\u001b[43m)\u001b[49m\n\u001b[1;32m   1522\u001b[0m \u001b[38;5;28;01mtry\u001b[39;00m:\n\u001b[1;32m   1523\u001b[0m     result \u001b[38;5;241m=\u001b[39m \u001b[38;5;28;01mNone\u001b[39;00m\n",
      "File \u001b[0;32m~/particleflow/notebooks/../mlpf/pyg/mlpf.py:249\u001b[0m, in \u001b[0;36mMLPF.forward\u001b[0;34m(self, X_features, batch_or_mask)\u001b[0m\n\u001b[1;32m    247\u001b[0m embeddings_id, embeddings_reg \u001b[38;5;241m=\u001b[39m [], []\n\u001b[1;32m    248\u001b[0m \u001b[38;5;28;01mif\u001b[39;00m \u001b[38;5;28mself\u001b[39m\u001b[38;5;241m.\u001b[39mnum_convs \u001b[38;5;241m!=\u001b[39m \u001b[38;5;241m0\u001b[39m:\n\u001b[0;32m--> 249\u001b[0m     embedding \u001b[38;5;241m=\u001b[39m \u001b[38;5;28;43mself\u001b[39;49m\u001b[38;5;241;43m.\u001b[39;49m\u001b[43mnn0\u001b[49m\u001b[43m(\u001b[49m\u001b[43mX_features\u001b[49m\u001b[43m)\u001b[49m\n\u001b[1;32m    250\u001b[0m     \u001b[38;5;28;01mif\u001b[39;00m \u001b[38;5;28mself\u001b[39m\u001b[38;5;241m.\u001b[39mconv_type \u001b[38;5;241m==\u001b[39m \u001b[38;5;124m\"\u001b[39m\u001b[38;5;124mgravnet\u001b[39m\u001b[38;5;124m\"\u001b[39m:\n\u001b[1;32m    251\u001b[0m         batch_idx \u001b[38;5;241m=\u001b[39m batch_or_mask\n",
      "File \u001b[0;32m/opt/conda/lib/python3.10/site-packages/torch/nn/modules/module.py:1511\u001b[0m, in \u001b[0;36mModule._wrapped_call_impl\u001b[0;34m(self, *args, **kwargs)\u001b[0m\n\u001b[1;32m   1509\u001b[0m     \u001b[38;5;28;01mreturn\u001b[39;00m \u001b[38;5;28mself\u001b[39m\u001b[38;5;241m.\u001b[39m_compiled_call_impl(\u001b[38;5;241m*\u001b[39margs, \u001b[38;5;241m*\u001b[39m\u001b[38;5;241m*\u001b[39mkwargs)  \u001b[38;5;66;03m# type: ignore[misc]\u001b[39;00m\n\u001b[1;32m   1510\u001b[0m \u001b[38;5;28;01melse\u001b[39;00m:\n\u001b[0;32m-> 1511\u001b[0m     \u001b[38;5;28;01mreturn\u001b[39;00m \u001b[38;5;28;43mself\u001b[39;49m\u001b[38;5;241;43m.\u001b[39;49m\u001b[43m_call_impl\u001b[49m\u001b[43m(\u001b[49m\u001b[38;5;241;43m*\u001b[39;49m\u001b[43margs\u001b[49m\u001b[43m,\u001b[49m\u001b[43m \u001b[49m\u001b[38;5;241;43m*\u001b[39;49m\u001b[38;5;241;43m*\u001b[39;49m\u001b[43mkwargs\u001b[49m\u001b[43m)\u001b[49m\n",
      "File \u001b[0;32m/opt/conda/lib/python3.10/site-packages/torch/nn/modules/module.py:1520\u001b[0m, in \u001b[0;36mModule._call_impl\u001b[0;34m(self, *args, **kwargs)\u001b[0m\n\u001b[1;32m   1515\u001b[0m \u001b[38;5;66;03m# If we don't have any hooks, we want to skip the rest of the logic in\u001b[39;00m\n\u001b[1;32m   1516\u001b[0m \u001b[38;5;66;03m# this function, and just call forward.\u001b[39;00m\n\u001b[1;32m   1517\u001b[0m \u001b[38;5;28;01mif\u001b[39;00m \u001b[38;5;129;01mnot\u001b[39;00m (\u001b[38;5;28mself\u001b[39m\u001b[38;5;241m.\u001b[39m_backward_hooks \u001b[38;5;129;01mor\u001b[39;00m \u001b[38;5;28mself\u001b[39m\u001b[38;5;241m.\u001b[39m_backward_pre_hooks \u001b[38;5;129;01mor\u001b[39;00m \u001b[38;5;28mself\u001b[39m\u001b[38;5;241m.\u001b[39m_forward_hooks \u001b[38;5;129;01mor\u001b[39;00m \u001b[38;5;28mself\u001b[39m\u001b[38;5;241m.\u001b[39m_forward_pre_hooks\n\u001b[1;32m   1518\u001b[0m         \u001b[38;5;129;01mor\u001b[39;00m _global_backward_pre_hooks \u001b[38;5;129;01mor\u001b[39;00m _global_backward_hooks\n\u001b[1;32m   1519\u001b[0m         \u001b[38;5;129;01mor\u001b[39;00m _global_forward_hooks \u001b[38;5;129;01mor\u001b[39;00m _global_forward_pre_hooks):\n\u001b[0;32m-> 1520\u001b[0m     \u001b[38;5;28;01mreturn\u001b[39;00m \u001b[43mforward_call\u001b[49m\u001b[43m(\u001b[49m\u001b[38;5;241;43m*\u001b[39;49m\u001b[43margs\u001b[49m\u001b[43m,\u001b[49m\u001b[43m \u001b[49m\u001b[38;5;241;43m*\u001b[39;49m\u001b[38;5;241;43m*\u001b[39;49m\u001b[43mkwargs\u001b[49m\u001b[43m)\u001b[49m\n\u001b[1;32m   1522\u001b[0m \u001b[38;5;28;01mtry\u001b[39;00m:\n\u001b[1;32m   1523\u001b[0m     result \u001b[38;5;241m=\u001b[39m \u001b[38;5;28;01mNone\u001b[39;00m\n",
      "File \u001b[0;32m/opt/conda/lib/python3.10/site-packages/torch/nn/modules/container.py:217\u001b[0m, in \u001b[0;36mSequential.forward\u001b[0;34m(self, input)\u001b[0m\n\u001b[1;32m    215\u001b[0m \u001b[38;5;28;01mdef\u001b[39;00m \u001b[38;5;21mforward\u001b[39m(\u001b[38;5;28mself\u001b[39m, \u001b[38;5;28minput\u001b[39m):\n\u001b[1;32m    216\u001b[0m     \u001b[38;5;28;01mfor\u001b[39;00m module \u001b[38;5;129;01min\u001b[39;00m \u001b[38;5;28mself\u001b[39m:\n\u001b[0;32m--> 217\u001b[0m         \u001b[38;5;28minput\u001b[39m \u001b[38;5;241m=\u001b[39m \u001b[43mmodule\u001b[49m\u001b[43m(\u001b[49m\u001b[38;5;28;43minput\u001b[39;49m\u001b[43m)\u001b[49m\n\u001b[1;32m    218\u001b[0m     \u001b[38;5;28;01mreturn\u001b[39;00m \u001b[38;5;28minput\u001b[39m\n",
      "File \u001b[0;32m/opt/conda/lib/python3.10/site-packages/torch/nn/modules/module.py:1511\u001b[0m, in \u001b[0;36mModule._wrapped_call_impl\u001b[0;34m(self, *args, **kwargs)\u001b[0m\n\u001b[1;32m   1509\u001b[0m     \u001b[38;5;28;01mreturn\u001b[39;00m \u001b[38;5;28mself\u001b[39m\u001b[38;5;241m.\u001b[39m_compiled_call_impl(\u001b[38;5;241m*\u001b[39margs, \u001b[38;5;241m*\u001b[39m\u001b[38;5;241m*\u001b[39mkwargs)  \u001b[38;5;66;03m# type: ignore[misc]\u001b[39;00m\n\u001b[1;32m   1510\u001b[0m \u001b[38;5;28;01melse\u001b[39;00m:\n\u001b[0;32m-> 1511\u001b[0m     \u001b[38;5;28;01mreturn\u001b[39;00m \u001b[38;5;28;43mself\u001b[39;49m\u001b[38;5;241;43m.\u001b[39;49m\u001b[43m_call_impl\u001b[49m\u001b[43m(\u001b[49m\u001b[38;5;241;43m*\u001b[39;49m\u001b[43margs\u001b[49m\u001b[43m,\u001b[49m\u001b[43m \u001b[49m\u001b[38;5;241;43m*\u001b[39;49m\u001b[38;5;241;43m*\u001b[39;49m\u001b[43mkwargs\u001b[49m\u001b[43m)\u001b[49m\n",
      "File \u001b[0;32m/opt/conda/lib/python3.10/site-packages/torch/nn/modules/module.py:1520\u001b[0m, in \u001b[0;36mModule._call_impl\u001b[0;34m(self, *args, **kwargs)\u001b[0m\n\u001b[1;32m   1515\u001b[0m \u001b[38;5;66;03m# If we don't have any hooks, we want to skip the rest of the logic in\u001b[39;00m\n\u001b[1;32m   1516\u001b[0m \u001b[38;5;66;03m# this function, and just call forward.\u001b[39;00m\n\u001b[1;32m   1517\u001b[0m \u001b[38;5;28;01mif\u001b[39;00m \u001b[38;5;129;01mnot\u001b[39;00m (\u001b[38;5;28mself\u001b[39m\u001b[38;5;241m.\u001b[39m_backward_hooks \u001b[38;5;129;01mor\u001b[39;00m \u001b[38;5;28mself\u001b[39m\u001b[38;5;241m.\u001b[39m_backward_pre_hooks \u001b[38;5;129;01mor\u001b[39;00m \u001b[38;5;28mself\u001b[39m\u001b[38;5;241m.\u001b[39m_forward_hooks \u001b[38;5;129;01mor\u001b[39;00m \u001b[38;5;28mself\u001b[39m\u001b[38;5;241m.\u001b[39m_forward_pre_hooks\n\u001b[1;32m   1518\u001b[0m         \u001b[38;5;129;01mor\u001b[39;00m _global_backward_pre_hooks \u001b[38;5;129;01mor\u001b[39;00m _global_backward_hooks\n\u001b[1;32m   1519\u001b[0m         \u001b[38;5;129;01mor\u001b[39;00m _global_forward_hooks \u001b[38;5;129;01mor\u001b[39;00m _global_forward_pre_hooks):\n\u001b[0;32m-> 1520\u001b[0m     \u001b[38;5;28;01mreturn\u001b[39;00m \u001b[43mforward_call\u001b[49m\u001b[43m(\u001b[49m\u001b[38;5;241;43m*\u001b[39;49m\u001b[43margs\u001b[49m\u001b[43m,\u001b[49m\u001b[43m \u001b[49m\u001b[38;5;241;43m*\u001b[39;49m\u001b[38;5;241;43m*\u001b[39;49m\u001b[43mkwargs\u001b[49m\u001b[43m)\u001b[49m\n\u001b[1;32m   1522\u001b[0m \u001b[38;5;28;01mtry\u001b[39;00m:\n\u001b[1;32m   1523\u001b[0m     result \u001b[38;5;241m=\u001b[39m \u001b[38;5;28;01mNone\u001b[39;00m\n",
      "File \u001b[0;32m/opt/conda/lib/python3.10/site-packages/torch/ao/nn/quantized/modules/linear.py:168\u001b[0m, in \u001b[0;36mLinear.forward\u001b[0;34m(self, x)\u001b[0m\n\u001b[1;32m    167\u001b[0m \u001b[38;5;28;01mdef\u001b[39;00m \u001b[38;5;21mforward\u001b[39m(\u001b[38;5;28mself\u001b[39m, x: torch\u001b[38;5;241m.\u001b[39mTensor) \u001b[38;5;241m-\u001b[39m\u001b[38;5;241m>\u001b[39m torch\u001b[38;5;241m.\u001b[39mTensor:\n\u001b[0;32m--> 168\u001b[0m     \u001b[38;5;28;01mreturn\u001b[39;00m \u001b[43mtorch\u001b[49m\u001b[38;5;241;43m.\u001b[39;49m\u001b[43mops\u001b[49m\u001b[38;5;241;43m.\u001b[39;49m\u001b[43mquantized\u001b[49m\u001b[38;5;241;43m.\u001b[39;49m\u001b[43mlinear\u001b[49m\u001b[43m(\u001b[49m\n\u001b[1;32m    169\u001b[0m \u001b[43m        \u001b[49m\u001b[43mx\u001b[49m\u001b[43m,\u001b[49m\u001b[43m \u001b[49m\u001b[38;5;28;43mself\u001b[39;49m\u001b[38;5;241;43m.\u001b[39;49m\u001b[43m_packed_params\u001b[49m\u001b[38;5;241;43m.\u001b[39;49m\u001b[43m_packed_params\u001b[49m\u001b[43m,\u001b[49m\u001b[43m \u001b[49m\u001b[38;5;28;43mself\u001b[39;49m\u001b[38;5;241;43m.\u001b[39;49m\u001b[43mscale\u001b[49m\u001b[43m,\u001b[49m\u001b[43m \u001b[49m\u001b[38;5;28;43mself\u001b[39;49m\u001b[38;5;241;43m.\u001b[39;49m\u001b[43mzero_point\u001b[49m\u001b[43m)\u001b[49m\n",
      "File \u001b[0;32m/opt/conda/lib/python3.10/site-packages/torch/_ops.py:755\u001b[0m, in \u001b[0;36mOpOverloadPacket.__call__\u001b[0;34m(self, *args, **kwargs)\u001b[0m\n\u001b[1;32m    750\u001b[0m \u001b[38;5;28;01mdef\u001b[39;00m \u001b[38;5;21m__call__\u001b[39m(\u001b[38;5;28mself\u001b[39m, \u001b[38;5;241m*\u001b[39margs, \u001b[38;5;241m*\u001b[39m\u001b[38;5;241m*\u001b[39mkwargs):\n\u001b[1;32m    751\u001b[0m     \u001b[38;5;66;03m# overloading __call__ to ensure torch.ops.foo.bar()\u001b[39;00m\n\u001b[1;32m    752\u001b[0m     \u001b[38;5;66;03m# is still callable from JIT\u001b[39;00m\n\u001b[1;32m    753\u001b[0m     \u001b[38;5;66;03m# We save the function ptr as the `op` attribute on\u001b[39;00m\n\u001b[1;32m    754\u001b[0m     \u001b[38;5;66;03m# OpOverloadPacket to access it here.\u001b[39;00m\n\u001b[0;32m--> 755\u001b[0m     \u001b[38;5;28;01mreturn\u001b[39;00m \u001b[38;5;28;43mself\u001b[39;49m\u001b[38;5;241;43m.\u001b[39;49m\u001b[43m_op\u001b[49m\u001b[43m(\u001b[49m\u001b[38;5;241;43m*\u001b[39;49m\u001b[43margs\u001b[49m\u001b[43m,\u001b[49m\u001b[43m \u001b[49m\u001b[38;5;241;43m*\u001b[39;49m\u001b[38;5;241;43m*\u001b[39;49m\u001b[43m(\u001b[49m\u001b[43mkwargs\u001b[49m\u001b[43m \u001b[49m\u001b[38;5;129;43;01mor\u001b[39;49;00m\u001b[43m \u001b[49m\u001b[43m{\u001b[49m\u001b[43m}\u001b[49m\u001b[43m)\u001b[49m\u001b[43m)\u001b[49m\n",
      "\u001b[0;31mRuntimeError\u001b[0m: Expected input data type QUInt8 but got QInt8"
     ]
    }
   ],
   "source": [
    "plt.scatter(\n",
    "    model(data, batch)[1][:, :, 0].detach().numpy(),\n",
    "    model_int8(data, batch_quantized)[1][:, :, 0].detach().numpy()\n",
    ")"
   ]
  },
  {
   "cell_type": "code",
   "execution_count": 11,
   "id": "bd3e95cd",
   "metadata": {},
   "outputs": [],
   "source": [
    "# model(data, batch)\n",
    "# export_options = torch.onnx.ExportOptions(dynamic_shapes=True)\n",
    "# onnx_program = torch.onnx.dynamo_export(model, data, batch, export_options=export_options)\n",
    "# onnx_program.save(\"transformer.onnx\")\n",
    "\n",
    "# sess_options = onnxruntime.SessionOptions()\n",
    "# sess_options.graph_optimization_level = onnxruntime.GraphOptimizationLevel.ORT_ENABLE_ALL\n",
    "\n",
    "# onnx_sess = onnxruntime.InferenceSession(\"transformer.onnx\", sess_options=sess_options, providers=[\"CPUExecutionProvider\"])\n",
    "# out = onnx_sess.run(None, {\"l_x_features_\": data2.numpy(), \"mask\": batch2.numpy()})"
   ]
  },
  {
   "cell_type": "code",
   "execution_count": 168,
   "id": "e5efc7ed-47c1-4b6e-8f87-5d9c2f052171",
   "metadata": {},
   "outputs": [],
   "source": [
    "class AE(torch.nn.Module):\n",
    "    def __init__(self):\n",
    "        super().__init__()\n",
    "        \n",
    "        self.encoder = torch.nn.Sequential(\n",
    "            torch.nn.Linear(55, 256),\n",
    "            torch.nn.ELU(),\n",
    "            torch.nn.Linear(256, 512),\n",
    "            torch.nn.ELU(),\n",
    "            torch.nn.Linear(512, 2048)\n",
    "        )\n",
    "         \n",
    "        # Building an linear decoder with Linear\n",
    "        # layer followed by Relu activation function\n",
    "        # The Sigmoid activation function\n",
    "        # outputs the value between 0 and 1\n",
    "        # 9 ==> 784\n",
    "        self.decoder = torch.nn.Sequential(\n",
    "            torch.nn.Linear(2048, 512),\n",
    "            torch.nn.ELU(),\n",
    "            torch.nn.Linear(512, 256),\n",
    "            torch.nn.ELU(),\n",
    "            torch.nn.Linear(256, 55),\n",
    "        )\n",
    " \n",
    "    def forward(self, x):\n",
    "        encoded = self.encoder(x)\n",
    "        decoded = self.decoder(encoded)\n",
    "        return decoded"
   ]
  },
  {
   "cell_type": "code",
   "execution_count": 169,
   "id": "5538cc33-57da-4a97-800e-b1aa7ddbcc6c",
   "metadata": {},
   "outputs": [],
   "source": [
    "model = AE()\n",
    "model.train()\n",
    " \n",
    "# Using an Adam Optimizer with lr = 0.1\n",
    "optimizer = torch.optim.Adam(\n",
    "    model.parameters(),\n",
    "    lr = 1e-5\n",
    ")"
   ]
  },
  {
   "cell_type": "code",
   "execution_count": 170,
   "id": "d5a7b72e-ddfa-4cd5-84f3-17c80337e96d",
   "metadata": {},
   "outputs": [
    {
     "name": "stdout",
     "output_type": "stream",
     "text": [
      "0 88.26418518727422\n",
      "1 17.540176194311677\n",
      "2 12.13200537403673\n",
      "3 6.9554963936984535\n",
      "4 4.653642993283272\n",
      "5 3.6164099189937113\n",
      "6 2.9987788682475687\n",
      "7 2.681734647089243\n",
      "8 2.347468012714386\n",
      "9 2.4161999052226544\n",
      "10 2.0002506992578506\n",
      "11 1.8191444613546133\n",
      "12 2.299649054895341\n",
      "13 2.181335497085005\n",
      "14 2.1209556744746862\n",
      "15 1.950788396485895\n",
      "16 1.929884956792742\n",
      "17 2.0637831831380726\n",
      "18 1.5014379033975302\n",
      "19 1.9883390856795014\n"
     ]
    }
   ],
   "source": [
    "epochs = 20\n",
    "outputs = []\n",
    "losses = []\n",
    "for epoch in range(epochs):\n",
    "    losses = []\n",
    "    for data in arrs[:10000]:\n",
    "        data = torch.unsqueeze(torch.tensor(data), 0)\n",
    "        # Output of Autoencoder\n",
    "        reconstructed = model(data)\n",
    "        loss = torch.nn.functional.mse_loss(reconstructed, data) + 1e-7*torch.sum((reconstructed - 128)**2)\n",
    "\n",
    "        optimizer.zero_grad()\n",
    "        loss.backward()\n",
    "        optimizer.step()\n",
    "        losses.append(loss.detach().cpu().item())\n",
    "    print(epoch, np.mean(losses))"
   ]
  },
  {
   "cell_type": "code",
   "execution_count": 173,
   "id": "95f31e82-2ff0-48dc-8718-10b1009e9b57",
   "metadata": {},
   "outputs": [
    {
     "data": {
      "image/png": "[encoded data removed]",
      "text/plain": [
       "<Figure size 640x480 with 1 Axes>"
      ]
     },
     "metadata": {},
     "output_type": "display_data"
    }
   ],
   "source": [
    "plt.hist(model.encoder(torch.tensor(arrs[:1000])).flatten().detach(), bins=100)\n",
    "plt.yscale(\"log\")"
   ]
  },
  {
   "cell_type": "code",
   "execution_count": 174,
   "id": "5b5d7168-d5be-42b4-928d-d6dc88f616cd",
   "metadata": {},
   "outputs": [
    {
     "data": {
      "text/plain": [
       "<matplotlib.collections.PathCollection at 0x7f394eee4400>"
      ]
     },
     "execution_count": 174,
     "metadata": {},
     "output_type": "execute_result"
    },
    {
     "data": {
      "image/png": "[encoded data removed]",
      "text/plain": [
       "<Figure size 640x480 with 1 Axes>"
      ]
     },
     "metadata": {},
     "output_type": "display_data"
    }
   ],
   "source": [
    "plt.scatter(model(torch.tensor(arrs[:1000])).detach().numpy()[:, 1], arrs[:1000][:, 1])\n",
    "plt.scatter(model(torch.tensor(arrs[10000:11000])).detach().numpy()[:, 1], arrs[10000:11000][:, 1])"
   ]
  },
  {
   "cell_type": "code",
   "execution_count": null,
   "id": "91870f11-f529-416c-a320-d8cbe95840aa",
   "metadata": {},
   "outputs": [],
   "source": []
  }
 ],
 "metadata": {
  "kernelspec": {
   "display_name": "Python 3 (ipykernel)",
   "language": "python",
   "name": "python3"
  },
  "language_info": {
   "codemirror_mode": {
    "name": "ipython",
    "version": 3
   },
   "file_extension": ".py",
   "mimetype": "text/x-python",
   "name": "python",
   "nbconvert_exporter": "python",
   "pygments_lexer": "ipython3",
   "version": "3.10.13"
  }
 },
 "nbformat": 4,
 "nbformat_minor": 5
}
