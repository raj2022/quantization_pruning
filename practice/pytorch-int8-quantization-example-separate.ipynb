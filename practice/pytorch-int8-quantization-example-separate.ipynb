{
 "cells": [
  {
   "cell_type": "code",
   "execution_count": 8,
   "id": "49fddec7-8376-41c4-b9c7-1992ce035194",
   "metadata": {},
   "outputs": [],
   "source": [
    "import matplotlib.pyplot as plt"
   ]
  },
  {
   "cell_type": "code",
   "execution_count": 9,
   "id": "e6e70421",
   "metadata": {},
   "outputs": [],
   "source": [
    "data= datasets.load_wine()"
   ]
  },
  {
   "cell_type": "code",
   "execution_count": null,
   "id": "b47d6517",
   "metadata": {},
   "outputs": [],
   "source": []
  },
  {
   "cell_type": "code",
   "execution_count": 13,
   "id": "ce0704cd-2ec7-466e-9d2c-e8fad94c3985",
   "metadata": {},
   "outputs": [],
   "source": [
    "from sklearn import datasets\n",
    "data = datasets.load_diabetes()\n",
    "\n",
    "features_in_different_scale = True\n",
    "\n",
    "if features_in_different_scale:\n",
    "    data[\"data\"][:, 0] = 100*data[\"data\"][:, 0]\n",
    "    data[\"data\"][:, 1] = 10*data[\"data\"][:, 1]\n",
    "    data[\"data\"][:, 2] = 0.01*data[\"data\"][:, 2]\n",
    "    data[\"data\"][:, 3] = 10000*data[\"data\"][:, 3]\n"
   ]
  },
  {
   "cell_type": "code",
   "execution_count": 14,
   "id": "8989da3c-7db1-494d-8dd6-a0d39fe18360",
   "metadata": {},
   "outputs": [
    {
     "data": {
      "image/png": "[encoded data removed]",
      "text/plain": [
       "<Figure size 432x288 with 1 Axes>"
      ]
     },
     "metadata": {
      "needs_background": "light"
     },
     "output_type": "display_data"
    }
   ],
   "source": [
    "plt.hist(data[\"data\"][:, 0], bins=21);"
   ]
  },
  {
   "cell_type": "code",
   "execution_count": 15,
   "id": "5c623393-b095-4723-a602-4245f3e1620c",
   "metadata": {},
   "outputs": [
    {
     "data": {
      "image/png": "[encoded data removed]",
      "text/plain": [
       "<Figure size 432x288 with 1 Axes>"
      ]
     },
     "metadata": {
      "needs_background": "light"
     },
     "output_type": "display_data"
    }
   ],
   "source": [
    "plt.hist(data[\"data\"][:, 1], bins=21);"
   ]
  },
  {
   "cell_type": "code",
   "execution_count": 16,
   "id": "bd374cda-cde8-4375-9271-3ce3974d352e",
   "metadata": {},
   "outputs": [
    {
     "data": {
      "image/png": "[encoded data removed]",
      "text/plain": [
       "<Figure size 432x288 with 1 Axes>"
      ]
     },
     "metadata": {
      "needs_background": "light"
     },
     "output_type": "display_data"
    }
   ],
   "source": [
    "plt.hist(data[\"data\"][:, 2], bins=21);"
   ]
  },
  {
   "cell_type": "code",
   "execution_count": 17,
   "id": "85ff2ecd-0795-4e49-8239-0265308bbf85",
   "metadata": {},
   "outputs": [
    {
     "data": {
      "image/png": "[encoded data removed]",
      "text/plain": [
       "<Figure size 432x288 with 1 Axes>"
      ]
     },
     "metadata": {
      "needs_background": "light"
     },
     "output_type": "display_data"
    }
   ],
   "source": [
    "plt.hist(data[\"data\"][:, 3], bins=21);"
   ]
  },
  {
   "cell_type": "code",
   "execution_count": 18,
   "id": "2fe390c2-8b50-4009-b53e-4e941b63878b",
   "metadata": {},
   "outputs": [],
   "source": [
    "import torch\n",
    "\n",
    "class QuantizeFeaturesStub(torch.nn.Module):\n",
    "    def __init__(self, num_feats):\n",
    "        super().__init__()\n",
    "        self.num_feats = num_feats\n",
    "        self.quants = torch.nn.ModuleList()\n",
    "        for ifeat in range(self.num_feats):\n",
    "            self.quants.append(torch.ao.quantization.QuantStub())\n",
    "\n",
    "    def forward(self, x):\n",
    "        return torch.cat([self.quants[ifeat](x[..., ifeat:ifeat+1]) for ifeat in range(self.num_feats)], axis=-1)\n",
    "                 \n",
    "# define a floating point model where some layers could be statically quantized\n",
    "class M(torch.nn.Module):\n",
    "    def __init__(self):\n",
    "        super().__init__()\n",
    "        # QuantStub converts tensors from floating point to quantized\n",
    "        \n",
    "        self.quant = QuantizeFeaturesStub(10)\n",
    "        self.lin1 = torch.nn.Linear(10, 128) #10 input features\n",
    "        self.relu = torch.nn.ReLU()\n",
    "        self.lin2 = torch.nn.Linear(128, 1) #1 regression output\n",
    "        # DeQuantStub converts tensors from quantized to floating point\n",
    "        self.dequant = torch.ao.quantization.DeQuantStub()\n",
    "\n",
    "    def forward(self, x):\n",
    "        # manually specify where tensors will be converted from floating\n",
    "        # point to quantized in the quantized model\n",
    "        x = self.quant(x)\n",
    "        x = self.lin1(x)\n",
    "        x = self.relu(x)\n",
    "        x = self.lin2(x)\n",
    "        # manually specify where tensors will be converted from quantized\n",
    "        # to floating point in the quantized model\n",
    "        x = self.dequant(x)\n",
    "        return x"
   ]
  },
  {
   "cell_type": "code",
   "execution_count": 19,
   "id": "0f0d8940-a7dc-4314-8106-9cd4210a8a3c",
   "metadata": {},
   "outputs": [
    {
     "name": "stdout",
     "output_type": "stream",
     "text": [
      "0 27401.22265625\n",
      "100 10792.828125\n",
      "200 9138.3291015625\n",
      "300 6686.6171875\n",
      "400 5563.88720703125\n",
      "500 4555.40869140625\n",
      "600 3913.210693359375\n",
      "700 3551.58544921875\n",
      "800 3443.60595703125\n",
      "900 3367.0712890625\n",
      "1000 3289.8212890625\n",
      "1100 3296.051513671875\n",
      "1200 3190.966796875\n",
      "1300 3162.62890625\n",
      "1400 3136.28515625\n",
      "1500 3135.9697265625\n",
      "1600 3100.529296875\n",
      "1700 3087.234619140625\n",
      "1800 3080.088623046875\n",
      "1900 3065.173095703125\n"
     ]
    }
   ],
   "source": [
    "model_fp32 = M()\n",
    "optimizer = torch.optim.AdamW(model_fp32.parameters(), lr=0.005)\n",
    "for epoch in range(2000):\n",
    "    optimizer.zero_grad()\n",
    "    out = model_fp32(torch.tensor(data[\"data\"]).to(dtype=torch.float))\n",
    "    loss = torch.nn.functional.mse_loss(out[:, 0], torch.tensor(data[\"target\"]).to(torch.float))\n",
    "    loss.backward()\n",
    "    if epoch%100 == 0:\n",
    "        print(epoch, loss.detach().cpu().item())\n",
    "    optimizer.step()"
   ]
  },
  {
   "cell_type": "code",
   "execution_count": 20,
   "id": "6937aeb2-63be-434c-bbb8-c864b2026a6d",
   "metadata": {},
   "outputs": [],
   "source": [
    "import matplotlib.pyplot as plt"
   ]
  },
  {
   "cell_type": "code",
   "execution_count": 21,
   "id": "b87dc68c-2724-4322-a7c9-ec3d6fd0165f",
   "metadata": {},
   "outputs": [],
   "source": [
    "out = model_fp32(torch.tensor(data[\"data\"]).to(torch.float)).detach().cpu().numpy()[:, 0]"
   ]
  },
  {
   "cell_type": "code",
   "execution_count": 22,
   "id": "db4a0ead-5f09-4080-bee6-7d3e913d34d8",
   "metadata": {},
   "outputs": [
    {
     "data": {
      "text/plain": [
       "(0.0, 400.0)"
      ]
     },
     "execution_count": 22,
     "metadata": {},
     "output_type": "execute_result"
    },
    {
     "data": {
      "image/png": "[encoded data removed]",
      "text/plain": [
       "<Figure size 432x288 with 1 Axes>"
      ]
     },
     "metadata": {
      "needs_background": "light"
     },
     "output_type": "display_data"
    }
   ],
   "source": [
    "plt.scatter(data[\"target\"], out)\n",
    "plt.xlim(0,400)\n",
    "plt.ylim(0,400)"
   ]
  },
  {
   "cell_type": "code",
   "execution_count": 24,
   "id": "256b57ea-58cd-4fd1-b519-659b75c8b5e5",
   "metadata": {},
   "outputs": [
    {
     "ename": "AttributeError",
     "evalue": "'QConfigMapping' object has no attribute '_fields'",
     "output_type": "error",
     "traceback": [
      "\u001b[0;31m---------------------------------------------------------------------------\u001b[0m",
      "\u001b[0;31mAttributeError\u001b[0m                            Traceback (most recent call last)",
      "\u001b[0;32m/tmp/sraj/ipykernel_3239310/3738635983.py\u001b[0m in \u001b[0;36m<module>\u001b[0;34m\u001b[0m\n\u001b[1;32m     20\u001b[0m \u001b[0;31m# Prepare the model for static quantization. This inserts observers in\u001b[0m\u001b[0;34m\u001b[0m\u001b[0;34m\u001b[0m\u001b[0m\n\u001b[1;32m     21\u001b[0m \u001b[0;31m# the model that will observe activation tensors during calibration.\u001b[0m\u001b[0;34m\u001b[0m\u001b[0;34m\u001b[0m\u001b[0m\n\u001b[0;32m---> 22\u001b[0;31m \u001b[0mmodel_fp32_prepared\u001b[0m \u001b[0;34m=\u001b[0m \u001b[0mtorch\u001b[0m\u001b[0;34m.\u001b[0m\u001b[0mao\u001b[0m\u001b[0;34m.\u001b[0m\u001b[0mquantization\u001b[0m\u001b[0;34m.\u001b[0m\u001b[0mprepare\u001b[0m\u001b[0;34m(\u001b[0m\u001b[0mmodel_fp32\u001b[0m\u001b[0;34m)\u001b[0m\u001b[0;34m\u001b[0m\u001b[0;34m\u001b[0m\u001b[0m\n\u001b[0m\u001b[1;32m     23\u001b[0m \u001b[0;34m\u001b[0m\u001b[0m\n\u001b[1;32m     24\u001b[0m \u001b[0minput_fp32\u001b[0m \u001b[0;34m=\u001b[0m \u001b[0mtorch\u001b[0m\u001b[0;34m.\u001b[0m\u001b[0mtensor\u001b[0m\u001b[0;34m(\u001b[0m\u001b[0mdata\u001b[0m\u001b[0;34m[\u001b[0m\u001b[0;34m\"data\"\u001b[0m\u001b[0;34m]\u001b[0m\u001b[0;34m)\u001b[0m\u001b[0;34m.\u001b[0m\u001b[0mto\u001b[0m\u001b[0;34m(\u001b[0m\u001b[0mtorch\u001b[0m\u001b[0;34m.\u001b[0m\u001b[0mfloat\u001b[0m\u001b[0;34m)\u001b[0m\u001b[0;34m\u001b[0m\u001b[0;34m\u001b[0m\u001b[0m\n",
      "\u001b[0;32m/cvmfs/sft.cern.ch/lcg/views/LCG_105/x86_64-el9-gcc13-opt/lib/python3.9/site-packages/torch/ao/quantization/quantize.py\u001b[0m in \u001b[0;36mprepare\u001b[0;34m(model, inplace, allow_list, observer_non_leaf_module_list, prepare_custom_config_dict)\u001b[0m\n\u001b[1;32m    303\u001b[0m     \u001b[0;32mif\u001b[0m \u001b[0mallow_list\u001b[0m \u001b[0;32mis\u001b[0m \u001b[0;32mNone\u001b[0m\u001b[0;34m:\u001b[0m\u001b[0;34m\u001b[0m\u001b[0;34m\u001b[0m\u001b[0m\n\u001b[1;32m    304\u001b[0m         \u001b[0mqconfig_propagation_list\u001b[0m \u001b[0;34m=\u001b[0m \u001b[0mget_default_qconfig_propagation_list\u001b[0m\u001b[0;34m(\u001b[0m\u001b[0;34m)\u001b[0m\u001b[0;34m\u001b[0m\u001b[0;34m\u001b[0m\u001b[0m\n\u001b[0;32m--> 305\u001b[0;31m     \u001b[0mpropagate_qconfig_\u001b[0m\u001b[0;34m(\u001b[0m\u001b[0mmodel\u001b[0m\u001b[0;34m,\u001b[0m \u001b[0mqconfig_dict\u001b[0m\u001b[0;34m=\u001b[0m\u001b[0;32mNone\u001b[0m\u001b[0;34m)\u001b[0m\u001b[0;34m\u001b[0m\u001b[0;34m\u001b[0m\u001b[0m\n\u001b[0m\u001b[1;32m    306\u001b[0m \u001b[0;34m\u001b[0m\u001b[0m\n\u001b[1;32m    307\u001b[0m     \u001b[0;31m# sanity check common API misusage\u001b[0m\u001b[0;34m\u001b[0m\u001b[0;34m\u001b[0m\u001b[0m\n",
      "\u001b[0;32m/cvmfs/sft.cern.ch/lcg/views/LCG_105/x86_64-el9-gcc13-opt/lib/python3.9/site-packages/torch/ao/quantization/quantize.py\u001b[0m in \u001b[0;36mpropagate_qconfig_\u001b[0;34m(module, qconfig_dict, prepare_custom_config_dict)\u001b[0m\n\u001b[1;32m    124\u001b[0m     \u001b[0;32mif\u001b[0m \u001b[0mprepare_custom_config_dict\u001b[0m \u001b[0;32mis\u001b[0m \u001b[0;32mNone\u001b[0m\u001b[0;34m:\u001b[0m\u001b[0;34m\u001b[0m\u001b[0;34m\u001b[0m\u001b[0m\n\u001b[1;32m    125\u001b[0m         \u001b[0mprepare_custom_config_dict\u001b[0m \u001b[0;34m=\u001b[0m \u001b[0;34m{\u001b[0m\u001b[0;34m}\u001b[0m\u001b[0;34m\u001b[0m\u001b[0;34m\u001b[0m\u001b[0m\n\u001b[0;32m--> 126\u001b[0;31m     \u001b[0m_propagate_qconfig_helper\u001b[0m\u001b[0;34m(\u001b[0m\u001b[0mmodule\u001b[0m\u001b[0;34m,\u001b[0m \u001b[0mqconfig_dict\u001b[0m\u001b[0;34m,\u001b[0m \u001b[0mprepare_custom_config_dict\u001b[0m\u001b[0;34m=\u001b[0m\u001b[0mprepare_custom_config_dict\u001b[0m\u001b[0;34m)\u001b[0m\u001b[0;34m\u001b[0m\u001b[0;34m\u001b[0m\u001b[0m\n\u001b[0m\u001b[1;32m    127\u001b[0m \u001b[0;34m\u001b[0m\u001b[0m\n\u001b[1;32m    128\u001b[0m \u001b[0;32mdef\u001b[0m \u001b[0m_observer_forward_hook\u001b[0m\u001b[0;34m(\u001b[0m\u001b[0mself\u001b[0m\u001b[0;34m,\u001b[0m \u001b[0minput\u001b[0m\u001b[0;34m,\u001b[0m \u001b[0moutput\u001b[0m\u001b[0;34m)\u001b[0m\u001b[0;34m:\u001b[0m\u001b[0;34m\u001b[0m\u001b[0;34m\u001b[0m\u001b[0m\n",
      "\u001b[0;32m/cvmfs/sft.cern.ch/lcg/views/LCG_105/x86_64-el9-gcc13-opt/lib/python3.9/site-packages/torch/ao/quantization/quantize.py\u001b[0m in \u001b[0;36m_propagate_qconfig_helper\u001b[0;34m(module, qconfig_dict, qconfig_parent, prefix, prepare_custom_config_dict)\u001b[0m\n\u001b[1;32m     90\u001b[0m     \u001b[0mtorch\u001b[0m\u001b[0;34m.\u001b[0m\u001b[0mao\u001b[0m\u001b[0;34m.\u001b[0m\u001b[0mquantization\u001b[0m\u001b[0;34m.\u001b[0m\u001b[0mqconfig\u001b[0m\u001b[0;34m.\u001b[0m\u001b[0m_assert_valid_qconfig\u001b[0m\u001b[0;34m(\u001b[0m\u001b[0mmodule_qconfig\u001b[0m\u001b[0;34m,\u001b[0m \u001b[0mmodule\u001b[0m\u001b[0;34m)\u001b[0m\u001b[0;34m\u001b[0m\u001b[0;34m\u001b[0m\u001b[0m\n\u001b[1;32m     91\u001b[0m \u001b[0;34m\u001b[0m\u001b[0m\n\u001b[0;32m---> 92\u001b[0;31m     \u001b[0mqconfig_with_device_check\u001b[0m \u001b[0;34m=\u001b[0m \u001b[0m_add_module_to_qconfig_obs_ctr\u001b[0m\u001b[0;34m(\u001b[0m\u001b[0mmodule_qconfig\u001b[0m\u001b[0;34m,\u001b[0m \u001b[0mmodule\u001b[0m\u001b[0;34m)\u001b[0m\u001b[0;34m\u001b[0m\u001b[0;34m\u001b[0m\u001b[0m\n\u001b[0m\u001b[1;32m     93\u001b[0m     \u001b[0mmodule\u001b[0m\u001b[0;34m.\u001b[0m\u001b[0mqconfig\u001b[0m \u001b[0;34m=\u001b[0m \u001b[0mqconfig_with_device_check\u001b[0m\u001b[0;34m\u001b[0m\u001b[0;34m\u001b[0m\u001b[0m\n\u001b[1;32m     94\u001b[0m \u001b[0;34m\u001b[0m\u001b[0m\n",
      "\u001b[0;32m/cvmfs/sft.cern.ch/lcg/views/LCG_105/x86_64-el9-gcc13-opt/lib/python3.9/site-packages/torch/ao/quantization/qconfig.py\u001b[0m in \u001b[0;36m_add_module_to_qconfig_obs_ctr\u001b[0;34m(qconfig, module)\u001b[0m\n\u001b[1;32m    475\u001b[0m     \"\"\"\n\u001b[1;32m    476\u001b[0m \u001b[0;34m\u001b[0m\u001b[0m\n\u001b[0;32m--> 477\u001b[0;31m     \u001b[0;32mif\u001b[0m \u001b[0mmodule\u001b[0m \u001b[0;32mis\u001b[0m \u001b[0;32mNone\u001b[0m \u001b[0;32mor\u001b[0m \u001b[0mqconfig\u001b[0m \u001b[0;32mis\u001b[0m \u001b[0;32mNone\u001b[0m \u001b[0;32mor\u001b[0m \u001b[0mqconfig\u001b[0m\u001b[0;34m.\u001b[0m\u001b[0m_fields\u001b[0m \u001b[0;34m!=\u001b[0m \u001b[0;34m(\u001b[0m\u001b[0;34m'activation'\u001b[0m\u001b[0;34m,\u001b[0m \u001b[0;34m'weight'\u001b[0m\u001b[0;34m)\u001b[0m\u001b[0;34m:\u001b[0m\u001b[0;34m\u001b[0m\u001b[0;34m\u001b[0m\u001b[0m\n\u001b[0m\u001b[1;32m    478\u001b[0m         \u001b[0;32mreturn\u001b[0m \u001b[0mqconfig\u001b[0m\u001b[0;34m\u001b[0m\u001b[0;34m\u001b[0m\u001b[0m\n\u001b[1;32m    479\u001b[0m \u001b[0;34m\u001b[0m\u001b[0m\n",
      "\u001b[0;31mAttributeError\u001b[0m: 'QConfigMapping' object has no attribute '_fields'"
     ]
    }
   ],
   "source": [
    "# model must be set to eval mode for static quantization logic to work\n",
    "model_fp32.eval()\n",
    "\n",
    "# attach a global qconfig, which contains information about what kind\n",
    "# of observers to attach. Use 'x86' for server inference and 'qnnpack'\n",
    "# for mobile inference. Other quantization configurations such as selecting\n",
    "# symmetric or asymmetric quantization and MinMax or L2Norm calibration techniques\n",
    "# can be specified here.\n",
    "# Note: the old 'fbgemm' is still available but 'x86' is the recommended default\n",
    "# for server inference.\n",
    "# model_fp32.qconfig = torch.ao.quantization.get_default_qconfig('fbgemm')\n",
    "\n",
    "# model_fp32.qconfig = torch.ao.quantization.get_default_qconfig(\"onednn\", version=1)\n",
    "model_fp32.qconfig = torch.ao.quantization.qconfig_mapping.get_default_qat_qconfig_mapping(backend='x86', version=1)\n",
    "# Fuse the activations to preceding layers, where applicable.\n",
    "# This needs to be done manually depending on the model architecture.\n",
    "# Common fusions include `conv + relu` and `conv + batchnorm + relu`\n",
    "#model_fp32_fused = torch.ao.quantization.fuse_modules(model_fp32, [])\n",
    "\n",
    "# Prepare the model for static quantization. This inserts observers in\n",
    "# the model that will observe activation tensors during calibration.\n",
    "model_fp32_prepared = torch.ao.quantization.prepare(model_fp32)\n",
    "\n",
    "input_fp32 = torch.tensor(data[\"data\"]).to(torch.float)\n",
    "\n",
    "# calibrate the prepared model to determine quantization parameters for activations\n",
    "# in a real world setting, the calibration would be done with a representative dataset\n",
    "model_fp32_prepared(input_fp32)\n",
    "\n",
    "# Convert the observed model to a quantized model. This does several things:\n",
    "# quantizes the weights, computes and stores the scale and bias value to be\n",
    "# used with each activation tensor, and replaces key operators with quantized\n",
    "# implementations.\n",
    "model_int8 = torch.ao.quantization.convert(model_fp32_prepared)\n",
    "\n",
    "# run the model, relevant calculations will happen in int8\n",
    "out_quantized = model_int8(input_fp32)[:, 0]"
   ]
  },
  {
   "cell_type": "code",
   "execution_count": 34,
   "id": "20caa5f8",
   "metadata": {},
   "outputs": [
    {
     "data": {
      "text/plain": [
       "QConfig(activation=functools.partial(<class 'torch.ao.quantization.observer.HistogramObserver'>, reduce_range=False){}, weight=functools.partial(<class 'torch.ao.quantization.observer.PerChannelMinMaxObserver'>, dtype=torch.qint8, qscheme=torch.per_channel_symmetric){})"
      ]
     },
     "execution_count": 34,
     "metadata": {},
     "output_type": "execute_result"
    }
   ],
   "source": [
    "model_fp32.qconfig"
   ]
  },
  {
   "cell_type": "code",
   "execution_count": 35,
   "id": "45636053",
   "metadata": {},
   "outputs": [
    {
     "data": {
      "text/plain": [
       "torch.Size([442, 10])"
      ]
     },
     "execution_count": 35,
     "metadata": {},
     "output_type": "execute_result"
    }
   ],
   "source": [
    "input_fp32.shape"
   ]
  },
  {
   "cell_type": "code",
   "execution_count": 36,
   "id": "62b22ad8-4129-4311-8cf4-5d022b33b053",
   "metadata": {},
   "outputs": [
    {
     "data": {
      "text/plain": [
       "<matplotlib.collections.PathCollection at 0x7f282e7cf7f0>"
      ]
     },
     "execution_count": 36,
     "metadata": {},
     "output_type": "execute_result"
    },
    {
     "data": {
      "image/png": "[encoded data removed]",
      "text/plain": [
       "<Figure size 432x288 with 1 Axes>"
      ]
     },
     "metadata": {
      "needs_background": "light"
     },
     "output_type": "display_data"
    }
   ],
   "source": [
    "plt.scatter(data[\"target\"], out)\n",
    "plt.scatter(data[\"target\"], out_quantized)"
   ]
  },
  {
   "cell_type": "code",
   "execution_count": 22,
   "id": "b3b2eca7-1084-4d07-ae32-0826344b856e",
   "metadata": {},
   "outputs": [
    {
     "data": {
      "text/plain": [
       "QuantizeFeaturesStub(\n",
       "  (quants): ModuleList(\n",
       "    (0): Quantize(scale=tensor([0.0009]), zero_point=tensor([126]), dtype=torch.quint8)\n",
       "    (1): Quantize(scale=tensor([0.0004]), zero_point=tensor([119]), dtype=torch.quint8)\n",
       "    (2): Quantize(scale=tensor([0.0010]), zero_point=tensor([88]), dtype=torch.quint8)\n",
       "    (3): Quantize(scale=tensor([0.0010]), zero_point=tensor([117]), dtype=torch.quint8)\n",
       "    (4): Quantize(scale=tensor([0.0011]), zero_point=tensor([115]), dtype=torch.quint8)\n",
       "    (5): Quantize(scale=tensor([0.0012]), zero_point=tensor([94]), dtype=torch.quint8)\n",
       "    (6): Quantize(scale=tensor([0.0011]), zero_point=tensor([92]), dtype=torch.quint8)\n",
       "    (7): Quantize(scale=tensor([0.0010]), zero_point=tensor([74]), dtype=torch.quint8)\n",
       "    (8): Quantize(scale=tensor([0.0010]), zero_point=tensor([124]), dtype=torch.quint8)\n",
       "    (9): Quantize(scale=tensor([0.0011]), zero_point=tensor([129]), dtype=torch.quint8)\n",
       "  )\n",
       ")"
      ]
     },
     "execution_count": 22,
     "metadata": {},
     "output_type": "execute_result"
    }
   ],
   "source": [
    "model_int8.quant"
   ]
  },
  {
   "cell_type": "code",
   "execution_count": 15,
   "id": "3b8620fe-994e-469a-a302-1c346950ebe7",
   "metadata": {},
   "outputs": [
    {
     "data": {
      "text/plain": [
       "tensor([[ 3.7737,  0.5146,  0.0000,  ...,  0.0000,  0.0000,  0.0000],\n",
       "        [-0.1715, -0.5146,  0.0000,  ...,  0.0000,  0.0000, -0.1715],\n",
       "        [ 8.5766,  0.5146,  0.0000,  ...,  0.0000,  0.0000,  0.0000],\n",
       "        ...,\n",
       "        [ 4.1168,  0.5146,  0.0000,  ...,  0.0000,  0.0000,  0.0000],\n",
       "        [-4.6314, -0.5146,  0.0000,  ...,  0.0000,  0.0000,  0.0000],\n",
       "        [-4.6314, -0.5146,  0.0000,  ...,  0.0000,  0.0000,  0.0000]],\n",
       "       size=(442, 10), dtype=torch.quint8,\n",
       "       quantization_scheme=torch.per_tensor_affine, scale=0.17153218388557434,\n",
       "       zero_point=63)"
      ]
     },
     "execution_count": 15,
     "metadata": {},
     "output_type": "execute_result"
    }
   ],
   "source": [
    "x1 = model_int8.quant(input_fp32)\n",
    "x1"
   ]
  },
  {
   "cell_type": "code",
   "execution_count": 16,
   "id": "8779e326-cca2-4b6b-a5b3-cb7994f40e1b",
   "metadata": {},
   "outputs": [
    {
     "data": {
      "text/plain": [
       "QuantizedLinear(in_features=10, out_features=128, scale=6.321656227111816, zero_point=68, qscheme=torch.per_channel_affine)"
      ]
     },
     "execution_count": 16,
     "metadata": {},
     "output_type": "execute_result"
    }
   ],
   "source": [
    "model_int8.lin1"
   ]
  },
  {
   "cell_type": "code",
   "execution_count": 17,
   "id": "c26278fd-f756-4ff0-86ca-825c04a9b0f2",
   "metadata": {},
   "outputs": [
    {
     "data": {
      "text/plain": [
       "tensor([[  0.0000,  -6.3217,   0.0000,  ..., -12.6433,   0.0000,   6.3217],\n",
       "        [  6.3217,   0.0000,   0.0000,  ...,   6.3217,   0.0000,   0.0000],\n",
       "        [  0.0000,   0.0000,   0.0000,  ...,   0.0000,   0.0000,  12.6433],\n",
       "        ...,\n",
       "        [  0.0000,  -6.3217,   0.0000,  ..., -12.6433,   0.0000,   6.3217],\n",
       "        [  6.3217,  -6.3217,   0.0000,  ...,   0.0000,  -6.3217,   0.0000],\n",
       "        [  6.3217,   0.0000,   0.0000,  ...,   6.3217,   0.0000,   0.0000]],\n",
       "       size=(442, 128), dtype=torch.quint8,\n",
       "       quantization_scheme=torch.per_tensor_affine, scale=6.321656227111816,\n",
       "       zero_point=68)"
      ]
     },
     "execution_count": 17,
     "metadata": {},
     "output_type": "execute_result"
    }
   ],
   "source": [
    "x2 = model_int8.lin1(x1)\n",
    "x2"
   ]
  },
  {
   "cell_type": "code",
   "execution_count": 18,
   "id": "7847c4ef-d8bf-4d8a-8330-64ece9521936",
   "metadata": {},
   "outputs": [
    {
     "data": {
      "text/plain": [
       "tensor([[ 0.0000,  0.0000,  0.0000,  ...,  0.0000,  0.0000,  6.3217],\n",
       "        [ 6.3217,  0.0000,  0.0000,  ...,  6.3217,  0.0000,  0.0000],\n",
       "        [ 0.0000,  0.0000,  0.0000,  ...,  0.0000,  0.0000, 12.6433],\n",
       "        ...,\n",
       "        [ 0.0000,  0.0000,  0.0000,  ...,  0.0000,  0.0000,  6.3217],\n",
       "        [ 6.3217,  0.0000,  0.0000,  ...,  0.0000,  0.0000,  0.0000],\n",
       "        [ 6.3217,  0.0000,  0.0000,  ...,  6.3217,  0.0000,  0.0000]],\n",
       "       size=(442, 128), dtype=torch.quint8,\n",
       "       quantization_scheme=torch.per_tensor_affine, scale=6.321656227111816,\n",
       "       zero_point=68)"
      ]
     },
     "execution_count": 18,
     "metadata": {},
     "output_type": "execute_result"
    }
   ],
   "source": [
    "x3 = model_int8.relu(x2)\n",
    "x3"
   ]
  },
  {
   "cell_type": "code",
   "execution_count": 19,
   "id": "97173297-3b8e-45e2-a53e-68498c326001",
   "metadata": {},
   "outputs": [
    {
     "data": {
      "text/plain": [
       "QuantizedLinear(in_features=128, out_features=1, scale=2.3833446502685547, zero_point=0, qscheme=torch.per_channel_affine)"
      ]
     },
     "execution_count": 19,
     "metadata": {},
     "output_type": "execute_result"
    }
   ],
   "source": [
    "model_int8.lin2"
   ]
  },
  {
   "cell_type": "code",
   "execution_count": 20,
   "id": "a5d898ba-7bdc-49d0-939b-41b5d5b69e22",
   "metadata": {},
   "outputs": [
    {
     "data": {
      "text/plain": [
       "tensor([[ 88.1838],\n",
       "        [143.0007],\n",
       "        [112.0172],\n",
       "        [128.7006],\n",
       "        [166.8341],\n",
       "        [114.4005],\n",
       "        [ 85.8004],\n",
       "        [ 88.1838],\n",
       "        [107.2505],\n",
       "        [133.4673]], size=(10, 1), dtype=torch.quint8,\n",
       "       quantization_scheme=torch.per_tensor_affine, scale=2.3833446502685547,\n",
       "       zero_point=0)"
      ]
     },
     "execution_count": 20,
     "metadata": {},
     "output_type": "execute_result"
    }
   ],
   "source": [
    "x4 = model_int8.lin2(x3)\n",
    "x4[:10]"
   ]
  },
  {
   "cell_type": "code",
   "execution_count": 21,
   "id": "2a8299b6-2f45-4f24-91d8-fac3c76040ef",
   "metadata": {},
   "outputs": [
    {
     "data": {
      "text/plain": [
       "DeQuantize()"
      ]
     },
     "execution_count": 21,
     "metadata": {},
     "output_type": "execute_result"
    }
   ],
   "source": [
    "model_int8.dequant"
   ]
  },
  {
   "cell_type": "code",
   "execution_count": 22,
   "id": "5e7d37bf-2482-4542-97a3-065e61d14dd1",
   "metadata": {},
   "outputs": [],
   "source": [
    "x5 = model_int8.dequant(x4)"
   ]
  },
  {
   "cell_type": "code",
   "execution_count": 23,
   "id": "68cb30e2-f729-4017-b3b5-bd810125c276",
   "metadata": {},
   "outputs": [
    {
     "data": {
      "text/plain": [
       "<matplotlib.collections.PathCollection at 0x7f28d05c38e0>"
      ]
     },
     "execution_count": 23,
     "metadata": {},
     "output_type": "execute_result"
    },
    {
     "data": {
      "image/png": "[encoded data removed]",
      "text/plain": [
       "<Figure size 640x480 with 1 Axes>"
      ]
     },
     "metadata": {},
     "output_type": "display_data"
    }
   ],
   "source": [
    "plt.scatter(data[\"target\"], x5[:, 0])"
   ]
  }
 ],
 "metadata": {
  "kernelspec": {
   "display_name": "Python 3 (ipykernel)",
   "language": "python",
   "name": "python3"
  },
  "language_info": {
   "codemirror_mode": {
    "name": "ipython",
    "version": 3
   },
   "file_extension": ".py",
   "mimetype": "text/x-python",
   "name": "python",
   "nbconvert_exporter": "python",
   "pygments_lexer": "ipython3",
   "version": "3.9.12"
  }
 },
 "nbformat": 4,
 "nbformat_minor": 5
}
