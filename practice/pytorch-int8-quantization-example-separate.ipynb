{
 "cells": [
  {
   "cell_type": "code",
   "execution_count": 16,
   "id": "49fddec7-8376-41c4-b9c7-1992ce035194",
   "metadata": {},
   "outputs": [],
   "source": [
    "import matplotlib.pyplot as plt"
   ]
  },
  {
   "cell_type": "code",
   "execution_count": 38,
   "id": "ce0704cd-2ec7-466e-9d2c-e8fad94c3985",
   "metadata": {},
   "outputs": [],
   "source": [
    "from sklearn import datasets\n",
    "data = datasets.load_diabetes()\n",
    "\n",
    "features_in_different_scale = True\n",
    "\n",
    "if features_in_different_scale:\n",
    "    data[\"data\"][:, 0] = 100*data[\"data\"][:, 0]\n",
    "    data[\"data\"][:, 1] = 10*data[\"data\"][:, 1]\n",
    "    data[\"data\"][:, 2] = 0.01*data[\"data\"][:, 2]\n",
    "    data[\"data\"][:, 3] = 10000*data[\"data\"][:, 3]\n"
   ]
  },
  {
   "cell_type": "code",
   "execution_count": 39,
   "id": "8989da3c-7db1-494d-8dd6-a0d39fe18360",
   "metadata": {},
   "outputs": [
    {
     "data": {
      "image/png": "[encoded data removed]",
      "text/plain": [
       "<Figure size 432x288 with 1 Axes>"
      ]
     },
     "metadata": {
      "needs_background": "light"
     },
     "output_type": "display_data"
    }
   ],
   "source": [
    "plt.hist(data[\"data\"][:, 0], bins=21);"
   ]
  },
  {
   "cell_type": "code",
   "execution_count": 40,
   "id": "5c623393-b095-4723-a602-4245f3e1620c",
   "metadata": {},
   "outputs": [
    {
     "data": {
      "image/png": "[encoded data removed]",
      "text/plain": [
       "<Figure size 432x288 with 1 Axes>"
      ]
     },
     "metadata": {
      "needs_background": "light"
     },
     "output_type": "display_data"
    }
   ],
   "source": [
    "plt.hist(data[\"data\"][:, 1], bins=21);"
   ]
  },
  {
   "cell_type": "code",
   "execution_count": 41,
   "id": "bd374cda-cde8-4375-9271-3ce3974d352e",
   "metadata": {},
   "outputs": [
    {
     "data": {
      "image/png": "[encoded data removed]",
      "text/plain": [
       "<Figure size 432x288 with 1 Axes>"
      ]
     },
     "metadata": {
      "needs_background": "light"
     },
     "output_type": "display_data"
    }
   ],
   "source": [
    "plt.hist(data[\"data\"][:, 2], bins=21);"
   ]
  },
  {
   "cell_type": "code",
   "execution_count": 42,
   "id": "85ff2ecd-0795-4e49-8239-0265308bbf85",
   "metadata": {},
   "outputs": [
    {
     "data": {
      "image/png": "[encoded data removed]",
      "text/plain": [
       "<Figure size 432x288 with 1 Axes>"
      ]
     },
     "metadata": {
      "needs_background": "light"
     },
     "output_type": "display_data"
    }
   ],
   "source": [
    "plt.hist(data[\"data\"][:, 3], bins=21);"
   ]
  },
  {
   "cell_type": "code",
   "execution_count": 43,
   "id": "2fe390c2-8b50-4009-b53e-4e941b63878b",
   "metadata": {},
   "outputs": [],
   "source": [
    "import torch\n",
    "\n",
    "class QuantizeFeaturesStub(torch.nn.Module):\n",
    "    def __init__(self, num_feats):\n",
    "        super().__init__()\n",
    "        self.num_feats = num_feats\n",
    "        self.quants = torch.nn.ModuleList()\n",
    "        for ifeat in range(self.num_feats):\n",
    "            self.quants.append(torch.ao.quantization.QuantStub())\n",
    "\n",
    "    def forward(self, x):\n",
    "        return torch.cat([self.quants[ifeat](x[..., ifeat:ifeat+1]) for ifeat in range(self.num_feats)], axis=-1)\n",
    "                 \n",
    "# define a floating point model where some layers could be statically quantized\n",
    "class M(torch.nn.Module):\n",
    "    def __init__(self):\n",
    "        super().__init__()\n",
    "        # QuantStub converts tensors from floating point to quantized\n",
    "        \n",
    "        self.quant = QuantizeFeaturesStub(10)\n",
    "        self.lin1 = torch.nn.Linear(10, 128) #10 input features\n",
    "        self.relu = torch.nn.ReLU()\n",
    "        self.lin2 = torch.nn.Linear(128, 1) #1 regression output\n",
    "        # DeQuantStub converts tensors from quantized to floating point\n",
    "        self.dequant = torch.ao.quantization.DeQuantStub()\n",
    "\n",
    "    def forward(self, x):\n",
    "        # manually specify where tensors will be converted from floating\n",
    "        # point to quantized in the quantized model\n",
    "        x = self.quant(x)\n",
    "        x = self.lin1(x)\n",
    "        x = self.relu(x)\n",
    "        x = self.lin2(x)\n",
    "        # manually specify where tensors will be converted from quantized\n",
    "        # to floating point in the quantized model\n",
    "        x = self.dequant(x)\n",
    "        return x"
   ]
  },
  {
   "cell_type": "code",
   "execution_count": 44,
   "id": "0f0d8940-a7dc-4314-8106-9cd4210a8a3c",
   "metadata": {},
   "outputs": [
    {
     "name": "stdout",
     "output_type": "stream",
     "text": [
      "0 40094.2265625\n",
      "100 10841.3662109375\n",
      "200 9539.228515625\n",
      "300 7123.33984375\n",
      "400 5970.48095703125\n",
      "500 4988.68505859375\n",
      "600 4103.28857421875\n",
      "700 3669.591064453125\n",
      "800 3488.14990234375\n",
      "900 3393.9716796875\n",
      "1000 3336.837646484375\n",
      "1100 3277.173828125\n",
      "1200 3228.7177734375\n",
      "1300 3196.3447265625\n",
      "1400 3174.423583984375\n",
      "1500 3143.612548828125\n",
      "1600 3135.796875\n",
      "1700 3121.4189453125\n",
      "1800 3098.261474609375\n",
      "1900 3086.816650390625\n"
     ]
    }
   ],
   "source": [
    "model_fp32 = M()\n",
    "optimizer = torch.optim.AdamW(model_fp32.parameters(), lr=0.005)\n",
    "for epoch in range(2000):\n",
    "    optimizer.zero_grad()\n",
    "    out = model_fp32(torch.tensor(data[\"data\"]).to(dtype=torch.float))\n",
    "    loss = torch.nn.functional.mse_loss(out[:, 0], torch.tensor(data[\"target\"]).to(torch.float))\n",
    "    loss.backward()\n",
    "    if epoch%100 == 0:\n",
    "        print(epoch, loss.detach().cpu().item())\n",
    "    optimizer.step()"
   ]
  },
  {
   "cell_type": "code",
   "execution_count": 45,
   "id": "6937aeb2-63be-434c-bbb8-c864b2026a6d",
   "metadata": {},
   "outputs": [],
   "source": [
    "import matplotlib.pyplot as plt"
   ]
  },
  {
   "cell_type": "code",
   "execution_count": 46,
   "id": "b87dc68c-2724-4322-a7c9-ec3d6fd0165f",
   "metadata": {},
   "outputs": [],
   "source": [
    "out = model_fp32(torch.tensor(data[\"data\"]).to(torch.float)).detach().cpu().numpy()[:, 0]"
   ]
  },
  {
   "cell_type": "code",
   "execution_count": 47,
   "id": "db4a0ead-5f09-4080-bee6-7d3e913d34d8",
   "metadata": {},
   "outputs": [
    {
     "data": {
      "text/plain": [
       "(0.0, 400.0)"
      ]
     },
     "execution_count": 47,
     "metadata": {},
     "output_type": "execute_result"
    },
    {
     "data": {
      "image/png": "[encoded data removed]",
      "text/plain": [
       "<Figure size 432x288 with 1 Axes>"
      ]
     },
     "metadata": {
      "needs_background": "light"
     },
     "output_type": "display_data"
    }
   ],
   "source": [
    "plt.scatter(data[\"target\"], out)\n",
    "plt.xlim(0,400)\n",
    "plt.ylim(0,400)"
   ]
  },
  {
   "cell_type": "code",
   "execution_count": 48,
   "id": "256b57ea-58cd-4fd1-b519-659b75c8b5e5",
   "metadata": {},
   "outputs": [
    {
     "name": "stderr",
     "output_type": "stream",
     "text": [
      "/cvmfs/sft.cern.ch/lcg/views/LCG_105/x86_64-el9-gcc13-opt/lib/python3.9/site-packages/torch/ao/quantization/observer.py:214: UserWarning: Please use quant_min and quant_max to specify the range for observers.                     reduce_range will be deprecated in a future release of PyTorch.\n",
      "  warnings.warn(\n"
     ]
    }
   ],
   "source": [
    "# model must be set to eval mode for static quantization logic to work\n",
    "model_fp32.eval()\n",
    "\n",
    "# attach a global qconfig, which contains information about what kind\n",
    "# of observers to attach. Use 'x86' for server inference and 'qnnpack'\n",
    "# for mobile inference. Other quantization configurations such as selecting\n",
    "# symmetric or asymmetric quantization and MinMax or L2Norm calibration techniques\n",
    "# can be specified here.\n",
    "# Note: the old 'fbgemm' is still available but 'x86' is the recommended default\n",
    "# for server inference.\n",
    "# model_fp32.qconfig = torch.ao.quantization.get_default_qconfig('fbgemm')\n",
    "\n",
    "model_fp32.qconfig = torch.ao.quantization.get_default_qconfig(\"fbgemm\", version=0)\n",
    "# Fuse the activations to preceding layers, where applicable.\n",
    "# This needs to be done manually depending on the model architecture.\n",
    "# Common fusions include `conv + relu` and `conv + batchnorm + relu`\n",
    "#model_fp32_fused = torch.ao.quantization.fuse_modules(model_fp32, [])\n",
    "\n",
    "# Prepare the model for static quantization. This inserts observers in\n",
    "# the model that will observe activation tensors during calibration.\n",
    "model_fp32_prepared = torch.ao.quantization.prepare(model_fp32)\n",
    "\n",
    "input_fp32 = torch.tensor(data[\"data\"]).to(torch.float)\n",
    "\n",
    "# calibrate the prepared model to determine quantization parameters for activations\n",
    "# in a real world setting, the calibration would be done with a representative dataset\n",
    "model_fp32_prepared(input_fp32)\n",
    "\n",
    "# Convert the observed model to a quantized model. This does several things:\n",
    "# quantizes the weights, computes and stores the scale and bias value to be\n",
    "# used with each activation tensor, and replaces key operators with quantized\n",
    "# implementations.\n",
    "model_int8 = torch.ao.quantization.convert(model_fp32_prepared)\n",
    "\n",
    "# run the model, relevant calculations will happen in int8\n",
    "out_quantized = model_int8(input_fp32)[:, 0]"
   ]
  },
  {
   "cell_type": "code",
   "execution_count": 49,
   "id": "20caa5f8",
   "metadata": {},
   "outputs": [
    {
     "data": {
      "text/plain": [
       "QConfig(activation=functools.partial(<class 'torch.ao.quantization.observer.HistogramObserver'>, reduce_range=True){}, weight=functools.partial(<class 'torch.ao.quantization.observer.PerChannelMinMaxObserver'>, dtype=torch.qint8, qscheme=torch.per_channel_symmetric){})"
      ]
     },
     "execution_count": 49,
     "metadata": {},
     "output_type": "execute_result"
    }
   ],
   "source": [
    "model_fp32.qconfig"
   ]
  },
  {
   "cell_type": "code",
   "execution_count": 50,
   "id": "45636053",
   "metadata": {},
   "outputs": [
    {
     "data": {
      "text/plain": [
       "torch.Size([442, 10])"
      ]
     },
     "execution_count": 50,
     "metadata": {},
     "output_type": "execute_result"
    }
   ],
   "source": [
    "input_fp32.shape"
   ]
  },
  {
   "cell_type": "code",
   "execution_count": 51,
   "id": "62b22ad8-4129-4311-8cf4-5d022b33b053",
   "metadata": {},
   "outputs": [
    {
     "data": {
      "image/png": "[encoded data removed]",
      "text/plain": [
       "<Figure size 432x288 with 1 Axes>"
      ]
     },
     "metadata": {
      "needs_background": "light"
     },
     "output_type": "display_data"
    }
   ],
   "source": [
    "plt.scatter(data[\"target\"], out, label=\"unquantized\")\n",
    "plt.scatter(data[\"target\"], out_quantized, label=\"quantized\")\n",
    "plt.legend()\n",
    "plt.show()"
   ]
  },
  {
   "cell_type": "code",
   "execution_count": 52,
   "id": "89c6add8",
   "metadata": {},
   "outputs": [
    {
     "data": {
      "text/plain": [
       "<matplotlib.collections.PathCollection at 0x7fefad06a6d0>"
      ]
     },
     "execution_count": 52,
     "metadata": {},
     "output_type": "execute_result"
    },
    {
     "data": {
      "image/png": "[encoded data removed]",
      "text/plain": [
       "<Figure size 432x288 with 1 Axes>"
      ]
     },
     "metadata": {
      "needs_background": "light"
     },
     "output_type": "display_data"
    }
   ],
   "source": [
    "## quantized vs unquantized plot\n",
    "plt.scatter(out, out_quantized)"
   ]
  },
  {
   "cell_type": "code",
   "execution_count": 59,
   "id": "422028ec",
   "metadata": {
    "scrolled": true
   },
   "outputs": [
    {
     "data": {
      "image/png": "[encoded data removed]",
      "text/plain": [
       "<Figure size 432x288 with 1 Axes>"
      ]
     },
     "metadata": {
      "needs_background": "light"
     },
     "output_type": "display_data"
    }
   ],
   "source": [
    "import numpy as np\n",
    "# Calculate correlation coefficient\n",
    "corr_coefficient = np.corrcoef(out, out_quantized)[0, 1]\n",
    "\n",
    "# Plot the data and correlation coefficient\n",
    "plt.scatter(out, out_quantized)\n",
    "plt.title(f'Correlation Plot\\nCorrelation Coefficient: {corr_coefficient:.2f}')\n",
    "plt.xlabel('Unquantized')\n",
    "plt.ylabel('Quantized')\n",
    "# plt.grid(True)\n",
    "plt.show()"
   ]
  },
  {
   "cell_type": "code",
   "execution_count": null,
   "id": "b3b2eca7-1084-4d07-ae32-0826344b856e",
   "metadata": {},
   "outputs": [],
   "source": [
    "model_int8.quant"
   ]
  },
  {
   "cell_type": "code",
   "execution_count": null,
   "id": "3b8620fe-994e-469a-a302-1c346950ebe7",
   "metadata": {},
   "outputs": [],
   "source": [
    "x1 = model_int8.quant(input_fp32)\n",
    "x1"
   ]
  },
  {
   "cell_type": "code",
   "execution_count": null,
   "id": "8779e326-cca2-4b6b-a5b3-cb7994f40e1b",
   "metadata": {},
   "outputs": [],
   "source": [
    "model_int8.lin1"
   ]
  },
  {
   "cell_type": "code",
   "execution_count": null,
   "id": "c26278fd-f756-4ff0-86ca-825c04a9b0f2",
   "metadata": {},
   "outputs": [],
   "source": [
    "x2 = model_int8.lin1(x1)\n",
    "x2"
   ]
  },
  {
   "cell_type": "code",
   "execution_count": null,
   "id": "7847c4ef-d8bf-4d8a-8330-64ece9521936",
   "metadata": {},
   "outputs": [],
   "source": [
    "x3 = model_int8.relu(x2)\n",
    "x3"
   ]
  },
  {
   "cell_type": "code",
   "execution_count": null,
   "id": "97173297-3b8e-45e2-a53e-68498c326001",
   "metadata": {},
   "outputs": [],
   "source": [
    "model_int8.lin2"
   ]
  },
  {
   "cell_type": "code",
   "execution_count": null,
   "id": "a5d898ba-7bdc-49d0-939b-41b5d5b69e22",
   "metadata": {},
   "outputs": [],
   "source": [
    "x4 = model_int8.lin2(x3)\n",
    "x4[:10]"
   ]
  },
  {
   "cell_type": "code",
   "execution_count": null,
   "id": "2a8299b6-2f45-4f24-91d8-fac3c76040ef",
   "metadata": {},
   "outputs": [],
   "source": [
    "model_int8.dequant"
   ]
  },
  {
   "cell_type": "code",
   "execution_count": null,
   "id": "5e7d37bf-2482-4542-97a3-065e61d14dd1",
   "metadata": {},
   "outputs": [],
   "source": [
    "x5 = model_int8.dequant(x4)"
   ]
  },
  {
   "cell_type": "code",
   "execution_count": null,
   "id": "68cb30e2-f729-4017-b3b5-bd810125c276",
   "metadata": {},
   "outputs": [],
   "source": [
    "plt.scatter(data[\"target\"], x5[:, 0])"
   ]
  },
  {
   "cell_type": "code",
   "execution_count": null,
   "id": "f6472595",
   "metadata": {},
   "outputs": [],
   "source": []
  },
  {
   "cell_type": "code",
   "execution_count": null,
   "id": "fc50a2ad",
   "metadata": {},
   "outputs": [],
   "source": [
    "import torch\n",
    "import torch.ao.quantization as quantization\n",
    "\n",
    "# Define the global QConfig with custom settings\n",
    "qconfig = quantization.QConfig(\n",
    "    activation=quantization.MinMaxObserver.with_args(\n",
    "        dtype=torch.quint8,  # Change to torch.qint8 if needed\n",
    "        qscheme=torch.per_tensor_symmetric  # Change to torch.per_tensor_affine for asymmetric quantization\n",
    "    ),\n",
    "    weight=quantization.default_observer.with_args(\n",
    "        dtype=torch.qint8  # You can change the data type here if needed\n",
    "    )\n",
    ")\n",
    "\n",
    "model_fp32.qconfig = qconfig\n",
    "\n",
    "# Prepare the model for static quantization. This inserts observers in\n",
    "# the model that will observe activation tensors during calibration.\n",
    "model_fp32_prepared = torch.ao.quantization.prepare(model_fp32)\n",
    "\n",
    "input_fp32 = torch.tensor(data[\"data\"]).to(torch.float)\n",
    "\n",
    "# calibrate the prepared model to determine quantization parameters for activations\n",
    "# in a real world setting, the calibration would be done with a representative dataset\n",
    "model_fp32_prepared(input_fp32)\n",
    "\n",
    "# Convert the observed model to a quantized model. This does several things:\n",
    "# quantizes the weights, computes and stores the scale and bias value to be\n",
    "# used with each activation tensor, and replaces key operators with quantized\n",
    "# implementations.\n",
    "model_int8 = torch.ao.quantization.convert(model_fp32_prepared)\n",
    "\n",
    "# Quantize the input tensor to match the expected data type of the quantized model\n",
    "# This ensures compatibility between the input tensor and the quantized model\n",
    "quantizer = torch.ao.quantization.QuantStub()\n",
    "input_int8 = quantizer(input_fp32)\n",
    "\n",
    "# Run the quantized model\n",
    "out_quantized = model_int8(input_int8)[:, 0]\n"
   ]
  },
  {
   "cell_type": "code",
   "execution_count": null,
   "id": "2433c542",
   "metadata": {},
   "outputs": [],
   "source": [
    "import torch\n",
    "import torch.ao.quantization as quantization\n",
    "\n",
    "# Define a custom observer for L2Norm calibration\n",
    "class L2NormObserver(quantization.ObserverBase):\n",
    "    def __init__(self, dtype=torch.quint8, averaging_constant=0.1):\n",
    "        super(L2NormObserver, self).__init__(dtype=dtype)\n",
    "        self.averaging_constant = averaging_constant\n",
    "        self.num_activations = 1  # Track the number of activations observed\n",
    "        self.sum = 0.0\n",
    "        self.sum_square = 0.0\n",
    "\n",
    "    def forward(self, x_orig):\n",
    "        x = x_orig.detach()  # Ensure no gradient is backpropagated through this operation\n",
    "        x = x.view(-1)  # Flatten the tensor to 1D\n",
    "        self.num_activations += x.size(0)\n",
    "        self.sum += x.sum().item()\n",
    "        self.sum_square += (x ** 2).sum().item()\n",
    "\n",
    "    def calculate_qparams(self):\n",
    "        N = self.num_activations\n",
    "        sum_val = self.sum\n",
    "        sum_square_val = self.sum_square\n",
    "\n",
    "        mean = sum_val / N\n",
    "        var = sum_square_val / N - mean ** 2\n",
    "        std = max(torch.tensor(var, dtype=torch.float32).sqrt(),\n",
    "                  torch.tensor(self.averaging_constant, dtype=torch.float32))\n",
    "\n",
    "        scale = (std / 127.0).clamp(1e-8, 1e-4)\n",
    "        zero_point = torch.tensor(0, dtype=torch.int32)\n",
    "\n",
    "        return scale, zero_point\n",
    "\n",
    "# Define the global QConfig with custom settings including L2Norm calibration\n",
    "qconfig = quantization.QConfig(\n",
    "    activation=L2NormObserver.with_args(\n",
    "        dtype=torch.quint8,  # Change to torch.qint8 if needed\n",
    "        averaging_constant=0.1\n",
    "    ),\n",
    "    weight=quantization.default_observer.with_args(\n",
    "        dtype=torch.qint8  # You can change the data type here if needed\n",
    "    )\n",
    ")\n",
    "\n",
    "# Modify model_fp32.qconfig to use the global QConfig\n",
    "model_fp32.qconfig = qconfig\n",
    "\n",
    "# Prepare the model for static quantization. This inserts observers in\n",
    "# the model that will observe activation tensors during calibration.\n",
    "model_fp32_prepared = torch.ao.quantization.prepare(model_fp32)\n",
    "\n",
    "input_fp32 = torch.tensor(data[\"data\"]).to(torch.float)\n",
    "\n",
    "# calibrate the prepared model to determine quantization parameters for activations\n",
    "# in a real world setting, the calibration would be done with a representative dataset\n",
    "model_fp32_prepared(input_fp32)\n",
    "\n",
    "# Convert the observed model to a quantized model. This does several things:\n",
    "# quantizes the weights, computes and stores the scale and bias value to be\n",
    "# used with each activation tensor, and replaces key operators with quantized\n",
    "# implementations.\n",
    "model_int8 = torch.ao.quantization.convert(model_fp32_prepared)\n",
    "\n",
    "# Quantize the input tensor to match the expected data type of the quantized model\n",
    "# This ensures compatibility between the input tensor and the quantized model\n",
    "quantizer = torch.ao.quantization.QuantStub()\n",
    "input_int8 = quantizer(input_fp32)\n",
    "\n",
    "# Run the quantized model\n",
    "out_quantized = model_int8(input_int8)[:, 0]\n"
   ]
  }
 ],
 "metadata": {
  "kernelspec": {
   "display_name": "Python 3 (ipykernel)",
   "language": "python",
   "name": "python3"
  },
  "language_info": {
   "codemirror_mode": {
    "name": "ipython",
    "version": 3
   },
   "file_extension": ".py",
   "mimetype": "text/x-python",
   "name": "python",
   "nbconvert_exporter": "python",
   "pygments_lexer": "ipython3",
   "version": "3.9.12"
  }
 },
 "nbformat": 4,
 "nbformat_minor": 5
}
