{
 "cells": [
  {
   "cell_type": "markdown",
   "id": "9b119663",
   "metadata": {},
   "source": [
    "# Dynamic Quantization\n",
    "https://pytorch.org/tutorials/recipes/recipes/dynamic_quantization.html#do-the-quantization\n",
    "An example of how to take advantage of Dynamic Quantization to accelerate inference on an LSTM-style recurrent Neural Network.\n",
    "\n",
    "--> This reduces the size of the model weights and speeds up model execution."
   ]
  },
  {
   "cell_type": "markdown",
   "id": "1713cbbd",
   "metadata": {},
   "source": [
    "### Introduction"
   ]
  },
  {
   "cell_type": "markdown",
   "id": "f3928185",
   "metadata": {},
   "source": [
    "There are a number of trade-offs that can be made when designing neural networks. During model development and training you can alter the number of layers and number of parameters in a recurrent neural network and trade-off accuracy against model size and/or model latency or throughput. Such changes can take lot of time and compute resources because you are iterating over the model training. Quantization gives you a way to make a similar trade off between performance and model accuracy with a known model after training is completed.\n",
    "\n"
   ]
  },
  {
   "cell_type": "markdown",
   "id": "45d3d765",
   "metadata": {},
   "source": [
    "### What is Dynamic Quantization?\n",
    "* Quantizing a network means converting it to sue a reduced precision integer representation for the weigths and/or activations.\n",
    "* This saves on model size and allows the use of heigher throughput math operations on your CPU and GPU.\n"
   ]
  },
  {
   "cell_type": "code",
   "execution_count": null,
   "id": "db6afb5a",
   "metadata": {},
   "outputs": [],
   "source": []
  }
 ],
 "metadata": {
  "kernelspec": {
   "display_name": "Python 3 (ipykernel)",
   "language": "python",
   "name": "python3"
  },
  "language_info": {
   "codemirror_mode": {
    "name": "ipython",
    "version": 3
   },
   "file_extension": ".py",
   "mimetype": "text/x-python",
   "name": "python",
   "nbconvert_exporter": "python",
   "pygments_lexer": "ipython3",
   "version": "3.11.5"
  }
 },
 "nbformat": 4,
 "nbformat_minor": 5
}
